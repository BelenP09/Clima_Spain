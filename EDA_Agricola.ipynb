{
 "cells": [
  {
   "cell_type": "markdown",
   "id": "cc4c5506",
   "metadata": {},
   "source": [
    "# Análisis Exploratorio de Datos Climáticos para Agricultura\n",
    "\n",
    "## Estudio del Impacto Climático en la Agricultura Española\n",
    "\n",
    "### Objetivos del Análisis:\n",
    "1. **Caracterización climática**: Identificar patrones de temperatura, precipitación y otros factores climáticos\n",
    "2. **Zonificación agroclimática**: Definir zonas con características similares para diferentes cultivos\n",
    "3. **Análisis de riesgos**: Identificar eventos extremos que afecten la agricultura\n",
    "4. **Tendencias temporales**: Evaluar cambios climáticos a largo plazo\n",
    "5. **Índices agroclimáticos**: Calcular indicadores específicos para la agricultura\n",
    "\n",
    "---"
   ]
  },
  {
   "cell_type": "markdown",
   "id": "58066dc8",
   "metadata": {},
   "source": [
    "## 1. Importación de Librerías y Configuración"
   ]
  },
  {
   "cell_type": "code",
   "execution_count": null,
   "id": "85a5769d",
   "metadata": {},
   "outputs": [
    {
     "name": "stdout",
     "output_type": "stream",
     "text": [
      "Librerías importadas correctamente\n"
     ]
    }
   ],
   "source": [
    "# Librerías básicas\n",
    "import pandas as pd\n",
    "import numpy as np\n",
    "import matplotlib.pyplot as plt\n",
    "import seaborn as sns\n",
    "import plotly.express as px\n",
    "import plotly.graph_objects as go\n",
    "from plotly.subplots import make_subplots\n",
    "import plotly.figure_factory as ff\n",
    "import warnings\n",
    "warnings.filterwarnings('ignore')\n",
    "\n",
    "# Configuración de visualización para matplotlib (por si se necesita)\n",
    "plt.rcParams['figure.figsize'] = (12, 8)\n",
    "plt.rcParams['font.size'] = 12\n",
    "sns.set_style(\"whitegrid\")\n",
    "sns.set_palette(\"viridis\")\n",
    "\n",
    "# Configuración de Plotly\n",
    "import plotly.io as pio\n",
    "pio.renderers.default = \"browser\"  # Para mostrar en navegador si es necesario\n",
    "\n",
    "# Configuración para mostrar todas las columnas\n",
    "pd.set_option('display.max_columns', None)\n",
    "pd.set_option('display.max_rows', 100)\n",
    "\n",
    "print(\"✓ Librerías importadas correctamente\")\n",
    "print(\"✓ Plotly configurado para gráficos interactivos\")\n",
    "print(\"✓ Pandas configurado para visualización completa\")"
   ]
  },
  {
   "cell_type": "markdown",
   "id": "04dd7bcf",
   "metadata": {},
   "source": [
    "## 2. Carga y Exploración Inicial de los Datos"
   ]
  },
  {
   "cell_type": "code",
   "execution_count": 2,
   "id": "af9992a8",
   "metadata": {},
   "outputs": [
    {
     "name": "stdout",
     "output_type": "stream",
     "text": [
      "=== INFORMACIÓN GENERAL DEL DATASET ===\n",
      "Dimensiones: (1619312, 19)\n",
      "Período de datos: 1901-01-01 00:00:00 a 2025-07-13 00:00:00\n",
      "Número de estaciones: 88\n",
      "Años de datos: 125\n"
     ]
    },
    {
     "data": {
      "text/html": [
       "<div>\n",
       "<style scoped>\n",
       "    .dataframe tbody tr th:only-of-type {\n",
       "        vertical-align: middle;\n",
       "    }\n",
       "\n",
       "    .dataframe tbody tr th {\n",
       "        vertical-align: top;\n",
       "    }\n",
       "\n",
       "    .dataframe thead th {\n",
       "        text-align: right;\n",
       "    }\n",
       "</style>\n",
       "<table border=\"1\" class=\"dataframe\">\n",
       "  <thead>\n",
       "    <tr style=\"text-align: right;\">\n",
       "      <th></th>\n",
       "      <th>STATION</th>\n",
       "      <th>DATE</th>\n",
       "      <th>LATITUDE</th>\n",
       "      <th>LONGITUDE</th>\n",
       "      <th>ELEVATION</th>\n",
       "      <th>NAME</th>\n",
       "      <th>PRCP</th>\n",
       "      <th>PRCP_ATTRIBUTES</th>\n",
       "      <th>SNWD</th>\n",
       "      <th>SNWD_ATTRIBUTES</th>\n",
       "      <th>TMAX</th>\n",
       "      <th>TMAX_ATTRIBUTES</th>\n",
       "      <th>TMIN</th>\n",
       "      <th>TMIN_ATTRIBUTES</th>\n",
       "      <th>TAVG</th>\n",
       "      <th>TAVG_ATTRIBUTES</th>\n",
       "      <th>TEMPERATURA_MEDIA</th>\n",
       "      <th>TMAX_C</th>\n",
       "      <th>TMIN_C</th>\n",
       "    </tr>\n",
       "  </thead>\n",
       "  <tbody>\n",
       "    <tr>\n",
       "      <th>0</th>\n",
       "      <td>SP000006155</td>\n",
       "      <td>1942-05-01</td>\n",
       "      <td>36.6667</td>\n",
       "      <td>-4.4881</td>\n",
       "      <td>7.0</td>\n",
       "      <td>MALAGA AEROPUERTO, SP</td>\n",
       "      <td>9.0</td>\n",
       "      <td>,,E</td>\n",
       "      <td>0.0</td>\n",
       "      <td>,,E</td>\n",
       "      <td>230.0</td>\n",
       "      <td>,,E</td>\n",
       "      <td>156.0</td>\n",
       "      <td>,,E</td>\n",
       "      <td>0.0</td>\n",
       "      <td>,,E</td>\n",
       "      <td>193.0</td>\n",
       "      <td>23.0</td>\n",
       "      <td>15.6</td>\n",
       "    </tr>\n",
       "    <tr>\n",
       "      <th>1</th>\n",
       "      <td>SP000006155</td>\n",
       "      <td>1942-05-02</td>\n",
       "      <td>36.6667</td>\n",
       "      <td>-4.4881</td>\n",
       "      <td>7.0</td>\n",
       "      <td>MALAGA AEROPUERTO, SP</td>\n",
       "      <td>0.0</td>\n",
       "      <td>,,E</td>\n",
       "      <td>0.0</td>\n",
       "      <td>,,E</td>\n",
       "      <td>255.0</td>\n",
       "      <td>,,E</td>\n",
       "      <td>145.0</td>\n",
       "      <td>,,E</td>\n",
       "      <td>0.0</td>\n",
       "      <td>,,E</td>\n",
       "      <td>200.0</td>\n",
       "      <td>25.5</td>\n",
       "      <td>14.5</td>\n",
       "    </tr>\n",
       "    <tr>\n",
       "      <th>2</th>\n",
       "      <td>SP000006155</td>\n",
       "      <td>1942-05-03</td>\n",
       "      <td>36.6667</td>\n",
       "      <td>-4.4881</td>\n",
       "      <td>7.0</td>\n",
       "      <td>MALAGA AEROPUERTO, SP</td>\n",
       "      <td>0.0</td>\n",
       "      <td>,,E</td>\n",
       "      <td>0.0</td>\n",
       "      <td>,,E</td>\n",
       "      <td>185.0</td>\n",
       "      <td>,,E</td>\n",
       "      <td>128.0</td>\n",
       "      <td>,,E</td>\n",
       "      <td>0.0</td>\n",
       "      <td>,,E</td>\n",
       "      <td>156.5</td>\n",
       "      <td>18.5</td>\n",
       "      <td>12.8</td>\n",
       "    </tr>\n",
       "    <tr>\n",
       "      <th>3</th>\n",
       "      <td>SP000006155</td>\n",
       "      <td>1942-05-04</td>\n",
       "      <td>36.6667</td>\n",
       "      <td>-4.4881</td>\n",
       "      <td>7.0</td>\n",
       "      <td>MALAGA AEROPUERTO, SP</td>\n",
       "      <td>0.0</td>\n",
       "      <td>,,E</td>\n",
       "      <td>0.0</td>\n",
       "      <td>,,E</td>\n",
       "      <td>186.0</td>\n",
       "      <td>,,E</td>\n",
       "      <td>102.0</td>\n",
       "      <td>,,E</td>\n",
       "      <td>0.0</td>\n",
       "      <td>,,E</td>\n",
       "      <td>144.0</td>\n",
       "      <td>18.6</td>\n",
       "      <td>10.2</td>\n",
       "    </tr>\n",
       "    <tr>\n",
       "      <th>4</th>\n",
       "      <td>SP000006155</td>\n",
       "      <td>1942-05-05</td>\n",
       "      <td>36.6667</td>\n",
       "      <td>-4.4881</td>\n",
       "      <td>7.0</td>\n",
       "      <td>MALAGA AEROPUERTO, SP</td>\n",
       "      <td>0.0</td>\n",
       "      <td>,,E</td>\n",
       "      <td>0.0</td>\n",
       "      <td>,,E</td>\n",
       "      <td>186.0</td>\n",
       "      <td>,,E</td>\n",
       "      <td>119.0</td>\n",
       "      <td>,,E</td>\n",
       "      <td>0.0</td>\n",
       "      <td>,,E</td>\n",
       "      <td>152.5</td>\n",
       "      <td>18.6</td>\n",
       "      <td>11.9</td>\n",
       "    </tr>\n",
       "  </tbody>\n",
       "</table>\n",
       "</div>"
      ],
      "text/plain": [
       "       STATION       DATE  LATITUDE  LONGITUDE  ELEVATION  \\\n",
       "0  SP000006155 1942-05-01   36.6667    -4.4881        7.0   \n",
       "1  SP000006155 1942-05-02   36.6667    -4.4881        7.0   \n",
       "2  SP000006155 1942-05-03   36.6667    -4.4881        7.0   \n",
       "3  SP000006155 1942-05-04   36.6667    -4.4881        7.0   \n",
       "4  SP000006155 1942-05-05   36.6667    -4.4881        7.0   \n",
       "\n",
       "                    NAME  PRCP PRCP_ATTRIBUTES  SNWD SNWD_ATTRIBUTES   TMAX  \\\n",
       "0  MALAGA AEROPUERTO, SP   9.0             ,,E   0.0             ,,E  230.0   \n",
       "1  MALAGA AEROPUERTO, SP   0.0             ,,E   0.0             ,,E  255.0   \n",
       "2  MALAGA AEROPUERTO, SP   0.0             ,,E   0.0             ,,E  185.0   \n",
       "3  MALAGA AEROPUERTO, SP   0.0             ,,E   0.0             ,,E  186.0   \n",
       "4  MALAGA AEROPUERTO, SP   0.0             ,,E   0.0             ,,E  186.0   \n",
       "\n",
       "  TMAX_ATTRIBUTES   TMIN TMIN_ATTRIBUTES  TAVG TAVG_ATTRIBUTES  \\\n",
       "0             ,,E  156.0             ,,E   0.0             ,,E   \n",
       "1             ,,E  145.0             ,,E   0.0             ,,E   \n",
       "2             ,,E  128.0             ,,E   0.0             ,,E   \n",
       "3             ,,E  102.0             ,,E   0.0             ,,E   \n",
       "4             ,,E  119.0             ,,E   0.0             ,,E   \n",
       "\n",
       "   TEMPERATURA_MEDIA  TMAX_C  TMIN_C  \n",
       "0              193.0    23.0    15.6  \n",
       "1              200.0    25.5    14.5  \n",
       "2              156.5    18.5    12.8  \n",
       "3              144.0    18.6    10.2  \n",
       "4              152.5    18.6    11.9  "
      ]
     },
     "execution_count": 2,
     "metadata": {},
     "output_type": "execute_result"
    }
   ],
   "source": [
    "# Cargar los datos climáticos limpios\n",
    "clima_df = pd.read_csv(r'C:\\Users\\Usuario\\Documents\\GitHub\\Clima_Spain\\Data\\Base de datos\\clima_limpio.csv')\n",
    "\n",
    "# Convertir DATE a datetime\n",
    "clima_df['DATE'] = pd.to_datetime(clima_df['DATE'])\n",
    "\n",
    "# Información básica del dataset\n",
    "print(\"=== INFORMACIÓN GENERAL DEL DATASET ===\")\n",
    "print(f\"Dimensiones: {clima_df.shape}\")\n",
    "print(f\"Período de datos: {clima_df['DATE'].min()} a {clima_df['DATE'].max()}\")\n",
    "print(f\"Número de estaciones: {clima_df['STATION'].nunique()}\")\n",
    "print(f\"Años de datos: {clima_df['DATE'].dt.year.nunique()}\")\n",
    "\n",
    "clima_df.head()"
   ]
  },
  {
   "cell_type": "code",
   "execution_count": 3,
   "id": "e948b573",
   "metadata": {},
   "outputs": [
    {
     "name": "stdout",
     "output_type": "stream",
     "text": [
      "=== INFORMACIÓN DE LAS VARIABLES ===\n",
      "<class 'pandas.core.frame.DataFrame'>\n",
      "RangeIndex: 1619312 entries, 0 to 1619311\n",
      "Data columns (total 19 columns):\n",
      " #   Column             Non-Null Count    Dtype         \n",
      "---  ------             --------------    -----         \n",
      " 0   STATION            1619312 non-null  object        \n",
      " 1   DATE               1619312 non-null  datetime64[ns]\n",
      " 2   LATITUDE           1619312 non-null  float64       \n",
      " 3   LONGITUDE          1619312 non-null  float64       \n",
      " 4   ELEVATION          1619312 non-null  float64       \n",
      " 5   NAME               1619312 non-null  object        \n",
      " 6   PRCP               1619312 non-null  float64       \n",
      " 7   PRCP_ATTRIBUTES    1619312 non-null  object        \n",
      " 8   SNWD               1619312 non-null  float64       \n",
      " 9   SNWD_ATTRIBUTES    1619312 non-null  object        \n",
      " 10  TMAX               1619312 non-null  float64       \n",
      " 11  TMAX_ATTRIBUTES    1619312 non-null  object        \n",
      " 12  TMIN               1619312 non-null  float64       \n",
      " 13  TMIN_ATTRIBUTES    1619312 non-null  object        \n",
      " 14  TAVG               1619312 non-null  float64       \n",
      " 15  TAVG_ATTRIBUTES    1619312 non-null  object        \n",
      " 16  TEMPERATURA_MEDIA  1619312 non-null  float64       \n",
      " 17  TMAX_C             1619312 non-null  float64       \n",
      " 18  TMIN_C             1619312 non-null  float64       \n",
      "dtypes: datetime64[ns](1), float64(11), object(7)\n",
      "memory usage: 234.7+ MB\n",
      "None\n",
      "\n",
      "=== ESTADÍSTICAS DESCRIPTIVAS ===\n",
      "<class 'pandas.core.frame.DataFrame'>\n",
      "RangeIndex: 1619312 entries, 0 to 1619311\n",
      "Data columns (total 19 columns):\n",
      " #   Column             Non-Null Count    Dtype         \n",
      "---  ------             --------------    -----         \n",
      " 0   STATION            1619312 non-null  object        \n",
      " 1   DATE               1619312 non-null  datetime64[ns]\n",
      " 2   LATITUDE           1619312 non-null  float64       \n",
      " 3   LONGITUDE          1619312 non-null  float64       \n",
      " 4   ELEVATION          1619312 non-null  float64       \n",
      " 5   NAME               1619312 non-null  object        \n",
      " 6   PRCP               1619312 non-null  float64       \n",
      " 7   PRCP_ATTRIBUTES    1619312 non-null  object        \n",
      " 8   SNWD               1619312 non-null  float64       \n",
      " 9   SNWD_ATTRIBUTES    1619312 non-null  object        \n",
      " 10  TMAX               1619312 non-null  float64       \n",
      " 11  TMAX_ATTRIBUTES    1619312 non-null  object        \n",
      " 12  TMIN               1619312 non-null  float64       \n",
      " 13  TMIN_ATTRIBUTES    1619312 non-null  object        \n",
      " 14  TAVG               1619312 non-null  float64       \n",
      " 15  TAVG_ATTRIBUTES    1619312 non-null  object        \n",
      " 16  TEMPERATURA_MEDIA  1619312 non-null  float64       \n",
      " 17  TMAX_C             1619312 non-null  float64       \n",
      " 18  TMIN_C             1619312 non-null  float64       \n",
      "dtypes: datetime64[ns](1), float64(11), object(7)\n",
      "memory usage: 234.7+ MB\n",
      "None\n",
      "\n",
      "=== ESTADÍSTICAS DESCRIPTIVAS ===\n"
     ]
    },
    {
     "data": {
      "text/html": [
       "<div>\n",
       "<style scoped>\n",
       "    .dataframe tbody tr th:only-of-type {\n",
       "        vertical-align: middle;\n",
       "    }\n",
       "\n",
       "    .dataframe tbody tr th {\n",
       "        vertical-align: top;\n",
       "    }\n",
       "\n",
       "    .dataframe thead th {\n",
       "        text-align: right;\n",
       "    }\n",
       "</style>\n",
       "<table border=\"1\" class=\"dataframe\">\n",
       "  <thead>\n",
       "    <tr style=\"text-align: right;\">\n",
       "      <th></th>\n",
       "      <th>DATE</th>\n",
       "      <th>LATITUDE</th>\n",
       "      <th>LONGITUDE</th>\n",
       "      <th>ELEVATION</th>\n",
       "      <th>PRCP</th>\n",
       "      <th>SNWD</th>\n",
       "      <th>TMAX</th>\n",
       "      <th>TMIN</th>\n",
       "      <th>TAVG</th>\n",
       "      <th>TEMPERATURA_MEDIA</th>\n",
       "      <th>TMAX_C</th>\n",
       "      <th>TMIN_C</th>\n",
       "    </tr>\n",
       "  </thead>\n",
       "  <tbody>\n",
       "    <tr>\n",
       "      <th>count</th>\n",
       "      <td>1619312</td>\n",
       "      <td>1.619312e+06</td>\n",
       "      <td>1.619312e+06</td>\n",
       "      <td>1.619312e+06</td>\n",
       "      <td>1.619312e+06</td>\n",
       "      <td>1.619312e+06</td>\n",
       "      <td>1.619312e+06</td>\n",
       "      <td>1.619312e+06</td>\n",
       "      <td>1.619312e+06</td>\n",
       "      <td>1.619312e+06</td>\n",
       "      <td>1.619312e+06</td>\n",
       "      <td>1.619312e+06</td>\n",
       "    </tr>\n",
       "    <tr>\n",
       "      <th>mean</th>\n",
       "      <td>1988-12-04 15:08:02.178109824</td>\n",
       "      <td>3.973668e+01</td>\n",
       "      <td>-4.573825e+00</td>\n",
       "      <td>4.714559e+02</td>\n",
       "      <td>1.787636e+01</td>\n",
       "      <td>9.048960e-01</td>\n",
       "      <td>1.966606e+02</td>\n",
       "      <td>9.199206e+01</td>\n",
       "      <td>8.558080e+01</td>\n",
       "      <td>1.443263e+02</td>\n",
       "      <td>1.966606e+01</td>\n",
       "      <td>9.199206e+00</td>\n",
       "    </tr>\n",
       "    <tr>\n",
       "      <th>min</th>\n",
       "      <td>1901-01-01 00:00:00</td>\n",
       "      <td>2.830890e+01</td>\n",
       "      <td>-1.775500e+01</td>\n",
       "      <td>1.000000e+00</td>\n",
       "      <td>0.000000e+00</td>\n",
       "      <td>0.000000e+00</td>\n",
       "      <td>-1.910000e+02</td>\n",
       "      <td>-9.990000e+02</td>\n",
       "      <td>-1.390000e+02</td>\n",
       "      <td>-4.995000e+02</td>\n",
       "      <td>-1.910000e+01</td>\n",
       "      <td>-9.990000e+01</td>\n",
       "    </tr>\n",
       "    <tr>\n",
       "      <th>25%</th>\n",
       "      <td>1971-11-12 18:00:00</td>\n",
       "      <td>3.784420e+01</td>\n",
       "      <td>-6.256700e+00</td>\n",
       "      <td>4.330000e+01</td>\n",
       "      <td>0.000000e+00</td>\n",
       "      <td>0.000000e+00</td>\n",
       "      <td>1.400000e+02</td>\n",
       "      <td>4.200000e+01</td>\n",
       "      <td>0.000000e+00</td>\n",
       "      <td>9.350000e+01</td>\n",
       "      <td>1.400000e+01</td>\n",
       "      <td>4.200000e+00</td>\n",
       "    </tr>\n",
       "    <tr>\n",
       "      <th>50%</th>\n",
       "      <td>1992-02-08 00:00:00</td>\n",
       "      <td>4.110390e+01</td>\n",
       "      <td>-3.831400e+00</td>\n",
       "      <td>3.530000e+02</td>\n",
       "      <td>0.000000e+00</td>\n",
       "      <td>0.000000e+00</td>\n",
       "      <td>1.950000e+02</td>\n",
       "      <td>9.400000e+01</td>\n",
       "      <td>6.600000e+01</td>\n",
       "      <td>1.440000e+02</td>\n",
       "      <td>1.950000e+01</td>\n",
       "      <td>9.400000e+00</td>\n",
       "    </tr>\n",
       "    <tr>\n",
       "      <th>75%</th>\n",
       "      <td>2010-09-21 00:00:00</td>\n",
       "      <td>4.235580e+01</td>\n",
       "      <td>-1.863100e+00</td>\n",
       "      <td>6.870000e+02</td>\n",
       "      <td>2.000000e+00</td>\n",
       "      <td>0.000000e+00</td>\n",
       "      <td>2.550000e+02</td>\n",
       "      <td>1.440000e+02</td>\n",
       "      <td>1.630000e+02</td>\n",
       "      <td>1.970000e+02</td>\n",
       "      <td>2.550000e+01</td>\n",
       "      <td>1.440000e+01</td>\n",
       "    </tr>\n",
       "    <tr>\n",
       "      <th>max</th>\n",
       "      <td>2025-07-13 00:00:00</td>\n",
       "      <td>4.356670e+01</td>\n",
       "      <td>3.181700e+00</td>\n",
       "      <td>2.451000e+03</td>\n",
       "      <td>3.600000e+03</td>\n",
       "      <td>2.499000e+03</td>\n",
       "      <td>4.720000e+02</td>\n",
       "      <td>3.320000e+02</td>\n",
       "      <td>4.050000e+02</td>\n",
       "      <td>3.725000e+02</td>\n",
       "      <td>4.720000e+01</td>\n",
       "      <td>3.320000e+01</td>\n",
       "    </tr>\n",
       "    <tr>\n",
       "      <th>std</th>\n",
       "      <td>NaN</td>\n",
       "      <td>4.055896e+00</td>\n",
       "      <td>4.683389e+00</td>\n",
       "      <td>5.225629e+02</td>\n",
       "      <td>6.022845e+01</td>\n",
       "      <td>2.472597e+01</td>\n",
       "      <td>8.139397e+01</td>\n",
       "      <td>6.741668e+01</td>\n",
       "      <td>9.161103e+01</td>\n",
       "      <td>7.045844e+01</td>\n",
       "      <td>8.139397e+00</td>\n",
       "      <td>6.741668e+00</td>\n",
       "    </tr>\n",
       "  </tbody>\n",
       "</table>\n",
       "</div>"
      ],
      "text/plain": [
       "                                DATE      LATITUDE     LONGITUDE  \\\n",
       "count                        1619312  1.619312e+06  1.619312e+06   \n",
       "mean   1988-12-04 15:08:02.178109824  3.973668e+01 -4.573825e+00   \n",
       "min              1901-01-01 00:00:00  2.830890e+01 -1.775500e+01   \n",
       "25%              1971-11-12 18:00:00  3.784420e+01 -6.256700e+00   \n",
       "50%              1992-02-08 00:00:00  4.110390e+01 -3.831400e+00   \n",
       "75%              2010-09-21 00:00:00  4.235580e+01 -1.863100e+00   \n",
       "max              2025-07-13 00:00:00  4.356670e+01  3.181700e+00   \n",
       "std                              NaN  4.055896e+00  4.683389e+00   \n",
       "\n",
       "          ELEVATION          PRCP          SNWD          TMAX          TMIN  \\\n",
       "count  1.619312e+06  1.619312e+06  1.619312e+06  1.619312e+06  1.619312e+06   \n",
       "mean   4.714559e+02  1.787636e+01  9.048960e-01  1.966606e+02  9.199206e+01   \n",
       "min    1.000000e+00  0.000000e+00  0.000000e+00 -1.910000e+02 -9.990000e+02   \n",
       "25%    4.330000e+01  0.000000e+00  0.000000e+00  1.400000e+02  4.200000e+01   \n",
       "50%    3.530000e+02  0.000000e+00  0.000000e+00  1.950000e+02  9.400000e+01   \n",
       "75%    6.870000e+02  2.000000e+00  0.000000e+00  2.550000e+02  1.440000e+02   \n",
       "max    2.451000e+03  3.600000e+03  2.499000e+03  4.720000e+02  3.320000e+02   \n",
       "std    5.225629e+02  6.022845e+01  2.472597e+01  8.139397e+01  6.741668e+01   \n",
       "\n",
       "               TAVG  TEMPERATURA_MEDIA        TMAX_C        TMIN_C  \n",
       "count  1.619312e+06       1.619312e+06  1.619312e+06  1.619312e+06  \n",
       "mean   8.558080e+01       1.443263e+02  1.966606e+01  9.199206e+00  \n",
       "min   -1.390000e+02      -4.995000e+02 -1.910000e+01 -9.990000e+01  \n",
       "25%    0.000000e+00       9.350000e+01  1.400000e+01  4.200000e+00  \n",
       "50%    6.600000e+01       1.440000e+02  1.950000e+01  9.400000e+00  \n",
       "75%    1.630000e+02       1.970000e+02  2.550000e+01  1.440000e+01  \n",
       "max    4.050000e+02       3.725000e+02  4.720000e+01  3.320000e+01  \n",
       "std    9.161103e+01       7.045844e+01  8.139397e+00  6.741668e+00  "
      ]
     },
     "execution_count": 3,
     "metadata": {},
     "output_type": "execute_result"
    }
   ],
   "source": [
    "# Información detallada de las variables\n",
    "print(\"=== INFORMACIÓN DE LAS VARIABLES ===\")\n",
    "print(clima_df.info())\n",
    "print(\"\\n=== ESTADÍSTICAS DESCRIPTIVAS ===\")\n",
    "clima_df.describe()"
   ]
  },
  {
   "cell_type": "markdown",
   "id": "96a55550",
   "metadata": {},
   "source": [
    "## 3. Procesamiento de Datos para Análisis Agrícola"
   ]
  },
  {
   "cell_type": "code",
   "execution_count": 4,
   "id": "899c4354",
   "metadata": {},
   "outputs": [
    {
     "name": "stdout",
     "output_type": "stream",
     "text": [
      "Variables agroclimáticas creadas:\n",
      "- TMAX_C, TMIN_C, TAVG_C: Temperaturas en °C\n",
      "- TEMP_RANGE: Rango térmico diario\n",
      "- PRCP_MM: Precipitación en mm\n",
      "- SEASON: Estación del año\n",
      "- Variables temporales: YEAR, MONTH, DAY_OF_YEAR\n"
     ]
    }
   ],
   "source": [
    "# Crear variables derivadas importantes para agricultura\n",
    "clima_df['YEAR'] = clima_df['DATE'].dt.year\n",
    "clima_df['MONTH'] = clima_df['DATE'].dt.month\n",
    "clima_df['DAY_OF_YEAR'] = clima_df['DATE'].dt.dayofyear\n",
    "clima_df['SEASON'] = clima_df['MONTH'].map({\n",
    "    12: 'Invierno', 1: 'Invierno', 2: 'Invierno',\n",
    "    3: 'Primavera', 4: 'Primavera', 5: 'Primavera',\n",
    "    6: 'Verano', 7: 'Verano', 8: 'Verano',\n",
    "    9: 'Otoño', 10: 'Otoño', 11: 'Otoño'\n",
    "})\n",
    "\n",
    "# Convertir temperaturas de décimos de grado a grados Celsius\n",
    "clima_df['TMAX_C'] = clima_df['TMAX'] / 10\n",
    "clima_df['TMIN_C'] = clima_df['TMIN'] / 10\n",
    "clima_df['TAVG_C'] = clima_df['TAVG'] / 10\n",
    "\n",
    "# Rango térmico diario (importante para muchos cultivos)\n",
    "clima_df['TEMP_RANGE'] = clima_df['TMAX_C'] - clima_df['TMIN_C']\n",
    "\n",
    "# Precipitación en mm (ya está en décimos de mm, convertir a mm)\n",
    "clima_df['PRCP_MM'] = clima_df['PRCP'] / 10\n",
    "\n",
    "# Nieve en mm\n",
    "clima_df['SNWD_MM'] = clima_df['SNWD']\n",
    "\n",
    "print(\"Variables agroclimáticas creadas:\")\n",
    "print(\"- TMAX_C, TMIN_C, TAVG_C: Temperaturas en °C\")\n",
    "print(\"- TEMP_RANGE: Rango térmico diario\")\n",
    "print(\"- PRCP_MM: Precipitación en mm\")\n",
    "print(\"- SEASON: Estación del año\")\n",
    "print(\"- Variables temporales: YEAR, MONTH, DAY_OF_YEAR\")"
   ]
  },
  {
   "cell_type": "markdown",
   "id": "0834b542",
   "metadata": {},
   "source": [
    "## 4. Índices Agroclimáticos Especializados"
   ]
  },
  {
   "cell_type": "code",
   "execution_count": 5,
   "id": "0f9d1af5",
   "metadata": {},
   "outputs": [
    {
     "name": "stdout",
     "output_type": "stream",
     "text": [
      "Índices agroclimáticos calculados:\n",
      "- GDD_10, GDD_5: Grados día de crecimiento\n",
      "- FROST_DAY: Días con heladas\n",
      "- HEAT_STRESS_DAY: Días con calor extremo\n",
      "- RAIN_DAY, HEAVY_RAIN_DAY: Días con lluvia\n",
      "- HEAT_STRESS_INDEX, COLD_STRESS_INDEX: Índices de estrés\n"
     ]
    },
    {
     "data": {
      "text/html": [
       "<div>\n",
       "<style scoped>\n",
       "    .dataframe tbody tr th:only-of-type {\n",
       "        vertical-align: middle;\n",
       "    }\n",
       "\n",
       "    .dataframe tbody tr th {\n",
       "        vertical-align: top;\n",
       "    }\n",
       "\n",
       "    .dataframe thead th {\n",
       "        text-align: right;\n",
       "    }\n",
       "</style>\n",
       "<table border=\"1\" class=\"dataframe\">\n",
       "  <thead>\n",
       "    <tr style=\"text-align: right;\">\n",
       "      <th></th>\n",
       "      <th>DATE</th>\n",
       "      <th>TMAX_C</th>\n",
       "      <th>TMIN_C</th>\n",
       "      <th>TAVG_C</th>\n",
       "      <th>PRCP_MM</th>\n",
       "      <th>GDD_10</th>\n",
       "      <th>FROST_DAY</th>\n",
       "    </tr>\n",
       "  </thead>\n",
       "  <tbody>\n",
       "    <tr>\n",
       "      <th>0</th>\n",
       "      <td>1942-05-01</td>\n",
       "      <td>23.0</td>\n",
       "      <td>15.6</td>\n",
       "      <td>0.0</td>\n",
       "      <td>0.9</td>\n",
       "      <td>0.0</td>\n",
       "      <td>0</td>\n",
       "    </tr>\n",
       "    <tr>\n",
       "      <th>1</th>\n",
       "      <td>1942-05-02</td>\n",
       "      <td>25.5</td>\n",
       "      <td>14.5</td>\n",
       "      <td>0.0</td>\n",
       "      <td>0.0</td>\n",
       "      <td>0.0</td>\n",
       "      <td>0</td>\n",
       "    </tr>\n",
       "    <tr>\n",
       "      <th>2</th>\n",
       "      <td>1942-05-03</td>\n",
       "      <td>18.5</td>\n",
       "      <td>12.8</td>\n",
       "      <td>0.0</td>\n",
       "      <td>0.0</td>\n",
       "      <td>0.0</td>\n",
       "      <td>0</td>\n",
       "    </tr>\n",
       "    <tr>\n",
       "      <th>3</th>\n",
       "      <td>1942-05-04</td>\n",
       "      <td>18.6</td>\n",
       "      <td>10.2</td>\n",
       "      <td>0.0</td>\n",
       "      <td>0.0</td>\n",
       "      <td>0.0</td>\n",
       "      <td>0</td>\n",
       "    </tr>\n",
       "    <tr>\n",
       "      <th>4</th>\n",
       "      <td>1942-05-05</td>\n",
       "      <td>18.6</td>\n",
       "      <td>11.9</td>\n",
       "      <td>0.0</td>\n",
       "      <td>0.0</td>\n",
       "      <td>0.0</td>\n",
       "      <td>0</td>\n",
       "    </tr>\n",
       "  </tbody>\n",
       "</table>\n",
       "</div>"
      ],
      "text/plain": [
       "        DATE  TMAX_C  TMIN_C  TAVG_C  PRCP_MM  GDD_10  FROST_DAY\n",
       "0 1942-05-01    23.0    15.6     0.0      0.9     0.0          0\n",
       "1 1942-05-02    25.5    14.5     0.0      0.0     0.0          0\n",
       "2 1942-05-03    18.5    12.8     0.0      0.0     0.0          0\n",
       "3 1942-05-04    18.6    10.2     0.0      0.0     0.0          0\n",
       "4 1942-05-05    18.6    11.9     0.0      0.0     0.0          0"
      ]
     },
     "execution_count": 5,
     "metadata": {},
     "output_type": "execute_result"
    }
   ],
   "source": [
    "def calculate_agricultural_indices(df):\n",
    "    \"\"\"\n",
    "    Calcula índices agroclimáticos importantes\n",
    "    \"\"\"\n",
    "    # Grados día de crecimiento (GDD) - Base 10°C\n",
    "    df['GDD_10'] = np.maximum(0, df['TAVG_C'] - 10)\n",
    "    \n",
    "    # Grados día de crecimiento - Base 5°C (para cultivos de clima frío)\n",
    "    df['GDD_5'] = np.maximum(0, df['TAVG_C'] - 5)\n",
    "    \n",
    "    # Días con heladas (temperatura mínima <= 0°C)\n",
    "    df['FROST_DAY'] = (df['TMIN_C'] <= 0).astype(int)\n",
    "    \n",
    "    # Días con calor extremo (temperatura máxima >= 35°C)\n",
    "    df['HEAT_STRESS_DAY'] = (df['TMAX_C'] >= 35).astype(int)\n",
    "    \n",
    "    # Días secos (precipitación = 0)\n",
    "    df['DRY_DAY'] = (df['PRCP_MM'] == 0).astype(int)\n",
    "    \n",
    "    # Días con lluvia significativa (>= 1mm)\n",
    "    df['RAIN_DAY'] = (df['PRCP_MM'] >= 1).astype(int)\n",
    "    \n",
    "    # Días con lluvia intensa (>= 10mm)\n",
    "    df['HEAVY_RAIN_DAY'] = (df['PRCP_MM'] >= 10).astype(int)\n",
    "    \n",
    "    # Índice de estrés térmico (temperatura máxima - temperatura óptima)\n",
    "    # Asumiendo temperatura óptima de 25°C para muchos cultivos\n",
    "    df['HEAT_STRESS_INDEX'] = np.maximum(0, df['TMAX_C'] - 25)\n",
    "    \n",
    "    # Índice de frío (temperatura mínima por debajo de 5°C)\n",
    "    df['COLD_STRESS_INDEX'] = np.maximum(0, 5 - df['TMIN_C'])\n",
    "    \n",
    "    return df\n",
    "\n",
    "# Aplicar el cálculo de índices\n",
    "clima_df = calculate_agricultural_indices(clima_df)\n",
    "\n",
    "print(\"Índices agroclimáticos calculados:\")\n",
    "print(\"- GDD_10, GDD_5: Grados día de crecimiento\")\n",
    "print(\"- FROST_DAY: Días con heladas\")\n",
    "print(\"- HEAT_STRESS_DAY: Días con calor extremo\")\n",
    "print(\"- RAIN_DAY, HEAVY_RAIN_DAY: Días con lluvia\")\n",
    "print(\"- HEAT_STRESS_INDEX, COLD_STRESS_INDEX: Índices de estrés\")\n",
    "\n",
    "clima_df[['DATE', 'TMAX_C', 'TMIN_C', 'TAVG_C', 'PRCP_MM', 'GDD_10', 'FROST_DAY']].head()"
   ]
  },
  {
   "cell_type": "markdown",
   "id": "f16f62c1",
   "metadata": {},
   "source": [
    "## 5. Análisis de Distribución Geográfica de las Estaciones"
   ]
  },
  {
   "cell_type": "code",
   "execution_count": 6,
   "id": "443276b6",
   "metadata": {},
   "outputs": [
    {
     "name": "stdout",
     "output_type": "stream",
     "text": [
      "Total de estaciones meteorológicas: 88\n",
      "\n",
      "Distribución por elevación:\n",
      "Mínima: 1 m\n",
      "Máxima: 2451 m\n",
      "Media: 478 m\n",
      "\n",
      "\n",
      "Distribución por elevación:\n",
      "Mínima: 1 m\n",
      "Máxima: 2451 m\n",
      "Media: 478 m\n"
     ]
    },
    {
     "data": {
      "text/html": [
       "<div>\n",
       "<style scoped>\n",
       "    .dataframe tbody tr th:only-of-type {\n",
       "        vertical-align: middle;\n",
       "    }\n",
       "\n",
       "    .dataframe tbody tr th {\n",
       "        vertical-align: top;\n",
       "    }\n",
       "\n",
       "    .dataframe thead th {\n",
       "        text-align: right;\n",
       "    }\n",
       "</style>\n",
       "<table border=\"1\" class=\"dataframe\">\n",
       "  <thead>\n",
       "    <tr style=\"text-align: right;\">\n",
       "      <th></th>\n",
       "      <th>STATION</th>\n",
       "      <th>LATITUDE</th>\n",
       "      <th>LONGITUDE</th>\n",
       "      <th>ELEVATION</th>\n",
       "      <th>NAME</th>\n",
       "      <th>DATE_START</th>\n",
       "      <th>DATE_END</th>\n",
       "      <th>TOTAL_RECORDS</th>\n",
       "    </tr>\n",
       "  </thead>\n",
       "  <tbody>\n",
       "    <tr>\n",
       "      <th>0</th>\n",
       "      <td>SP000006155</td>\n",
       "      <td>36.6667</td>\n",
       "      <td>-4.4881</td>\n",
       "      <td>7.0</td>\n",
       "      <td>MALAGA AEROPUERTO, SP</td>\n",
       "      <td>1942-05-01</td>\n",
       "      <td>2025-07-13</td>\n",
       "      <td>30160</td>\n",
       "    </tr>\n",
       "    <tr>\n",
       "      <th>1</th>\n",
       "      <td>SP000008027</td>\n",
       "      <td>43.3075</td>\n",
       "      <td>-2.0392</td>\n",
       "      <td>251.0</td>\n",
       "      <td>SAN SEBASTIAN IGUELDO, SP</td>\n",
       "      <td>1916-04-01</td>\n",
       "      <td>2025-07-07</td>\n",
       "      <td>36136</td>\n",
       "    </tr>\n",
       "    <tr>\n",
       "      <th>2</th>\n",
       "      <td>SP000008181</td>\n",
       "      <td>41.2928</td>\n",
       "      <td>2.0697</td>\n",
       "      <td>4.0</td>\n",
       "      <td>BARCELONA AEROPUERTO, SP</td>\n",
       "      <td>1924-03-01</td>\n",
       "      <td>2025-07-11</td>\n",
       "      <td>31631</td>\n",
       "    </tr>\n",
       "    <tr>\n",
       "      <th>3</th>\n",
       "      <td>SP000008202</td>\n",
       "      <td>40.9592</td>\n",
       "      <td>-5.4981</td>\n",
       "      <td>790.0</td>\n",
       "      <td>SALAMANCA AEROPUERTO, SP</td>\n",
       "      <td>1945-01-01</td>\n",
       "      <td>2025-07-13</td>\n",
       "      <td>29344</td>\n",
       "    </tr>\n",
       "    <tr>\n",
       "      <th>4</th>\n",
       "      <td>SP000008215</td>\n",
       "      <td>40.7806</td>\n",
       "      <td>-4.0103</td>\n",
       "      <td>1894.0</td>\n",
       "      <td>NAVACERRADA, SP</td>\n",
       "      <td>1946-01-01</td>\n",
       "      <td>2025-07-13</td>\n",
       "      <td>28784</td>\n",
       "    </tr>\n",
       "  </tbody>\n",
       "</table>\n",
       "</div>"
      ],
      "text/plain": [
       "       STATION  LATITUDE  LONGITUDE  ELEVATION                       NAME  \\\n",
       "0  SP000006155   36.6667    -4.4881        7.0      MALAGA AEROPUERTO, SP   \n",
       "1  SP000008027   43.3075    -2.0392      251.0  SAN SEBASTIAN IGUELDO, SP   \n",
       "2  SP000008181   41.2928     2.0697        4.0   BARCELONA AEROPUERTO, SP   \n",
       "3  SP000008202   40.9592    -5.4981      790.0   SALAMANCA AEROPUERTO, SP   \n",
       "4  SP000008215   40.7806    -4.0103     1894.0            NAVACERRADA, SP   \n",
       "\n",
       "  DATE_START   DATE_END  TOTAL_RECORDS  \n",
       "0 1942-05-01 2025-07-13          30160  \n",
       "1 1916-04-01 2025-07-07          36136  \n",
       "2 1924-03-01 2025-07-11          31631  \n",
       "3 1945-01-01 2025-07-13          29344  \n",
       "4 1946-01-01 2025-07-13          28784  "
      ]
     },
     "execution_count": 6,
     "metadata": {},
     "output_type": "execute_result"
    }
   ],
   "source": [
    "# Información geográfica de las estaciones\n",
    "stations_info = clima_df.groupby('STATION').agg({\n",
    "    'LATITUDE': 'first',\n",
    "    'LONGITUDE': 'first',\n",
    "    'ELEVATION': 'first',\n",
    "    'NAME': 'first',\n",
    "    'DATE': ['min', 'max', 'count']\n",
    "}).reset_index()\n",
    "\n",
    "stations_info.columns = ['STATION', 'LATITUDE', 'LONGITUDE', 'ELEVATION', 'NAME', \n",
    "                        'DATE_START', 'DATE_END', 'TOTAL_RECORDS']\n",
    "\n",
    "print(f\"Total de estaciones meteorológicas: {len(stations_info)}\")\n",
    "print(f\"\\nDistribución por elevación:\")\n",
    "print(f\"Mínima: {stations_info['ELEVATION'].min():.0f} m\")\n",
    "print(f\"Máxima: {stations_info['ELEVATION'].max():.0f} m\")\n",
    "print(f\"Media: {stations_info['ELEVATION'].mean():.0f} m\")\n",
    "\n",
    "stations_info.head()"
   ]
  },
  {
   "cell_type": "code",
   "execution_count": 7,
   "id": "3827b506",
   "metadata": {},
   "outputs": [
    {
     "data": {
      "application/vnd.plotly.v1+json": {
       "config": {
        "plotlyServerURL": "https://plot.ly"
       },
       "data": [
        {
         "customdata": [
          [
           "SP000006155",
           7,
           30160
          ],
          [
           "SP000008027",
           251,
           36136
          ],
          [
           "SP000008181",
           4,
           31631
          ],
          [
           "SP000008202",
           790,
           29344
          ],
          [
           "SP000008215",
           1894,
           28784
          ],
          [
           "SP000008280",
           704,
           42336
          ],
          [
           "SP000008410",
           90,
           23991
          ],
          [
           "SP000009981",
           44,
           43691
          ],
          [
           "SP000060010",
           2371,
           38312
          ],
          [
           "SP000060040",
           14,
           19902
          ],
          [
           "SPE00119711",
           58,
           34530
          ],
          [
           "SPE00119720",
           98,
           19519
          ],
          [
           "SPE00119729",
           370,
           29392
          ],
          [
           "SPE00119747",
           513,
           18849
          ],
          [
           "SPE00119783",
           21,
           20876
          ],
          [
           "SPE00119792",
           127,
           20591
          ],
          [
           "SPE00119819",
           5,
           15024
          ],
          [
           "SPE00119828",
           336,
           18513
          ],
          [
           "SPE00119837",
           1130,
           18037
          ],
          [
           "SPE00119909",
           890,
           29871
          ],
          [
           "SPE00119936",
           1,
           24324
          ],
          [
           "SPE00119945",
           27,
           26755
          ],
          [
           "SPE00119954",
           21,
           13347
          ],
          [
           "SPE00119990",
           5,
           23891
          ],
          [
           "SPE00120035",
           628,
           19872
          ],
          [
           "SPE00120062",
           945,
           24408
          ],
          [
           "SPE00120080",
           143,
           18845
          ],
          [
           "SPE00120089",
           567,
           19280
          ],
          [
           "SPE00120107",
           639,
           12476
          ],
          [
           "SPE00120152",
           17,
           29991
          ],
          [
           "SPE00120161",
           541,
           29440
          ],
          [
           "SPE00120170",
           582,
           13977
          ],
          [
           "SPE00120179",
           510,
           19338
          ],
          [
           "SPE00120188",
           353,
           27954
          ],
          [
           "SPE00120224",
           916,
           31882
          ],
          [
           "SPE00120233",
           534,
           27169
          ],
          [
           "SPE00120242",
           192,
           17741
          ],
          [
           "SPE00120260",
           445,
           19457
          ],
          [
           "SPE00120269",
           1004,
           15327
          ],
          [
           "SPE00120278",
           609,
           24894
          ],
          [
           "SPE00120287",
           687,
           29255
          ],
          [
           "SPE00120296",
           617,
           27179
          ],
          [
           "SPE00120359",
           459,
           18771
          ],
          [
           "SPE00120368",
           143,
           19504
          ],
          [
           "SPE00120377",
           148,
           3977
          ],
          [
           "SPE00120404",
           19,
           9726
          ],
          [
           "SPE00120413",
           261,
           24188
          ],
          [
           "SPE00120449",
           33,
           20700
          ],
          [
           "SPE00120458",
           35,
           34510
          ],
          [
           "SPE00120467",
           632,
           30435
          ],
          [
           "SPE00120485",
           1005,
           17277
          ],
          [
           "SPE00120512",
           34,
           27096
          ],
          [
           "SPE00120521",
           1082,
           29715
          ],
          [
           "SPE00120530",
           71,
           26570
          ],
          [
           "SPE00120557",
           900,
           14936
          ],
          [
           "SPE00120602",
           846,
           31913
          ],
          [
           "SPE00120611",
           42,
           28489
          ],
          [
           "SPE00120620",
           656,
           34487
          ],
          [
           "SPE00156261",
           29,
           5880
          ],
          [
           "SPE00156279",
           785,
           5529
          ],
          [
           "SPE00156288",
           513,
           3249
          ],
          [
           "SPE00156306",
           849,
           5880
          ],
          [
           "SPE00156315",
           446,
           5881
          ],
          [
           "SPE00156450",
           196,
           5878
          ],
          [
           "SPE00156459",
           1668,
           4870
          ],
          [
           "SPE00156468",
           286,
           5881
          ],
          [
           "SPE00156477",
           24,
           5877
          ],
          [
           "SPE00156486",
           258,
           5584
          ],
          [
           "SPE00156495",
           2451,
           6023
          ],
          [
           "SPE00156504",
           158,
           3834
          ],
          [
           "SPE00156513",
           852,
           5881
          ],
          [
           "SPE00156522",
           4,
           5881
          ],
          [
           "SPE00156531",
           690,
           5881
          ],
          [
           "SPE00156540",
           349,
           5881
          ],
          [
           "SPE00156549",
           1167,
           5881
          ],
          [
           "SPE00156558",
           2228,
           5867
          ],
          [
           "SPE00156567",
           691,
           4227
          ],
          [
           "SPE00156576",
           5,
           5478
          ],
          [
           "SPE00156585",
           427,
           5881
          ],
          [
           "SPE00156594",
           2,
           5881
          ],
          [
           "SPM00008284",
           68.6,
           14142
          ],
          [
           "SPM00008359",
           82,
           2316
          ],
          [
           "SPM00008360",
           43.3,
           12284
          ],
          [
           "SPM00008420",
           717,
           124
          ],
          [
           "SPW00013024",
           86.9,
           14369
          ],
          [
           "SPW00013025",
           25.6,
           15934
          ],
          [
           "SPW00014010",
           263,
           16232
          ],
          [
           "SPW00014011",
           617.5,
           4221
          ]
         ],
         "hovertemplate": "<b>%{hovertext}</b><br><br>TOTAL_RECORDS=%{customdata[2]}<br>LATITUDE=%{lat}<br>LONGITUDE=%{lon}<br>STATION=%{customdata[0]}<br>ELEVATION=%{marker.color}<extra></extra>",
         "hovertext": [
          "MALAGA AEROPUERTO, SP",
          "SAN SEBASTIAN IGUELDO, SP",
          "BARCELONA AEROPUERTO, SP",
          "SALAMANCA AEROPUERTO, SP",
          "NAVACERRADA, SP",
          "ALBACETE LOS LLANOS, SP",
          "CORDOBA AEROPUERTO, SP",
          "TORTOSA OBSERVATORIO DEL EBR, SP",
          "IZANA, SP",
          "LANZAROTE AEROPUERTO, SP",
          "A CORUNA, SP",
          "A CORUNA ALVEDRO, SP",
          "SANTIAGO DE COMPOSTELA LABACOL, SP",
          "VITORIA FORONDA, SP",
          "ALMERIA AEROPUERTO, SP",
          "ASTURIAS AVILES, SP",
          "GIJON MUSEL, SP",
          "OVIEDO, SP",
          "AVILA, SP",
          "BURGOS VILLAFRIA, SP",
          "CADIZ, SP",
          "JEREZ DE LA FRONTERA, SP",
          "ROTA, SP",
          "SANTANDER PARAYAS, SP",
          "CIUDAD REAL, SP",
          "CUENCA, SP",
          "GIRONA COSTA BRAVA, SP",
          "GRANADA AEROPUERTO, SP",
          "GUADALAJARA, SP",
          "HUELVA, SP",
          "HUESCA, SP",
          "JAEN, SP",
          "JAEN INSTITUTO, SP",
          "LOGRONO AGONCILLO, SP",
          "LEON VIRGEN DEL CAMINO, SP",
          "PONFERRADA, SP",
          "LLEIDA, SP",
          "LUGO ROZAS, SP",
          "COLMENAR VIEJO FAMET, SP",
          "MADRID BARAJAS, SP",
          "MADRID CUATROVIENTOS, SP",
          "MADRID GETAFE, SP",
          "PAMPLONA, SP",
          "OURENSE, SP",
          "OURENSE INSTITUTO, SP",
          "PONTEVEDRA INSTITUTO, SP",
          "VIGO PEINADOR, SP",
          "LA PALMA AEROPUERTO, SP",
          "STA. CRUZ DE TENERIFE, SP",
          "TENERIFE LOS RODEOS, SP",
          "SEGOVIA, SP",
          "SEVILLA SAN PABLO, SP",
          "SORIA, SP",
          "REUS AEROPUERTO, SP",
          "TERUEL, SP",
          "VALLADOLID VILLANUBLA, SP",
          "BILBAO AEROPUERTO, SP",
          "ZAMORA, SP",
          "LA BISBAL DEMPORDA, SP",
          "LA PANADELLA, SP",
          "LA POBLA DE SEGUR BOMBERS, SP",
          "LA SEU DURGELL, SP",
          "LESPLUGA DE FRANCOLI, SP",
          "PORTBOU, SP",
          "PUIG SESOLLES, SP",
          "RAIMAT, SP",
          "ROSES, SP",
          "SABADELL PARC AGRARI, SP",
          "SALORIA, SP",
          "SANT CUGAT DEL VALLES CAR, SP",
          "SANT PAU DE SEGURIES, SP",
          "SANT PERE PESCADOR, SP",
          "SANT ROMA DABELLA, SP",
          "SANT SALVADOR DE GUARDIOLA, SP",
          "SANTUARI DE QUERALT, SP",
          "SASSEUVA, SP",
          "SOLSONA, SP",
          "TARRAGONA COMPLEX EDUCATIU, SP",
          "TARREGA, SP",
          "TORREDEMBARRA, SP",
          "VALENCIA, SP",
          "ALICANTE, SP",
          "ALICANTE, SP",
          "GRANADA ARMILLA, SP",
          "MORON DE LA FRONTERA, SP",
          "ROTA NAS, SP",
          "ZARAGOZA, SP",
          "TORREJON, SP"
         ],
         "lat": {
          "bdata": "IR/0bFZVQkCPwvUoXKdFQGgibHh6pURAXynLEMd6RED5oGez6mNEQP2H9NvXeUNAQKTfvg7sQkB+jLlrCWlEQAK8BRIUTzxAa5p3nKLzPECCc0aU9q5FQHPXEvJBp0VAxLEubqNxRUAr9pfdk29FQM6qz9VWbEJAVFInoInIRUCdEaW9wcdFQCEf9GxWrUVA+MJkqmBUREBa9bnaii1FQBzr4jYaQEJAVTAqqRNgQkALtaZ5x1FCQLu4jQbwtkVAApoIG55+Q0BUUiegiQhEQLHh6ZWy9ERAY+5aQj6YQkAxmSoYlVREQIxK6gQ0oUJAGCZTBaMKRUAWak3zjuNCQBZqTfOO40JA/Yf029c5RUClTkATYUtFQHEbDeAtSEVAVTAqqRPQREBJnYAmwo5FQP5l9+RhWURAiIVa07w7REDjNhrAWzBEQGZmZmZmJkRAz2bV52pjRUB90LNZ9SlFQBgmUwWjKkVALNSa5h03RUACmggbnh5FQPwYc9cSojxAEce6uI12PEAK16NwPXo8QAyTqYJReURAIR/0bFa1QkAzMzMzM+NEQN4CCYofk0RAeJyiI7ksRECamZmZmdlEQAN4CyQopkVA7uvAOSPCRECF61G4Hv1EQIXrUbgezURAApoIG54eRUDl8h/Sby9FQArXo3A9skRAcvkP6bc3RUCX/5B+++JEQOXyH9Jv10RAGCZTBaMiRUAOT6+UZchEQKYKRiV1QkVAS1mGONa9REB+jLlrCSFFQMpUwaikFkVANs07TtERRUAgY+5aQtZEQKH4MeauDUVAw/UoXI9iRUCRfvs6cP5EQPcGX5hMjURAIR/0bFbVREBfKcsQx5JEQDvfT42XvkNA5dAi2/kuQ0BqvHSTGCRDQBsv3SQGkUJA2UElrmOWQkAzMzMzM1NCQF6c+GpH1URAbLHbZ5U/REA=",
          "dtype": "f8"
         },
         "legendgroup": "",
         "lon": {
          "bdata": "3bWEfNDzEcCOBvAWSFAAwOY/pN++jgBA54wo7Q3+FcBfmEwVjAoQwHPXEvJBz/2/w9MrZRliE8AXSFD8GHPfP8cpOpLLfzDA3pOHhVozK8Bm9+RhodYgwMrDQq1pviDAp3nHKTrSIMCvlGWIY90FwJjdk4eF2gLAzO7Jw0ItGMDsL7snD8sWwJLLf0i/fRfAuB6F61G4EsCPwvUoXA8NwGaIY13cBhnAYqHWNO84GMAyVTAqqVMZwLsnDwu1pg7ACYofY+5aD8Dtnjws1BoBwO2ePCzUGgZAjgbwFkhQDsCitDf4wmQJwOtztRX7yxvAiIVa07zj1D/2KFyPwnUOwCDSb18HTg7AaCJseHqlAsC4QILix5gWwGZmZmZmZhrACtejcD0K4z80ETY8vdIdwFvTvOMUHQ7AxEKtad5xDMCOBvAWSFAOwEjhehSuxw3AZmZmZmZm+r/F/rJ78nAfwN21hHzQcx/AeAskKH5MIcDl8h/Sbz8hwOF6FK5HwTHANqs+V1tBMMDc14FzRlQwwBlz1xLygRDAo5I6AU2EF8CvlGWIY90DwAYSFD/G3PI/WRe30QDe8b9mZmZmZmYTwJEPejarPgfAkKD4MebuFsDxY8xdS0gIQA1xrIvbaPY/0LNZ9bna7j8/V1uxv+z2P74wmSoYlfE/FmpN845TCUCqglFJnYADQMX+snvysNw/MnctIR90CUDLEMe6uI0AQH2utmJ/2fU/4L4OnDOiAEAnoImw4ekCQIMvTKYKxghAyAc9m1Wf8D+b5h2n6Ej8P7WmeccpOv0/YHZPHhZq5z+rz9VW7C/4P7yWkA96NvM/93XgnBGl8j9UUiegibD2PwwCK4cW2d6/AAAAAAAA4L9CYOXQItvhv1YOLbKd7wzAcasgBrp2FsBmZmZmZmYZwJ7PgHozqvC/7Z3RViWRC8A=",
          "dtype": "f8"
         },
         "marker": {
          "color": {
           "bdata": "AAAAAAAAHEAAAAAAAGBvQAAAAAAAABBAAAAAAACwiEAAAAAAAJidQAAAAAAAAIZAAAAAAACAVkAAAAAAAABGQAAAAAAAhqJAAAAAAAAALEAAAAAAAABNQAAAAAAAgFhAAAAAAAAgd0AAAAAAAAiAQAAAAAAAADVAAAAAAADAX0AAAAAAAAAUQAAAAAAAAHVAAAAAAACokUAAAAAAANCLQAAAAAAAAPA/AAAAAAAAO0AAAAAAAAA1QAAAAAAAABRAAAAAAACgg0AAAAAAAIiNQAAAAAAA4GFAAAAAAAC4gUAAAAAAAPiDQAAAAAAAADFAAAAAAADogEAAAAAAADCCQAAAAAAA4H9AAAAAAAAQdkAAAAAAAKCMQAAAAAAAsIBAAAAAAAAAaEAAAAAAANB7QAAAAAAAYI9AAAAAAAAIg0AAAAAAAHiFQAAAAAAASINAAAAAAACwfEAAAAAAAOBhQAAAAAAAgGJAAAAAAAAAM0AAAAAAAFBwQAAAAAAAgEBAAAAAAACAQUAAAAAAAMCDQAAAAAAAaI9AAAAAAAAAQUAAAAAAAOiQQAAAAAAAwFFAAAAAAAAgjEAAAAAAAHCKQAAAAAAAAEVAAAAAAACAhEAAAAAAAAA9QAAAAAAAiIhAAAAAAAAIgEAAAAAAAIiKQAAAAAAA4HtAAAAAAACAaEAAAAAAABCaQAAAAAAA4HFAAAAAAAAAOEAAAAAAACBwQAAAAAAAJqNAAAAAAADAY0AAAAAAAKCKQAAAAAAAABBAAAAAAACQhUAAAAAAANB1QAAAAAAAPJJAAAAAAABooUAAAAAAAJiFQAAAAAAAABRAAAAAAACwekAAAAAAAAAAQGZmZmZmJlFAAAAAAACAVEBmZmZmZqZFQAAAAAAAaIZAmpmZmZm5VUCamZmZmZk5QAAAAAAAcHBAAAAAAABMg0A=",
           "dtype": "f8"
          },
          "coloraxis": "coloraxis",
          "size": {
           "bdata": "0HUAACiNAACPewAAoHIAAHBwAABgpQAAt10AAKuqAAColQAAvk0AAOKGAAA/TAAA0HIAAKFJAACMUQAAb1AAALA6AABRSAAAdUYAAK90AAAEXwAAg2gAACM0AABTXQAAoE0AAFhfAACdSQAAUEsAALwwAAAndQAAAHMAAJk2AACKSwAAMm0AAIp8AAAhagAATUUAAAFMAADfOwAAPmEAAEdyAAAragAAU0kAADBMAACJDwAA/iUAAHxeAADcUAAAzoYAAON2AAB9QwAA2GkAABN0AADKZwAAWDoAAKl8AABJbwAAt4YAAPgWAACZFQAAsQwAAPgWAAD5FgAA9hYAAAYTAAD5FgAA9RYAANAVAACHFwAA+g4AAPkWAAD5FgAA+RYAAPkWAAD5FgAA6xYAAIMQAABmFQAA+RYAAPkWAAA+NwAADAkAAPwvAAB8AAAAITgAAD4+AABoPwAAfRAAAA==",
           "dtype": "i4"
          },
          "sizemode": "area",
          "sizeref": 109.2275
         },
         "mode": "markers",
         "name": "",
         "showlegend": false,
         "subplot": "mapbox",
         "type": "scattermapbox"
        }
       ],
       "layout": {
        "coloraxis": {
         "colorbar": {
          "title": {
           "text": "Elevación (m)"
          }
         },
         "colorscale": [
          [
           0,
           "#440154"
          ],
          [
           0.1111111111111111,
           "#482878"
          ],
          [
           0.2222222222222222,
           "#3e4989"
          ],
          [
           0.3333333333333333,
           "#31688e"
          ],
          [
           0.4444444444444444,
           "#26828e"
          ],
          [
           0.5555555555555556,
           "#1f9e89"
          ],
          [
           0.6666666666666666,
           "#35b779"
          ],
          [
           0.7777777777777778,
           "#6ece58"
          ],
          [
           0.8888888888888888,
           "#b5de2b"
          ],
          [
           1,
           "#fde725"
          ]
         ]
        },
        "height": 600,
        "legend": {
         "itemsizing": "constant",
         "tracegroupgap": 0
        },
        "mapbox": {
         "center": {
          "lat": 40.21954097727272,
          "lon": -3.220879193181818
         },
         "domain": {
          "x": [
           0,
           1
          ],
          "y": [
           0,
           1
          ]
         },
         "style": "open-street-map",
         "zoom": 5
        },
        "template": {
         "data": {
          "bar": [
           {
            "error_x": {
             "color": "#2a3f5f"
            },
            "error_y": {
             "color": "#2a3f5f"
            },
            "marker": {
             "line": {
              "color": "#E5ECF6",
              "width": 0.5
             },
             "pattern": {
              "fillmode": "overlay",
              "size": 10,
              "solidity": 0.2
             }
            },
            "type": "bar"
           }
          ],
          "barpolar": [
           {
            "marker": {
             "line": {
              "color": "#E5ECF6",
              "width": 0.5
             },
             "pattern": {
              "fillmode": "overlay",
              "size": 10,
              "solidity": 0.2
             }
            },
            "type": "barpolar"
           }
          ],
          "carpet": [
           {
            "aaxis": {
             "endlinecolor": "#2a3f5f",
             "gridcolor": "white",
             "linecolor": "white",
             "minorgridcolor": "white",
             "startlinecolor": "#2a3f5f"
            },
            "baxis": {
             "endlinecolor": "#2a3f5f",
             "gridcolor": "white",
             "linecolor": "white",
             "minorgridcolor": "white",
             "startlinecolor": "#2a3f5f"
            },
            "type": "carpet"
           }
          ],
          "choropleth": [
           {
            "colorbar": {
             "outlinewidth": 0,
             "ticks": ""
            },
            "type": "choropleth"
           }
          ],
          "contour": [
           {
            "colorbar": {
             "outlinewidth": 0,
             "ticks": ""
            },
            "colorscale": [
             [
              0,
              "#0d0887"
             ],
             [
              0.1111111111111111,
              "#46039f"
             ],
             [
              0.2222222222222222,
              "#7201a8"
             ],
             [
              0.3333333333333333,
              "#9c179e"
             ],
             [
              0.4444444444444444,
              "#bd3786"
             ],
             [
              0.5555555555555556,
              "#d8576b"
             ],
             [
              0.6666666666666666,
              "#ed7953"
             ],
             [
              0.7777777777777778,
              "#fb9f3a"
             ],
             [
              0.8888888888888888,
              "#fdca26"
             ],
             [
              1,
              "#f0f921"
             ]
            ],
            "type": "contour"
           }
          ],
          "contourcarpet": [
           {
            "colorbar": {
             "outlinewidth": 0,
             "ticks": ""
            },
            "type": "contourcarpet"
           }
          ],
          "heatmap": [
           {
            "colorbar": {
             "outlinewidth": 0,
             "ticks": ""
            },
            "colorscale": [
             [
              0,
              "#0d0887"
             ],
             [
              0.1111111111111111,
              "#46039f"
             ],
             [
              0.2222222222222222,
              "#7201a8"
             ],
             [
              0.3333333333333333,
              "#9c179e"
             ],
             [
              0.4444444444444444,
              "#bd3786"
             ],
             [
              0.5555555555555556,
              "#d8576b"
             ],
             [
              0.6666666666666666,
              "#ed7953"
             ],
             [
              0.7777777777777778,
              "#fb9f3a"
             ],
             [
              0.8888888888888888,
              "#fdca26"
             ],
             [
              1,
              "#f0f921"
             ]
            ],
            "type": "heatmap"
           }
          ],
          "histogram": [
           {
            "marker": {
             "pattern": {
              "fillmode": "overlay",
              "size": 10,
              "solidity": 0.2
             }
            },
            "type": "histogram"
           }
          ],
          "histogram2d": [
           {
            "colorbar": {
             "outlinewidth": 0,
             "ticks": ""
            },
            "colorscale": [
             [
              0,
              "#0d0887"
             ],
             [
              0.1111111111111111,
              "#46039f"
             ],
             [
              0.2222222222222222,
              "#7201a8"
             ],
             [
              0.3333333333333333,
              "#9c179e"
             ],
             [
              0.4444444444444444,
              "#bd3786"
             ],
             [
              0.5555555555555556,
              "#d8576b"
             ],
             [
              0.6666666666666666,
              "#ed7953"
             ],
             [
              0.7777777777777778,
              "#fb9f3a"
             ],
             [
              0.8888888888888888,
              "#fdca26"
             ],
             [
              1,
              "#f0f921"
             ]
            ],
            "type": "histogram2d"
           }
          ],
          "histogram2dcontour": [
           {
            "colorbar": {
             "outlinewidth": 0,
             "ticks": ""
            },
            "colorscale": [
             [
              0,
              "#0d0887"
             ],
             [
              0.1111111111111111,
              "#46039f"
             ],
             [
              0.2222222222222222,
              "#7201a8"
             ],
             [
              0.3333333333333333,
              "#9c179e"
             ],
             [
              0.4444444444444444,
              "#bd3786"
             ],
             [
              0.5555555555555556,
              "#d8576b"
             ],
             [
              0.6666666666666666,
              "#ed7953"
             ],
             [
              0.7777777777777778,
              "#fb9f3a"
             ],
             [
              0.8888888888888888,
              "#fdca26"
             ],
             [
              1,
              "#f0f921"
             ]
            ],
            "type": "histogram2dcontour"
           }
          ],
          "mesh3d": [
           {
            "colorbar": {
             "outlinewidth": 0,
             "ticks": ""
            },
            "type": "mesh3d"
           }
          ],
          "parcoords": [
           {
            "line": {
             "colorbar": {
              "outlinewidth": 0,
              "ticks": ""
             }
            },
            "type": "parcoords"
           }
          ],
          "pie": [
           {
            "automargin": true,
            "type": "pie"
           }
          ],
          "scatter": [
           {
            "fillpattern": {
             "fillmode": "overlay",
             "size": 10,
             "solidity": 0.2
            },
            "type": "scatter"
           }
          ],
          "scatter3d": [
           {
            "line": {
             "colorbar": {
              "outlinewidth": 0,
              "ticks": ""
             }
            },
            "marker": {
             "colorbar": {
              "outlinewidth": 0,
              "ticks": ""
             }
            },
            "type": "scatter3d"
           }
          ],
          "scattercarpet": [
           {
            "marker": {
             "colorbar": {
              "outlinewidth": 0,
              "ticks": ""
             }
            },
            "type": "scattercarpet"
           }
          ],
          "scattergeo": [
           {
            "marker": {
             "colorbar": {
              "outlinewidth": 0,
              "ticks": ""
             }
            },
            "type": "scattergeo"
           }
          ],
          "scattergl": [
           {
            "marker": {
             "colorbar": {
              "outlinewidth": 0,
              "ticks": ""
             }
            },
            "type": "scattergl"
           }
          ],
          "scattermap": [
           {
            "marker": {
             "colorbar": {
              "outlinewidth": 0,
              "ticks": ""
             }
            },
            "type": "scattermap"
           }
          ],
          "scattermapbox": [
           {
            "marker": {
             "colorbar": {
              "outlinewidth": 0,
              "ticks": ""
             }
            },
            "type": "scattermapbox"
           }
          ],
          "scatterpolar": [
           {
            "marker": {
             "colorbar": {
              "outlinewidth": 0,
              "ticks": ""
             }
            },
            "type": "scatterpolar"
           }
          ],
          "scatterpolargl": [
           {
            "marker": {
             "colorbar": {
              "outlinewidth": 0,
              "ticks": ""
             }
            },
            "type": "scatterpolargl"
           }
          ],
          "scatterternary": [
           {
            "marker": {
             "colorbar": {
              "outlinewidth": 0,
              "ticks": ""
             }
            },
            "type": "scatterternary"
           }
          ],
          "surface": [
           {
            "colorbar": {
             "outlinewidth": 0,
             "ticks": ""
            },
            "colorscale": [
             [
              0,
              "#0d0887"
             ],
             [
              0.1111111111111111,
              "#46039f"
             ],
             [
              0.2222222222222222,
              "#7201a8"
             ],
             [
              0.3333333333333333,
              "#9c179e"
             ],
             [
              0.4444444444444444,
              "#bd3786"
             ],
             [
              0.5555555555555556,
              "#d8576b"
             ],
             [
              0.6666666666666666,
              "#ed7953"
             ],
             [
              0.7777777777777778,
              "#fb9f3a"
             ],
             [
              0.8888888888888888,
              "#fdca26"
             ],
             [
              1,
              "#f0f921"
             ]
            ],
            "type": "surface"
           }
          ],
          "table": [
           {
            "cells": {
             "fill": {
              "color": "#EBF0F8"
             },
             "line": {
              "color": "white"
             }
            },
            "header": {
             "fill": {
              "color": "#C8D4E3"
             },
             "line": {
              "color": "white"
             }
            },
            "type": "table"
           }
          ]
         },
         "layout": {
          "annotationdefaults": {
           "arrowcolor": "#2a3f5f",
           "arrowhead": 0,
           "arrowwidth": 1
          },
          "autotypenumbers": "strict",
          "coloraxis": {
           "colorbar": {
            "outlinewidth": 0,
            "ticks": ""
           }
          },
          "colorscale": {
           "diverging": [
            [
             0,
             "#8e0152"
            ],
            [
             0.1,
             "#c51b7d"
            ],
            [
             0.2,
             "#de77ae"
            ],
            [
             0.3,
             "#f1b6da"
            ],
            [
             0.4,
             "#fde0ef"
            ],
            [
             0.5,
             "#f7f7f7"
            ],
            [
             0.6,
             "#e6f5d0"
            ],
            [
             0.7,
             "#b8e186"
            ],
            [
             0.8,
             "#7fbc41"
            ],
            [
             0.9,
             "#4d9221"
            ],
            [
             1,
             "#276419"
            ]
           ],
           "sequential": [
            [
             0,
             "#0d0887"
            ],
            [
             0.1111111111111111,
             "#46039f"
            ],
            [
             0.2222222222222222,
             "#7201a8"
            ],
            [
             0.3333333333333333,
             "#9c179e"
            ],
            [
             0.4444444444444444,
             "#bd3786"
            ],
            [
             0.5555555555555556,
             "#d8576b"
            ],
            [
             0.6666666666666666,
             "#ed7953"
            ],
            [
             0.7777777777777778,
             "#fb9f3a"
            ],
            [
             0.8888888888888888,
             "#fdca26"
            ],
            [
             1,
             "#f0f921"
            ]
           ],
           "sequentialminus": [
            [
             0,
             "#0d0887"
            ],
            [
             0.1111111111111111,
             "#46039f"
            ],
            [
             0.2222222222222222,
             "#7201a8"
            ],
            [
             0.3333333333333333,
             "#9c179e"
            ],
            [
             0.4444444444444444,
             "#bd3786"
            ],
            [
             0.5555555555555556,
             "#d8576b"
            ],
            [
             0.6666666666666666,
             "#ed7953"
            ],
            [
             0.7777777777777778,
             "#fb9f3a"
            ],
            [
             0.8888888888888888,
             "#fdca26"
            ],
            [
             1,
             "#f0f921"
            ]
           ]
          },
          "colorway": [
           "#636efa",
           "#EF553B",
           "#00cc96",
           "#ab63fa",
           "#FFA15A",
           "#19d3f3",
           "#FF6692",
           "#B6E880",
           "#FF97FF",
           "#FECB52"
          ],
          "font": {
           "color": "#2a3f5f"
          },
          "geo": {
           "bgcolor": "white",
           "lakecolor": "white",
           "landcolor": "#E5ECF6",
           "showlakes": true,
           "showland": true,
           "subunitcolor": "white"
          },
          "hoverlabel": {
           "align": "left"
          },
          "hovermode": "closest",
          "mapbox": {
           "style": "light"
          },
          "paper_bgcolor": "white",
          "plot_bgcolor": "#E5ECF6",
          "polar": {
           "angularaxis": {
            "gridcolor": "white",
            "linecolor": "white",
            "ticks": ""
           },
           "bgcolor": "#E5ECF6",
           "radialaxis": {
            "gridcolor": "white",
            "linecolor": "white",
            "ticks": ""
           }
          },
          "scene": {
           "xaxis": {
            "backgroundcolor": "#E5ECF6",
            "gridcolor": "white",
            "gridwidth": 2,
            "linecolor": "white",
            "showbackground": true,
            "ticks": "",
            "zerolinecolor": "white"
           },
           "yaxis": {
            "backgroundcolor": "#E5ECF6",
            "gridcolor": "white",
            "gridwidth": 2,
            "linecolor": "white",
            "showbackground": true,
            "ticks": "",
            "zerolinecolor": "white"
           },
           "zaxis": {
            "backgroundcolor": "#E5ECF6",
            "gridcolor": "white",
            "gridwidth": 2,
            "linecolor": "white",
            "showbackground": true,
            "ticks": "",
            "zerolinecolor": "white"
           }
          },
          "shapedefaults": {
           "line": {
            "color": "#2a3f5f"
           }
          },
          "ternary": {
           "aaxis": {
            "gridcolor": "white",
            "linecolor": "white",
            "ticks": ""
           },
           "baxis": {
            "gridcolor": "white",
            "linecolor": "white",
            "ticks": ""
           },
           "bgcolor": "#E5ECF6",
           "caxis": {
            "gridcolor": "white",
            "linecolor": "white",
            "ticks": ""
           }
          },
          "title": {
           "x": 0.05
          },
          "xaxis": {
           "automargin": true,
           "gridcolor": "white",
           "linecolor": "white",
           "ticks": "",
           "title": {
            "standoff": 15
           },
           "zerolinecolor": "white",
           "zerolinewidth": 2
          },
          "yaxis": {
           "automargin": true,
           "gridcolor": "white",
           "linecolor": "white",
           "ticks": "",
           "title": {
            "standoff": 15
           },
           "zerolinecolor": "white",
           "zerolinewidth": 2
          }
         }
        },
        "title": {
         "font": {
          "size": 16
         },
         "text": "Distribución Geográfica de Estaciones Meteorológicas en España"
        }
       }
      }
     },
     "metadata": {},
     "output_type": "display_data"
    },
    {
     "name": "stdout",
     "output_type": "stream",
     "text": [
      "\n",
      "Cobertura geográfica:\n",
      "Latitud: 28.31° a 43.57°\n",
      "Longitud: -17.75° a 3.18°\n"
     ]
    }
   ],
   "source": [
    "# Mapa de distribución de estaciones\n",
    "fig = px.scatter_mapbox(\n",
    "    stations_info,\n",
    "    lat='LATITUDE',\n",
    "    lon='LONGITUDE',\n",
    "    color='ELEVATION',\n",
    "    size='TOTAL_RECORDS',\n",
    "    hover_name='NAME',\n",
    "    hover_data={'STATION': True, 'ELEVATION': True, 'TOTAL_RECORDS': True},\n",
    "    color_continuous_scale='viridis',\n",
    "    title='Distribución Geográfica de Estaciones Meteorológicas en España',\n",
    "    mapbox_style='open-street-map',\n",
    "    height=600,\n",
    "    zoom=5\n",
    ")\n",
    "\n",
    "fig.update_layout(\n",
    "    title_font_size=16,\n",
    "    coloraxis_colorbar=dict(title=\"Elevación (m)\")\n",
    ")\n",
    "\n",
    "fig.show()\n",
    "\n",
    "# Estadísticas geográficas\n",
    "print(f\"\\nCobertura geográfica:\")\n",
    "print(f\"Latitud: {stations_info['LATITUDE'].min():.2f}° a {stations_info['LATITUDE'].max():.2f}°\")\n",
    "print(f\"Longitud: {stations_info['LONGITUDE'].min():.2f}° a {stations_info['LONGITUDE'].max():.2f}°\")"
   ]
  },
  {
   "cell_type": "markdown",
   "id": "18ddfa94",
   "metadata": {},
   "source": [
    "## 6. Análisis Temporal de Variables Climáticas"
   ]
  },
  {
   "cell_type": "code",
   "execution_count": 8,
   "id": "2606db4f",
   "metadata": {},
   "outputs": [
    {
     "name": "stdout",
     "output_type": "stream",
     "text": [
      "Tendencias anuales calculadas\n"
     ]
    },
    {
     "data": {
      "text/html": [
       "<div>\n",
       "<style scoped>\n",
       "    .dataframe tbody tr th:only-of-type {\n",
       "        vertical-align: middle;\n",
       "    }\n",
       "\n",
       "    .dataframe tbody tr th {\n",
       "        vertical-align: top;\n",
       "    }\n",
       "\n",
       "    .dataframe thead th {\n",
       "        text-align: right;\n",
       "    }\n",
       "</style>\n",
       "<table border=\"1\" class=\"dataframe\">\n",
       "  <thead>\n",
       "    <tr style=\"text-align: right;\">\n",
       "      <th></th>\n",
       "      <th>YEAR</th>\n",
       "      <th>TMAX_C</th>\n",
       "      <th>TMIN_C</th>\n",
       "      <th>TAVG_C</th>\n",
       "      <th>PRCP_MM</th>\n",
       "      <th>TEMP_RANGE</th>\n",
       "      <th>GDD_10</th>\n",
       "      <th>FROST_DAY</th>\n",
       "      <th>HEAT_STRESS_DAY</th>\n",
       "      <th>RAIN_DAY</th>\n",
       "    </tr>\n",
       "  </thead>\n",
       "  <tbody>\n",
       "    <tr>\n",
       "      <th>0</th>\n",
       "      <td>1901</td>\n",
       "      <td>20.067857</td>\n",
       "      <td>8.585440</td>\n",
       "      <td>0.0</td>\n",
       "      <td>0.0</td>\n",
       "      <td>11.482418</td>\n",
       "      <td>0.0</td>\n",
       "      <td>53</td>\n",
       "      <td>12</td>\n",
       "      <td>0</td>\n",
       "    </tr>\n",
       "    <tr>\n",
       "      <th>1</th>\n",
       "      <td>1902</td>\n",
       "      <td>16.977348</td>\n",
       "      <td>5.558011</td>\n",
       "      <td>0.0</td>\n",
       "      <td>0.0</td>\n",
       "      <td>11.419337</td>\n",
       "      <td>0.0</td>\n",
       "      <td>36</td>\n",
       "      <td>0</td>\n",
       "      <td>0</td>\n",
       "    </tr>\n",
       "    <tr>\n",
       "      <th>2</th>\n",
       "      <td>1903</td>\n",
       "      <td>22.904348</td>\n",
       "      <td>9.111413</td>\n",
       "      <td>0.0</td>\n",
       "      <td>0.0</td>\n",
       "      <td>13.792935</td>\n",
       "      <td>0.0</td>\n",
       "      <td>26</td>\n",
       "      <td>21</td>\n",
       "      <td>0</td>\n",
       "    </tr>\n",
       "    <tr>\n",
       "      <th>3</th>\n",
       "      <td>1904</td>\n",
       "      <td>20.202186</td>\n",
       "      <td>7.690437</td>\n",
       "      <td>0.0</td>\n",
       "      <td>0.0</td>\n",
       "      <td>12.511749</td>\n",
       "      <td>0.0</td>\n",
       "      <td>53</td>\n",
       "      <td>21</td>\n",
       "      <td>0</td>\n",
       "    </tr>\n",
       "    <tr>\n",
       "      <th>4</th>\n",
       "      <td>1905</td>\n",
       "      <td>21.330441</td>\n",
       "      <td>8.578237</td>\n",
       "      <td>0.0</td>\n",
       "      <td>348.4</td>\n",
       "      <td>12.752204</td>\n",
       "      <td>0.0</td>\n",
       "      <td>87</td>\n",
       "      <td>32</td>\n",
       "      <td>44</td>\n",
       "    </tr>\n",
       "  </tbody>\n",
       "</table>\n",
       "</div>"
      ],
      "text/plain": [
       "   YEAR     TMAX_C    TMIN_C  TAVG_C  PRCP_MM  TEMP_RANGE  GDD_10  FROST_DAY  \\\n",
       "0  1901  20.067857  8.585440     0.0      0.0   11.482418     0.0         53   \n",
       "1  1902  16.977348  5.558011     0.0      0.0   11.419337     0.0         36   \n",
       "2  1903  22.904348  9.111413     0.0      0.0   13.792935     0.0         26   \n",
       "3  1904  20.202186  7.690437     0.0      0.0   12.511749     0.0         53   \n",
       "4  1905  21.330441  8.578237     0.0    348.4   12.752204     0.0         87   \n",
       "\n",
       "   HEAT_STRESS_DAY  RAIN_DAY  \n",
       "0               12         0  \n",
       "1                0         0  \n",
       "2               21         0  \n",
       "3               21         0  \n",
       "4               32        44  "
      ]
     },
     "execution_count": 8,
     "metadata": {},
     "output_type": "execute_result"
    }
   ],
   "source": [
    "# Resumen anual de variables climáticas\n",
    "annual_climate = clima_df.groupby('YEAR').agg({\n",
    "    'TMAX_C': 'mean',\n",
    "    'TMIN_C': 'mean',\n",
    "    'TAVG_C': 'mean',\n",
    "    'PRCP_MM': 'sum',\n",
    "    'TEMP_RANGE': 'mean',\n",
    "    'GDD_10': 'sum',\n",
    "    'FROST_DAY': 'sum',\n",
    "    'HEAT_STRESS_DAY': 'sum',\n",
    "    'RAIN_DAY': 'sum'\n",
    "}).reset_index()\n",
    "\n",
    "print(\"Tendencias anuales calculadas\")\n",
    "annual_climate.head()"
   ]
  },
  {
   "cell_type": "code",
   "execution_count": 9,
   "id": "3b262360",
   "metadata": {},
   "outputs": [
    {
     "data": {
      "application/vnd.plotly.v1+json": {
       "config": {
        "plotlyServerURL": "https://plot.ly"
       },
       "data": [
        {
         "line": {
          "color": "red",
          "width": 2
         },
         "mode": "lines+markers",
         "name": "Temp. Media",
         "type": "scatter",
         "x": {
          "bdata": "bQcAAG4HAABvBwAAcAcAAHEHAAByBwAAcwcAAHQHAAB1BwAAdgcAAHcHAAB4BwAAeQcAAHoHAAB7BwAAfAcAAH0HAAB+BwAAfwcAAIAHAACBBwAAggcAAIMHAACEBwAAhQcAAIYHAACHBwAAiAcAAIkHAACKBwAAiwcAAIwHAACNBwAAjgcAAI8HAACQBwAAkQcAAJIHAACTBwAAlAcAAJUHAACWBwAAlwcAAJgHAACZBwAAmgcAAJsHAACcBwAAnQcAAJ4HAACfBwAAoAcAAKEHAACiBwAAowcAAKQHAAClBwAApgcAAKcHAACoBwAAqQcAAKoHAACrBwAArAcAAK0HAACuBwAArwcAALAHAACxBwAAsgcAALMHAAC0BwAAtQcAALYHAAC3BwAAuAcAALkHAAC6BwAAuwcAALwHAAC9BwAAvgcAAL8HAADABwAAwQcAAMIHAADDBwAAxAcAAMUHAADGBwAAxwcAAMgHAADJBwAAygcAAMsHAADMBwAAzQcAAM4HAADPBwAA0AcAANEHAADSBwAA0wcAANQHAADVBwAA1gcAANcHAADYBwAA2QcAANoHAADbBwAA3AcAAN0HAADeBwAA3wcAAOAHAADhBwAA4gcAAOMHAADkBwAA5QcAAOYHAADnBwAA6AcAAOkHAAA=",
          "dtype": "i4"
         },
         "xaxis": "x",
         "y": {
          "bdata": "AAAAAAAAAAAAAAAAAAAAAAAAAAAAAAAAAAAAAAAAAAAAAAAAAAAAAAAAAAAAAAAAAAAAAAAAAAAAAAAAAAAAAAAAAAAAAAAAAAAAAAAAAAAAAAAAAAAAAAAAAAAAAAAAAAAAAAAAAAAAAAAAAAAAAAAAAAAAAAAAAAAAAAAAAAAAAAAAAAAAAAAAAAAAAAAAAAAAAAAAAAAAAAAAAAAAAAAAAAAAAAAAAAAAAAAAAAAAAAAAAAAAAAAAAAAAAAAAAAAAAAAAAAAAAAAAAAAAAAAAAAAAAAAAAAAAAAAAAAAAAAAAAAAAAAAAAAAAAAAAAAAAAAAAAAAAAAAAAAAAAAAAAAAAAAAAAAAAAAAAAAAAAAAAAAAAAAAAAAAAAAAAAAAAAAAAAAAAAAAAAAAAAAAAAAAAAAAAAAAAAAAAAAAAAAAAAAAAAAAAAAAAAAAAAAAAAAAAAAAAAAAAAAAAAAAAAAAAAAAAAAAAAAAAAAAAAAAAAAAAAAAAAAAAAAAAAAAAAAAAAAAAAAAAAAAAAAAAAAAAAAAAAAAAAAAAAAAAAAAAAAAAAAAAAAAAAAAAAAAAAAAAAAAAAAAAAAAAAAAAAAAAAAAAAAAAAAAAAAAIosO0gq+7P5ACQTiCW9s/WDOlq7Xh6D82Uml/b3jfPwAAAAAAAAAAKV+tPIiesT8n0jLPcY/kPw3MQOn99Pc/Bv2x8LeM9j8AAAAAAAAAAAAAAAAAAAAAAAAAAAAAAAAAAAAAAAAAAAAAAAAAAAAAqU7JvozyJUB0oqysIUMnQOuXiCPaNihASd0UaYXlKEASdSTwevkoQCYNHIYNPyhAZFHCIzSjKECUzghxdHYoQOshud6B6ylArva+fQPtKkCEvCAZG7YqQDV2u/jQTClASv1+yVt5KUAv4CExQcEoQAGarlWKdipA1C2dqKb/KUDpp64ns80qQMXSx70+LipAuvR37uJwKEArP2qTq3UpQAtzca4bXihA9xhrCoroJ0BWgoEwYTwpQJfTIfoiMClAbCuS2QZJK0AlgW53OY0qQPRRZrNyVCpANMkuamH7JkBf8azuXR0qQM8a19eDLypA0KpkRlQgKkAROOlQ4k0oQKlp7mbhGSlAksQ8tyoWKkD0CpSXrF4oQM/V83VU4yFAbYv2hpDGIUBMji2ev2QhQOZ9S19OpyFAqlBy0stsIUBB0hWyFf0gQMRIxRHl7yFAqA8dITooJEBgNmEFlEkkQJLE7gBssyRAq+O9t5pHJEAgWM19IaAmQHiMgg6PYyVAvlZu6Hh7JECKY+hME68lQAWfJYKURiVA1rTcjpRSJkBCvF1177AmQA==",
          "dtype": "f8"
         },
         "yaxis": "y"
        },
        {
         "line": {
          "color": "blue",
          "width": 2
         },
         "mode": "lines+markers",
         "name": "Precipitación",
         "type": "scatter",
         "x": {
          "bdata": "bQcAAG4HAABvBwAAcAcAAHEHAAByBwAAcwcAAHQHAAB1BwAAdgcAAHcHAAB4BwAAeQcAAHoHAAB7BwAAfAcAAH0HAAB+BwAAfwcAAIAHAACBBwAAggcAAIMHAACEBwAAhQcAAIYHAACHBwAAiAcAAIkHAACKBwAAiwcAAIwHAACNBwAAjgcAAI8HAACQBwAAkQcAAJIHAACTBwAAlAcAAJUHAACWBwAAlwcAAJgHAACZBwAAmgcAAJsHAACcBwAAnQcAAJ4HAACfBwAAoAcAAKEHAACiBwAAowcAAKQHAAClBwAApgcAAKcHAACoBwAAqQcAAKoHAACrBwAArAcAAK0HAACuBwAArwcAALAHAACxBwAAsgcAALMHAAC0BwAAtQcAALYHAAC3BwAAuAcAALkHAAC6BwAAuwcAALwHAAC9BwAAvgcAAL8HAADABwAAwQcAAMIHAADDBwAAxAcAAMUHAADGBwAAxwcAAMgHAADJBwAAygcAAMsHAADMBwAAzQcAAM4HAADPBwAA0AcAANEHAADSBwAA0wcAANQHAADVBwAA1gcAANcHAADYBwAA2QcAANoHAADbBwAA3AcAAN0HAADeBwAA3wcAAOAHAADhBwAA4gcAAOMHAADkBwAA5QcAAOYHAADnBwAA6AcAAOkHAAA=",
          "dtype": "i4"
         },
         "xaxis": "x2",
         "y": {
          "bdata": "AAAAAAAAAAAAAAAAAAAAAAAAAAAAAAAAAAAAAAAAAABmZmZmZsZ1QJqZmZmZsX9AZmZmZmbCgUAzMzMzM4uEQAAAAAAA+HlAAAAAAADQeEAAAAAAAOCAQJqZmZmZsXBAZmZmZmbKgUBmZmZmZsZ/QDMzMzMzu4NAzczMzMyYjUBmZmZmZp6LQAAAAAAAQptAAAAAAADMgkDNzMzMzGagQDMzMzMzMqNAmpmZmZm1oEDNzMzMzMSbQDMzMzMzhaVAZmZmZmYYpUCamZmZmU2pQM3MzMzMWaRAMzMzMzNeq0BmZmZmZp6oQDMzMzMzFLJAmpmZmZnrsECamZmZmYe1QM3MzMzMPrRAzczMzEygsECamZmZGYGzQGZmZmbmg71AzczMzEy1tEDNzMzMTE+wQGZmZmbmE7hAMzMzM7MIuEBmZmZm5ry+QGZmZmbmFr9AZmZmZqYUwEAAAAAAgOa/QAAAAADAFsNAmpmZmdkmzkCamZmZOQrQQM3MzMzMu8tAMzMzM/PZzEAzMzMzc0LLQGZmZmbm69ZAZmZmZoYm1ECamZmZ2cHSQAAAAADgr9FAZmZmZqbL2EAzMzMz0wnWQAAAAABg1dRAmpmZmZnN2UCamZmZuTffQGZmZmamDeJAzczMzEzQ3UCamZmZ+bndQGZmZmYWduFAMzMzMxPe10AzMzMzcybdQAAAAAAged5AzczMzKz02EAzMzMzcxbcQGZmZma2xOFAmpmZmbm82UDNzMzM7G3eQDMzMzPzoeFAzczMzMwp3EAAAAAAgD/gQJqZmZnJnuBAZmZmZoYR40BmZmZmxlDlQGZmZmbmYONAAAAAAIDd5kAzMzMzA53gQJqZmZkZIt9AMzMzM9Py4EAAAAAAQFTgQM3MzMzspuNAZmZmZiZx30AAAAAAsCHgQJqZmZnphONAmpmZmYl44EAzMzMzo3TjQJqZmZmZst1AMzMzM0NR4ECamZmZCQvgQDMzMzPTn+BAmpmZmdke3kAzMzMzEyzgQAAAAAAgTedAmpmZmTlH5EAAAAAAgE/cQM3MzMzca+BAmpmZmVmG4UBmZmZmlmHgQGZmZmbWOeNAzczMzPwf40AzMzMzU4bfQGZmZmYmI9xAAAAAAPCX4UAzMzMzEwXeQGZmZmY2C+lAmpmZmaku5kAzMzMzU53rQDMzMzMDleVAMzMzM4N55EAzMzMzU37rQDMzMzMzCetAzczMzIw940AAAAAA0IzoQDMzMzNzM+JAzczMzExU7kAAAAAAMCDlQM3MzMx8H+pAAAAAAPAr5kAAAAAAUNTkQDMzMzNDQORAAAAAAMC25UDNzMzMTMnSQA==",
          "dtype": "f8"
         },
         "yaxis": "y2"
        },
        {
         "line": {
          "color": "green",
          "width": 2
         },
         "mode": "lines+markers",
         "name": "GDD-10",
         "type": "scatter",
         "x": {
          "bdata": "bQcAAG4HAABvBwAAcAcAAHEHAAByBwAAcwcAAHQHAAB1BwAAdgcAAHcHAAB4BwAAeQcAAHoHAAB7BwAAfAcAAH0HAAB+BwAAfwcAAIAHAACBBwAAggcAAIMHAACEBwAAhQcAAIYHAACHBwAAiAcAAIkHAACKBwAAiwcAAIwHAACNBwAAjgcAAI8HAACQBwAAkQcAAJIHAACTBwAAlAcAAJUHAACWBwAAlwcAAJgHAACZBwAAmgcAAJsHAACcBwAAnQcAAJ4HAACfBwAAoAcAAKEHAACiBwAAowcAAKQHAAClBwAApgcAAKcHAACoBwAAqQcAAKoHAACrBwAArAcAAK0HAACuBwAArwcAALAHAACxBwAAsgcAALMHAAC0BwAAtQcAALYHAAC3BwAAuAcAALkHAAC6BwAAuwcAALwHAAC9BwAAvgcAAL8HAADABwAAwQcAAMIHAADDBwAAxAcAAMUHAADGBwAAxwcAAMgHAADJBwAAygcAAMsHAADMBwAAzQcAAM4HAADPBwAA0AcAANEHAADSBwAA0wcAANQHAADVBwAA1gcAANcHAADYBwAA2QcAANoHAADbBwAA3AcAAN0HAADeBwAA3wcAAOAHAADhBwAA4gcAAOMHAADkBwAA5QcAAOYHAADnBwAA6AcAAOkHAAA=",
          "dtype": "i4"
         },
         "xaxis": "x3",
         "y": {
          "bdata": "AAAAAAAAAAAAAAAAAAAAAAAAAAAAAAAAAAAAAAAAAAAAAAAAAAAAAAAAAAAAAAAAAAAAAAAAAAAAAAAAAAAAAAAAAAAAAAAAAAAAAAAAAAAAAAAAAAAAAAAAAAAAAAAAAAAAAAAAAAAAAAAAAAAAAAAAAAAAAAAAAAAAAAAAAAAAAAAAAAAAAAAAAAAAAAAAAAAAAAAAAAAAAAAAAAAAAAAAAAAAAAAAAAAAAAAAAAAAAAAAAAAAAAAAAAAAAAAAAAAAAAAAAAAAAAAAAAAAAAAAAAAAAAAAAAAAAAAAAAAAAAAAAAAAAAAAAAAAAAAAAAAAAAAAAAAAAAAAAAAAAAAAAAAAAAAAAAAAAAAAAAAAAAAAAAAAAAAAAAAAAAAAAAAAAAAAAAAAAAAAAAAAAAAAAAAAAAAAAAAAAAAAAAAAAAAAAAAAAAAAAAAAAAAAAAAAAAAAAAAAAAAAAAAAAAAAAAAAAAAAAAAAAAAAAAAAAAAAAAAAAAAAAAAAAAAAAAAAAAAAAAAAAAAAAAAAAAAAAAAAAAAAAAAAAAAAAAAAAAAAAAAAAAAAAAAAAAAAAAAAAAAAAAAAAAAAAAAAAAAAAAAAAAAAAAAAAAAAAAAAAAAAAOh7QGZmZmZmEaNAMzMzMzOYskAAAAAAAEmiQAAAAAAAAAAAmpmZmZnxd0AAAAAAAN2sQDMzMzNzCMNAMzMzMzNcv0AAAAAAAAAAAAAAAAAAAAAAAAAAAAAAAAAAAAAAAAAAAAAAAAAAAAAAmpmZmYnp80AzMzMzMx30QDMzMzOz3vVAmpmZmZHx9kCamZmZITH2QAAAAAC4AvdAAAAAAJAt90BmZmZmbq32QAAAAADgVvlAZmZmZk5V+kDNzMzMXEP7QDMzMzN7HvhAZmZmZtb++kBmZmZmtnL4QGZmZmYWdvtAAAAAAOjh+UDNzMzMFIb8QJqZmZlZfvxAzczMzHTc+EDNzMzMfI/5QM3MzMx0uvdAZmZmZt7++EAAAAAAQFb7QM3MzMxcx/lAzczMzPyc/EDNzMzMFB77QGZmZmbGA/tAMzMzM6Ov9kBmZmZm7qP7QGZmZmbuPvpAzczMzHT6+0DNzMzMDDj5QDMzMzMjM/tAZmZmZiYM/EAzMzMzQ/T3QJqZmZkxZfZAZmZmZj6m+ECamZmZAe/3QAAAAAAAsPhAzczMzNwh+UAzMzMz20f4QJqZmZnhDvpAAAAAAOgK/kDNzMzMzGL8QJqZmZnJZfxAAAAAALjN+kCamZmZAYf6QJqZmZlBgf5AmpmZmaGs/EAAAAAAVEcAQZqZmZltDgBBAAAAAFBm+0AzMzMz84jYQA==",
          "dtype": "f8"
         },
         "yaxis": "y3"
        },
        {
         "line": {
          "color": "purple",
          "width": 2
         },
         "mode": "lines+markers",
         "name": "Días Heladas",
         "type": "scatter",
         "x": {
          "bdata": "bQcAAG4HAABvBwAAcAcAAHEHAAByBwAAcwcAAHQHAAB1BwAAdgcAAHcHAAB4BwAAeQcAAHoHAAB7BwAAfAcAAH0HAAB+BwAAfwcAAIAHAACBBwAAggcAAIMHAACEBwAAhQcAAIYHAACHBwAAiAcAAIkHAACKBwAAiwcAAIwHAACNBwAAjgcAAI8HAACQBwAAkQcAAJIHAACTBwAAlAcAAJUHAACWBwAAlwcAAJgHAACZBwAAmgcAAJsHAACcBwAAnQcAAJ4HAACfBwAAoAcAAKEHAACiBwAAowcAAKQHAAClBwAApgcAAKcHAACoBwAAqQcAAKoHAACrBwAArAcAAK0HAACuBwAArwcAALAHAACxBwAAsgcAALMHAAC0BwAAtQcAALYHAAC3BwAAuAcAALkHAAC6BwAAuwcAALwHAAC9BwAAvgcAAL8HAADABwAAwQcAAMIHAADDBwAAxAcAAMUHAADGBwAAxwcAAMgHAADJBwAAygcAAMsHAADMBwAAzQcAAM4HAADPBwAA0AcAANEHAADSBwAA0wcAANQHAADVBwAA1gcAANcHAADYBwAA2QcAANoHAADbBwAA3AcAAN0HAADeBwAA3wcAAOAHAADhBwAA4gcAAOMHAADkBwAA5QcAAOYHAADnBwAA6AcAAOkHAAA=",
          "dtype": "i4"
         },
         "xaxis": "x4",
         "y": {
          "bdata": "NQAkABoANQBXAEsAWABPAF4ASQBUADoAOwA5ADkAOQBdAD4AWQCrAJIAgQCgAOkA6wCQAJwAxgDHAMQA0wChAO4AJAF+AYQBuQBZAU4BjgHDAZwCDgKeA4gDwATdA+UCRwTzA2wFKQbEBsIGqgVWCFwH+gavBa0GSQSfBp0F2wZ+BoYF8gVTBLgFIQaOBtYEtAsrCeAJyAnQBlsIjwiFCREJ2QdBCssJxwrTCrgJ7gkiCD8JyAkoCtkK4QfpB84H0wVZCPEKUgnZCKQG+QdzCSwMQghnCFcMMwzxDooL4BCOD/MK3Q2YC4cMOAt5CZQKYwzxDHIO4Qi0Bw==",
          "dtype": "i2"
         },
         "yaxis": "y4"
        }
       ],
       "layout": {
        "annotations": [
         {
          "font": {
           "size": 16
          },
          "showarrow": false,
          "text": "Temperatura Media Anual",
          "x": 0.225,
          "xanchor": "center",
          "xref": "paper",
          "y": 1,
          "yanchor": "bottom",
          "yref": "paper"
         },
         {
          "font": {
           "size": 16
          },
          "showarrow": false,
          "text": "Precipitación Total Anual",
          "x": 0.775,
          "xanchor": "center",
          "xref": "paper",
          "y": 1,
          "yanchor": "bottom",
          "yref": "paper"
         },
         {
          "font": {
           "size": 16
          },
          "showarrow": false,
          "text": "Grados Día de Crecimiento",
          "x": 0.225,
          "xanchor": "center",
          "xref": "paper",
          "y": 0.44,
          "yanchor": "bottom",
          "yref": "paper"
         },
         {
          "font": {
           "size": 16
          },
          "showarrow": false,
          "text": "Días con Heladas",
          "x": 0.775,
          "xanchor": "center",
          "xref": "paper",
          "y": 0.44,
          "yanchor": "bottom",
          "yref": "paper"
         }
        ],
        "height": 600,
        "showlegend": false,
        "template": {
         "data": {
          "bar": [
           {
            "error_x": {
             "color": "#2a3f5f"
            },
            "error_y": {
             "color": "#2a3f5f"
            },
            "marker": {
             "line": {
              "color": "#E5ECF6",
              "width": 0.5
             },
             "pattern": {
              "fillmode": "overlay",
              "size": 10,
              "solidity": 0.2
             }
            },
            "type": "bar"
           }
          ],
          "barpolar": [
           {
            "marker": {
             "line": {
              "color": "#E5ECF6",
              "width": 0.5
             },
             "pattern": {
              "fillmode": "overlay",
              "size": 10,
              "solidity": 0.2
             }
            },
            "type": "barpolar"
           }
          ],
          "carpet": [
           {
            "aaxis": {
             "endlinecolor": "#2a3f5f",
             "gridcolor": "white",
             "linecolor": "white",
             "minorgridcolor": "white",
             "startlinecolor": "#2a3f5f"
            },
            "baxis": {
             "endlinecolor": "#2a3f5f",
             "gridcolor": "white",
             "linecolor": "white",
             "minorgridcolor": "white",
             "startlinecolor": "#2a3f5f"
            },
            "type": "carpet"
           }
          ],
          "choropleth": [
           {
            "colorbar": {
             "outlinewidth": 0,
             "ticks": ""
            },
            "type": "choropleth"
           }
          ],
          "contour": [
           {
            "colorbar": {
             "outlinewidth": 0,
             "ticks": ""
            },
            "colorscale": [
             [
              0,
              "#0d0887"
             ],
             [
              0.1111111111111111,
              "#46039f"
             ],
             [
              0.2222222222222222,
              "#7201a8"
             ],
             [
              0.3333333333333333,
              "#9c179e"
             ],
             [
              0.4444444444444444,
              "#bd3786"
             ],
             [
              0.5555555555555556,
              "#d8576b"
             ],
             [
              0.6666666666666666,
              "#ed7953"
             ],
             [
              0.7777777777777778,
              "#fb9f3a"
             ],
             [
              0.8888888888888888,
              "#fdca26"
             ],
             [
              1,
              "#f0f921"
             ]
            ],
            "type": "contour"
           }
          ],
          "contourcarpet": [
           {
            "colorbar": {
             "outlinewidth": 0,
             "ticks": ""
            },
            "type": "contourcarpet"
           }
          ],
          "heatmap": [
           {
            "colorbar": {
             "outlinewidth": 0,
             "ticks": ""
            },
            "colorscale": [
             [
              0,
              "#0d0887"
             ],
             [
              0.1111111111111111,
              "#46039f"
             ],
             [
              0.2222222222222222,
              "#7201a8"
             ],
             [
              0.3333333333333333,
              "#9c179e"
             ],
             [
              0.4444444444444444,
              "#bd3786"
             ],
             [
              0.5555555555555556,
              "#d8576b"
             ],
             [
              0.6666666666666666,
              "#ed7953"
             ],
             [
              0.7777777777777778,
              "#fb9f3a"
             ],
             [
              0.8888888888888888,
              "#fdca26"
             ],
             [
              1,
              "#f0f921"
             ]
            ],
            "type": "heatmap"
           }
          ],
          "histogram": [
           {
            "marker": {
             "pattern": {
              "fillmode": "overlay",
              "size": 10,
              "solidity": 0.2
             }
            },
            "type": "histogram"
           }
          ],
          "histogram2d": [
           {
            "colorbar": {
             "outlinewidth": 0,
             "ticks": ""
            },
            "colorscale": [
             [
              0,
              "#0d0887"
             ],
             [
              0.1111111111111111,
              "#46039f"
             ],
             [
              0.2222222222222222,
              "#7201a8"
             ],
             [
              0.3333333333333333,
              "#9c179e"
             ],
             [
              0.4444444444444444,
              "#bd3786"
             ],
             [
              0.5555555555555556,
              "#d8576b"
             ],
             [
              0.6666666666666666,
              "#ed7953"
             ],
             [
              0.7777777777777778,
              "#fb9f3a"
             ],
             [
              0.8888888888888888,
              "#fdca26"
             ],
             [
              1,
              "#f0f921"
             ]
            ],
            "type": "histogram2d"
           }
          ],
          "histogram2dcontour": [
           {
            "colorbar": {
             "outlinewidth": 0,
             "ticks": ""
            },
            "colorscale": [
             [
              0,
              "#0d0887"
             ],
             [
              0.1111111111111111,
              "#46039f"
             ],
             [
              0.2222222222222222,
              "#7201a8"
             ],
             [
              0.3333333333333333,
              "#9c179e"
             ],
             [
              0.4444444444444444,
              "#bd3786"
             ],
             [
              0.5555555555555556,
              "#d8576b"
             ],
             [
              0.6666666666666666,
              "#ed7953"
             ],
             [
              0.7777777777777778,
              "#fb9f3a"
             ],
             [
              0.8888888888888888,
              "#fdca26"
             ],
             [
              1,
              "#f0f921"
             ]
            ],
            "type": "histogram2dcontour"
           }
          ],
          "mesh3d": [
           {
            "colorbar": {
             "outlinewidth": 0,
             "ticks": ""
            },
            "type": "mesh3d"
           }
          ],
          "parcoords": [
           {
            "line": {
             "colorbar": {
              "outlinewidth": 0,
              "ticks": ""
             }
            },
            "type": "parcoords"
           }
          ],
          "pie": [
           {
            "automargin": true,
            "type": "pie"
           }
          ],
          "scatter": [
           {
            "fillpattern": {
             "fillmode": "overlay",
             "size": 10,
             "solidity": 0.2
            },
            "type": "scatter"
           }
          ],
          "scatter3d": [
           {
            "line": {
             "colorbar": {
              "outlinewidth": 0,
              "ticks": ""
             }
            },
            "marker": {
             "colorbar": {
              "outlinewidth": 0,
              "ticks": ""
             }
            },
            "type": "scatter3d"
           }
          ],
          "scattercarpet": [
           {
            "marker": {
             "colorbar": {
              "outlinewidth": 0,
              "ticks": ""
             }
            },
            "type": "scattercarpet"
           }
          ],
          "scattergeo": [
           {
            "marker": {
             "colorbar": {
              "outlinewidth": 0,
              "ticks": ""
             }
            },
            "type": "scattergeo"
           }
          ],
          "scattergl": [
           {
            "marker": {
             "colorbar": {
              "outlinewidth": 0,
              "ticks": ""
             }
            },
            "type": "scattergl"
           }
          ],
          "scattermap": [
           {
            "marker": {
             "colorbar": {
              "outlinewidth": 0,
              "ticks": ""
             }
            },
            "type": "scattermap"
           }
          ],
          "scattermapbox": [
           {
            "marker": {
             "colorbar": {
              "outlinewidth": 0,
              "ticks": ""
             }
            },
            "type": "scattermapbox"
           }
          ],
          "scatterpolar": [
           {
            "marker": {
             "colorbar": {
              "outlinewidth": 0,
              "ticks": ""
             }
            },
            "type": "scatterpolar"
           }
          ],
          "scatterpolargl": [
           {
            "marker": {
             "colorbar": {
              "outlinewidth": 0,
              "ticks": ""
             }
            },
            "type": "scatterpolargl"
           }
          ],
          "scatterternary": [
           {
            "marker": {
             "colorbar": {
              "outlinewidth": 0,
              "ticks": ""
             }
            },
            "type": "scatterternary"
           }
          ],
          "surface": [
           {
            "colorbar": {
             "outlinewidth": 0,
             "ticks": ""
            },
            "colorscale": [
             [
              0,
              "#0d0887"
             ],
             [
              0.1111111111111111,
              "#46039f"
             ],
             [
              0.2222222222222222,
              "#7201a8"
             ],
             [
              0.3333333333333333,
              "#9c179e"
             ],
             [
              0.4444444444444444,
              "#bd3786"
             ],
             [
              0.5555555555555556,
              "#d8576b"
             ],
             [
              0.6666666666666666,
              "#ed7953"
             ],
             [
              0.7777777777777778,
              "#fb9f3a"
             ],
             [
              0.8888888888888888,
              "#fdca26"
             ],
             [
              1,
              "#f0f921"
             ]
            ],
            "type": "surface"
           }
          ],
          "table": [
           {
            "cells": {
             "fill": {
              "color": "#EBF0F8"
             },
             "line": {
              "color": "white"
             }
            },
            "header": {
             "fill": {
              "color": "#C8D4E3"
             },
             "line": {
              "color": "white"
             }
            },
            "type": "table"
           }
          ]
         },
         "layout": {
          "annotationdefaults": {
           "arrowcolor": "#2a3f5f",
           "arrowhead": 0,
           "arrowwidth": 1
          },
          "autotypenumbers": "strict",
          "coloraxis": {
           "colorbar": {
            "outlinewidth": 0,
            "ticks": ""
           }
          },
          "colorscale": {
           "diverging": [
            [
             0,
             "#8e0152"
            ],
            [
             0.1,
             "#c51b7d"
            ],
            [
             0.2,
             "#de77ae"
            ],
            [
             0.3,
             "#f1b6da"
            ],
            [
             0.4,
             "#fde0ef"
            ],
            [
             0.5,
             "#f7f7f7"
            ],
            [
             0.6,
             "#e6f5d0"
            ],
            [
             0.7,
             "#b8e186"
            ],
            [
             0.8,
             "#7fbc41"
            ],
            [
             0.9,
             "#4d9221"
            ],
            [
             1,
             "#276419"
            ]
           ],
           "sequential": [
            [
             0,
             "#0d0887"
            ],
            [
             0.1111111111111111,
             "#46039f"
            ],
            [
             0.2222222222222222,
             "#7201a8"
            ],
            [
             0.3333333333333333,
             "#9c179e"
            ],
            [
             0.4444444444444444,
             "#bd3786"
            ],
            [
             0.5555555555555556,
             "#d8576b"
            ],
            [
             0.6666666666666666,
             "#ed7953"
            ],
            [
             0.7777777777777778,
             "#fb9f3a"
            ],
            [
             0.8888888888888888,
             "#fdca26"
            ],
            [
             1,
             "#f0f921"
            ]
           ],
           "sequentialminus": [
            [
             0,
             "#0d0887"
            ],
            [
             0.1111111111111111,
             "#46039f"
            ],
            [
             0.2222222222222222,
             "#7201a8"
            ],
            [
             0.3333333333333333,
             "#9c179e"
            ],
            [
             0.4444444444444444,
             "#bd3786"
            ],
            [
             0.5555555555555556,
             "#d8576b"
            ],
            [
             0.6666666666666666,
             "#ed7953"
            ],
            [
             0.7777777777777778,
             "#fb9f3a"
            ],
            [
             0.8888888888888888,
             "#fdca26"
            ],
            [
             1,
             "#f0f921"
            ]
           ]
          },
          "colorway": [
           "#636efa",
           "#EF553B",
           "#00cc96",
           "#ab63fa",
           "#FFA15A",
           "#19d3f3",
           "#FF6692",
           "#B6E880",
           "#FF97FF",
           "#FECB52"
          ],
          "font": {
           "color": "#2a3f5f"
          },
          "geo": {
           "bgcolor": "white",
           "lakecolor": "white",
           "landcolor": "#E5ECF6",
           "showlakes": true,
           "showland": true,
           "subunitcolor": "white"
          },
          "hoverlabel": {
           "align": "left"
          },
          "hovermode": "closest",
          "mapbox": {
           "style": "light"
          },
          "paper_bgcolor": "white",
          "plot_bgcolor": "#E5ECF6",
          "polar": {
           "angularaxis": {
            "gridcolor": "white",
            "linecolor": "white",
            "ticks": ""
           },
           "bgcolor": "#E5ECF6",
           "radialaxis": {
            "gridcolor": "white",
            "linecolor": "white",
            "ticks": ""
           }
          },
          "scene": {
           "xaxis": {
            "backgroundcolor": "#E5ECF6",
            "gridcolor": "white",
            "gridwidth": 2,
            "linecolor": "white",
            "showbackground": true,
            "ticks": "",
            "zerolinecolor": "white"
           },
           "yaxis": {
            "backgroundcolor": "#E5ECF6",
            "gridcolor": "white",
            "gridwidth": 2,
            "linecolor": "white",
            "showbackground": true,
            "ticks": "",
            "zerolinecolor": "white"
           },
           "zaxis": {
            "backgroundcolor": "#E5ECF6",
            "gridcolor": "white",
            "gridwidth": 2,
            "linecolor": "white",
            "showbackground": true,
            "ticks": "",
            "zerolinecolor": "white"
           }
          },
          "shapedefaults": {
           "line": {
            "color": "#2a3f5f"
           }
          },
          "ternary": {
           "aaxis": {
            "gridcolor": "white",
            "linecolor": "white",
            "ticks": ""
           },
           "baxis": {
            "gridcolor": "white",
            "linecolor": "white",
            "ticks": ""
           },
           "bgcolor": "#E5ECF6",
           "caxis": {
            "gridcolor": "white",
            "linecolor": "white",
            "ticks": ""
           }
          },
          "title": {
           "x": 0.05
          },
          "xaxis": {
           "automargin": true,
           "gridcolor": "white",
           "linecolor": "white",
           "ticks": "",
           "title": {
            "standoff": 15
           },
           "zerolinecolor": "white",
           "zerolinewidth": 2
          },
          "yaxis": {
           "automargin": true,
           "gridcolor": "white",
           "linecolor": "white",
           "ticks": "",
           "title": {
            "standoff": 15
           },
           "zerolinecolor": "white",
           "zerolinewidth": 2
          }
         }
        },
        "title": {
         "text": "Tendencias Climáticas Anuales - Impacto en Agricultura"
        },
        "xaxis": {
         "anchor": "y",
         "domain": [
          0,
          0.45
         ]
        },
        "xaxis2": {
         "anchor": "y2",
         "domain": [
          0.55,
          1
         ]
        },
        "xaxis3": {
         "anchor": "y3",
         "domain": [
          0,
          0.45
         ]
        },
        "xaxis4": {
         "anchor": "y4",
         "domain": [
          0.55,
          1
         ]
        },
        "yaxis": {
         "anchor": "x",
         "domain": [
          0.56,
          1
         ],
         "title": {
          "text": "°C"
         }
        },
        "yaxis2": {
         "anchor": "x2",
         "domain": [
          0.56,
          1
         ],
         "title": {
          "text": "mm"
         }
        },
        "yaxis3": {
         "anchor": "x3",
         "domain": [
          0,
          0.44
         ],
         "title": {
          "text": "GDD"
         }
        },
        "yaxis4": {
         "anchor": "x4",
         "domain": [
          0,
          0.44
         ],
         "title": {
          "text": "Días"
         }
        }
       }
      }
     },
     "metadata": {},
     "output_type": "display_data"
    }
   ],
   "source": [
    "# Gráfico de tendencias anuales\n",
    "fig = make_subplots(\n",
    "    rows=2, cols=2,\n",
    "    subplot_titles=('Temperatura Media Anual', 'Precipitación Total Anual', \n",
    "                   'Grados Día de Crecimiento', 'Días con Heladas'),\n",
    "    vertical_spacing=0.12\n",
    ")\n",
    "\n",
    "# Temperatura media\n",
    "fig.add_trace(\n",
    "    go.Scatter(x=annual_climate['YEAR'], y=annual_climate['TAVG_C'],\n",
    "               mode='lines+markers', name='Temp. Media',\n",
    "               line=dict(color='red', width=2)),\n",
    "    row=1, col=1\n",
    ")\n",
    "\n",
    "# Precipitación\n",
    "fig.add_trace(\n",
    "    go.Scatter(x=annual_climate['YEAR'], y=annual_climate['PRCP_MM'],\n",
    "               mode='lines+markers', name='Precipitación',\n",
    "               line=dict(color='blue', width=2)),\n",
    "    row=1, col=2\n",
    ")\n",
    "\n",
    "# Grados día\n",
    "fig.add_trace(\n",
    "    go.Scatter(x=annual_climate['YEAR'], y=annual_climate['GDD_10'],\n",
    "               mode='lines+markers', name='GDD-10',\n",
    "               line=dict(color='green', width=2)),\n",
    "    row=2, col=1\n",
    ")\n",
    "\n",
    "# Días con heladas\n",
    "fig.add_trace(\n",
    "    go.Scatter(x=annual_climate['YEAR'], y=annual_climate['FROST_DAY'],\n",
    "               mode='lines+markers', name='Días Heladas',\n",
    "               line=dict(color='purple', width=2)),\n",
    "    row=2, col=2\n",
    ")\n",
    "\n",
    "fig.update_layout(\n",
    "    height=600,\n",
    "    title_text=\"Tendencias Climáticas Anuales - Impacto en Agricultura\",\n",
    "    showlegend=False\n",
    ")\n",
    "\n",
    "fig.update_yaxes(title_text=\"°C\", row=1, col=1)\n",
    "fig.update_yaxes(title_text=\"mm\", row=1, col=2)\n",
    "fig.update_yaxes(title_text=\"GDD\", row=2, col=1)\n",
    "fig.update_yaxes(title_text=\"Días\", row=2, col=2)\n",
    "\n",
    "fig.show()"
   ]
  },
  {
   "cell_type": "markdown",
   "id": "da3b2ef6",
   "metadata": {},
   "source": [
    "## 7. Análisis Estacional para Agricultura"
   ]
  },
  {
   "cell_type": "code",
   "execution_count": 10,
   "id": "043f5042",
   "metadata": {},
   "outputs": [
    {
     "name": "stdout",
     "output_type": "stream",
     "text": [
      "=== ANÁLISIS ESTACIONAL ===\n",
      "Importante para planificación de cultivos y calendarios agrícolas\n"
     ]
    },
    {
     "data": {
      "text/html": [
       "<div>\n",
       "<style scoped>\n",
       "    .dataframe tbody tr th:only-of-type {\n",
       "        vertical-align: middle;\n",
       "    }\n",
       "\n",
       "    .dataframe tbody tr th {\n",
       "        vertical-align: top;\n",
       "    }\n",
       "\n",
       "    .dataframe thead tr th {\n",
       "        text-align: left;\n",
       "    }\n",
       "\n",
       "    .dataframe thead tr:last-of-type th {\n",
       "        text-align: right;\n",
       "    }\n",
       "</style>\n",
       "<table border=\"1\" class=\"dataframe\">\n",
       "  <thead>\n",
       "    <tr>\n",
       "      <th></th>\n",
       "      <th colspan=\"4\" halign=\"left\">TMAX_C</th>\n",
       "      <th colspan=\"4\" halign=\"left\">TMIN_C</th>\n",
       "      <th colspan=\"2\" halign=\"left\">TAVG_C</th>\n",
       "      <th colspan=\"3\" halign=\"left\">PRCP_MM</th>\n",
       "      <th>TEMP_RANGE</th>\n",
       "      <th colspan=\"2\" halign=\"left\">GDD_10</th>\n",
       "      <th>FROST_DAY</th>\n",
       "      <th>HEAT_STRESS_DAY</th>\n",
       "      <th>RAIN_DAY</th>\n",
       "    </tr>\n",
       "    <tr>\n",
       "      <th></th>\n",
       "      <th>mean</th>\n",
       "      <th>std</th>\n",
       "      <th>min</th>\n",
       "      <th>max</th>\n",
       "      <th>mean</th>\n",
       "      <th>std</th>\n",
       "      <th>min</th>\n",
       "      <th>max</th>\n",
       "      <th>mean</th>\n",
       "      <th>std</th>\n",
       "      <th>mean</th>\n",
       "      <th>sum</th>\n",
       "      <th>std</th>\n",
       "      <th>mean</th>\n",
       "      <th>mean</th>\n",
       "      <th>sum</th>\n",
       "      <th>sum</th>\n",
       "      <th>sum</th>\n",
       "      <th>sum</th>\n",
       "    </tr>\n",
       "    <tr>\n",
       "      <th>SEASON</th>\n",
       "      <th></th>\n",
       "      <th></th>\n",
       "      <th></th>\n",
       "      <th></th>\n",
       "      <th></th>\n",
       "      <th></th>\n",
       "      <th></th>\n",
       "      <th></th>\n",
       "      <th></th>\n",
       "      <th></th>\n",
       "      <th></th>\n",
       "      <th></th>\n",
       "      <th></th>\n",
       "      <th></th>\n",
       "      <th></th>\n",
       "      <th></th>\n",
       "      <th></th>\n",
       "      <th></th>\n",
       "      <th></th>\n",
       "    </tr>\n",
       "  </thead>\n",
       "  <tbody>\n",
       "    <tr>\n",
       "      <th>Invierno</th>\n",
       "      <td>12.399834</td>\n",
       "      <td>5.303330</td>\n",
       "      <td>-19.1</td>\n",
       "      <td>38.6</td>\n",
       "      <td>3.743084</td>\n",
       "      <td>5.384053</td>\n",
       "      <td>-99.9</td>\n",
       "      <td>23.4</td>\n",
       "      <td>4.923420</td>\n",
       "      <td>5.630906</td>\n",
       "      <td>2.216530</td>\n",
       "      <td>889006.0</td>\n",
       "      <td>6.554168</td>\n",
       "      <td>8.656750</td>\n",
       "      <td>0.756205</td>\n",
       "      <td>303298.6</td>\n",
       "      <td>113011</td>\n",
       "      <td>5</td>\n",
       "      <td>97982</td>\n",
       "    </tr>\n",
       "    <tr>\n",
       "      <th>Otoño</th>\n",
       "      <td>20.386501</td>\n",
       "      <td>6.808204</td>\n",
       "      <td>-10.9</td>\n",
       "      <td>45.4</td>\n",
       "      <td>10.255006</td>\n",
       "      <td>5.937284</td>\n",
       "      <td>-99.9</td>\n",
       "      <td>28.9</td>\n",
       "      <td>8.967333</td>\n",
       "      <td>9.006051</td>\n",
       "      <td>2.191860</td>\n",
       "      <td>881303.0</td>\n",
       "      <td>7.314192</td>\n",
       "      <td>10.131495</td>\n",
       "      <td>3.627477</td>\n",
       "      <td>1458535.8</td>\n",
       "      <td>27437</td>\n",
       "      <td>3157</td>\n",
       "      <td>86251</td>\n",
       "    </tr>\n",
       "    <tr>\n",
       "      <th>Primavera</th>\n",
       "      <td>18.207132</td>\n",
       "      <td>6.051650</td>\n",
       "      <td>-13.9</td>\n",
       "      <td>42.6</td>\n",
       "      <td>7.539972</td>\n",
       "      <td>5.078350</td>\n",
       "      <td>-99.9</td>\n",
       "      <td>28.5</td>\n",
       "      <td>7.717980</td>\n",
       "      <td>7.687768</td>\n",
       "      <td>1.868977</td>\n",
       "      <td>767465.6</td>\n",
       "      <td>5.553360</td>\n",
       "      <td>10.667160</td>\n",
       "      <td>2.425748</td>\n",
       "      <td>996094.8</td>\n",
       "      <td>38692</td>\n",
       "      <td>611</td>\n",
       "      <td>95840</td>\n",
       "    </tr>\n",
       "    <tr>\n",
       "      <th>Verano</th>\n",
       "      <td>27.615757</td>\n",
       "      <td>5.966565</td>\n",
       "      <td>-2.3</td>\n",
       "      <td>47.2</td>\n",
       "      <td>15.228932</td>\n",
       "      <td>4.696678</td>\n",
       "      <td>-99.9</td>\n",
       "      <td>33.2</td>\n",
       "      <td>12.597875</td>\n",
       "      <td>11.542828</td>\n",
       "      <td>0.880273</td>\n",
       "      <td>356966.5</td>\n",
       "      <td>4.113188</td>\n",
       "      <td>12.386825</td>\n",
       "      <td>6.947862</td>\n",
       "      <td>2817482.9</td>\n",
       "      <td>8272</td>\n",
       "      <td>41873</td>\n",
       "      <td>44483</td>\n",
       "    </tr>\n",
       "  </tbody>\n",
       "</table>\n",
       "</div>"
      ],
      "text/plain": [
       "              TMAX_C                           TMIN_C                        \\\n",
       "                mean       std   min   max       mean       std   min   max   \n",
       "SEASON                                                                        \n",
       "Invierno   12.399834  5.303330 -19.1  38.6   3.743084  5.384053 -99.9  23.4   \n",
       "Otoño      20.386501  6.808204 -10.9  45.4  10.255006  5.937284 -99.9  28.9   \n",
       "Primavera  18.207132  6.051650 -13.9  42.6   7.539972  5.078350 -99.9  28.5   \n",
       "Verano     27.615757  5.966565  -2.3  47.2  15.228932  4.696678 -99.9  33.2   \n",
       "\n",
       "              TAVG_C              PRCP_MM                     TEMP_RANGE  \\\n",
       "                mean        std      mean       sum       std       mean   \n",
       "SEASON                                                                     \n",
       "Invierno    4.923420   5.630906  2.216530  889006.0  6.554168   8.656750   \n",
       "Otoño       8.967333   9.006051  2.191860  881303.0  7.314192  10.131495   \n",
       "Primavera   7.717980   7.687768  1.868977  767465.6  5.553360  10.667160   \n",
       "Verano     12.597875  11.542828  0.880273  356966.5  4.113188  12.386825   \n",
       "\n",
       "             GDD_10            FROST_DAY HEAT_STRESS_DAY RAIN_DAY  \n",
       "               mean        sum       sum             sum      sum  \n",
       "SEASON                                                             \n",
       "Invierno   0.756205   303298.6    113011               5    97982  \n",
       "Otoño      3.627477  1458535.8     27437            3157    86251  \n",
       "Primavera  2.425748   996094.8     38692             611    95840  \n",
       "Verano     6.947862  2817482.9      8272           41873    44483  "
      ]
     },
     "execution_count": 10,
     "metadata": {},
     "output_type": "execute_result"
    }
   ],
   "source": [
    "# Análisis por estaciones del año\n",
    "seasonal_analysis = clima_df.groupby('SEASON').agg({\n",
    "    'TMAX_C': ['mean', 'std', 'min', 'max'],\n",
    "    'TMIN_C': ['mean', 'std', 'min', 'max'],\n",
    "    'TAVG_C': ['mean', 'std'],\n",
    "    'PRCP_MM': ['mean', 'sum', 'std'],\n",
    "    'TEMP_RANGE': 'mean',\n",
    "    'GDD_10': ['mean', 'sum'],\n",
    "    'FROST_DAY': 'sum',\n",
    "    'HEAT_STRESS_DAY': 'sum',\n",
    "    'RAIN_DAY': 'sum'\n",
    "})\n",
    "\n",
    "print(\"=== ANÁLISIS ESTACIONAL ===\")\n",
    "print(\"Importante para planificación de cultivos y calendarios agrícolas\")\n",
    "seasonal_analysis"
   ]
  },
  {
   "cell_type": "code",
   "execution_count": null,
   "id": "178d21a4",
   "metadata": {},
   "outputs": [
    {
     "data": {
      "image/png": "[encoded data removed]",
      "text/plain": [
       "<Figure size 1500x1200 with 4 Axes>"
      ]
     },
     "metadata": {},
     "output_type": "display_data"
    }
   ],
   "source": [
    "# Gráficos estacionales interactivos\n",
    "fig = make_subplots(\n",
    "    rows=2, cols=2,\n",
    "    subplot_titles=('Temperaturas Medias por Estación', 'Precipitación Total por Estación', \n",
    "                   'Grados Día de Crecimiento por Estación', 'Eventos Extremos por Estación'),\n",
    "    vertical_spacing=0.15,\n",
    "    horizontal_spacing=0.12\n",
    ")\n",
    "\n",
    "# Datos para temperaturas por estación\n",
    "season_temp = clima_df.groupby('SEASON')[['TMAX_C', 'TMIN_C', 'TAVG_C']].mean().reset_index()\n",
    "\n",
    "# Temperatura por estación\n",
    "for i, temp_type in enumerate(['TMAX_C', 'TMIN_C', 'TAVG_C']):\n",
    "    colors = ['red', 'blue', 'green']\n",
    "    names = ['Temp. Máxima', 'Temp. Mínima', 'Temp. Media']\n",
    "    fig.add_trace(\n",
    "        go.Bar(x=season_temp['SEASON'], y=season_temp[temp_type], \n",
    "               name=names[i], marker_color=colors[i],\n",
    "               showlegend=True if i < 3 else False),\n",
    "        row=1, col=1\n",
    "    )\n",
    "\n",
    "# Precipitación por estación\n",
    "season_prcp = clima_df.groupby('SEASON')['PRCP_MM'].sum().reset_index()\n",
    "fig.add_trace(\n",
    "    go.Bar(x=season_prcp['SEASON'], y=season_prcp['PRCP_MM'], \n",
    "           name='Precipitación', marker_color='skyblue',\n",
    "           showlegend=False),\n",
    "    row=1, col=2\n",
    ")\n",
    "\n",
    "# Grados día por estación\n",
    "season_gdd = clima_df.groupby('SEASON')['GDD_10'].sum().reset_index()\n",
    "fig.add_trace(\n",
    "    go.Bar(x=season_gdd['SEASON'], y=season_gdd['GDD_10'], \n",
    "           name='GDD-10', marker_color='orange',\n",
    "           showlegend=False),\n",
    "    row=2, col=1\n",
    ")\n",
    "\n",
    "# Eventos extremos por estación\n",
    "season_events = clima_df.groupby('SEASON')[['FROST_DAY', 'HEAT_STRESS_DAY']].sum().reset_index()\n",
    "fig.add_trace(\n",
    "    go.Bar(x=season_events['SEASON'], y=season_events['FROST_DAY'], \n",
    "           name='Días Heladas', marker_color='purple'),\n",
    "    row=2, col=2\n",
    ")\n",
    "fig.add_trace(\n",
    "    go.Bar(x=season_events['SEASON'], y=season_events['HEAT_STRESS_DAY'], \n",
    "           name='Días Calor Extremo', marker_color='red'),\n",
    "    row=2, col=2\n",
    ")\n",
    "\n",
    "# Actualizar layout\n",
    "fig.update_layout(\n",
    "    height=700,\n",
    "    title_text=\"Análisis Estacional Interactivo - Variables Agroclimáticas\",\n",
    "    title_font_size=16,\n",
    "    showlegend=True\n",
    ")\n",
    "\n",
    "# Actualizar ejes\n",
    "fig.update_yaxes(title_text=\"Temperatura (°C)\", row=1, col=1)\n",
    "fig.update_yaxes(title_text=\"Precipitación (mm)\", row=1, col=2)\n",
    "fig.update_yaxes(title_text=\"GDD-10\", row=2, col=1)\n",
    "fig.update_yaxes(title_text=\"Número de Días\", row=2, col=2)\n",
    "\n",
    "fig.show()"
   ]
  },
  {
   "cell_type": "markdown",
   "id": "2d20ff19",
   "metadata": {},
   "source": [
    "## 8. Análisis Mensual - Calendario Agrícola"
   ]
  },
  {
   "cell_type": "code",
   "execution_count": 12,
   "id": "13f08abc",
   "metadata": {},
   "outputs": [
    {
     "name": "stdout",
     "output_type": "stream",
     "text": [
      "=== CALENDARIO AGROCLIMÁTICO MENSUAL ===\n"
     ]
    },
    {
     "data": {
      "text/html": [
       "<div>\n",
       "<style scoped>\n",
       "    .dataframe tbody tr th:only-of-type {\n",
       "        vertical-align: middle;\n",
       "    }\n",
       "\n",
       "    .dataframe tbody tr th {\n",
       "        vertical-align: top;\n",
       "    }\n",
       "\n",
       "    .dataframe thead th {\n",
       "        text-align: right;\n",
       "    }\n",
       "</style>\n",
       "<table border=\"1\" class=\"dataframe\">\n",
       "  <thead>\n",
       "    <tr style=\"text-align: right;\">\n",
       "      <th></th>\n",
       "      <th>MONTH</th>\n",
       "      <th>TMAX_C</th>\n",
       "      <th>TMIN_C</th>\n",
       "      <th>TAVG_C</th>\n",
       "      <th>PRCP_MM</th>\n",
       "      <th>GDD_10</th>\n",
       "      <th>FROST_DAY</th>\n",
       "      <th>HEAT_STRESS_DAY</th>\n",
       "      <th>RAIN_DAY</th>\n",
       "      <th>MONTH_NAME</th>\n",
       "    </tr>\n",
       "  </thead>\n",
       "  <tbody>\n",
       "    <tr>\n",
       "      <th>0</th>\n",
       "      <td>1</td>\n",
       "      <td>11.735219</td>\n",
       "      <td>3.280334</td>\n",
       "      <td>4.549639</td>\n",
       "      <td>2.193902</td>\n",
       "      <td>0.627085</td>\n",
       "      <td>356650.000000</td>\n",
       "      <td>0.000000</td>\n",
       "      <td>280191.666667</td>\n",
       "      <td>Enero</td>\n",
       "    </tr>\n",
       "    <tr>\n",
       "      <th>1</th>\n",
       "      <td>2</td>\n",
       "      <td>13.228729</td>\n",
       "      <td>3.778788</td>\n",
       "      <td>5.244174</td>\n",
       "      <td>2.058897</td>\n",
       "      <td>0.805441</td>\n",
       "      <td>292183.333333</td>\n",
       "      <td>41.666667</td>\n",
       "      <td>254208.333333</td>\n",
       "      <td>Febrero</td>\n",
       "    </tr>\n",
       "    <tr>\n",
       "      <th>2</th>\n",
       "      <td>3</td>\n",
       "      <td>15.703882</td>\n",
       "      <td>5.422418</td>\n",
       "      <td>6.384350</td>\n",
       "      <td>1.949149</td>\n",
       "      <td>1.399609</td>\n",
       "      <td>181616.666667</td>\n",
       "      <td>8.333333</td>\n",
       "      <td>270708.333333</td>\n",
       "      <td>Marzo</td>\n",
       "    </tr>\n",
       "    <tr>\n",
       "      <th>3</th>\n",
       "      <td>4</td>\n",
       "      <td>17.733124</td>\n",
       "      <td>7.161139</td>\n",
       "      <td>7.452244</td>\n",
       "      <td>1.963977</td>\n",
       "      <td>2.130274</td>\n",
       "      <td>94525.000000</td>\n",
       "      <td>233.333333</td>\n",
       "      <td>278041.666667</td>\n",
       "      <td>Abril</td>\n",
       "    </tr>\n",
       "    <tr>\n",
       "      <th>4</th>\n",
       "      <td>5</td>\n",
       "      <td>21.179398</td>\n",
       "      <td>10.032834</td>\n",
       "      <td>9.314270</td>\n",
       "      <td>1.696478</td>\n",
       "      <td>3.742131</td>\n",
       "      <td>46291.666667</td>\n",
       "      <td>4850.000000</td>\n",
       "      <td>249916.666667</td>\n",
       "      <td>Mayo</td>\n",
       "    </tr>\n",
       "    <tr>\n",
       "      <th>5</th>\n",
       "      <td>6</td>\n",
       "      <td>25.380527</td>\n",
       "      <td>13.498766</td>\n",
       "      <td>11.544027</td>\n",
       "      <td>1.192664</td>\n",
       "      <td>5.898005</td>\n",
       "      <td>26816.666667</td>\n",
       "      <td>50125.000000</td>\n",
       "      <td>165875.000000</td>\n",
       "      <td>Junio</td>\n",
       "    </tr>\n",
       "    <tr>\n",
       "      <th>6</th>\n",
       "      <td>7</td>\n",
       "      <td>28.725428</td>\n",
       "      <td>15.991852</td>\n",
       "      <td>13.134907</td>\n",
       "      <td>0.634447</td>\n",
       "      <td>7.472025</td>\n",
       "      <td>20900.000000</td>\n",
       "      <td>157525.000000</td>\n",
       "      <td>95600.000000</td>\n",
       "      <td>Julio</td>\n",
       "    </tr>\n",
       "    <tr>\n",
       "      <th>7</th>\n",
       "      <td>8</td>\n",
       "      <td>28.686724</td>\n",
       "      <td>16.153967</td>\n",
       "      <td>13.088946</td>\n",
       "      <td>0.821382</td>\n",
       "      <td>7.447911</td>\n",
       "      <td>21216.666667</td>\n",
       "      <td>141291.666667</td>\n",
       "      <td>109216.666667</td>\n",
       "      <td>Agosto</td>\n",
       "    </tr>\n",
       "    <tr>\n",
       "      <th>8</th>\n",
       "      <td>9</td>\n",
       "      <td>25.308583</td>\n",
       "      <td>13.797701</td>\n",
       "      <td>11.402401</td>\n",
       "      <td>1.513494</td>\n",
       "      <td>5.784121</td>\n",
       "      <td>25700.000000</td>\n",
       "      <td>25466.666667</td>\n",
       "      <td>172033.333333</td>\n",
       "      <td>Septiembre</td>\n",
       "    </tr>\n",
       "    <tr>\n",
       "      <th>9</th>\n",
       "      <td>10</td>\n",
       "      <td>20.584344</td>\n",
       "      <td>10.464420</td>\n",
       "      <td>9.056517</td>\n",
       "      <td>2.355505</td>\n",
       "      <td>3.556100</td>\n",
       "      <td>48591.666667</td>\n",
       "      <td>841.666667</td>\n",
       "      <td>259641.666667</td>\n",
       "      <td>Octubre</td>\n",
       "    </tr>\n",
       "    <tr>\n",
       "      <th>10</th>\n",
       "      <td>11</td>\n",
       "      <td>15.277331</td>\n",
       "      <td>6.508480</td>\n",
       "      <td>6.448683</td>\n",
       "      <td>2.698948</td>\n",
       "      <td>1.552014</td>\n",
       "      <td>154350.000000</td>\n",
       "      <td>0.000000</td>\n",
       "      <td>287083.333333</td>\n",
       "      <td>Noviembre</td>\n",
       "    </tr>\n",
       "    <tr>\n",
       "      <th>11</th>\n",
       "      <td>12</td>\n",
       "      <td>12.308908</td>\n",
       "      <td>4.176004</td>\n",
       "      <td>5.005562</td>\n",
       "      <td>2.383773</td>\n",
       "      <td>0.841006</td>\n",
       "      <td>292925.000000</td>\n",
       "      <td>0.000000</td>\n",
       "      <td>282116.666667</td>\n",
       "      <td>Diciembre</td>\n",
       "    </tr>\n",
       "  </tbody>\n",
       "</table>\n",
       "</div>"
      ],
      "text/plain": [
       "    MONTH     TMAX_C     TMIN_C     TAVG_C   PRCP_MM    GDD_10      FROST_DAY  \\\n",
       "0       1  11.735219   3.280334   4.549639  2.193902  0.627085  356650.000000   \n",
       "1       2  13.228729   3.778788   5.244174  2.058897  0.805441  292183.333333   \n",
       "2       3  15.703882   5.422418   6.384350  1.949149  1.399609  181616.666667   \n",
       "3       4  17.733124   7.161139   7.452244  1.963977  2.130274   94525.000000   \n",
       "4       5  21.179398  10.032834   9.314270  1.696478  3.742131   46291.666667   \n",
       "5       6  25.380527  13.498766  11.544027  1.192664  5.898005   26816.666667   \n",
       "6       7  28.725428  15.991852  13.134907  0.634447  7.472025   20900.000000   \n",
       "7       8  28.686724  16.153967  13.088946  0.821382  7.447911   21216.666667   \n",
       "8       9  25.308583  13.797701  11.402401  1.513494  5.784121   25700.000000   \n",
       "9      10  20.584344  10.464420   9.056517  2.355505  3.556100   48591.666667   \n",
       "10     11  15.277331   6.508480   6.448683  2.698948  1.552014  154350.000000   \n",
       "11     12  12.308908   4.176004   5.005562  2.383773  0.841006  292925.000000   \n",
       "\n",
       "    HEAT_STRESS_DAY       RAIN_DAY  MONTH_NAME  \n",
       "0          0.000000  280191.666667       Enero  \n",
       "1         41.666667  254208.333333     Febrero  \n",
       "2          8.333333  270708.333333       Marzo  \n",
       "3        233.333333  278041.666667       Abril  \n",
       "4       4850.000000  249916.666667        Mayo  \n",
       "5      50125.000000  165875.000000       Junio  \n",
       "6     157525.000000   95600.000000       Julio  \n",
       "7     141291.666667  109216.666667      Agosto  \n",
       "8      25466.666667  172033.333333  Septiembre  \n",
       "9        841.666667  259641.666667     Octubre  \n",
       "10         0.000000  287083.333333   Noviembre  \n",
       "11         0.000000  282116.666667   Diciembre  "
      ]
     },
     "execution_count": 12,
     "metadata": {},
     "output_type": "execute_result"
    }
   ],
   "source": [
    "# Análisis mensual para calendario agrícola\n",
    "monthly_climate = clima_df.groupby('MONTH').agg({\n",
    "    'TMAX_C': 'mean',\n",
    "    'TMIN_C': 'mean',\n",
    "    'TAVG_C': 'mean',\n",
    "    'PRCP_MM': 'mean',\n",
    "    'GDD_10': 'mean',\n",
    "    'FROST_DAY': lambda x: (x.sum() / len(clima_df.groupby('MONTH')) * 100),  # % de días con heladas\n",
    "    'HEAT_STRESS_DAY': lambda x: (x.sum() / len(clima_df.groupby('MONTH')) * 100),  # % de días calurosos\n",
    "    'RAIN_DAY': lambda x: (x.sum() / len(clima_df.groupby('MONTH')) * 100)  # % de días lluviosos\n",
    "}).reset_index()\n",
    "\n",
    "monthly_climate['MONTH_NAME'] = monthly_climate['MONTH'].map({\n",
    "    1: 'Enero', 2: 'Febrero', 3: 'Marzo', 4: 'Abril', 5: 'Mayo', 6: 'Junio',\n",
    "    7: 'Julio', 8: 'Agosto', 9: 'Septiembre', 10: 'Octubre', 11: 'Noviembre', 12: 'Diciembre'\n",
    "})\n",
    "\n",
    "print(\"=== CALENDARIO AGROCLIMÁTICO MENSUAL ===\")\n",
    "monthly_climate"
   ]
  },
  {
   "cell_type": "code",
   "execution_count": null,
   "id": "f8c02027",
   "metadata": {},
   "outputs": [
    {
     "data": {
      "image/png": "[encoded data removed]",
      "text/plain": [
       "<Figure size 1500x1000 with 4 Axes>"
      ]
     },
     "metadata": {},
     "output_type": "display_data"
    }
   ],
   "source": [
    "# Heatmap interactivo del calendario agroclimático\n",
    "fig = make_subplots(\n",
    "    rows=2, cols=1,\n",
    "    subplot_titles=('Calendario de Temperaturas y Precipitación', 'Calendario de Índices Agroclimáticos'),\n",
    "    vertical_spacing=0.15,\n",
    "    specs=[[{\"type\": \"heatmap\"}], [{\"type\": \"heatmap\"}]]\n",
    ")\n",
    "\n",
    "# Preparar datos para temperatura y precipitación\n",
    "temp_prcp_data = monthly_climate[['MONTH_NAME', 'TMAX_C', 'TMIN_C', 'PRCP_MM']].set_index('MONTH_NAME')\n",
    "months = temp_prcp_data.index.tolist()\n",
    "\n",
    "# Heatmap 1: Temperaturas y Precipitación\n",
    "fig.add_trace(\n",
    "    go.Heatmap(\n",
    "        z=[temp_prcp_data['TMAX_C'].values, temp_prcp_data['TMIN_C'].values, temp_prcp_data['PRCP_MM'].values],\n",
    "        x=months,\n",
    "        y=['Temp. Máxima (°C)', 'Temp. Mínima (°C)', 'Precipitación (mm)'],\n",
    "        colorscale='RdYlBu_r',\n",
    "        text=[[f'{val:.1f}' for val in temp_prcp_data['TMAX_C'].values],\n",
    "              [f'{val:.1f}' for val in temp_prcp_data['TMIN_C'].values],\n",
    "              [f'{val:.1f}' for val in temp_prcp_data['PRCP_MM'].values]],\n",
    "        texttemplate=\"%{text}\",\n",
    "        textfont={\"size\": 10},\n",
    "        colorbar=dict(title=\"Valor\", x=1.02, len=0.4, y=0.75),\n",
    "        name=\"Temp/Precip\"\n",
    "    ),\n",
    "    row=1, col=1\n",
    ")\n",
    "\n",
    "# Preparar datos para índices agrícolas\n",
    "agri_data = monthly_climate[['MONTH_NAME', 'GDD_10', 'FROST_DAY', 'HEAT_STRESS_DAY']].set_index('MONTH_NAME')\n",
    "\n",
    "# Heatmap 2: Índices Agroclimáticos\n",
    "fig.add_trace(\n",
    "    go.Heatmap(\n",
    "        z=[agri_data['GDD_10'].values, agri_data['FROST_DAY'].values, agri_data['HEAT_STRESS_DAY'].values],\n",
    "        x=months,\n",
    "        y=['GDD-10', 'Días Heladas (%)', 'Días Calor Extremo (%)'],\n",
    "        colorscale='viridis',\n",
    "        text=[[f'{val:.1f}' for val in agri_data['GDD_10'].values],\n",
    "              [f'{val:.1f}' for val in agri_data['FROST_DAY'].values],\n",
    "              [f'{val:.1f}' for val in agri_data['HEAT_STRESS_DAY'].values]],\n",
    "        texttemplate=\"%{text}\",\n",
    "        textfont={\"size\": 10},\n",
    "        colorbar=dict(title=\"Valor\", x=1.02, len=0.4, y=0.25),\n",
    "        name=\"Índices Agríc.\"\n",
    "    ),\n",
    "    row=2, col=1\n",
    ")\n",
    "\n",
    "# Actualizar layout\n",
    "fig.update_layout(\n",
    "    height=800,\n",
    "    title_text=\"Calendario Agroclimático Interactivo - España\",\n",
    "    title_font_size=16,\n",
    "    showlegend=False\n",
    ")\n",
    "\n",
    "fig.show()"
   ]
  },
  {
   "cell_type": "markdown",
   "id": "6f647ca6",
   "metadata": {},
   "source": [
    "## 9. Zonificación Agroclimática"
   ]
  },
  {
   "cell_type": "code",
   "execution_count": 14,
   "id": "308fa73e",
   "metadata": {},
   "outputs": [
    {
     "name": "stdout",
     "output_type": "stream",
     "text": [
      "=== ZONIFICACIÓN AGROCLIMÁTICA ===\n",
      "CLIMATE_ZONE\n",
      "Frío-Húmedo        57\n",
      "Templado-Húmedo    26\n",
      "Cálido-Húmedo       4\n",
      "Frío-Seco           1\n",
      "Name: count, dtype: int64\n"
     ]
    },
    {
     "data": {
      "text/html": [
       "<div>\n",
       "<style scoped>\n",
       "    .dataframe tbody tr th:only-of-type {\n",
       "        vertical-align: middle;\n",
       "    }\n",
       "\n",
       "    .dataframe tbody tr th {\n",
       "        vertical-align: top;\n",
       "    }\n",
       "\n",
       "    .dataframe thead th {\n",
       "        text-align: right;\n",
       "    }\n",
       "</style>\n",
       "<table border=\"1\" class=\"dataframe\">\n",
       "  <thead>\n",
       "    <tr style=\"text-align: right;\">\n",
       "      <th></th>\n",
       "      <th>STATION</th>\n",
       "      <th>LATITUDE</th>\n",
       "      <th>LONGITUDE</th>\n",
       "      <th>ELEVATION</th>\n",
       "      <th>NAME</th>\n",
       "      <th>TMAX_C</th>\n",
       "      <th>TMIN_C</th>\n",
       "      <th>TAVG_C</th>\n",
       "      <th>PRCP_MM</th>\n",
       "      <th>TEMP_RANGE</th>\n",
       "      <th>GDD_10</th>\n",
       "      <th>FROST_DAY</th>\n",
       "      <th>HEAT_STRESS_DAY</th>\n",
       "      <th>CLIMATE_ZONE</th>\n",
       "    </tr>\n",
       "  </thead>\n",
       "  <tbody>\n",
       "    <tr>\n",
       "      <th>0</th>\n",
       "      <td>SP000006155</td>\n",
       "      <td>36.6667</td>\n",
       "      <td>-4.4881</td>\n",
       "      <td>7.0</td>\n",
       "      <td>MALAGA AEROPUERTO, SP</td>\n",
       "      <td>23.160600</td>\n",
       "      <td>13.734708</td>\n",
       "      <td>11.532775</td>\n",
       "      <td>43955.9</td>\n",
       "      <td>9.425892</td>\n",
       "      <td>157882.8</td>\n",
       "      <td>96</td>\n",
       "      <td>819</td>\n",
       "      <td>Templado-Húmedo</td>\n",
       "    </tr>\n",
       "    <tr>\n",
       "      <th>1</th>\n",
       "      <td>SP000008027</td>\n",
       "      <td>43.3075</td>\n",
       "      <td>-2.0392</td>\n",
       "      <td>251.0</td>\n",
       "      <td>SAN SEBASTIAN IGUELDO, SP</td>\n",
       "      <td>16.315378</td>\n",
       "      <td>10.341969</td>\n",
       "      <td>6.943336</td>\n",
       "      <td>154456.1</td>\n",
       "      <td>5.973409</td>\n",
       "      <td>78026.5</td>\n",
       "      <td>1161</td>\n",
       "      <td>55</td>\n",
       "      <td>Frío-Húmedo</td>\n",
       "    </tr>\n",
       "    <tr>\n",
       "      <th>2</th>\n",
       "      <td>SP000008181</td>\n",
       "      <td>41.2928</td>\n",
       "      <td>2.0697</td>\n",
       "      <td>4.0</td>\n",
       "      <td>BARCELONA AEROPUERTO, SP</td>\n",
       "      <td>20.016819</td>\n",
       "      <td>11.548095</td>\n",
       "      <td>9.654766</td>\n",
       "      <td>54047.5</td>\n",
       "      <td>8.468724</td>\n",
       "      <td>122341.8</td>\n",
       "      <td>1219</td>\n",
       "      <td>18</td>\n",
       "      <td>Frío-Húmedo</td>\n",
       "    </tr>\n",
       "    <tr>\n",
       "      <th>3</th>\n",
       "      <td>SP000008202</td>\n",
       "      <td>40.9592</td>\n",
       "      <td>-5.4981</td>\n",
       "      <td>790.0</td>\n",
       "      <td>SALAMANCA AEROPUERTO, SP</td>\n",
       "      <td>18.644415</td>\n",
       "      <td>5.526183</td>\n",
       "      <td>7.914712</td>\n",
       "      <td>30437.3</td>\n",
       "      <td>13.118232</td>\n",
       "      <td>79319.6</td>\n",
       "      <td>6430</td>\n",
       "      <td>601</td>\n",
       "      <td>Frío-Húmedo</td>\n",
       "    </tr>\n",
       "    <tr>\n",
       "      <th>4</th>\n",
       "      <td>SP000008215</td>\n",
       "      <td>40.7806</td>\n",
       "      <td>-4.0103</td>\n",
       "      <td>1894.0</td>\n",
       "      <td>NAVACERRADA, SP</td>\n",
       "      <td>10.557077</td>\n",
       "      <td>3.085617</td>\n",
       "      <td>4.429937</td>\n",
       "      <td>105491.9</td>\n",
       "      <td>7.471460</td>\n",
       "      <td>37998.3</td>\n",
       "      <td>10959</td>\n",
       "      <td>0</td>\n",
       "      <td>Frío-Húmedo</td>\n",
       "    </tr>\n",
       "  </tbody>\n",
       "</table>\n",
       "</div>"
      ],
      "text/plain": [
       "       STATION  LATITUDE  LONGITUDE  ELEVATION                       NAME  \\\n",
       "0  SP000006155   36.6667    -4.4881        7.0      MALAGA AEROPUERTO, SP   \n",
       "1  SP000008027   43.3075    -2.0392      251.0  SAN SEBASTIAN IGUELDO, SP   \n",
       "2  SP000008181   41.2928     2.0697        4.0   BARCELONA AEROPUERTO, SP   \n",
       "3  SP000008202   40.9592    -5.4981      790.0   SALAMANCA AEROPUERTO, SP   \n",
       "4  SP000008215   40.7806    -4.0103     1894.0            NAVACERRADA, SP   \n",
       "\n",
       "      TMAX_C     TMIN_C     TAVG_C   PRCP_MM  TEMP_RANGE    GDD_10  FROST_DAY  \\\n",
       "0  23.160600  13.734708  11.532775   43955.9    9.425892  157882.8         96   \n",
       "1  16.315378  10.341969   6.943336  154456.1    5.973409   78026.5       1161   \n",
       "2  20.016819  11.548095   9.654766   54047.5    8.468724  122341.8       1219   \n",
       "3  18.644415   5.526183   7.914712   30437.3   13.118232   79319.6       6430   \n",
       "4  10.557077   3.085617   4.429937  105491.9    7.471460   37998.3      10959   \n",
       "\n",
       "   HEAT_STRESS_DAY     CLIMATE_ZONE  \n",
       "0              819  Templado-Húmedo  \n",
       "1               55      Frío-Húmedo  \n",
       "2               18      Frío-Húmedo  \n",
       "3              601      Frío-Húmedo  \n",
       "4                0      Frío-Húmedo  "
      ]
     },
     "execution_count": 14,
     "metadata": {},
     "output_type": "execute_result"
    }
   ],
   "source": [
    "# Crear perfiles climáticos por estación para zonificación\n",
    "station_profiles = clima_df.groupby('STATION').agg({\n",
    "    'LATITUDE': 'first',\n",
    "    'LONGITUDE': 'first',\n",
    "    'ELEVATION': 'first',\n",
    "    'NAME': 'first',\n",
    "    'TMAX_C': 'mean',\n",
    "    'TMIN_C': 'mean',\n",
    "    'TAVG_C': 'mean',\n",
    "    'PRCP_MM': 'sum',\n",
    "    'TEMP_RANGE': 'mean',\n",
    "    'GDD_10': 'sum',\n",
    "    'FROST_DAY': 'sum',\n",
    "    'HEAT_STRESS_DAY': 'sum'\n",
    "}).reset_index()\n",
    "\n",
    "# Clasificación climática simple basada en temperatura y precipitación\n",
    "def classify_climate(row):\n",
    "    temp_avg = row['TAVG_C']\n",
    "    precip_annual = row['PRCP_MM']\n",
    "    \n",
    "    if temp_avg < 10:\n",
    "        if precip_annual < 600:\n",
    "            return 'Frío-Seco'\n",
    "        else:\n",
    "            return 'Frío-Húmedo'\n",
    "    elif temp_avg < 18:\n",
    "        if precip_annual < 600:\n",
    "            return 'Templado-Seco'\n",
    "        else:\n",
    "            return 'Templado-Húmedo'\n",
    "    else:\n",
    "        if precip_annual < 600:\n",
    "            return 'Cálido-Seco'\n",
    "        else:\n",
    "            return 'Cálido-Húmedo'\n",
    "\n",
    "station_profiles['CLIMATE_ZONE'] = station_profiles.apply(classify_climate, axis=1)\n",
    "\n",
    "print(\"=== ZONIFICACIÓN AGROCLIMÁTICA ===\")\n",
    "print(station_profiles['CLIMATE_ZONE'].value_counts())\n",
    "station_profiles.head()"
   ]
  },
  {
   "cell_type": "code",
   "execution_count": 15,
   "id": "04bc534a",
   "metadata": {},
   "outputs": [
    {
     "data": {
      "application/vnd.plotly.v1+json": {
       "config": {
        "plotlyServerURL": "https://plot.ly"
       },
       "data": [
        {
         "customdata": {
          "bdata": "MCAv6ccQJ0DNzMzMfHblQAAAAAAAABxAiGx+o6UmLUDNzMzMXP3iQAAAAAAAgFZAK8SgVbQpK0CamZmZCZHrQAAAAAAAgFhAWRyMh9d2J0BmZmZmthHjQAAAAAAACIBAiG7TMGEjMUAAAAAAQE/GQAAAAAAAADVA7D0oWIZZKUCamZmZiYLuQAAAAAAAwF9A5y2/1XUNKUAAAAAAMAHpQAAAAAAAAHVASYPedP8jKkAAAAAAkJnlQAAAAAAAADtAYhN1JrlbJkCamZmZ0Tr1QAAAAAAAABRArPfES0n3LECamZmZ+WvVQAAAAAAAoINA2//ksYu3LEAAAAAAoM3hQAAAAAAA4GFAHQj5g25fL0AzMzMzU57SQAAAAAAAuIFAFCVRqx79KEBmZmZmpirQQAAAAAAAAGhA8Er1MKZqJkCamZmZeejdQAAAAAAACINA9LcizglNJkDNzMzMTNvcQAAAAAAASINAesE1fCJDKkDNzMzMHADiQAAAAAAAsHxAd2WQRna9JUAzMzMz80b/QAAAAAAAUHBA5pWOGclBJkDNzMzMzCvVQAAAAAAAgEFAjPgCht3RJkBmZmZmNr3nQAAAAAAAwINAb/ZbSA8LJkBmZmZmBqXUQAAAAAAAaI9Aad+zc1aPKkAzMzMz4wbkQAAAAAAAAEFAGqs0DuotKEAzMzMzcyrjQAAAAAAAwFFA1t9RV+k/JEAzMzMzQ9z2QAAAAAAAAEVAxBXmoMlOMUCamZmZGRvOQGZmZmZmJlFAZVDZdJsELEAzMzMz82jSQJqZmZmZuVVA7itTIJ8eKUAzMzMzMyTOQAAAAAAAcHBA",
          "dtype": "f8",
          "shape": "26, 3"
         },
         "hovertemplate": "<b>%{hovertext}</b><br><br>CLIMATE_ZONE=Templado-Húmedo<br>GDD_10=%{marker.size}<br>LATITUDE=%{lat}<br>LONGITUDE=%{lon}<br>TAVG_C=%{customdata[0]:.1f}<br>PRCP_MM=%{customdata[1]:.0f}<br>ELEVATION=%{customdata[2]:.0f}<extra></extra>",
         "hovertext": [
          "MALAGA AEROPUERTO, SP",
          "CORDOBA AEROPUERTO, SP",
          "A CORUNA ALVEDRO, SP",
          "VITORIA FORONDA, SP",
          "ALMERIA AEROPUERTO, SP",
          "ASTURIAS AVILES, SP",
          "OVIEDO, SP",
          "JEREZ DE LA FRONTERA, SP",
          "SANTANDER PARAYAS, SP",
          "CIUDAD REAL, SP",
          "GIRONA COSTA BRAVA, SP",
          "GRANADA AEROPUERTO, SP",
          "LLEIDA, SP",
          "MADRID BARAJAS, SP",
          "MADRID GETAFE, SP",
          "PAMPLONA, SP",
          "VIGO PEINADOR, SP",
          "STA. CRUZ DE TENERIFE, SP",
          "TENERIFE LOS RODEOS, SP",
          "SEGOVIA, SP",
          "SEVILLA SAN PABLO, SP",
          "REUS AEROPUERTO, SP",
          "BILBAO AEROPUERTO, SP",
          "VALENCIA, SP",
          "MORON DE LA FRONTERA, SP",
          "ZARAGOZA, SP"
         ],
         "lat": {
          "bdata": "IR/0bFZVQkBApN++DuxCQHPXEvJBp0VAK/aX3ZNvRUDOqs/VVmxCQFRSJ6CJyEVAIR/0bFatRUBVMCqpE2BCQLu4jQbwtkVAApoIG55+Q0Cx4emVsvREQGPuWkI+mEJAVTAqqRPQRECIhVrTvDtEQGZmZmZmJkRAz2bV52pjRUACmggbnh5FQBHHuriNdjxACtejcD16PEAMk6mCUXlEQCEf9GxWtUJA3gIJih+TREADeAskKKZFQDvfT42XvkNA2UElrmOWQkBenPhqR9VEQA==",
          "dtype": "f8"
         },
         "legendgroup": "Templado-Húmedo",
         "lon": {
          "bdata": "3bWEfNDzEcDD0ytlGWITwMrDQq1pviDAr5RliGPdBcCY3ZOHhdoCwMzuycNCLRjAkst/SL99F8BiodY07zgYwLsnDwu1pg7ACYofY+5aD8Dtnjws1BoGQI4G8BZIUA7ACtejcD0K4z/EQq1p3nEMwEjhehSuxw3AZmZmZmZm+r/l8h/Sbz8hwDarPldbQTDA3NeBc0ZUMMAZc9cS8oEQwKOSOgFNhBfABhIUP8bc8j+RD3o2qz4HwAwCK4cW2d6/casgBrp2FsCez4B6M6rwvw==",
          "dtype": "f8"
         },
         "marker": {
          "color": "rgb(228,26,28)",
          "size": {
           "bdata": "ZmZmZtZFA0EAAAAAkGAEQZqZmZkx6vVAmpmZmVkr8EBmZmZmGmwEQc3MzMwUjvNAZmZmZnYP8EAAAAAAWNEDQZqZmZlJAfdAZmZmZhZa/kBmZmZmZsH4QJqZmZkxSv9AMzMzM6Ob90CamZmZMZT7QDMzMzMbMABBAAAAAIha9UBmZmZmBlT0QM3MzMwQ2QhBZmZmZsanAEGamZmZIZbxQJqZmZlx+ARBAAAAAAz0AEHNzMzM5DX6QJqZmZl5E/pAMzMzMwtX90DNzMzMjMvzQA==",
           "dtype": "f8"
          },
          "sizemode": "area",
          "sizeref": 540.8525
         },
         "mode": "markers",
         "name": "Templado-Húmedo",
         "showlegend": true,
         "subplot": "mapbox",
         "type": "scattermapbox"
        },
        {
         "customdata": {
          "bdata": "z0938vnFG0DNzMzMwNoCQQAAAAAAYG9ABWeseT1PI0AAAAAA8GPqQAAAAAAAABBAHwLKLqqoH0AzMzMzU7ndQAAAAAAAsIhAQVhBWEG4EUBmZmZmPsH5QAAAAAAAmJ1ACErRINBCGkAAAAAA4PndQAAAAAAAAIZAhlUmiOYiHkBmZmZm5iLvQAAAAAAAAEZAoeT/OZcHBEBmZmZmVlXmQAAAAAAAhqJAqYVNt/kKIEDNzMzMJBn3QAAAAAAAAE1A9X8xEBs1IECamZmZocUBQQAAAAAAIHdArxl/IxP3IkBmZmZm1oXhQAAAAAAAABRARvk40WZrHkAAAAAA4BrTQAAAAAAAqJFAbVHKxM+AG0AzMzMz4y/mQAAAAAAA0ItAeB45gKfCCkDNzMzMTJ7iQAAAAAAAAPA/AAAAAAAAAACamZmZWffSQAAAAAAAADVA340WQDM+H0BmZmZmhlfjQAAAAAAAiI1A81OSCnRpHkDNzMzMjIHLQAAAAAAA+INAS3YcoHcYFkDNzMzMHJniQAAAAAAAADFAAAAAAAAAAAAAAAAAgPziQAAAAAAA6IBA7IGEb/n/IkBmZmZmpqLSQAAAAAAAMIJAAAAAAAAAAACamZmZaUnhQAAAAAAA4H9AaMTQNSHOIkAAAAAAAA3eQAAAAAAAEHZAzvPcn8vqG0AAAAAAUIDmQAAAAAAAoIxAyyc0FHO+FUDNzMzMLGvnQAAAAAAAsIBAPVCUXlLyIEAAAAAAwHTsQAAAAAAA0HtAk/qHWtliI0CamZmZ2fbXQAAAAAAAYI9AjSpYHcvtIkAAAAAAMFjhQAAAAAAAeIVAPm15OwhEHkAAAAAAMBTnQAAAAAAA4GFAAAAAAAAAAADNzMzMzLDJQAAAAAAAgGJAAAAAAAAAAAAzMzMzw1bmQAAAAAAAADNA3MNGrnlcGEDNzMzMfGnjQAAAAAAA6JBAYB+46jffI0BmZmZmZsbNQAAAAAAAIIxAGnLw2iudHUAAAAAAcH/jQAAAAAAAcIpAhXintCRkFEBmZmZmNrHiQAAAAAAAgIRAAAAAAAAAAABmZmZmZmDDQAAAAAAAAD1AAAAAAAAAAACamZmZGca7QAAAAAAAiIhAAAAAAAAAAABmZmZm5ne0QAAAAAAACIBAAAAAAAAAAADNzMzMTNHCQAAAAAAAiIpAAAAAAAAAAACamZmZmeK+QAAAAAAA4HtAAAAAAAAAAABmZmZmJvLAQAAAAAAAgGhAAAAAAAAAAACamZmZWSnKQAAAAAAAEJpAAAAAAAAAAABmZmZmZgy3QAAAAAAA4HFAAAAAAAAAAAAzMzMzMyfBQAAAAAAAADhAAAAAAAAAAAAAAAAAAPDAQAAAAAAAIHBAAAAAAAAAAACamZmZmT7QQAAAAAAAJqNAAAAAAAAAAABmZmZmZt20QAAAAAAAwGNAAAAAAAAAAAAzMzMzM5jQQAAAAAAAoIpAAAAAAAAAAADNzMzMTPbAQAAAAAAAABBAAAAAAAAAAADNzMzMjFrCQAAAAAAAkIVAAAAAAAAAAADNzMzMzFXCQAAAAAAA0HVAAAAAAAAAAAAzMzMzM+jKQAAAAAAAPJJAAAAAAAAAAABmZmZmJrLQQAAAAAAAaKFAAAAAAAAAAABmZmZmZhy6QAAAAAAAmIVAAAAAAAAAAADNzMzMzBW8QAAAAAAAABRAAAAAAAAAAABmZmZm5jm5QAAAAAAAsHpAAAAAAAAAAADNzMzMzGK/QAAAAAAAAABAe5LV/YKz4T9mZmZmBujWQJqZmZmZmTlA+ys2bqJB9T8AAAAAAJ26QAAAAAAATINA",
          "dtype": "f8",
          "shape": "57, 3"
         },
         "hovertemplate": "<b>%{hovertext}</b><br><br>CLIMATE_ZONE=Frío-Húmedo<br>GDD_10=%{marker.size}<br>LATITUDE=%{lat}<br>LONGITUDE=%{lon}<br>TAVG_C=%{customdata[0]:.1f}<br>PRCP_MM=%{customdata[1]:.0f}<br>ELEVATION=%{customdata[2]:.0f}<extra></extra>",
         "hovertext": [
          "SAN SEBASTIAN IGUELDO, SP",
          "BARCELONA AEROPUERTO, SP",
          "SALAMANCA AEROPUERTO, SP",
          "NAVACERRADA, SP",
          "ALBACETE LOS LLANOS, SP",
          "TORTOSA OBSERVATORIO DEL EBR, SP",
          "IZANA, SP",
          "A CORUNA, SP",
          "SANTIAGO DE COMPOSTELA LABACOL, SP",
          "GIJON MUSEL, SP",
          "AVILA, SP",
          "BURGOS VILLAFRIA, SP",
          "CADIZ, SP",
          "ROTA, SP",
          "CUENCA, SP",
          "GUADALAJARA, SP",
          "HUELVA, SP",
          "HUESCA, SP",
          "JAEN, SP",
          "JAEN INSTITUTO, SP",
          "LOGRONO AGONCILLO, SP",
          "LEON VIRGEN DEL CAMINO, SP",
          "PONFERRADA, SP",
          "LUGO ROZAS, SP",
          "COLMENAR VIEJO FAMET, SP",
          "MADRID CUATROVIENTOS, SP",
          "OURENSE, SP",
          "OURENSE INSTITUTO, SP",
          "PONTEVEDRA INSTITUTO, SP",
          "SORIA, SP",
          "TERUEL, SP",
          "VALLADOLID VILLANUBLA, SP",
          "ZAMORA, SP",
          "LA BISBAL DEMPORDA, SP",
          "LA PANADELLA, SP",
          "LA POBLA DE SEGUR BOMBERS, SP",
          "LA SEU DURGELL, SP",
          "LESPLUGA DE FRANCOLI, SP",
          "PORTBOU, SP",
          "PUIG SESOLLES, SP",
          "RAIMAT, SP",
          "ROSES, SP",
          "SABADELL PARC AGRARI, SP",
          "SALORIA, SP",
          "SANT CUGAT DEL VALLES CAR, SP",
          "SANT PAU DE SEGURIES, SP",
          "SANT PERE PESCADOR, SP",
          "SANT ROMA DABELLA, SP",
          "SANT SALVADOR DE GUARDIOLA, SP",
          "SANTUARI DE QUERALT, SP",
          "SASSEUVA, SP",
          "SOLSONA, SP",
          "TARRAGONA COMPLEX EDUCATIU, SP",
          "TARREGA, SP",
          "TORREDEMBARRA, SP",
          "ROTA NAS, SP",
          "TORREJON, SP"
         ],
         "lat": {
          "bdata": "j8L1KFynRUBoImx4eqVEQF8pyxDHekRA+aBns+pjRED9h/Tb13lDQH6MuWsJaURAArwFEhRPPECCc0aU9q5FQMSxLm6jcUVAnRGlvcHHRUD4wmSqYFREQFr1udqKLUVAHOviNhpAQkALtaZ5x1FCQFRSJ6CJCERAMZkqGJVURECMSuoENKFCQBgmUwWjCkVAFmpN847jQkAWak3zjuNCQP2H9NvXOUVApU5AE2FLRUBxGw3gLUhFQEmdgCbCjkVA/mX35GFZREDjNhrAWzBEQH3Qs1n1KUVAGCZTBaMqRUAs1JrmHTdFQDMzMzMz40RAeJyiI7ksRECamZmZmdlEQO7rwDkjwkRAhetRuB79RECF61G4Hs1EQAKaCBueHkVA5fIf0m8vRUAK16NwPbJEQHL5D+m3N0VAl/+QfvviREDl8h/Sb9dEQBgmUwWjIkVADk+vlGXIRECmCkYldUJFQEtZhjjWvURAfoy5awkhRUDKVMGopBZFQDbNO07REUVAIGPuWkLWRECh+DHmrg1FQMP1KFyPYkVAkX77OnD+RED3Bl+YTI1EQCEf9GxW1URAXynLEMeSREAzMzMzM1NCQGyx22eVP0RA",
          "dtype": "f8"
         },
         "legendgroup": "Frío-Húmedo",
         "lon": {
          "bdata": "jgbwFkhQAMDmP6Tfvo4AQOeMKO0N/hXAX5hMFYwKEMBz1xLyQc/9vxdIUPwYc98/xyk6kst/MMBm9+RhodYgwKd5xyk60iDA7C+7Jw/LFsC4HoXrUbgSwI/C9ShcDw3AZohjXdwGGcAyVTAqqVMZwO2ePCzUGgHAorQ3+MJkCcDrc7UV+8sbwIiFWtO849Q/9ihcj8J1DsAg0m9fB04OwGgibHh6pQLAuECC4seYFsBmZmZmZmYawDQRNjy90h3AW9O84xQdDsCOBvAWSFAOwMX+snvycB/A3bWEfNBzH8B4CyQofkwhwK+UZYhj3QPAWRe30QDe8b9mZmZmZmYTwJCg+DHm7hbA8WPMXUtICEANcayL22j2P9CzWfW52u4/P1dbsb/s9j++MJkqGJXxPxZqTfOOUwlAqoJRSZ2AA0DF/rJ78rDcPzJ3LSEfdAlAyxDHuriNAEB9rrZif9n1P+C+DpwzogBAJ6CJsOHpAkCDL0ymCsYIQMgHPZtVn/A/m+Ydp+hI/D+1pnnHKTr9P2B2Tx4Wauc/q8/VVuwv+D+8lpAPejbzP/d14JwRpfI/VFInoImw9j9mZmZmZmYZwO2d0VYlkQvA",
          "dtype": "f8"
         },
         "marker": {
          "color": "rgb(55,126,184)",
          "size": {
           "bdata": "AAAAAKgM80DNzMzMXN79QJqZmZl5XfNAmpmZmcmN4kDNzMzMVH/7QAAAAABEyAJBZmZmZsbp2EAAAAAAIOT1QM3MzMys2+9AZmZmZlaA50AzMzMzUynnQM3MzMwMGfBAmpmZmRlc4kAAAAAAAAAAAGZmZmZuePJAZmZmZjbk4kBmZmZm9gjzQAAAAAAAAAAAZmZmZqYs7UAAAAAAAAAAAGZmZmbuZPdAMzMzM/vq8UAzMzMz0yvqQJqZmZnpuOZAmpmZmfl47kAAAAAAiMX8QDMzMzMjuexAAAAAAAAAAAAAAAAAAAAAAAAAAADA7u1AZmZmZpbd60DNzMzMTI30QDMzMzNTTfBAAAAAAAAAAAAAAAAAAAAAAAAAAAAAAAAAAAAAAAAAAAAAAAAAAAAAAAAAAAAAAAAAAAAAAAAAAAAAAAAAAAAAAAAAAAAAAAAAAAAAAAAAAAAAAAAAAAAAAAAAAAAAAAAAAAAAAAAAAAAAAAAAAAAAAAAAAAAAAAAAAAAAAAAAAAAAAAAAAAAAAAAAAAAAAAAAAAAAAAAAAAAAAAAAAAAAAAAAAAAAAAAAAAAAAAAAAABmZmZmZsOuQM3MzMzMgpVA",
           "dtype": "f8"
          },
          "sizemode": "area",
          "sizeref": 540.8525
         },
         "mode": "markers",
         "name": "Frío-Húmedo",
         "showlegend": true,
         "subplot": "mapbox",
         "type": "scattermapbox"
        },
        {
         "customdata": {
          "bdata": "WI79gNbSNEAzMzMzMw+1QAAAAAAAACxAXeqoVdpEM0CamZmZWTPRQAAAAAAAgEBAeqSEnAoYM0AAAAAAACSbQAAAAAAAgFRAIZDBEuEMMkDNzMzMTDfBQGZmZmZmpkVA",
          "dtype": "f8",
          "shape": "4, 3"
         },
         "hovertemplate": "<b>%{hovertext}</b><br><br>CLIMATE_ZONE=Cálido-Húmedo<br>GDD_10=%{marker.size}<br>LATITUDE=%{lat}<br>LONGITUDE=%{lon}<br>TAVG_C=%{customdata[0]:.1f}<br>PRCP_MM=%{customdata[1]:.0f}<br>ELEVATION=%{customdata[2]:.0f}<extra></extra>",
         "hovertext": [
          "LANZAROTE AEROPUERTO, SP",
          "LA PALMA AEROPUERTO, SP",
          "ALICANTE, SP",
          "ALICANTE, SP"
         ],
         "lat": {
          "bdata": "a5p3nKLzPED8GHPXEqI8QOXQItv5LkNAarx0kxgkQ0A=",
          "dtype": "f8"
         },
         "legendgroup": "Cálido-Húmedo",
         "lon": {
          "bdata": "3pOHhVozK8DhehSuR8ExwAAAAAAAAOC/QmDl0CLb4b8=",
          "dtype": "f8"
         },
         "marker": {
          "color": "rgb(77,175,74)",
          "size": {
           "bdata": "AAAAAKhoCkEzMzMzW10JQTMzMzMTstRAMzMzM1Nq+EA=",
           "dtype": "f8"
          },
          "sizemode": "area",
          "sizeref": 540.8525
         },
         "mode": "markers",
         "name": "Cálido-Húmedo",
         "showlegend": true,
         "subplot": "mapbox",
         "type": "scattermapbox"
        },
        {
         "customdata": {
          "bdata": "W2uttdbaI0DNzMzMzCxkQAAAAAAAaIZA",
          "dtype": "f8",
          "shape": "1, 3"
         },
         "hovertemplate": "<b>%{hovertext}</b><br><br>CLIMATE_ZONE=Frío-Seco<br>GDD_10=%{marker.size}<br>LATITUDE=%{lat}<br>LONGITUDE=%{lon}<br>TAVG_C=%{customdata[0]:.1f}<br>PRCP_MM=%{customdata[1]:.0f}<br>ELEVATION=%{customdata[2]:.0f}<extra></extra>",
         "hovertext": [
          "GRANADA ARMILLA, SP"
         ],
         "lat": {
          "bdata": "Gy/dJAaRQkA=",
          "dtype": "f8"
         },
         "legendgroup": "Frío-Seco",
         "lon": {
          "bdata": "Vg4tsp3vDMA=",
          "dtype": "f8"
         },
         "marker": {
          "color": "rgb(152,78,163)",
          "size": {
           "bdata": "ZmZmZmYOcEA=",
           "dtype": "f8"
          },
          "sizemode": "area",
          "sizeref": 540.8525
         },
         "mode": "markers",
         "name": "Frío-Seco",
         "showlegend": true,
         "subplot": "mapbox",
         "type": "scattermapbox"
        }
       ],
       "layout": {
        "height": 600,
        "legend": {
         "itemsizing": "constant",
         "title": {
          "text": "Zona Climática"
         },
         "tracegroupgap": 0
        },
        "mapbox": {
         "center": {
          "lat": 40.21954097727272,
          "lon": -3.220879193181818
         },
         "domain": {
          "x": [
           0,
           1
          ],
          "y": [
           0,
           1
          ]
         },
         "style": "open-street-map",
         "zoom": 5
        },
        "template": {
         "data": {
          "bar": [
           {
            "error_x": {
             "color": "#2a3f5f"
            },
            "error_y": {
             "color": "#2a3f5f"
            },
            "marker": {
             "line": {
              "color": "#E5ECF6",
              "width": 0.5
             },
             "pattern": {
              "fillmode": "overlay",
              "size": 10,
              "solidity": 0.2
             }
            },
            "type": "bar"
           }
          ],
          "barpolar": [
           {
            "marker": {
             "line": {
              "color": "#E5ECF6",
              "width": 0.5
             },
             "pattern": {
              "fillmode": "overlay",
              "size": 10,
              "solidity": 0.2
             }
            },
            "type": "barpolar"
           }
          ],
          "carpet": [
           {
            "aaxis": {
             "endlinecolor": "#2a3f5f",
             "gridcolor": "white",
             "linecolor": "white",
             "minorgridcolor": "white",
             "startlinecolor": "#2a3f5f"
            },
            "baxis": {
             "endlinecolor": "#2a3f5f",
             "gridcolor": "white",
             "linecolor": "white",
             "minorgridcolor": "white",
             "startlinecolor": "#2a3f5f"
            },
            "type": "carpet"
           }
          ],
          "choropleth": [
           {
            "colorbar": {
             "outlinewidth": 0,
             "ticks": ""
            },
            "type": "choropleth"
           }
          ],
          "contour": [
           {
            "colorbar": {
             "outlinewidth": 0,
             "ticks": ""
            },
            "colorscale": [
             [
              0,
              "#0d0887"
             ],
             [
              0.1111111111111111,
              "#46039f"
             ],
             [
              0.2222222222222222,
              "#7201a8"
             ],
             [
              0.3333333333333333,
              "#9c179e"
             ],
             [
              0.4444444444444444,
              "#bd3786"
             ],
             [
              0.5555555555555556,
              "#d8576b"
             ],
             [
              0.6666666666666666,
              "#ed7953"
             ],
             [
              0.7777777777777778,
              "#fb9f3a"
             ],
             [
              0.8888888888888888,
              "#fdca26"
             ],
             [
              1,
              "#f0f921"
             ]
            ],
            "type": "contour"
           }
          ],
          "contourcarpet": [
           {
            "colorbar": {
             "outlinewidth": 0,
             "ticks": ""
            },
            "type": "contourcarpet"
           }
          ],
          "heatmap": [
           {
            "colorbar": {
             "outlinewidth": 0,
             "ticks": ""
            },
            "colorscale": [
             [
              0,
              "#0d0887"
             ],
             [
              0.1111111111111111,
              "#46039f"
             ],
             [
              0.2222222222222222,
              "#7201a8"
             ],
             [
              0.3333333333333333,
              "#9c179e"
             ],
             [
              0.4444444444444444,
              "#bd3786"
             ],
             [
              0.5555555555555556,
              "#d8576b"
             ],
             [
              0.6666666666666666,
              "#ed7953"
             ],
             [
              0.7777777777777778,
              "#fb9f3a"
             ],
             [
              0.8888888888888888,
              "#fdca26"
             ],
             [
              1,
              "#f0f921"
             ]
            ],
            "type": "heatmap"
           }
          ],
          "histogram": [
           {
            "marker": {
             "pattern": {
              "fillmode": "overlay",
              "size": 10,
              "solidity": 0.2
             }
            },
            "type": "histogram"
           }
          ],
          "histogram2d": [
           {
            "colorbar": {
             "outlinewidth": 0,
             "ticks": ""
            },
            "colorscale": [
             [
              0,
              "#0d0887"
             ],
             [
              0.1111111111111111,
              "#46039f"
             ],
             [
              0.2222222222222222,
              "#7201a8"
             ],
             [
              0.3333333333333333,
              "#9c179e"
             ],
             [
              0.4444444444444444,
              "#bd3786"
             ],
             [
              0.5555555555555556,
              "#d8576b"
             ],
             [
              0.6666666666666666,
              "#ed7953"
             ],
             [
              0.7777777777777778,
              "#fb9f3a"
             ],
             [
              0.8888888888888888,
              "#fdca26"
             ],
             [
              1,
              "#f0f921"
             ]
            ],
            "type": "histogram2d"
           }
          ],
          "histogram2dcontour": [
           {
            "colorbar": {
             "outlinewidth": 0,
             "ticks": ""
            },
            "colorscale": [
             [
              0,
              "#0d0887"
             ],
             [
              0.1111111111111111,
              "#46039f"
             ],
             [
              0.2222222222222222,
              "#7201a8"
             ],
             [
              0.3333333333333333,
              "#9c179e"
             ],
             [
              0.4444444444444444,
              "#bd3786"
             ],
             [
              0.5555555555555556,
              "#d8576b"
             ],
             [
              0.6666666666666666,
              "#ed7953"
             ],
             [
              0.7777777777777778,
              "#fb9f3a"
             ],
             [
              0.8888888888888888,
              "#fdca26"
             ],
             [
              1,
              "#f0f921"
             ]
            ],
            "type": "histogram2dcontour"
           }
          ],
          "mesh3d": [
           {
            "colorbar": {
             "outlinewidth": 0,
             "ticks": ""
            },
            "type": "mesh3d"
           }
          ],
          "parcoords": [
           {
            "line": {
             "colorbar": {
              "outlinewidth": 0,
              "ticks": ""
             }
            },
            "type": "parcoords"
           }
          ],
          "pie": [
           {
            "automargin": true,
            "type": "pie"
           }
          ],
          "scatter": [
           {
            "fillpattern": {
             "fillmode": "overlay",
             "size": 10,
             "solidity": 0.2
            },
            "type": "scatter"
           }
          ],
          "scatter3d": [
           {
            "line": {
             "colorbar": {
              "outlinewidth": 0,
              "ticks": ""
             }
            },
            "marker": {
             "colorbar": {
              "outlinewidth": 0,
              "ticks": ""
             }
            },
            "type": "scatter3d"
           }
          ],
          "scattercarpet": [
           {
            "marker": {
             "colorbar": {
              "outlinewidth": 0,
              "ticks": ""
             }
            },
            "type": "scattercarpet"
           }
          ],
          "scattergeo": [
           {
            "marker": {
             "colorbar": {
              "outlinewidth": 0,
              "ticks": ""
             }
            },
            "type": "scattergeo"
           }
          ],
          "scattergl": [
           {
            "marker": {
             "colorbar": {
              "outlinewidth": 0,
              "ticks": ""
             }
            },
            "type": "scattergl"
           }
          ],
          "scattermap": [
           {
            "marker": {
             "colorbar": {
              "outlinewidth": 0,
              "ticks": ""
             }
            },
            "type": "scattermap"
           }
          ],
          "scattermapbox": [
           {
            "marker": {
             "colorbar": {
              "outlinewidth": 0,
              "ticks": ""
             }
            },
            "type": "scattermapbox"
           }
          ],
          "scatterpolar": [
           {
            "marker": {
             "colorbar": {
              "outlinewidth": 0,
              "ticks": ""
             }
            },
            "type": "scatterpolar"
           }
          ],
          "scatterpolargl": [
           {
            "marker": {
             "colorbar": {
              "outlinewidth": 0,
              "ticks": ""
             }
            },
            "type": "scatterpolargl"
           }
          ],
          "scatterternary": [
           {
            "marker": {
             "colorbar": {
              "outlinewidth": 0,
              "ticks": ""
             }
            },
            "type": "scatterternary"
           }
          ],
          "surface": [
           {
            "colorbar": {
             "outlinewidth": 0,
             "ticks": ""
            },
            "colorscale": [
             [
              0,
              "#0d0887"
             ],
             [
              0.1111111111111111,
              "#46039f"
             ],
             [
              0.2222222222222222,
              "#7201a8"
             ],
             [
              0.3333333333333333,
              "#9c179e"
             ],
             [
              0.4444444444444444,
              "#bd3786"
             ],
             [
              0.5555555555555556,
              "#d8576b"
             ],
             [
              0.6666666666666666,
              "#ed7953"
             ],
             [
              0.7777777777777778,
              "#fb9f3a"
             ],
             [
              0.8888888888888888,
              "#fdca26"
             ],
             [
              1,
              "#f0f921"
             ]
            ],
            "type": "surface"
           }
          ],
          "table": [
           {
            "cells": {
             "fill": {
              "color": "#EBF0F8"
             },
             "line": {
              "color": "white"
             }
            },
            "header": {
             "fill": {
              "color": "#C8D4E3"
             },
             "line": {
              "color": "white"
             }
            },
            "type": "table"
           }
          ]
         },
         "layout": {
          "annotationdefaults": {
           "arrowcolor": "#2a3f5f",
           "arrowhead": 0,
           "arrowwidth": 1
          },
          "autotypenumbers": "strict",
          "coloraxis": {
           "colorbar": {
            "outlinewidth": 0,
            "ticks": ""
           }
          },
          "colorscale": {
           "diverging": [
            [
             0,
             "#8e0152"
            ],
            [
             0.1,
             "#c51b7d"
            ],
            [
             0.2,
             "#de77ae"
            ],
            [
             0.3,
             "#f1b6da"
            ],
            [
             0.4,
             "#fde0ef"
            ],
            [
             0.5,
             "#f7f7f7"
            ],
            [
             0.6,
             "#e6f5d0"
            ],
            [
             0.7,
             "#b8e186"
            ],
            [
             0.8,
             "#7fbc41"
            ],
            [
             0.9,
             "#4d9221"
            ],
            [
             1,
             "#276419"
            ]
           ],
           "sequential": [
            [
             0,
             "#0d0887"
            ],
            [
             0.1111111111111111,
             "#46039f"
            ],
            [
             0.2222222222222222,
             "#7201a8"
            ],
            [
             0.3333333333333333,
             "#9c179e"
            ],
            [
             0.4444444444444444,
             "#bd3786"
            ],
            [
             0.5555555555555556,
             "#d8576b"
            ],
            [
             0.6666666666666666,
             "#ed7953"
            ],
            [
             0.7777777777777778,
             "#fb9f3a"
            ],
            [
             0.8888888888888888,
             "#fdca26"
            ],
            [
             1,
             "#f0f921"
            ]
           ],
           "sequentialminus": [
            [
             0,
             "#0d0887"
            ],
            [
             0.1111111111111111,
             "#46039f"
            ],
            [
             0.2222222222222222,
             "#7201a8"
            ],
            [
             0.3333333333333333,
             "#9c179e"
            ],
            [
             0.4444444444444444,
             "#bd3786"
            ],
            [
             0.5555555555555556,
             "#d8576b"
            ],
            [
             0.6666666666666666,
             "#ed7953"
            ],
            [
             0.7777777777777778,
             "#fb9f3a"
            ],
            [
             0.8888888888888888,
             "#fdca26"
            ],
            [
             1,
             "#f0f921"
            ]
           ]
          },
          "colorway": [
           "#636efa",
           "#EF553B",
           "#00cc96",
           "#ab63fa",
           "#FFA15A",
           "#19d3f3",
           "#FF6692",
           "#B6E880",
           "#FF97FF",
           "#FECB52"
          ],
          "font": {
           "color": "#2a3f5f"
          },
          "geo": {
           "bgcolor": "white",
           "lakecolor": "white",
           "landcolor": "#E5ECF6",
           "showlakes": true,
           "showland": true,
           "subunitcolor": "white"
          },
          "hoverlabel": {
           "align": "left"
          },
          "hovermode": "closest",
          "mapbox": {
           "style": "light"
          },
          "paper_bgcolor": "white",
          "plot_bgcolor": "#E5ECF6",
          "polar": {
           "angularaxis": {
            "gridcolor": "white",
            "linecolor": "white",
            "ticks": ""
           },
           "bgcolor": "#E5ECF6",
           "radialaxis": {
            "gridcolor": "white",
            "linecolor": "white",
            "ticks": ""
           }
          },
          "scene": {
           "xaxis": {
            "backgroundcolor": "#E5ECF6",
            "gridcolor": "white",
            "gridwidth": 2,
            "linecolor": "white",
            "showbackground": true,
            "ticks": "",
            "zerolinecolor": "white"
           },
           "yaxis": {
            "backgroundcolor": "#E5ECF6",
            "gridcolor": "white",
            "gridwidth": 2,
            "linecolor": "white",
            "showbackground": true,
            "ticks": "",
            "zerolinecolor": "white"
           },
           "zaxis": {
            "backgroundcolor": "#E5ECF6",
            "gridcolor": "white",
            "gridwidth": 2,
            "linecolor": "white",
            "showbackground": true,
            "ticks": "",
            "zerolinecolor": "white"
           }
          },
          "shapedefaults": {
           "line": {
            "color": "#2a3f5f"
           }
          },
          "ternary": {
           "aaxis": {
            "gridcolor": "white",
            "linecolor": "white",
            "ticks": ""
           },
           "baxis": {
            "gridcolor": "white",
            "linecolor": "white",
            "ticks": ""
           },
           "bgcolor": "#E5ECF6",
           "caxis": {
            "gridcolor": "white",
            "linecolor": "white",
            "ticks": ""
           }
          },
          "title": {
           "x": 0.05
          },
          "xaxis": {
           "automargin": true,
           "gridcolor": "white",
           "linecolor": "white",
           "ticks": "",
           "title": {
            "standoff": 15
           },
           "zerolinecolor": "white",
           "zerolinewidth": 2
          },
          "yaxis": {
           "automargin": true,
           "gridcolor": "white",
           "linecolor": "white",
           "ticks": "",
           "title": {
            "standoff": 15
           },
           "zerolinecolor": "white",
           "zerolinewidth": 2
          }
         }
        },
        "title": {
         "font": {
          "size": 16
         },
         "text": "Zonificación Agroclimática de España"
        }
       }
      }
     },
     "metadata": {},
     "output_type": "display_data"
    }
   ],
   "source": [
    "# Mapa de zonificación agroclimática\n",
    "fig = px.scatter_mapbox(\n",
    "    station_profiles,\n",
    "    lat='LATITUDE',\n",
    "    lon='LONGITUDE',\n",
    "    color='CLIMATE_ZONE',\n",
    "    size='GDD_10',\n",
    "    hover_name='NAME',\n",
    "    hover_data={'TAVG_C': ':.1f', 'PRCP_MM': ':.0f', 'ELEVATION': ':.0f'},\n",
    "    title='Zonificación Agroclimática de España',\n",
    "    mapbox_style='open-street-map',\n",
    "    height=600,\n",
    "    zoom=5,\n",
    "    color_discrete_sequence=px.colors.qualitative.Set1\n",
    ")\n",
    "\n",
    "fig.update_layout(\n",
    "    title_font_size=16,\n",
    "    legend=dict(title=\"Zona Climática\")\n",
    ")\n",
    "\n",
    "fig.show()"
   ]
  },
  {
   "cell_type": "markdown",
   "id": "8a96371c",
   "metadata": {},
   "source": [
    "## 10. Análisis de Eventos Extremos"
   ]
  },
  {
   "cell_type": "code",
   "execution_count": 16,
   "id": "0736945d",
   "metadata": {},
   "outputs": [
    {
     "name": "stdout",
     "output_type": "stream",
     "text": [
      "=== EVENTOS EXTREMOS RELEVANTES PARA AGRICULTURA ===\n",
      "Heladas tardías (Abril-Mayo): 16898\n",
      "Heladas tempranas (Septiembre-Octubre): 8915\n",
      "Olas de calor (>35°C): 45646\n",
      "Lluvias intensas (>20mm): 33127\n",
      "Sequías (>30 días sin lluvia): Requiere análisis secuencial\n",
      "Granizo (indicado en atributos): Requiere análisis de atributos\n"
     ]
    },
    {
     "data": {
      "text/html": [
       "<div>\n",
       "<style scoped>\n",
       "    .dataframe tbody tr th:only-of-type {\n",
       "        vertical-align: middle;\n",
       "    }\n",
       "\n",
       "    .dataframe tbody tr th {\n",
       "        vertical-align: top;\n",
       "    }\n",
       "\n",
       "    .dataframe thead th {\n",
       "        text-align: right;\n",
       "    }\n",
       "</style>\n",
       "<table border=\"1\" class=\"dataframe\">\n",
       "  <thead>\n",
       "    <tr style=\"text-align: right;\">\n",
       "      <th></th>\n",
       "      <th>YEAR</th>\n",
       "      <th>TMAX_MIN</th>\n",
       "      <th>TMAX_MAX</th>\n",
       "      <th>TMIN_MIN</th>\n",
       "      <th>TMIN_MAX</th>\n",
       "      <th>MAX_DAILY_RAIN</th>\n",
       "      <th>TOTAL_FROST_DAYS</th>\n",
       "      <th>TOTAL_HEAT_DAYS</th>\n",
       "    </tr>\n",
       "  </thead>\n",
       "  <tbody>\n",
       "    <tr>\n",
       "      <th>0</th>\n",
       "      <td>1901</td>\n",
       "      <td>-1.3</td>\n",
       "      <td>45.0</td>\n",
       "      <td>-11.5</td>\n",
       "      <td>21.2</td>\n",
       "      <td>0.0</td>\n",
       "      <td>53</td>\n",
       "      <td>12</td>\n",
       "    </tr>\n",
       "    <tr>\n",
       "      <th>1</th>\n",
       "      <td>1902</td>\n",
       "      <td>-1.0</td>\n",
       "      <td>34.1</td>\n",
       "      <td>-6.5</td>\n",
       "      <td>28.5</td>\n",
       "      <td>0.0</td>\n",
       "      <td>36</td>\n",
       "      <td>0</td>\n",
       "    </tr>\n",
       "    <tr>\n",
       "      <th>2</th>\n",
       "      <td>1903</td>\n",
       "      <td>1.7</td>\n",
       "      <td>45.5</td>\n",
       "      <td>-7.0</td>\n",
       "      <td>19.8</td>\n",
       "      <td>0.0</td>\n",
       "      <td>26</td>\n",
       "      <td>21</td>\n",
       "    </tr>\n",
       "    <tr>\n",
       "      <th>3</th>\n",
       "      <td>1904</td>\n",
       "      <td>2.0</td>\n",
       "      <td>38.6</td>\n",
       "      <td>-6.6</td>\n",
       "      <td>20.1</td>\n",
       "      <td>0.0</td>\n",
       "      <td>53</td>\n",
       "      <td>21</td>\n",
       "    </tr>\n",
       "    <tr>\n",
       "      <th>4</th>\n",
       "      <td>1905</td>\n",
       "      <td>1.5</td>\n",
       "      <td>39.8</td>\n",
       "      <td>-99.9</td>\n",
       "      <td>23.5</td>\n",
       "      <td>29.5</td>\n",
       "      <td>87</td>\n",
       "      <td>32</td>\n",
       "    </tr>\n",
       "  </tbody>\n",
       "</table>\n",
       "</div>"
      ],
      "text/plain": [
       "   YEAR  TMAX_MIN  TMAX_MAX  TMIN_MIN  TMIN_MAX  MAX_DAILY_RAIN  \\\n",
       "0  1901      -1.3      45.0     -11.5      21.2             0.0   \n",
       "1  1902      -1.0      34.1      -6.5      28.5             0.0   \n",
       "2  1903       1.7      45.5      -7.0      19.8             0.0   \n",
       "3  1904       2.0      38.6      -6.6      20.1             0.0   \n",
       "4  1905       1.5      39.8     -99.9      23.5            29.5   \n",
       "\n",
       "   TOTAL_FROST_DAYS  TOTAL_HEAT_DAYS  \n",
       "0                53               12  \n",
       "1                36                0  \n",
       "2                26               21  \n",
       "3                53               21  \n",
       "4                87               32  "
      ]
     },
     "execution_count": 16,
     "metadata": {},
     "output_type": "execute_result"
    }
   ],
   "source": [
    "# Análisis de eventos extremos importantes para agricultura\n",
    "extreme_events = {\n",
    "    'Heladas tardías (Abril-Mayo)': len(clima_df[(clima_df['MONTH'].isin([4, 5])) & (clima_df['FROST_DAY'] == 1)]),\n",
    "    'Heladas tempranas (Septiembre-Octubre)': len(clima_df[(clima_df['MONTH'].isin([9, 10])) & (clima_df['FROST_DAY'] == 1)]),\n",
    "    'Olas de calor (>35°C)': len(clima_df[clima_df['HEAT_STRESS_DAY'] == 1]),\n",
    "    'Lluvias intensas (>20mm)': len(clima_df[clima_df['PRCP_MM'] > 20]),\n",
    "    'Sequías (>30 días sin lluvia)': 'Requiere análisis secuencial',\n",
    "    'Granizo (indicado en atributos)': 'Requiere análisis de atributos'\n",
    "}\n",
    "\n",
    "print(\"=== EVENTOS EXTREMOS RELEVANTES PARA AGRICULTURA ===\")\n",
    "for event, count in extreme_events.items():\n",
    "    print(f\"{event}: {count}\")\n",
    "\n",
    "# Análisis de temperaturas extremas por año\n",
    "yearly_extremes = clima_df.groupby('YEAR').agg({\n",
    "    'TMAX_C': ['min', 'max'],\n",
    "    'TMIN_C': ['min', 'max'],\n",
    "    'PRCP_MM': 'max',\n",
    "    'FROST_DAY': 'sum',\n",
    "    'HEAT_STRESS_DAY': 'sum'\n",
    "}).reset_index()\n",
    "\n",
    "yearly_extremes.columns = ['YEAR', 'TMAX_MIN', 'TMAX_MAX', 'TMIN_MIN', 'TMIN_MAX', \n",
    "                          'MAX_DAILY_RAIN', 'TOTAL_FROST_DAYS', 'TOTAL_HEAT_DAYS']\n",
    "\n",
    "yearly_extremes.head()"
   ]
  },
  {
   "cell_type": "code",
   "execution_count": null,
   "id": "82e04cb7",
   "metadata": {},
   "outputs": [
    {
     "data": {
      "image/png": "[encoded data removed]",
      "text/plain": [
       "<Figure size 1500x1000 with 4 Axes>"
      ]
     },
     "metadata": {},
     "output_type": "display_data"
    }
   ],
   "source": [
    "# Gráfico interactivo de eventos extremos anuales\n",
    "fig = make_subplots(\n",
    "    rows=2, cols=2,\n",
    "    subplot_titles=('Temperatura Máxima Anual', 'Temperatura Mínima Anual', \n",
    "                   'Días con Heladas por Año', 'Días con Calor Extremo por Año'),\n",
    "    vertical_spacing=0.15,\n",
    "    horizontal_spacing=0.12\n",
    ")\n",
    "\n",
    "# Temperaturas máximas extremas\n",
    "fig.add_trace(\n",
    "    go.Scatter(\n",
    "        x=yearly_extremes['YEAR'], \n",
    "        y=yearly_extremes['TMAX_MAX'],\n",
    "        mode='lines+markers',\n",
    "        name='Temp. Máxima',\n",
    "        line=dict(color='red', width=3),\n",
    "        marker=dict(size=6),\n",
    "        hovertemplate='Año: %{x}<br>Temp. Máxima: %{y:.1f}°C<extra></extra>'\n",
    "    ),\n",
    "    row=1, col=1\n",
    ")\n",
    "\n",
    "# Temperaturas mínimas extremas\n",
    "fig.add_trace(\n",
    "    go.Scatter(\n",
    "        x=yearly_extremes['YEAR'], \n",
    "        y=yearly_extremes['TMIN_MIN'],\n",
    "        mode='lines+markers',\n",
    "        name='Temp. Mínima',\n",
    "        line=dict(color='blue', width=3),\n",
    "        marker=dict(size=6),\n",
    "        hovertemplate='Año: %{x}<br>Temp. Mínima: %{y:.1f}°C<extra></extra>'\n",
    "    ),\n",
    "    row=1, col=2\n",
    ")\n",
    "\n",
    "# Días de heladas anuales\n",
    "fig.add_trace(\n",
    "    go.Bar(\n",
    "        x=yearly_extremes['YEAR'], \n",
    "        y=yearly_extremes['TOTAL_FROST_DAYS'],\n",
    "        name='Días Heladas',\n",
    "        marker_color='purple',\n",
    "        opacity=0.7,\n",
    "        hovertemplate='Año: %{x}<br>Días con Heladas: %{y}<extra></extra>'\n",
    "    ),\n",
    "    row=2, col=1\n",
    ")\n",
    "\n",
    "# Días de calor extremo anuales\n",
    "fig.add_trace(\n",
    "    go.Bar(\n",
    "        x=yearly_extremes['YEAR'], \n",
    "        y=yearly_extremes['TOTAL_HEAT_DAYS'],\n",
    "        name='Días Calor Extremo',\n",
    "        marker_color='red',\n",
    "        opacity=0.7,\n",
    "        hovertemplate='Año: %{x}<br>Días Calor Extremo: %{y}<extra></extra>'\n",
    "    ),\n",
    "    row=2, col=2\n",
    ")\n",
    "\n",
    "# Actualizar layout\n",
    "fig.update_layout(\n",
    "    height=700,\n",
    "    title_text=\"Eventos Extremos Anuales - Análisis Interactivo\",\n",
    "    title_font_size=16,\n",
    "    showlegend=False\n",
    ")\n",
    "\n",
    "# Actualizar ejes\n",
    "fig.update_yaxes(title_text=\"°C\", row=1, col=1)\n",
    "fig.update_yaxes(title_text=\"°C\", row=1, col=2)\n",
    "fig.update_yaxes(title_text=\"Días\", row=2, col=1)\n",
    "fig.update_yaxes(title_text=\"Días\", row=2, col=2)\n",
    "\n",
    "# Añadir grid\n",
    "fig.update_xaxes(showgrid=True, gridwidth=1, gridcolor='lightgray')\n",
    "fig.update_yaxes(showgrid=True, gridwidth=1, gridcolor='lightgray')\n",
    "\n",
    "fig.show()"
   ]
  },
  {
   "cell_type": "markdown",
   "id": "6ea42c0c",
   "metadata": {},
   "source": [
    "## 11. Correlaciones Climáticas Relevantes para Agricultura"
   ]
  },
  {
   "cell_type": "code",
   "execution_count": null,
   "id": "b7337d39",
   "metadata": {},
   "outputs": [
    {
     "data": {
      "image/png": "[encoded data removed]",
      "text/plain": [
       "<Figure size 1200x1000 with 2 Axes>"
      ]
     },
     "metadata": {},
     "output_type": "display_data"
    },
    {
     "name": "stdout",
     "output_type": "stream",
     "text": [
      "=== CORRELACIONES IMPORTANTES ===\n",
      "Correlaciones fuertes (|r| > 0.7):\n",
      "TMAX_C - TMIN_C: 0.792\n",
      "TAVG_C - GDD_10: 0.922\n"
     ]
    }
   ],
   "source": [
    "# Matriz de correlación interactiva\n",
    "climate_vars = ['TMAX_C', 'TMIN_C', 'TAVG_C', 'PRCP_MM', 'TEMP_RANGE', \n",
    "               'GDD_10', 'ELEVATION', 'LATITUDE', 'LONGITUDE']\n",
    "\n",
    "correlation_matrix = clima_df[climate_vars].corr()\n",
    "\n",
    "# Crear máscara para mostrar solo la matriz triangular inferior\n",
    "mask = np.triu(np.ones_like(correlation_matrix, dtype=bool))\n",
    "correlation_masked = correlation_matrix.mask(mask)\n",
    "\n",
    "# Heatmap interactivo de correlaciones\n",
    "fig = go.Figure(data=go.Heatmap(\n",
    "    z=correlation_masked.values,\n",
    "    x=correlation_matrix.columns,\n",
    "    y=correlation_matrix.columns,\n",
    "    colorscale='RdBu_r',\n",
    "    zmid=0,\n",
    "    text=correlation_masked.round(3).values,\n",
    "    texttemplate=\"%{text}\",\n",
    "    textfont={\"size\": 12},\n",
    "    hovertemplate='%{y} vs %{x}<br>Correlación: %{z:.3f}<extra></extra>',\n",
    "    colorbar=dict(title=\"Correlación\", titleside=\"right\")\n",
    "))\n",
    "\n",
    "fig.update_layout(\n",
    "    title='Matriz de Correlación Interactiva - Variables Climáticas y Geográficas',\n",
    "    title_font_size=16,\n",
    "    width=800,\n",
    "    height=700,\n",
    "    xaxis_title=\"Variables\",\n",
    "    yaxis_title=\"Variables\"\n",
    ")\n",
    "\n",
    "fig.show()\n",
    "\n",
    "# Análisis de correlaciones fuertes\n",
    "print(\"=== CORRELACIONES IMPORTANTES ===\")\n",
    "print(\"Correlaciones fuertes (|r| > 0.7):\")\n",
    "strong_correlations = []\n",
    "for i in range(len(correlation_matrix.columns)):\n",
    "    for j in range(i+1, len(correlation_matrix.columns)):\n",
    "        corr = correlation_matrix.iloc[i, j]\n",
    "        if abs(corr) > 0.7:\n",
    "            strong_correlations.append({\n",
    "                'var1': correlation_matrix.columns[i],\n",
    "                'var2': correlation_matrix.columns[j],\n",
    "                'correlation': corr\n",
    "            })\n",
    "            print(f\"{correlation_matrix.columns[i]} - {correlation_matrix.columns[j]}: {corr:.3f}\")\n",
    "\n",
    "# Gráfico de barras de correlaciones fuertes\n",
    "if strong_correlations:\n",
    "    corr_df = pd.DataFrame(strong_correlations)\n",
    "    corr_df['pair'] = corr_df['var1'] + ' - ' + corr_df['var2']\n",
    "    \n",
    "    fig_corr = px.bar(\n",
    "        corr_df, \n",
    "        x='pair', \n",
    "        y='correlation',\n",
    "        title='Correlaciones Fuertes (|r| > 0.7)',\n",
    "        color='correlation',\n",
    "        color_continuous_scale='RdBu_r',\n",
    "        color_continuous_midpoint=0\n",
    "    )\n",
    "    \n",
    "    fig_corr.update_layout(\n",
    "        height=400,\n",
    "        xaxis_title=\"Pares de Variables\",\n",
    "        yaxis_title=\"Coeficiente de Correlación\"\n",
    "    )\n",
    "    \n",
    "    fig_corr.update_xaxes(tickangle=45)\n",
    "    fig_corr.show()"
   ]
  },
  {
   "cell_type": "markdown",
   "id": "a5412620",
   "metadata": {},
   "source": [
    "## 12. Análisis de Aptitud por Cultivos Específicos"
   ]
  },
  {
   "cell_type": "code",
   "execution_count": 19,
   "id": "52512684",
   "metadata": {},
   "outputs": [
    {
     "name": "stdout",
     "output_type": "stream",
     "text": [
      "=== ANÁLISIS DE APTITUD POR CULTIVOS ===\n",
      "\n",
      "Trigo:\n",
      "  Días aptos: 241,003 (14.9%)\n",
      "  GDD promedio en días aptos: 3.7\n",
      "\n",
      "Maíz:\n",
      "  Días aptos: 139,542 (8.6%)\n",
      "  GDD promedio en días aptos: 5.4\n",
      "\n",
      "Olivo:\n",
      "  Días aptos: 234,159 (14.5%)\n",
      "  GDD promedio en días aptos: 4.1\n",
      "\n",
      "Vid:\n",
      "  Días aptos: 161,567 (10.0%)\n",
      "  GDD promedio en días aptos: 5.5\n",
      "\n",
      "Cítricos:\n",
      "  Días aptos: 93,516 (5.8%)\n",
      "  GDD promedio en días aptos: 7.3\n",
      "\n",
      "Tomate:\n",
      "  Días aptos: 73,724 (4.6%)\n",
      "  GDD promedio en días aptos: 8.8\n"
     ]
    }
   ],
   "source": [
    "def analyze_crop_suitability(df, crop_requirements):\n",
    "    \"\"\"\n",
    "    Analiza la aptitud climática para diferentes cultivos\n",
    "    \"\"\"\n",
    "    results = {}\n",
    "    \n",
    "    for crop, requirements in crop_requirements.items():\n",
    "        # Filtrar datos según los requerimientos del cultivo\n",
    "        suitable_data = df[\n",
    "            (df['TAVG_C'] >= requirements['temp_min']) &\n",
    "            (df['TAVG_C'] <= requirements['temp_max']) &\n",
    "            (df['PRCP_MM'] >= requirements['prcp_min'])\n",
    "        ]\n",
    "        \n",
    "        # Calcular métricas de aptitud\n",
    "        total_days = len(df)\n",
    "        suitable_days = len(suitable_data)\n",
    "        suitability_percentage = (suitable_days / total_days) * 100\n",
    "        \n",
    "        results[crop] = {\n",
    "            'suitable_days': suitable_days,\n",
    "            'total_days': total_days,\n",
    "            'suitability_percentage': suitability_percentage,\n",
    "            'avg_gdd': suitable_data['GDD_10'].mean() if len(suitable_data) > 0 else 0\n",
    "        }\n",
    "    \n",
    "    return results\n",
    "\n",
    "# Definir requerimientos básicos de algunos cultivos\n",
    "crop_requirements = {\n",
    "    'Trigo': {'temp_min': 3, 'temp_max': 25, 'prcp_min': 0.1},\n",
    "    'Maíz': {'temp_min': 10, 'temp_max': 30, 'prcp_min': 0.5},\n",
    "    'Olivo': {'temp_min': 5, 'temp_max': 35, 'prcp_min': 0.1},\n",
    "    'Vid': {'temp_min': 10, 'temp_max': 30, 'prcp_min': 0.2},\n",
    "    'Cítricos': {'temp_min': 13, 'temp_max': 35, 'prcp_min': 0.5},\n",
    "    'Tomate': {'temp_min': 15, 'temp_max': 30, 'prcp_min': 0.3}\n",
    "}\n",
    "\n",
    "# Analizar aptitud por cultivos\n",
    "crop_analysis = analyze_crop_suitability(clima_df, crop_requirements)\n",
    "\n",
    "print(\"=== ANÁLISIS DE APTITUD POR CULTIVOS ===\")\n",
    "for crop, metrics in crop_analysis.items():\n",
    "    print(f\"\\n{crop}:\")\n",
    "    print(f\"  Días aptos: {metrics['suitable_days']:,} ({metrics['suitability_percentage']:.1f}%)\")\n",
    "    print(f\"  GDD promedio en días aptos: {metrics['avg_gdd']:.1f}\")"
   ]
  },
  {
   "cell_type": "code",
   "execution_count": null,
   "id": "37d19c0e",
   "metadata": {},
   "outputs": [
    {
     "data": {
      "image/png": "[encoded data removed]",
      "text/plain": [
       "<Figure size 1500x600 with 2 Axes>"
      ]
     },
     "metadata": {},
     "output_type": "display_data"
    }
   ],
   "source": [
    "# Gráficos interactivos de aptitud por cultivos\n",
    "crops = list(crop_analysis.keys())\n",
    "suitabilities = [crop_analysis[crop]['suitability_percentage'] for crop in crops]\n",
    "avg_gdds = [crop_analysis[crop]['avg_gdd'] for crop in crops]\n",
    "suitable_days = [crop_analysis[crop]['suitable_days'] for crop in crops]\n",
    "\n",
    "# Crear subplots\n",
    "fig = make_subplots(\n",
    "    rows=1, cols=2,\n",
    "    subplot_titles=('Porcentaje de Días Climáticamente Aptos por Cultivo', \n",
    "                   'Grados Día de Crecimiento Promedio'),\n",
    "    horizontal_spacing=0.15\n",
    ")\n",
    "\n",
    "# Gráfico 1: Porcentaje de aptitud\n",
    "fig.add_trace(\n",
    "    go.Bar(\n",
    "        x=crops,\n",
    "        y=suitabilities,\n",
    "        name='Aptitud (%)',\n",
    "        marker_color='lightgreen',\n",
    "        opacity=0.8,\n",
    "        text=[f'{val:.1f}%' for val in suitabilities],\n",
    "        textposition='outside',\n",
    "        hovertemplate='Cultivo: %{x}<br>Aptitud: %{y:.1f}%<br>Días aptos: %{customdata:,}<extra></extra>',\n",
    "        customdata=suitable_days\n",
    "    ),\n",
    "    row=1, col=1\n",
    ")\n",
    "\n",
    "# Gráfico 2: GDD promedio\n",
    "fig.add_trace(\n",
    "    go.Bar(\n",
    "        x=crops,\n",
    "        y=avg_gdds,\n",
    "        name='GDD Promedio',\n",
    "        marker_color='orange',\n",
    "        opacity=0.8,\n",
    "        text=[f'{val:.1f}' for val in avg_gdds],\n",
    "        textposition='outside',\n",
    "        hovertemplate='Cultivo: %{x}<br>GDD Promedio: %{y:.1f}<extra></extra>'\n",
    "    ),\n",
    "    row=1, col=2\n",
    ")\n",
    "\n",
    "# Actualizar layout\n",
    "fig.update_layout(\n",
    "    height=500,\n",
    "    title_text=\"Análisis de Aptitud Climática por Cultivos - Interactivo\",\n",
    "    title_font_size=16,\n",
    "    showlegend=False\n",
    ")\n",
    "\n",
    "# Actualizar ejes\n",
    "fig.update_yaxes(title_text=\"Porcentaje (%)\", row=1, col=1, showgrid=True, gridcolor='lightgray')\n",
    "fig.update_yaxes(title_text=\"GDD-10\", row=1, col=2, showgrid=True, gridcolor='lightgray')\n",
    "fig.update_xaxes(tickangle=45, row=1, col=1)\n",
    "fig.update_xaxes(tickangle=45, row=1, col=2)\n",
    "\n",
    "fig.show()\n",
    "\n",
    "# Gráfico de dispersión adicional: Aptitud vs GDD\n",
    "fig_scatter = px.scatter(\n",
    "    x=suitabilities,\n",
    "    y=avg_gdds,\n",
    "    text=crops,\n",
    "    title='Relación entre Aptitud Climática y Grados Día de Crecimiento',\n",
    "    labels={'x': 'Porcentaje de Aptitud (%)', 'y': 'GDD Promedio'},\n",
    "    size=[100]*len(crops),  # Tamaño fijo para todos los puntos\n",
    "    color=suitabilities,\n",
    "    color_continuous_scale='viridis'\n",
    ")\n",
    "\n",
    "fig_scatter.update_traces(\n",
    "    textposition=\"top center\",\n",
    "    textfont_size=12,\n",
    "    hovertemplate='Cultivo: %{text}<br>Aptitud: %{x:.1f}%<br>GDD: %{y:.1f}<extra></extra>'\n",
    ")\n",
    "\n",
    "fig_scatter.update_layout(\n",
    "    height=500,\n",
    "    showlegend=False\n",
    ")\n",
    "\n",
    "fig_scatter.show()\n",
    "\n",
    "# Crear un ranking interactivo\n",
    "ranking_data = pd.DataFrame({\n",
    "    'Cultivo': crops,\n",
    "    'Aptitud (%)': suitabilities,\n",
    "    'GDD Promedio': avg_gdds,\n",
    "    'Días Aptos': suitable_days\n",
    "}).sort_values('Aptitud (%)', ascending=False)\n",
    "\n",
    "# Gráfico de ranking\n",
    "fig_ranking = px.bar(\n",
    "    ranking_data,\n",
    "    x='Cultivo',\n",
    "    y='Aptitud (%)',\n",
    "    title='Ranking de Cultivos por Aptitud Climática',\n",
    "    color='Aptitud (%)',\n",
    "    color_continuous_scale='RdYlGn',\n",
    "    text='Aptitud (%)'\n",
    ")\n",
    "\n",
    "fig_ranking.update_traces(\n",
    "    texttemplate='%{text:.1f}%',\n",
    "    textposition='outside',\n",
    "    hovertemplate='Cultivo: %{x}<br>Aptitud: %{y:.1f}%<br>Días aptos: %{customdata:,}<extra></extra>',\n",
    "    customdata=ranking_data['Días Aptos']\n",
    ")\n",
    "\n",
    "fig_ranking.update_layout(\n",
    "    height=400,\n",
    "    showlegend=False\n",
    ")\n",
    "\n",
    "fig_ranking.show()"
   ]
  },
  {
   "cell_type": "markdown",
   "id": "1ec4131a",
   "metadata": {},
   "source": [
    "## 13. Resumen Ejecutivo y Conclusiones"
   ]
  },
  {
   "cell_type": "markdown",
   "id": "f6b3d7f4",
   "metadata": {},
   "source": [
    "## 12.1. Análisis Interactivos Avanzados"
   ]
  },
  {
   "cell_type": "code",
   "execution_count": null,
   "id": "69f53db4",
   "metadata": {},
   "outputs": [],
   "source": [
    "# Análisis 3D interactivo: Relación Temperatura-Precipitación-Elevación\n",
    "sample_stations = station_profiles.sample(min(50, len(station_profiles)))  # Muestra para mejor rendimiento\n",
    "\n",
    "fig_3d = px.scatter_3d(\n",
    "    sample_stations,\n",
    "    x='TAVG_C',\n",
    "    y='PRCP_MM',\n",
    "    z='ELEVATION',\n",
    "    color='CLIMATE_ZONE',\n",
    "    size='GDD_10',\n",
    "    hover_name='NAME',\n",
    "    hover_data={'TAVG_C': ':.1f', 'PRCP_MM': ':.0f', 'ELEVATION': ':.0f'},\n",
    "    title='Análisis 3D: Temperatura vs Precipitación vs Elevación',\n",
    "    labels={\n",
    "        'TAVG_C': 'Temperatura Media (°C)',\n",
    "        'PRCP_MM': 'Precipitación Anual (mm)',\n",
    "        'ELEVATION': 'Elevación (m)'\n",
    "    }\n",
    ")\n",
    "\n",
    "fig_3d.update_layout(\n",
    "    height=600,\n",
    "    scene=dict(\n",
    "        xaxis_title='Temperatura Media (°C)',\n",
    "        yaxis_title='Precipitación Anual (mm)',\n",
    "        zaxis_title='Elevación (m)'\n",
    "    )\n",
    ")\n",
    "\n",
    "fig_3d.show()\n",
    "\n",
    "# Serie temporal interactiva de variables climáticas\n",
    "monthly_series = clima_df.groupby(['YEAR', 'MONTH']).agg({\n",
    "    'TAVG_C': 'mean',\n",
    "    'PRCP_MM': 'sum',\n",
    "    'GDD_10': 'sum',\n",
    "    'FROST_DAY': 'sum'\n",
    "}).reset_index()\n",
    "\n",
    "monthly_series['DATE'] = pd.to_datetime(monthly_series[['YEAR', 'MONTH']].assign(DAY=1))\n",
    "\n",
    "# Crear gráfico de series temporales con múltiples ejes\n",
    "fig_time = make_subplots(\n",
    "    rows=2, cols=1,\n",
    "    shared_xaxes=True,\n",
    "    subplot_titles=('Temperatura y Precipitación Mensual', 'Índices Agroclimáticos Mensuales'),\n",
    "    vertical_spacing=0.1\n",
    ")\n",
    "\n",
    "# Serie de temperatura\n",
    "fig_time.add_trace(\n",
    "    go.Scatter(\n",
    "        x=monthly_series['DATE'],\n",
    "        y=monthly_series['TAVG_C'],\n",
    "        mode='lines',\n",
    "        name='Temperatura Media',\n",
    "        line=dict(color='red', width=2),\n",
    "        hovertemplate='Fecha: %{x}<br>Temperatura: %{y:.1f}°C<extra></extra>'\n",
    "    ),\n",
    "    row=1, col=1\n",
    ")\n",
    "\n",
    "# Serie de precipitación en eje secundario\n",
    "fig_time.add_trace(\n",
    "    go.Bar(\n",
    "        x=monthly_series['DATE'],\n",
    "        y=monthly_series['PRCP_MM'],\n",
    "        name='Precipitación',\n",
    "        marker_color='blue',\n",
    "        opacity=0.6,\n",
    "        yaxis='y2',\n",
    "        hovertemplate='Fecha: %{x}<br>Precipitación: %{y:.0f}mm<extra></extra>'\n",
    "    ),\n",
    "    row=1, col=1\n",
    ")\n",
    "\n",
    "# GDD\n",
    "fig_time.add_trace(\n",
    "    go.Scatter(\n",
    "        x=monthly_series['DATE'],\n",
    "        y=monthly_series['GDD_10'],\n",
    "        mode='lines',\n",
    "        name='GDD-10',\n",
    "        line=dict(color='green', width=2),\n",
    "        hovertemplate='Fecha: %{x}<br>GDD: %{y:.0f}<extra></extra>'\n",
    "    ),\n",
    "    row=2, col=1\n",
    ")\n",
    "\n",
    "# Días con heladas\n",
    "fig_time.add_trace(\n",
    "    go.Scatter(\n",
    "        x=monthly_series['DATE'],\n",
    "        y=monthly_series['FROST_DAY'],\n",
    "        mode='markers+lines',\n",
    "        name='Días Heladas',\n",
    "        line=dict(color='purple', width=2),\n",
    "        marker=dict(size=4),\n",
    "        hovertemplate='Fecha: %{x}<br>Días Heladas: %{y}<extra></extra>'\n",
    "    ),\n",
    "    row=2, col=1\n",
    ")\n",
    "\n",
    "# Configurar ejes secundarios\n",
    "fig_time.update_layout(\n",
    "    yaxis2=dict(\n",
    "        title='Precipitación (mm)',\n",
    "        overlaying='y',\n",
    "        side='right'\n",
    "    ),\n",
    "    height=600,\n",
    "    title_text='Series Temporales Climáticas Interactivas (Promedio Nacional)',\n",
    "    hovermode='x unified'\n",
    ")\n",
    "\n",
    "fig_time.update_yaxes(title_text=\"Temperatura (°C)\", row=1, col=1)\n",
    "fig_time.update_yaxes(title_text=\"GDD / Días\", row=2, col=1)\n",
    "\n",
    "fig_time.show()\n",
    "\n",
    "# Dashboard interactivo de estaciones del año\n",
    "seasons_data = clima_df.groupby(['SEASON', 'YEAR']).agg({\n",
    "    'TAVG_C': 'mean',\n",
    "    'PRCP_MM': 'sum',\n",
    "    'GDD_10': 'sum',\n",
    "    'FROST_DAY': 'sum',\n",
    "    'HEAT_STRESS_DAY': 'sum'\n",
    "}).reset_index()\n",
    "\n",
    "fig_seasons = px.box(\n",
    "    seasons_data,\n",
    "    x='SEASON',\n",
    "    y='TAVG_C',\n",
    "    color='SEASON',\n",
    "    title='Distribución de Temperaturas por Estación (Todos los Años)',\n",
    "    labels={'TAVG_C': 'Temperatura Media (°C)', 'SEASON': 'Estación'},\n",
    "    category_orders={'SEASON': ['Primavera', 'Verano', 'Otoño', 'Invierno']}\n",
    ")\n",
    "\n",
    "fig_seasons.update_layout(height=400, showlegend=False)\n",
    "fig_seasons.show()\n",
    "\n",
    "# Análisis de variabilidad climática\n",
    "fig_variability = px.violin(\n",
    "    seasons_data,\n",
    "    x='SEASON',\n",
    "    y='PRCP_MM',\n",
    "    color='SEASON',\n",
    "    title='Variabilidad de la Precipitación por Estación',\n",
    "    labels={'PRCP_MM': 'Precipitación Estacional (mm)', 'SEASON': 'Estación'},\n",
    "    category_orders={'SEASON': ['Primavera', 'Verano', 'Otoño', 'Invierno']}\n",
    ")\n",
    "\n",
    "fig_variability.update_layout(height=400, showlegend=False)\n",
    "fig_variability.show()"
   ]
  },
  {
   "cell_type": "code",
   "execution_count": 21,
   "id": "073d6f69",
   "metadata": {},
   "outputs": [
    {
     "name": "stdout",
     "output_type": "stream",
     "text": [
      "============================================================\n",
      "RESUMEN EJECUTIVO - ANÁLISIS AGROCLIMÁTICO DE ESPAÑA\n",
      "============================================================\n",
      "\n",
      "1. COBERTURA DE DATOS:\n",
      "   • Período analizado: 1901-2025 (125 años)\n",
      "   • Estaciones meteorológicas: 88\n",
      "   • Registros totales: 1,619,312\n",
      "\n",
      "2. CARACTERÍSTICAS CLIMÁTICAS GENERALES:\n",
      "   • Temperatura media anual: 8.6°C\n",
      "   • Rango de temperaturas: -99.9°C a 47.2°C\n",
      "   • Precipitación media anual: 23158 mm\n",
      "   • Rango altitudinal: 1 a 2451 m\n",
      "\n",
      "3. ÍNDICES AGROCLIMÁTICOS:\n",
      "   • Grados día promedio (GDD-10): 3.4 por día\n",
      "   • Días con heladas anuales: 1499\n",
      "   • Días con calor extremo anuales: 365\n",
      "   • Días lluviosos promedio: 2596\n",
      "\n",
      "4. ZONIFICACIÓN AGROCLIMÁTICA:\n",
      "   • Frío-Húmedo: 57 estaciones (64.8%)\n",
      "   • Templado-Húmedo: 26 estaciones (29.5%)\n",
      "   • Cálido-Húmedo: 4 estaciones (4.5%)\n",
      "   • Frío-Seco: 1 estaciones (1.1%)\n",
      "\n",
      "5. CULTIVOS CON MAYOR APTITUD CLIMÁTICA:\n",
      "   1. Trigo: 14.9% de días aptos\n",
      "   2. Olivo: 14.5% de días aptos\n",
      "   3. Vid: 10.0% de días aptos\n",
      "\n",
      "============================================================\n",
      "RECOMENDACIONES PARA LA AGRICULTURA:\n",
      "============================================================\n",
      "• Diversificación de cultivos según zonificación climática\n",
      "• Implementación de sistemas de riego en zonas secas\n",
      "• Protección contra heladas en cultivos sensibles\n",
      "• Aprovechamiento de grados día para optimizar calendarios\n",
      "• Monitoreo de eventos extremos para gestión de riesgos\n",
      "\n",
      "1. COBERTURA DE DATOS:\n",
      "   • Período analizado: 1901-2025 (125 años)\n",
      "   • Estaciones meteorológicas: 88\n",
      "   • Registros totales: 1,619,312\n",
      "\n",
      "2. CARACTERÍSTICAS CLIMÁTICAS GENERALES:\n",
      "   • Temperatura media anual: 8.6°C\n",
      "   • Rango de temperaturas: -99.9°C a 47.2°C\n",
      "   • Precipitación media anual: 23158 mm\n",
      "   • Rango altitudinal: 1 a 2451 m\n",
      "\n",
      "3. ÍNDICES AGROCLIMÁTICOS:\n",
      "   • Grados día promedio (GDD-10): 3.4 por día\n",
      "   • Días con heladas anuales: 1499\n",
      "   • Días con calor extremo anuales: 365\n",
      "   • Días lluviosos promedio: 2596\n",
      "\n",
      "4. ZONIFICACIÓN AGROCLIMÁTICA:\n",
      "   • Frío-Húmedo: 57 estaciones (64.8%)\n",
      "   • Templado-Húmedo: 26 estaciones (29.5%)\n",
      "   • Cálido-Húmedo: 4 estaciones (4.5%)\n",
      "   • Frío-Seco: 1 estaciones (1.1%)\n",
      "\n",
      "5. CULTIVOS CON MAYOR APTITUD CLIMÁTICA:\n",
      "   1. Trigo: 14.9% de días aptos\n",
      "   2. Olivo: 14.5% de días aptos\n",
      "   3. Vid: 10.0% de días aptos\n",
      "\n",
      "============================================================\n",
      "RECOMENDACIONES PARA LA AGRICULTURA:\n",
      "============================================================\n",
      "• Diversificación de cultivos según zonificación climática\n",
      "• Implementación de sistemas de riego en zonas secas\n",
      "• Protección contra heladas en cultivos sensibles\n",
      "• Aprovechamiento de grados día para optimizar calendarios\n",
      "• Monitoreo de eventos extremos para gestión de riesgos\n"
     ]
    }
   ],
   "source": [
    "# Generar resumen ejecutivo\n",
    "print(\"=\"*60)\n",
    "print(\"RESUMEN EJECUTIVO - ANÁLISIS AGROCLIMÁTICO DE ESPAÑA\")\n",
    "print(\"=\"*60)\n",
    "\n",
    "# Estadísticas generales\n",
    "total_years = clima_df['YEAR'].nunique()\n",
    "total_stations = clima_df['STATION'].nunique()\n",
    "total_records = len(clima_df)\n",
    "\n",
    "print(f\"\\n1. COBERTURA DE DATOS:\")\n",
    "print(f\"   • Período analizado: {clima_df['YEAR'].min()}-{clima_df['YEAR'].max()} ({total_years} años)\")\n",
    "print(f\"   • Estaciones meteorológicas: {total_stations}\")\n",
    "print(f\"   • Registros totales: {total_records:,}\")\n",
    "\n",
    "# Estadísticas climáticas\n",
    "print(f\"\\n2. CARACTERÍSTICAS CLIMÁTICAS GENERALES:\")\n",
    "print(f\"   • Temperatura media anual: {clima_df['TAVG_C'].mean():.1f}°C\")\n",
    "print(f\"   • Rango de temperaturas: {clima_df['TMIN_C'].min():.1f}°C a {clima_df['TMAX_C'].max():.1f}°C\")\n",
    "print(f\"   • Precipitación media anual: {clima_df.groupby('YEAR')['PRCP_MM'].sum().mean():.0f} mm\")\n",
    "print(f\"   • Rango altitudinal: {stations_info['ELEVATION'].min():.0f} a {stations_info['ELEVATION'].max():.0f} m\")\n",
    "\n",
    "# Índices agrícolas\n",
    "print(f\"\\n3. ÍNDICES AGROCLIMÁTICOS:\")\n",
    "print(f\"   • Grados día promedio (GDD-10): {clima_df['GDD_10'].mean():.1f} por día\")\n",
    "print(f\"   • Días con heladas anuales: {clima_df.groupby('YEAR')['FROST_DAY'].sum().mean():.0f}\")\n",
    "print(f\"   • Días con calor extremo anuales: {clima_df.groupby('YEAR')['HEAT_STRESS_DAY'].sum().mean():.0f}\")\n",
    "print(f\"   • Días lluviosos promedio: {clima_df.groupby('YEAR')['RAIN_DAY'].sum().mean():.0f}\")\n",
    "\n",
    "# Zonificación\n",
    "print(f\"\\n4. ZONIFICACIÓN AGROCLIMÁTICA:\")\n",
    "for zone, count in station_profiles['CLIMATE_ZONE'].value_counts().items():\n",
    "    percentage = (count / len(station_profiles)) * 100\n",
    "    print(f\"   • {zone}: {count} estaciones ({percentage:.1f}%)\")\n",
    "\n",
    "print(f\"\\n5. CULTIVOS CON MAYOR APTITUD CLIMÁTICA:\")\n",
    "sorted_crops = sorted(crop_analysis.items(), key=lambda x: x[1]['suitability_percentage'], reverse=True)\n",
    "for i, (crop, metrics) in enumerate(sorted_crops[:3], 1):\n",
    "    print(f\"   {i}. {crop}: {metrics['suitability_percentage']:.1f}% de días aptos\")\n",
    "\n",
    "print(\"\\n\" + \"=\"*60)\n",
    "print(\"RECOMENDACIONES PARA LA AGRICULTURA:\")\n",
    "print(\"=\"*60)\n",
    "print(\"• Diversificación de cultivos según zonificación climática\")\n",
    "print(\"• Implementación de sistemas de riego en zonas secas\")\n",
    "print(\"• Protección contra heladas en cultivos sensibles\")\n",
    "print(\"• Aprovechamiento de grados día para optimizar calendarios\")\n",
    "print(\"• Monitoreo de eventos extremos para gestión de riesgos\")"
   ]
  },
  {
   "cell_type": "markdown",
   "id": "2dcdf2bd",
   "metadata": {},
   "source": [
    "## 14. Exportar Resultados"
   ]
  },
  {
   "cell_type": "code",
   "execution_count": 22,
   "id": "57a49728",
   "metadata": {},
   "outputs": [
    {
     "name": "stdout",
     "output_type": "stream",
     "text": [
      "Resultados del EDA agrícola exportados exitosamente en:\n",
      "C:\\Users\\Usuario\\Documents\\GitHub\\Clima_Spain\\Resultados_EDA_Agricola\n",
      "\n",
      "Archivos generados:\n",
      "• perfiles_estaciones_agricolas.csv\n",
      "• calendario_agricola_mensual.csv\n",
      "• tendencias_anuales_clima.csv\n",
      "• eventos_extremos_anuales.csv\n"
     ]
    }
   ],
   "source": [
    "# Exportar resultados principales\n",
    "output_path = r'C:\\Users\\Usuario\\Documents\\GitHub\\Clima_Spain\\Resultados_EDA_Agricola'\n",
    "import os\n",
    "if not os.path.exists(output_path):\n",
    "    os.makedirs(output_path)\n",
    "\n",
    "# Guardar análisis por estaciones\n",
    "station_profiles.to_csv(os.path.join(output_path, 'perfiles_estaciones_agricolas.csv'), index=False)\n",
    "\n",
    "# Guardar análisis mensual\n",
    "monthly_climate.to_csv(os.path.join(output_path, 'calendario_agricola_mensual.csv'), index=False)\n",
    "\n",
    "# Guardar análisis anual\n",
    "annual_climate.to_csv(os.path.join(output_path, 'tendencias_anuales_clima.csv'), index=False)\n",
    "\n",
    "# Guardar eventos extremos\n",
    "yearly_extremes.to_csv(os.path.join(output_path, 'eventos_extremos_anuales.csv'), index=False)\n",
    "\n",
    "print(\"Resultados del EDA agrícola exportados exitosamente en:\")\n",
    "print(output_path)\n",
    "print(\"\\nArchivos generados:\")\n",
    "print(\"• perfiles_estaciones_agricolas.csv\")\n",
    "print(\"• calendario_agricola_mensual.csv\")\n",
    "print(\"• tendencias_anuales_clima.csv\")\n",
    "print(\"• eventos_extremos_anuales.csv\")"
   ]
  }
 ],
 "metadata": {
  "kernelspec": {
   "display_name": "Python 3",
   "language": "python",
   "name": "python3"
  },
  "language_info": {
   "codemirror_mode": {
    "name": "ipython",
    "version": 3
   },
   "file_extension": ".py",
   "mimetype": "text/x-python",
   "name": "python",
   "nbconvert_exporter": "python",
   "pygments_lexer": "ipython3",
   "version": "3.12.10"
  }
 },
 "nbformat": 4,
 "nbformat_minor": 5
}
