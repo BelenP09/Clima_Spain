{
 "cells": [
  {
   "cell_type": "markdown",
   "id": "2f3d9bc2",
   "metadata": {},
   "source": [
    "# 🌾 Análisis Exploratorio de Datos Climáticos para Andalucía\n",
    "## Estudio Especializado en Clima para la Agricultura\n",
    "\n",
    "<div style=\"background-color: #f0f8ff; padding: 20px; border-radius: 10px; border-left: 5px solid #3498db;\">\n",
    "<h3>🎯 Objetivos del Análisis</h3>\n",
    "<ul>\n",
    "<li><strong>Caracterización climática regional</strong>: Análisis detallado del clima andaluz</li>\n",
    "<li><strong>Zonificación agroclimática</strong>: Identificar zonas óptimas para diferentes cultivos</li>\n",
    "<li><strong>Eventos extremos</strong>: Análisis de sequías, olas de calor y heladas</li>\n",
    "<li><strong>Tendencias temporales</strong>: Evolución del clima en las últimas décadas</li>\n",
    "<li><strong>Índices agroclimáticos</strong>: Cálculo de métricas específicas para agricultura</li>\n",
    "<li><strong>Visualizaciones interactivas</strong>: Dashboard profesional con Plotly</li>\n",
    "</ul>\n",
    "</div>\n",
    "\n",
    "---\n",
    "\n",
    "### 📊 Contenido del Análisis\n",
    "1. **Exploración de Datos**: Carga y limpieza de datos climáticos andaluces\n",
    "2. **Análisis Temporal**: Patrones estacionales y tendencias anuales\n",
    "3. **Análisis Espacial**: Variabilidad climática por provincias\n",
    "4. **Indicadores Agrícolas**: Grados día de crecimiento, índices de sequía\n",
    "5. **Eventos Extremos**: Análisis de fenómenos adversos\n",
    "6. **Zonificación**: Clasificación agroclimática de Andalucía\n",
    "7. **Dashboard Interactivo**: Visualizaciones dinámicas y conclusiones"
   ]
  },
  {
   "cell_type": "markdown",
   "id": "38a77760",
   "metadata": {},
   "source": [
    "## 1. 📚 Importación de Librerías y Configuración\n",
    "\n",
    "Configuramos el entorno de trabajo con todas las librerías necesarias para el análisis climático y agrícola."
   ]
  },
  {
   "cell_type": "code",
   "execution_count": 1,
   "id": "f4cdd46f",
   "metadata": {},
   "outputs": [
    {
     "data": {
      "text/html": [
       "        <script type=\"text/javascript\">\n",
       "        window.PlotlyConfig = {MathJaxConfig: 'local'};\n",
       "        if (window.MathJax && window.MathJax.Hub && window.MathJax.Hub.Config) {window.MathJax.Hub.Config({SVG: {font: \"STIX-Web\"}});}\n",
       "        </script>\n",
       "        <script type=\"module\">import \"https://cdn.plot.ly/plotly-3.0.1.min\"</script>\n",
       "        "
      ]
     },
     "metadata": {},
     "output_type": "display_data"
    },
    {
     "name": "stdout",
     "output_type": "stream",
     "text": [
      "✅ Librerías importadas correctamente\n",
      "📊 Configuración de visualización aplicada\n",
      "🎨 Paleta de colores de Andalucía configurada\n"
     ]
    }
   ],
   "source": [
    "# Librerías básicas para manipulación de datos\n",
    "import pandas as pd\n",
    "import numpy as np\n",
    "import warnings\n",
    "warnings.filterwarnings('ignore')\n",
    "\n",
    "# Librerías para visualización\n",
    "import matplotlib.pyplot as plt\n",
    "import seaborn as sns\n",
    "import plotly.express as px\n",
    "import plotly.graph_objects as go\n",
    "from plotly.subplots import make_subplots\n",
    "import plotly.offline as pyo\n",
    "\n",
    "# Librerías para análisis estadístico\n",
    "from scipy import stats\n",
    "from sklearn.preprocessing import StandardScaler\n",
    "from sklearn.cluster import KMeans\n",
    "from sklearn.decomposition import PCA\n",
    "import statsmodels.api as sm\n",
    "\n",
    "# Librerías para fechas y tiempo\n",
    "from datetime import datetime, timedelta\n",
    "import calendar\n",
    "\n",
    "# Configuración de visualización\n",
    "plt.style.use('seaborn-v0_8')\n",
    "pyo.init_notebook_mode(connected=True)\n",
    "\n",
    "# Configuración de pandas\n",
    "pd.set_option('display.max_columns', None)\n",
    "pd.set_option('display.max_rows', 100)\n",
    "\n",
    "# Configuración de colores para Andalucía\n",
    "COLORS_ANDALUCIA = {\n",
    "    'primary': '#228B22',    # Verde oliva (agricultura)\n",
    "    'secondary': '#FF8C00',  # Naranja (sol)\n",
    "    'accent': '#4169E1',     # Azul (cielo)\n",
    "    'warning': '#DC143C',    # Rojo (eventos extremos)\n",
    "    'success': '#32CD32',    # Verde claro\n",
    "    'info': '#1E90FF'        # Azul información\n",
    "}\n",
    "\n",
    "print(\"✅ Librerías importadas correctamente\")\n",
    "print(\"📊 Configuración de visualización aplicada\")\n",
    "print(\"🎨 Paleta de colores de Andalucía configurada\")"
   ]
  },
  {
   "cell_type": "markdown",
   "id": "16e5d3da",
   "metadata": {},
   "source": [
    "## 2. 📥 Carga y Preparación de Datos\n",
    "\n",
    "Cargamos los datos climáticos de España y filtramos específicamente las estaciones de Andalucía."
   ]
  },
  {
   "cell_type": "code",
   "execution_count": 15,
   "id": "bac9e3ed",
   "metadata": {},
   "outputs": [
    {
     "name": "stdout",
     "output_type": "stream",
     "text": [
      "🔄 Cargando datos de clima_limpio.csv...\n",
      "✅ Datos clima_limpio cargados: 1,619,312 registros, 19 columnas\n",
      "🏛️ Estación Sevilla (SPE00120512): ✅ Encontrada\n",
      "\n",
      "📊 Información del dataset:\n",
      "   • Período: 1901-01-01 - 2025-07-13\n",
      "   • Columnas: ['STATION', 'DATE', 'LATITUDE', 'LONGITUDE', 'ELEVATION', 'NAME', 'PRCP', 'PRCP_ATTRIBUTES', 'SNWD', 'SNWD_ATTRIBUTES', 'TMAX', 'TMAX_ATTRIBUTES', 'TMIN', 'TMIN_ATTRIBUTES', 'TAVG', 'TAVG_ATTRIBUTES', 'TEMPERATURA_MEDIA', 'TMAX_C', 'TMIN_C']\n",
      "   • Estaciones únicas: 88\n",
      "✅ Datos clima_limpio cargados: 1,619,312 registros, 19 columnas\n",
      "🏛️ Estación Sevilla (SPE00120512): ✅ Encontrada\n",
      "\n",
      "📊 Información del dataset:\n",
      "   • Período: 1901-01-01 - 2025-07-13\n",
      "   • Columnas: ['STATION', 'DATE', 'LATITUDE', 'LONGITUDE', 'ELEVATION', 'NAME', 'PRCP', 'PRCP_ATTRIBUTES', 'SNWD', 'SNWD_ATTRIBUTES', 'TMAX', 'TMAX_ATTRIBUTES', 'TMIN', 'TMIN_ATTRIBUTES', 'TAVG', 'TAVG_ATTRIBUTES', 'TEMPERATURA_MEDIA', 'TMAX_C', 'TMIN_C']\n",
      "   • Estaciones únicas: 88\n"
     ]
    }
   ],
   "source": [
    "# Cargar datos climáticos - Base de datos CLIMA_LIMPIO\n",
    "print(\"🔄 Cargando datos de clima_limpio.csv...\")\n",
    "\n",
    "try:\n",
    "    # Cargar datos limpios específicamente\n",
    "    clima_df = pd.read_csv(r\"Data\\Base de datos\\clima_limpio.csv\")\n",
    "    print(f\"✅ Datos clima_limpio cargados: {clima_df.shape[0]:,} registros, {clima_df.shape[1]} columnas\")\n",
    "    \n",
    "    # Verificar si existe la estación de Sevilla SPE00120512\n",
    "    sevilla_exists = 'SPE00120512' in clima_df['STATION'].values if 'STATION' in clima_df.columns else False\n",
    "    print(f\"🏛️ Estación Sevilla (SPE00120512): {'✅ Encontrada' if sevilla_exists else '❌ No encontrada'}\")\n",
    "    \n",
    "    # Mostrar información básica\n",
    "    print(\"\\n📊 Información del dataset:\")\n",
    "    if 'DATE' in clima_df.columns:\n",
    "        print(f\"   • Período: {clima_df['DATE'].min()} - {clima_df['DATE'].max()}\")\n",
    "    print(f\"   • Columnas: {list(clima_df.columns)}\")\n",
    "    \n",
    "    # Verificar estaciones disponibles\n",
    "    if 'STATION' in clima_df.columns:\n",
    "        estaciones_unicas = clima_df['STATION'].nunique()\n",
    "        print(f\"   • Estaciones únicas: {estaciones_unicas}\")\n",
    "        if estaciones_unicas <= 20:  # Mostrar si son pocas\n",
    "            print(f\"   • Códigos estaciones: {sorted(clima_df['STATION'].unique())}\")\n",
    "    \n",
    "except Exception as e:\n",
    "    print(f\"❌ Error al cargar clima_limpio.csv: {e}\")\n",
    "    print(\"📂 Verificando archivos disponibles...\")\n",
    "    \n",
    "    import os\n",
    "    base_path = r\"Data\\Base de datos\"\n",
    "    if os.path.exists(base_path):\n",
    "        archivos = os.listdir(base_path)\n",
    "        print(f\"   Archivos encontrados: {archivos}\")\n",
    "        \n",
    "        # Intentar cargar clima.csv como alternativa\n",
    "        try:\n",
    "            clima_df = pd.read_csv(r\"Data\\Base de datos\\clima.csv\")\n",
    "            print(f\"✅ Datos alternativos cargados: {clima_df.shape[0]:,} registros\")\n",
    "        except Exception as e2:\n",
    "            print(f\"❌ Error al cargar clima.csv: {e2}\")\n",
    "    else:\n",
    "        print(\"   Directorio no encontrado\")"
   ]
  },
  {
   "cell_type": "code",
   "execution_count": 16,
   "id": "1672ea71",
   "metadata": {},
   "outputs": [
    {
     "name": "stdout",
     "output_type": "stream",
     "text": [
      "🔍 Explorando estructura de los datos...\n",
      "\n",
      "📊 Forma del dataset: (1619312, 19)\n",
      "\n",
      "📋 Columnas disponibles:\n",
      "    1. STATION\n",
      "    2. DATE\n",
      "    3. LATITUDE\n",
      "    4. LONGITUDE\n",
      "    5. ELEVATION\n",
      "    6. NAME\n",
      "    7. PRCP\n",
      "    8. PRCP_ATTRIBUTES\n",
      "    9. SNWD\n",
      "   10. SNWD_ATTRIBUTES\n",
      "   11. TMAX\n",
      "   12. TMAX_ATTRIBUTES\n",
      "   13. TMIN\n",
      "   14. TMIN_ATTRIBUTES\n",
      "   15. TAVG\n",
      "   16. TAVG_ATTRIBUTES\n",
      "   17. TEMPERATURA_MEDIA\n",
      "   18. TMAX_C\n",
      "   19. TMIN_C\n",
      "\n",
      "🔍 Primeras 5 filas:\n"
     ]
    },
    {
     "data": {
      "text/html": [
       "<div>\n",
       "<style scoped>\n",
       "    .dataframe tbody tr th:only-of-type {\n",
       "        vertical-align: middle;\n",
       "    }\n",
       "\n",
       "    .dataframe tbody tr th {\n",
       "        vertical-align: top;\n",
       "    }\n",
       "\n",
       "    .dataframe thead th {\n",
       "        text-align: right;\n",
       "    }\n",
       "</style>\n",
       "<table border=\"1\" class=\"dataframe\">\n",
       "  <thead>\n",
       "    <tr style=\"text-align: right;\">\n",
       "      <th></th>\n",
       "      <th>STATION</th>\n",
       "      <th>DATE</th>\n",
       "      <th>LATITUDE</th>\n",
       "      <th>LONGITUDE</th>\n",
       "      <th>ELEVATION</th>\n",
       "      <th>NAME</th>\n",
       "      <th>PRCP</th>\n",
       "      <th>PRCP_ATTRIBUTES</th>\n",
       "      <th>SNWD</th>\n",
       "      <th>SNWD_ATTRIBUTES</th>\n",
       "      <th>TMAX</th>\n",
       "      <th>TMAX_ATTRIBUTES</th>\n",
       "      <th>TMIN</th>\n",
       "      <th>TMIN_ATTRIBUTES</th>\n",
       "      <th>TAVG</th>\n",
       "      <th>TAVG_ATTRIBUTES</th>\n",
       "      <th>TEMPERATURA_MEDIA</th>\n",
       "      <th>TMAX_C</th>\n",
       "      <th>TMIN_C</th>\n",
       "    </tr>\n",
       "  </thead>\n",
       "  <tbody>\n",
       "    <tr>\n",
       "      <th>0</th>\n",
       "      <td>SP000006155</td>\n",
       "      <td>1942-05-01</td>\n",
       "      <td>36.6667</td>\n",
       "      <td>-4.4881</td>\n",
       "      <td>7.0</td>\n",
       "      <td>MALAGA AEROPUERTO, SP</td>\n",
       "      <td>9.0</td>\n",
       "      <td>,,E</td>\n",
       "      <td>0.0</td>\n",
       "      <td>,,E</td>\n",
       "      <td>230.0</td>\n",
       "      <td>,,E</td>\n",
       "      <td>156.0</td>\n",
       "      <td>,,E</td>\n",
       "      <td>0.0</td>\n",
       "      <td>,,E</td>\n",
       "      <td>193.0</td>\n",
       "      <td>23.0</td>\n",
       "      <td>15.6</td>\n",
       "    </tr>\n",
       "    <tr>\n",
       "      <th>1</th>\n",
       "      <td>SP000006155</td>\n",
       "      <td>1942-05-02</td>\n",
       "      <td>36.6667</td>\n",
       "      <td>-4.4881</td>\n",
       "      <td>7.0</td>\n",
       "      <td>MALAGA AEROPUERTO, SP</td>\n",
       "      <td>0.0</td>\n",
       "      <td>,,E</td>\n",
       "      <td>0.0</td>\n",
       "      <td>,,E</td>\n",
       "      <td>255.0</td>\n",
       "      <td>,,E</td>\n",
       "      <td>145.0</td>\n",
       "      <td>,,E</td>\n",
       "      <td>0.0</td>\n",
       "      <td>,,E</td>\n",
       "      <td>200.0</td>\n",
       "      <td>25.5</td>\n",
       "      <td>14.5</td>\n",
       "    </tr>\n",
       "    <tr>\n",
       "      <th>2</th>\n",
       "      <td>SP000006155</td>\n",
       "      <td>1942-05-03</td>\n",
       "      <td>36.6667</td>\n",
       "      <td>-4.4881</td>\n",
       "      <td>7.0</td>\n",
       "      <td>MALAGA AEROPUERTO, SP</td>\n",
       "      <td>0.0</td>\n",
       "      <td>,,E</td>\n",
       "      <td>0.0</td>\n",
       "      <td>,,E</td>\n",
       "      <td>185.0</td>\n",
       "      <td>,,E</td>\n",
       "      <td>128.0</td>\n",
       "      <td>,,E</td>\n",
       "      <td>0.0</td>\n",
       "      <td>,,E</td>\n",
       "      <td>156.5</td>\n",
       "      <td>18.5</td>\n",
       "      <td>12.8</td>\n",
       "    </tr>\n",
       "    <tr>\n",
       "      <th>3</th>\n",
       "      <td>SP000006155</td>\n",
       "      <td>1942-05-04</td>\n",
       "      <td>36.6667</td>\n",
       "      <td>-4.4881</td>\n",
       "      <td>7.0</td>\n",
       "      <td>MALAGA AEROPUERTO, SP</td>\n",
       "      <td>0.0</td>\n",
       "      <td>,,E</td>\n",
       "      <td>0.0</td>\n",
       "      <td>,,E</td>\n",
       "      <td>186.0</td>\n",
       "      <td>,,E</td>\n",
       "      <td>102.0</td>\n",
       "      <td>,,E</td>\n",
       "      <td>0.0</td>\n",
       "      <td>,,E</td>\n",
       "      <td>144.0</td>\n",
       "      <td>18.6</td>\n",
       "      <td>10.2</td>\n",
       "    </tr>\n",
       "    <tr>\n",
       "      <th>4</th>\n",
       "      <td>SP000006155</td>\n",
       "      <td>1942-05-05</td>\n",
       "      <td>36.6667</td>\n",
       "      <td>-4.4881</td>\n",
       "      <td>7.0</td>\n",
       "      <td>MALAGA AEROPUERTO, SP</td>\n",
       "      <td>0.0</td>\n",
       "      <td>,,E</td>\n",
       "      <td>0.0</td>\n",
       "      <td>,,E</td>\n",
       "      <td>186.0</td>\n",
       "      <td>,,E</td>\n",
       "      <td>119.0</td>\n",
       "      <td>,,E</td>\n",
       "      <td>0.0</td>\n",
       "      <td>,,E</td>\n",
       "      <td>152.5</td>\n",
       "      <td>18.6</td>\n",
       "      <td>11.9</td>\n",
       "    </tr>\n",
       "  </tbody>\n",
       "</table>\n",
       "</div>"
      ],
      "text/plain": [
       "       STATION        DATE  LATITUDE  LONGITUDE  ELEVATION  \\\n",
       "0  SP000006155  1942-05-01   36.6667    -4.4881        7.0   \n",
       "1  SP000006155  1942-05-02   36.6667    -4.4881        7.0   \n",
       "2  SP000006155  1942-05-03   36.6667    -4.4881        7.0   \n",
       "3  SP000006155  1942-05-04   36.6667    -4.4881        7.0   \n",
       "4  SP000006155  1942-05-05   36.6667    -4.4881        7.0   \n",
       "\n",
       "                    NAME  PRCP PRCP_ATTRIBUTES  SNWD SNWD_ATTRIBUTES   TMAX  \\\n",
       "0  MALAGA AEROPUERTO, SP   9.0             ,,E   0.0             ,,E  230.0   \n",
       "1  MALAGA AEROPUERTO, SP   0.0             ,,E   0.0             ,,E  255.0   \n",
       "2  MALAGA AEROPUERTO, SP   0.0             ,,E   0.0             ,,E  185.0   \n",
       "3  MALAGA AEROPUERTO, SP   0.0             ,,E   0.0             ,,E  186.0   \n",
       "4  MALAGA AEROPUERTO, SP   0.0             ,,E   0.0             ,,E  186.0   \n",
       "\n",
       "  TMAX_ATTRIBUTES   TMIN TMIN_ATTRIBUTES  TAVG TAVG_ATTRIBUTES  \\\n",
       "0             ,,E  156.0             ,,E   0.0             ,,E   \n",
       "1             ,,E  145.0             ,,E   0.0             ,,E   \n",
       "2             ,,E  128.0             ,,E   0.0             ,,E   \n",
       "3             ,,E  102.0             ,,E   0.0             ,,E   \n",
       "4             ,,E  119.0             ,,E   0.0             ,,E   \n",
       "\n",
       "   TEMPERATURA_MEDIA  TMAX_C  TMIN_C  \n",
       "0              193.0    23.0    15.6  \n",
       "1              200.0    25.5    14.5  \n",
       "2              156.5    18.5    12.8  \n",
       "3              144.0    18.6    10.2  \n",
       "4              152.5    18.6    11.9  "
      ]
     },
     "metadata": {},
     "output_type": "display_data"
    },
    {
     "name": "stdout",
     "output_type": "stream",
     "text": [
      "\n",
      "📈 Información del dataset:\n",
      "<class 'pandas.core.frame.DataFrame'>\n",
      "RangeIndex: 1619312 entries, 0 to 1619311\n",
      "Data columns (total 19 columns):\n",
      " #   Column             Non-Null Count    Dtype  \n",
      "---  ------             --------------    -----  \n",
      " 0   STATION            1619312 non-null  object \n",
      " 1   DATE               1619312 non-null  object \n",
      " 2   LATITUDE           1619312 non-null  float64\n",
      " 3   LONGITUDE          1619312 non-null  float64\n",
      " 4   ELEVATION          1619312 non-null  float64\n",
      " 5   NAME               1619312 non-null  object \n",
      " 6   PRCP               1619312 non-null  float64\n",
      " 7   PRCP_ATTRIBUTES    1619312 non-null  object \n",
      " 8   SNWD               1619312 non-null  float64\n",
      " 9   SNWD_ATTRIBUTES    1619312 non-null  object \n",
      " 10  TMAX               1619312 non-null  float64\n",
      " 11  TMAX_ATTRIBUTES    1619312 non-null  object \n",
      " 12  TMIN               1619312 non-null  float64\n",
      " 13  TMIN_ATTRIBUTES    1619312 non-null  object \n",
      " 14  TAVG               1619312 non-null  float64\n",
      " 15  TAVG_ATTRIBUTES    1619312 non-null  object \n",
      " 16  TEMPERATURA_MEDIA  1619312 non-null  float64\n",
      " 17  TMAX_C             1619312 non-null  float64\n",
      " 18  TMIN_C             1619312 non-null  float64\n",
      "dtypes: float64(11), object(8)\n",
      "memory usage: 234.7+ MB\n",
      "None\n",
      "<class 'pandas.core.frame.DataFrame'>\n",
      "RangeIndex: 1619312 entries, 0 to 1619311\n",
      "Data columns (total 19 columns):\n",
      " #   Column             Non-Null Count    Dtype  \n",
      "---  ------             --------------    -----  \n",
      " 0   STATION            1619312 non-null  object \n",
      " 1   DATE               1619312 non-null  object \n",
      " 2   LATITUDE           1619312 non-null  float64\n",
      " 3   LONGITUDE          1619312 non-null  float64\n",
      " 4   ELEVATION          1619312 non-null  float64\n",
      " 5   NAME               1619312 non-null  object \n",
      " 6   PRCP               1619312 non-null  float64\n",
      " 7   PRCP_ATTRIBUTES    1619312 non-null  object \n",
      " 8   SNWD               1619312 non-null  float64\n",
      " 9   SNWD_ATTRIBUTES    1619312 non-null  object \n",
      " 10  TMAX               1619312 non-null  float64\n",
      " 11  TMAX_ATTRIBUTES    1619312 non-null  object \n",
      " 12  TMIN               1619312 non-null  float64\n",
      " 13  TMIN_ATTRIBUTES    1619312 non-null  object \n",
      " 14  TAVG               1619312 non-null  float64\n",
      " 15  TAVG_ATTRIBUTES    1619312 non-null  object \n",
      " 16  TEMPERATURA_MEDIA  1619312 non-null  float64\n",
      " 17  TMAX_C             1619312 non-null  float64\n",
      " 18  TMIN_C             1619312 non-null  float64\n",
      "dtypes: float64(11), object(8)\n",
      "memory usage: 234.7+ MB\n",
      "None\n"
     ]
    }
   ],
   "source": [
    "# Explorar estructura de los datos\n",
    "print(\"🔍 Explorando estructura de los datos...\")\n",
    "print(f\"\\n📊 Forma del dataset: {clima_df.shape}\")\n",
    "print(f\"\\n📋 Columnas disponibles:\")\n",
    "for i, col in enumerate(clima_df.columns, 1):\n",
    "    print(f\"   {i:2d}. {col}\")\n",
    "\n",
    "print(f\"\\n🔍 Primeras 5 filas:\")\n",
    "display(clima_df.head())\n",
    "\n",
    "print(f\"\\n📈 Información del dataset:\")\n",
    "print(clima_df.info())"
   ]
  },
  {
   "cell_type": "code",
   "execution_count": 17,
   "id": "9da455f9",
   "metadata": {},
   "outputs": [
    {
     "name": "stdout",
     "output_type": "stream",
     "text": [
      "🗺️ Filtrando datos de Andalucía...\n",
      "📊 Datos de Andalucía filtrados:\n",
      "   • Registros totales: 279,562\n",
      "   • Estaciones únicas: 14\n",
      "   • Período: 1920-01-01 a 2025-07-13\n",
      "\n",
      "🏛️ Distribución por provincias:\n",
      "   • Cádiz: 94,729 registros\n",
      "   • Sevilla: 51,087 registros\n",
      "   • Granada: 49,564 registros\n",
      "   • Jaén: 33,315 registros\n",
      "   • Huelva: 29,991 registros\n",
      "   • Almería: 20,876 registros\n",
      "\n",
      "🌡️ Variables climáticas disponibles:\n",
      "   • TMAX: 279,562 registros (100.0% disponibilidad)\n",
      "   • TMIN: 279,562 registros (100.0% disponibilidad)\n",
      "   • TAVG: 279,562 registros (100.0% disponibilidad)\n",
      "   • PRCP: 279,562 registros (100.0% disponibilidad)\n",
      "\n",
      "🏛️ Distribución por provincias:\n",
      "   • Cádiz: 94,729 registros\n",
      "   • Sevilla: 51,087 registros\n",
      "   • Granada: 49,564 registros\n",
      "   • Jaén: 33,315 registros\n",
      "   • Huelva: 29,991 registros\n",
      "   • Almería: 20,876 registros\n",
      "\n",
      "🌡️ Variables climáticas disponibles:\n",
      "   • TMAX: 279,562 registros (100.0% disponibilidad)\n",
      "   • TMIN: 279,562 registros (100.0% disponibilidad)\n",
      "   • TAVG: 279,562 registros (100.0% disponibilidad)\n",
      "   • PRCP: 279,562 registros (100.0% disponibilidad)\n"
     ]
    }
   ],
   "source": [
    "# Filtrar datos de Andalucía y preparar dataset\n",
    "print(\"🗺️ Filtrando datos de Andalucía...\")\n",
    "\n",
    "# Convertir fecha a datetime\n",
    "clima_df['DATE'] = pd.to_datetime(clima_df['DATE'])\n",
    "\n",
    "# Definir límites geográficos aproximados de Andalucía\n",
    "# Andalucía está entre las coordenadas:\n",
    "ANDALUCIA_BOUNDS = {\n",
    "    'lat_min': 36.0,   # Sur (cerca de Tarifa)\n",
    "    'lat_max': 38.8,   # Norte (Sierra Morena)\n",
    "    'lon_min': -7.5,   # Oeste (Huelva)\n",
    "    'lon_max': -1.6    # Este (Almería)\n",
    "}\n",
    "\n",
    "# Filtrar estaciones de Andalucía por coordenadas geográficas\n",
    "andalucia_df = clima_df[\n",
    "    (clima_df['LATITUDE'] >= ANDALUCIA_BOUNDS['lat_min']) &\n",
    "    (clima_df['LATITUDE'] <= ANDALUCIA_BOUNDS['lat_max']) &\n",
    "    (clima_df['LONGITUDE'] >= ANDALUCIA_BOUNDS['lon_min']) &\n",
    "    (clima_df['LONGITUDE'] <= ANDALUCIA_BOUNDS['lon_max'])\n",
    "].copy()\n",
    "\n",
    "print(f\"📊 Datos de Andalucía filtrados:\")\n",
    "print(f\"   • Registros totales: {andalucia_df.shape[0]:,}\")\n",
    "print(f\"   • Estaciones únicas: {andalucia_df['STATION'].nunique()}\")\n",
    "print(f\"   • Período: {andalucia_df['DATE'].min().strftime('%Y-%m-%d')} a {andalucia_df['DATE'].max().strftime('%Y-%m-%d')}\")\n",
    "\n",
    "# Identificar provincias aproximadas por ubicación\n",
    "def identificar_provincia(lat, lon, station_code=None):\n",
    "    \"\"\"Identificar provincia andaluza aproximadamente por coordenadas y código de estación\"\"\"\n",
    "    \n",
    "    # Casos específicos por código de estación\n",
    "    if station_code == 'SPE00120512':\n",
    "        return 'Sevilla'\n",
    "    \n",
    "    # Identificación por coordenadas geográficas mejorada\n",
    "    if lon < -6.8:  # Zona oeste\n",
    "        return 'Huelva'\n",
    "    elif lon < -5.3:  # Zona centro-oeste\n",
    "        if lat > 37.6:\n",
    "            return 'Sevilla'  # Norte del Guadalquivir\n",
    "        else:\n",
    "            return 'Cádiz'   # Sur del Guadalquivir\n",
    "    elif lon < -4.5:  # Zona centro\n",
    "        if lat > 37.9:\n",
    "            return 'Córdoba'  # Norte\n",
    "        elif lat > 37.0:\n",
    "            return 'Sevilla'  # Centro\n",
    "        else:\n",
    "            return 'Málaga'   # Sur\n",
    "    elif lon < -3.5:  # Zona centro-este\n",
    "        if lat > 37.7:\n",
    "            return 'Jaén'     # Norte\n",
    "        else:\n",
    "            return 'Granada'  # Sur\n",
    "    else:  # Zona este\n",
    "        return 'Almería'\n",
    "\n",
    "# Añadir columna de provincia (considerando código de estación si está disponible)\n",
    "if 'STATION' in andalucia_df.columns:\n",
    "    andalucia_df['PROVINCIA'] = andalucia_df.apply(\n",
    "        lambda row: identificar_provincia(row['LATITUDE'], row['LONGITUDE'], row['STATION']), \n",
    "        axis=1\n",
    "    )\n",
    "else:\n",
    "    andalucia_df['PROVINCIA'] = andalucia_df.apply(\n",
    "        lambda row: identificar_provincia(row['LATITUDE'], row['LONGITUDE']), \n",
    "        axis=1\n",
    "    )\n",
    "\n",
    "# Crear columnas adicionales para análisis\n",
    "andalucia_df['AÑO'] = andalucia_df['DATE'].dt.year\n",
    "andalucia_df['MES'] = andalucia_df['DATE'].dt.month\n",
    "andalucia_df['DIA_AÑO'] = andalucia_df['DATE'].dt.dayofyear\n",
    "\n",
    "# Definir estaciones climáticas\n",
    "def get_season(month):\n",
    "    if month in [12, 1, 2]:\n",
    "        return 'Invierno'\n",
    "    elif month in [3, 4, 5]:\n",
    "        return 'Primavera'\n",
    "    elif month in [6, 7, 8]:\n",
    "        return 'Verano'\n",
    "    else:\n",
    "        return 'Otoño'\n",
    "\n",
    "andalucia_df['ESTACION'] = andalucia_df['MES'].apply(get_season)\n",
    "\n",
    "print(f\"\\n🏛️ Distribución por provincias:\")\n",
    "prov_counts = andalucia_df['PROVINCIA'].value_counts()\n",
    "for prov, count in prov_counts.items():\n",
    "    print(f\"   • {prov}: {count:,} registros\")\n",
    "\n",
    "print(f\"\\n🌡️ Variables climáticas disponibles:\")\n",
    "clima_vars = ['TMAX', 'TMIN', 'TAVG', 'PRCP']\n",
    "for var in clima_vars:\n",
    "    non_null = andalucia_df[var].notna().sum()\n",
    "    percentage = (non_null / len(andalucia_df)) * 100\n",
    "    print(f\"   • {var}: {non_null:,} registros ({percentage:.1f}% disponibilidad)\")"
   ]
  },
  {
   "cell_type": "code",
   "execution_count": 18,
   "id": "2a9591e7",
   "metadata": {},
   "outputs": [
    {
     "name": "stdout",
     "output_type": "stream",
     "text": [
      "\n",
      "🔍 Verificación específica de la estación de Sevilla:\n",
      "   ✅ Estación SPE00120512 encontrada: 27,096 registros\n",
      "   📍 Ubicación: 37.417°N, -5.879°W\n",
      "   🏛️ Nombre: SEVILLA SAN PABLO, SP\n",
      "   📊 Período: 1951-01-01 00:00:00 a 2025-07-13 00:00:00\n",
      "   🌡️ Provincia asignada: Sevilla\n",
      "\n",
      "📍 Estaciones por provincia:\n",
      "   • Cádiz: 5 estación(es)\n",
      "   • Granada: 3 estación(es)\n",
      "   • Sevilla: 2 estación(es)\n",
      "   • Jaén: 2 estación(es)\n",
      "   • Almería: 1 estación(es)\n",
      "   • Huelva: 1 estación(es)\n",
      "\n",
      "🌐 Todas las estaciones en Andalucía:\n",
      "   • SP000006155: MALAGA AEROPUERTO, SP (Granada) - 36.67°N, -4.49°W\n",
      "   • SP000008410: CORDOBA AEROPUERTO, SP (Sevilla) - 37.84°N, -4.85°W\n",
      "   • SPE00119783: ALMERIA AEROPUERTO, SP (Almería) - 36.85°N, -2.36°W\n",
      "   • SPE00119936: CADIZ, SP (Cádiz) - 36.50°N, -6.26°W\n",
      "   • SPE00119945: JEREZ DE LA FRONTERA, SP (Cádiz) - 36.75°N, -6.06°W\n",
      "   • SPE00119954: ROTA, SP (Cádiz) - 36.64°N, -6.33°W\n",
      "   • SPE00120089: GRANADA AEROPUERTO, SP (Granada) - 37.19°N, -3.79°W\n",
      "   • SPE00120152: HUELVA, SP (Huelva) - 37.26°N, -6.95°W\n",
      "   • SPE00120170: JAEN, SP (Jaén) - 37.78°N, -3.81°W\n",
      "   • SPE00120179: JAEN INSTITUTO, SP (Jaén) - 37.78°N, -3.79°W\n",
      "   • SPE00120512: SEVILLA SAN PABLO, SP (Sevilla) - 37.42°N, -5.88°W\n",
      "   • SPM00008420: GRANADA ARMILLA, SP (Granada) - 37.13°N, -3.62°W\n",
      "   • SPW00013024: MORON DE LA FRONTERA, SP (Cádiz) - 37.17°N, -5.62°W\n",
      "   • SPW00013025: ROTA NAS, SP (Cádiz) - 36.65°N, -6.35°W\n",
      "\n",
      "🔍 Verificando cobertura geográfica:\n",
      "   • Latitud: 36.50° a 37.84°\n",
      "   • Longitud: -6.95° a -2.36°\n"
     ]
    }
   ],
   "source": [
    "# Verificación específica de Sevilla y análisis de provincias\n",
    "print(f\"\\n🔍 Verificación específica de la estación de Sevilla:\")\n",
    "\n",
    "# Filtrar específicamente la estación de Sevilla\n",
    "sevilla_data = andalucia_df[andalucia_df['STATION'] == 'SPE00120512']\n",
    "if len(sevilla_data) > 0:\n",
    "    print(f\"   ✅ Estación SPE00120512 encontrada: {len(sevilla_data):,} registros\")\n",
    "    print(f\"   📍 Ubicación: {sevilla_data['LATITUDE'].iloc[0]:.3f}°N, {sevilla_data['LONGITUDE'].iloc[0]:.3f}°W\")\n",
    "    print(f\"   🏛️ Nombre: {sevilla_data['NAME'].iloc[0]}\")\n",
    "    print(f\"   📊 Período: {sevilla_data['DATE'].min()} a {sevilla_data['DATE'].max()}\")\n",
    "    print(f\"   🌡️ Provincia asignada: {sevilla_data['PROVINCIA'].iloc[0]}\")\n",
    "else:\n",
    "    print(\"   ❌ Estación SPE00120512 no encontrada en el filtro de Andalucía\")\n",
    "\n",
    "# Verificar todas las estaciones y sus ubicaciones\n",
    "print(f\"\\n📍 Estaciones por provincia:\")\n",
    "estaciones_por_provincia = andalucia_df.groupby('PROVINCIA')['STATION'].nunique().sort_values(ascending=False)\n",
    "for provincia, num_estaciones in estaciones_por_provincia.items():\n",
    "    print(f\"   • {provincia}: {num_estaciones} estación(es)\")\n",
    "\n",
    "# Mostrar todas las estaciones disponibles\n",
    "print(f\"\\n🌐 Todas las estaciones en Andalucía:\")\n",
    "estaciones_info = andalucia_df[['STATION', 'NAME', 'PROVINCIA', 'LATITUDE', 'LONGITUDE']].drop_duplicates()\n",
    "for _, row in estaciones_info.iterrows():\n",
    "    print(f\"   • {row['STATION']}: {row['NAME']} ({row['PROVINCIA']}) - {row['LATITUDE']:.2f}°N, {row['LONGITUDE']:.2f}°W\")\n",
    "\n",
    "# Verificar si hay estaciones fuera del rango de Andalucía que deberían incluirse\n",
    "print(f\"\\n🔍 Verificando cobertura geográfica:\")\n",
    "lat_range = andalucia_df['LATITUDE'].agg(['min', 'max'])\n",
    "lon_range = andalucia_df['LONGITUDE'].agg(['min', 'max'])\n",
    "print(f\"   • Latitud: {lat_range['min']:.2f}° a {lat_range['max']:.2f}°\")\n",
    "print(f\"   • Longitud: {lon_range['min']:.2f}° a {lon_range['max']:.2f}°\")"
   ]
  },
  {
   "cell_type": "code",
   "execution_count": 19,
   "id": "b358cf86",
   "metadata": {},
   "outputs": [
    {
     "name": "stdout",
     "output_type": "stream",
     "text": [
      "🔧 Corrigiendo clasificación de provincias...\n",
      "   ✅ SP000008410: 23,991 registros → Córdoba\n",
      "   ✅ SP000006155: 30,160 registros → Málaga\n",
      "   ✅ SPE00120512: 27,096 registros → Sevilla\n",
      "\n",
      "🏛️ Distribución actualizada por provincias:\n",
      "   • Cádiz: 94,729 registros\n",
      "   • Jaén: 33,315 registros\n",
      "   • Málaga: 30,160 registros\n",
      "   • Huelva: 29,991 registros\n",
      "   • Sevilla: 27,096 registros\n",
      "   • Córdoba: 23,991 registros\n",
      "   • Almería: 20,876 registros\n",
      "   • Granada: 19,404 registros\n",
      "\n",
      "📍 Estaciones actualizadas por provincia:\n",
      "   • Cádiz: 5 estación(es) - SPE00119936, SPE00119945, SPE00119954, SPW00013024, SPW00013025\n",
      "   • Granada: 2 estación(es) - SPE00120089, SPM00008420\n",
      "   • Jaén: 2 estación(es) - SPE00120170, SPE00120179\n",
      "   • Almería: 1 estación(es) - SPE00119783\n",
      "   • Córdoba: 1 estación(es) - SP000008410\n",
      "   • Huelva: 1 estación(es) - SPE00120152\n",
      "   • Málaga: 1 estación(es) - SP000006155\n",
      "   • Sevilla: 1 estación(es) - SPE00120512\n",
      "✅ Clasificación de provincias corregida\n"
     ]
    }
   ],
   "source": [
    "# Corrección de clasificación de provincias por códigos específicos\n",
    "print(\"🔧 Corrigiendo clasificación de provincias...\")\n",
    "\n",
    "# Diccionario de correcciones específicas por código de estación\n",
    "correcciones_provincias = {\n",
    "    'SP000008410': 'Córdoba',    # CORDOBA AEROPUERTO\n",
    "    'SP000006155': 'Málaga',     # MALAGA AEROPUERTO\n",
    "    'SPE00120512': 'Sevilla',    # SEVILLA SAN PABLO\n",
    "}\n",
    "\n",
    "# Aplicar correcciones\n",
    "for station_code, provincia_correcta in correcciones_provincias.items():\n",
    "    mask = andalucia_df['STATION'] == station_code\n",
    "    if mask.any():\n",
    "        andalucia_df.loc[mask, 'PROVINCIA'] = provincia_correcta\n",
    "        registros_corregidos = mask.sum()\n",
    "        print(f\"   ✅ {station_code}: {registros_corregidos:,} registros → {provincia_correcta}\")\n",
    "\n",
    "# Verificar distribución actualizada\n",
    "print(f\"\\n🏛️ Distribución actualizada por provincias:\")\n",
    "prov_counts_actualizada = andalucia_df['PROVINCIA'].value_counts()\n",
    "for prov, count in prov_counts_actualizada.items():\n",
    "    print(f\"   • {prov}: {count:,} registros\")\n",
    "\n",
    "# Verificar estaciones por provincia actualizada\n",
    "print(f\"\\n📍 Estaciones actualizadas por provincia:\")\n",
    "estaciones_por_provincia_actualizada = andalucia_df.groupby('PROVINCIA')['STATION'].nunique().sort_values(ascending=False)\n",
    "for provincia, num_estaciones in estaciones_por_provincia_actualizada.items():\n",
    "    estaciones = andalucia_df[andalucia_df['PROVINCIA'] == provincia]['STATION'].unique()\n",
    "    print(f\"   • {provincia}: {num_estaciones} estación(es) - {', '.join(estaciones)}\")\n",
    "\n",
    "print(\"✅ Clasificación de provincias corregida\")"
   ]
  },
  {
   "cell_type": "code",
   "execution_count": 20,
   "id": "ca5469ff",
   "metadata": {},
   "outputs": [
    {
     "name": "stdout",
     "output_type": "stream",
     "text": [
      "🔧 Configurando columnas para análisis...\n",
      "🌡️ Verificación de unidades:\n",
      "   • TMAX (°C): min=-1.5, max=47.2\n",
      "   • TMIN (°C): min=-14.2, max=33.2\n",
      "   • TEMP_MEDIA (°C): min=-71.0, max=372.5\n",
      "   • PRCP (mm): min=0.0, max=3130.0\n",
      "✅ Columnas configuradas correctamente para clima_limpio.csv\n",
      "📊 Dataset final: 279,562 registros de 8 provincias\n"
     ]
    }
   ],
   "source": [
    "# Configuración de columnas para dataset clima_limpio\n",
    "print(\"🔧 Configurando columnas para análisis...\")\n",
    "\n",
    "# El dataset clima_limpio ya tiene temperaturas en Celsius, usar esas columnas\n",
    "andalucia_df['TEMP_MEDIA'] = andalucia_df['TEMPERATURA_MEDIA']  # Ya en °C\n",
    "andalucia_df['TMAX'] = andalucia_df['TMAX_C']  # Ya en °C  \n",
    "andalucia_df['TMIN'] = andalucia_df['TMIN_C']  # Ya en °C\n",
    "# PRCP ya está en mm\n",
    "\n",
    "# Verificar unidades\n",
    "print(\"🌡️ Verificación de unidades:\")\n",
    "print(f\"   • TMAX (°C): min={andalucia_df['TMAX'].min():.1f}, max={andalucia_df['TMAX'].max():.1f}\")\n",
    "print(f\"   • TMIN (°C): min={andalucia_df['TMIN'].min():.1f}, max={andalucia_df['TMIN'].max():.1f}\")  \n",
    "print(f\"   • TEMP_MEDIA (°C): min={andalucia_df['TEMP_MEDIA'].min():.1f}, max={andalucia_df['TEMP_MEDIA'].max():.1f}\")\n",
    "print(f\"   • PRCP (mm): min={andalucia_df['PRCP'].min():.1f}, max={andalucia_df['PRCP'].max():.1f}\")\n",
    "\n",
    "# Calcular índices agroclimáticos\n",
    "andalucia_df['AMPLITUD_TERMICA'] = andalucia_df['TMAX'] - andalucia_df['TMIN']\n",
    "andalucia_df['GDD_BASE10'] = np.maximum(0, andalucia_df['TEMP_MEDIA'] - 10)\n",
    "andalucia_df['GDD_BASE5'] = np.maximum(0, andalucia_df['TEMP_MEDIA'] - 5)\n",
    "\n",
    "print(\"✅ Columnas configuradas correctamente para clima_limpio.csv\")\n",
    "print(f\"📊 Dataset final: {len(andalucia_df):,} registros de {andalucia_df['PROVINCIA'].nunique()} provincias\")"
   ]
  },
  {
   "cell_type": "code",
   "execution_count": 21,
   "id": "a01c38c7",
   "metadata": {},
   "outputs": [
    {
     "name": "stdout",
     "output_type": "stream",
     "text": [
      "🧹 Limpiando datos extremos...\n",
      "🌡️ Análisis de valores extremos:\n",
      "   • TEMP_MEDIA: count    279562.000000\n",
      "mean        177.893741\n",
      "std          63.768183\n",
      "min         -71.000000\n",
      "25%         130.000000\n",
      "50%         173.000000\n",
      "75%         229.000000\n",
      "max         372.500000\n",
      "Name: TEMP_MEDIA, dtype: float64\n",
      "📊 Limpieza completada:\n",
      "   • Registros antes: 279,562\n",
      "   • Registros después: 4,232\n",
      "   • Registros filtrados: 275,330 (98.49%)\n",
      "⚠️ Usando temperatura media calculada (TMAX+TMIN)/2\n",
      "\n",
      "🌡️ Rangos finales de temperatura:\n",
      "   • TMAX: -1.0°C a 16.4°C\n",
      "   • TMIN: -10.0°C a 4.0°C\n",
      "   • TEMP_MEDIA: -2.0°C a 5.0°C\n",
      "✅ Datos limpios y listos para análisis\n"
     ]
    }
   ],
   "source": [
    "# Limpieza de datos extremos\n",
    "print(\"🧹 Limpiando datos extremos...\")\n",
    "\n",
    "# Verificar y limpiar valores extremos de temperatura\n",
    "print(\"🌡️ Análisis de valores extremos:\")\n",
    "print(f\"   • TEMP_MEDIA: {andalucia_df['TEMP_MEDIA'].describe()}\")\n",
    "\n",
    "# Filtrar valores extremos poco realistas (posibles errores)\n",
    "# Para Andalucía, temperaturas medias entre -20°C y 50°C son razonables\n",
    "mask_temp_realista = (\n",
    "    (andalucia_df['TEMP_MEDIA'] >= -20) & \n",
    "    (andalucia_df['TEMP_MEDIA'] <= 50) &\n",
    "    (andalucia_df['TMAX'] >= -15) & \n",
    "    (andalucia_df['TMAX'] <= 55) &\n",
    "    (andalucia_df['TMIN'] >= -25) & \n",
    "    (andalucia_df['TMIN'] <= 40)\n",
    ")\n",
    "\n",
    "registros_antes = len(andalucia_df)\n",
    "andalucia_df = andalucia_df[mask_temp_realista].copy()\n",
    "registros_despues = len(andalucia_df)\n",
    "registros_filtrados = registros_antes - registros_despues\n",
    "\n",
    "print(f\"📊 Limpieza completada:\")\n",
    "print(f\"   • Registros antes: {registros_antes:,}\")\n",
    "print(f\"   • Registros después: {registros_despues:,}\")\n",
    "print(f\"   • Registros filtrados: {registros_filtrados:,} ({(registros_filtrados/registros_antes)*100:.2f}%)\")\n",
    "\n",
    "# Recalcular temperatura media como promedio de TMAX y TMIN si es más consistente\n",
    "andalucia_df['TEMP_MEDIA_CALC'] = (andalucia_df['TMAX'] + andalucia_df['TMIN']) / 2\n",
    "\n",
    "# Usar la temperatura media calculada si es más consistente\n",
    "temp_diff = np.abs(andalucia_df['TEMP_MEDIA'] - andalucia_df['TEMP_MEDIA_CALC'])\n",
    "if temp_diff.mean() > 5:  # Si hay mucha diferencia, usar la calculada\n",
    "    print(\"⚠️ Usando temperatura media calculada (TMAX+TMIN)/2\")\n",
    "    andalucia_df['TEMP_MEDIA'] = andalucia_df['TEMP_MEDIA_CALC']\n",
    "\n",
    "# Verificar rangos finales\n",
    "print(f\"\\n🌡️ Rangos finales de temperatura:\")\n",
    "print(f\"   • TMAX: {andalucia_df['TMAX'].min():.1f}°C a {andalucia_df['TMAX'].max():.1f}°C\")\n",
    "print(f\"   • TMIN: {andalucia_df['TMIN'].min():.1f}°C a {andalucia_df['TMIN'].max():.1f}°C\") \n",
    "print(f\"   • TEMP_MEDIA: {andalucia_df['TEMP_MEDIA'].min():.1f}°C a {andalucia_df['TEMP_MEDIA'].max():.1f}°C\")\n",
    "\n",
    "# Recalcular índices con datos limpios\n",
    "andalucia_df['AMPLITUD_TERMICA'] = andalucia_df['TMAX'] - andalucia_df['TMIN']\n",
    "andalucia_df['GDD_BASE10'] = np.maximum(0, andalucia_df['TEMP_MEDIA'] - 10)\n",
    "andalucia_df['GDD_BASE5'] = np.maximum(0, andalucia_df['TEMP_MEDIA'] - 5)\n",
    "\n",
    "print(\"✅ Datos limpios y listos para análisis\")"
   ]
  },
  {
   "cell_type": "code",
   "execution_count": 22,
   "id": "266d276e",
   "metadata": {},
   "outputs": [
    {
     "name": "stdout",
     "output_type": "stream",
     "text": [
      "🔄 Recargando datos con filtros apropiados para Andalucía...\n",
      "📊 Datos finales:\n",
      "   • Registros: 279,023 (filtrados: 539)\n",
      "   • Provincias: 8\n",
      "   • Período: 1920-01-01 00:00:00 a 2025-07-13 00:00:00\n",
      "\n",
      "🌡️ Verificación final:\n",
      "   • TMAX: -1.5°C a 47.2°C\n",
      "   • TMIN: -14.2°C a 33.2°C\n",
      "   • TEMP_MEDIA: -7.1°C a 37.2°C\n",
      "   • PRCP: 0.0 a 500.0 mm\n",
      "\n",
      "🏛️ Distribución por provincias:\n",
      "   • Cádiz: 94,517 registros\n",
      "   • Jaén: 33,267 registros\n",
      "   • Málaga: 30,043 registros\n",
      "   • Huelva: 29,953 registros\n",
      "   • Sevilla: 27,044 registros\n",
      "   • Córdoba: 23,939 registros\n",
      "   • Almería: 20,863 registros\n",
      "   • Granada: 19,397 registros\n",
      "✅ Dataset final listo para análisis profesional\n"
     ]
    }
   ],
   "source": [
    "# Re-cargar datos con filtros más apropiados para Andalucía\n",
    "print(\"🔄 Recargando datos con filtros apropiados para Andalucía...\")\n",
    "\n",
    "# Volver a cargar los datos filtrados para Andalucía\n",
    "andalucia_df = clima_df[\n",
    "    (clima_df['LATITUDE'] >= ANDALUCIA_BOUNDS['lat_min']) &\n",
    "    (clima_df['LATITUDE'] <= ANDALUCIA_BOUNDS['lat_max']) &\n",
    "    (clima_df['LONGITUDE'] >= ANDALUCIA_BOUNDS['lon_min']) &\n",
    "    (clima_df['LONGITUDE'] <= ANDALUCIA_BOUNDS['lon_max'])\n",
    "].copy()\n",
    "\n",
    "# Aplicar correcciones de provincias\n",
    "correcciones_provincias = {\n",
    "    'SP000008410': 'Córdoba',    # CORDOBA AEROPUERTO\n",
    "    'SP000006155': 'Málaga',     # MALAGA AEROPUERTO  \n",
    "    'SPE00120512': 'Sevilla',    # SEVILLA SAN PABLO\n",
    "}\n",
    "\n",
    "# Función de identificación de provincias mejorada\n",
    "def identificar_provincia_mejorada(lat, lon, station_code=None):\n",
    "    if station_code in correcciones_provincias:\n",
    "        return correcciones_provincias[station_code]\n",
    "    \n",
    "    if lon < -6.8:\n",
    "        return 'Huelva'\n",
    "    elif lon < -5.3:\n",
    "        if lat > 37.6:\n",
    "            return 'Sevilla'\n",
    "        else:\n",
    "            return 'Cádiz'\n",
    "    elif lon < -4.5:\n",
    "        if lat > 37.9:\n",
    "            return 'Córdoba'\n",
    "        elif lat > 37.0:\n",
    "            return 'Sevilla'\n",
    "        else:\n",
    "            return 'Málaga'\n",
    "    elif lon < -3.5:\n",
    "        if lat > 37.7:\n",
    "            return 'Jaén'\n",
    "        else:\n",
    "            return 'Granada'\n",
    "    else:\n",
    "        return 'Almería'\n",
    "\n",
    "# Aplicar identificación de provincias\n",
    "andalucia_df['PROVINCIA'] = andalucia_df.apply(\n",
    "    lambda row: identificar_provincia_mejorada(row['LATITUDE'], row['LONGITUDE'], row['STATION']), \n",
    "    axis=1\n",
    ")\n",
    "\n",
    "# Configurar columnas (las temperaturas en clima_limpio están en décimas de grado)\n",
    "andalucia_df['TMAX'] = andalucia_df['TMAX_C']  # Ya en °C\n",
    "andalucia_df['TMIN'] = andalucia_df['TMIN_C']  # Ya en °C  \n",
    "andalucia_df['TEMP_MEDIA'] = (andalucia_df['TMAX'] + andalucia_df['TMIN']) / 2\n",
    "andalucia_df['PRCP'] = andalucia_df['PRCP']  # Ya en mm\n",
    "\n",
    "# Aplicar filtros más realistas para Andalucía\n",
    "# Temperaturas máximas: -5°C a 50°C, mínimas: -15°C a 35°C\n",
    "mask_temp_andalucia = (\n",
    "    (andalucia_df['TMAX'] >= -5) & (andalucia_df['TMAX'] <= 50) &\n",
    "    (andalucia_df['TMIN'] >= -15) & (andalucia_df['TMIN'] <= 35) &\n",
    "    (andalucia_df['PRCP'] >= 0) & (andalucia_df['PRCP'] <= 500)  # Precipitación hasta 500mm diarios\n",
    ")\n",
    "\n",
    "registros_antes = len(andalucia_df)\n",
    "andalucia_df = andalucia_df[mask_temp_andalucia].copy()\n",
    "registros_despues = len(andalucia_df)\n",
    "\n",
    "print(f\"📊 Datos finales:\")\n",
    "print(f\"   • Registros: {registros_despues:,} (filtrados: {registros_antes-registros_despues:,})\")\n",
    "print(f\"   • Provincias: {andalucia_df['PROVINCIA'].nunique()}\")\n",
    "print(f\"   • Período: {andalucia_df['DATE'].min()} a {andalucia_df['DATE'].max()}\")\n",
    "\n",
    "# Crear columnas temporales y calcular índices\n",
    "andalucia_df['DATE'] = pd.to_datetime(andalucia_df['DATE'])\n",
    "andalucia_df['AÑO'] = andalucia_df['DATE'].dt.year\n",
    "andalucia_df['MES'] = andalucia_df['DATE'].dt.month\n",
    "andalucia_df['ESTACION'] = andalucia_df['MES'].apply(get_season)\n",
    "\n",
    "# Índices agroclimáticos\n",
    "andalucia_df['AMPLITUD_TERMICA'] = andalucia_df['TMAX'] - andalucia_df['TMIN']\n",
    "andalucia_df['GDD_BASE10'] = np.maximum(0, andalucia_df['TEMP_MEDIA'] - 10)\n",
    "andalucia_df['GDD_BASE5'] = np.maximum(0, andalucia_df['TEMP_MEDIA'] - 5)\n",
    "\n",
    "# Verificar rangos finales\n",
    "print(f\"\\n🌡️ Verificación final:\")\n",
    "print(f\"   • TMAX: {andalucia_df['TMAX'].min():.1f}°C a {andalucia_df['TMAX'].max():.1f}°C\")\n",
    "print(f\"   • TMIN: {andalucia_df['TMIN'].min():.1f}°C a {andalucia_df['TMIN'].max():.1f}°C\")\n",
    "print(f\"   • TEMP_MEDIA: {andalucia_df['TEMP_MEDIA'].min():.1f}°C a {andalucia_df['TEMP_MEDIA'].max():.1f}°C\")\n",
    "print(f\"   • PRCP: {andalucia_df['PRCP'].min():.1f} a {andalucia_df['PRCP'].max():.1f} mm\")\n",
    "\n",
    "print(f\"\\n🏛️ Distribución por provincias:\")\n",
    "for prov, count in andalucia_df['PROVINCIA'].value_counts().items():\n",
    "    print(f\"   • {prov}: {count:,} registros\")\n",
    "\n",
    "print(\"✅ Dataset final listo para análisis profesional\")"
   ]
  },
  {
   "cell_type": "markdown",
   "id": "5855d27f",
   "metadata": {},
   "source": [
    "## 3. 📊 Análisis Estadístico Descriptivo\n",
    "\n",
    "Realizamos un análisis estadístico completo de las variables climáticas en Andalucía."
   ]
  },
  {
   "cell_type": "code",
   "execution_count": 6,
   "id": "8eb67bb6",
   "metadata": {},
   "outputs": [
    {
     "name": "stdout",
     "output_type": "stream",
     "text": [
      "📈 Análisis Estadístico Descriptivo de Andalucía\n",
      "============================================================\n",
      "\n",
      "📊 Estadísticas Generales:\n"
     ]
    },
    {
     "data": {
      "text/html": [
       "<div>\n",
       "<style scoped>\n",
       "    .dataframe tbody tr th:only-of-type {\n",
       "        vertical-align: middle;\n",
       "    }\n",
       "\n",
       "    .dataframe tbody tr th {\n",
       "        vertical-align: top;\n",
       "    }\n",
       "\n",
       "    .dataframe thead th {\n",
       "        text-align: right;\n",
       "    }\n",
       "</style>\n",
       "<table border=\"1\" class=\"dataframe\">\n",
       "  <thead>\n",
       "    <tr style=\"text-align: right;\">\n",
       "      <th></th>\n",
       "      <th>TMAX</th>\n",
       "      <th>TMIN</th>\n",
       "      <th>TAVG</th>\n",
       "      <th>PRCP</th>\n",
       "    </tr>\n",
       "  </thead>\n",
       "  <tbody>\n",
       "    <tr>\n",
       "      <th>count</th>\n",
       "      <td>277547.00</td>\n",
       "      <td>276664.00</td>\n",
       "      <td>166549.00</td>\n",
       "      <td>272802.00</td>\n",
       "    </tr>\n",
       "    <tr>\n",
       "      <th>mean</th>\n",
       "      <td>235.69</td>\n",
       "      <td>125.54</td>\n",
       "      <td>181.89</td>\n",
       "      <td>14.49</td>\n",
       "    </tr>\n",
       "    <tr>\n",
       "      <th>std</th>\n",
       "      <td>72.02</td>\n",
       "      <td>59.37</td>\n",
       "      <td>65.12</td>\n",
       "      <td>56.38</td>\n",
       "    </tr>\n",
       "    <tr>\n",
       "      <th>min</th>\n",
       "      <td>-15.00</td>\n",
       "      <td>-142.00</td>\n",
       "      <td>-61.00</td>\n",
       "      <td>0.00</td>\n",
       "    </tr>\n",
       "    <tr>\n",
       "      <th>25%</th>\n",
       "      <td>178.00</td>\n",
       "      <td>83.00</td>\n",
       "      <td>131.00</td>\n",
       "      <td>0.00</td>\n",
       "    </tr>\n",
       "    <tr>\n",
       "      <th>50%</th>\n",
       "      <td>227.00</td>\n",
       "      <td>126.00</td>\n",
       "      <td>176.00</td>\n",
       "      <td>0.00</td>\n",
       "    </tr>\n",
       "    <tr>\n",
       "      <th>75%</th>\n",
       "      <td>289.00</td>\n",
       "      <td>172.00</td>\n",
       "      <td>234.00</td>\n",
       "      <td>0.00</td>\n",
       "    </tr>\n",
       "    <tr>\n",
       "      <th>max</th>\n",
       "      <td>472.00</td>\n",
       "      <td>332.00</td>\n",
       "      <td>405.00</td>\n",
       "      <td>3130.00</td>\n",
       "    </tr>\n",
       "  </tbody>\n",
       "</table>\n",
       "</div>"
      ],
      "text/plain": [
       "            TMAX       TMIN       TAVG       PRCP\n",
       "count  277547.00  276664.00  166549.00  272802.00\n",
       "mean      235.69     125.54     181.89      14.49\n",
       "std        72.02      59.37      65.12      56.38\n",
       "min       -15.00    -142.00     -61.00       0.00\n",
       "25%       178.00      83.00     131.00       0.00\n",
       "50%       227.00     126.00     176.00       0.00\n",
       "75%       289.00     172.00     234.00       0.00\n",
       "max       472.00     332.00     405.00    3130.00"
      ]
     },
     "metadata": {},
     "output_type": "display_data"
    },
    {
     "name": "stdout",
     "output_type": "stream",
     "text": [
      "\n",
      "🏛️ Estadísticas por Provincia:\n"
     ]
    },
    {
     "data": {
      "text/html": [
       "<div>\n",
       "<style scoped>\n",
       "    .dataframe tbody tr th:only-of-type {\n",
       "        vertical-align: middle;\n",
       "    }\n",
       "\n",
       "    .dataframe tbody tr th {\n",
       "        vertical-align: top;\n",
       "    }\n",
       "\n",
       "    .dataframe thead th {\n",
       "        text-align: right;\n",
       "    }\n",
       "</style>\n",
       "<table border=\"1\" class=\"dataframe\">\n",
       "  <thead>\n",
       "    <tr style=\"text-align: right;\">\n",
       "      <th></th>\n",
       "      <th>TMAX_mean</th>\n",
       "      <th>TMAX_std</th>\n",
       "      <th>TMAX_min</th>\n",
       "      <th>TMAX_max</th>\n",
       "      <th>TMIN_mean</th>\n",
       "      <th>TMIN_std</th>\n",
       "      <th>TMIN_min</th>\n",
       "      <th>TMIN_max</th>\n",
       "      <th>PRCP_mean</th>\n",
       "      <th>PRCP_sum</th>\n",
       "      <th>PRCP_std</th>\n",
       "      <th>PRCP_max</th>\n",
       "    </tr>\n",
       "    <tr>\n",
       "      <th>PROVINCIA</th>\n",
       "      <th></th>\n",
       "      <th></th>\n",
       "      <th></th>\n",
       "      <th></th>\n",
       "      <th></th>\n",
       "      <th></th>\n",
       "      <th></th>\n",
       "      <th></th>\n",
       "      <th></th>\n",
       "      <th></th>\n",
       "      <th></th>\n",
       "      <th></th>\n",
       "    </tr>\n",
       "  </thead>\n",
       "  <tbody>\n",
       "    <tr>\n",
       "      <th>Almería</th>\n",
       "      <td>232.80</td>\n",
       "      <td>55.98</td>\n",
       "      <td>78.0</td>\n",
       "      <td>420.0</td>\n",
       "      <td>147.27</td>\n",
       "      <td>53.87</td>\n",
       "      <td>1.0</td>\n",
       "      <td>332.0</td>\n",
       "      <td>5.64</td>\n",
       "      <td>114293.0</td>\n",
       "      <td>32.65</td>\n",
       "      <td>992.0</td>\n",
       "    </tr>\n",
       "    <tr>\n",
       "      <th>Cádiz</th>\n",
       "      <td>235.83</td>\n",
       "      <td>67.13</td>\n",
       "      <td>40.0</td>\n",
       "      <td>472.0</td>\n",
       "      <td>131.24</td>\n",
       "      <td>55.37</td>\n",
       "      <td>-55.0</td>\n",
       "      <td>293.0</td>\n",
       "      <td>15.91</td>\n",
       "      <td>1662911.0</td>\n",
       "      <td>59.09</td>\n",
       "      <td>1550.0</td>\n",
       "    </tr>\n",
       "    <tr>\n",
       "      <th>Córdoba</th>\n",
       "      <td>250.45</td>\n",
       "      <td>86.46</td>\n",
       "      <td>0.0</td>\n",
       "      <td>469.0</td>\n",
       "      <td>110.75</td>\n",
       "      <td>61.63</td>\n",
       "      <td>-82.0</td>\n",
       "      <td>272.0</td>\n",
       "      <td>16.40</td>\n",
       "      <td>389444.0</td>\n",
       "      <td>58.68</td>\n",
       "      <td>1543.0</td>\n",
       "    </tr>\n",
       "    <tr>\n",
       "      <th>Granada</th>\n",
       "      <td>230.24</td>\n",
       "      <td>75.79</td>\n",
       "      <td>-15.0</td>\n",
       "      <td>460.0</td>\n",
       "      <td>115.60</td>\n",
       "      <td>64.87</td>\n",
       "      <td>-142.0</td>\n",
       "      <td>316.0</td>\n",
       "      <td>14.06</td>\n",
       "      <td>987173.0</td>\n",
       "      <td>57.92</td>\n",
       "      <td>3130.0</td>\n",
       "    </tr>\n",
       "    <tr>\n",
       "      <th>Huelva</th>\n",
       "      <td>237.83</td>\n",
       "      <td>63.50</td>\n",
       "      <td>43.0</td>\n",
       "      <td>433.0</td>\n",
       "      <td>126.83</td>\n",
       "      <td>52.48</td>\n",
       "      <td>-58.0</td>\n",
       "      <td>296.0</td>\n",
       "      <td>14.45</td>\n",
       "      <td>391535.0</td>\n",
       "      <td>55.30</td>\n",
       "      <td>2019.0</td>\n",
       "    </tr>\n",
       "    <tr>\n",
       "      <th>Jaén</th>\n",
       "      <td>222.56</td>\n",
       "      <td>86.07</td>\n",
       "      <td>13.0</td>\n",
       "      <td>444.0</td>\n",
       "      <td>127.63</td>\n",
       "      <td>64.31</td>\n",
       "      <td>-78.0</td>\n",
       "      <td>301.0</td>\n",
       "      <td>13.39</td>\n",
       "      <td>191165.0</td>\n",
       "      <td>47.27</td>\n",
       "      <td>810.0</td>\n",
       "    </tr>\n",
       "    <tr>\n",
       "      <th>Málaga</th>\n",
       "      <td>248.68</td>\n",
       "      <td>78.76</td>\n",
       "      <td>49.0</td>\n",
       "      <td>460.0</td>\n",
       "      <td>117.49</td>\n",
       "      <td>57.87</td>\n",
       "      <td>-80.0</td>\n",
       "      <td>264.0</td>\n",
       "      <td>17.05</td>\n",
       "      <td>216676.0</td>\n",
       "      <td>60.69</td>\n",
       "      <td>1311.0</td>\n",
       "    </tr>\n",
       "  </tbody>\n",
       "</table>\n",
       "</div>"
      ],
      "text/plain": [
       "           TMAX_mean  TMAX_std  TMAX_min  TMAX_max  TMIN_mean  TMIN_std  \\\n",
       "PROVINCIA                                                                 \n",
       "Almería       232.80     55.98      78.0     420.0     147.27     53.87   \n",
       "Cádiz         235.83     67.13      40.0     472.0     131.24     55.37   \n",
       "Córdoba       250.45     86.46       0.0     469.0     110.75     61.63   \n",
       "Granada       230.24     75.79     -15.0     460.0     115.60     64.87   \n",
       "Huelva        237.83     63.50      43.0     433.0     126.83     52.48   \n",
       "Jaén          222.56     86.07      13.0     444.0     127.63     64.31   \n",
       "Málaga        248.68     78.76      49.0     460.0     117.49     57.87   \n",
       "\n",
       "           TMIN_min  TMIN_max  PRCP_mean   PRCP_sum  PRCP_std  PRCP_max  \n",
       "PROVINCIA                                                                \n",
       "Almería         1.0     332.0       5.64   114293.0     32.65     992.0  \n",
       "Cádiz         -55.0     293.0      15.91  1662911.0     59.09    1550.0  \n",
       "Córdoba       -82.0     272.0      16.40   389444.0     58.68    1543.0  \n",
       "Granada      -142.0     316.0      14.06   987173.0     57.92    3130.0  \n",
       "Huelva        -58.0     296.0      14.45   391535.0     55.30    2019.0  \n",
       "Jaén          -78.0     301.0      13.39   191165.0     47.27     810.0  \n",
       "Málaga        -80.0     264.0      17.05   216676.0     60.69    1311.0  "
      ]
     },
     "metadata": {},
     "output_type": "display_data"
    },
    {
     "name": "stdout",
     "output_type": "stream",
     "text": [
      "\n",
      "🌱 Estadísticas por Estación Climática:\n"
     ]
    },
    {
     "data": {
      "text/html": [
       "<div>\n",
       "<style scoped>\n",
       "    .dataframe tbody tr th:only-of-type {\n",
       "        vertical-align: middle;\n",
       "    }\n",
       "\n",
       "    .dataframe tbody tr th {\n",
       "        vertical-align: top;\n",
       "    }\n",
       "\n",
       "    .dataframe thead th {\n",
       "        text-align: right;\n",
       "    }\n",
       "</style>\n",
       "<table border=\"1\" class=\"dataframe\">\n",
       "  <thead>\n",
       "    <tr style=\"text-align: right;\">\n",
       "      <th></th>\n",
       "      <th>TMAX_mean</th>\n",
       "      <th>TMAX_std</th>\n",
       "      <th>TMIN_mean</th>\n",
       "      <th>TMIN_std</th>\n",
       "      <th>PRCP_mean</th>\n",
       "      <th>PRCP_sum</th>\n",
       "    </tr>\n",
       "    <tr>\n",
       "      <th>ESTACION</th>\n",
       "      <th></th>\n",
       "      <th></th>\n",
       "      <th></th>\n",
       "      <th></th>\n",
       "      <th></th>\n",
       "      <th></th>\n",
       "    </tr>\n",
       "  </thead>\n",
       "  <tbody>\n",
       "    <tr>\n",
       "      <th>Invierno</th>\n",
       "      <td>162.08</td>\n",
       "      <td>31.54</td>\n",
       "      <td>66.70</td>\n",
       "      <td>40.91</td>\n",
       "      <td>22.64</td>\n",
       "      <td>1523308.0</td>\n",
       "    </tr>\n",
       "    <tr>\n",
       "      <th>Otoño</th>\n",
       "      <td>243.91</td>\n",
       "      <td>55.65</td>\n",
       "      <td>137.73</td>\n",
       "      <td>48.28</td>\n",
       "      <td>18.25</td>\n",
       "      <td>1233636.0</td>\n",
       "    </tr>\n",
       "    <tr>\n",
       "      <th>Primavera</th>\n",
       "      <td>219.67</td>\n",
       "      <td>47.32</td>\n",
       "      <td>108.55</td>\n",
       "      <td>38.16</td>\n",
       "      <td>15.43</td>\n",
       "      <td>1068054.0</td>\n",
       "    </tr>\n",
       "    <tr>\n",
       "      <th>Verano</th>\n",
       "      <td>315.46</td>\n",
       "      <td>48.09</td>\n",
       "      <td>186.90</td>\n",
       "      <td>31.95</td>\n",
       "      <td>1.87</td>\n",
       "      <td>128199.0</td>\n",
       "    </tr>\n",
       "  </tbody>\n",
       "</table>\n",
       "</div>"
      ],
      "text/plain": [
       "           TMAX_mean  TMAX_std  TMIN_mean  TMIN_std  PRCP_mean   PRCP_sum\n",
       "ESTACION                                                                 \n",
       "Invierno      162.08     31.54      66.70     40.91      22.64  1523308.0\n",
       "Otoño         243.91     55.65     137.73     48.28      18.25  1233636.0\n",
       "Primavera     219.67     47.32     108.55     38.16      15.43  1068054.0\n",
       "Verano        315.46     48.09     186.90     31.95       1.87   128199.0"
      ]
     },
     "metadata": {},
     "output_type": "display_data"
    },
    {
     "name": "stdout",
     "output_type": "stream",
     "text": [
      "\n",
      "🌾 Índices Agroclimáticos Básicos:\n",
      "📊 Estadísticas de Índices Agroclimáticos:\n"
     ]
    },
    {
     "data": {
      "text/html": [
       "<div>\n",
       "<style scoped>\n",
       "    .dataframe tbody tr th:only-of-type {\n",
       "        vertical-align: middle;\n",
       "    }\n",
       "\n",
       "    .dataframe tbody tr th {\n",
       "        vertical-align: top;\n",
       "    }\n",
       "\n",
       "    .dataframe thead th {\n",
       "        text-align: right;\n",
       "    }\n",
       "</style>\n",
       "<table border=\"1\" class=\"dataframe\">\n",
       "  <thead>\n",
       "    <tr style=\"text-align: right;\">\n",
       "      <th></th>\n",
       "      <th>TEMP_MEDIA</th>\n",
       "      <th>AMPLITUD_TERMICA</th>\n",
       "      <th>GDD_BASE10</th>\n",
       "      <th>GDD_BASE5</th>\n",
       "    </tr>\n",
       "  </thead>\n",
       "  <tbody>\n",
       "    <tr>\n",
       "      <th>count</th>\n",
       "      <td>283193.00</td>\n",
       "      <td>271018.00</td>\n",
       "      <td>283193.00</td>\n",
       "      <td>283193.00</td>\n",
       "    </tr>\n",
       "    <tr>\n",
       "      <th>mean</th>\n",
       "      <td>180.74</td>\n",
       "      <td>110.05</td>\n",
       "      <td>170.76</td>\n",
       "      <td>175.75</td>\n",
       "    </tr>\n",
       "    <tr>\n",
       "      <th>std</th>\n",
       "      <td>63.34</td>\n",
       "      <td>45.56</td>\n",
       "      <td>63.28</td>\n",
       "      <td>63.30</td>\n",
       "    </tr>\n",
       "    <tr>\n",
       "      <th>min</th>\n",
       "      <td>-79.00</td>\n",
       "      <td>-124.00</td>\n",
       "      <td>0.00</td>\n",
       "      <td>0.00</td>\n",
       "    </tr>\n",
       "    <tr>\n",
       "      <th>25%</th>\n",
       "      <td>132.50</td>\n",
       "      <td>76.00</td>\n",
       "      <td>122.50</td>\n",
       "      <td>127.50</td>\n",
       "    </tr>\n",
       "    <tr>\n",
       "      <th>50%</th>\n",
       "      <td>175.50</td>\n",
       "      <td>106.00</td>\n",
       "      <td>165.50</td>\n",
       "      <td>170.50</td>\n",
       "    </tr>\n",
       "    <tr>\n",
       "      <th>75%</th>\n",
       "      <td>230.50</td>\n",
       "      <td>140.00</td>\n",
       "      <td>220.50</td>\n",
       "      <td>225.50</td>\n",
       "    </tr>\n",
       "    <tr>\n",
       "      <th>max</th>\n",
       "      <td>460.00</td>\n",
       "      <td>328.00</td>\n",
       "      <td>450.00</td>\n",
       "      <td>455.00</td>\n",
       "    </tr>\n",
       "  </tbody>\n",
       "</table>\n",
       "</div>"
      ],
      "text/plain": [
       "       TEMP_MEDIA  AMPLITUD_TERMICA  GDD_BASE10  GDD_BASE5\n",
       "count   283193.00         271018.00   283193.00  283193.00\n",
       "mean       180.74            110.05      170.76     175.75\n",
       "std         63.34             45.56       63.28      63.30\n",
       "min        -79.00           -124.00        0.00       0.00\n",
       "25%        132.50             76.00      122.50     127.50\n",
       "50%        175.50            106.00      165.50     170.50\n",
       "75%        230.50            140.00      220.50     225.50\n",
       "max        460.00            328.00      450.00     455.00"
      ]
     },
     "metadata": {},
     "output_type": "display_data"
    }
   ],
   "source": [
    "# Análisis estadístico descriptivo\n",
    "print(\"📈 Análisis Estadístico Descriptivo de Andalucía\")\n",
    "print(\"=\" * 60)\n",
    "\n",
    "# Estadísticas generales\n",
    "stats_generales = andalucia_df[['TMAX', 'TMIN', 'TAVG', 'PRCP']].describe()\n",
    "print(\"\\n📊 Estadísticas Generales:\")\n",
    "display(stats_generales.round(2))\n",
    "\n",
    "# Estadísticas por provincia\n",
    "print(\"\\n🏛️ Estadísticas por Provincia:\")\n",
    "stats_provincia = andalucia_df.groupby('PROVINCIA')[['TMAX', 'TMIN', 'PRCP']].agg({\n",
    "    'TMAX': ['mean', 'std', 'min', 'max'],\n",
    "    'TMIN': ['mean', 'std', 'min', 'max'],\n",
    "    'PRCP': ['mean', 'sum', 'std', 'max']\n",
    "}).round(2)\n",
    "\n",
    "# Aplanar columnas\n",
    "stats_provincia.columns = ['_'.join(col).strip() for col in stats_provincia.columns.values]\n",
    "display(stats_provincia)\n",
    "\n",
    "# Estadísticas por estación del año\n",
    "print(\"\\n🌱 Estadísticas por Estación Climática:\")\n",
    "stats_estacion = andalucia_df.groupby('ESTACION')[['TMAX', 'TMIN', 'PRCP']].agg({\n",
    "    'TMAX': ['mean', 'std'],\n",
    "    'TMIN': ['mean', 'std'],\n",
    "    'PRCP': ['mean', 'sum']\n",
    "}).round(2)\n",
    "\n",
    "stats_estacion.columns = ['_'.join(col).strip() for col in stats_estacion.columns.values]\n",
    "display(stats_estacion)\n",
    "\n",
    "# Calcular algunos índices agroclimáticos básicos\n",
    "print(\"\\n🌾 Índices Agroclimáticos Básicos:\")\n",
    "\n",
    "# Temperatura media diaria (cuando esté disponible)\n",
    "andalucia_df['TEMP_MEDIA'] = andalucia_df[['TMAX', 'TMIN']].mean(axis=1)\n",
    "\n",
    "# Amplitud térmica diaria\n",
    "andalucia_df['AMPLITUD_TERMICA'] = andalucia_df['TMAX'] - andalucia_df['TMIN']\n",
    "\n",
    "# Grados día de crecimiento (GDD) base 10°C para cultivos\n",
    "andalucia_df['GDD_BASE10'] = np.maximum(0, andalucia_df['TEMP_MEDIA'] - 10)\n",
    "\n",
    "# Grados día de crecimiento base 5°C para cultivos de invierno\n",
    "andalucia_df['GDD_BASE5'] = np.maximum(0, andalucia_df['TEMP_MEDIA'] - 5)\n",
    "\n",
    "# Estadísticas de índices agroclimáticos\n",
    "indices_agri = andalucia_df[['TEMP_MEDIA', 'AMPLITUD_TERMICA', 'GDD_BASE10', 'GDD_BASE5']].describe()\n",
    "print(\"📊 Estadísticas de Índices Agroclimáticos:\")\n",
    "display(indices_agri.round(2))"
   ]
  },
  {
   "cell_type": "code",
   "execution_count": 7,
   "id": "7b0b4efd",
   "metadata": {},
   "outputs": [
    {
     "name": "stdout",
     "output_type": "stream",
     "text": [
      "🔧 Corrigiendo unidades de temperatura...\n",
      "✅ Unidades corregidas:\n",
      "   • Temperaturas: grados Celsius (°C)\n",
      "   • Precipitación: milímetros (mm)\n",
      "\n",
      "📊 Estadísticas Corregidas - Andalucía:\n"
     ]
    },
    {
     "data": {
      "text/html": [
       "<div>\n",
       "<style scoped>\n",
       "    .dataframe tbody tr th:only-of-type {\n",
       "        vertical-align: middle;\n",
       "    }\n",
       "\n",
       "    .dataframe tbody tr th {\n",
       "        vertical-align: top;\n",
       "    }\n",
       "\n",
       "    .dataframe thead th {\n",
       "        text-align: right;\n",
       "    }\n",
       "</style>\n",
       "<table border=\"1\" class=\"dataframe\">\n",
       "  <thead>\n",
       "    <tr style=\"text-align: right;\">\n",
       "      <th></th>\n",
       "      <th>TMAX</th>\n",
       "      <th>TMIN</th>\n",
       "      <th>TEMP_MEDIA</th>\n",
       "      <th>PRCP</th>\n",
       "    </tr>\n",
       "  </thead>\n",
       "  <tbody>\n",
       "    <tr>\n",
       "      <th>count</th>\n",
       "      <td>277547.00</td>\n",
       "      <td>276664.00</td>\n",
       "      <td>283193.00</td>\n",
       "      <td>272802.00</td>\n",
       "    </tr>\n",
       "    <tr>\n",
       "      <th>mean</th>\n",
       "      <td>23.57</td>\n",
       "      <td>12.55</td>\n",
       "      <td>18.07</td>\n",
       "      <td>1.45</td>\n",
       "    </tr>\n",
       "    <tr>\n",
       "      <th>std</th>\n",
       "      <td>7.20</td>\n",
       "      <td>5.94</td>\n",
       "      <td>6.33</td>\n",
       "      <td>5.64</td>\n",
       "    </tr>\n",
       "    <tr>\n",
       "      <th>min</th>\n",
       "      <td>-1.50</td>\n",
       "      <td>-14.20</td>\n",
       "      <td>-7.90</td>\n",
       "      <td>0.00</td>\n",
       "    </tr>\n",
       "    <tr>\n",
       "      <th>25%</th>\n",
       "      <td>17.80</td>\n",
       "      <td>8.30</td>\n",
       "      <td>13.25</td>\n",
       "      <td>0.00</td>\n",
       "    </tr>\n",
       "    <tr>\n",
       "      <th>50%</th>\n",
       "      <td>22.70</td>\n",
       "      <td>12.60</td>\n",
       "      <td>17.55</td>\n",
       "      <td>0.00</td>\n",
       "    </tr>\n",
       "    <tr>\n",
       "      <th>75%</th>\n",
       "      <td>28.90</td>\n",
       "      <td>17.20</td>\n",
       "      <td>23.05</td>\n",
       "      <td>0.00</td>\n",
       "    </tr>\n",
       "    <tr>\n",
       "      <th>max</th>\n",
       "      <td>47.20</td>\n",
       "      <td>33.20</td>\n",
       "      <td>46.00</td>\n",
       "      <td>313.00</td>\n",
       "    </tr>\n",
       "  </tbody>\n",
       "</table>\n",
       "</div>"
      ],
      "text/plain": [
       "            TMAX       TMIN  TEMP_MEDIA       PRCP\n",
       "count  277547.00  276664.00   283193.00  272802.00\n",
       "mean       23.57      12.55       18.07       1.45\n",
       "std         7.20       5.94        6.33       5.64\n",
       "min        -1.50     -14.20       -7.90       0.00\n",
       "25%        17.80       8.30       13.25       0.00\n",
       "50%        22.70      12.60       17.55       0.00\n",
       "75%        28.90      17.20       23.05       0.00\n",
       "max        47.20      33.20       46.00     313.00"
      ]
     },
     "metadata": {},
     "output_type": "display_data"
    }
   ],
   "source": [
    "# Corrección de unidades (temperaturas están en décimas de grado Celsius)\n",
    "print(\"🔧 Corrigiendo unidades de temperatura...\")\n",
    "\n",
    "# Convertir temperaturas de décimas a grados Celsius\n",
    "temp_cols = ['TMAX', 'TMIN', 'TAVG', 'TEMP_MEDIA', 'AMPLITUD_TERMICA', 'GDD_BASE10', 'GDD_BASE5']\n",
    "for col in temp_cols:\n",
    "    if col in andalucia_df.columns:\n",
    "        andalucia_df[col] = andalucia_df[col] / 10.0\n",
    "\n",
    "# Precipitación ya está en mm (décimas de mm)\n",
    "andalucia_df['PRCP'] = andalucia_df['PRCP'] / 10.0\n",
    "\n",
    "print(\"✅ Unidades corregidas:\")\n",
    "print(\"   • Temperaturas: grados Celsius (°C)\")\n",
    "print(\"   • Precipitación: milímetros (mm)\")\n",
    "\n",
    "# Recalcular estadísticas con unidades correctas\n",
    "print(\"\\n📊 Estadísticas Corregidas - Andalucía:\")\n",
    "stats_corregidas = andalucia_df[['TMAX', 'TMIN', 'TEMP_MEDIA', 'PRCP']].describe()\n",
    "display(stats_corregidas.round(2))"
   ]
  },
  {
   "cell_type": "markdown",
   "id": "bec435ce",
   "metadata": {},
   "source": [
    "## 4. 📈 Visualizaciones Interactivas\n",
    "\n",
    "Creamos un dashboard interactivo profesional para explorar el clima de Andalucía."
   ]
  },
  {
   "cell_type": "code",
   "execution_count": 8,
   "id": "db0b8588",
   "metadata": {},
   "outputs": [
    {
     "name": "stdout",
     "output_type": "stream",
     "text": [
      "🗺️ Creando mapa interactivo de estaciones...\n"
     ]
    },
    {
     "data": {
      "application/vnd.plotly.v1+json": {
       "config": {
        "plotlyServerURL": "https://plot.ly"
       },
       "data": [
        {
         "hovertemplate": "%{text}<extra></extra>",
         "lat": {
          "bdata": "IR/0bFZVQkBj7lpCPphCQBZqTfOO40JAGy/dJAaRQkA=",
          "dtype": "f8"
         },
         "lon": {
          "bdata": "3bWEfNDzEcCOBvAWSFAOwCDSb18HTg7AVg4tsp3vDMA=",
          "dtype": "f8"
         },
         "marker": {
          "color": "#96CEB4",
          "opacity": 0.8,
          "size": 12
         },
         "mode": "markers",
         "name": "Granada",
         "text": [
          "<b>MALAGA AEROPUERTO, SP</b><br>Provincia: Granada<br>Elevación: 7 m<br>Temp. Media Máx: 23.2°C<br>Temp. Media Mín: 13.8°C<br>Precipitación Media: 1.5 mm<br>Registros: 30,390",
          "<b>GRANADA AEROPUERTO, SP</b><br>Provincia: Granada<br>Elevación: 567 m<br>Temp. Media Máx: 23.4°C<br>Temp. Media Mín: 7.9°C<br>Precipitación Media: 1.0 mm<br>Registros: 19,371",
          "<b>JAEN INSTITUTO, SP</b><br>Provincia: Granada<br>Elevación: 510 m<br>Temp. Media Máx: 22.4°C<br>Temp. Media Mín: 11.9°C<br>Precipitación Media: 1.7 mm<br>Registros: 22,388",
          "<b>GRANADA ARMILLA, SP</b><br>Provincia: Granada<br>Elevación: 717 m<br>Temp. Media Máx: 16.8°C<br>Temp. Media Mín: 8.8°C<br>Precipitación Media: 2.0 mm<br>Registros: 643"
         ],
         "type": "scattermapbox"
        },
        {
         "hovertemplate": "%{text}<extra></extra>",
         "lat": {
          "bdata": "QKTfvg7sQkA=",
          "dtype": "f8"
         },
         "lon": {
          "bdata": "w9MrZRliE8A=",
          "dtype": "f8"
         },
         "marker": {
          "color": "#45B7D1",
          "opacity": 0.8,
          "size": 12
         },
         "mode": "markers",
         "name": "Córdoba",
         "text": [
          "<b>CORDOBA AEROPUERTO, SP</b><br>Provincia: Córdoba<br>Elevación: 90 m<br>Temp. Media Máx: 25.0°C<br>Temp. Media Mín: 11.1°C<br>Precipitación Media: 1.6 mm<br>Registros: 24,232"
         ],
         "type": "scattermapbox"
        },
        {
         "hovertemplate": "%{text}<extra></extra>",
         "lat": {
          "bdata": "zqrP1VZsQkA=",
          "dtype": "f8"
         },
         "lon": {
          "bdata": "mN2Th4XaAsA=",
          "dtype": "f8"
         },
         "marker": {
          "color": "#FF6B6B",
          "opacity": 0.8,
          "size": 12
         },
         "mode": "markers",
         "name": "Almería",
         "text": [
          "<b>ALMERIA AEROPUERTO, SP</b><br>Provincia: Almería<br>Elevación: 21 m<br>Temp. Media Máx: 23.3°C<br>Temp. Media Mín: 14.7°C<br>Precipitación Media: 0.6 mm<br>Registros: 21,014"
         ],
         "type": "scattermapbox"
        },
        {
         "hovertemplate": "%{text}<extra></extra>",
         "lat": {
          "bdata": "HOviNhpAQkBVMCqpE2BCQAu1pnnHUUJAIR/0bFa1QkAzMzMzM1NCQA==",
          "dtype": "f8"
         },
         "lon": {
          "bdata": "ZohjXdwGGcBiodY07zgYwDJVMCqpUxnAo5I6AU2EF8BmZmZmZmYZwA==",
          "dtype": "f8"
         },
         "marker": {
          "color": "#4ECDC4",
          "opacity": 0.8,
          "size": 12
         },
         "mode": "markers",
         "name": "Cádiz",
         "text": [
          "<b>CADIZ, SP</b><br>Provincia: Cádiz<br>Elevación: 1 m<br>Temp. Media Máx: 21.6°C<br>Temp. Media Mín: 15.5°C<br>Precipitación Media: 1.6 mm<br>Registros: 24,542",
          "<b>JEREZ DE LA FRONTERA, SP</b><br>Provincia: Cádiz<br>Elevación: 27 m<br>Temp. Media Máx: 24.4°C<br>Temp. Media Mín: 11.6°C<br>Precipitación Media: 1.7 mm<br>Registros: 27,807",
          "<b>ROTA, SP</b><br>Provincia: Cádiz<br>Elevación: 21 m<br>Temp. Media Máx: 23.3°C<br>Temp. Media Mín: 13.2°C<br>Precipitación Media: 1.5 mm<br>Registros: 13,358",
          "<b>SEVILLA SAN PABLO, SP</b><br>Provincia: Cádiz<br>Elevación: 34 m<br>Temp. Media Máx: 25.2°C<br>Temp. Media Mín: 12.5°C<br>Precipitación Media: 1.6 mm<br>Registros: 27,223",
          "<b>ROTA NAS, SP</b><br>Provincia: Cádiz<br>Elevación: 26 m<br>Temp. Media Máx: 22.6°C<br>Temp. Media Mín: 13.0°C<br>Precipitación Media: 1.5 mm<br>Registros: 24,371"
         ],
         "type": "scattermapbox"
        },
        {
         "hovertemplate": "%{text}<extra></extra>",
         "lat": {
          "bdata": "jErqBDShQkA=",
          "dtype": "f8"
         },
         "lon": {
          "bdata": "63O1FfvLG8A=",
          "dtype": "f8"
         },
         "marker": {
          "color": "#FFEAA7",
          "opacity": 0.8,
          "size": 12
         },
         "mode": "markers",
         "name": "Huelva",
         "text": [
          "<b>HUELVA, SP</b><br>Provincia: Huelva<br>Elevación: 17 m<br>Temp. Media Máx: 23.8°C<br>Temp. Media Mín: 12.7°C<br>Precipitación Media: 1.4 mm<br>Registros: 31,615"
         ],
         "type": "scattermapbox"
        },
        {
         "hovertemplate": "%{text}<extra></extra>",
         "lat": {
          "bdata": "FmpN847jQkA=",
          "dtype": "f8"
         },
         "lon": {
          "bdata": "9ihcj8J1DsA=",
          "dtype": "f8"
         },
         "marker": {
          "color": "#DDA0DD",
          "opacity": 0.8,
          "size": 12
         },
         "mode": "markers",
         "name": "Jaén",
         "text": [
          "<b>JAEN, SP</b><br>Provincia: Jaén<br>Elevación: 582 m<br>Temp. Media Máx: 22.3°C<br>Temp. Media Mín: 12.8°C<br>Precipitación Media: 1.3 mm<br>Registros: 14,532"
         ],
         "type": "scattermapbox"
        },
        {
         "hovertemplate": "%{text}<extra></extra>",
         "lat": {
          "bdata": "2UElrmOWQkA=",
          "dtype": "f8"
         },
         "lon": {
          "bdata": "casgBrp2FsA=",
          "dtype": "f8"
         },
         "marker": {
          "color": "#98D8C8",
          "opacity": 0.8,
          "size": 12
         },
         "mode": "markers",
         "name": "Málaga",
         "text": [
          "<b>MORON DE LA FRONTERA, SP</b><br>Provincia: Málaga<br>Elevación: 87 m<br>Temp. Media Máx: 24.9°C<br>Temp. Media Mín: 11.7°C<br>Precipitación Media: 1.7 mm<br>Registros: 23,484"
         ],
         "type": "scattermapbox"
        }
       ],
       "layout": {
        "height": 600,
        "legend": {
         "orientation": "v",
         "x": 1.02,
         "xanchor": "left",
         "y": 1,
         "yanchor": "top"
        },
        "mapbox": {
         "center": {
          "lat": 37.5,
          "lon": -4.5
         },
         "style": "open-street-map",
         "zoom": 6.5
        },
        "showlegend": true,
        "template": {
         "data": {
          "bar": [
           {
            "error_x": {
             "color": "#2a3f5f"
            },
            "error_y": {
             "color": "#2a3f5f"
            },
            "marker": {
             "line": {
              "color": "#E5ECF6",
              "width": 0.5
             },
             "pattern": {
              "fillmode": "overlay",
              "size": 10,
              "solidity": 0.2
             }
            },
            "type": "bar"
           }
          ],
          "barpolar": [
           {
            "marker": {
             "line": {
              "color": "#E5ECF6",
              "width": 0.5
             },
             "pattern": {
              "fillmode": "overlay",
              "size": 10,
              "solidity": 0.2
             }
            },
            "type": "barpolar"
           }
          ],
          "carpet": [
           {
            "aaxis": {
             "endlinecolor": "#2a3f5f",
             "gridcolor": "white",
             "linecolor": "white",
             "minorgridcolor": "white",
             "startlinecolor": "#2a3f5f"
            },
            "baxis": {
             "endlinecolor": "#2a3f5f",
             "gridcolor": "white",
             "linecolor": "white",
             "minorgridcolor": "white",
             "startlinecolor": "#2a3f5f"
            },
            "type": "carpet"
           }
          ],
          "choropleth": [
           {
            "colorbar": {
             "outlinewidth": 0,
             "ticks": ""
            },
            "type": "choropleth"
           }
          ],
          "contour": [
           {
            "colorbar": {
             "outlinewidth": 0,
             "ticks": ""
            },
            "colorscale": [
             [
              0,
              "#0d0887"
             ],
             [
              0.1111111111111111,
              "#46039f"
             ],
             [
              0.2222222222222222,
              "#7201a8"
             ],
             [
              0.3333333333333333,
              "#9c179e"
             ],
             [
              0.4444444444444444,
              "#bd3786"
             ],
             [
              0.5555555555555556,
              "#d8576b"
             ],
             [
              0.6666666666666666,
              "#ed7953"
             ],
             [
              0.7777777777777778,
              "#fb9f3a"
             ],
             [
              0.8888888888888888,
              "#fdca26"
             ],
             [
              1,
              "#f0f921"
             ]
            ],
            "type": "contour"
           }
          ],
          "contourcarpet": [
           {
            "colorbar": {
             "outlinewidth": 0,
             "ticks": ""
            },
            "type": "contourcarpet"
           }
          ],
          "heatmap": [
           {
            "colorbar": {
             "outlinewidth": 0,
             "ticks": ""
            },
            "colorscale": [
             [
              0,
              "#0d0887"
             ],
             [
              0.1111111111111111,
              "#46039f"
             ],
             [
              0.2222222222222222,
              "#7201a8"
             ],
             [
              0.3333333333333333,
              "#9c179e"
             ],
             [
              0.4444444444444444,
              "#bd3786"
             ],
             [
              0.5555555555555556,
              "#d8576b"
             ],
             [
              0.6666666666666666,
              "#ed7953"
             ],
             [
              0.7777777777777778,
              "#fb9f3a"
             ],
             [
              0.8888888888888888,
              "#fdca26"
             ],
             [
              1,
              "#f0f921"
             ]
            ],
            "type": "heatmap"
           }
          ],
          "histogram": [
           {
            "marker": {
             "pattern": {
              "fillmode": "overlay",
              "size": 10,
              "solidity": 0.2
             }
            },
            "type": "histogram"
           }
          ],
          "histogram2d": [
           {
            "colorbar": {
             "outlinewidth": 0,
             "ticks": ""
            },
            "colorscale": [
             [
              0,
              "#0d0887"
             ],
             [
              0.1111111111111111,
              "#46039f"
             ],
             [
              0.2222222222222222,
              "#7201a8"
             ],
             [
              0.3333333333333333,
              "#9c179e"
             ],
             [
              0.4444444444444444,
              "#bd3786"
             ],
             [
              0.5555555555555556,
              "#d8576b"
             ],
             [
              0.6666666666666666,
              "#ed7953"
             ],
             [
              0.7777777777777778,
              "#fb9f3a"
             ],
             [
              0.8888888888888888,
              "#fdca26"
             ],
             [
              1,
              "#f0f921"
             ]
            ],
            "type": "histogram2d"
           }
          ],
          "histogram2dcontour": [
           {
            "colorbar": {
             "outlinewidth": 0,
             "ticks": ""
            },
            "colorscale": [
             [
              0,
              "#0d0887"
             ],
             [
              0.1111111111111111,
              "#46039f"
             ],
             [
              0.2222222222222222,
              "#7201a8"
             ],
             [
              0.3333333333333333,
              "#9c179e"
             ],
             [
              0.4444444444444444,
              "#bd3786"
             ],
             [
              0.5555555555555556,
              "#d8576b"
             ],
             [
              0.6666666666666666,
              "#ed7953"
             ],
             [
              0.7777777777777778,
              "#fb9f3a"
             ],
             [
              0.8888888888888888,
              "#fdca26"
             ],
             [
              1,
              "#f0f921"
             ]
            ],
            "type": "histogram2dcontour"
           }
          ],
          "mesh3d": [
           {
            "colorbar": {
             "outlinewidth": 0,
             "ticks": ""
            },
            "type": "mesh3d"
           }
          ],
          "parcoords": [
           {
            "line": {
             "colorbar": {
              "outlinewidth": 0,
              "ticks": ""
             }
            },
            "type": "parcoords"
           }
          ],
          "pie": [
           {
            "automargin": true,
            "type": "pie"
           }
          ],
          "scatter": [
           {
            "fillpattern": {
             "fillmode": "overlay",
             "size": 10,
             "solidity": 0.2
            },
            "type": "scatter"
           }
          ],
          "scatter3d": [
           {
            "line": {
             "colorbar": {
              "outlinewidth": 0,
              "ticks": ""
             }
            },
            "marker": {
             "colorbar": {
              "outlinewidth": 0,
              "ticks": ""
             }
            },
            "type": "scatter3d"
           }
          ],
          "scattercarpet": [
           {
            "marker": {
             "colorbar": {
              "outlinewidth": 0,
              "ticks": ""
             }
            },
            "type": "scattercarpet"
           }
          ],
          "scattergeo": [
           {
            "marker": {
             "colorbar": {
              "outlinewidth": 0,
              "ticks": ""
             }
            },
            "type": "scattergeo"
           }
          ],
          "scattergl": [
           {
            "marker": {
             "colorbar": {
              "outlinewidth": 0,
              "ticks": ""
             }
            },
            "type": "scattergl"
           }
          ],
          "scattermap": [
           {
            "marker": {
             "colorbar": {
              "outlinewidth": 0,
              "ticks": ""
             }
            },
            "type": "scattermap"
           }
          ],
          "scattermapbox": [
           {
            "marker": {
             "colorbar": {
              "outlinewidth": 0,
              "ticks": ""
             }
            },
            "type": "scattermapbox"
           }
          ],
          "scatterpolar": [
           {
            "marker": {
             "colorbar": {
              "outlinewidth": 0,
              "ticks": ""
             }
            },
            "type": "scatterpolar"
           }
          ],
          "scatterpolargl": [
           {
            "marker": {
             "colorbar": {
              "outlinewidth": 0,
              "ticks": ""
             }
            },
            "type": "scatterpolargl"
           }
          ],
          "scatterternary": [
           {
            "marker": {
             "colorbar": {
              "outlinewidth": 0,
              "ticks": ""
             }
            },
            "type": "scatterternary"
           }
          ],
          "surface": [
           {
            "colorbar": {
             "outlinewidth": 0,
             "ticks": ""
            },
            "colorscale": [
             [
              0,
              "#0d0887"
             ],
             [
              0.1111111111111111,
              "#46039f"
             ],
             [
              0.2222222222222222,
              "#7201a8"
             ],
             [
              0.3333333333333333,
              "#9c179e"
             ],
             [
              0.4444444444444444,
              "#bd3786"
             ],
             [
              0.5555555555555556,
              "#d8576b"
             ],
             [
              0.6666666666666666,
              "#ed7953"
             ],
             [
              0.7777777777777778,
              "#fb9f3a"
             ],
             [
              0.8888888888888888,
              "#fdca26"
             ],
             [
              1,
              "#f0f921"
             ]
            ],
            "type": "surface"
           }
          ],
          "table": [
           {
            "cells": {
             "fill": {
              "color": "#EBF0F8"
             },
             "line": {
              "color": "white"
             }
            },
            "header": {
             "fill": {
              "color": "#C8D4E3"
             },
             "line": {
              "color": "white"
             }
            },
            "type": "table"
           }
          ]
         },
         "layout": {
          "annotationdefaults": {
           "arrowcolor": "#2a3f5f",
           "arrowhead": 0,
           "arrowwidth": 1
          },
          "autotypenumbers": "strict",
          "coloraxis": {
           "colorbar": {
            "outlinewidth": 0,
            "ticks": ""
           }
          },
          "colorscale": {
           "diverging": [
            [
             0,
             "#8e0152"
            ],
            [
             0.1,
             "#c51b7d"
            ],
            [
             0.2,
             "#de77ae"
            ],
            [
             0.3,
             "#f1b6da"
            ],
            [
             0.4,
             "#fde0ef"
            ],
            [
             0.5,
             "#f7f7f7"
            ],
            [
             0.6,
             "#e6f5d0"
            ],
            [
             0.7,
             "#b8e186"
            ],
            [
             0.8,
             "#7fbc41"
            ],
            [
             0.9,
             "#4d9221"
            ],
            [
             1,
             "#276419"
            ]
           ],
           "sequential": [
            [
             0,
             "#0d0887"
            ],
            [
             0.1111111111111111,
             "#46039f"
            ],
            [
             0.2222222222222222,
             "#7201a8"
            ],
            [
             0.3333333333333333,
             "#9c179e"
            ],
            [
             0.4444444444444444,
             "#bd3786"
            ],
            [
             0.5555555555555556,
             "#d8576b"
            ],
            [
             0.6666666666666666,
             "#ed7953"
            ],
            [
             0.7777777777777778,
             "#fb9f3a"
            ],
            [
             0.8888888888888888,
             "#fdca26"
            ],
            [
             1,
             "#f0f921"
            ]
           ],
           "sequentialminus": [
            [
             0,
             "#0d0887"
            ],
            [
             0.1111111111111111,
             "#46039f"
            ],
            [
             0.2222222222222222,
             "#7201a8"
            ],
            [
             0.3333333333333333,
             "#9c179e"
            ],
            [
             0.4444444444444444,
             "#bd3786"
            ],
            [
             0.5555555555555556,
             "#d8576b"
            ],
            [
             0.6666666666666666,
             "#ed7953"
            ],
            [
             0.7777777777777778,
             "#fb9f3a"
            ],
            [
             0.8888888888888888,
             "#fdca26"
            ],
            [
             1,
             "#f0f921"
            ]
           ]
          },
          "colorway": [
           "#636efa",
           "#EF553B",
           "#00cc96",
           "#ab63fa",
           "#FFA15A",
           "#19d3f3",
           "#FF6692",
           "#B6E880",
           "#FF97FF",
           "#FECB52"
          ],
          "font": {
           "color": "#2a3f5f"
          },
          "geo": {
           "bgcolor": "white",
           "lakecolor": "white",
           "landcolor": "#E5ECF6",
           "showlakes": true,
           "showland": true,
           "subunitcolor": "white"
          },
          "hoverlabel": {
           "align": "left"
          },
          "hovermode": "closest",
          "mapbox": {
           "style": "light"
          },
          "paper_bgcolor": "white",
          "plot_bgcolor": "#E5ECF6",
          "polar": {
           "angularaxis": {
            "gridcolor": "white",
            "linecolor": "white",
            "ticks": ""
           },
           "bgcolor": "#E5ECF6",
           "radialaxis": {
            "gridcolor": "white",
            "linecolor": "white",
            "ticks": ""
           }
          },
          "scene": {
           "xaxis": {
            "backgroundcolor": "#E5ECF6",
            "gridcolor": "white",
            "gridwidth": 2,
            "linecolor": "white",
            "showbackground": true,
            "ticks": "",
            "zerolinecolor": "white"
           },
           "yaxis": {
            "backgroundcolor": "#E5ECF6",
            "gridcolor": "white",
            "gridwidth": 2,
            "linecolor": "white",
            "showbackground": true,
            "ticks": "",
            "zerolinecolor": "white"
           },
           "zaxis": {
            "backgroundcolor": "#E5ECF6",
            "gridcolor": "white",
            "gridwidth": 2,
            "linecolor": "white",
            "showbackground": true,
            "ticks": "",
            "zerolinecolor": "white"
           }
          },
          "shapedefaults": {
           "line": {
            "color": "#2a3f5f"
           }
          },
          "ternary": {
           "aaxis": {
            "gridcolor": "white",
            "linecolor": "white",
            "ticks": ""
           },
           "baxis": {
            "gridcolor": "white",
            "linecolor": "white",
            "ticks": ""
           },
           "bgcolor": "#E5ECF6",
           "caxis": {
            "gridcolor": "white",
            "linecolor": "white",
            "ticks": ""
           }
          },
          "title": {
           "x": 0.05
          },
          "xaxis": {
           "automargin": true,
           "gridcolor": "white",
           "linecolor": "white",
           "ticks": "",
           "title": {
            "standoff": 15
           },
           "zerolinecolor": "white",
           "zerolinewidth": 2
          },
          "yaxis": {
           "automargin": true,
           "gridcolor": "white",
           "linecolor": "white",
           "ticks": "",
           "title": {
            "standoff": 15
           },
           "zerolinecolor": "white",
           "zerolinewidth": 2
          }
         }
        },
        "title": {
         "font": {
          "color": "#228B22",
          "size": 20
         },
         "text": "🌡️ Estaciones Meteorológicas de Andalucía",
         "x": 0.5
        }
       }
      },
      "text/html": [
       "<div>            <script src=\"https://cdnjs.cloudflare.com/ajax/libs/mathjax/2.7.5/MathJax.js?config=TeX-AMS-MML_SVG\"></script><script type=\"text/javascript\">if (window.MathJax && window.MathJax.Hub && window.MathJax.Hub.Config) {window.MathJax.Hub.Config({SVG: {font: \"STIX-Web\"}});}</script>                <script type=\"text/javascript\">window.PlotlyConfig = {MathJaxConfig: 'local'};</script>\n",
       "        <script charset=\"utf-8\" src=\"https://cdn.plot.ly/plotly-3.0.1.min.js\"></script>                <div id=\"cd85480f-3202-4597-b489-1923f947058b\" class=\"plotly-graph-div\" style=\"height:600px; width:100%;\"></div>            <script type=\"text/javascript\">                window.PLOTLYENV=window.PLOTLYENV || {};                                if (document.getElementById(\"cd85480f-3202-4597-b489-1923f947058b\")) {                    Plotly.newPlot(                        \"cd85480f-3202-4597-b489-1923f947058b\",                        [{\"hovertemplate\":\"%{text}\\u003cextra\\u003e\\u003c\\u002fextra\\u003e\",\"lat\":{\"dtype\":\"f8\",\"bdata\":\"IR\\u002f0bFZVQkBj7lpCPphCQBZqTfOO40JAGy\\u002fdJAaRQkA=\"},\"lon\":{\"dtype\":\"f8\",\"bdata\":\"3bWEfNDzEcCOBvAWSFAOwCDSb18HTg7AVg4tsp3vDMA=\"},\"marker\":{\"color\":\"#96CEB4\",\"opacity\":0.8,\"size\":12},\"mode\":\"markers\",\"name\":\"Granada\",\"text\":[\"\\u003cb\\u003eMALAGA AEROPUERTO, SP\\u003c\\u002fb\\u003e\\u003cbr\\u003eProvincia: Granada\\u003cbr\\u003eElevaci\\u00f3n: 7 m\\u003cbr\\u003eTemp. Media M\\u00e1x: 23.2\\u00b0C\\u003cbr\\u003eTemp. Media M\\u00edn: 13.8\\u00b0C\\u003cbr\\u003ePrecipitaci\\u00f3n Media: 1.5 mm\\u003cbr\\u003eRegistros: 30,390\",\"\\u003cb\\u003eGRANADA AEROPUERTO, SP\\u003c\\u002fb\\u003e\\u003cbr\\u003eProvincia: Granada\\u003cbr\\u003eElevaci\\u00f3n: 567 m\\u003cbr\\u003eTemp. Media M\\u00e1x: 23.4\\u00b0C\\u003cbr\\u003eTemp. Media M\\u00edn: 7.9\\u00b0C\\u003cbr\\u003ePrecipitaci\\u00f3n Media: 1.0 mm\\u003cbr\\u003eRegistros: 19,371\",\"\\u003cb\\u003eJAEN INSTITUTO, SP\\u003c\\u002fb\\u003e\\u003cbr\\u003eProvincia: Granada\\u003cbr\\u003eElevaci\\u00f3n: 510 m\\u003cbr\\u003eTemp. Media M\\u00e1x: 22.4\\u00b0C\\u003cbr\\u003eTemp. Media M\\u00edn: 11.9\\u00b0C\\u003cbr\\u003ePrecipitaci\\u00f3n Media: 1.7 mm\\u003cbr\\u003eRegistros: 22,388\",\"\\u003cb\\u003eGRANADA ARMILLA, SP\\u003c\\u002fb\\u003e\\u003cbr\\u003eProvincia: Granada\\u003cbr\\u003eElevaci\\u00f3n: 717 m\\u003cbr\\u003eTemp. Media M\\u00e1x: 16.8\\u00b0C\\u003cbr\\u003eTemp. Media M\\u00edn: 8.8\\u00b0C\\u003cbr\\u003ePrecipitaci\\u00f3n Media: 2.0 mm\\u003cbr\\u003eRegistros: 643\"],\"type\":\"scattermapbox\"},{\"hovertemplate\":\"%{text}\\u003cextra\\u003e\\u003c\\u002fextra\\u003e\",\"lat\":{\"dtype\":\"f8\",\"bdata\":\"QKTfvg7sQkA=\"},\"lon\":{\"dtype\":\"f8\",\"bdata\":\"w9MrZRliE8A=\"},\"marker\":{\"color\":\"#45B7D1\",\"opacity\":0.8,\"size\":12},\"mode\":\"markers\",\"name\":\"C\\u00f3rdoba\",\"text\":[\"\\u003cb\\u003eCORDOBA AEROPUERTO, SP\\u003c\\u002fb\\u003e\\u003cbr\\u003eProvincia: C\\u00f3rdoba\\u003cbr\\u003eElevaci\\u00f3n: 90 m\\u003cbr\\u003eTemp. Media M\\u00e1x: 25.0\\u00b0C\\u003cbr\\u003eTemp. Media M\\u00edn: 11.1\\u00b0C\\u003cbr\\u003ePrecipitaci\\u00f3n Media: 1.6 mm\\u003cbr\\u003eRegistros: 24,232\"],\"type\":\"scattermapbox\"},{\"hovertemplate\":\"%{text}\\u003cextra\\u003e\\u003c\\u002fextra\\u003e\",\"lat\":{\"dtype\":\"f8\",\"bdata\":\"zqrP1VZsQkA=\"},\"lon\":{\"dtype\":\"f8\",\"bdata\":\"mN2Th4XaAsA=\"},\"marker\":{\"color\":\"#FF6B6B\",\"opacity\":0.8,\"size\":12},\"mode\":\"markers\",\"name\":\"Almer\\u00eda\",\"text\":[\"\\u003cb\\u003eALMERIA AEROPUERTO, SP\\u003c\\u002fb\\u003e\\u003cbr\\u003eProvincia: Almer\\u00eda\\u003cbr\\u003eElevaci\\u00f3n: 21 m\\u003cbr\\u003eTemp. Media M\\u00e1x: 23.3\\u00b0C\\u003cbr\\u003eTemp. Media M\\u00edn: 14.7\\u00b0C\\u003cbr\\u003ePrecipitaci\\u00f3n Media: 0.6 mm\\u003cbr\\u003eRegistros: 21,014\"],\"type\":\"scattermapbox\"},{\"hovertemplate\":\"%{text}\\u003cextra\\u003e\\u003c\\u002fextra\\u003e\",\"lat\":{\"dtype\":\"f8\",\"bdata\":\"HOviNhpAQkBVMCqpE2BCQAu1pnnHUUJAIR\\u002f0bFa1QkAzMzMzM1NCQA==\"},\"lon\":{\"dtype\":\"f8\",\"bdata\":\"ZohjXdwGGcBiodY07zgYwDJVMCqpUxnAo5I6AU2EF8BmZmZmZmYZwA==\"},\"marker\":{\"color\":\"#4ECDC4\",\"opacity\":0.8,\"size\":12},\"mode\":\"markers\",\"name\":\"C\\u00e1diz\",\"text\":[\"\\u003cb\\u003eCADIZ, SP\\u003c\\u002fb\\u003e\\u003cbr\\u003eProvincia: C\\u00e1diz\\u003cbr\\u003eElevaci\\u00f3n: 1 m\\u003cbr\\u003eTemp. Media M\\u00e1x: 21.6\\u00b0C\\u003cbr\\u003eTemp. Media M\\u00edn: 15.5\\u00b0C\\u003cbr\\u003ePrecipitaci\\u00f3n Media: 1.6 mm\\u003cbr\\u003eRegistros: 24,542\",\"\\u003cb\\u003eJEREZ DE LA FRONTERA, SP\\u003c\\u002fb\\u003e\\u003cbr\\u003eProvincia: C\\u00e1diz\\u003cbr\\u003eElevaci\\u00f3n: 27 m\\u003cbr\\u003eTemp. Media M\\u00e1x: 24.4\\u00b0C\\u003cbr\\u003eTemp. Media M\\u00edn: 11.6\\u00b0C\\u003cbr\\u003ePrecipitaci\\u00f3n Media: 1.7 mm\\u003cbr\\u003eRegistros: 27,807\",\"\\u003cb\\u003eROTA, SP\\u003c\\u002fb\\u003e\\u003cbr\\u003eProvincia: C\\u00e1diz\\u003cbr\\u003eElevaci\\u00f3n: 21 m\\u003cbr\\u003eTemp. Media M\\u00e1x: 23.3\\u00b0C\\u003cbr\\u003eTemp. Media M\\u00edn: 13.2\\u00b0C\\u003cbr\\u003ePrecipitaci\\u00f3n Media: 1.5 mm\\u003cbr\\u003eRegistros: 13,358\",\"\\u003cb\\u003eSEVILLA SAN PABLO, SP\\u003c\\u002fb\\u003e\\u003cbr\\u003eProvincia: C\\u00e1diz\\u003cbr\\u003eElevaci\\u00f3n: 34 m\\u003cbr\\u003eTemp. Media M\\u00e1x: 25.2\\u00b0C\\u003cbr\\u003eTemp. Media M\\u00edn: 12.5\\u00b0C\\u003cbr\\u003ePrecipitaci\\u00f3n Media: 1.6 mm\\u003cbr\\u003eRegistros: 27,223\",\"\\u003cb\\u003eROTA NAS, SP\\u003c\\u002fb\\u003e\\u003cbr\\u003eProvincia: C\\u00e1diz\\u003cbr\\u003eElevaci\\u00f3n: 26 m\\u003cbr\\u003eTemp. Media M\\u00e1x: 22.6\\u00b0C\\u003cbr\\u003eTemp. Media M\\u00edn: 13.0\\u00b0C\\u003cbr\\u003ePrecipitaci\\u00f3n Media: 1.5 mm\\u003cbr\\u003eRegistros: 24,371\"],\"type\":\"scattermapbox\"},{\"hovertemplate\":\"%{text}\\u003cextra\\u003e\\u003c\\u002fextra\\u003e\",\"lat\":{\"dtype\":\"f8\",\"bdata\":\"jErqBDShQkA=\"},\"lon\":{\"dtype\":\"f8\",\"bdata\":\"63O1FfvLG8A=\"},\"marker\":{\"color\":\"#FFEAA7\",\"opacity\":0.8,\"size\":12},\"mode\":\"markers\",\"name\":\"Huelva\",\"text\":[\"\\u003cb\\u003eHUELVA, SP\\u003c\\u002fb\\u003e\\u003cbr\\u003eProvincia: Huelva\\u003cbr\\u003eElevaci\\u00f3n: 17 m\\u003cbr\\u003eTemp. Media M\\u00e1x: 23.8\\u00b0C\\u003cbr\\u003eTemp. Media M\\u00edn: 12.7\\u00b0C\\u003cbr\\u003ePrecipitaci\\u00f3n Media: 1.4 mm\\u003cbr\\u003eRegistros: 31,615\"],\"type\":\"scattermapbox\"},{\"hovertemplate\":\"%{text}\\u003cextra\\u003e\\u003c\\u002fextra\\u003e\",\"lat\":{\"dtype\":\"f8\",\"bdata\":\"FmpN847jQkA=\"},\"lon\":{\"dtype\":\"f8\",\"bdata\":\"9ihcj8J1DsA=\"},\"marker\":{\"color\":\"#DDA0DD\",\"opacity\":0.8,\"size\":12},\"mode\":\"markers\",\"name\":\"Ja\\u00e9n\",\"text\":[\"\\u003cb\\u003eJAEN, SP\\u003c\\u002fb\\u003e\\u003cbr\\u003eProvincia: Ja\\u00e9n\\u003cbr\\u003eElevaci\\u00f3n: 582 m\\u003cbr\\u003eTemp. Media M\\u00e1x: 22.3\\u00b0C\\u003cbr\\u003eTemp. Media M\\u00edn: 12.8\\u00b0C\\u003cbr\\u003ePrecipitaci\\u00f3n Media: 1.3 mm\\u003cbr\\u003eRegistros: 14,532\"],\"type\":\"scattermapbox\"},{\"hovertemplate\":\"%{text}\\u003cextra\\u003e\\u003c\\u002fextra\\u003e\",\"lat\":{\"dtype\":\"f8\",\"bdata\":\"2UElrmOWQkA=\"},\"lon\":{\"dtype\":\"f8\",\"bdata\":\"casgBrp2FsA=\"},\"marker\":{\"color\":\"#98D8C8\",\"opacity\":0.8,\"size\":12},\"mode\":\"markers\",\"name\":\"M\\u00e1laga\",\"text\":[\"\\u003cb\\u003eMORON DE LA FRONTERA, SP\\u003c\\u002fb\\u003e\\u003cbr\\u003eProvincia: M\\u00e1laga\\u003cbr\\u003eElevaci\\u00f3n: 87 m\\u003cbr\\u003eTemp. Media M\\u00e1x: 24.9\\u00b0C\\u003cbr\\u003eTemp. Media M\\u00edn: 11.7\\u00b0C\\u003cbr\\u003ePrecipitaci\\u00f3n Media: 1.7 mm\\u003cbr\\u003eRegistros: 23,484\"],\"type\":\"scattermapbox\"}],                        {\"template\":{\"data\":{\"histogram2dcontour\":[{\"type\":\"histogram2dcontour\",\"colorbar\":{\"outlinewidth\":0,\"ticks\":\"\"},\"colorscale\":[[0.0,\"#0d0887\"],[0.1111111111111111,\"#46039f\"],[0.2222222222222222,\"#7201a8\"],[0.3333333333333333,\"#9c179e\"],[0.4444444444444444,\"#bd3786\"],[0.5555555555555556,\"#d8576b\"],[0.6666666666666666,\"#ed7953\"],[0.7777777777777778,\"#fb9f3a\"],[0.8888888888888888,\"#fdca26\"],[1.0,\"#f0f921\"]]}],\"choropleth\":[{\"type\":\"choropleth\",\"colorbar\":{\"outlinewidth\":0,\"ticks\":\"\"}}],\"histogram2d\":[{\"type\":\"histogram2d\",\"colorbar\":{\"outlinewidth\":0,\"ticks\":\"\"},\"colorscale\":[[0.0,\"#0d0887\"],[0.1111111111111111,\"#46039f\"],[0.2222222222222222,\"#7201a8\"],[0.3333333333333333,\"#9c179e\"],[0.4444444444444444,\"#bd3786\"],[0.5555555555555556,\"#d8576b\"],[0.6666666666666666,\"#ed7953\"],[0.7777777777777778,\"#fb9f3a\"],[0.8888888888888888,\"#fdca26\"],[1.0,\"#f0f921\"]]}],\"heatmap\":[{\"type\":\"heatmap\",\"colorbar\":{\"outlinewidth\":0,\"ticks\":\"\"},\"colorscale\":[[0.0,\"#0d0887\"],[0.1111111111111111,\"#46039f\"],[0.2222222222222222,\"#7201a8\"],[0.3333333333333333,\"#9c179e\"],[0.4444444444444444,\"#bd3786\"],[0.5555555555555556,\"#d8576b\"],[0.6666666666666666,\"#ed7953\"],[0.7777777777777778,\"#fb9f3a\"],[0.8888888888888888,\"#fdca26\"],[1.0,\"#f0f921\"]]}],\"contourcarpet\":[{\"type\":\"contourcarpet\",\"colorbar\":{\"outlinewidth\":0,\"ticks\":\"\"}}],\"contour\":[{\"type\":\"contour\",\"colorbar\":{\"outlinewidth\":0,\"ticks\":\"\"},\"colorscale\":[[0.0,\"#0d0887\"],[0.1111111111111111,\"#46039f\"],[0.2222222222222222,\"#7201a8\"],[0.3333333333333333,\"#9c179e\"],[0.4444444444444444,\"#bd3786\"],[0.5555555555555556,\"#d8576b\"],[0.6666666666666666,\"#ed7953\"],[0.7777777777777778,\"#fb9f3a\"],[0.8888888888888888,\"#fdca26\"],[1.0,\"#f0f921\"]]}],\"surface\":[{\"type\":\"surface\",\"colorbar\":{\"outlinewidth\":0,\"ticks\":\"\"},\"colorscale\":[[0.0,\"#0d0887\"],[0.1111111111111111,\"#46039f\"],[0.2222222222222222,\"#7201a8\"],[0.3333333333333333,\"#9c179e\"],[0.4444444444444444,\"#bd3786\"],[0.5555555555555556,\"#d8576b\"],[0.6666666666666666,\"#ed7953\"],[0.7777777777777778,\"#fb9f3a\"],[0.8888888888888888,\"#fdca26\"],[1.0,\"#f0f921\"]]}],\"mesh3d\":[{\"type\":\"mesh3d\",\"colorbar\":{\"outlinewidth\":0,\"ticks\":\"\"}}],\"scatter\":[{\"fillpattern\":{\"fillmode\":\"overlay\",\"size\":10,\"solidity\":0.2},\"type\":\"scatter\"}],\"parcoords\":[{\"type\":\"parcoords\",\"line\":{\"colorbar\":{\"outlinewidth\":0,\"ticks\":\"\"}}}],\"scatterpolargl\":[{\"type\":\"scatterpolargl\",\"marker\":{\"colorbar\":{\"outlinewidth\":0,\"ticks\":\"\"}}}],\"bar\":[{\"error_x\":{\"color\":\"#2a3f5f\"},\"error_y\":{\"color\":\"#2a3f5f\"},\"marker\":{\"line\":{\"color\":\"#E5ECF6\",\"width\":0.5},\"pattern\":{\"fillmode\":\"overlay\",\"size\":10,\"solidity\":0.2}},\"type\":\"bar\"}],\"scattergeo\":[{\"type\":\"scattergeo\",\"marker\":{\"colorbar\":{\"outlinewidth\":0,\"ticks\":\"\"}}}],\"scatterpolar\":[{\"type\":\"scatterpolar\",\"marker\":{\"colorbar\":{\"outlinewidth\":0,\"ticks\":\"\"}}}],\"histogram\":[{\"marker\":{\"pattern\":{\"fillmode\":\"overlay\",\"size\":10,\"solidity\":0.2}},\"type\":\"histogram\"}],\"scattergl\":[{\"type\":\"scattergl\",\"marker\":{\"colorbar\":{\"outlinewidth\":0,\"ticks\":\"\"}}}],\"scatter3d\":[{\"type\":\"scatter3d\",\"line\":{\"colorbar\":{\"outlinewidth\":0,\"ticks\":\"\"}},\"marker\":{\"colorbar\":{\"outlinewidth\":0,\"ticks\":\"\"}}}],\"scattermap\":[{\"type\":\"scattermap\",\"marker\":{\"colorbar\":{\"outlinewidth\":0,\"ticks\":\"\"}}}],\"scattermapbox\":[{\"type\":\"scattermapbox\",\"marker\":{\"colorbar\":{\"outlinewidth\":0,\"ticks\":\"\"}}}],\"scatterternary\":[{\"type\":\"scatterternary\",\"marker\":{\"colorbar\":{\"outlinewidth\":0,\"ticks\":\"\"}}}],\"scattercarpet\":[{\"type\":\"scattercarpet\",\"marker\":{\"colorbar\":{\"outlinewidth\":0,\"ticks\":\"\"}}}],\"carpet\":[{\"aaxis\":{\"endlinecolor\":\"#2a3f5f\",\"gridcolor\":\"white\",\"linecolor\":\"white\",\"minorgridcolor\":\"white\",\"startlinecolor\":\"#2a3f5f\"},\"baxis\":{\"endlinecolor\":\"#2a3f5f\",\"gridcolor\":\"white\",\"linecolor\":\"white\",\"minorgridcolor\":\"white\",\"startlinecolor\":\"#2a3f5f\"},\"type\":\"carpet\"}],\"table\":[{\"cells\":{\"fill\":{\"color\":\"#EBF0F8\"},\"line\":{\"color\":\"white\"}},\"header\":{\"fill\":{\"color\":\"#C8D4E3\"},\"line\":{\"color\":\"white\"}},\"type\":\"table\"}],\"barpolar\":[{\"marker\":{\"line\":{\"color\":\"#E5ECF6\",\"width\":0.5},\"pattern\":{\"fillmode\":\"overlay\",\"size\":10,\"solidity\":0.2}},\"type\":\"barpolar\"}],\"pie\":[{\"automargin\":true,\"type\":\"pie\"}]},\"layout\":{\"autotypenumbers\":\"strict\",\"colorway\":[\"#636efa\",\"#EF553B\",\"#00cc96\",\"#ab63fa\",\"#FFA15A\",\"#19d3f3\",\"#FF6692\",\"#B6E880\",\"#FF97FF\",\"#FECB52\"],\"font\":{\"color\":\"#2a3f5f\"},\"hovermode\":\"closest\",\"hoverlabel\":{\"align\":\"left\"},\"paper_bgcolor\":\"white\",\"plot_bgcolor\":\"#E5ECF6\",\"polar\":{\"bgcolor\":\"#E5ECF6\",\"angularaxis\":{\"gridcolor\":\"white\",\"linecolor\":\"white\",\"ticks\":\"\"},\"radialaxis\":{\"gridcolor\":\"white\",\"linecolor\":\"white\",\"ticks\":\"\"}},\"ternary\":{\"bgcolor\":\"#E5ECF6\",\"aaxis\":{\"gridcolor\":\"white\",\"linecolor\":\"white\",\"ticks\":\"\"},\"baxis\":{\"gridcolor\":\"white\",\"linecolor\":\"white\",\"ticks\":\"\"},\"caxis\":{\"gridcolor\":\"white\",\"linecolor\":\"white\",\"ticks\":\"\"}},\"coloraxis\":{\"colorbar\":{\"outlinewidth\":0,\"ticks\":\"\"}},\"colorscale\":{\"sequential\":[[0.0,\"#0d0887\"],[0.1111111111111111,\"#46039f\"],[0.2222222222222222,\"#7201a8\"],[0.3333333333333333,\"#9c179e\"],[0.4444444444444444,\"#bd3786\"],[0.5555555555555556,\"#d8576b\"],[0.6666666666666666,\"#ed7953\"],[0.7777777777777778,\"#fb9f3a\"],[0.8888888888888888,\"#fdca26\"],[1.0,\"#f0f921\"]],\"sequentialminus\":[[0.0,\"#0d0887\"],[0.1111111111111111,\"#46039f\"],[0.2222222222222222,\"#7201a8\"],[0.3333333333333333,\"#9c179e\"],[0.4444444444444444,\"#bd3786\"],[0.5555555555555556,\"#d8576b\"],[0.6666666666666666,\"#ed7953\"],[0.7777777777777778,\"#fb9f3a\"],[0.8888888888888888,\"#fdca26\"],[1.0,\"#f0f921\"]],\"diverging\":[[0,\"#8e0152\"],[0.1,\"#c51b7d\"],[0.2,\"#de77ae\"],[0.3,\"#f1b6da\"],[0.4,\"#fde0ef\"],[0.5,\"#f7f7f7\"],[0.6,\"#e6f5d0\"],[0.7,\"#b8e186\"],[0.8,\"#7fbc41\"],[0.9,\"#4d9221\"],[1,\"#276419\"]]},\"xaxis\":{\"gridcolor\":\"white\",\"linecolor\":\"white\",\"ticks\":\"\",\"title\":{\"standoff\":15},\"zerolinecolor\":\"white\",\"automargin\":true,\"zerolinewidth\":2},\"yaxis\":{\"gridcolor\":\"white\",\"linecolor\":\"white\",\"ticks\":\"\",\"title\":{\"standoff\":15},\"zerolinecolor\":\"white\",\"automargin\":true,\"zerolinewidth\":2},\"scene\":{\"xaxis\":{\"backgroundcolor\":\"#E5ECF6\",\"gridcolor\":\"white\",\"linecolor\":\"white\",\"showbackground\":true,\"ticks\":\"\",\"zerolinecolor\":\"white\",\"gridwidth\":2},\"yaxis\":{\"backgroundcolor\":\"#E5ECF6\",\"gridcolor\":\"white\",\"linecolor\":\"white\",\"showbackground\":true,\"ticks\":\"\",\"zerolinecolor\":\"white\",\"gridwidth\":2},\"zaxis\":{\"backgroundcolor\":\"#E5ECF6\",\"gridcolor\":\"white\",\"linecolor\":\"white\",\"showbackground\":true,\"ticks\":\"\",\"zerolinecolor\":\"white\",\"gridwidth\":2}},\"shapedefaults\":{\"line\":{\"color\":\"#2a3f5f\"}},\"annotationdefaults\":{\"arrowcolor\":\"#2a3f5f\",\"arrowhead\":0,\"arrowwidth\":1},\"geo\":{\"bgcolor\":\"white\",\"landcolor\":\"#E5ECF6\",\"subunitcolor\":\"white\",\"showland\":true,\"showlakes\":true,\"lakecolor\":\"white\"},\"title\":{\"x\":0.05},\"mapbox\":{\"style\":\"light\"}}},\"title\":{\"font\":{\"size\":20,\"color\":\"#228B22\"},\"text\":\"\\ud83c\\udf21\\ufe0f Estaciones Meteorol\\u00f3gicas de Andaluc\\u00eda\",\"x\":0.5},\"mapbox\":{\"center\":{\"lat\":37.5,\"lon\":-4.5},\"style\":\"open-street-map\",\"zoom\":6.5},\"legend\":{\"orientation\":\"v\",\"yanchor\":\"top\",\"y\":1,\"xanchor\":\"left\",\"x\":1.02},\"height\":600,\"showlegend\":true},                        {\"responsive\": true}                    ).then(function(){\n",
       "                            \n",
       "var gd = document.getElementById('cd85480f-3202-4597-b489-1923f947058b');\n",
       "var x = new MutationObserver(function (mutations, observer) {{\n",
       "        var display = window.getComputedStyle(gd).display;\n",
       "        if (!display || display === 'none') {{\n",
       "            console.log([gd, 'removed!']);\n",
       "            Plotly.purge(gd);\n",
       "            observer.disconnect();\n",
       "        }}\n",
       "}});\n",
       "\n",
       "// Listen for the removal of the full notebook cells\n",
       "var notebookContainer = gd.closest('#notebook-container');\n",
       "if (notebookContainer) {{\n",
       "    x.observe(notebookContainer, {childList: true});\n",
       "}}\n",
       "\n",
       "// Listen for the clearing of the current output cell\n",
       "var outputEl = gd.closest('.output');\n",
       "if (outputEl) {{\n",
       "    x.observe(outputEl, {childList: true});\n",
       "}}\n",
       "\n",
       "                        })                };            </script>        </div>"
      ]
     },
     "metadata": {},
     "output_type": "display_data"
    },
    {
     "name": "stdout",
     "output_type": "stream",
     "text": [
      "📍 Mapa creado con 14 estaciones meteorológicas\n"
     ]
    }
   ],
   "source": [
    "### 4.1 Mapa Interactivo de Estaciones Meteorológicas\n",
    "\n",
    "# Crear mapa de estaciones meteorológicas\n",
    "print(\"🗺️ Creando mapa interactivo de estaciones...\")\n",
    "\n",
    "# Obtener información única de cada estación\n",
    "estaciones_info = andalucia_df.groupby(['STATION', 'PROVINCIA']).agg({\n",
    "    'LATITUDE': 'first',\n",
    "    'LONGITUDE': 'first',\n",
    "    'ELEVATION': 'first',\n",
    "    'NAME': 'first',\n",
    "    'TMAX': 'mean',\n",
    "    'TMIN': 'mean',\n",
    "    'PRCP': 'mean',\n",
    "    'DATE': 'count'\n",
    "}).reset_index()\n",
    "\n",
    "# Renombrar columna de conteo\n",
    "estaciones_info.rename(columns={'DATE': 'REGISTROS'}, inplace=True)\n",
    "\n",
    "# Crear mapa interactivo\n",
    "fig_mapa = go.Figure()\n",
    "\n",
    "# Colores por provincia\n",
    "colores_provincia = {\n",
    "    'Almería': '#FF6B6B',\n",
    "    'Cádiz': '#4ECDC4', \n",
    "    'Córdoba': '#45B7D1',\n",
    "    'Granada': '#96CEB4',\n",
    "    'Huelva': '#FFEAA7',\n",
    "    'Jaén': '#DDA0DD',\n",
    "    'Málaga': '#98D8C8',\n",
    "    'Sevilla': '#F7DC6F'\n",
    "}\n",
    "\n",
    "for provincia in estaciones_info['PROVINCIA'].unique():\n",
    "    data_prov = estaciones_info[estaciones_info['PROVINCIA'] == provincia]\n",
    "    \n",
    "    fig_mapa.add_trace(go.Scattermapbox(\n",
    "        lat=data_prov['LATITUDE'],\n",
    "        lon=data_prov['LONGITUDE'],\n",
    "        mode='markers',\n",
    "        marker=dict(\n",
    "            size=12,\n",
    "            color=colores_provincia.get(provincia, '#95A5A6'),\n",
    "            opacity=0.8\n",
    "        ),\n",
    "        text=data_prov.apply(lambda row: \n",
    "            f\"<b>{row['NAME']}</b><br>\" +\n",
    "            f\"Provincia: {row['PROVINCIA']}<br>\" +\n",
    "            f\"Elevación: {row['ELEVATION']:.0f} m<br>\" +\n",
    "            f\"Temp. Media Máx: {row['TMAX']:.1f}°C<br>\" +\n",
    "            f\"Temp. Media Mín: {row['TMIN']:.1f}°C<br>\" +\n",
    "            f\"Precipitación Media: {row['PRCP']:.1f} mm<br>\" +\n",
    "            f\"Registros: {row['REGISTROS']:,}\", axis=1),\n",
    "        hovertemplate='%{text}<extra></extra>',\n",
    "        name=provincia\n",
    "    ))\n",
    "\n",
    "fig_mapa.update_layout(\n",
    "    title={\n",
    "        'text': \"🌡️ Estaciones Meteorológicas de Andalucía\",\n",
    "        'x': 0.5,\n",
    "        'font': {'size': 20, 'color': COLORS_ANDALUCIA['primary']}\n",
    "    },\n",
    "    mapbox=dict(\n",
    "        style=\"open-street-map\",\n",
    "        center=dict(lat=37.5, lon=-4.5),\n",
    "        zoom=6.5\n",
    "    ),\n",
    "    height=600,\n",
    "    showlegend=True,\n",
    "    legend=dict(\n",
    "        orientation=\"v\",\n",
    "        yanchor=\"top\",\n",
    "        y=1,\n",
    "        xanchor=\"left\",\n",
    "        x=1.02\n",
    "    )\n",
    ")\n",
    "\n",
    "fig_mapa.show()\n",
    "\n",
    "print(f\"📍 Mapa creado con {len(estaciones_info)} estaciones meteorológicas\")"
   ]
  },
  {
   "cell_type": "code",
   "execution_count": 10,
   "id": "5d66a8bc",
   "metadata": {},
   "outputs": [
    {
     "name": "stdout",
     "output_type": "stream",
     "text": [
      "📅 Creando análisis temporal interactivo...\n"
     ]
    },
    {
     "data": {
      "application/vnd.plotly.v1+json": {
       "config": {
        "plotlyServerURL": "https://plot.ly"
       },
       "data": [
        {
         "hovertemplate": "%{x}<br>Temp. Máx: %{y:.1f}°C<extra></extra>",
         "line": {
          "color": "#DC143C",
          "width": 2
         },
         "mode": "lines",
         "name": "Temp. Máxima",
         "type": "scatter",
         "x": [
          "1980-01-01T00:00:00.000000000",
          "1980-02-01T00:00:00.000000000",
          "1980-03-01T00:00:00.000000000",
          "1980-04-01T00:00:00.000000000",
          "1980-05-01T00:00:00.000000000",
          "1980-06-01T00:00:00.000000000",
          "1980-07-01T00:00:00.000000000",
          "1980-08-01T00:00:00.000000000",
          "1980-09-01T00:00:00.000000000",
          "1980-10-01T00:00:00.000000000",
          "1980-11-01T00:00:00.000000000",
          "1980-12-01T00:00:00.000000000",
          "1981-01-01T00:00:00.000000000",
          "1981-02-01T00:00:00.000000000",
          "1981-03-01T00:00:00.000000000",
          "1981-04-01T00:00:00.000000000",
          "1981-05-01T00:00:00.000000000",
          "1981-06-01T00:00:00.000000000",
          "1981-07-01T00:00:00.000000000",
          "1981-08-01T00:00:00.000000000",
          "1981-09-01T00:00:00.000000000",
          "1981-10-01T00:00:00.000000000",
          "1981-11-01T00:00:00.000000000",
          "1981-12-01T00:00:00.000000000",
          "1982-01-01T00:00:00.000000000",
          "1982-02-01T00:00:00.000000000",
          "1982-03-01T00:00:00.000000000",
          "1982-04-01T00:00:00.000000000",
          "1982-05-01T00:00:00.000000000",
          "1982-06-01T00:00:00.000000000",
          "1982-07-01T00:00:00.000000000",
          "1982-08-01T00:00:00.000000000",
          "1982-09-01T00:00:00.000000000",
          "1982-10-01T00:00:00.000000000",
          "1982-11-01T00:00:00.000000000",
          "1982-12-01T00:00:00.000000000",
          "1983-01-01T00:00:00.000000000",
          "1983-02-01T00:00:00.000000000",
          "1983-03-01T00:00:00.000000000",
          "1983-04-01T00:00:00.000000000",
          "1983-05-01T00:00:00.000000000",
          "1983-06-01T00:00:00.000000000",
          "1983-07-01T00:00:00.000000000",
          "1983-08-01T00:00:00.000000000",
          "1983-09-01T00:00:00.000000000",
          "1983-10-01T00:00:00.000000000",
          "1983-11-01T00:00:00.000000000",
          "1983-12-01T00:00:00.000000000",
          "1984-01-01T00:00:00.000000000",
          "1984-02-01T00:00:00.000000000",
          "1984-03-01T00:00:00.000000000",
          "1984-04-01T00:00:00.000000000",
          "1984-05-01T00:00:00.000000000",
          "1984-06-01T00:00:00.000000000",
          "1984-07-01T00:00:00.000000000",
          "1984-08-01T00:00:00.000000000",
          "1984-09-01T00:00:00.000000000",
          "1984-10-01T00:00:00.000000000",
          "1984-11-01T00:00:00.000000000",
          "1984-12-01T00:00:00.000000000",
          "1985-01-01T00:00:00.000000000",
          "1985-02-01T00:00:00.000000000",
          "1985-03-01T00:00:00.000000000",
          "1985-04-01T00:00:00.000000000",
          "1985-05-01T00:00:00.000000000",
          "1985-06-01T00:00:00.000000000",
          "1985-07-01T00:00:00.000000000",
          "1985-08-01T00:00:00.000000000",
          "1985-09-01T00:00:00.000000000",
          "1985-10-01T00:00:00.000000000",
          "1985-11-01T00:00:00.000000000",
          "1985-12-01T00:00:00.000000000",
          "1986-01-01T00:00:00.000000000",
          "1986-02-01T00:00:00.000000000",
          "1986-03-01T00:00:00.000000000",
          "1986-04-01T00:00:00.000000000",
          "1986-05-01T00:00:00.000000000",
          "1986-06-01T00:00:00.000000000",
          "1986-07-01T00:00:00.000000000",
          "1986-08-01T00:00:00.000000000",
          "1986-09-01T00:00:00.000000000",
          "1986-10-01T00:00:00.000000000",
          "1986-11-01T00:00:00.000000000",
          "1986-12-01T00:00:00.000000000",
          "1987-01-01T00:00:00.000000000",
          "1987-02-01T00:00:00.000000000",
          "1987-03-01T00:00:00.000000000",
          "1987-04-01T00:00:00.000000000",
          "1987-05-01T00:00:00.000000000",
          "1987-06-01T00:00:00.000000000",
          "1987-07-01T00:00:00.000000000",
          "1987-08-01T00:00:00.000000000",
          "1987-09-01T00:00:00.000000000",
          "1987-10-01T00:00:00.000000000",
          "1987-11-01T00:00:00.000000000",
          "1987-12-01T00:00:00.000000000",
          "1988-01-01T00:00:00.000000000",
          "1988-02-01T00:00:00.000000000",
          "1988-03-01T00:00:00.000000000",
          "1988-04-01T00:00:00.000000000",
          "1988-05-01T00:00:00.000000000",
          "1988-06-01T00:00:00.000000000",
          "1988-07-01T00:00:00.000000000",
          "1988-08-01T00:00:00.000000000",
          "1988-09-01T00:00:00.000000000",
          "1988-10-01T00:00:00.000000000",
          "1988-11-01T00:00:00.000000000",
          "1988-12-01T00:00:00.000000000",
          "1989-01-01T00:00:00.000000000",
          "1989-02-01T00:00:00.000000000",
          "1989-03-01T00:00:00.000000000",
          "1989-04-01T00:00:00.000000000",
          "1989-05-01T00:00:00.000000000",
          "1989-06-01T00:00:00.000000000",
          "1989-07-01T00:00:00.000000000",
          "1989-08-01T00:00:00.000000000",
          "1989-09-01T00:00:00.000000000",
          "1989-10-01T00:00:00.000000000",
          "1989-11-01T00:00:00.000000000",
          "1989-12-01T00:00:00.000000000",
          "1990-01-01T00:00:00.000000000",
          "1990-02-01T00:00:00.000000000",
          "1990-03-01T00:00:00.000000000",
          "1990-04-01T00:00:00.000000000",
          "1990-05-01T00:00:00.000000000",
          "1990-06-01T00:00:00.000000000",
          "1990-07-01T00:00:00.000000000",
          "1990-08-01T00:00:00.000000000",
          "1990-09-01T00:00:00.000000000",
          "1990-10-01T00:00:00.000000000",
          "1990-11-01T00:00:00.000000000",
          "1990-12-01T00:00:00.000000000",
          "1991-01-01T00:00:00.000000000",
          "1991-02-01T00:00:00.000000000",
          "1991-03-01T00:00:00.000000000",
          "1991-04-01T00:00:00.000000000",
          "1991-05-01T00:00:00.000000000",
          "1991-06-01T00:00:00.000000000",
          "1991-07-01T00:00:00.000000000",
          "1991-08-01T00:00:00.000000000",
          "1991-09-01T00:00:00.000000000",
          "1991-10-01T00:00:00.000000000",
          "1991-11-01T00:00:00.000000000",
          "1991-12-01T00:00:00.000000000",
          "1992-01-01T00:00:00.000000000",
          "1992-02-01T00:00:00.000000000",
          "1992-03-01T00:00:00.000000000",
          "1992-04-01T00:00:00.000000000",
          "1992-05-01T00:00:00.000000000",
          "1992-06-01T00:00:00.000000000",
          "1992-07-01T00:00:00.000000000",
          "1992-08-01T00:00:00.000000000",
          "1992-09-01T00:00:00.000000000",
          "1992-10-01T00:00:00.000000000",
          "1992-11-01T00:00:00.000000000",
          "1992-12-01T00:00:00.000000000",
          "1993-01-01T00:00:00.000000000",
          "1993-02-01T00:00:00.000000000",
          "1993-03-01T00:00:00.000000000",
          "1993-04-01T00:00:00.000000000",
          "1993-05-01T00:00:00.000000000",
          "1993-06-01T00:00:00.000000000",
          "1993-07-01T00:00:00.000000000",
          "1993-08-01T00:00:00.000000000",
          "1993-09-01T00:00:00.000000000",
          "1993-10-01T00:00:00.000000000",
          "1993-11-01T00:00:00.000000000",
          "1993-12-01T00:00:00.000000000",
          "1994-01-01T00:00:00.000000000",
          "1994-02-01T00:00:00.000000000",
          "1994-03-01T00:00:00.000000000",
          "1994-04-01T00:00:00.000000000",
          "1994-05-01T00:00:00.000000000",
          "1994-06-01T00:00:00.000000000",
          "1994-07-01T00:00:00.000000000",
          "1994-08-01T00:00:00.000000000",
          "1994-09-01T00:00:00.000000000",
          "1994-10-01T00:00:00.000000000",
          "1994-11-01T00:00:00.000000000",
          "1994-12-01T00:00:00.000000000",
          "1995-01-01T00:00:00.000000000",
          "1995-02-01T00:00:00.000000000",
          "1995-03-01T00:00:00.000000000",
          "1995-04-01T00:00:00.000000000",
          "1995-05-01T00:00:00.000000000",
          "1995-06-01T00:00:00.000000000",
          "1995-07-01T00:00:00.000000000",
          "1995-08-01T00:00:00.000000000",
          "1995-09-01T00:00:00.000000000",
          "1995-10-01T00:00:00.000000000",
          "1995-11-01T00:00:00.000000000",
          "1995-12-01T00:00:00.000000000",
          "1996-01-01T00:00:00.000000000",
          "1996-02-01T00:00:00.000000000",
          "1996-03-01T00:00:00.000000000",
          "1996-04-01T00:00:00.000000000",
          "1996-05-01T00:00:00.000000000",
          "1996-06-01T00:00:00.000000000",
          "1996-07-01T00:00:00.000000000",
          "1996-08-01T00:00:00.000000000",
          "1996-09-01T00:00:00.000000000",
          "1996-10-01T00:00:00.000000000",
          "1996-11-01T00:00:00.000000000",
          "1996-12-01T00:00:00.000000000",
          "1997-01-01T00:00:00.000000000",
          "1997-02-01T00:00:00.000000000",
          "1997-03-01T00:00:00.000000000",
          "1997-04-01T00:00:00.000000000",
          "1997-05-01T00:00:00.000000000",
          "1997-06-01T00:00:00.000000000",
          "1997-07-01T00:00:00.000000000",
          "1997-08-01T00:00:00.000000000",
          "1997-09-01T00:00:00.000000000",
          "1997-10-01T00:00:00.000000000",
          "1997-11-01T00:00:00.000000000",
          "1997-12-01T00:00:00.000000000",
          "1998-01-01T00:00:00.000000000",
          "1998-02-01T00:00:00.000000000",
          "1998-03-01T00:00:00.000000000",
          "1998-04-01T00:00:00.000000000",
          "1998-05-01T00:00:00.000000000",
          "1998-06-01T00:00:00.000000000",
          "1998-07-01T00:00:00.000000000",
          "1998-08-01T00:00:00.000000000",
          "1998-09-01T00:00:00.000000000",
          "1998-10-01T00:00:00.000000000",
          "1998-11-01T00:00:00.000000000",
          "1998-12-01T00:00:00.000000000",
          "1999-01-01T00:00:00.000000000",
          "1999-02-01T00:00:00.000000000",
          "1999-03-01T00:00:00.000000000",
          "1999-04-01T00:00:00.000000000",
          "1999-05-01T00:00:00.000000000",
          "1999-06-01T00:00:00.000000000",
          "1999-07-01T00:00:00.000000000",
          "1999-08-01T00:00:00.000000000",
          "1999-09-01T00:00:00.000000000",
          "1999-10-01T00:00:00.000000000",
          "1999-11-01T00:00:00.000000000",
          "1999-12-01T00:00:00.000000000",
          "2000-01-01T00:00:00.000000000",
          "2000-02-01T00:00:00.000000000",
          "2000-03-01T00:00:00.000000000",
          "2000-04-01T00:00:00.000000000",
          "2000-05-01T00:00:00.000000000",
          "2000-06-01T00:00:00.000000000",
          "2000-07-01T00:00:00.000000000",
          "2000-08-01T00:00:00.000000000",
          "2000-09-01T00:00:00.000000000",
          "2000-10-01T00:00:00.000000000",
          "2000-11-01T00:00:00.000000000",
          "2000-12-01T00:00:00.000000000",
          "2001-01-01T00:00:00.000000000",
          "2001-02-01T00:00:00.000000000",
          "2001-03-01T00:00:00.000000000",
          "2001-04-01T00:00:00.000000000",
          "2001-05-01T00:00:00.000000000",
          "2001-06-01T00:00:00.000000000",
          "2001-07-01T00:00:00.000000000",
          "2001-08-01T00:00:00.000000000",
          "2001-09-01T00:00:00.000000000",
          "2001-10-01T00:00:00.000000000",
          "2001-11-01T00:00:00.000000000",
          "2001-12-01T00:00:00.000000000",
          "2002-01-01T00:00:00.000000000",
          "2002-02-01T00:00:00.000000000",
          "2002-03-01T00:00:00.000000000",
          "2002-04-01T00:00:00.000000000",
          "2002-05-01T00:00:00.000000000",
          "2002-06-01T00:00:00.000000000",
          "2002-07-01T00:00:00.000000000",
          "2002-08-01T00:00:00.000000000",
          "2002-09-01T00:00:00.000000000",
          "2002-10-01T00:00:00.000000000",
          "2002-11-01T00:00:00.000000000",
          "2002-12-01T00:00:00.000000000",
          "2003-01-01T00:00:00.000000000",
          "2003-02-01T00:00:00.000000000",
          "2003-03-01T00:00:00.000000000",
          "2003-04-01T00:00:00.000000000",
          "2003-05-01T00:00:00.000000000",
          "2003-06-01T00:00:00.000000000",
          "2003-07-01T00:00:00.000000000",
          "2003-08-01T00:00:00.000000000",
          "2003-09-01T00:00:00.000000000",
          "2003-10-01T00:00:00.000000000",
          "2003-11-01T00:00:00.000000000",
          "2003-12-01T00:00:00.000000000",
          "2004-01-01T00:00:00.000000000",
          "2004-02-01T00:00:00.000000000",
          "2004-03-01T00:00:00.000000000",
          "2004-04-01T00:00:00.000000000",
          "2004-05-01T00:00:00.000000000",
          "2004-06-01T00:00:00.000000000",
          "2004-07-01T00:00:00.000000000",
          "2004-08-01T00:00:00.000000000",
          "2004-09-01T00:00:00.000000000",
          "2004-10-01T00:00:00.000000000",
          "2004-11-01T00:00:00.000000000",
          "2004-12-01T00:00:00.000000000",
          "2005-01-01T00:00:00.000000000",
          "2005-02-01T00:00:00.000000000",
          "2005-03-01T00:00:00.000000000",
          "2005-04-01T00:00:00.000000000",
          "2005-05-01T00:00:00.000000000",
          "2005-06-01T00:00:00.000000000",
          "2005-07-01T00:00:00.000000000",
          "2005-08-01T00:00:00.000000000",
          "2005-09-01T00:00:00.000000000",
          "2005-10-01T00:00:00.000000000",
          "2005-11-01T00:00:00.000000000",
          "2005-12-01T00:00:00.000000000",
          "2006-01-01T00:00:00.000000000",
          "2006-02-01T00:00:00.000000000",
          "2006-03-01T00:00:00.000000000",
          "2006-04-01T00:00:00.000000000",
          "2006-05-01T00:00:00.000000000",
          "2006-06-01T00:00:00.000000000",
          "2006-07-01T00:00:00.000000000",
          "2006-08-01T00:00:00.000000000",
          "2006-09-01T00:00:00.000000000",
          "2006-10-01T00:00:00.000000000",
          "2006-11-01T00:00:00.000000000",
          "2006-12-01T00:00:00.000000000",
          "2007-01-01T00:00:00.000000000",
          "2007-02-01T00:00:00.000000000",
          "2007-03-01T00:00:00.000000000",
          "2007-04-01T00:00:00.000000000",
          "2007-05-01T00:00:00.000000000",
          "2007-06-01T00:00:00.000000000",
          "2007-07-01T00:00:00.000000000",
          "2007-08-01T00:00:00.000000000",
          "2007-09-01T00:00:00.000000000",
          "2007-10-01T00:00:00.000000000",
          "2007-11-01T00:00:00.000000000",
          "2007-12-01T00:00:00.000000000",
          "2008-01-01T00:00:00.000000000",
          "2008-02-01T00:00:00.000000000",
          "2008-03-01T00:00:00.000000000",
          "2008-04-01T00:00:00.000000000",
          "2008-05-01T00:00:00.000000000",
          "2008-06-01T00:00:00.000000000",
          "2008-07-01T00:00:00.000000000",
          "2008-08-01T00:00:00.000000000",
          "2008-09-01T00:00:00.000000000",
          "2008-10-01T00:00:00.000000000",
          "2008-11-01T00:00:00.000000000",
          "2008-12-01T00:00:00.000000000",
          "2009-01-01T00:00:00.000000000",
          "2009-02-01T00:00:00.000000000",
          "2009-03-01T00:00:00.000000000",
          "2009-04-01T00:00:00.000000000",
          "2009-05-01T00:00:00.000000000",
          "2009-06-01T00:00:00.000000000",
          "2009-07-01T00:00:00.000000000",
          "2009-08-01T00:00:00.000000000",
          "2009-09-01T00:00:00.000000000",
          "2009-10-01T00:00:00.000000000",
          "2009-11-01T00:00:00.000000000",
          "2009-12-01T00:00:00.000000000",
          "2010-01-01T00:00:00.000000000",
          "2010-02-01T00:00:00.000000000",
          "2010-03-01T00:00:00.000000000",
          "2010-04-01T00:00:00.000000000",
          "2010-05-01T00:00:00.000000000",
          "2010-06-01T00:00:00.000000000",
          "2010-07-01T00:00:00.000000000",
          "2010-08-01T00:00:00.000000000",
          "2010-09-01T00:00:00.000000000",
          "2010-10-01T00:00:00.000000000",
          "2010-11-01T00:00:00.000000000",
          "2010-12-01T00:00:00.000000000",
          "2011-01-01T00:00:00.000000000",
          "2011-02-01T00:00:00.000000000",
          "2011-03-01T00:00:00.000000000",
          "2011-04-01T00:00:00.000000000",
          "2011-05-01T00:00:00.000000000",
          "2011-06-01T00:00:00.000000000",
          "2011-07-01T00:00:00.000000000",
          "2011-08-01T00:00:00.000000000",
          "2011-09-01T00:00:00.000000000",
          "2011-10-01T00:00:00.000000000",
          "2011-11-01T00:00:00.000000000",
          "2011-12-01T00:00:00.000000000",
          "2012-01-01T00:00:00.000000000",
          "2012-02-01T00:00:00.000000000",
          "2012-03-01T00:00:00.000000000",
          "2012-04-01T00:00:00.000000000",
          "2012-05-01T00:00:00.000000000",
          "2012-06-01T00:00:00.000000000",
          "2012-07-01T00:00:00.000000000",
          "2012-08-01T00:00:00.000000000",
          "2012-09-01T00:00:00.000000000",
          "2012-10-01T00:00:00.000000000",
          "2012-11-01T00:00:00.000000000",
          "2012-12-01T00:00:00.000000000",
          "2013-01-01T00:00:00.000000000",
          "2013-02-01T00:00:00.000000000",
          "2013-03-01T00:00:00.000000000",
          "2013-04-01T00:00:00.000000000",
          "2013-05-01T00:00:00.000000000",
          "2013-06-01T00:00:00.000000000",
          "2013-07-01T00:00:00.000000000",
          "2013-08-01T00:00:00.000000000",
          "2013-09-01T00:00:00.000000000",
          "2013-10-01T00:00:00.000000000",
          "2013-11-01T00:00:00.000000000",
          "2013-12-01T00:00:00.000000000",
          "2014-01-01T00:00:00.000000000",
          "2014-02-01T00:00:00.000000000",
          "2014-03-01T00:00:00.000000000",
          "2014-04-01T00:00:00.000000000",
          "2014-05-01T00:00:00.000000000",
          "2014-06-01T00:00:00.000000000",
          "2014-07-01T00:00:00.000000000",
          "2014-08-01T00:00:00.000000000",
          "2014-09-01T00:00:00.000000000",
          "2014-10-01T00:00:00.000000000",
          "2014-11-01T00:00:00.000000000",
          "2014-12-01T00:00:00.000000000",
          "2015-01-01T00:00:00.000000000",
          "2015-02-01T00:00:00.000000000",
          "2015-03-01T00:00:00.000000000",
          "2015-04-01T00:00:00.000000000",
          "2015-05-01T00:00:00.000000000",
          "2015-06-01T00:00:00.000000000",
          "2015-07-01T00:00:00.000000000",
          "2015-08-01T00:00:00.000000000",
          "2015-09-01T00:00:00.000000000",
          "2015-10-01T00:00:00.000000000",
          "2015-11-01T00:00:00.000000000",
          "2015-12-01T00:00:00.000000000",
          "2016-01-01T00:00:00.000000000",
          "2016-02-01T00:00:00.000000000",
          "2016-03-01T00:00:00.000000000",
          "2016-04-01T00:00:00.000000000",
          "2016-05-01T00:00:00.000000000",
          "2016-06-01T00:00:00.000000000",
          "2016-07-01T00:00:00.000000000",
          "2016-08-01T00:00:00.000000000",
          "2016-09-01T00:00:00.000000000",
          "2016-10-01T00:00:00.000000000",
          "2016-11-01T00:00:00.000000000",
          "2016-12-01T00:00:00.000000000",
          "2017-01-01T00:00:00.000000000",
          "2017-02-01T00:00:00.000000000",
          "2017-03-01T00:00:00.000000000",
          "2017-04-01T00:00:00.000000000",
          "2017-05-01T00:00:00.000000000",
          "2017-06-01T00:00:00.000000000",
          "2017-07-01T00:00:00.000000000",
          "2017-08-01T00:00:00.000000000",
          "2017-09-01T00:00:00.000000000",
          "2017-10-01T00:00:00.000000000",
          "2017-11-01T00:00:00.000000000",
          "2017-12-01T00:00:00.000000000",
          "2018-01-01T00:00:00.000000000",
          "2018-02-01T00:00:00.000000000",
          "2018-03-01T00:00:00.000000000",
          "2018-04-01T00:00:00.000000000",
          "2018-05-01T00:00:00.000000000",
          "2018-06-01T00:00:00.000000000",
          "2018-07-01T00:00:00.000000000",
          "2018-08-01T00:00:00.000000000",
          "2018-09-01T00:00:00.000000000",
          "2018-10-01T00:00:00.000000000",
          "2018-11-01T00:00:00.000000000",
          "2018-12-01T00:00:00.000000000",
          "2019-01-01T00:00:00.000000000",
          "2019-02-01T00:00:00.000000000",
          "2019-03-01T00:00:00.000000000",
          "2019-04-01T00:00:00.000000000",
          "2019-05-01T00:00:00.000000000",
          "2019-06-01T00:00:00.000000000",
          "2019-07-01T00:00:00.000000000",
          "2019-08-01T00:00:00.000000000",
          "2019-09-01T00:00:00.000000000",
          "2019-10-01T00:00:00.000000000",
          "2019-11-01T00:00:00.000000000",
          "2019-12-01T00:00:00.000000000",
          "2020-01-01T00:00:00.000000000",
          "2020-02-01T00:00:00.000000000",
          "2020-03-01T00:00:00.000000000",
          "2020-04-01T00:00:00.000000000",
          "2020-05-01T00:00:00.000000000",
          "2020-06-01T00:00:00.000000000",
          "2020-07-01T00:00:00.000000000",
          "2020-08-01T00:00:00.000000000",
          "2020-09-01T00:00:00.000000000",
          "2020-10-01T00:00:00.000000000",
          "2020-11-01T00:00:00.000000000",
          "2020-12-01T00:00:00.000000000",
          "2021-01-01T00:00:00.000000000",
          "2021-02-01T00:00:00.000000000",
          "2021-03-01T00:00:00.000000000",
          "2021-04-01T00:00:00.000000000",
          "2021-05-01T00:00:00.000000000",
          "2021-06-01T00:00:00.000000000",
          "2021-07-01T00:00:00.000000000",
          "2021-08-01T00:00:00.000000000",
          "2021-09-01T00:00:00.000000000",
          "2021-10-01T00:00:00.000000000",
          "2021-11-01T00:00:00.000000000",
          "2021-12-01T00:00:00.000000000",
          "2022-01-01T00:00:00.000000000",
          "2022-02-01T00:00:00.000000000",
          "2022-03-01T00:00:00.000000000",
          "2022-04-01T00:00:00.000000000",
          "2022-05-01T00:00:00.000000000",
          "2022-06-01T00:00:00.000000000",
          "2022-07-01T00:00:00.000000000",
          "2022-08-01T00:00:00.000000000",
          "2022-09-01T00:00:00.000000000",
          "2022-10-01T00:00:00.000000000",
          "2022-11-01T00:00:00.000000000",
          "2022-12-01T00:00:00.000000000",
          "2023-01-01T00:00:00.000000000",
          "2023-02-01T00:00:00.000000000",
          "2023-03-01T00:00:00.000000000",
          "2023-04-01T00:00:00.000000000",
          "2023-05-01T00:00:00.000000000",
          "2023-06-01T00:00:00.000000000",
          "2023-07-01T00:00:00.000000000",
          "2023-08-01T00:00:00.000000000",
          "2023-09-01T00:00:00.000000000",
          "2023-10-01T00:00:00.000000000",
          "2023-11-01T00:00:00.000000000",
          "2023-12-01T00:00:00.000000000",
          "2024-01-01T00:00:00.000000000",
          "2024-02-01T00:00:00.000000000",
          "2024-03-01T00:00:00.000000000",
          "2024-04-01T00:00:00.000000000",
          "2024-05-01T00:00:00.000000000",
          "2024-06-01T00:00:00.000000000",
          "2024-07-01T00:00:00.000000000",
          "2024-08-01T00:00:00.000000000",
          "2024-09-01T00:00:00.000000000",
          "2024-10-01T00:00:00.000000000",
          "2024-11-01T00:00:00.000000000",
          "2024-12-01T00:00:00.000000000",
          "2025-01-01T00:00:00.000000000",
          "2025-02-01T00:00:00.000000000",
          "2025-03-01T00:00:00.000000000",
          "2025-04-01T00:00:00.000000000",
          "2025-05-01T00:00:00.000000000",
          "2025-06-01T00:00:00.000000000",
          "2025-07-01T00:00:00.000000000"
         ],
         "xaxis": "x",
         "y": {
          "bdata": "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",
          "dtype": "f8"
         },
         "yaxis": "y"
        },
        {
         "hovertemplate": "%{x}<br>Temp. Mín: %{y:.1f}°C<extra></extra>",
         "line": {
          "color": "#1E90FF",
          "width": 2
         },
         "mode": "lines",
         "name": "Temp. Mínima",
         "type": "scatter",
         "x": [
          "1980-01-01T00:00:00.000000000",
          "1980-02-01T00:00:00.000000000",
          "1980-03-01T00:00:00.000000000",
          "1980-04-01T00:00:00.000000000",
          "1980-05-01T00:00:00.000000000",
          "1980-06-01T00:00:00.000000000",
          "1980-07-01T00:00:00.000000000",
          "1980-08-01T00:00:00.000000000",
          "1980-09-01T00:00:00.000000000",
          "1980-10-01T00:00:00.000000000",
          "1980-11-01T00:00:00.000000000",
          "1980-12-01T00:00:00.000000000",
          "1981-01-01T00:00:00.000000000",
          "1981-02-01T00:00:00.000000000",
          "1981-03-01T00:00:00.000000000",
          "1981-04-01T00:00:00.000000000",
          "1981-05-01T00:00:00.000000000",
          "1981-06-01T00:00:00.000000000",
          "1981-07-01T00:00:00.000000000",
          "1981-08-01T00:00:00.000000000",
          "1981-09-01T00:00:00.000000000",
          "1981-10-01T00:00:00.000000000",
          "1981-11-01T00:00:00.000000000",
          "1981-12-01T00:00:00.000000000",
          "1982-01-01T00:00:00.000000000",
          "1982-02-01T00:00:00.000000000",
          "1982-03-01T00:00:00.000000000",
          "1982-04-01T00:00:00.000000000",
          "1982-05-01T00:00:00.000000000",
          "1982-06-01T00:00:00.000000000",
          "1982-07-01T00:00:00.000000000",
          "1982-08-01T00:00:00.000000000",
          "1982-09-01T00:00:00.000000000",
          "1982-10-01T00:00:00.000000000",
          "1982-11-01T00:00:00.000000000",
          "1982-12-01T00:00:00.000000000",
          "1983-01-01T00:00:00.000000000",
          "1983-02-01T00:00:00.000000000",
          "1983-03-01T00:00:00.000000000",
          "1983-04-01T00:00:00.000000000",
          "1983-05-01T00:00:00.000000000",
          "1983-06-01T00:00:00.000000000",
          "1983-07-01T00:00:00.000000000",
          "1983-08-01T00:00:00.000000000",
          "1983-09-01T00:00:00.000000000",
          "1983-10-01T00:00:00.000000000",
          "1983-11-01T00:00:00.000000000",
          "1983-12-01T00:00:00.000000000",
          "1984-01-01T00:00:00.000000000",
          "1984-02-01T00:00:00.000000000",
          "1984-03-01T00:00:00.000000000",
          "1984-04-01T00:00:00.000000000",
          "1984-05-01T00:00:00.000000000",
          "1984-06-01T00:00:00.000000000",
          "1984-07-01T00:00:00.000000000",
          "1984-08-01T00:00:00.000000000",
          "1984-09-01T00:00:00.000000000",
          "1984-10-01T00:00:00.000000000",
          "1984-11-01T00:00:00.000000000",
          "1984-12-01T00:00:00.000000000",
          "1985-01-01T00:00:00.000000000",
          "1985-02-01T00:00:00.000000000",
          "1985-03-01T00:00:00.000000000",
          "1985-04-01T00:00:00.000000000",
          "1985-05-01T00:00:00.000000000",
          "1985-06-01T00:00:00.000000000",
          "1985-07-01T00:00:00.000000000",
          "1985-08-01T00:00:00.000000000",
          "1985-09-01T00:00:00.000000000",
          "1985-10-01T00:00:00.000000000",
          "1985-11-01T00:00:00.000000000",
          "1985-12-01T00:00:00.000000000",
          "1986-01-01T00:00:00.000000000",
          "1986-02-01T00:00:00.000000000",
          "1986-03-01T00:00:00.000000000",
          "1986-04-01T00:00:00.000000000",
          "1986-05-01T00:00:00.000000000",
          "1986-06-01T00:00:00.000000000",
          "1986-07-01T00:00:00.000000000",
          "1986-08-01T00:00:00.000000000",
          "1986-09-01T00:00:00.000000000",
          "1986-10-01T00:00:00.000000000",
          "1986-11-01T00:00:00.000000000",
          "1986-12-01T00:00:00.000000000",
          "1987-01-01T00:00:00.000000000",
          "1987-02-01T00:00:00.000000000",
          "1987-03-01T00:00:00.000000000",
          "1987-04-01T00:00:00.000000000",
          "1987-05-01T00:00:00.000000000",
          "1987-06-01T00:00:00.000000000",
          "1987-07-01T00:00:00.000000000",
          "1987-08-01T00:00:00.000000000",
          "1987-09-01T00:00:00.000000000",
          "1987-10-01T00:00:00.000000000",
          "1987-11-01T00:00:00.000000000",
          "1987-12-01T00:00:00.000000000",
          "1988-01-01T00:00:00.000000000",
          "1988-02-01T00:00:00.000000000",
          "1988-03-01T00:00:00.000000000",
          "1988-04-01T00:00:00.000000000",
          "1988-05-01T00:00:00.000000000",
          "1988-06-01T00:00:00.000000000",
          "1988-07-01T00:00:00.000000000",
          "1988-08-01T00:00:00.000000000",
          "1988-09-01T00:00:00.000000000",
          "1988-10-01T00:00:00.000000000",
          "1988-11-01T00:00:00.000000000",
          "1988-12-01T00:00:00.000000000",
          "1989-01-01T00:00:00.000000000",
          "1989-02-01T00:00:00.000000000",
          "1989-03-01T00:00:00.000000000",
          "1989-04-01T00:00:00.000000000",
          "1989-05-01T00:00:00.000000000",
          "1989-06-01T00:00:00.000000000",
          "1989-07-01T00:00:00.000000000",
          "1989-08-01T00:00:00.000000000",
          "1989-09-01T00:00:00.000000000",
          "1989-10-01T00:00:00.000000000",
          "1989-11-01T00:00:00.000000000",
          "1989-12-01T00:00:00.000000000",
          "1990-01-01T00:00:00.000000000",
          "1990-02-01T00:00:00.000000000",
          "1990-03-01T00:00:00.000000000",
          "1990-04-01T00:00:00.000000000",
          "1990-05-01T00:00:00.000000000",
          "1990-06-01T00:00:00.000000000",
          "1990-07-01T00:00:00.000000000",
          "1990-08-01T00:00:00.000000000",
          "1990-09-01T00:00:00.000000000",
          "1990-10-01T00:00:00.000000000",
          "1990-11-01T00:00:00.000000000",
          "1990-12-01T00:00:00.000000000",
          "1991-01-01T00:00:00.000000000",
          "1991-02-01T00:00:00.000000000",
          "1991-03-01T00:00:00.000000000",
          "1991-04-01T00:00:00.000000000",
          "1991-05-01T00:00:00.000000000",
          "1991-06-01T00:00:00.000000000",
          "1991-07-01T00:00:00.000000000",
          "1991-08-01T00:00:00.000000000",
          "1991-09-01T00:00:00.000000000",
          "1991-10-01T00:00:00.000000000",
          "1991-11-01T00:00:00.000000000",
          "1991-12-01T00:00:00.000000000",
          "1992-01-01T00:00:00.000000000",
          "1992-02-01T00:00:00.000000000",
          "1992-03-01T00:00:00.000000000",
          "1992-04-01T00:00:00.000000000",
          "1992-05-01T00:00:00.000000000",
          "1992-06-01T00:00:00.000000000",
          "1992-07-01T00:00:00.000000000",
          "1992-08-01T00:00:00.000000000",
          "1992-09-01T00:00:00.000000000",
          "1992-10-01T00:00:00.000000000",
          "1992-11-01T00:00:00.000000000",
          "1992-12-01T00:00:00.000000000",
          "1993-01-01T00:00:00.000000000",
          "1993-02-01T00:00:00.000000000",
          "1993-03-01T00:00:00.000000000",
          "1993-04-01T00:00:00.000000000",
          "1993-05-01T00:00:00.000000000",
          "1993-06-01T00:00:00.000000000",
          "1993-07-01T00:00:00.000000000",
          "1993-08-01T00:00:00.000000000",
          "1993-09-01T00:00:00.000000000",
          "1993-10-01T00:00:00.000000000",
          "1993-11-01T00:00:00.000000000",
          "1993-12-01T00:00:00.000000000",
          "1994-01-01T00:00:00.000000000",
          "1994-02-01T00:00:00.000000000",
          "1994-03-01T00:00:00.000000000",
          "1994-04-01T00:00:00.000000000",
          "1994-05-01T00:00:00.000000000",
          "1994-06-01T00:00:00.000000000",
          "1994-07-01T00:00:00.000000000",
          "1994-08-01T00:00:00.000000000",
          "1994-09-01T00:00:00.000000000",
          "1994-10-01T00:00:00.000000000",
          "1994-11-01T00:00:00.000000000",
          "1994-12-01T00:00:00.000000000",
          "1995-01-01T00:00:00.000000000",
          "1995-02-01T00:00:00.000000000",
          "1995-03-01T00:00:00.000000000",
          "1995-04-01T00:00:00.000000000",
          "1995-05-01T00:00:00.000000000",
          "1995-06-01T00:00:00.000000000",
          "1995-07-01T00:00:00.000000000",
          "1995-08-01T00:00:00.000000000",
          "1995-09-01T00:00:00.000000000",
          "1995-10-01T00:00:00.000000000",
          "1995-11-01T00:00:00.000000000",
          "1995-12-01T00:00:00.000000000",
          "1996-01-01T00:00:00.000000000",
          "1996-02-01T00:00:00.000000000",
          "1996-03-01T00:00:00.000000000",
          "1996-04-01T00:00:00.000000000",
          "1996-05-01T00:00:00.000000000",
          "1996-06-01T00:00:00.000000000",
          "1996-07-01T00:00:00.000000000",
          "1996-08-01T00:00:00.000000000",
          "1996-09-01T00:00:00.000000000",
          "1996-10-01T00:00:00.000000000",
          "1996-11-01T00:00:00.000000000",
          "1996-12-01T00:00:00.000000000",
          "1997-01-01T00:00:00.000000000",
          "1997-02-01T00:00:00.000000000",
          "1997-03-01T00:00:00.000000000",
          "1997-04-01T00:00:00.000000000",
          "1997-05-01T00:00:00.000000000",
          "1997-06-01T00:00:00.000000000",
          "1997-07-01T00:00:00.000000000",
          "1997-08-01T00:00:00.000000000",
          "1997-09-01T00:00:00.000000000",
          "1997-10-01T00:00:00.000000000",
          "1997-11-01T00:00:00.000000000",
          "1997-12-01T00:00:00.000000000",
          "1998-01-01T00:00:00.000000000",
          "1998-02-01T00:00:00.000000000",
          "1998-03-01T00:00:00.000000000",
          "1998-04-01T00:00:00.000000000",
          "1998-05-01T00:00:00.000000000",
          "1998-06-01T00:00:00.000000000",
          "1998-07-01T00:00:00.000000000",
          "1998-08-01T00:00:00.000000000",
          "1998-09-01T00:00:00.000000000",
          "1998-10-01T00:00:00.000000000",
          "1998-11-01T00:00:00.000000000",
          "1998-12-01T00:00:00.000000000",
          "1999-01-01T00:00:00.000000000",
          "1999-02-01T00:00:00.000000000",
          "1999-03-01T00:00:00.000000000",
          "1999-04-01T00:00:00.000000000",
          "1999-05-01T00:00:00.000000000",
          "1999-06-01T00:00:00.000000000",
          "1999-07-01T00:00:00.000000000",
          "1999-08-01T00:00:00.000000000",
          "1999-09-01T00:00:00.000000000",
          "1999-10-01T00:00:00.000000000",
          "1999-11-01T00:00:00.000000000",
          "1999-12-01T00:00:00.000000000",
          "2000-01-01T00:00:00.000000000",
          "2000-02-01T00:00:00.000000000",
          "2000-03-01T00:00:00.000000000",
          "2000-04-01T00:00:00.000000000",
          "2000-05-01T00:00:00.000000000",
          "2000-06-01T00:00:00.000000000",
          "2000-07-01T00:00:00.000000000",
          "2000-08-01T00:00:00.000000000",
          "2000-09-01T00:00:00.000000000",
          "2000-10-01T00:00:00.000000000",
          "2000-11-01T00:00:00.000000000",
          "2000-12-01T00:00:00.000000000",
          "2001-01-01T00:00:00.000000000",
          "2001-02-01T00:00:00.000000000",
          "2001-03-01T00:00:00.000000000",
          "2001-04-01T00:00:00.000000000",
          "2001-05-01T00:00:00.000000000",
          "2001-06-01T00:00:00.000000000",
          "2001-07-01T00:00:00.000000000",
          "2001-08-01T00:00:00.000000000",
          "2001-09-01T00:00:00.000000000",
          "2001-10-01T00:00:00.000000000",
          "2001-11-01T00:00:00.000000000",
          "2001-12-01T00:00:00.000000000",
          "2002-01-01T00:00:00.000000000",
          "2002-02-01T00:00:00.000000000",
          "2002-03-01T00:00:00.000000000",
          "2002-04-01T00:00:00.000000000",
          "2002-05-01T00:00:00.000000000",
          "2002-06-01T00:00:00.000000000",
          "2002-07-01T00:00:00.000000000",
          "2002-08-01T00:00:00.000000000",
          "2002-09-01T00:00:00.000000000",
          "2002-10-01T00:00:00.000000000",
          "2002-11-01T00:00:00.000000000",
          "2002-12-01T00:00:00.000000000",
          "2003-01-01T00:00:00.000000000",
          "2003-02-01T00:00:00.000000000",
          "2003-03-01T00:00:00.000000000",
          "2003-04-01T00:00:00.000000000",
          "2003-05-01T00:00:00.000000000",
          "2003-06-01T00:00:00.000000000",
          "2003-07-01T00:00:00.000000000",
          "2003-08-01T00:00:00.000000000",
          "2003-09-01T00:00:00.000000000",
          "2003-10-01T00:00:00.000000000",
          "2003-11-01T00:00:00.000000000",
          "2003-12-01T00:00:00.000000000",
          "2004-01-01T00:00:00.000000000",
          "2004-02-01T00:00:00.000000000",
          "2004-03-01T00:00:00.000000000",
          "2004-04-01T00:00:00.000000000",
          "2004-05-01T00:00:00.000000000",
          "2004-06-01T00:00:00.000000000",
          "2004-07-01T00:00:00.000000000",
          "2004-08-01T00:00:00.000000000",
          "2004-09-01T00:00:00.000000000",
          "2004-10-01T00:00:00.000000000",
          "2004-11-01T00:00:00.000000000",
          "2004-12-01T00:00:00.000000000",
          "2005-01-01T00:00:00.000000000",
          "2005-02-01T00:00:00.000000000",
          "2005-03-01T00:00:00.000000000",
          "2005-04-01T00:00:00.000000000",
          "2005-05-01T00:00:00.000000000",
          "2005-06-01T00:00:00.000000000",
          "2005-07-01T00:00:00.000000000",
          "2005-08-01T00:00:00.000000000",
          "2005-09-01T00:00:00.000000000",
          "2005-10-01T00:00:00.000000000",
          "2005-11-01T00:00:00.000000000",
          "2005-12-01T00:00:00.000000000",
          "2006-01-01T00:00:00.000000000",
          "2006-02-01T00:00:00.000000000",
          "2006-03-01T00:00:00.000000000",
          "2006-04-01T00:00:00.000000000",
          "2006-05-01T00:00:00.000000000",
          "2006-06-01T00:00:00.000000000",
          "2006-07-01T00:00:00.000000000",
          "2006-08-01T00:00:00.000000000",
          "2006-09-01T00:00:00.000000000",
          "2006-10-01T00:00:00.000000000",
          "2006-11-01T00:00:00.000000000",
          "2006-12-01T00:00:00.000000000",
          "2007-01-01T00:00:00.000000000",
          "2007-02-01T00:00:00.000000000",
          "2007-03-01T00:00:00.000000000",
          "2007-04-01T00:00:00.000000000",
          "2007-05-01T00:00:00.000000000",
          "2007-06-01T00:00:00.000000000",
          "2007-07-01T00:00:00.000000000",
          "2007-08-01T00:00:00.000000000",
          "2007-09-01T00:00:00.000000000",
          "2007-10-01T00:00:00.000000000",
          "2007-11-01T00:00:00.000000000",
          "2007-12-01T00:00:00.000000000",
          "2008-01-01T00:00:00.000000000",
          "2008-02-01T00:00:00.000000000",
          "2008-03-01T00:00:00.000000000",
          "2008-04-01T00:00:00.000000000",
          "2008-05-01T00:00:00.000000000",
          "2008-06-01T00:00:00.000000000",
          "2008-07-01T00:00:00.000000000",
          "2008-08-01T00:00:00.000000000",
          "2008-09-01T00:00:00.000000000",
          "2008-10-01T00:00:00.000000000",
          "2008-11-01T00:00:00.000000000",
          "2008-12-01T00:00:00.000000000",
          "2009-01-01T00:00:00.000000000",
          "2009-02-01T00:00:00.000000000",
          "2009-03-01T00:00:00.000000000",
          "2009-04-01T00:00:00.000000000",
          "2009-05-01T00:00:00.000000000",
          "2009-06-01T00:00:00.000000000",
          "2009-07-01T00:00:00.000000000",
          "2009-08-01T00:00:00.000000000",
          "2009-09-01T00:00:00.000000000",
          "2009-10-01T00:00:00.000000000",
          "2009-11-01T00:00:00.000000000",
          "2009-12-01T00:00:00.000000000",
          "2010-01-01T00:00:00.000000000",
          "2010-02-01T00:00:00.000000000",
          "2010-03-01T00:00:00.000000000",
          "2010-04-01T00:00:00.000000000",
          "2010-05-01T00:00:00.000000000",
          "2010-06-01T00:00:00.000000000",
          "2010-07-01T00:00:00.000000000",
          "2010-08-01T00:00:00.000000000",
          "2010-09-01T00:00:00.000000000",
          "2010-10-01T00:00:00.000000000",
          "2010-11-01T00:00:00.000000000",
          "2010-12-01T00:00:00.000000000",
          "2011-01-01T00:00:00.000000000",
          "2011-02-01T00:00:00.000000000",
          "2011-03-01T00:00:00.000000000",
          "2011-04-01T00:00:00.000000000",
          "2011-05-01T00:00:00.000000000",
          "2011-06-01T00:00:00.000000000",
          "2011-07-01T00:00:00.000000000",
          "2011-08-01T00:00:00.000000000",
          "2011-09-01T00:00:00.000000000",
          "2011-10-01T00:00:00.000000000",
          "2011-11-01T00:00:00.000000000",
          "2011-12-01T00:00:00.000000000",
          "2012-01-01T00:00:00.000000000",
          "2012-02-01T00:00:00.000000000",
          "2012-03-01T00:00:00.000000000",
          "2012-04-01T00:00:00.000000000",
          "2012-05-01T00:00:00.000000000",
          "2012-06-01T00:00:00.000000000",
          "2012-07-01T00:00:00.000000000",
          "2012-08-01T00:00:00.000000000",
          "2012-09-01T00:00:00.000000000",
          "2012-10-01T00:00:00.000000000",
          "2012-11-01T00:00:00.000000000",
          "2012-12-01T00:00:00.000000000",
          "2013-01-01T00:00:00.000000000",
          "2013-02-01T00:00:00.000000000",
          "2013-03-01T00:00:00.000000000",
          "2013-04-01T00:00:00.000000000",
          "2013-05-01T00:00:00.000000000",
          "2013-06-01T00:00:00.000000000",
          "2013-07-01T00:00:00.000000000",
          "2013-08-01T00:00:00.000000000",
          "2013-09-01T00:00:00.000000000",
          "2013-10-01T00:00:00.000000000",
          "2013-11-01T00:00:00.000000000",
          "2013-12-01T00:00:00.000000000",
          "2014-01-01T00:00:00.000000000",
          "2014-02-01T00:00:00.000000000",
          "2014-03-01T00:00:00.000000000",
          "2014-04-01T00:00:00.000000000",
          "2014-05-01T00:00:00.000000000",
          "2014-06-01T00:00:00.000000000",
          "2014-07-01T00:00:00.000000000",
          "2014-08-01T00:00:00.000000000",
          "2014-09-01T00:00:00.000000000",
          "2014-10-01T00:00:00.000000000",
          "2014-11-01T00:00:00.000000000",
          "2014-12-01T00:00:00.000000000",
          "2015-01-01T00:00:00.000000000",
          "2015-02-01T00:00:00.000000000",
          "2015-03-01T00:00:00.000000000",
          "2015-04-01T00:00:00.000000000",
          "2015-05-01T00:00:00.000000000",
          "2015-06-01T00:00:00.000000000",
          "2015-07-01T00:00:00.000000000",
          "2015-08-01T00:00:00.000000000",
          "2015-09-01T00:00:00.000000000",
          "2015-10-01T00:00:00.000000000",
          "2015-11-01T00:00:00.000000000",
          "2015-12-01T00:00:00.000000000",
          "2016-01-01T00:00:00.000000000",
          "2016-02-01T00:00:00.000000000",
          "2016-03-01T00:00:00.000000000",
          "2016-04-01T00:00:00.000000000",
          "2016-05-01T00:00:00.000000000",
          "2016-06-01T00:00:00.000000000",
          "2016-07-01T00:00:00.000000000",
          "2016-08-01T00:00:00.000000000",
          "2016-09-01T00:00:00.000000000",
          "2016-10-01T00:00:00.000000000",
          "2016-11-01T00:00:00.000000000",
          "2016-12-01T00:00:00.000000000",
          "2017-01-01T00:00:00.000000000",
          "2017-02-01T00:00:00.000000000",
          "2017-03-01T00:00:00.000000000",
          "2017-04-01T00:00:00.000000000",
          "2017-05-01T00:00:00.000000000",
          "2017-06-01T00:00:00.000000000",
          "2017-07-01T00:00:00.000000000",
          "2017-08-01T00:00:00.000000000",
          "2017-09-01T00:00:00.000000000",
          "2017-10-01T00:00:00.000000000",
          "2017-11-01T00:00:00.000000000",
          "2017-12-01T00:00:00.000000000",
          "2018-01-01T00:00:00.000000000",
          "2018-02-01T00:00:00.000000000",
          "2018-03-01T00:00:00.000000000",
          "2018-04-01T00:00:00.000000000",
          "2018-05-01T00:00:00.000000000",
          "2018-06-01T00:00:00.000000000",
          "2018-07-01T00:00:00.000000000",
          "2018-08-01T00:00:00.000000000",
          "2018-09-01T00:00:00.000000000",
          "2018-10-01T00:00:00.000000000",
          "2018-11-01T00:00:00.000000000",
          "2018-12-01T00:00:00.000000000",
          "2019-01-01T00:00:00.000000000",
          "2019-02-01T00:00:00.000000000",
          "2019-03-01T00:00:00.000000000",
          "2019-04-01T00:00:00.000000000",
          "2019-05-01T00:00:00.000000000",
          "2019-06-01T00:00:00.000000000",
          "2019-07-01T00:00:00.000000000",
          "2019-08-01T00:00:00.000000000",
          "2019-09-01T00:00:00.000000000",
          "2019-10-01T00:00:00.000000000",
          "2019-11-01T00:00:00.000000000",
          "2019-12-01T00:00:00.000000000",
          "2020-01-01T00:00:00.000000000",
          "2020-02-01T00:00:00.000000000",
          "2020-03-01T00:00:00.000000000",
          "2020-04-01T00:00:00.000000000",
          "2020-05-01T00:00:00.000000000",
          "2020-06-01T00:00:00.000000000",
          "2020-07-01T00:00:00.000000000",
          "2020-08-01T00:00:00.000000000",
          "2020-09-01T00:00:00.000000000",
          "2020-10-01T00:00:00.000000000",
          "2020-11-01T00:00:00.000000000",
          "2020-12-01T00:00:00.000000000",
          "2021-01-01T00:00:00.000000000",
          "2021-02-01T00:00:00.000000000",
          "2021-03-01T00:00:00.000000000",
          "2021-04-01T00:00:00.000000000",
          "2021-05-01T00:00:00.000000000",
          "2021-06-01T00:00:00.000000000",
          "2021-07-01T00:00:00.000000000",
          "2021-08-01T00:00:00.000000000",
          "2021-09-01T00:00:00.000000000",
          "2021-10-01T00:00:00.000000000",
          "2021-11-01T00:00:00.000000000",
          "2021-12-01T00:00:00.000000000",
          "2022-01-01T00:00:00.000000000",
          "2022-02-01T00:00:00.000000000",
          "2022-03-01T00:00:00.000000000",
          "2022-04-01T00:00:00.000000000",
          "2022-05-01T00:00:00.000000000",
          "2022-06-01T00:00:00.000000000",
          "2022-07-01T00:00:00.000000000",
          "2022-08-01T00:00:00.000000000",
          "2022-09-01T00:00:00.000000000",
          "2022-10-01T00:00:00.000000000",
          "2022-11-01T00:00:00.000000000",
          "2022-12-01T00:00:00.000000000",
          "2023-01-01T00:00:00.000000000",
          "2023-02-01T00:00:00.000000000",
          "2023-03-01T00:00:00.000000000",
          "2023-04-01T00:00:00.000000000",
          "2023-05-01T00:00:00.000000000",
          "2023-06-01T00:00:00.000000000",
          "2023-07-01T00:00:00.000000000",
          "2023-08-01T00:00:00.000000000",
          "2023-09-01T00:00:00.000000000",
          "2023-10-01T00:00:00.000000000",
          "2023-11-01T00:00:00.000000000",
          "2023-12-01T00:00:00.000000000",
          "2024-01-01T00:00:00.000000000",
          "2024-02-01T00:00:00.000000000",
          "2024-03-01T00:00:00.000000000",
          "2024-04-01T00:00:00.000000000",
          "2024-05-01T00:00:00.000000000",
          "2024-06-01T00:00:00.000000000",
          "2024-07-01T00:00:00.000000000",
          "2024-08-01T00:00:00.000000000",
          "2024-09-01T00:00:00.000000000",
          "2024-10-01T00:00:00.000000000",
          "2024-11-01T00:00:00.000000000",
          "2024-12-01T00:00:00.000000000",
          "2025-01-01T00:00:00.000000000",
          "2025-02-01T00:00:00.000000000",
          "2025-03-01T00:00:00.000000000",
          "2025-04-01T00:00:00.000000000",
          "2025-05-01T00:00:00.000000000",
          "2025-06-01T00:00:00.000000000",
          "2025-07-01T00:00:00.000000000"
         ],
         "xaxis": "x",
         "y": {
          "bdata": "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",
          "dtype": "f8"
         },
         "yaxis": "y"
        },
        {
         "hovertemplate": "%{x}<br>Precipitación: %{y:.1f} mm<extra></extra>",
         "marker": {
          "color": "#228B22"
         },
         "name": "Precipitación",
         "opacity": 0.7,
         "type": "bar",
         "x": [
          "1980-01-01T00:00:00.000000000",
          "1980-02-01T00:00:00.000000000",
          "1980-03-01T00:00:00.000000000",
          "1980-04-01T00:00:00.000000000",
          "1980-05-01T00:00:00.000000000",
          "1980-06-01T00:00:00.000000000",
          "1980-07-01T00:00:00.000000000",
          "1980-08-01T00:00:00.000000000",
          "1980-09-01T00:00:00.000000000",
          "1980-10-01T00:00:00.000000000",
          "1980-11-01T00:00:00.000000000",
          "1980-12-01T00:00:00.000000000",
          "1981-01-01T00:00:00.000000000",
          "1981-02-01T00:00:00.000000000",
          "1981-03-01T00:00:00.000000000",
          "1981-04-01T00:00:00.000000000",
          "1981-05-01T00:00:00.000000000",
          "1981-06-01T00:00:00.000000000",
          "1981-07-01T00:00:00.000000000",
          "1981-08-01T00:00:00.000000000",
          "1981-09-01T00:00:00.000000000",
          "1981-10-01T00:00:00.000000000",
          "1981-11-01T00:00:00.000000000",
          "1981-12-01T00:00:00.000000000",
          "1982-01-01T00:00:00.000000000",
          "1982-02-01T00:00:00.000000000",
          "1982-03-01T00:00:00.000000000",
          "1982-04-01T00:00:00.000000000",
          "1982-05-01T00:00:00.000000000",
          "1982-06-01T00:00:00.000000000",
          "1982-07-01T00:00:00.000000000",
          "1982-08-01T00:00:00.000000000",
          "1982-09-01T00:00:00.000000000",
          "1982-10-01T00:00:00.000000000",
          "1982-11-01T00:00:00.000000000",
          "1982-12-01T00:00:00.000000000",
          "1983-01-01T00:00:00.000000000",
          "1983-02-01T00:00:00.000000000",
          "1983-03-01T00:00:00.000000000",
          "1983-04-01T00:00:00.000000000",
          "1983-05-01T00:00:00.000000000",
          "1983-06-01T00:00:00.000000000",
          "1983-07-01T00:00:00.000000000",
          "1983-08-01T00:00:00.000000000",
          "1983-09-01T00:00:00.000000000",
          "1983-10-01T00:00:00.000000000",
          "1983-11-01T00:00:00.000000000",
          "1983-12-01T00:00:00.000000000",
          "1984-01-01T00:00:00.000000000",
          "1984-02-01T00:00:00.000000000",
          "1984-03-01T00:00:00.000000000",
          "1984-04-01T00:00:00.000000000",
          "1984-05-01T00:00:00.000000000",
          "1984-06-01T00:00:00.000000000",
          "1984-07-01T00:00:00.000000000",
          "1984-08-01T00:00:00.000000000",
          "1984-09-01T00:00:00.000000000",
          "1984-10-01T00:00:00.000000000",
          "1984-11-01T00:00:00.000000000",
          "1984-12-01T00:00:00.000000000",
          "1985-01-01T00:00:00.000000000",
          "1985-02-01T00:00:00.000000000",
          "1985-03-01T00:00:00.000000000",
          "1985-04-01T00:00:00.000000000",
          "1985-05-01T00:00:00.000000000",
          "1985-06-01T00:00:00.000000000",
          "1985-07-01T00:00:00.000000000",
          "1985-08-01T00:00:00.000000000",
          "1985-09-01T00:00:00.000000000",
          "1985-10-01T00:00:00.000000000",
          "1985-11-01T00:00:00.000000000",
          "1985-12-01T00:00:00.000000000",
          "1986-01-01T00:00:00.000000000",
          "1986-02-01T00:00:00.000000000",
          "1986-03-01T00:00:00.000000000",
          "1986-04-01T00:00:00.000000000",
          "1986-05-01T00:00:00.000000000",
          "1986-06-01T00:00:00.000000000",
          "1986-07-01T00:00:00.000000000",
          "1986-08-01T00:00:00.000000000",
          "1986-09-01T00:00:00.000000000",
          "1986-10-01T00:00:00.000000000",
          "1986-11-01T00:00:00.000000000",
          "1986-12-01T00:00:00.000000000",
          "1987-01-01T00:00:00.000000000",
          "1987-02-01T00:00:00.000000000",
          "1987-03-01T00:00:00.000000000",
          "1987-04-01T00:00:00.000000000",
          "1987-05-01T00:00:00.000000000",
          "1987-06-01T00:00:00.000000000",
          "1987-07-01T00:00:00.000000000",
          "1987-08-01T00:00:00.000000000",
          "1987-09-01T00:00:00.000000000",
          "1987-10-01T00:00:00.000000000",
          "1987-11-01T00:00:00.000000000",
          "1987-12-01T00:00:00.000000000",
          "1988-01-01T00:00:00.000000000",
          "1988-02-01T00:00:00.000000000",
          "1988-03-01T00:00:00.000000000",
          "1988-04-01T00:00:00.000000000",
          "1988-05-01T00:00:00.000000000",
          "1988-06-01T00:00:00.000000000",
          "1988-07-01T00:00:00.000000000",
          "1988-08-01T00:00:00.000000000",
          "1988-09-01T00:00:00.000000000",
          "1988-10-01T00:00:00.000000000",
          "1988-11-01T00:00:00.000000000",
          "1988-12-01T00:00:00.000000000",
          "1989-01-01T00:00:00.000000000",
          "1989-02-01T00:00:00.000000000",
          "1989-03-01T00:00:00.000000000",
          "1989-04-01T00:00:00.000000000",
          "1989-05-01T00:00:00.000000000",
          "1989-06-01T00:00:00.000000000",
          "1989-07-01T00:00:00.000000000",
          "1989-08-01T00:00:00.000000000",
          "1989-09-01T00:00:00.000000000",
          "1989-10-01T00:00:00.000000000",
          "1989-11-01T00:00:00.000000000",
          "1989-12-01T00:00:00.000000000",
          "1990-01-01T00:00:00.000000000",
          "1990-02-01T00:00:00.000000000",
          "1990-03-01T00:00:00.000000000",
          "1990-04-01T00:00:00.000000000",
          "1990-05-01T00:00:00.000000000",
          "1990-06-01T00:00:00.000000000",
          "1990-07-01T00:00:00.000000000",
          "1990-08-01T00:00:00.000000000",
          "1990-09-01T00:00:00.000000000",
          "1990-10-01T00:00:00.000000000",
          "1990-11-01T00:00:00.000000000",
          "1990-12-01T00:00:00.000000000",
          "1991-01-01T00:00:00.000000000",
          "1991-02-01T00:00:00.000000000",
          "1991-03-01T00:00:00.000000000",
          "1991-04-01T00:00:00.000000000",
          "1991-05-01T00:00:00.000000000",
          "1991-06-01T00:00:00.000000000",
          "1991-07-01T00:00:00.000000000",
          "1991-08-01T00:00:00.000000000",
          "1991-09-01T00:00:00.000000000",
          "1991-10-01T00:00:00.000000000",
          "1991-11-01T00:00:00.000000000",
          "1991-12-01T00:00:00.000000000",
          "1992-01-01T00:00:00.000000000",
          "1992-02-01T00:00:00.000000000",
          "1992-03-01T00:00:00.000000000",
          "1992-04-01T00:00:00.000000000",
          "1992-05-01T00:00:00.000000000",
          "1992-06-01T00:00:00.000000000",
          "1992-07-01T00:00:00.000000000",
          "1992-08-01T00:00:00.000000000",
          "1992-09-01T00:00:00.000000000",
          "1992-10-01T00:00:00.000000000",
          "1992-11-01T00:00:00.000000000",
          "1992-12-01T00:00:00.000000000",
          "1993-01-01T00:00:00.000000000",
          "1993-02-01T00:00:00.000000000",
          "1993-03-01T00:00:00.000000000",
          "1993-04-01T00:00:00.000000000",
          "1993-05-01T00:00:00.000000000",
          "1993-06-01T00:00:00.000000000",
          "1993-07-01T00:00:00.000000000",
          "1993-08-01T00:00:00.000000000",
          "1993-09-01T00:00:00.000000000",
          "1993-10-01T00:00:00.000000000",
          "1993-11-01T00:00:00.000000000",
          "1993-12-01T00:00:00.000000000",
          "1994-01-01T00:00:00.000000000",
          "1994-02-01T00:00:00.000000000",
          "1994-03-01T00:00:00.000000000",
          "1994-04-01T00:00:00.000000000",
          "1994-05-01T00:00:00.000000000",
          "1994-06-01T00:00:00.000000000",
          "1994-07-01T00:00:00.000000000",
          "1994-08-01T00:00:00.000000000",
          "1994-09-01T00:00:00.000000000",
          "1994-10-01T00:00:00.000000000",
          "1994-11-01T00:00:00.000000000",
          "1994-12-01T00:00:00.000000000",
          "1995-01-01T00:00:00.000000000",
          "1995-02-01T00:00:00.000000000",
          "1995-03-01T00:00:00.000000000",
          "1995-04-01T00:00:00.000000000",
          "1995-05-01T00:00:00.000000000",
          "1995-06-01T00:00:00.000000000",
          "1995-07-01T00:00:00.000000000",
          "1995-08-01T00:00:00.000000000",
          "1995-09-01T00:00:00.000000000",
          "1995-10-01T00:00:00.000000000",
          "1995-11-01T00:00:00.000000000",
          "1995-12-01T00:00:00.000000000",
          "1996-01-01T00:00:00.000000000",
          "1996-02-01T00:00:00.000000000",
          "1996-03-01T00:00:00.000000000",
          "1996-04-01T00:00:00.000000000",
          "1996-05-01T00:00:00.000000000",
          "1996-06-01T00:00:00.000000000",
          "1996-07-01T00:00:00.000000000",
          "1996-08-01T00:00:00.000000000",
          "1996-09-01T00:00:00.000000000",
          "1996-10-01T00:00:00.000000000",
          "1996-11-01T00:00:00.000000000",
          "1996-12-01T00:00:00.000000000",
          "1997-01-01T00:00:00.000000000",
          "1997-02-01T00:00:00.000000000",
          "1997-03-01T00:00:00.000000000",
          "1997-04-01T00:00:00.000000000",
          "1997-05-01T00:00:00.000000000",
          "1997-06-01T00:00:00.000000000",
          "1997-07-01T00:00:00.000000000",
          "1997-08-01T00:00:00.000000000",
          "1997-09-01T00:00:00.000000000",
          "1997-10-01T00:00:00.000000000",
          "1997-11-01T00:00:00.000000000",
          "1997-12-01T00:00:00.000000000",
          "1998-01-01T00:00:00.000000000",
          "1998-02-01T00:00:00.000000000",
          "1998-03-01T00:00:00.000000000",
          "1998-04-01T00:00:00.000000000",
          "1998-05-01T00:00:00.000000000",
          "1998-06-01T00:00:00.000000000",
          "1998-07-01T00:00:00.000000000",
          "1998-08-01T00:00:00.000000000",
          "1998-09-01T00:00:00.000000000",
          "1998-10-01T00:00:00.000000000",
          "1998-11-01T00:00:00.000000000",
          "1998-12-01T00:00:00.000000000",
          "1999-01-01T00:00:00.000000000",
          "1999-02-01T00:00:00.000000000",
          "1999-03-01T00:00:00.000000000",
          "1999-04-01T00:00:00.000000000",
          "1999-05-01T00:00:00.000000000",
          "1999-06-01T00:00:00.000000000",
          "1999-07-01T00:00:00.000000000",
          "1999-08-01T00:00:00.000000000",
          "1999-09-01T00:00:00.000000000",
          "1999-10-01T00:00:00.000000000",
          "1999-11-01T00:00:00.000000000",
          "1999-12-01T00:00:00.000000000",
          "2000-01-01T00:00:00.000000000",
          "2000-02-01T00:00:00.000000000",
          "2000-03-01T00:00:00.000000000",
          "2000-04-01T00:00:00.000000000",
          "2000-05-01T00:00:00.000000000",
          "2000-06-01T00:00:00.000000000",
          "2000-07-01T00:00:00.000000000",
          "2000-08-01T00:00:00.000000000",
          "2000-09-01T00:00:00.000000000",
          "2000-10-01T00:00:00.000000000",
          "2000-11-01T00:00:00.000000000",
          "2000-12-01T00:00:00.000000000",
          "2001-01-01T00:00:00.000000000",
          "2001-02-01T00:00:00.000000000",
          "2001-03-01T00:00:00.000000000",
          "2001-04-01T00:00:00.000000000",
          "2001-05-01T00:00:00.000000000",
          "2001-06-01T00:00:00.000000000",
          "2001-07-01T00:00:00.000000000",
          "2001-08-01T00:00:00.000000000",
          "2001-09-01T00:00:00.000000000",
          "2001-10-01T00:00:00.000000000",
          "2001-11-01T00:00:00.000000000",
          "2001-12-01T00:00:00.000000000",
          "2002-01-01T00:00:00.000000000",
          "2002-02-01T00:00:00.000000000",
          "2002-03-01T00:00:00.000000000",
          "2002-04-01T00:00:00.000000000",
          "2002-05-01T00:00:00.000000000",
          "2002-06-01T00:00:00.000000000",
          "2002-07-01T00:00:00.000000000",
          "2002-08-01T00:00:00.000000000",
          "2002-09-01T00:00:00.000000000",
          "2002-10-01T00:00:00.000000000",
          "2002-11-01T00:00:00.000000000",
          "2002-12-01T00:00:00.000000000",
          "2003-01-01T00:00:00.000000000",
          "2003-02-01T00:00:00.000000000",
          "2003-03-01T00:00:00.000000000",
          "2003-04-01T00:00:00.000000000",
          "2003-05-01T00:00:00.000000000",
          "2003-06-01T00:00:00.000000000",
          "2003-07-01T00:00:00.000000000",
          "2003-08-01T00:00:00.000000000",
          "2003-09-01T00:00:00.000000000",
          "2003-10-01T00:00:00.000000000",
          "2003-11-01T00:00:00.000000000",
          "2003-12-01T00:00:00.000000000",
          "2004-01-01T00:00:00.000000000",
          "2004-02-01T00:00:00.000000000",
          "2004-03-01T00:00:00.000000000",
          "2004-04-01T00:00:00.000000000",
          "2004-05-01T00:00:00.000000000",
          "2004-06-01T00:00:00.000000000",
          "2004-07-01T00:00:00.000000000",
          "2004-08-01T00:00:00.000000000",
          "2004-09-01T00:00:00.000000000",
          "2004-10-01T00:00:00.000000000",
          "2004-11-01T00:00:00.000000000",
          "2004-12-01T00:00:00.000000000",
          "2005-01-01T00:00:00.000000000",
          "2005-02-01T00:00:00.000000000",
          "2005-03-01T00:00:00.000000000",
          "2005-04-01T00:00:00.000000000",
          "2005-05-01T00:00:00.000000000",
          "2005-06-01T00:00:00.000000000",
          "2005-07-01T00:00:00.000000000",
          "2005-08-01T00:00:00.000000000",
          "2005-09-01T00:00:00.000000000",
          "2005-10-01T00:00:00.000000000",
          "2005-11-01T00:00:00.000000000",
          "2005-12-01T00:00:00.000000000",
          "2006-01-01T00:00:00.000000000",
          "2006-02-01T00:00:00.000000000",
          "2006-03-01T00:00:00.000000000",
          "2006-04-01T00:00:00.000000000",
          "2006-05-01T00:00:00.000000000",
          "2006-06-01T00:00:00.000000000",
          "2006-07-01T00:00:00.000000000",
          "2006-08-01T00:00:00.000000000",
          "2006-09-01T00:00:00.000000000",
          "2006-10-01T00:00:00.000000000",
          "2006-11-01T00:00:00.000000000",
          "2006-12-01T00:00:00.000000000",
          "2007-01-01T00:00:00.000000000",
          "2007-02-01T00:00:00.000000000",
          "2007-03-01T00:00:00.000000000",
          "2007-04-01T00:00:00.000000000",
          "2007-05-01T00:00:00.000000000",
          "2007-06-01T00:00:00.000000000",
          "2007-07-01T00:00:00.000000000",
          "2007-08-01T00:00:00.000000000",
          "2007-09-01T00:00:00.000000000",
          "2007-10-01T00:00:00.000000000",
          "2007-11-01T00:00:00.000000000",
          "2007-12-01T00:00:00.000000000",
          "2008-01-01T00:00:00.000000000",
          "2008-02-01T00:00:00.000000000",
          "2008-03-01T00:00:00.000000000",
          "2008-04-01T00:00:00.000000000",
          "2008-05-01T00:00:00.000000000",
          "2008-06-01T00:00:00.000000000",
          "2008-07-01T00:00:00.000000000",
          "2008-08-01T00:00:00.000000000",
          "2008-09-01T00:00:00.000000000",
          "2008-10-01T00:00:00.000000000",
          "2008-11-01T00:00:00.000000000",
          "2008-12-01T00:00:00.000000000",
          "2009-01-01T00:00:00.000000000",
          "2009-02-01T00:00:00.000000000",
          "2009-03-01T00:00:00.000000000",
          "2009-04-01T00:00:00.000000000",
          "2009-05-01T00:00:00.000000000",
          "2009-06-01T00:00:00.000000000",
          "2009-07-01T00:00:00.000000000",
          "2009-08-01T00:00:00.000000000",
          "2009-09-01T00:00:00.000000000",
          "2009-10-01T00:00:00.000000000",
          "2009-11-01T00:00:00.000000000",
          "2009-12-01T00:00:00.000000000",
          "2010-01-01T00:00:00.000000000",
          "2010-02-01T00:00:00.000000000",
          "2010-03-01T00:00:00.000000000",
          "2010-04-01T00:00:00.000000000",
          "2010-05-01T00:00:00.000000000",
          "2010-06-01T00:00:00.000000000",
          "2010-07-01T00:00:00.000000000",
          "2010-08-01T00:00:00.000000000",
          "2010-09-01T00:00:00.000000000",
          "2010-10-01T00:00:00.000000000",
          "2010-11-01T00:00:00.000000000",
          "2010-12-01T00:00:00.000000000",
          "2011-01-01T00:00:00.000000000",
          "2011-02-01T00:00:00.000000000",
          "2011-03-01T00:00:00.000000000",
          "2011-04-01T00:00:00.000000000",
          "2011-05-01T00:00:00.000000000",
          "2011-06-01T00:00:00.000000000",
          "2011-07-01T00:00:00.000000000",
          "2011-08-01T00:00:00.000000000",
          "2011-09-01T00:00:00.000000000",
          "2011-10-01T00:00:00.000000000",
          "2011-11-01T00:00:00.000000000",
          "2011-12-01T00:00:00.000000000",
          "2012-01-01T00:00:00.000000000",
          "2012-02-01T00:00:00.000000000",
          "2012-03-01T00:00:00.000000000",
          "2012-04-01T00:00:00.000000000",
          "2012-05-01T00:00:00.000000000",
          "2012-06-01T00:00:00.000000000",
          "2012-07-01T00:00:00.000000000",
          "2012-08-01T00:00:00.000000000",
          "2012-09-01T00:00:00.000000000",
          "2012-10-01T00:00:00.000000000",
          "2012-11-01T00:00:00.000000000",
          "2012-12-01T00:00:00.000000000",
          "2013-01-01T00:00:00.000000000",
          "2013-02-01T00:00:00.000000000",
          "2013-03-01T00:00:00.000000000",
          "2013-04-01T00:00:00.000000000",
          "2013-05-01T00:00:00.000000000",
          "2013-06-01T00:00:00.000000000",
          "2013-07-01T00:00:00.000000000",
          "2013-08-01T00:00:00.000000000",
          "2013-09-01T00:00:00.000000000",
          "2013-10-01T00:00:00.000000000",
          "2013-11-01T00:00:00.000000000",
          "2013-12-01T00:00:00.000000000",
          "2014-01-01T00:00:00.000000000",
          "2014-02-01T00:00:00.000000000",
          "2014-03-01T00:00:00.000000000",
          "2014-04-01T00:00:00.000000000",
          "2014-05-01T00:00:00.000000000",
          "2014-06-01T00:00:00.000000000",
          "2014-07-01T00:00:00.000000000",
          "2014-08-01T00:00:00.000000000",
          "2014-09-01T00:00:00.000000000",
          "2014-10-01T00:00:00.000000000",
          "2014-11-01T00:00:00.000000000",
          "2014-12-01T00:00:00.000000000",
          "2015-01-01T00:00:00.000000000",
          "2015-02-01T00:00:00.000000000",
          "2015-03-01T00:00:00.000000000",
          "2015-04-01T00:00:00.000000000",
          "2015-05-01T00:00:00.000000000",
          "2015-06-01T00:00:00.000000000",
          "2015-07-01T00:00:00.000000000",
          "2015-08-01T00:00:00.000000000",
          "2015-09-01T00:00:00.000000000",
          "2015-10-01T00:00:00.000000000",
          "2015-11-01T00:00:00.000000000",
          "2015-12-01T00:00:00.000000000",
          "2016-01-01T00:00:00.000000000",
          "2016-02-01T00:00:00.000000000",
          "2016-03-01T00:00:00.000000000",
          "2016-04-01T00:00:00.000000000",
          "2016-05-01T00:00:00.000000000",
          "2016-06-01T00:00:00.000000000",
          "2016-07-01T00:00:00.000000000",
          "2016-08-01T00:00:00.000000000",
          "2016-09-01T00:00:00.000000000",
          "2016-10-01T00:00:00.000000000",
          "2016-11-01T00:00:00.000000000",
          "2016-12-01T00:00:00.000000000",
          "2017-01-01T00:00:00.000000000",
          "2017-02-01T00:00:00.000000000",
          "2017-03-01T00:00:00.000000000",
          "2017-04-01T00:00:00.000000000",
          "2017-05-01T00:00:00.000000000",
          "2017-06-01T00:00:00.000000000",
          "2017-07-01T00:00:00.000000000",
          "2017-08-01T00:00:00.000000000",
          "2017-09-01T00:00:00.000000000",
          "2017-10-01T00:00:00.000000000",
          "2017-11-01T00:00:00.000000000",
          "2017-12-01T00:00:00.000000000",
          "2018-01-01T00:00:00.000000000",
          "2018-02-01T00:00:00.000000000",
          "2018-03-01T00:00:00.000000000",
          "2018-04-01T00:00:00.000000000",
          "2018-05-01T00:00:00.000000000",
          "2018-06-01T00:00:00.000000000",
          "2018-07-01T00:00:00.000000000",
          "2018-08-01T00:00:00.000000000",
          "2018-09-01T00:00:00.000000000",
          "2018-10-01T00:00:00.000000000",
          "2018-11-01T00:00:00.000000000",
          "2018-12-01T00:00:00.000000000",
          "2019-01-01T00:00:00.000000000",
          "2019-02-01T00:00:00.000000000",
          "2019-03-01T00:00:00.000000000",
          "2019-04-01T00:00:00.000000000",
          "2019-05-01T00:00:00.000000000",
          "2019-06-01T00:00:00.000000000",
          "2019-07-01T00:00:00.000000000",
          "2019-08-01T00:00:00.000000000",
          "2019-09-01T00:00:00.000000000",
          "2019-10-01T00:00:00.000000000",
          "2019-11-01T00:00:00.000000000",
          "2019-12-01T00:00:00.000000000",
          "2020-01-01T00:00:00.000000000",
          "2020-02-01T00:00:00.000000000",
          "2020-03-01T00:00:00.000000000",
          "2020-04-01T00:00:00.000000000",
          "2020-05-01T00:00:00.000000000",
          "2020-06-01T00:00:00.000000000",
          "2020-07-01T00:00:00.000000000",
          "2020-08-01T00:00:00.000000000",
          "2020-09-01T00:00:00.000000000",
          "2020-10-01T00:00:00.000000000",
          "2020-11-01T00:00:00.000000000",
          "2020-12-01T00:00:00.000000000",
          "2021-01-01T00:00:00.000000000",
          "2021-02-01T00:00:00.000000000",
          "2021-03-01T00:00:00.000000000",
          "2021-04-01T00:00:00.000000000",
          "2021-05-01T00:00:00.000000000",
          "2021-06-01T00:00:00.000000000",
          "2021-07-01T00:00:00.000000000",
          "2021-08-01T00:00:00.000000000",
          "2021-09-01T00:00:00.000000000",
          "2021-10-01T00:00:00.000000000",
          "2021-11-01T00:00:00.000000000",
          "2021-12-01T00:00:00.000000000",
          "2022-01-01T00:00:00.000000000",
          "2022-02-01T00:00:00.000000000",
          "2022-03-01T00:00:00.000000000",
          "2022-04-01T00:00:00.000000000",
          "2022-05-01T00:00:00.000000000",
          "2022-06-01T00:00:00.000000000",
          "2022-07-01T00:00:00.000000000",
          "2022-08-01T00:00:00.000000000",
          "2022-09-01T00:00:00.000000000",
          "2022-10-01T00:00:00.000000000",
          "2022-11-01T00:00:00.000000000",
          "2022-12-01T00:00:00.000000000",
          "2023-01-01T00:00:00.000000000",
          "2023-02-01T00:00:00.000000000",
          "2023-03-01T00:00:00.000000000",
          "2023-04-01T00:00:00.000000000",
          "2023-05-01T00:00:00.000000000",
          "2023-06-01T00:00:00.000000000",
          "2023-07-01T00:00:00.000000000",
          "2023-08-01T00:00:00.000000000",
          "2023-09-01T00:00:00.000000000",
          "2023-10-01T00:00:00.000000000",
          "2023-11-01T00:00:00.000000000",
          "2023-12-01T00:00:00.000000000",
          "2024-01-01T00:00:00.000000000",
          "2024-02-01T00:00:00.000000000",
          "2024-03-01T00:00:00.000000000",
          "2024-04-01T00:00:00.000000000",
          "2024-05-01T00:00:00.000000000",
          "2024-06-01T00:00:00.000000000",
          "2024-07-01T00:00:00.000000000",
          "2024-08-01T00:00:00.000000000",
          "2024-09-01T00:00:00.000000000",
          "2024-10-01T00:00:00.000000000",
          "2024-11-01T00:00:00.000000000",
          "2024-12-01T00:00:00.000000000",
          "2025-01-01T00:00:00.000000000",
          "2025-02-01T00:00:00.000000000",
          "2025-03-01T00:00:00.000000000",
          "2025-04-01T00:00:00.000000000",
          "2025-05-01T00:00:00.000000000",
          "2025-06-01T00:00:00.000000000",
          "2025-07-01T00:00:00.000000000"
         ],
         "xaxis": "x2",
         "y": {
          "bdata": "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",
          "dtype": "f8"
         },
         "yaxis": "y2"
        },
        {
         "hovertemplate": "%{x}<br>Temp. Media: %{y:.1f}°C<extra></extra>",
         "line": {
          "color": "#FF8C00",
          "width": 2
         },
         "mode": "lines",
         "name": "Temp. Media",
         "type": "scatter",
         "x": [
          "1980-01-01T00:00:00.000000000",
          "1980-02-01T00:00:00.000000000",
          "1980-03-01T00:00:00.000000000",
          "1980-04-01T00:00:00.000000000",
          "1980-05-01T00:00:00.000000000",
          "1980-06-01T00:00:00.000000000",
          "1980-07-01T00:00:00.000000000",
          "1980-08-01T00:00:00.000000000",
          "1980-09-01T00:00:00.000000000",
          "1980-10-01T00:00:00.000000000",
          "1980-11-01T00:00:00.000000000",
          "1980-12-01T00:00:00.000000000",
          "1981-01-01T00:00:00.000000000",
          "1981-02-01T00:00:00.000000000",
          "1981-03-01T00:00:00.000000000",
          "1981-04-01T00:00:00.000000000",
          "1981-05-01T00:00:00.000000000",
          "1981-06-01T00:00:00.000000000",
          "1981-07-01T00:00:00.000000000",
          "1981-08-01T00:00:00.000000000",
          "1981-09-01T00:00:00.000000000",
          "1981-10-01T00:00:00.000000000",
          "1981-11-01T00:00:00.000000000",
          "1981-12-01T00:00:00.000000000",
          "1982-01-01T00:00:00.000000000",
          "1982-02-01T00:00:00.000000000",
          "1982-03-01T00:00:00.000000000",
          "1982-04-01T00:00:00.000000000",
          "1982-05-01T00:00:00.000000000",
          "1982-06-01T00:00:00.000000000",
          "1982-07-01T00:00:00.000000000",
          "1982-08-01T00:00:00.000000000",
          "1982-09-01T00:00:00.000000000",
          "1982-10-01T00:00:00.000000000",
          "1982-11-01T00:00:00.000000000",
          "1982-12-01T00:00:00.000000000",
          "1983-01-01T00:00:00.000000000",
          "1983-02-01T00:00:00.000000000",
          "1983-03-01T00:00:00.000000000",
          "1983-04-01T00:00:00.000000000",
          "1983-05-01T00:00:00.000000000",
          "1983-06-01T00:00:00.000000000",
          "1983-07-01T00:00:00.000000000",
          "1983-08-01T00:00:00.000000000",
          "1983-09-01T00:00:00.000000000",
          "1983-10-01T00:00:00.000000000",
          "1983-11-01T00:00:00.000000000",
          "1983-12-01T00:00:00.000000000",
          "1984-01-01T00:00:00.000000000",
          "1984-02-01T00:00:00.000000000",
          "1984-03-01T00:00:00.000000000",
          "1984-04-01T00:00:00.000000000",
          "1984-05-01T00:00:00.000000000",
          "1984-06-01T00:00:00.000000000",
          "1984-07-01T00:00:00.000000000",
          "1984-08-01T00:00:00.000000000",
          "1984-09-01T00:00:00.000000000",
          "1984-10-01T00:00:00.000000000",
          "1984-11-01T00:00:00.000000000",
          "1984-12-01T00:00:00.000000000",
          "1985-01-01T00:00:00.000000000",
          "1985-02-01T00:00:00.000000000",
          "1985-03-01T00:00:00.000000000",
          "1985-04-01T00:00:00.000000000",
          "1985-05-01T00:00:00.000000000",
          "1985-06-01T00:00:00.000000000",
          "1985-07-01T00:00:00.000000000",
          "1985-08-01T00:00:00.000000000",
          "1985-09-01T00:00:00.000000000",
          "1985-10-01T00:00:00.000000000",
          "1985-11-01T00:00:00.000000000",
          "1985-12-01T00:00:00.000000000",
          "1986-01-01T00:00:00.000000000",
          "1986-02-01T00:00:00.000000000",
          "1986-03-01T00:00:00.000000000",
          "1986-04-01T00:00:00.000000000",
          "1986-05-01T00:00:00.000000000",
          "1986-06-01T00:00:00.000000000",
          "1986-07-01T00:00:00.000000000",
          "1986-08-01T00:00:00.000000000",
          "1986-09-01T00:00:00.000000000",
          "1986-10-01T00:00:00.000000000",
          "1986-11-01T00:00:00.000000000",
          "1986-12-01T00:00:00.000000000",
          "1987-01-01T00:00:00.000000000",
          "1987-02-01T00:00:00.000000000",
          "1987-03-01T00:00:00.000000000",
          "1987-04-01T00:00:00.000000000",
          "1987-05-01T00:00:00.000000000",
          "1987-06-01T00:00:00.000000000",
          "1987-07-01T00:00:00.000000000",
          "1987-08-01T00:00:00.000000000",
          "1987-09-01T00:00:00.000000000",
          "1987-10-01T00:00:00.000000000",
          "1987-11-01T00:00:00.000000000",
          "1987-12-01T00:00:00.000000000",
          "1988-01-01T00:00:00.000000000",
          "1988-02-01T00:00:00.000000000",
          "1988-03-01T00:00:00.000000000",
          "1988-04-01T00:00:00.000000000",
          "1988-05-01T00:00:00.000000000",
          "1988-06-01T00:00:00.000000000",
          "1988-07-01T00:00:00.000000000",
          "1988-08-01T00:00:00.000000000",
          "1988-09-01T00:00:00.000000000",
          "1988-10-01T00:00:00.000000000",
          "1988-11-01T00:00:00.000000000",
          "1988-12-01T00:00:00.000000000",
          "1989-01-01T00:00:00.000000000",
          "1989-02-01T00:00:00.000000000",
          "1989-03-01T00:00:00.000000000",
          "1989-04-01T00:00:00.000000000",
          "1989-05-01T00:00:00.000000000",
          "1989-06-01T00:00:00.000000000",
          "1989-07-01T00:00:00.000000000",
          "1989-08-01T00:00:00.000000000",
          "1989-09-01T00:00:00.000000000",
          "1989-10-01T00:00:00.000000000",
          "1989-11-01T00:00:00.000000000",
          "1989-12-01T00:00:00.000000000",
          "1990-01-01T00:00:00.000000000",
          "1990-02-01T00:00:00.000000000",
          "1990-03-01T00:00:00.000000000",
          "1990-04-01T00:00:00.000000000",
          "1990-05-01T00:00:00.000000000",
          "1990-06-01T00:00:00.000000000",
          "1990-07-01T00:00:00.000000000",
          "1990-08-01T00:00:00.000000000",
          "1990-09-01T00:00:00.000000000",
          "1990-10-01T00:00:00.000000000",
          "1990-11-01T00:00:00.000000000",
          "1990-12-01T00:00:00.000000000",
          "1991-01-01T00:00:00.000000000",
          "1991-02-01T00:00:00.000000000",
          "1991-03-01T00:00:00.000000000",
          "1991-04-01T00:00:00.000000000",
          "1991-05-01T00:00:00.000000000",
          "1991-06-01T00:00:00.000000000",
          "1991-07-01T00:00:00.000000000",
          "1991-08-01T00:00:00.000000000",
          "1991-09-01T00:00:00.000000000",
          "1991-10-01T00:00:00.000000000",
          "1991-11-01T00:00:00.000000000",
          "1991-12-01T00:00:00.000000000",
          "1992-01-01T00:00:00.000000000",
          "1992-02-01T00:00:00.000000000",
          "1992-03-01T00:00:00.000000000",
          "1992-04-01T00:00:00.000000000",
          "1992-05-01T00:00:00.000000000",
          "1992-06-01T00:00:00.000000000",
          "1992-07-01T00:00:00.000000000",
          "1992-08-01T00:00:00.000000000",
          "1992-09-01T00:00:00.000000000",
          "1992-10-01T00:00:00.000000000",
          "1992-11-01T00:00:00.000000000",
          "1992-12-01T00:00:00.000000000",
          "1993-01-01T00:00:00.000000000",
          "1993-02-01T00:00:00.000000000",
          "1993-03-01T00:00:00.000000000",
          "1993-04-01T00:00:00.000000000",
          "1993-05-01T00:00:00.000000000",
          "1993-06-01T00:00:00.000000000",
          "1993-07-01T00:00:00.000000000",
          "1993-08-01T00:00:00.000000000",
          "1993-09-01T00:00:00.000000000",
          "1993-10-01T00:00:00.000000000",
          "1993-11-01T00:00:00.000000000",
          "1993-12-01T00:00:00.000000000",
          "1994-01-01T00:00:00.000000000",
          "1994-02-01T00:00:00.000000000",
          "1994-03-01T00:00:00.000000000",
          "1994-04-01T00:00:00.000000000",
          "1994-05-01T00:00:00.000000000",
          "1994-06-01T00:00:00.000000000",
          "1994-07-01T00:00:00.000000000",
          "1994-08-01T00:00:00.000000000",
          "1994-09-01T00:00:00.000000000",
          "1994-10-01T00:00:00.000000000",
          "1994-11-01T00:00:00.000000000",
          "1994-12-01T00:00:00.000000000",
          "1995-01-01T00:00:00.000000000",
          "1995-02-01T00:00:00.000000000",
          "1995-03-01T00:00:00.000000000",
          "1995-04-01T00:00:00.000000000",
          "1995-05-01T00:00:00.000000000",
          "1995-06-01T00:00:00.000000000",
          "1995-07-01T00:00:00.000000000",
          "1995-08-01T00:00:00.000000000",
          "1995-09-01T00:00:00.000000000",
          "1995-10-01T00:00:00.000000000",
          "1995-11-01T00:00:00.000000000",
          "1995-12-01T00:00:00.000000000",
          "1996-01-01T00:00:00.000000000",
          "1996-02-01T00:00:00.000000000",
          "1996-03-01T00:00:00.000000000",
          "1996-04-01T00:00:00.000000000",
          "1996-05-01T00:00:00.000000000",
          "1996-06-01T00:00:00.000000000",
          "1996-07-01T00:00:00.000000000",
          "1996-08-01T00:00:00.000000000",
          "1996-09-01T00:00:00.000000000",
          "1996-10-01T00:00:00.000000000",
          "1996-11-01T00:00:00.000000000",
          "1996-12-01T00:00:00.000000000",
          "1997-01-01T00:00:00.000000000",
          "1997-02-01T00:00:00.000000000",
          "1997-03-01T00:00:00.000000000",
          "1997-04-01T00:00:00.000000000",
          "1997-05-01T00:00:00.000000000",
          "1997-06-01T00:00:00.000000000",
          "1997-07-01T00:00:00.000000000",
          "1997-08-01T00:00:00.000000000",
          "1997-09-01T00:00:00.000000000",
          "1997-10-01T00:00:00.000000000",
          "1997-11-01T00:00:00.000000000",
          "1997-12-01T00:00:00.000000000",
          "1998-01-01T00:00:00.000000000",
          "1998-02-01T00:00:00.000000000",
          "1998-03-01T00:00:00.000000000",
          "1998-04-01T00:00:00.000000000",
          "1998-05-01T00:00:00.000000000",
          "1998-06-01T00:00:00.000000000",
          "1998-07-01T00:00:00.000000000",
          "1998-08-01T00:00:00.000000000",
          "1998-09-01T00:00:00.000000000",
          "1998-10-01T00:00:00.000000000",
          "1998-11-01T00:00:00.000000000",
          "1998-12-01T00:00:00.000000000",
          "1999-01-01T00:00:00.000000000",
          "1999-02-01T00:00:00.000000000",
          "1999-03-01T00:00:00.000000000",
          "1999-04-01T00:00:00.000000000",
          "1999-05-01T00:00:00.000000000",
          "1999-06-01T00:00:00.000000000",
          "1999-07-01T00:00:00.000000000",
          "1999-08-01T00:00:00.000000000",
          "1999-09-01T00:00:00.000000000",
          "1999-10-01T00:00:00.000000000",
          "1999-11-01T00:00:00.000000000",
          "1999-12-01T00:00:00.000000000",
          "2000-01-01T00:00:00.000000000",
          "2000-02-01T00:00:00.000000000",
          "2000-03-01T00:00:00.000000000",
          "2000-04-01T00:00:00.000000000",
          "2000-05-01T00:00:00.000000000",
          "2000-06-01T00:00:00.000000000",
          "2000-07-01T00:00:00.000000000",
          "2000-08-01T00:00:00.000000000",
          "2000-09-01T00:00:00.000000000",
          "2000-10-01T00:00:00.000000000",
          "2000-11-01T00:00:00.000000000",
          "2000-12-01T00:00:00.000000000",
          "2001-01-01T00:00:00.000000000",
          "2001-02-01T00:00:00.000000000",
          "2001-03-01T00:00:00.000000000",
          "2001-04-01T00:00:00.000000000",
          "2001-05-01T00:00:00.000000000",
          "2001-06-01T00:00:00.000000000",
          "2001-07-01T00:00:00.000000000",
          "2001-08-01T00:00:00.000000000",
          "2001-09-01T00:00:00.000000000",
          "2001-10-01T00:00:00.000000000",
          "2001-11-01T00:00:00.000000000",
          "2001-12-01T00:00:00.000000000",
          "2002-01-01T00:00:00.000000000",
          "2002-02-01T00:00:00.000000000",
          "2002-03-01T00:00:00.000000000",
          "2002-04-01T00:00:00.000000000",
          "2002-05-01T00:00:00.000000000",
          "2002-06-01T00:00:00.000000000",
          "2002-07-01T00:00:00.000000000",
          "2002-08-01T00:00:00.000000000",
          "2002-09-01T00:00:00.000000000",
          "2002-10-01T00:00:00.000000000",
          "2002-11-01T00:00:00.000000000",
          "2002-12-01T00:00:00.000000000",
          "2003-01-01T00:00:00.000000000",
          "2003-02-01T00:00:00.000000000",
          "2003-03-01T00:00:00.000000000",
          "2003-04-01T00:00:00.000000000",
          "2003-05-01T00:00:00.000000000",
          "2003-06-01T00:00:00.000000000",
          "2003-07-01T00:00:00.000000000",
          "2003-08-01T00:00:00.000000000",
          "2003-09-01T00:00:00.000000000",
          "2003-10-01T00:00:00.000000000",
          "2003-11-01T00:00:00.000000000",
          "2003-12-01T00:00:00.000000000",
          "2004-01-01T00:00:00.000000000",
          "2004-02-01T00:00:00.000000000",
          "2004-03-01T00:00:00.000000000",
          "2004-04-01T00:00:00.000000000",
          "2004-05-01T00:00:00.000000000",
          "2004-06-01T00:00:00.000000000",
          "2004-07-01T00:00:00.000000000",
          "2004-08-01T00:00:00.000000000",
          "2004-09-01T00:00:00.000000000",
          "2004-10-01T00:00:00.000000000",
          "2004-11-01T00:00:00.000000000",
          "2004-12-01T00:00:00.000000000",
          "2005-01-01T00:00:00.000000000",
          "2005-02-01T00:00:00.000000000",
          "2005-03-01T00:00:00.000000000",
          "2005-04-01T00:00:00.000000000",
          "2005-05-01T00:00:00.000000000",
          "2005-06-01T00:00:00.000000000",
          "2005-07-01T00:00:00.000000000",
          "2005-08-01T00:00:00.000000000",
          "2005-09-01T00:00:00.000000000",
          "2005-10-01T00:00:00.000000000",
          "2005-11-01T00:00:00.000000000",
          "2005-12-01T00:00:00.000000000",
          "2006-01-01T00:00:00.000000000",
          "2006-02-01T00:00:00.000000000",
          "2006-03-01T00:00:00.000000000",
          "2006-04-01T00:00:00.000000000",
          "2006-05-01T00:00:00.000000000",
          "2006-06-01T00:00:00.000000000",
          "2006-07-01T00:00:00.000000000",
          "2006-08-01T00:00:00.000000000",
          "2006-09-01T00:00:00.000000000",
          "2006-10-01T00:00:00.000000000",
          "2006-11-01T00:00:00.000000000",
          "2006-12-01T00:00:00.000000000",
          "2007-01-01T00:00:00.000000000",
          "2007-02-01T00:00:00.000000000",
          "2007-03-01T00:00:00.000000000",
          "2007-04-01T00:00:00.000000000",
          "2007-05-01T00:00:00.000000000",
          "2007-06-01T00:00:00.000000000",
          "2007-07-01T00:00:00.000000000",
          "2007-08-01T00:00:00.000000000",
          "2007-09-01T00:00:00.000000000",
          "2007-10-01T00:00:00.000000000",
          "2007-11-01T00:00:00.000000000",
          "2007-12-01T00:00:00.000000000",
          "2008-01-01T00:00:00.000000000",
          "2008-02-01T00:00:00.000000000",
          "2008-03-01T00:00:00.000000000",
          "2008-04-01T00:00:00.000000000",
          "2008-05-01T00:00:00.000000000",
          "2008-06-01T00:00:00.000000000",
          "2008-07-01T00:00:00.000000000",
          "2008-08-01T00:00:00.000000000",
          "2008-09-01T00:00:00.000000000",
          "2008-10-01T00:00:00.000000000",
          "2008-11-01T00:00:00.000000000",
          "2008-12-01T00:00:00.000000000",
          "2009-01-01T00:00:00.000000000",
          "2009-02-01T00:00:00.000000000",
          "2009-03-01T00:00:00.000000000",
          "2009-04-01T00:00:00.000000000",
          "2009-05-01T00:00:00.000000000",
          "2009-06-01T00:00:00.000000000",
          "2009-07-01T00:00:00.000000000",
          "2009-08-01T00:00:00.000000000",
          "2009-09-01T00:00:00.000000000",
          "2009-10-01T00:00:00.000000000",
          "2009-11-01T00:00:00.000000000",
          "2009-12-01T00:00:00.000000000",
          "2010-01-01T00:00:00.000000000",
          "2010-02-01T00:00:00.000000000",
          "2010-03-01T00:00:00.000000000",
          "2010-04-01T00:00:00.000000000",
          "2010-05-01T00:00:00.000000000",
          "2010-06-01T00:00:00.000000000",
          "2010-07-01T00:00:00.000000000",
          "2010-08-01T00:00:00.000000000",
          "2010-09-01T00:00:00.000000000",
          "2010-10-01T00:00:00.000000000",
          "2010-11-01T00:00:00.000000000",
          "2010-12-01T00:00:00.000000000",
          "2011-01-01T00:00:00.000000000",
          "2011-02-01T00:00:00.000000000",
          "2011-03-01T00:00:00.000000000",
          "2011-04-01T00:00:00.000000000",
          "2011-05-01T00:00:00.000000000",
          "2011-06-01T00:00:00.000000000",
          "2011-07-01T00:00:00.000000000",
          "2011-08-01T00:00:00.000000000",
          "2011-09-01T00:00:00.000000000",
          "2011-10-01T00:00:00.000000000",
          "2011-11-01T00:00:00.000000000",
          "2011-12-01T00:00:00.000000000",
          "2012-01-01T00:00:00.000000000",
          "2012-02-01T00:00:00.000000000",
          "2012-03-01T00:00:00.000000000",
          "2012-04-01T00:00:00.000000000",
          "2012-05-01T00:00:00.000000000",
          "2012-06-01T00:00:00.000000000",
          "2012-07-01T00:00:00.000000000",
          "2012-08-01T00:00:00.000000000",
          "2012-09-01T00:00:00.000000000",
          "2012-10-01T00:00:00.000000000",
          "2012-11-01T00:00:00.000000000",
          "2012-12-01T00:00:00.000000000",
          "2013-01-01T00:00:00.000000000",
          "2013-02-01T00:00:00.000000000",
          "2013-03-01T00:00:00.000000000",
          "2013-04-01T00:00:00.000000000",
          "2013-05-01T00:00:00.000000000",
          "2013-06-01T00:00:00.000000000",
          "2013-07-01T00:00:00.000000000",
          "2013-08-01T00:00:00.000000000",
          "2013-09-01T00:00:00.000000000",
          "2013-10-01T00:00:00.000000000",
          "2013-11-01T00:00:00.000000000",
          "2013-12-01T00:00:00.000000000",
          "2014-01-01T00:00:00.000000000",
          "2014-02-01T00:00:00.000000000",
          "2014-03-01T00:00:00.000000000",
          "2014-04-01T00:00:00.000000000",
          "2014-05-01T00:00:00.000000000",
          "2014-06-01T00:00:00.000000000",
          "2014-07-01T00:00:00.000000000",
          "2014-08-01T00:00:00.000000000",
          "2014-09-01T00:00:00.000000000",
          "2014-10-01T00:00:00.000000000",
          "2014-11-01T00:00:00.000000000",
          "2014-12-01T00:00:00.000000000",
          "2015-01-01T00:00:00.000000000",
          "2015-02-01T00:00:00.000000000",
          "2015-03-01T00:00:00.000000000",
          "2015-04-01T00:00:00.000000000",
          "2015-05-01T00:00:00.000000000",
          "2015-06-01T00:00:00.000000000",
          "2015-07-01T00:00:00.000000000",
          "2015-08-01T00:00:00.000000000",
          "2015-09-01T00:00:00.000000000",
          "2015-10-01T00:00:00.000000000",
          "2015-11-01T00:00:00.000000000",
          "2015-12-01T00:00:00.000000000",
          "2016-01-01T00:00:00.000000000",
          "2016-02-01T00:00:00.000000000",
          "2016-03-01T00:00:00.000000000",
          "2016-04-01T00:00:00.000000000",
          "2016-05-01T00:00:00.000000000",
          "2016-06-01T00:00:00.000000000",
          "2016-07-01T00:00:00.000000000",
          "2016-08-01T00:00:00.000000000",
          "2016-09-01T00:00:00.000000000",
          "2016-10-01T00:00:00.000000000",
          "2016-11-01T00:00:00.000000000",
          "2016-12-01T00:00:00.000000000",
          "2017-01-01T00:00:00.000000000",
          "2017-02-01T00:00:00.000000000",
          "2017-03-01T00:00:00.000000000",
          "2017-04-01T00:00:00.000000000",
          "2017-05-01T00:00:00.000000000",
          "2017-06-01T00:00:00.000000000",
          "2017-07-01T00:00:00.000000000",
          "2017-08-01T00:00:00.000000000",
          "2017-09-01T00:00:00.000000000",
          "2017-10-01T00:00:00.000000000",
          "2017-11-01T00:00:00.000000000",
          "2017-12-01T00:00:00.000000000",
          "2018-01-01T00:00:00.000000000",
          "2018-02-01T00:00:00.000000000",
          "2018-03-01T00:00:00.000000000",
          "2018-04-01T00:00:00.000000000",
          "2018-05-01T00:00:00.000000000",
          "2018-06-01T00:00:00.000000000",
          "2018-07-01T00:00:00.000000000",
          "2018-08-01T00:00:00.000000000",
          "2018-09-01T00:00:00.000000000",
          "2018-10-01T00:00:00.000000000",
          "2018-11-01T00:00:00.000000000",
          "2018-12-01T00:00:00.000000000",
          "2019-01-01T00:00:00.000000000",
          "2019-02-01T00:00:00.000000000",
          "2019-03-01T00:00:00.000000000",
          "2019-04-01T00:00:00.000000000",
          "2019-05-01T00:00:00.000000000",
          "2019-06-01T00:00:00.000000000",
          "2019-07-01T00:00:00.000000000",
          "2019-08-01T00:00:00.000000000",
          "2019-09-01T00:00:00.000000000",
          "2019-10-01T00:00:00.000000000",
          "2019-11-01T00:00:00.000000000",
          "2019-12-01T00:00:00.000000000",
          "2020-01-01T00:00:00.000000000",
          "2020-02-01T00:00:00.000000000",
          "2020-03-01T00:00:00.000000000",
          "2020-04-01T00:00:00.000000000",
          "2020-05-01T00:00:00.000000000",
          "2020-06-01T00:00:00.000000000",
          "2020-07-01T00:00:00.000000000",
          "2020-08-01T00:00:00.000000000",
          "2020-09-01T00:00:00.000000000",
          "2020-10-01T00:00:00.000000000",
          "2020-11-01T00:00:00.000000000",
          "2020-12-01T00:00:00.000000000",
          "2021-01-01T00:00:00.000000000",
          "2021-02-01T00:00:00.000000000",
          "2021-03-01T00:00:00.000000000",
          "2021-04-01T00:00:00.000000000",
          "2021-05-01T00:00:00.000000000",
          "2021-06-01T00:00:00.000000000",
          "2021-07-01T00:00:00.000000000",
          "2021-08-01T00:00:00.000000000",
          "2021-09-01T00:00:00.000000000",
          "2021-10-01T00:00:00.000000000",
          "2021-11-01T00:00:00.000000000",
          "2021-12-01T00:00:00.000000000",
          "2022-01-01T00:00:00.000000000",
          "2022-02-01T00:00:00.000000000",
          "2022-03-01T00:00:00.000000000",
          "2022-04-01T00:00:00.000000000",
          "2022-05-01T00:00:00.000000000",
          "2022-06-01T00:00:00.000000000",
          "2022-07-01T00:00:00.000000000",
          "2022-08-01T00:00:00.000000000",
          "2022-09-01T00:00:00.000000000",
          "2022-10-01T00:00:00.000000000",
          "2022-11-01T00:00:00.000000000",
          "2022-12-01T00:00:00.000000000",
          "2023-01-01T00:00:00.000000000",
          "2023-02-01T00:00:00.000000000",
          "2023-03-01T00:00:00.000000000",
          "2023-04-01T00:00:00.000000000",
          "2023-05-01T00:00:00.000000000",
          "2023-06-01T00:00:00.000000000",
          "2023-07-01T00:00:00.000000000",
          "2023-08-01T00:00:00.000000000",
          "2023-09-01T00:00:00.000000000",
          "2023-10-01T00:00:00.000000000",
          "2023-11-01T00:00:00.000000000",
          "2023-12-01T00:00:00.000000000",
          "2024-01-01T00:00:00.000000000",
          "2024-02-01T00:00:00.000000000",
          "2024-03-01T00:00:00.000000000",
          "2024-04-01T00:00:00.000000000",
          "2024-05-01T00:00:00.000000000",
          "2024-06-01T00:00:00.000000000",
          "2024-07-01T00:00:00.000000000",
          "2024-08-01T00:00:00.000000000",
          "2024-09-01T00:00:00.000000000",
          "2024-10-01T00:00:00.000000000",
          "2024-11-01T00:00:00.000000000",
          "2024-12-01T00:00:00.000000000",
          "2025-01-01T00:00:00.000000000",
          "2025-02-01T00:00:00.000000000",
          "2025-03-01T00:00:00.000000000",
          "2025-04-01T00:00:00.000000000",
          "2025-05-01T00:00:00.000000000",
          "2025-06-01T00:00:00.000000000",
          "2025-07-01T00:00:00.000000000"
         ],
         "xaxis": "x3",
         "y": {
          "bdata": "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",
          "dtype": "f8"
         },
         "yaxis": "y3"
        },
        {
         "hovertemplate": "Tendencia: %{y:.1f}°C<extra></extra>",
         "line": {
          "color": "red",
          "dash": "dash",
          "width": 3
         },
         "mode": "lines",
         "name": "Tendencia",
         "type": "scatter",
         "x": [
          "1980-01-01T00:00:00.000000000",
          "1980-02-01T00:00:00.000000000",
          "1980-03-01T00:00:00.000000000",
          "1980-04-01T00:00:00.000000000",
          "1980-05-01T00:00:00.000000000",
          "1980-06-01T00:00:00.000000000",
          "1980-07-01T00:00:00.000000000",
          "1980-08-01T00:00:00.000000000",
          "1980-09-01T00:00:00.000000000",
          "1980-10-01T00:00:00.000000000",
          "1980-11-01T00:00:00.000000000",
          "1980-12-01T00:00:00.000000000",
          "1981-01-01T00:00:00.000000000",
          "1981-02-01T00:00:00.000000000",
          "1981-03-01T00:00:00.000000000",
          "1981-04-01T00:00:00.000000000",
          "1981-05-01T00:00:00.000000000",
          "1981-06-01T00:00:00.000000000",
          "1981-07-01T00:00:00.000000000",
          "1981-08-01T00:00:00.000000000",
          "1981-09-01T00:00:00.000000000",
          "1981-10-01T00:00:00.000000000",
          "1981-11-01T00:00:00.000000000",
          "1981-12-01T00:00:00.000000000",
          "1982-01-01T00:00:00.000000000",
          "1982-02-01T00:00:00.000000000",
          "1982-03-01T00:00:00.000000000",
          "1982-04-01T00:00:00.000000000",
          "1982-05-01T00:00:00.000000000",
          "1982-06-01T00:00:00.000000000",
          "1982-07-01T00:00:00.000000000",
          "1982-08-01T00:00:00.000000000",
          "1982-09-01T00:00:00.000000000",
          "1982-10-01T00:00:00.000000000",
          "1982-11-01T00:00:00.000000000",
          "1982-12-01T00:00:00.000000000",
          "1983-01-01T00:00:00.000000000",
          "1983-02-01T00:00:00.000000000",
          "1983-03-01T00:00:00.000000000",
          "1983-04-01T00:00:00.000000000",
          "1983-05-01T00:00:00.000000000",
          "1983-06-01T00:00:00.000000000",
          "1983-07-01T00:00:00.000000000",
          "1983-08-01T00:00:00.000000000",
          "1983-09-01T00:00:00.000000000",
          "1983-10-01T00:00:00.000000000",
          "1983-11-01T00:00:00.000000000",
          "1983-12-01T00:00:00.000000000",
          "1984-01-01T00:00:00.000000000",
          "1984-02-01T00:00:00.000000000",
          "1984-03-01T00:00:00.000000000",
          "1984-04-01T00:00:00.000000000",
          "1984-05-01T00:00:00.000000000",
          "1984-06-01T00:00:00.000000000",
          "1984-07-01T00:00:00.000000000",
          "1984-08-01T00:00:00.000000000",
          "1984-09-01T00:00:00.000000000",
          "1984-10-01T00:00:00.000000000",
          "1984-11-01T00:00:00.000000000",
          "1984-12-01T00:00:00.000000000",
          "1985-01-01T00:00:00.000000000",
          "1985-02-01T00:00:00.000000000",
          "1985-03-01T00:00:00.000000000",
          "1985-04-01T00:00:00.000000000",
          "1985-05-01T00:00:00.000000000",
          "1985-06-01T00:00:00.000000000",
          "1985-07-01T00:00:00.000000000",
          "1985-08-01T00:00:00.000000000",
          "1985-09-01T00:00:00.000000000",
          "1985-10-01T00:00:00.000000000",
          "1985-11-01T00:00:00.000000000",
          "1985-12-01T00:00:00.000000000",
          "1986-01-01T00:00:00.000000000",
          "1986-02-01T00:00:00.000000000",
          "1986-03-01T00:00:00.000000000",
          "1986-04-01T00:00:00.000000000",
          "1986-05-01T00:00:00.000000000",
          "1986-06-01T00:00:00.000000000",
          "1986-07-01T00:00:00.000000000",
          "1986-08-01T00:00:00.000000000",
          "1986-09-01T00:00:00.000000000",
          "1986-10-01T00:00:00.000000000",
          "1986-11-01T00:00:00.000000000",
          "1986-12-01T00:00:00.000000000",
          "1987-01-01T00:00:00.000000000",
          "1987-02-01T00:00:00.000000000",
          "1987-03-01T00:00:00.000000000",
          "1987-04-01T00:00:00.000000000",
          "1987-05-01T00:00:00.000000000",
          "1987-06-01T00:00:00.000000000",
          "1987-07-01T00:00:00.000000000",
          "1987-08-01T00:00:00.000000000",
          "1987-09-01T00:00:00.000000000",
          "1987-10-01T00:00:00.000000000",
          "1987-11-01T00:00:00.000000000",
          "1987-12-01T00:00:00.000000000",
          "1988-01-01T00:00:00.000000000",
          "1988-02-01T00:00:00.000000000",
          "1988-03-01T00:00:00.000000000",
          "1988-04-01T00:00:00.000000000",
          "1988-05-01T00:00:00.000000000",
          "1988-06-01T00:00:00.000000000",
          "1988-07-01T00:00:00.000000000",
          "1988-08-01T00:00:00.000000000",
          "1988-09-01T00:00:00.000000000",
          "1988-10-01T00:00:00.000000000",
          "1988-11-01T00:00:00.000000000",
          "1988-12-01T00:00:00.000000000",
          "1989-01-01T00:00:00.000000000",
          "1989-02-01T00:00:00.000000000",
          "1989-03-01T00:00:00.000000000",
          "1989-04-01T00:00:00.000000000",
          "1989-05-01T00:00:00.000000000",
          "1989-06-01T00:00:00.000000000",
          "1989-07-01T00:00:00.000000000",
          "1989-08-01T00:00:00.000000000",
          "1989-09-01T00:00:00.000000000",
          "1989-10-01T00:00:00.000000000",
          "1989-11-01T00:00:00.000000000",
          "1989-12-01T00:00:00.000000000",
          "1990-01-01T00:00:00.000000000",
          "1990-02-01T00:00:00.000000000",
          "1990-03-01T00:00:00.000000000",
          "1990-04-01T00:00:00.000000000",
          "1990-05-01T00:00:00.000000000",
          "1990-06-01T00:00:00.000000000",
          "1990-07-01T00:00:00.000000000",
          "1990-08-01T00:00:00.000000000",
          "1990-09-01T00:00:00.000000000",
          "1990-10-01T00:00:00.000000000",
          "1990-11-01T00:00:00.000000000",
          "1990-12-01T00:00:00.000000000",
          "1991-01-01T00:00:00.000000000",
          "1991-02-01T00:00:00.000000000",
          "1991-03-01T00:00:00.000000000",
          "1991-04-01T00:00:00.000000000",
          "1991-05-01T00:00:00.000000000",
          "1991-06-01T00:00:00.000000000",
          "1991-07-01T00:00:00.000000000",
          "1991-08-01T00:00:00.000000000",
          "1991-09-01T00:00:00.000000000",
          "1991-10-01T00:00:00.000000000",
          "1991-11-01T00:00:00.000000000",
          "1991-12-01T00:00:00.000000000",
          "1992-01-01T00:00:00.000000000",
          "1992-02-01T00:00:00.000000000",
          "1992-03-01T00:00:00.000000000",
          "1992-04-01T00:00:00.000000000",
          "1992-05-01T00:00:00.000000000",
          "1992-06-01T00:00:00.000000000",
          "1992-07-01T00:00:00.000000000",
          "1992-08-01T00:00:00.000000000",
          "1992-09-01T00:00:00.000000000",
          "1992-10-01T00:00:00.000000000",
          "1992-11-01T00:00:00.000000000",
          "1992-12-01T00:00:00.000000000",
          "1993-01-01T00:00:00.000000000",
          "1993-02-01T00:00:00.000000000",
          "1993-03-01T00:00:00.000000000",
          "1993-04-01T00:00:00.000000000",
          "1993-05-01T00:00:00.000000000",
          "1993-06-01T00:00:00.000000000",
          "1993-07-01T00:00:00.000000000",
          "1993-08-01T00:00:00.000000000",
          "1993-09-01T00:00:00.000000000",
          "1993-10-01T00:00:00.000000000",
          "1993-11-01T00:00:00.000000000",
          "1993-12-01T00:00:00.000000000",
          "1994-01-01T00:00:00.000000000",
          "1994-02-01T00:00:00.000000000",
          "1994-03-01T00:00:00.000000000",
          "1994-04-01T00:00:00.000000000",
          "1994-05-01T00:00:00.000000000",
          "1994-06-01T00:00:00.000000000",
          "1994-07-01T00:00:00.000000000",
          "1994-08-01T00:00:00.000000000",
          "1994-09-01T00:00:00.000000000",
          "1994-10-01T00:00:00.000000000",
          "1994-11-01T00:00:00.000000000",
          "1994-12-01T00:00:00.000000000",
          "1995-01-01T00:00:00.000000000",
          "1995-02-01T00:00:00.000000000",
          "1995-03-01T00:00:00.000000000",
          "1995-04-01T00:00:00.000000000",
          "1995-05-01T00:00:00.000000000",
          "1995-06-01T00:00:00.000000000",
          "1995-07-01T00:00:00.000000000",
          "1995-08-01T00:00:00.000000000",
          "1995-09-01T00:00:00.000000000",
          "1995-10-01T00:00:00.000000000",
          "1995-11-01T00:00:00.000000000",
          "1995-12-01T00:00:00.000000000",
          "1996-01-01T00:00:00.000000000",
          "1996-02-01T00:00:00.000000000",
          "1996-03-01T00:00:00.000000000",
          "1996-04-01T00:00:00.000000000",
          "1996-05-01T00:00:00.000000000",
          "1996-06-01T00:00:00.000000000",
          "1996-07-01T00:00:00.000000000",
          "1996-08-01T00:00:00.000000000",
          "1996-09-01T00:00:00.000000000",
          "1996-10-01T00:00:00.000000000",
          "1996-11-01T00:00:00.000000000",
          "1996-12-01T00:00:00.000000000",
          "1997-01-01T00:00:00.000000000",
          "1997-02-01T00:00:00.000000000",
          "1997-03-01T00:00:00.000000000",
          "1997-04-01T00:00:00.000000000",
          "1997-05-01T00:00:00.000000000",
          "1997-06-01T00:00:00.000000000",
          "1997-07-01T00:00:00.000000000",
          "1997-08-01T00:00:00.000000000",
          "1997-09-01T00:00:00.000000000",
          "1997-10-01T00:00:00.000000000",
          "1997-11-01T00:00:00.000000000",
          "1997-12-01T00:00:00.000000000",
          "1998-01-01T00:00:00.000000000",
          "1998-02-01T00:00:00.000000000",
          "1998-03-01T00:00:00.000000000",
          "1998-04-01T00:00:00.000000000",
          "1998-05-01T00:00:00.000000000",
          "1998-06-01T00:00:00.000000000",
          "1998-07-01T00:00:00.000000000",
          "1998-08-01T00:00:00.000000000",
          "1998-09-01T00:00:00.000000000",
          "1998-10-01T00:00:00.000000000",
          "1998-11-01T00:00:00.000000000",
          "1998-12-01T00:00:00.000000000",
          "1999-01-01T00:00:00.000000000",
          "1999-02-01T00:00:00.000000000",
          "1999-03-01T00:00:00.000000000",
          "1999-04-01T00:00:00.000000000",
          "1999-05-01T00:00:00.000000000",
          "1999-06-01T00:00:00.000000000",
          "1999-07-01T00:00:00.000000000",
          "1999-08-01T00:00:00.000000000",
          "1999-09-01T00:00:00.000000000",
          "1999-10-01T00:00:00.000000000",
          "1999-11-01T00:00:00.000000000",
          "1999-12-01T00:00:00.000000000",
          "2000-01-01T00:00:00.000000000",
          "2000-02-01T00:00:00.000000000",
          "2000-03-01T00:00:00.000000000",
          "2000-04-01T00:00:00.000000000",
          "2000-05-01T00:00:00.000000000",
          "2000-06-01T00:00:00.000000000",
          "2000-07-01T00:00:00.000000000",
          "2000-08-01T00:00:00.000000000",
          "2000-09-01T00:00:00.000000000",
          "2000-10-01T00:00:00.000000000",
          "2000-11-01T00:00:00.000000000",
          "2000-12-01T00:00:00.000000000",
          "2001-01-01T00:00:00.000000000",
          "2001-02-01T00:00:00.000000000",
          "2001-03-01T00:00:00.000000000",
          "2001-04-01T00:00:00.000000000",
          "2001-05-01T00:00:00.000000000",
          "2001-06-01T00:00:00.000000000",
          "2001-07-01T00:00:00.000000000",
          "2001-08-01T00:00:00.000000000",
          "2001-09-01T00:00:00.000000000",
          "2001-10-01T00:00:00.000000000",
          "2001-11-01T00:00:00.000000000",
          "2001-12-01T00:00:00.000000000",
          "2002-01-01T00:00:00.000000000",
          "2002-02-01T00:00:00.000000000",
          "2002-03-01T00:00:00.000000000",
          "2002-04-01T00:00:00.000000000",
          "2002-05-01T00:00:00.000000000",
          "2002-06-01T00:00:00.000000000",
          "2002-07-01T00:00:00.000000000",
          "2002-08-01T00:00:00.000000000",
          "2002-09-01T00:00:00.000000000",
          "2002-10-01T00:00:00.000000000",
          "2002-11-01T00:00:00.000000000",
          "2002-12-01T00:00:00.000000000",
          "2003-01-01T00:00:00.000000000",
          "2003-02-01T00:00:00.000000000",
          "2003-03-01T00:00:00.000000000",
          "2003-04-01T00:00:00.000000000",
          "2003-05-01T00:00:00.000000000",
          "2003-06-01T00:00:00.000000000",
          "2003-07-01T00:00:00.000000000",
          "2003-08-01T00:00:00.000000000",
          "2003-09-01T00:00:00.000000000",
          "2003-10-01T00:00:00.000000000",
          "2003-11-01T00:00:00.000000000",
          "2003-12-01T00:00:00.000000000",
          "2004-01-01T00:00:00.000000000",
          "2004-02-01T00:00:00.000000000",
          "2004-03-01T00:00:00.000000000",
          "2004-04-01T00:00:00.000000000",
          "2004-05-01T00:00:00.000000000",
          "2004-06-01T00:00:00.000000000",
          "2004-07-01T00:00:00.000000000",
          "2004-08-01T00:00:00.000000000",
          "2004-09-01T00:00:00.000000000",
          "2004-10-01T00:00:00.000000000",
          "2004-11-01T00:00:00.000000000",
          "2004-12-01T00:00:00.000000000",
          "2005-01-01T00:00:00.000000000",
          "2005-02-01T00:00:00.000000000",
          "2005-03-01T00:00:00.000000000",
          "2005-04-01T00:00:00.000000000",
          "2005-05-01T00:00:00.000000000",
          "2005-06-01T00:00:00.000000000",
          "2005-07-01T00:00:00.000000000",
          "2005-08-01T00:00:00.000000000",
          "2005-09-01T00:00:00.000000000",
          "2005-10-01T00:00:00.000000000",
          "2005-11-01T00:00:00.000000000",
          "2005-12-01T00:00:00.000000000",
          "2006-01-01T00:00:00.000000000",
          "2006-02-01T00:00:00.000000000",
          "2006-03-01T00:00:00.000000000",
          "2006-04-01T00:00:00.000000000",
          "2006-05-01T00:00:00.000000000",
          "2006-06-01T00:00:00.000000000",
          "2006-07-01T00:00:00.000000000",
          "2006-08-01T00:00:00.000000000",
          "2006-09-01T00:00:00.000000000",
          "2006-10-01T00:00:00.000000000",
          "2006-11-01T00:00:00.000000000",
          "2006-12-01T00:00:00.000000000",
          "2007-01-01T00:00:00.000000000",
          "2007-02-01T00:00:00.000000000",
          "2007-03-01T00:00:00.000000000",
          "2007-04-01T00:00:00.000000000",
          "2007-05-01T00:00:00.000000000",
          "2007-06-01T00:00:00.000000000",
          "2007-07-01T00:00:00.000000000",
          "2007-08-01T00:00:00.000000000",
          "2007-09-01T00:00:00.000000000",
          "2007-10-01T00:00:00.000000000",
          "2007-11-01T00:00:00.000000000",
          "2007-12-01T00:00:00.000000000",
          "2008-01-01T00:00:00.000000000",
          "2008-02-01T00:00:00.000000000",
          "2008-03-01T00:00:00.000000000",
          "2008-04-01T00:00:00.000000000",
          "2008-05-01T00:00:00.000000000",
          "2008-06-01T00:00:00.000000000",
          "2008-07-01T00:00:00.000000000",
          "2008-08-01T00:00:00.000000000",
          "2008-09-01T00:00:00.000000000",
          "2008-10-01T00:00:00.000000000",
          "2008-11-01T00:00:00.000000000",
          "2008-12-01T00:00:00.000000000",
          "2009-01-01T00:00:00.000000000",
          "2009-02-01T00:00:00.000000000",
          "2009-03-01T00:00:00.000000000",
          "2009-04-01T00:00:00.000000000",
          "2009-05-01T00:00:00.000000000",
          "2009-06-01T00:00:00.000000000",
          "2009-07-01T00:00:00.000000000",
          "2009-08-01T00:00:00.000000000",
          "2009-09-01T00:00:00.000000000",
          "2009-10-01T00:00:00.000000000",
          "2009-11-01T00:00:00.000000000",
          "2009-12-01T00:00:00.000000000",
          "2010-01-01T00:00:00.000000000",
          "2010-02-01T00:00:00.000000000",
          "2010-03-01T00:00:00.000000000",
          "2010-04-01T00:00:00.000000000",
          "2010-05-01T00:00:00.000000000",
          "2010-06-01T00:00:00.000000000",
          "2010-07-01T00:00:00.000000000",
          "2010-08-01T00:00:00.000000000",
          "2010-09-01T00:00:00.000000000",
          "2010-10-01T00:00:00.000000000",
          "2010-11-01T00:00:00.000000000",
          "2010-12-01T00:00:00.000000000",
          "2011-01-01T00:00:00.000000000",
          "2011-02-01T00:00:00.000000000",
          "2011-03-01T00:00:00.000000000",
          "2011-04-01T00:00:00.000000000",
          "2011-05-01T00:00:00.000000000",
          "2011-06-01T00:00:00.000000000",
          "2011-07-01T00:00:00.000000000",
          "2011-08-01T00:00:00.000000000",
          "2011-09-01T00:00:00.000000000",
          "2011-10-01T00:00:00.000000000",
          "2011-11-01T00:00:00.000000000",
          "2011-12-01T00:00:00.000000000",
          "2012-01-01T00:00:00.000000000",
          "2012-02-01T00:00:00.000000000",
          "2012-03-01T00:00:00.000000000",
          "2012-04-01T00:00:00.000000000",
          "2012-05-01T00:00:00.000000000",
          "2012-06-01T00:00:00.000000000",
          "2012-07-01T00:00:00.000000000",
          "2012-08-01T00:00:00.000000000",
          "2012-09-01T00:00:00.000000000",
          "2012-10-01T00:00:00.000000000",
          "2012-11-01T00:00:00.000000000",
          "2012-12-01T00:00:00.000000000",
          "2013-01-01T00:00:00.000000000",
          "2013-02-01T00:00:00.000000000",
          "2013-03-01T00:00:00.000000000",
          "2013-04-01T00:00:00.000000000",
          "2013-05-01T00:00:00.000000000",
          "2013-06-01T00:00:00.000000000",
          "2013-07-01T00:00:00.000000000",
          "2013-08-01T00:00:00.000000000",
          "2013-09-01T00:00:00.000000000",
          "2013-10-01T00:00:00.000000000",
          "2013-11-01T00:00:00.000000000",
          "2013-12-01T00:00:00.000000000",
          "2014-01-01T00:00:00.000000000",
          "2014-02-01T00:00:00.000000000",
          "2014-03-01T00:00:00.000000000",
          "2014-04-01T00:00:00.000000000",
          "2014-05-01T00:00:00.000000000",
          "2014-06-01T00:00:00.000000000",
          "2014-07-01T00:00:00.000000000",
          "2014-08-01T00:00:00.000000000",
          "2014-09-01T00:00:00.000000000",
          "2014-10-01T00:00:00.000000000",
          "2014-11-01T00:00:00.000000000",
          "2014-12-01T00:00:00.000000000",
          "2015-01-01T00:00:00.000000000",
          "2015-02-01T00:00:00.000000000",
          "2015-03-01T00:00:00.000000000",
          "2015-04-01T00:00:00.000000000",
          "2015-05-01T00:00:00.000000000",
          "2015-06-01T00:00:00.000000000",
          "2015-07-01T00:00:00.000000000",
          "2015-08-01T00:00:00.000000000",
          "2015-09-01T00:00:00.000000000",
          "2015-10-01T00:00:00.000000000",
          "2015-11-01T00:00:00.000000000",
          "2015-12-01T00:00:00.000000000",
          "2016-01-01T00:00:00.000000000",
          "2016-02-01T00:00:00.000000000",
          "2016-03-01T00:00:00.000000000",
          "2016-04-01T00:00:00.000000000",
          "2016-05-01T00:00:00.000000000",
          "2016-06-01T00:00:00.000000000",
          "2016-07-01T00:00:00.000000000",
          "2016-08-01T00:00:00.000000000",
          "2016-09-01T00:00:00.000000000",
          "2016-10-01T00:00:00.000000000",
          "2016-11-01T00:00:00.000000000",
          "2016-12-01T00:00:00.000000000",
          "2017-01-01T00:00:00.000000000",
          "2017-02-01T00:00:00.000000000",
          "2017-03-01T00:00:00.000000000",
          "2017-04-01T00:00:00.000000000",
          "2017-05-01T00:00:00.000000000",
          "2017-06-01T00:00:00.000000000",
          "2017-07-01T00:00:00.000000000",
          "2017-08-01T00:00:00.000000000",
          "2017-09-01T00:00:00.000000000",
          "2017-10-01T00:00:00.000000000",
          "2017-11-01T00:00:00.000000000",
          "2017-12-01T00:00:00.000000000",
          "2018-01-01T00:00:00.000000000",
          "2018-02-01T00:00:00.000000000",
          "2018-03-01T00:00:00.000000000",
          "2018-04-01T00:00:00.000000000",
          "2018-05-01T00:00:00.000000000",
          "2018-06-01T00:00:00.000000000",
          "2018-07-01T00:00:00.000000000",
          "2018-08-01T00:00:00.000000000",
          "2018-09-01T00:00:00.000000000",
          "2018-10-01T00:00:00.000000000",
          "2018-11-01T00:00:00.000000000",
          "2018-12-01T00:00:00.000000000",
          "2019-01-01T00:00:00.000000000",
          "2019-02-01T00:00:00.000000000",
          "2019-03-01T00:00:00.000000000",
          "2019-04-01T00:00:00.000000000",
          "2019-05-01T00:00:00.000000000",
          "2019-06-01T00:00:00.000000000",
          "2019-07-01T00:00:00.000000000",
          "2019-08-01T00:00:00.000000000",
          "2019-09-01T00:00:00.000000000",
          "2019-10-01T00:00:00.000000000",
          "2019-11-01T00:00:00.000000000",
          "2019-12-01T00:00:00.000000000",
          "2020-01-01T00:00:00.000000000",
          "2020-02-01T00:00:00.000000000",
          "2020-03-01T00:00:00.000000000",
          "2020-04-01T00:00:00.000000000",
          "2020-05-01T00:00:00.000000000",
          "2020-06-01T00:00:00.000000000",
          "2020-07-01T00:00:00.000000000",
          "2020-08-01T00:00:00.000000000",
          "2020-09-01T00:00:00.000000000",
          "2020-10-01T00:00:00.000000000",
          "2020-11-01T00:00:00.000000000",
          "2020-12-01T00:00:00.000000000",
          "2021-01-01T00:00:00.000000000",
          "2021-02-01T00:00:00.000000000",
          "2021-03-01T00:00:00.000000000",
          "2021-04-01T00:00:00.000000000",
          "2021-05-01T00:00:00.000000000",
          "2021-06-01T00:00:00.000000000",
          "2021-07-01T00:00:00.000000000",
          "2021-08-01T00:00:00.000000000",
          "2021-09-01T00:00:00.000000000",
          "2021-10-01T00:00:00.000000000",
          "2021-11-01T00:00:00.000000000",
          "2021-12-01T00:00:00.000000000",
          "2022-01-01T00:00:00.000000000",
          "2022-02-01T00:00:00.000000000",
          "2022-03-01T00:00:00.000000000",
          "2022-04-01T00:00:00.000000000",
          "2022-05-01T00:00:00.000000000",
          "2022-06-01T00:00:00.000000000",
          "2022-07-01T00:00:00.000000000",
          "2022-08-01T00:00:00.000000000",
          "2022-09-01T00:00:00.000000000",
          "2022-10-01T00:00:00.000000000",
          "2022-11-01T00:00:00.000000000",
          "2022-12-01T00:00:00.000000000",
          "2023-01-01T00:00:00.000000000",
          "2023-02-01T00:00:00.000000000",
          "2023-03-01T00:00:00.000000000",
          "2023-04-01T00:00:00.000000000",
          "2023-05-01T00:00:00.000000000",
          "2023-06-01T00:00:00.000000000",
          "2023-07-01T00:00:00.000000000",
          "2023-08-01T00:00:00.000000000",
          "2023-09-01T00:00:00.000000000",
          "2023-10-01T00:00:00.000000000",
          "2023-11-01T00:00:00.000000000",
          "2023-12-01T00:00:00.000000000",
          "2024-01-01T00:00:00.000000000",
          "2024-02-01T00:00:00.000000000",
          "2024-03-01T00:00:00.000000000",
          "2024-04-01T00:00:00.000000000",
          "2024-05-01T00:00:00.000000000",
          "2024-06-01T00:00:00.000000000",
          "2024-07-01T00:00:00.000000000",
          "2024-08-01T00:00:00.000000000",
          "2024-09-01T00:00:00.000000000",
          "2024-10-01T00:00:00.000000000",
          "2024-11-01T00:00:00.000000000",
          "2024-12-01T00:00:00.000000000",
          "2025-01-01T00:00:00.000000000",
          "2025-02-01T00:00:00.000000000",
          "2025-03-01T00:00:00.000000000",
          "2025-04-01T00:00:00.000000000",
          "2025-05-01T00:00:00.000000000",
          "2025-06-01T00:00:00.000000000",
          "2025-07-01T00:00:00.000000000"
         ],
         "xaxis": "x3",
         "y": {
          "bdata": "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",
          "dtype": "f8"
         },
         "yaxis": "y3"
        },
        {
         "fill": "tozeroy",
         "hovertemplate": "%{x}<br>GDD: %{y:.0f}<extra></extra>",
         "line": {
          "color": "#32CD32",
          "width": 2
         },
         "mode": "lines",
         "name": "GDD Base 10°C",
         "type": "scatter",
         "x": [
          "1980-01-01T00:00:00.000000000",
          "1980-02-01T00:00:00.000000000",
          "1980-03-01T00:00:00.000000000",
          "1980-04-01T00:00:00.000000000",
          "1980-05-01T00:00:00.000000000",
          "1980-06-01T00:00:00.000000000",
          "1980-07-01T00:00:00.000000000",
          "1980-08-01T00:00:00.000000000",
          "1980-09-01T00:00:00.000000000",
          "1980-10-01T00:00:00.000000000",
          "1980-11-01T00:00:00.000000000",
          "1980-12-01T00:00:00.000000000",
          "1981-01-01T00:00:00.000000000",
          "1981-02-01T00:00:00.000000000",
          "1981-03-01T00:00:00.000000000",
          "1981-04-01T00:00:00.000000000",
          "1981-05-01T00:00:00.000000000",
          "1981-06-01T00:00:00.000000000",
          "1981-07-01T00:00:00.000000000",
          "1981-08-01T00:00:00.000000000",
          "1981-09-01T00:00:00.000000000",
          "1981-10-01T00:00:00.000000000",
          "1981-11-01T00:00:00.000000000",
          "1981-12-01T00:00:00.000000000",
          "1982-01-01T00:00:00.000000000",
          "1982-02-01T00:00:00.000000000",
          "1982-03-01T00:00:00.000000000",
          "1982-04-01T00:00:00.000000000",
          "1982-05-01T00:00:00.000000000",
          "1982-06-01T00:00:00.000000000",
          "1982-07-01T00:00:00.000000000",
          "1982-08-01T00:00:00.000000000",
          "1982-09-01T00:00:00.000000000",
          "1982-10-01T00:00:00.000000000",
          "1982-11-01T00:00:00.000000000",
          "1982-12-01T00:00:00.000000000",
          "1983-01-01T00:00:00.000000000",
          "1983-02-01T00:00:00.000000000",
          "1983-03-01T00:00:00.000000000",
          "1983-04-01T00:00:00.000000000",
          "1983-05-01T00:00:00.000000000",
          "1983-06-01T00:00:00.000000000",
          "1983-07-01T00:00:00.000000000",
          "1983-08-01T00:00:00.000000000",
          "1983-09-01T00:00:00.000000000",
          "1983-10-01T00:00:00.000000000",
          "1983-11-01T00:00:00.000000000",
          "1983-12-01T00:00:00.000000000",
          "1984-01-01T00:00:00.000000000",
          "1984-02-01T00:00:00.000000000",
          "1984-03-01T00:00:00.000000000",
          "1984-04-01T00:00:00.000000000",
          "1984-05-01T00:00:00.000000000",
          "1984-06-01T00:00:00.000000000",
          "1984-07-01T00:00:00.000000000",
          "1984-08-01T00:00:00.000000000",
          "1984-09-01T00:00:00.000000000",
          "1984-10-01T00:00:00.000000000",
          "1984-11-01T00:00:00.000000000",
          "1984-12-01T00:00:00.000000000",
          "1985-01-01T00:00:00.000000000",
          "1985-02-01T00:00:00.000000000",
          "1985-03-01T00:00:00.000000000",
          "1985-04-01T00:00:00.000000000",
          "1985-05-01T00:00:00.000000000",
          "1985-06-01T00:00:00.000000000",
          "1985-07-01T00:00:00.000000000",
          "1985-08-01T00:00:00.000000000",
          "1985-09-01T00:00:00.000000000",
          "1985-10-01T00:00:00.000000000",
          "1985-11-01T00:00:00.000000000",
          "1985-12-01T00:00:00.000000000",
          "1986-01-01T00:00:00.000000000",
          "1986-02-01T00:00:00.000000000",
          "1986-03-01T00:00:00.000000000",
          "1986-04-01T00:00:00.000000000",
          "1986-05-01T00:00:00.000000000",
          "1986-06-01T00:00:00.000000000",
          "1986-07-01T00:00:00.000000000",
          "1986-08-01T00:00:00.000000000",
          "1986-09-01T00:00:00.000000000",
          "1986-10-01T00:00:00.000000000",
          "1986-11-01T00:00:00.000000000",
          "1986-12-01T00:00:00.000000000",
          "1987-01-01T00:00:00.000000000",
          "1987-02-01T00:00:00.000000000",
          "1987-03-01T00:00:00.000000000",
          "1987-04-01T00:00:00.000000000",
          "1987-05-01T00:00:00.000000000",
          "1987-06-01T00:00:00.000000000",
          "1987-07-01T00:00:00.000000000",
          "1987-08-01T00:00:00.000000000",
          "1987-09-01T00:00:00.000000000",
          "1987-10-01T00:00:00.000000000",
          "1987-11-01T00:00:00.000000000",
          "1987-12-01T00:00:00.000000000",
          "1988-01-01T00:00:00.000000000",
          "1988-02-01T00:00:00.000000000",
          "1988-03-01T00:00:00.000000000",
          "1988-04-01T00:00:00.000000000",
          "1988-05-01T00:00:00.000000000",
          "1988-06-01T00:00:00.000000000",
          "1988-07-01T00:00:00.000000000",
          "1988-08-01T00:00:00.000000000",
          "1988-09-01T00:00:00.000000000",
          "1988-10-01T00:00:00.000000000",
          "1988-11-01T00:00:00.000000000",
          "1988-12-01T00:00:00.000000000",
          "1989-01-01T00:00:00.000000000",
          "1989-02-01T00:00:00.000000000",
          "1989-03-01T00:00:00.000000000",
          "1989-04-01T00:00:00.000000000",
          "1989-05-01T00:00:00.000000000",
          "1989-06-01T00:00:00.000000000",
          "1989-07-01T00:00:00.000000000",
          "1989-08-01T00:00:00.000000000",
          "1989-09-01T00:00:00.000000000",
          "1989-10-01T00:00:00.000000000",
          "1989-11-01T00:00:00.000000000",
          "1989-12-01T00:00:00.000000000",
          "1990-01-01T00:00:00.000000000",
          "1990-02-01T00:00:00.000000000",
          "1990-03-01T00:00:00.000000000",
          "1990-04-01T00:00:00.000000000",
          "1990-05-01T00:00:00.000000000",
          "1990-06-01T00:00:00.000000000",
          "1990-07-01T00:00:00.000000000",
          "1990-08-01T00:00:00.000000000",
          "1990-09-01T00:00:00.000000000",
          "1990-10-01T00:00:00.000000000",
          "1990-11-01T00:00:00.000000000",
          "1990-12-01T00:00:00.000000000",
          "1991-01-01T00:00:00.000000000",
          "1991-02-01T00:00:00.000000000",
          "1991-03-01T00:00:00.000000000",
          "1991-04-01T00:00:00.000000000",
          "1991-05-01T00:00:00.000000000",
          "1991-06-01T00:00:00.000000000",
          "1991-07-01T00:00:00.000000000",
          "1991-08-01T00:00:00.000000000",
          "1991-09-01T00:00:00.000000000",
          "1991-10-01T00:00:00.000000000",
          "1991-11-01T00:00:00.000000000",
          "1991-12-01T00:00:00.000000000",
          "1992-01-01T00:00:00.000000000",
          "1992-02-01T00:00:00.000000000",
          "1992-03-01T00:00:00.000000000",
          "1992-04-01T00:00:00.000000000",
          "1992-05-01T00:00:00.000000000",
          "1992-06-01T00:00:00.000000000",
          "1992-07-01T00:00:00.000000000",
          "1992-08-01T00:00:00.000000000",
          "1992-09-01T00:00:00.000000000",
          "1992-10-01T00:00:00.000000000",
          "1992-11-01T00:00:00.000000000",
          "1992-12-01T00:00:00.000000000",
          "1993-01-01T00:00:00.000000000",
          "1993-02-01T00:00:00.000000000",
          "1993-03-01T00:00:00.000000000",
          "1993-04-01T00:00:00.000000000",
          "1993-05-01T00:00:00.000000000",
          "1993-06-01T00:00:00.000000000",
          "1993-07-01T00:00:00.000000000",
          "1993-08-01T00:00:00.000000000",
          "1993-09-01T00:00:00.000000000",
          "1993-10-01T00:00:00.000000000",
          "1993-11-01T00:00:00.000000000",
          "1993-12-01T00:00:00.000000000",
          "1994-01-01T00:00:00.000000000",
          "1994-02-01T00:00:00.000000000",
          "1994-03-01T00:00:00.000000000",
          "1994-04-01T00:00:00.000000000",
          "1994-05-01T00:00:00.000000000",
          "1994-06-01T00:00:00.000000000",
          "1994-07-01T00:00:00.000000000",
          "1994-08-01T00:00:00.000000000",
          "1994-09-01T00:00:00.000000000",
          "1994-10-01T00:00:00.000000000",
          "1994-11-01T00:00:00.000000000",
          "1994-12-01T00:00:00.000000000",
          "1995-01-01T00:00:00.000000000",
          "1995-02-01T00:00:00.000000000",
          "1995-03-01T00:00:00.000000000",
          "1995-04-01T00:00:00.000000000",
          "1995-05-01T00:00:00.000000000",
          "1995-06-01T00:00:00.000000000",
          "1995-07-01T00:00:00.000000000",
          "1995-08-01T00:00:00.000000000",
          "1995-09-01T00:00:00.000000000",
          "1995-10-01T00:00:00.000000000",
          "1995-11-01T00:00:00.000000000",
          "1995-12-01T00:00:00.000000000",
          "1996-01-01T00:00:00.000000000",
          "1996-02-01T00:00:00.000000000",
          "1996-03-01T00:00:00.000000000",
          "1996-04-01T00:00:00.000000000",
          "1996-05-01T00:00:00.000000000",
          "1996-06-01T00:00:00.000000000",
          "1996-07-01T00:00:00.000000000",
          "1996-08-01T00:00:00.000000000",
          "1996-09-01T00:00:00.000000000",
          "1996-10-01T00:00:00.000000000",
          "1996-11-01T00:00:00.000000000",
          "1996-12-01T00:00:00.000000000",
          "1997-01-01T00:00:00.000000000",
          "1997-02-01T00:00:00.000000000",
          "1997-03-01T00:00:00.000000000",
          "1997-04-01T00:00:00.000000000",
          "1997-05-01T00:00:00.000000000",
          "1997-06-01T00:00:00.000000000",
          "1997-07-01T00:00:00.000000000",
          "1997-08-01T00:00:00.000000000",
          "1997-09-01T00:00:00.000000000",
          "1997-10-01T00:00:00.000000000",
          "1997-11-01T00:00:00.000000000",
          "1997-12-01T00:00:00.000000000",
          "1998-01-01T00:00:00.000000000",
          "1998-02-01T00:00:00.000000000",
          "1998-03-01T00:00:00.000000000",
          "1998-04-01T00:00:00.000000000",
          "1998-05-01T00:00:00.000000000",
          "1998-06-01T00:00:00.000000000",
          "1998-07-01T00:00:00.000000000",
          "1998-08-01T00:00:00.000000000",
          "1998-09-01T00:00:00.000000000",
          "1998-10-01T00:00:00.000000000",
          "1998-11-01T00:00:00.000000000",
          "1998-12-01T00:00:00.000000000",
          "1999-01-01T00:00:00.000000000",
          "1999-02-01T00:00:00.000000000",
          "1999-03-01T00:00:00.000000000",
          "1999-04-01T00:00:00.000000000",
          "1999-05-01T00:00:00.000000000",
          "1999-06-01T00:00:00.000000000",
          "1999-07-01T00:00:00.000000000",
          "1999-08-01T00:00:00.000000000",
          "1999-09-01T00:00:00.000000000",
          "1999-10-01T00:00:00.000000000",
          "1999-11-01T00:00:00.000000000",
          "1999-12-01T00:00:00.000000000",
          "2000-01-01T00:00:00.000000000",
          "2000-02-01T00:00:00.000000000",
          "2000-03-01T00:00:00.000000000",
          "2000-04-01T00:00:00.000000000",
          "2000-05-01T00:00:00.000000000",
          "2000-06-01T00:00:00.000000000",
          "2000-07-01T00:00:00.000000000",
          "2000-08-01T00:00:00.000000000",
          "2000-09-01T00:00:00.000000000",
          "2000-10-01T00:00:00.000000000",
          "2000-11-01T00:00:00.000000000",
          "2000-12-01T00:00:00.000000000",
          "2001-01-01T00:00:00.000000000",
          "2001-02-01T00:00:00.000000000",
          "2001-03-01T00:00:00.000000000",
          "2001-04-01T00:00:00.000000000",
          "2001-05-01T00:00:00.000000000",
          "2001-06-01T00:00:00.000000000",
          "2001-07-01T00:00:00.000000000",
          "2001-08-01T00:00:00.000000000",
          "2001-09-01T00:00:00.000000000",
          "2001-10-01T00:00:00.000000000",
          "2001-11-01T00:00:00.000000000",
          "2001-12-01T00:00:00.000000000",
          "2002-01-01T00:00:00.000000000",
          "2002-02-01T00:00:00.000000000",
          "2002-03-01T00:00:00.000000000",
          "2002-04-01T00:00:00.000000000",
          "2002-05-01T00:00:00.000000000",
          "2002-06-01T00:00:00.000000000",
          "2002-07-01T00:00:00.000000000",
          "2002-08-01T00:00:00.000000000",
          "2002-09-01T00:00:00.000000000",
          "2002-10-01T00:00:00.000000000",
          "2002-11-01T00:00:00.000000000",
          "2002-12-01T00:00:00.000000000",
          "2003-01-01T00:00:00.000000000",
          "2003-02-01T00:00:00.000000000",
          "2003-03-01T00:00:00.000000000",
          "2003-04-01T00:00:00.000000000",
          "2003-05-01T00:00:00.000000000",
          "2003-06-01T00:00:00.000000000",
          "2003-07-01T00:00:00.000000000",
          "2003-08-01T00:00:00.000000000",
          "2003-09-01T00:00:00.000000000",
          "2003-10-01T00:00:00.000000000",
          "2003-11-01T00:00:00.000000000",
          "2003-12-01T00:00:00.000000000",
          "2004-01-01T00:00:00.000000000",
          "2004-02-01T00:00:00.000000000",
          "2004-03-01T00:00:00.000000000",
          "2004-04-01T00:00:00.000000000",
          "2004-05-01T00:00:00.000000000",
          "2004-06-01T00:00:00.000000000",
          "2004-07-01T00:00:00.000000000",
          "2004-08-01T00:00:00.000000000",
          "2004-09-01T00:00:00.000000000",
          "2004-10-01T00:00:00.000000000",
          "2004-11-01T00:00:00.000000000",
          "2004-12-01T00:00:00.000000000",
          "2005-01-01T00:00:00.000000000",
          "2005-02-01T00:00:00.000000000",
          "2005-03-01T00:00:00.000000000",
          "2005-04-01T00:00:00.000000000",
          "2005-05-01T00:00:00.000000000",
          "2005-06-01T00:00:00.000000000",
          "2005-07-01T00:00:00.000000000",
          "2005-08-01T00:00:00.000000000",
          "2005-09-01T00:00:00.000000000",
          "2005-10-01T00:00:00.000000000",
          "2005-11-01T00:00:00.000000000",
          "2005-12-01T00:00:00.000000000",
          "2006-01-01T00:00:00.000000000",
          "2006-02-01T00:00:00.000000000",
          "2006-03-01T00:00:00.000000000",
          "2006-04-01T00:00:00.000000000",
          "2006-05-01T00:00:00.000000000",
          "2006-06-01T00:00:00.000000000",
          "2006-07-01T00:00:00.000000000",
          "2006-08-01T00:00:00.000000000",
          "2006-09-01T00:00:00.000000000",
          "2006-10-01T00:00:00.000000000",
          "2006-11-01T00:00:00.000000000",
          "2006-12-01T00:00:00.000000000",
          "2007-01-01T00:00:00.000000000",
          "2007-02-01T00:00:00.000000000",
          "2007-03-01T00:00:00.000000000",
          "2007-04-01T00:00:00.000000000",
          "2007-05-01T00:00:00.000000000",
          "2007-06-01T00:00:00.000000000",
          "2007-07-01T00:00:00.000000000",
          "2007-08-01T00:00:00.000000000",
          "2007-09-01T00:00:00.000000000",
          "2007-10-01T00:00:00.000000000",
          "2007-11-01T00:00:00.000000000",
          "2007-12-01T00:00:00.000000000",
          "2008-01-01T00:00:00.000000000",
          "2008-02-01T00:00:00.000000000",
          "2008-03-01T00:00:00.000000000",
          "2008-04-01T00:00:00.000000000",
          "2008-05-01T00:00:00.000000000",
          "2008-06-01T00:00:00.000000000",
          "2008-07-01T00:00:00.000000000",
          "2008-08-01T00:00:00.000000000",
          "2008-09-01T00:00:00.000000000",
          "2008-10-01T00:00:00.000000000",
          "2008-11-01T00:00:00.000000000",
          "2008-12-01T00:00:00.000000000",
          "2009-01-01T00:00:00.000000000",
          "2009-02-01T00:00:00.000000000",
          "2009-03-01T00:00:00.000000000",
          "2009-04-01T00:00:00.000000000",
          "2009-05-01T00:00:00.000000000",
          "2009-06-01T00:00:00.000000000",
          "2009-07-01T00:00:00.000000000",
          "2009-08-01T00:00:00.000000000",
          "2009-09-01T00:00:00.000000000",
          "2009-10-01T00:00:00.000000000",
          "2009-11-01T00:00:00.000000000",
          "2009-12-01T00:00:00.000000000",
          "2010-01-01T00:00:00.000000000",
          "2010-02-01T00:00:00.000000000",
          "2010-03-01T00:00:00.000000000",
          "2010-04-01T00:00:00.000000000",
          "2010-05-01T00:00:00.000000000",
          "2010-06-01T00:00:00.000000000",
          "2010-07-01T00:00:00.000000000",
          "2010-08-01T00:00:00.000000000",
          "2010-09-01T00:00:00.000000000",
          "2010-10-01T00:00:00.000000000",
          "2010-11-01T00:00:00.000000000",
          "2010-12-01T00:00:00.000000000",
          "2011-01-01T00:00:00.000000000",
          "2011-02-01T00:00:00.000000000",
          "2011-03-01T00:00:00.000000000",
          "2011-04-01T00:00:00.000000000",
          "2011-05-01T00:00:00.000000000",
          "2011-06-01T00:00:00.000000000",
          "2011-07-01T00:00:00.000000000",
          "2011-08-01T00:00:00.000000000",
          "2011-09-01T00:00:00.000000000",
          "2011-10-01T00:00:00.000000000",
          "2011-11-01T00:00:00.000000000",
          "2011-12-01T00:00:00.000000000",
          "2012-01-01T00:00:00.000000000",
          "2012-02-01T00:00:00.000000000",
          "2012-03-01T00:00:00.000000000",
          "2012-04-01T00:00:00.000000000",
          "2012-05-01T00:00:00.000000000",
          "2012-06-01T00:00:00.000000000",
          "2012-07-01T00:00:00.000000000",
          "2012-08-01T00:00:00.000000000",
          "2012-09-01T00:00:00.000000000",
          "2012-10-01T00:00:00.000000000",
          "2012-11-01T00:00:00.000000000",
          "2012-12-01T00:00:00.000000000",
          "2013-01-01T00:00:00.000000000",
          "2013-02-01T00:00:00.000000000",
          "2013-03-01T00:00:00.000000000",
          "2013-04-01T00:00:00.000000000",
          "2013-05-01T00:00:00.000000000",
          "2013-06-01T00:00:00.000000000",
          "2013-07-01T00:00:00.000000000",
          "2013-08-01T00:00:00.000000000",
          "2013-09-01T00:00:00.000000000",
          "2013-10-01T00:00:00.000000000",
          "2013-11-01T00:00:00.000000000",
          "2013-12-01T00:00:00.000000000",
          "2014-01-01T00:00:00.000000000",
          "2014-02-01T00:00:00.000000000",
          "2014-03-01T00:00:00.000000000",
          "2014-04-01T00:00:00.000000000",
          "2014-05-01T00:00:00.000000000",
          "2014-06-01T00:00:00.000000000",
          "2014-07-01T00:00:00.000000000",
          "2014-08-01T00:00:00.000000000",
          "2014-09-01T00:00:00.000000000",
          "2014-10-01T00:00:00.000000000",
          "2014-11-01T00:00:00.000000000",
          "2014-12-01T00:00:00.000000000",
          "2015-01-01T00:00:00.000000000",
          "2015-02-01T00:00:00.000000000",
          "2015-03-01T00:00:00.000000000",
          "2015-04-01T00:00:00.000000000",
          "2015-05-01T00:00:00.000000000",
          "2015-06-01T00:00:00.000000000",
          "2015-07-01T00:00:00.000000000",
          "2015-08-01T00:00:00.000000000",
          "2015-09-01T00:00:00.000000000",
          "2015-10-01T00:00:00.000000000",
          "2015-11-01T00:00:00.000000000",
          "2015-12-01T00:00:00.000000000",
          "2016-01-01T00:00:00.000000000",
          "2016-02-01T00:00:00.000000000",
          "2016-03-01T00:00:00.000000000",
          "2016-04-01T00:00:00.000000000",
          "2016-05-01T00:00:00.000000000",
          "2016-06-01T00:00:00.000000000",
          "2016-07-01T00:00:00.000000000",
          "2016-08-01T00:00:00.000000000",
          "2016-09-01T00:00:00.000000000",
          "2016-10-01T00:00:00.000000000",
          "2016-11-01T00:00:00.000000000",
          "2016-12-01T00:00:00.000000000",
          "2017-01-01T00:00:00.000000000",
          "2017-02-01T00:00:00.000000000",
          "2017-03-01T00:00:00.000000000",
          "2017-04-01T00:00:00.000000000",
          "2017-05-01T00:00:00.000000000",
          "2017-06-01T00:00:00.000000000",
          "2017-07-01T00:00:00.000000000",
          "2017-08-01T00:00:00.000000000",
          "2017-09-01T00:00:00.000000000",
          "2017-10-01T00:00:00.000000000",
          "2017-11-01T00:00:00.000000000",
          "2017-12-01T00:00:00.000000000",
          "2018-01-01T00:00:00.000000000",
          "2018-02-01T00:00:00.000000000",
          "2018-03-01T00:00:00.000000000",
          "2018-04-01T00:00:00.000000000",
          "2018-05-01T00:00:00.000000000",
          "2018-06-01T00:00:00.000000000",
          "2018-07-01T00:00:00.000000000",
          "2018-08-01T00:00:00.000000000",
          "2018-09-01T00:00:00.000000000",
          "2018-10-01T00:00:00.000000000",
          "2018-11-01T00:00:00.000000000",
          "2018-12-01T00:00:00.000000000",
          "2019-01-01T00:00:00.000000000",
          "2019-02-01T00:00:00.000000000",
          "2019-03-01T00:00:00.000000000",
          "2019-04-01T00:00:00.000000000",
          "2019-05-01T00:00:00.000000000",
          "2019-06-01T00:00:00.000000000",
          "2019-07-01T00:00:00.000000000",
          "2019-08-01T00:00:00.000000000",
          "2019-09-01T00:00:00.000000000",
          "2019-10-01T00:00:00.000000000",
          "2019-11-01T00:00:00.000000000",
          "2019-12-01T00:00:00.000000000",
          "2020-01-01T00:00:00.000000000",
          "2020-02-01T00:00:00.000000000",
          "2020-03-01T00:00:00.000000000",
          "2020-04-01T00:00:00.000000000",
          "2020-05-01T00:00:00.000000000",
          "2020-06-01T00:00:00.000000000",
          "2020-07-01T00:00:00.000000000",
          "2020-08-01T00:00:00.000000000",
          "2020-09-01T00:00:00.000000000",
          "2020-10-01T00:00:00.000000000",
          "2020-11-01T00:00:00.000000000",
          "2020-12-01T00:00:00.000000000",
          "2021-01-01T00:00:00.000000000",
          "2021-02-01T00:00:00.000000000",
          "2021-03-01T00:00:00.000000000",
          "2021-04-01T00:00:00.000000000",
          "2021-05-01T00:00:00.000000000",
          "2021-06-01T00:00:00.000000000",
          "2021-07-01T00:00:00.000000000",
          "2021-08-01T00:00:00.000000000",
          "2021-09-01T00:00:00.000000000",
          "2021-10-01T00:00:00.000000000",
          "2021-11-01T00:00:00.000000000",
          "2021-12-01T00:00:00.000000000",
          "2022-01-01T00:00:00.000000000",
          "2022-02-01T00:00:00.000000000",
          "2022-03-01T00:00:00.000000000",
          "2022-04-01T00:00:00.000000000",
          "2022-05-01T00:00:00.000000000",
          "2022-06-01T00:00:00.000000000",
          "2022-07-01T00:00:00.000000000",
          "2022-08-01T00:00:00.000000000",
          "2022-09-01T00:00:00.000000000",
          "2022-10-01T00:00:00.000000000",
          "2022-11-01T00:00:00.000000000",
          "2022-12-01T00:00:00.000000000",
          "2023-01-01T00:00:00.000000000",
          "2023-02-01T00:00:00.000000000",
          "2023-03-01T00:00:00.000000000",
          "2023-04-01T00:00:00.000000000",
          "2023-05-01T00:00:00.000000000",
          "2023-06-01T00:00:00.000000000",
          "2023-07-01T00:00:00.000000000",
          "2023-08-01T00:00:00.000000000",
          "2023-09-01T00:00:00.000000000",
          "2023-10-01T00:00:00.000000000",
          "2023-11-01T00:00:00.000000000",
          "2023-12-01T00:00:00.000000000",
          "2024-01-01T00:00:00.000000000",
          "2024-02-01T00:00:00.000000000",
          "2024-03-01T00:00:00.000000000",
          "2024-04-01T00:00:00.000000000",
          "2024-05-01T00:00:00.000000000",
          "2024-06-01T00:00:00.000000000",
          "2024-07-01T00:00:00.000000000",
          "2024-08-01T00:00:00.000000000",
          "2024-09-01T00:00:00.000000000",
          "2024-10-01T00:00:00.000000000",
          "2024-11-01T00:00:00.000000000",
          "2024-12-01T00:00:00.000000000",
          "2025-01-01T00:00:00.000000000",
          "2025-02-01T00:00:00.000000000",
          "2025-03-01T00:00:00.000000000",
          "2025-04-01T00:00:00.000000000",
          "2025-05-01T00:00:00.000000000",
          "2025-06-01T00:00:00.000000000",
          "2025-07-01T00:00:00.000000000"
         ],
         "xaxis": "x4",
         "y": {
          "bdata": "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",
          "dtype": "f8"
         },
         "yaxis": "y4"
        },
        {
         "hovertemplate": "%{x}<br>Precipitación Anual: %{y:.0f} mm<extra></extra>",
         "marker": {
          "color": "#4169E1"
         },
         "name": "Precipitación Anual",
         "opacity": 0.6,
         "type": "bar",
         "x": {
          "bdata": "vAcAAL0HAAC+BwAAvwcAAMAHAADBBwAAwgcAAMMHAADEBwAAxQcAAMYHAADHBwAAyAcAAMkHAADKBwAAywcAAMwHAADNBwAAzgcAAM8HAADQBwAA0QcAANIHAADTBwAA1AcAANUHAADWBwAA1wcAANgHAADZBwAA2gcAANsHAADcBwAA3QcAAN4HAADfBwAA4AcAAOEHAADiBwAA4wcAAOQHAADlBwAA5gcAAOcHAADoBwAA6QcAAA==",
          "dtype": "i4"
         },
         "xaxis": "x5",
         "y": {
          "bdata": "mpmZmZnArUAAAAAAAMWnQDMzMzMzr69AmpmZmZlpskAzMzMzs9GxQAAAAACAM7FAmpmZmZl8rEAzMzMzs/G1QAAAAAAATq5AAAAAAIC6vkDNzMzMzA+uQMzMzMzMCbVAmpmZmRltsEAAAAAAALCvQDMzMzMzfapAZmZmZmYgsUBmZmZmJmvGQM3MzMzM+r1AzczMzMxorEAzMzMzMwevQGZmZmZm/bJAAAAAAACbs0CamZmZmdG0QDMzMzMzILdAZmZmZmbbrUAzMzMzMzqkQAAAAACA4rRAZmZmZmYPr0AzMzMzM+izQM3MzMzMHLZAMzMzMzPrv0CamZmZmeWuQGZmZmbmyrNAMzMzM7OLtUAAAAAAgOe1QM3MzMzMsqtAMzMzMzPntUAzMzMzM+itQMzMzMxMJrlAzczMzMzkp0AzMzMzs3OyQDMzMzMzGK5AzczMzMwAskAAAAAAAMKmQAAAAAAACbVAzczMzMyDr0A=",
          "dtype": "f8"
         },
         "yaxis": "y5"
        }
       ],
       "layout": {
        "annotations": [
         {
          "font": {
           "size": 16
          },
          "showarrow": false,
          "text": "Temperaturas Máximas y Mínimas",
          "x": 0.225,
          "xanchor": "center",
          "xref": "paper",
          "y": 1,
          "yanchor": "bottom",
          "yref": "paper"
         },
         {
          "font": {
           "size": 16
          },
          "showarrow": false,
          "text": "Precipitación Mensual",
          "x": 0.775,
          "xanchor": "center",
          "xref": "paper",
          "y": 1,
          "yanchor": "bottom",
          "yref": "paper"
         },
         {
          "font": {
           "size": 16
          },
          "showarrow": false,
          "text": "Temperatura Media",
          "x": 0.225,
          "xanchor": "center",
          "xref": "paper",
          "y": 0.6399999999999999,
          "yanchor": "bottom",
          "yref": "paper"
         },
         {
          "font": {
           "size": 16
          },
          "showarrow": false,
          "text": "Grados Día de Crecimiento",
          "x": 0.775,
          "xanchor": "center",
          "xref": "paper",
          "y": 0.6399999999999999,
          "yanchor": "bottom",
          "yref": "paper"
         },
         {
          "font": {
           "size": 16
          },
          "showarrow": false,
          "text": "Análisis Anual de Precipitación",
          "x": 0.5,
          "xanchor": "center",
          "xref": "paper",
          "y": 0.27999999999999997,
          "yanchor": "bottom",
          "yref": "paper"
         }
        ],
        "height": 800,
        "hovermode": "x unified",
        "showlegend": true,
        "template": {
         "data": {
          "bar": [
           {
            "error_x": {
             "color": "#2a3f5f"
            },
            "error_y": {
             "color": "#2a3f5f"
            },
            "marker": {
             "line": {
              "color": "#E5ECF6",
              "width": 0.5
             },
             "pattern": {
              "fillmode": "overlay",
              "size": 10,
              "solidity": 0.2
             }
            },
            "type": "bar"
           }
          ],
          "barpolar": [
           {
            "marker": {
             "line": {
              "color": "#E5ECF6",
              "width": 0.5
             },
             "pattern": {
              "fillmode": "overlay",
              "size": 10,
              "solidity": 0.2
             }
            },
            "type": "barpolar"
           }
          ],
          "carpet": [
           {
            "aaxis": {
             "endlinecolor": "#2a3f5f",
             "gridcolor": "white",
             "linecolor": "white",
             "minorgridcolor": "white",
             "startlinecolor": "#2a3f5f"
            },
            "baxis": {
             "endlinecolor": "#2a3f5f",
             "gridcolor": "white",
             "linecolor": "white",
             "minorgridcolor": "white",
             "startlinecolor": "#2a3f5f"
            },
            "type": "carpet"
           }
          ],
          "choropleth": [
           {
            "colorbar": {
             "outlinewidth": 0,
             "ticks": ""
            },
            "type": "choropleth"
           }
          ],
          "contour": [
           {
            "colorbar": {
             "outlinewidth": 0,
             "ticks": ""
            },
            "colorscale": [
             [
              0,
              "#0d0887"
             ],
             [
              0.1111111111111111,
              "#46039f"
             ],
             [
              0.2222222222222222,
              "#7201a8"
             ],
             [
              0.3333333333333333,
              "#9c179e"
             ],
             [
              0.4444444444444444,
              "#bd3786"
             ],
             [
              0.5555555555555556,
              "#d8576b"
             ],
             [
              0.6666666666666666,
              "#ed7953"
             ],
             [
              0.7777777777777778,
              "#fb9f3a"
             ],
             [
              0.8888888888888888,
              "#fdca26"
             ],
             [
              1,
              "#f0f921"
             ]
            ],
            "type": "contour"
           }
          ],
          "contourcarpet": [
           {
            "colorbar": {
             "outlinewidth": 0,
             "ticks": ""
            },
            "type": "contourcarpet"
           }
          ],
          "heatmap": [
           {
            "colorbar": {
             "outlinewidth": 0,
             "ticks": ""
            },
            "colorscale": [
             [
              0,
              "#0d0887"
             ],
             [
              0.1111111111111111,
              "#46039f"
             ],
             [
              0.2222222222222222,
              "#7201a8"
             ],
             [
              0.3333333333333333,
              "#9c179e"
             ],
             [
              0.4444444444444444,
              "#bd3786"
             ],
             [
              0.5555555555555556,
              "#d8576b"
             ],
             [
              0.6666666666666666,
              "#ed7953"
             ],
             [
              0.7777777777777778,
              "#fb9f3a"
             ],
             [
              0.8888888888888888,
              "#fdca26"
             ],
             [
              1,
              "#f0f921"
             ]
            ],
            "type": "heatmap"
           }
          ],
          "histogram": [
           {
            "marker": {
             "pattern": {
              "fillmode": "overlay",
              "size": 10,
              "solidity": 0.2
             }
            },
            "type": "histogram"
           }
          ],
          "histogram2d": [
           {
            "colorbar": {
             "outlinewidth": 0,
             "ticks": ""
            },
            "colorscale": [
             [
              0,
              "#0d0887"
             ],
             [
              0.1111111111111111,
              "#46039f"
             ],
             [
              0.2222222222222222,
              "#7201a8"
             ],
             [
              0.3333333333333333,
              "#9c179e"
             ],
             [
              0.4444444444444444,
              "#bd3786"
             ],
             [
              0.5555555555555556,
              "#d8576b"
             ],
             [
              0.6666666666666666,
              "#ed7953"
             ],
             [
              0.7777777777777778,
              "#fb9f3a"
             ],
             [
              0.8888888888888888,
              "#fdca26"
             ],
             [
              1,
              "#f0f921"
             ]
            ],
            "type": "histogram2d"
           }
          ],
          "histogram2dcontour": [
           {
            "colorbar": {
             "outlinewidth": 0,
             "ticks": ""
            },
            "colorscale": [
             [
              0,
              "#0d0887"
             ],
             [
              0.1111111111111111,
              "#46039f"
             ],
             [
              0.2222222222222222,
              "#7201a8"
             ],
             [
              0.3333333333333333,
              "#9c179e"
             ],
             [
              0.4444444444444444,
              "#bd3786"
             ],
             [
              0.5555555555555556,
              "#d8576b"
             ],
             [
              0.6666666666666666,
              "#ed7953"
             ],
             [
              0.7777777777777778,
              "#fb9f3a"
             ],
             [
              0.8888888888888888,
              "#fdca26"
             ],
             [
              1,
              "#f0f921"
             ]
            ],
            "type": "histogram2dcontour"
           }
          ],
          "mesh3d": [
           {
            "colorbar": {
             "outlinewidth": 0,
             "ticks": ""
            },
            "type": "mesh3d"
           }
          ],
          "parcoords": [
           {
            "line": {
             "colorbar": {
              "outlinewidth": 0,
              "ticks": ""
             }
            },
            "type": "parcoords"
           }
          ],
          "pie": [
           {
            "automargin": true,
            "type": "pie"
           }
          ],
          "scatter": [
           {
            "fillpattern": {
             "fillmode": "overlay",
             "size": 10,
             "solidity": 0.2
            },
            "type": "scatter"
           }
          ],
          "scatter3d": [
           {
            "line": {
             "colorbar": {
              "outlinewidth": 0,
              "ticks": ""
             }
            },
            "marker": {
             "colorbar": {
              "outlinewidth": 0,
              "ticks": ""
             }
            },
            "type": "scatter3d"
           }
          ],
          "scattercarpet": [
           {
            "marker": {
             "colorbar": {
              "outlinewidth": 0,
              "ticks": ""
             }
            },
            "type": "scattercarpet"
           }
          ],
          "scattergeo": [
           {
            "marker": {
             "colorbar": {
              "outlinewidth": 0,
              "ticks": ""
             }
            },
            "type": "scattergeo"
           }
          ],
          "scattergl": [
           {
            "marker": {
             "colorbar": {
              "outlinewidth": 0,
              "ticks": ""
             }
            },
            "type": "scattergl"
           }
          ],
          "scattermap": [
           {
            "marker": {
             "colorbar": {
              "outlinewidth": 0,
              "ticks": ""
             }
            },
            "type": "scattermap"
           }
          ],
          "scattermapbox": [
           {
            "marker": {
             "colorbar": {
              "outlinewidth": 0,
              "ticks": ""
             }
            },
            "type": "scattermapbox"
           }
          ],
          "scatterpolar": [
           {
            "marker": {
             "colorbar": {
              "outlinewidth": 0,
              "ticks": ""
             }
            },
            "type": "scatterpolar"
           }
          ],
          "scatterpolargl": [
           {
            "marker": {
             "colorbar": {
              "outlinewidth": 0,
              "ticks": ""
             }
            },
            "type": "scatterpolargl"
           }
          ],
          "scatterternary": [
           {
            "marker": {
             "colorbar": {
              "outlinewidth": 0,
              "ticks": ""
             }
            },
            "type": "scatterternary"
           }
          ],
          "surface": [
           {
            "colorbar": {
             "outlinewidth": 0,
             "ticks": ""
            },
            "colorscale": [
             [
              0,
              "#0d0887"
             ],
             [
              0.1111111111111111,
              "#46039f"
             ],
             [
              0.2222222222222222,
              "#7201a8"
             ],
             [
              0.3333333333333333,
              "#9c179e"
             ],
             [
              0.4444444444444444,
              "#bd3786"
             ],
             [
              0.5555555555555556,
              "#d8576b"
             ],
             [
              0.6666666666666666,
              "#ed7953"
             ],
             [
              0.7777777777777778,
              "#fb9f3a"
             ],
             [
              0.8888888888888888,
              "#fdca26"
             ],
             [
              1,
              "#f0f921"
             ]
            ],
            "type": "surface"
           }
          ],
          "table": [
           {
            "cells": {
             "fill": {
              "color": "#EBF0F8"
             },
             "line": {
              "color": "white"
             }
            },
            "header": {
             "fill": {
              "color": "#C8D4E3"
             },
             "line": {
              "color": "white"
             }
            },
            "type": "table"
           }
          ]
         },
         "layout": {
          "annotationdefaults": {
           "arrowcolor": "#2a3f5f",
           "arrowhead": 0,
           "arrowwidth": 1
          },
          "autotypenumbers": "strict",
          "coloraxis": {
           "colorbar": {
            "outlinewidth": 0,
            "ticks": ""
           }
          },
          "colorscale": {
           "diverging": [
            [
             0,
             "#8e0152"
            ],
            [
             0.1,
             "#c51b7d"
            ],
            [
             0.2,
             "#de77ae"
            ],
            [
             0.3,
             "#f1b6da"
            ],
            [
             0.4,
             "#fde0ef"
            ],
            [
             0.5,
             "#f7f7f7"
            ],
            [
             0.6,
             "#e6f5d0"
            ],
            [
             0.7,
             "#b8e186"
            ],
            [
             0.8,
             "#7fbc41"
            ],
            [
             0.9,
             "#4d9221"
            ],
            [
             1,
             "#276419"
            ]
           ],
           "sequential": [
            [
             0,
             "#0d0887"
            ],
            [
             0.1111111111111111,
             "#46039f"
            ],
            [
             0.2222222222222222,
             "#7201a8"
            ],
            [
             0.3333333333333333,
             "#9c179e"
            ],
            [
             0.4444444444444444,
             "#bd3786"
            ],
            [
             0.5555555555555556,
             "#d8576b"
            ],
            [
             0.6666666666666666,
             "#ed7953"
            ],
            [
             0.7777777777777778,
             "#fb9f3a"
            ],
            [
             0.8888888888888888,
             "#fdca26"
            ],
            [
             1,
             "#f0f921"
            ]
           ],
           "sequentialminus": [
            [
             0,
             "#0d0887"
            ],
            [
             0.1111111111111111,
             "#46039f"
            ],
            [
             0.2222222222222222,
             "#7201a8"
            ],
            [
             0.3333333333333333,
             "#9c179e"
            ],
            [
             0.4444444444444444,
             "#bd3786"
            ],
            [
             0.5555555555555556,
             "#d8576b"
            ],
            [
             0.6666666666666666,
             "#ed7953"
            ],
            [
             0.7777777777777778,
             "#fb9f3a"
            ],
            [
             0.8888888888888888,
             "#fdca26"
            ],
            [
             1,
             "#f0f921"
            ]
           ]
          },
          "colorway": [
           "#636efa",
           "#EF553B",
           "#00cc96",
           "#ab63fa",
           "#FFA15A",
           "#19d3f3",
           "#FF6692",
           "#B6E880",
           "#FF97FF",
           "#FECB52"
          ],
          "font": {
           "color": "#2a3f5f"
          },
          "geo": {
           "bgcolor": "white",
           "lakecolor": "white",
           "landcolor": "#E5ECF6",
           "showlakes": true,
           "showland": true,
           "subunitcolor": "white"
          },
          "hoverlabel": {
           "align": "left"
          },
          "hovermode": "closest",
          "mapbox": {
           "style": "light"
          },
          "paper_bgcolor": "white",
          "plot_bgcolor": "#E5ECF6",
          "polar": {
           "angularaxis": {
            "gridcolor": "white",
            "linecolor": "white",
            "ticks": ""
           },
           "bgcolor": "#E5ECF6",
           "radialaxis": {
            "gridcolor": "white",
            "linecolor": "white",
            "ticks": ""
           }
          },
          "scene": {
           "xaxis": {
            "backgroundcolor": "#E5ECF6",
            "gridcolor": "white",
            "gridwidth": 2,
            "linecolor": "white",
            "showbackground": true,
            "ticks": "",
            "zerolinecolor": "white"
           },
           "yaxis": {
            "backgroundcolor": "#E5ECF6",
            "gridcolor": "white",
            "gridwidth": 2,
            "linecolor": "white",
            "showbackground": true,
            "ticks": "",
            "zerolinecolor": "white"
           },
           "zaxis": {
            "backgroundcolor": "#E5ECF6",
            "gridcolor": "white",
            "gridwidth": 2,
            "linecolor": "white",
            "showbackground": true,
            "ticks": "",
            "zerolinecolor": "white"
           }
          },
          "shapedefaults": {
           "line": {
            "color": "#2a3f5f"
           }
          },
          "ternary": {
           "aaxis": {
            "gridcolor": "white",
            "linecolor": "white",
            "ticks": ""
           },
           "baxis": {
            "gridcolor": "white",
            "linecolor": "white",
            "ticks": ""
           },
           "bgcolor": "#E5ECF6",
           "caxis": {
            "gridcolor": "white",
            "linecolor": "white",
            "ticks": ""
           }
          },
          "title": {
           "x": 0.05
          },
          "xaxis": {
           "automargin": true,
           "gridcolor": "white",
           "linecolor": "white",
           "ticks": "",
           "title": {
            "standoff": 15
           },
           "zerolinecolor": "white",
           "zerolinewidth": 2
          },
          "yaxis": {
           "automargin": true,
           "gridcolor": "white",
           "linecolor": "white",
           "ticks": "",
           "title": {
            "standoff": 15
           },
           "zerolinecolor": "white",
           "zerolinewidth": 2
          }
         }
        },
        "title": {
         "font": {
          "color": "#228B22",
          "size": 20
         },
         "text": "📈 Análisis Temporal del Clima en Andalucía (1980-2024)",
         "x": 0.5
        },
        "xaxis": {
         "anchor": "y",
         "domain": [
          0,
          0.45
         ]
        },
        "xaxis2": {
         "anchor": "y2",
         "domain": [
          0.55,
          1
         ]
        },
        "xaxis3": {
         "anchor": "y3",
         "domain": [
          0,
          0.45
         ]
        },
        "xaxis4": {
         "anchor": "y4",
         "domain": [
          0.55,
          1
         ]
        },
        "xaxis5": {
         "anchor": "y5",
         "domain": [
          0,
          1
         ],
         "title": {
          "text": "Año"
         }
        },
        "yaxis": {
         "anchor": "x",
         "domain": [
          0.72,
          1
         ],
         "title": {
          "text": "Temperatura (°C)"
         }
        },
        "yaxis2": {
         "anchor": "x2",
         "domain": [
          0.72,
          1
         ],
         "title": {
          "text": "Precipitación (mm)"
         }
        },
        "yaxis3": {
         "anchor": "x3",
         "domain": [
          0.36,
          0.6399999999999999
         ],
         "title": {
          "text": "Temperatura (°C)"
         }
        },
        "yaxis4": {
         "anchor": "x4",
         "domain": [
          0.36,
          0.6399999999999999
         ],
         "title": {
          "text": "Grados Día"
         }
        },
        "yaxis5": {
         "anchor": "x5",
         "domain": [
          0,
          0.27999999999999997
         ],
         "title": {
          "text": "Precipitación (mm)"
         }
        }
       }
      },
      "text/html": [
       "<div>            <script src=\"https://cdnjs.cloudflare.com/ajax/libs/mathjax/2.7.5/MathJax.js?config=TeX-AMS-MML_SVG\"></script><script type=\"text/javascript\">if (window.MathJax && window.MathJax.Hub && window.MathJax.Hub.Config) {window.MathJax.Hub.Config({SVG: {font: \"STIX-Web\"}});}</script>                <script type=\"text/javascript\">window.PlotlyConfig = {MathJaxConfig: 'local'};</script>\n",
       "        <script charset=\"utf-8\" src=\"https://cdn.plot.ly/plotly-3.0.1.min.js\"></script>                <div id=\"5e397200-4cc0-462c-8ade-db3523f240e2\" class=\"plotly-graph-div\" style=\"height:800px; width:100%;\"></div>            <script type=\"text/javascript\">                window.PLOTLYENV=window.PLOTLYENV || {};                                if (document.getElementById(\"5e397200-4cc0-462c-8ade-db3523f240e2\")) {                    Plotly.newPlot(                        \"5e397200-4cc0-462c-8ade-db3523f240e2\",                        [{\"hovertemplate\":\"%{x}\\u003cbr\\u003eTemp. M\\u00e1x: %{y:.1f}\\u00b0C\\u003cextra\\u003e\\u003c\\u002fextra\\u003e\",\"line\":{\"color\":\"#DC143C\",\"width\":2},\"mode\":\"lines\",\"name\":\"Temp. M\\u00e1xima\",\"x\":[\"1980-01-01T00:00:00.000000000\",\"1980-02-01T00:00:00.000000000\",\"1980-03-01T00:00:00.000000000\",\"1980-04-01T00:00:00.000000000\",\"1980-05-01T00:00:00.000000000\",\"1980-06-01T00:00:00.000000000\",\"1980-07-01T00:00:00.000000000\",\"1980-08-01T00:00:00.000000000\",\"1980-09-01T00:00:00.000000000\",\"1980-10-01T00:00:00.000000000\",\"1980-11-01T00:00:00.000000000\",\"1980-12-01T00:00:00.000000000\",\"1981-01-01T00:00:00.000000000\",\"1981-02-01T00:00:00.000000000\",\"1981-03-01T00:00:00.000000000\",\"1981-04-01T00:00:00.000000000\",\"1981-05-01T00:00:00.000000000\",\"1981-06-01T00:00:00.000000000\",\"1981-07-01T00:00:00.000000000\",\"1981-08-01T00:00:00.000000000\",\"1981-09-01T00:00:00.000000000\",\"1981-10-01T00:00:00.000000000\",\"1981-11-01T00:00:00.000000000\",\"1981-12-01T00:00:00.000000000\",\"1982-01-01T00:00:00.000000000\",\"1982-02-01T00:00:00.000000000\",\"1982-03-01T00:00:00.000000000\",\"1982-04-01T00:00:00.000000000\",\"1982-05-01T00:00:00.000000000\",\"1982-06-01T00:00:00.000000000\",\"1982-07-01T00:00:00.000000000\",\"1982-08-01T00:00:00.000000000\",\"1982-09-01T00:00:00.000000000\",\"1982-10-01T00:00:00.000000000\",\"1982-11-01T00:00:00.000000000\",\"1982-12-01T00:00:00.000000000\",\"1983-01-01T00:00:00.000000000\",\"1983-02-01T00:00:00.000000000\",\"1983-03-01T00:00:00.000000000\",\"1983-04-01T00:00:00.000000000\",\"1983-05-01T00:00:00.000000000\",\"1983-06-01T00:00:00.000000000\",\"1983-07-01T00:00:00.000000000\",\"1983-08-01T00:00:00.000000000\",\"1983-09-01T00:00:00.000000000\",\"1983-10-01T00:00:00.000000000\",\"1983-11-01T00:00:00.000000000\",\"1983-12-01T00:00:00.000000000\",\"1984-01-01T00:00:00.000000000\",\"1984-02-01T00:00:00.000000000\",\"1984-03-01T00:00:00.000000000\",\"1984-04-01T00:00:00.000000000\",\"1984-05-01T00:00:00.000000000\",\"1984-06-01T00:00:00.000000000\",\"1984-07-01T00:00:00.000000000\",\"1984-08-01T00:00:00.000000000\",\"1984-09-01T00:00:00.000000000\",\"1984-10-01T00:00:00.000000000\",\"1984-11-01T00:00:00.000000000\",\"1984-12-01T00:00:00.000000000\",\"1985-01-01T00:00:00.000000000\",\"1985-02-01T00:00:00.000000000\",\"1985-03-01T00:00:00.000000000\",\"1985-04-01T00:00:00.000000000\",\"1985-05-01T00:00:00.000000000\",\"1985-06-01T00:00:00.000000000\",\"1985-07-01T00:00:00.000000000\",\"1985-08-01T00:00:00.000000000\",\"1985-09-01T00:00:00.000000000\",\"1985-10-01T00:00:00.000000000\",\"1985-11-01T00:00:00.000000000\",\"1985-12-01T00:00:00.000000000\",\"1986-01-01T00:00:00.000000000\",\"1986-02-01T00:00:00.000000000\",\"1986-03-01T00:00:00.000000000\",\"1986-04-01T00:00:00.000000000\",\"1986-05-01T00:00:00.000000000\",\"1986-06-01T00:00:00.000000000\",\"1986-07-01T00:00:00.000000000\",\"1986-08-01T00:00:00.000000000\",\"1986-09-01T00:00:00.000000000\",\"1986-10-01T00:00:00.000000000\",\"1986-11-01T00:00:00.000000000\",\"1986-12-01T00:00:00.000000000\",\"1987-01-01T00:00:00.000000000\",\"1987-02-01T00:00:00.000000000\",\"1987-03-01T00:00:00.000000000\",\"1987-04-01T00:00:00.000000000\",\"1987-05-01T00:00:00.000000000\",\"1987-06-01T00:00:00.000000000\",\"1987-07-01T00:00:00.000000000\",\"1987-08-01T00:00:00.000000000\",\"1987-09-01T00:00:00.000000000\",\"1987-10-01T00:00:00.000000000\",\"1987-11-01T00:00:00.000000000\",\"1987-12-01T00:00:00.000000000\",\"1988-01-01T00:00:00.000000000\",\"1988-02-01T00:00:00.000000000\",\"1988-03-01T00:00:00.000000000\",\"1988-04-01T00:00:00.000000000\",\"1988-05-01T00:00:00.000000000\",\"1988-06-01T00:00:00.000000000\",\"1988-07-01T00:00:00.000000000\",\"1988-08-01T00:00:00.000000000\",\"1988-09-01T00:00:00.000000000\",\"1988-10-01T00:00:00.000000000\",\"1988-11-01T00:00:00.000000000\",\"1988-12-01T00:00:00.000000000\",\"1989-01-01T00:00:00.000000000\",\"1989-02-01T00:00:00.000000000\",\"1989-03-01T00:00:00.000000000\",\"1989-04-01T00:00:00.000000000\",\"1989-05-01T00:00:00.000000000\",\"1989-06-01T00:00:00.000000000\",\"1989-07-01T00:00:00.000000000\",\"1989-08-01T00:00:00.000000000\",\"1989-09-01T00:00:00.000000000\",\"1989-10-01T00:00:00.000000000\",\"1989-11-01T00:00:00.000000000\",\"1989-12-01T00:00:00.000000000\",\"1990-01-01T00:00:00.000000000\",\"1990-02-01T00:00:00.000000000\",\"1990-03-01T00:00:00.000000000\",\"1990-04-01T00:00:00.000000000\",\"1990-05-01T00:00:00.000000000\",\"1990-06-01T00:00:00.000000000\",\"1990-07-01T00:00:00.000000000\",\"1990-08-01T00:00:00.000000000\",\"1990-09-01T00:00:00.000000000\",\"1990-10-01T00:00:00.000000000\",\"1990-11-01T00:00:00.000000000\",\"1990-12-01T00:00:00.000000000\",\"1991-01-01T00:00:00.000000000\",\"1991-02-01T00:00:00.000000000\",\"1991-03-01T00:00:00.000000000\",\"1991-04-01T00:00:00.000000000\",\"1991-05-01T00:00:00.000000000\",\"1991-06-01T00:00:00.000000000\",\"1991-07-01T00:00:00.000000000\",\"1991-08-01T00:00:00.000000000\",\"1991-09-01T00:00:00.000000000\",\"1991-10-01T00:00:00.000000000\",\"1991-11-01T00:00:00.000000000\",\"1991-12-01T00:00:00.000000000\",\"1992-01-01T00:00:00.000000000\",\"1992-02-01T00:00:00.000000000\",\"1992-03-01T00:00:00.000000000\",\"1992-04-01T00:00:00.000000000\",\"1992-05-01T00:00:00.000000000\",\"1992-06-01T00:00:00.000000000\",\"1992-07-01T00:00:00.000000000\",\"1992-08-01T00:00:00.000000000\",\"1992-09-01T00:00:00.000000000\",\"1992-10-01T00:00:00.000000000\",\"1992-11-01T00:00:00.000000000\",\"1992-12-01T00:00:00.000000000\",\"1993-01-01T00:00:00.000000000\",\"1993-02-01T00:00:00.000000000\",\"1993-03-01T00:00:00.000000000\",\"1993-04-01T00:00:00.000000000\",\"1993-05-01T00:00:00.000000000\",\"1993-06-01T00:00:00.000000000\",\"1993-07-01T00:00:00.000000000\",\"1993-08-01T00:00:00.000000000\",\"1993-09-01T00:00:00.000000000\",\"1993-10-01T00:00:00.000000000\",\"1993-11-01T00:00:00.000000000\",\"1993-12-01T00:00:00.000000000\",\"1994-01-01T00:00:00.000000000\",\"1994-02-01T00:00:00.000000000\",\"1994-03-01T00:00:00.000000000\",\"1994-04-01T00:00:00.000000000\",\"1994-05-01T00:00:00.000000000\",\"1994-06-01T00:00:00.000000000\",\"1994-07-01T00:00:00.000000000\",\"1994-08-01T00:00:00.000000000\",\"1994-09-01T00:00:00.000000000\",\"1994-10-01T00:00:00.000000000\",\"1994-11-01T00:00:00.000000000\",\"1994-12-01T00:00:00.000000000\",\"1995-01-01T00:00:00.000000000\",\"1995-02-01T00:00:00.000000000\",\"1995-03-01T00:00:00.000000000\",\"1995-04-01T00:00:00.000000000\",\"1995-05-01T00:00:00.000000000\",\"1995-06-01T00:00:00.000000000\",\"1995-07-01T00:00:00.000000000\",\"1995-08-01T00:00:00.000000000\",\"1995-09-01T00:00:00.000000000\",\"1995-10-01T00:00:00.000000000\",\"1995-11-01T00:00:00.000000000\",\"1995-12-01T00:00:00.000000000\",\"1996-01-01T00:00:00.000000000\",\"1996-02-01T00:00:00.000000000\",\"1996-03-01T00:00:00.000000000\",\"1996-04-01T00:00:00.000000000\",\"1996-05-01T00:00:00.000000000\",\"1996-06-01T00:00:00.000000000\",\"1996-07-01T00:00:00.000000000\",\"1996-08-01T00:00:00.000000000\",\"1996-09-01T00:00:00.000000000\",\"1996-10-01T00:00:00.000000000\",\"1996-11-01T00:00:00.000000000\",\"1996-12-01T00:00:00.000000000\",\"1997-01-01T00:00:00.000000000\",\"1997-02-01T00:00:00.000000000\",\"1997-03-01T00:00:00.000000000\",\"1997-04-01T00:00:00.000000000\",\"1997-05-01T00:00:00.000000000\",\"1997-06-01T00:00:00.000000000\",\"1997-07-01T00:00:00.000000000\",\"1997-08-01T00:00:00.000000000\",\"1997-09-01T00:00:00.000000000\",\"1997-10-01T00:00:00.000000000\",\"1997-11-01T00:00:00.000000000\",\"1997-12-01T00:00:00.000000000\",\"1998-01-01T00:00:00.000000000\",\"1998-02-01T00:00:00.000000000\",\"1998-03-01T00:00:00.000000000\",\"1998-04-01T00:00:00.000000000\",\"1998-05-01T00:00:00.000000000\",\"1998-06-01T00:00:00.000000000\",\"1998-07-01T00:00:00.000000000\",\"1998-08-01T00:00:00.000000000\",\"1998-09-01T00:00:00.000000000\",\"1998-10-01T00:00:00.000000000\",\"1998-11-01T00:00:00.000000000\",\"1998-12-01T00:00:00.000000000\",\"1999-01-01T00:00:00.000000000\",\"1999-02-01T00:00:00.000000000\",\"1999-03-01T00:00:00.000000000\",\"1999-04-01T00:00:00.000000000\",\"1999-05-01T00:00:00.000000000\",\"1999-06-01T00:00:00.000000000\",\"1999-07-01T00:00:00.000000000\",\"1999-08-01T00:00:00.000000000\",\"1999-09-01T00:00:00.000000000\",\"1999-10-01T00:00:00.000000000\",\"1999-11-01T00:00:00.000000000\",\"1999-12-01T00:00:00.000000000\",\"2000-01-01T00:00:00.000000000\",\"2000-02-01T00:00:00.000000000\",\"2000-03-01T00:00:00.000000000\",\"2000-04-01T00:00:00.000000000\",\"2000-05-01T00:00:00.000000000\",\"2000-06-01T00:00:00.000000000\",\"2000-07-01T00:00:00.000000000\",\"2000-08-01T00:00:00.000000000\",\"2000-09-01T00:00:00.000000000\",\"2000-10-01T00:00:00.000000000\",\"2000-11-01T00:00:00.000000000\",\"2000-12-01T00:00:00.000000000\",\"2001-01-01T00:00:00.000000000\",\"2001-02-01T00:00:00.000000000\",\"2001-03-01T00:00:00.000000000\",\"2001-04-01T00:00:00.000000000\",\"2001-05-01T00:00:00.000000000\",\"2001-06-01T00:00:00.000000000\",\"2001-07-01T00:00:00.000000000\",\"2001-08-01T00:00:00.000000000\",\"2001-09-01T00:00:00.000000000\",\"2001-10-01T00:00:00.000000000\",\"2001-11-01T00:00:00.000000000\",\"2001-12-01T00:00:00.000000000\",\"2002-01-01T00:00:00.000000000\",\"2002-02-01T00:00:00.000000000\",\"2002-03-01T00:00:00.000000000\",\"2002-04-01T00:00:00.000000000\",\"2002-05-01T00:00:00.000000000\",\"2002-06-01T00:00:00.000000000\",\"2002-07-01T00:00:00.000000000\",\"2002-08-01T00:00:00.000000000\",\"2002-09-01T00:00:00.000000000\",\"2002-10-01T00:00:00.000000000\",\"2002-11-01T00:00:00.000000000\",\"2002-12-01T00:00:00.000000000\",\"2003-01-01T00:00:00.000000000\",\"2003-02-01T00:00:00.000000000\",\"2003-03-01T00:00:00.000000000\",\"2003-04-01T00:00:00.000000000\",\"2003-05-01T00:00:00.000000000\",\"2003-06-01T00:00:00.000000000\",\"2003-07-01T00:00:00.000000000\",\"2003-08-01T00:00:00.000000000\",\"2003-09-01T00:00:00.000000000\",\"2003-10-01T00:00:00.000000000\",\"2003-11-01T00:00:00.000000000\",\"2003-12-01T00:00:00.000000000\",\"2004-01-01T00:00:00.000000000\",\"2004-02-01T00:00:00.000000000\",\"2004-03-01T00:00:00.000000000\",\"2004-04-01T00:00:00.000000000\",\"2004-05-01T00:00:00.000000000\",\"2004-06-01T00:00:00.000000000\",\"2004-07-01T00:00:00.000000000\",\"2004-08-01T00:00:00.000000000\",\"2004-09-01T00:00:00.000000000\",\"2004-10-01T00:00:00.000000000\",\"2004-11-01T00:00:00.000000000\",\"2004-12-01T00:00:00.000000000\",\"2005-01-01T00:00:00.000000000\",\"2005-02-01T00:00:00.000000000\",\"2005-03-01T00:00:00.000000000\",\"2005-04-01T00:00:00.000000000\",\"2005-05-01T00:00:00.000000000\",\"2005-06-01T00:00:00.000000000\",\"2005-07-01T00:00:00.000000000\",\"2005-08-01T00:00:00.000000000\",\"2005-09-01T00:00:00.000000000\",\"2005-10-01T00:00:00.000000000\",\"2005-11-01T00:00:00.000000000\",\"2005-12-01T00:00:00.000000000\",\"2006-01-01T00:00:00.000000000\",\"2006-02-01T00:00:00.000000000\",\"2006-03-01T00:00:00.000000000\",\"2006-04-01T00:00:00.000000000\",\"2006-05-01T00:00:00.000000000\",\"2006-06-01T00:00:00.000000000\",\"2006-07-01T00:00:00.000000000\",\"2006-08-01T00:00:00.000000000\",\"2006-09-01T00:00:00.000000000\",\"2006-10-01T00:00:00.000000000\",\"2006-11-01T00:00:00.000000000\",\"2006-12-01T00:00:00.000000000\",\"2007-01-01T00:00:00.000000000\",\"2007-02-01T00:00:00.000000000\",\"2007-03-01T00:00:00.000000000\",\"2007-04-01T00:00:00.000000000\",\"2007-05-01T00:00:00.000000000\",\"2007-06-01T00:00:00.000000000\",\"2007-07-01T00:00:00.000000000\",\"2007-08-01T00:00:00.000000000\",\"2007-09-01T00:00:00.000000000\",\"2007-10-01T00:00:00.000000000\",\"2007-11-01T00:00:00.000000000\",\"2007-12-01T00:00:00.000000000\",\"2008-01-01T00:00:00.000000000\",\"2008-02-01T00:00:00.000000000\",\"2008-03-01T00:00:00.000000000\",\"2008-04-01T00:00:00.000000000\",\"2008-05-01T00:00:00.000000000\",\"2008-06-01T00:00:00.000000000\",\"2008-07-01T00:00:00.000000000\",\"2008-08-01T00:00:00.000000000\",\"2008-09-01T00:00:00.000000000\",\"2008-10-01T00:00:00.000000000\",\"2008-11-01T00:00:00.000000000\",\"2008-12-01T00:00:00.000000000\",\"2009-01-01T00:00:00.000000000\",\"2009-02-01T00:00:00.000000000\",\"2009-03-01T00:00:00.000000000\",\"2009-04-01T00:00:00.000000000\",\"2009-05-01T00:00:00.000000000\",\"2009-06-01T00:00:00.000000000\",\"2009-07-01T00:00:00.000000000\",\"2009-08-01T00:00:00.000000000\",\"2009-09-01T00:00:00.000000000\",\"2009-10-01T00:00:00.000000000\",\"2009-11-01T00:00:00.000000000\",\"2009-12-01T00:00:00.000000000\",\"2010-01-01T00:00:00.000000000\",\"2010-02-01T00:00:00.000000000\",\"2010-03-01T00:00:00.000000000\",\"2010-04-01T00:00:00.000000000\",\"2010-05-01T00:00:00.000000000\",\"2010-06-01T00:00:00.000000000\",\"2010-07-01T00:00:00.000000000\",\"2010-08-01T00:00:00.000000000\",\"2010-09-01T00:00:00.000000000\",\"2010-10-01T00:00:00.000000000\",\"2010-11-01T00:00:00.000000000\",\"2010-12-01T00:00:00.000000000\",\"2011-01-01T00:00:00.000000000\",\"2011-02-01T00:00:00.000000000\",\"2011-03-01T00:00:00.000000000\",\"2011-04-01T00:00:00.000000000\",\"2011-05-01T00:00:00.000000000\",\"2011-06-01T00:00:00.000000000\",\"2011-07-01T00:00:00.000000000\",\"2011-08-01T00:00:00.000000000\",\"2011-09-01T00:00:00.000000000\",\"2011-10-01T00:00:00.000000000\",\"2011-11-01T00:00:00.000000000\",\"2011-12-01T00:00:00.000000000\",\"2012-01-01T00:00:00.000000000\",\"2012-02-01T00:00:00.000000000\",\"2012-03-01T00:00:00.000000000\",\"2012-04-01T00:00:00.000000000\",\"2012-05-01T00:00:00.000000000\",\"2012-06-01T00:00:00.000000000\",\"2012-07-01T00:00:00.000000000\",\"2012-08-01T00:00:00.000000000\",\"2012-09-01T00:00:00.000000000\",\"2012-10-01T00:00:00.000000000\",\"2012-11-01T00:00:00.000000000\",\"2012-12-01T00:00:00.000000000\",\"2013-01-01T00:00:00.000000000\",\"2013-02-01T00:00:00.000000000\",\"2013-03-01T00:00:00.000000000\",\"2013-04-01T00:00:00.000000000\",\"2013-05-01T00:00:00.000000000\",\"2013-06-01T00:00:00.000000000\",\"2013-07-01T00:00:00.000000000\",\"2013-08-01T00:00:00.000000000\",\"2013-09-01T00:00:00.000000000\",\"2013-10-01T00:00:00.000000000\",\"2013-11-01T00:00:00.000000000\",\"2013-12-01T00:00:00.000000000\",\"2014-01-01T00:00:00.000000000\",\"2014-02-01T00:00:00.000000000\",\"2014-03-01T00:00:00.000000000\",\"2014-04-01T00:00:00.000000000\",\"2014-05-01T00:00:00.000000000\",\"2014-06-01T00:00:00.000000000\",\"2014-07-01T00:00:00.000000000\",\"2014-08-01T00:00:00.000000000\",\"2014-09-01T00:00:00.000000000\",\"2014-10-01T00:00:00.000000000\",\"2014-11-01T00:00:00.000000000\",\"2014-12-01T00:00:00.000000000\",\"2015-01-01T00:00:00.000000000\",\"2015-02-01T00:00:00.000000000\",\"2015-03-01T00:00:00.000000000\",\"2015-04-01T00:00:00.000000000\",\"2015-05-01T00:00:00.000000000\",\"2015-06-01T00:00:00.000000000\",\"2015-07-01T00:00:00.000000000\",\"2015-08-01T00:00:00.000000000\",\"2015-09-01T00:00:00.000000000\",\"2015-10-01T00:00:00.000000000\",\"2015-11-01T00:00:00.000000000\",\"2015-12-01T00:00:00.000000000\",\"2016-01-01T00:00:00.000000000\",\"2016-02-01T00:00:00.000000000\",\"2016-03-01T00:00:00.000000000\",\"2016-04-01T00:00:00.000000000\",\"2016-05-01T00:00:00.000000000\",\"2016-06-01T00:00:00.000000000\",\"2016-07-01T00:00:00.000000000\",\"2016-08-01T00:00:00.000000000\",\"2016-09-01T00:00:00.000000000\",\"2016-10-01T00:00:00.000000000\",\"2016-11-01T00:00:00.000000000\",\"2016-12-01T00:00:00.000000000\",\"2017-01-01T00:00:00.000000000\",\"2017-02-01T00:00:00.000000000\",\"2017-03-01T00:00:00.000000000\",\"2017-04-01T00:00:00.000000000\",\"2017-05-01T00:00:00.000000000\",\"2017-06-01T00:00:00.000000000\",\"2017-07-01T00:00:00.000000000\",\"2017-08-01T00:00:00.000000000\",\"2017-09-01T00:00:00.000000000\",\"2017-10-01T00:00:00.000000000\",\"2017-11-01T00:00:00.000000000\",\"2017-12-01T00:00:00.000000000\",\"2018-01-01T00:00:00.000000000\",\"2018-02-01T00:00:00.000000000\",\"2018-03-01T00:00:00.000000000\",\"2018-04-01T00:00:00.000000000\",\"2018-05-01T00:00:00.000000000\",\"2018-06-01T00:00:00.000000000\",\"2018-07-01T00:00:00.000000000\",\"2018-08-01T00:00:00.000000000\",\"2018-09-01T00:00:00.000000000\",\"2018-10-01T00:00:00.000000000\",\"2018-11-01T00:00:00.000000000\",\"2018-12-01T00:00:00.000000000\",\"2019-01-01T00:00:00.000000000\",\"2019-02-01T00:00:00.000000000\",\"2019-03-01T00:00:00.000000000\",\"2019-04-01T00:00:00.000000000\",\"2019-05-01T00:00:00.000000000\",\"2019-06-01T00:00:00.000000000\",\"2019-07-01T00:00:00.000000000\",\"2019-08-01T00:00:00.000000000\",\"2019-09-01T00:00:00.000000000\",\"2019-10-01T00:00:00.000000000\",\"2019-11-01T00:00:00.000000000\",\"2019-12-01T00:00:00.000000000\",\"2020-01-01T00:00:00.000000000\",\"2020-02-01T00:00:00.000000000\",\"2020-03-01T00:00:00.000000000\",\"2020-04-01T00:00:00.000000000\",\"2020-05-01T00:00:00.000000000\",\"2020-06-01T00:00:00.000000000\",\"2020-07-01T00:00:00.000000000\",\"2020-08-01T00:00:00.000000000\",\"2020-09-01T00:00:00.000000000\",\"2020-10-01T00:00:00.000000000\",\"2020-11-01T00:00:00.000000000\",\"2020-12-01T00:00:00.000000000\",\"2021-01-01T00:00:00.000000000\",\"2021-02-01T00:00:00.000000000\",\"2021-03-01T00:00:00.000000000\",\"2021-04-01T00:00:00.000000000\",\"2021-05-01T00:00:00.000000000\",\"2021-06-01T00:00:00.000000000\",\"2021-07-01T00:00:00.000000000\",\"2021-08-01T00:00:00.000000000\",\"2021-09-01T00:00:00.000000000\",\"2021-10-01T00:00:00.000000000\",\"2021-11-01T00:00:00.000000000\",\"2021-12-01T00:00:00.000000000\",\"2022-01-01T00:00:00.000000000\",\"2022-02-01T00:00:00.000000000\",\"2022-03-01T00:00:00.000000000\",\"2022-04-01T00:00:00.000000000\",\"2022-05-01T00:00:00.000000000\",\"2022-06-01T00:00:00.000000000\",\"2022-07-01T00:00:00.000000000\",\"2022-08-01T00:00:00.000000000\",\"2022-09-01T00:00:00.000000000\",\"2022-10-01T00:00:00.000000000\",\"2022-11-01T00:00:00.000000000\",\"2022-12-01T00:00:00.000000000\",\"2023-01-01T00:00:00.000000000\",\"2023-02-01T00:00:00.000000000\",\"2023-03-01T00:00:00.000000000\",\"2023-04-01T00:00:00.000000000\",\"2023-05-01T00:00:00.000000000\",\"2023-06-01T00:00:00.000000000\",\"2023-07-01T00:00:00.000000000\",\"2023-08-01T00:00:00.000000000\",\"2023-09-01T00:00:00.000000000\",\"2023-10-01T00:00:00.000000000\",\"2023-11-01T00:00:00.000000000\",\"2023-12-01T00:00:00.000000000\",\"2024-01-01T00:00:00.000000000\",\"2024-02-01T00:00:00.000000000\",\"2024-03-01T00:00:00.000000000\",\"2024-04-01T00:00:00.000000000\",\"2024-05-01T00:00:00.000000000\",\"2024-06-01T00:00:00.000000000\",\"2024-07-01T00:00:00.000000000\",\"2024-08-01T00:00:00.000000000\",\"2024-09-01T00:00:00.000000000\",\"2024-10-01T00:00:00.000000000\",\"2024-11-01T00:00:00.000000000\",\"2024-12-01T00:00:00.000000000\",\"2025-01-01T00:00:00.000000000\",\"2025-02-01T00:00:00.000000000\",\"2025-03-01T00:00:00.000000000\",\"2025-04-01T00:00:00.000000000\",\"2025-05-01T00:00:00.000000000\",\"2025-06-01T00:00:00.000000000\",\"2025-07-01T00:00:00.000000000\"],\"y\":{\"dtype\":\"f8\",\"bdata\":\"EIJsZEFULkARm8FbxGYxQGnHCoSR7jJAqwzIIcAENkDt7ztxOKU3QEOAvPg0cT1AR0x7IgMpQEA5k1KlRdxAQFbSqLZcdT9Api8yxRNhOECBMNKOFYgyQCBPCfKUoC5A5XFnCbs5MECswXMEitYwQFtJPwupLTVALb9JA9lyM0CY7QBWzCE4QM36CB+zpz5AnSMlx9tmQEAwzKIPrxc\\u002fQNwUo4a\\u002fzT1AG+kLpRNHOkBWfkKclf82QHIjN3IjRzFAhO1kQ7RaMEB7QIfKwQMxQFEHdVAH3TRAFwYZ+A9FNUCYsEDPdME5QFlx4EXlaD5AN3tBzZUOP0DBDbK54wpAQMD43ZecTj1AH7lMjemRN0CepEYZq4gyQEgmhxGOZC1Ash\\u002f7sR\\u002fbMEBu+u+RQwIvQIKzA8bhLjVABWBu3NLeNEBOsWlKVAA3QOIxHuMx7j1AxT05W9wTPkDroA7qoEY+QEr7IBlQD0BAx4rct4cYO0BxGfDJ4TI0QByX6c\\u002foyDBAviYEZe8LLkCxhndGL1UwQDblNAy0HzFAJ24237rrNUDhjabOrz00QMX+KBnfNDtAchAjBzHSQEC57nixJfg\\u002fQBVvFlyloj1A\\u002ffKTYBSfOEB9OcCyzZcyQIVMyIRMyDBAy6e6YeCvLEBoOX+W8zcyQL2lOXhhdTJA4noUrkdXNkCdNtBpA902QISm\\u002fJBXnzxAn3WDKfJZQEAGOPi5iZdAQJ4XJQpA1D9Auz\\u002f9dXRSO0BrOpQ5ZfEyQEY7YYbA2C9AXl1dXV1tLkBQJBGMHdMvQJ\\u002f5uAusgjJAK0yNNWhAMkBMnPo9t\\u002fQ6QHiyWt4YQTxAk96AGeyiQEDY2NjY2Ng\\u002fQHa8OaFEgz1A5ippVFv+OEC2dx3QjfkzQDx37ty5EzBADTn32QXELUDXkXodqXcwQCfq3whltDRAZAQT\\u002fZ2MNkDWUjmPdic5QKalpaWlXT1A3Wl1p9WdP0CNnP5Xl4g\\u002fQF07MNcOjD9AKUj+vMpiNkDBq+cC+NUyQGaFn4rOMTFACTfevqQ5L0Anq+WNEewwQCF1HW4PEjVAWFdXV1fXNUDtw2fYFaA3QIXoRNVGSDpAQSo5L4t4QEBb3wYM1bRAQGLU8LcpJj9ABtYz2XFSOECbrumarrkzQF1QA4zbezBAKahaX5WCL0DBIEqahV0xQEGyzpUHZDRAG7yE\\u002f9ioM0C6FNYoyJ45QKeRfgqzCT5AdSNIeGcxQUBlMf7Kl4RAQODi8S0e3zxADjbYYIONOUBF9aCRd34zQNQHO26hlDFAFBmjWXSwLkAG\\u002fFfF0Z4zQOpThFrnpzRArvuY+HM8NED8hrVvWJ85QI7BsiQEcjxAMDknSwPzQEB+RomfUaJAQNutpm90bj5Ac10TvJ5mN0DTISsdstIyQE4oRi4OWy1AN\\u002fh1enEDLkAk2RaJNkctQP++7ZYTLDJAVy7TymVaNEDWhSfkap04QCnAkO8xzT1AyrcPJ\\u002fmbQECWByTrXAlBQHkT3lMbJz5AlmEZlmEZNkBU8nFKPs4yQARkNExARjBAVogKlJJhLUDdhXnl9C0xQEkVd4X40DNAktgwH4nNNkDjz3aRk2Q6QGgXEJtKgzhAJIn7X\\u002fBPQEBXE8+KRopAQCA2lYacez1AjfGGfjp\\u002fNUCDvqAv6Bs0QKDn5jG6WzBAQAtuS1vpL0CVudZ1NOswQONsZIgvqTNA4wAdXgJ4NEALiljPS5Q2QBQ0av+FYjxAv3M66Vh\\u002fQEBI9Eq3\\u002fpc\\u002fQGP3N5Q8djpAWlpaWloaNUASJmESJqExQPxusr4GTjBA34H4HYh\\u002fLkB3WzsOunAwQClcj8L1ZDVA\\u002fQjYWr46NUC22HHgk1w4QDYF5cd8Iz5AvyJ3mMEXQUCHqcvtD3JAQMMwDMMw\\u002fDtAfjfCJwsnOEDY+YCdD9g0QC+66KKLzjBAgmuy7uEjMEDJNF0MrmoyQL9h7RvWfjRA89H3Bg0pN0DAXSBIcXw7QIu5mIu5GDxAnN70pjeNQEDWOrDJv2pAQMXAfqCaQjtAq\\u002fDAMYS7OkDTGeF0yx81QElUOyAKEzFAPklZgDjBL0BY+4a1b1guQDN8DjN8jjJA\\u002f+by7G8ONkCkgiQAVeQ3QKw217hdjD5A\\u002fyBDZYcJQECXKU6XKU4+QDrfhp3zbTpA\\u002f3DA4w8nOEDPxMd9txQzQJftnzLIdC9AHX844PEHL0BQ3jVDk3MzQFlz1I01JzdAb\\u002fkjNfT0N0At2wrWvVI4QI11bALY0zpAuad45pBYPkDTH7GAO30\\u002fQAi1zk\\u002fg1z1AHFecfGDNOUBLaomhehwzQNx3S6E\\u002fyS9AdcsfqaGnL0AWJ2423zoyQLy3pKcJXTZAxjdKr8RdNECG61G4HiU3QH3ndNKxfj1ADL3QC71gQEDhYXOLDJ5AQLZIUFMhWjxA4LD2DWtjOECDJgpUfyk0QIuyKIuyqDBA3PjOje9cL0DP5iKk2ZIwQAAAAAAAgDNAjY95E95TN0DwzuIcKTk6QGEDxGi8Lz5AScaJZJwIQECCMNKOFTRAQBedj6p04DtA9UNGt1i\\u002fN0C9Mrbf0SsyQBuX2s4ezi9AzcL9NG8NLkAK9j\\u002fZPD00QEHtTgPj9zRAzuEczuEsM0DTFkVwdgA5QANTGJELvD5Ad3d3d3c3QEDimF8\\u002fDZFAQLvBFPmsaz1AVVVVVVVVN0DyrcWjr94xQGiJGPKYbTBAvyxdouDLLkAdKxBG2lExQD\\u002fgTG4CMDRACVwVBH3uNkB+tOzCyZA4QJEtv0kDWT9AMthtOe7gPkDqoA7qoCZAQGDTfrIENjxAgK\\u002fK\\u002fvcqOUDvMa22owkyQK13AoSWtC9AkrcheRuSMEAxvFPBQYAyQEH4pqF4zjNAF1BXoLtdNUBIPDVkgMQ4QA5j970FLD1AkyHXmEoBQEAPsrwOYyQ+QHUtBzf7BTtAjtZojdZIOEAk+a7Lp5QzQNiei2nE\\u002fDBAZBs\\u002fLbbxLUDocz7ncz4vQJNh8opC9jNAkkOCtowUNUAI9BFlaCM7QIwVj8oNcD9AKIF\\u002fEviHQEDNbw7CDCRBQJVc7AtL6T1AViCMtGOVNkCN3MiN3MgyQPutOFN2ey9Awr7KoLNxMECLdT84JjkxQF0rBBmWhDJAysW+sJTcNECNW8Yt45Y2QIp81g2myD9A75ga2Du2QECV7QbF1ltAQPY\\u002fIhzXOT5AjDNdDVHPOECZgtA\\u002fuk0zQN1nFxCbKi9AgWPWaVFSL0BUF9brOXUuQImIiIiI6DJAwxNytS68NkAboE9pD0o7QH2vU0de4T9ANdHNGxqhQED1gqvbxJlAQDVp0qRJ8zxAG4cNt2WCOEARzNrCiQYyQHY2Vc\\u002fKKS9AnvVscny5K0DzjCbAWfMuQNxjLUMHLDNAC26QzR23NkAuKfbtXgM7QIg\\u002fbl3ewT1AtARqGqIAQUB4Nuo7G1VAQOz9QPjayz1AHeCaxhZ\\u002fOUAJCQkJCTE0QLoN7nklRS9AFAktr+chMED7lIXtr08xQDRScI6sSjNAC36FrSQlNECCH\\u002fiBH7g4QPiHf\\u002fiHfzxAatzhEsyOQECC+B2I3wFAQIDuYU6FzDxAgQiQF5+mOEDxYcGM8QI0QEuKM\\u002fE2XTBAhz87ylXtMECGTGXIVIYyQBkT7U+1LTRAA99fAZxqNkBlXCr+9D03QDx37ty5Uz5APRm\\u002fXepJQEBPHTJ9VGtAQBtlVWIMtTtAOix85lVnN0DH8OI8dFwxQITTRA4fyyxAfKbXbAVQK0Crq6urq1swQBA++OCDDzRATjISbrWFNECiSPUeilQ6QBZcpaLbLj5AbMEWbMGoQEBO1Vzka\\u002fNAQELWXfYBrzxAuOeVFOU2O0DHrKD\\u002fPS01QAH1H6veeDBAL\\u002f5EwinNLEDLA5J1rrwvQFGwKFgULDJAzczMzMy8NkDak7kHBSQ5QJGTbpjbiDxAerzShBVbQUC8w2r0EE9BQJ73\\u002fMJh1D1A6Ofn5+fHN0D0AdWxt3YxQFnxDLwkfy9AVVVVVVVVLkB4u+reIVExQH5+fn5+bjJAe4yBbfPoN0AoJycnJ8c6QPG5JU793j5Alzo9nPg1QED385Lu0KVAQKcwSBC1rT5Aw7e9OnwbO0Av5VIu5VIzQKvnrw1NqDBAwjqNHRqUMEB95koOB58vQLHjsTZ\\u002faDRAh0C0m2roM0C8tXDTdpg7QFxNFcOOSj9ADMMwDMNwQEC4IXkbkvdAQNoG3Hxw8TxAdWeMvsumN0BNth+J8lsyQICseuPaSzBASAtVMsqRL0DjnaeBYkIvQCKmkMQxfzFA5Nafw1KPNUDw5hGqzzQ4QBTO+UkyXD1AuZEbuZGbQEDCDI7opzpBQEqyVRTI2T1A76GJDWY8OkDqRVI7+P0yQEPcJ6zTGDFAXWs745cfMEDsSL2O1BswQB8QAfLi0zNAUAd1UAf1N0DIjx8\\u002fflw7QHK24U1coD1A4mkwK\\u002fzUP0B\\u002fgdqdBoZAQJQU0Q6CLj1ArCiNj0wgO0AT+stTUeYzQBcUw9kQMi9ACLdM3UuCL0BeIuapbTEvQPWLSPRKNzRAk7YJx33sNkBjQnVKox09QFUB\\u002foK7Jj9A026fXgrQQUCVjUz12npAQHbYPTZ9kTxAvm7XV9OEOEB7WjEyYak1QGswuOIOqTNArFjLJfZMMUAyXtBQ4UMxQIzHeIzHuDJA1BaY3kp6NUA2WqM1WqM4QGulVmql9j5AaXfMysBEQUCs8FPROUZBQEY8YOIaVT9AeIvYDN4iOkCqgFyale4yQJhx127MQjFArA9yJnFPL0AUvRE80ZsxQExle9cBXTRAyFuagxcWOEBCktHOw5c7QKnWrjFfl0BAS4Jez5LgQECMdh6+PDdBQNLs+Jlb7D5AE4ziM5e7PECSdqxAGOk0QN6xhFcq\\u002fS9A+4sk3A80L0BSVAXk0iwwQCIiIiIiPjFA+b4lZxwENUD6XKH\\u002fsTU4QK8b3fNfoTxAsfYNa99wP0CfXUBsKmVBQB0tRjSKej9AUjcHs99tOEC9WaJo8lYyQKxeYcJmBDJAD11a+VQ3MEBU+XHzP8oyQLy7u7u7VzVA2NjY2NgYNUDZgi3Ygq07QCDW2z37WD1APlfof2wtQEA\\u002fU9Jjl8NAQD1oGNnb5j1AGFc\\u002f6KjAOUB8xVd8xScyQECat\\u002f2W4TFA6Fcilp8DMEANoj7WG5g0QH4NnEGOUDRA65VA65VANUA7qpYSV6U7QJAGaZAGKT1A6lu15japQUBrQ7zwbwBBQBVMR80ldz5AX1YJVPSWOEAQZ4LFmDY1QMXoxyzxQjBA\\u002fhyP6BmqLUB58WniWlMyQOvdZjeMhzRAraHH7CY\\u002fNkDIqNuwCQQ7QEKT8TSuuz1AGgOmMWDaQECXRvPR9+ZAQJjNCz6\\u002fHT5AocoLqrzgOkDX8tWxRLwyQC6BrGG03zFAT1jEnu4EMUClxPFFD7gzQM+JIKQ\\u002fPTJAwq+lcQ8UNUCbAPYkns48QGF6FqZnoT9ApU2HkFQaQkC2zT0EugJBQL3bd54QCT5AcD0K16MmPEA8qpYSV2U1QOMy\\u002fRkduTJAF8sjQlPtL0Cmbg5mv5sxQGxEwwq6RjZAOYaRa0YMO0CKV4IpL5w6QEA2IBuQDT9Aa7hZY29+QUBoHlev\\u002fxFCQFOEuWnhjT1A\\u002fpFpuhjcOkD1sd7A1Bw1QLQfSPeY1TBAIiIiIiICMkBzoIHtcx0zQJ4F2VmQ3TNAamDvmBrYN0BzOIdzONc6QDGF2i+Fmj1AeqEXeqEfQUCuR+F6FGNBQMWudhBzXD1AGSeFeu9oOECH1NFwzK41QNm3QEPWpDFAU4UBJS\\u002f7MEBnJdkqCmQyQOZr1hD3STJATnJg6SQHNkC+0Au90Ps5QGibzgE1qEFAQZ4S5CmBQEA=\"},\"type\":\"scatter\",\"xaxis\":\"x\",\"yaxis\":\"y\"},{\"hovertemplate\":\"%{x}\\u003cbr\\u003eTemp. M\\u00edn: %{y:.1f}\\u00b0C\\u003cextra\\u003e\\u003c\\u002fextra\\u003e\",\"line\":{\"color\":\"#1E90FF\",\"width\":2},\"mode\":\"lines\",\"name\":\"Temp. M\\u00ednima\",\"x\":[\"1980-01-01T00:00:00.000000000\",\"1980-02-01T00:00:00.000000000\",\"1980-03-01T00:00:00.000000000\",\"1980-04-01T00:00:00.000000000\",\"1980-05-01T00:00:00.000000000\",\"1980-06-01T00:00:00.000000000\",\"1980-07-01T00:00:00.000000000\",\"1980-08-01T00:00:00.000000000\",\"1980-09-01T00:00:00.000000000\",\"1980-10-01T00:00:00.000000000\",\"1980-11-01T00:00:00.000000000\",\"1980-12-01T00:00:00.000000000\",\"1981-01-01T00:00:00.000000000\",\"1981-02-01T00:00:00.000000000\",\"1981-03-01T00:00:00.000000000\",\"1981-04-01T00:00:00.000000000\",\"1981-05-01T00:00:00.000000000\",\"1981-06-01T00:00:00.000000000\",\"1981-07-01T00:00:00.000000000\",\"1981-08-01T00:00:00.000000000\",\"1981-09-01T00:00:00.000000000\",\"1981-10-01T00:00:00.000000000\",\"1981-11-01T00:00:00.000000000\",\"1981-12-01T00:00:00.000000000\",\"1982-01-01T00:00:00.000000000\",\"1982-02-01T00:00:00.000000000\",\"1982-03-01T00:00:00.000000000\",\"1982-04-01T00:00:00.000000000\",\"1982-05-01T00:00:00.000000000\",\"1982-06-01T00:00:00.000000000\",\"1982-07-01T00:00:00.000000000\",\"1982-08-01T00:00:00.000000000\",\"1982-09-01T00:00:00.000000000\",\"1982-10-01T00:00:00.000000000\",\"1982-11-01T00:00:00.000000000\",\"1982-12-01T00:00:00.000000000\",\"1983-01-01T00:00:00.000000000\",\"1983-02-01T00:00:00.000000000\",\"1983-03-01T00:00:00.000000000\",\"1983-04-01T00:00:00.000000000\",\"1983-05-01T00:00:00.000000000\",\"1983-06-01T00:00:00.000000000\",\"1983-07-01T00:00:00.000000000\",\"1983-08-01T00:00:00.000000000\",\"1983-09-01T00:00:00.000000000\",\"1983-10-01T00:00:00.000000000\",\"1983-11-01T00:00:00.000000000\",\"1983-12-01T00:00:00.000000000\",\"1984-01-01T00:00:00.000000000\",\"1984-02-01T00:00:00.000000000\",\"1984-03-01T00:00:00.000000000\",\"1984-04-01T00:00:00.000000000\",\"1984-05-01T00:00:00.000000000\",\"1984-06-01T00:00:00.000000000\",\"1984-07-01T00:00:00.000000000\",\"1984-08-01T00:00:00.000000000\",\"1984-09-01T00:00:00.000000000\",\"1984-10-01T00:00:00.000000000\",\"1984-11-01T00:00:00.000000000\",\"1984-12-01T00:00:00.000000000\",\"1985-01-01T00:00:00.000000000\",\"1985-02-01T00:00:00.000000000\",\"1985-03-01T00:00:00.000000000\",\"1985-04-01T00:00:00.000000000\",\"1985-05-01T00:00:00.000000000\",\"1985-06-01T00:00:00.000000000\",\"1985-07-01T00:00:00.000000000\",\"1985-08-01T00:00:00.000000000\",\"1985-09-01T00:00:00.000000000\",\"1985-10-01T00:00:00.000000000\",\"1985-11-01T00:00:00.000000000\",\"1985-12-01T00:00:00.000000000\",\"1986-01-01T00:00:00.000000000\",\"1986-02-01T00:00:00.000000000\",\"1986-03-01T00:00:00.000000000\",\"1986-04-01T00:00:00.000000000\",\"1986-05-01T00:00:00.000000000\",\"1986-06-01T00:00:00.000000000\",\"1986-07-01T00:00:00.000000000\",\"1986-08-01T00:00:00.000000000\",\"1986-09-01T00:00:00.000000000\",\"1986-10-01T00:00:00.000000000\",\"1986-11-01T00:00:00.000000000\",\"1986-12-01T00:00:00.000000000\",\"1987-01-01T00:00:00.000000000\",\"1987-02-01T00:00:00.000000000\",\"1987-03-01T00:00:00.000000000\",\"1987-04-01T00:00:00.000000000\",\"1987-05-01T00:00:00.000000000\",\"1987-06-01T00:00:00.000000000\",\"1987-07-01T00:00:00.000000000\",\"1987-08-01T00:00:00.000000000\",\"1987-09-01T00:00:00.000000000\",\"1987-10-01T00:00:00.000000000\",\"1987-11-01T00:00:00.000000000\",\"1987-12-01T00:00:00.000000000\",\"1988-01-01T00:00:00.000000000\",\"1988-02-01T00:00:00.000000000\",\"1988-03-01T00:00:00.000000000\",\"1988-04-01T00:00:00.000000000\",\"1988-05-01T00:00:00.000000000\",\"1988-06-01T00:00:00.000000000\",\"1988-07-01T00:00:00.000000000\",\"1988-08-01T00:00:00.000000000\",\"1988-09-01T00:00:00.000000000\",\"1988-10-01T00:00:00.000000000\",\"1988-11-01T00:00:00.000000000\",\"1988-12-01T00:00:00.000000000\",\"1989-01-01T00:00:00.000000000\",\"1989-02-01T00:00:00.000000000\",\"1989-03-01T00:00:00.000000000\",\"1989-04-01T00:00:00.000000000\",\"1989-05-01T00:00:00.000000000\",\"1989-06-01T00:00:00.000000000\",\"1989-07-01T00:00:00.000000000\",\"1989-08-01T00:00:00.000000000\",\"1989-09-01T00:00:00.000000000\",\"1989-10-01T00:00:00.000000000\",\"1989-11-01T00:00:00.000000000\",\"1989-12-01T00:00:00.000000000\",\"1990-01-01T00:00:00.000000000\",\"1990-02-01T00:00:00.000000000\",\"1990-03-01T00:00:00.000000000\",\"1990-04-01T00:00:00.000000000\",\"1990-05-01T00:00:00.000000000\",\"1990-06-01T00:00:00.000000000\",\"1990-07-01T00:00:00.000000000\",\"1990-08-01T00:00:00.000000000\",\"1990-09-01T00:00:00.000000000\",\"1990-10-01T00:00:00.000000000\",\"1990-11-01T00:00:00.000000000\",\"1990-12-01T00:00:00.000000000\",\"1991-01-01T00:00:00.000000000\",\"1991-02-01T00:00:00.000000000\",\"1991-03-01T00:00:00.000000000\",\"1991-04-01T00:00:00.000000000\",\"1991-05-01T00:00:00.000000000\",\"1991-06-01T00:00:00.000000000\",\"1991-07-01T00:00:00.000000000\",\"1991-08-01T00:00:00.000000000\",\"1991-09-01T00:00:00.000000000\",\"1991-10-01T00:00:00.000000000\",\"1991-11-01T00:00:00.000000000\",\"1991-12-01T00:00:00.000000000\",\"1992-01-01T00:00:00.000000000\",\"1992-02-01T00:00:00.000000000\",\"1992-03-01T00:00:00.000000000\",\"1992-04-01T00:00:00.000000000\",\"1992-05-01T00:00:00.000000000\",\"1992-06-01T00:00:00.000000000\",\"1992-07-01T00:00:00.000000000\",\"1992-08-01T00:00:00.000000000\",\"1992-09-01T00:00:00.000000000\",\"1992-10-01T00:00:00.000000000\",\"1992-11-01T00:00:00.000000000\",\"1992-12-01T00:00:00.000000000\",\"1993-01-01T00:00:00.000000000\",\"1993-02-01T00:00:00.000000000\",\"1993-03-01T00:00:00.000000000\",\"1993-04-01T00:00:00.000000000\",\"1993-05-01T00:00:00.000000000\",\"1993-06-01T00:00:00.000000000\",\"1993-07-01T00:00:00.000000000\",\"1993-08-01T00:00:00.000000000\",\"1993-09-01T00:00:00.000000000\",\"1993-10-01T00:00:00.000000000\",\"1993-11-01T00:00:00.000000000\",\"1993-12-01T00:00:00.000000000\",\"1994-01-01T00:00:00.000000000\",\"1994-02-01T00:00:00.000000000\",\"1994-03-01T00:00:00.000000000\",\"1994-04-01T00:00:00.000000000\",\"1994-05-01T00:00:00.000000000\",\"1994-06-01T00:00:00.000000000\",\"1994-07-01T00:00:00.000000000\",\"1994-08-01T00:00:00.000000000\",\"1994-09-01T00:00:00.000000000\",\"1994-10-01T00:00:00.000000000\",\"1994-11-01T00:00:00.000000000\",\"1994-12-01T00:00:00.000000000\",\"1995-01-01T00:00:00.000000000\",\"1995-02-01T00:00:00.000000000\",\"1995-03-01T00:00:00.000000000\",\"1995-04-01T00:00:00.000000000\",\"1995-05-01T00:00:00.000000000\",\"1995-06-01T00:00:00.000000000\",\"1995-07-01T00:00:00.000000000\",\"1995-08-01T00:00:00.000000000\",\"1995-09-01T00:00:00.000000000\",\"1995-10-01T00:00:00.000000000\",\"1995-11-01T00:00:00.000000000\",\"1995-12-01T00:00:00.000000000\",\"1996-01-01T00:00:00.000000000\",\"1996-02-01T00:00:00.000000000\",\"1996-03-01T00:00:00.000000000\",\"1996-04-01T00:00:00.000000000\",\"1996-05-01T00:00:00.000000000\",\"1996-06-01T00:00:00.000000000\",\"1996-07-01T00:00:00.000000000\",\"1996-08-01T00:00:00.000000000\",\"1996-09-01T00:00:00.000000000\",\"1996-10-01T00:00:00.000000000\",\"1996-11-01T00:00:00.000000000\",\"1996-12-01T00:00:00.000000000\",\"1997-01-01T00:00:00.000000000\",\"1997-02-01T00:00:00.000000000\",\"1997-03-01T00:00:00.000000000\",\"1997-04-01T00:00:00.000000000\",\"1997-05-01T00:00:00.000000000\",\"1997-06-01T00:00:00.000000000\",\"1997-07-01T00:00:00.000000000\",\"1997-08-01T00:00:00.000000000\",\"1997-09-01T00:00:00.000000000\",\"1997-10-01T00:00:00.000000000\",\"1997-11-01T00:00:00.000000000\",\"1997-12-01T00:00:00.000000000\",\"1998-01-01T00:00:00.000000000\",\"1998-02-01T00:00:00.000000000\",\"1998-03-01T00:00:00.000000000\",\"1998-04-01T00:00:00.000000000\",\"1998-05-01T00:00:00.000000000\",\"1998-06-01T00:00:00.000000000\",\"1998-07-01T00:00:00.000000000\",\"1998-08-01T00:00:00.000000000\",\"1998-09-01T00:00:00.000000000\",\"1998-10-01T00:00:00.000000000\",\"1998-11-01T00:00:00.000000000\",\"1998-12-01T00:00:00.000000000\",\"1999-01-01T00:00:00.000000000\",\"1999-02-01T00:00:00.000000000\",\"1999-03-01T00:00:00.000000000\",\"1999-04-01T00:00:00.000000000\",\"1999-05-01T00:00:00.000000000\",\"1999-06-01T00:00:00.000000000\",\"1999-07-01T00:00:00.000000000\",\"1999-08-01T00:00:00.000000000\",\"1999-09-01T00:00:00.000000000\",\"1999-10-01T00:00:00.000000000\",\"1999-11-01T00:00:00.000000000\",\"1999-12-01T00:00:00.000000000\",\"2000-01-01T00:00:00.000000000\",\"2000-02-01T00:00:00.000000000\",\"2000-03-01T00:00:00.000000000\",\"2000-04-01T00:00:00.000000000\",\"2000-05-01T00:00:00.000000000\",\"2000-06-01T00:00:00.000000000\",\"2000-07-01T00:00:00.000000000\",\"2000-08-01T00:00:00.000000000\",\"2000-09-01T00:00:00.000000000\",\"2000-10-01T00:00:00.000000000\",\"2000-11-01T00:00:00.000000000\",\"2000-12-01T00:00:00.000000000\",\"2001-01-01T00:00:00.000000000\",\"2001-02-01T00:00:00.000000000\",\"2001-03-01T00:00:00.000000000\",\"2001-04-01T00:00:00.000000000\",\"2001-05-01T00:00:00.000000000\",\"2001-06-01T00:00:00.000000000\",\"2001-07-01T00:00:00.000000000\",\"2001-08-01T00:00:00.000000000\",\"2001-09-01T00:00:00.000000000\",\"2001-10-01T00:00:00.000000000\",\"2001-11-01T00:00:00.000000000\",\"2001-12-01T00:00:00.000000000\",\"2002-01-01T00:00:00.000000000\",\"2002-02-01T00:00:00.000000000\",\"2002-03-01T00:00:00.000000000\",\"2002-04-01T00:00:00.000000000\",\"2002-05-01T00:00:00.000000000\",\"2002-06-01T00:00:00.000000000\",\"2002-07-01T00:00:00.000000000\",\"2002-08-01T00:00:00.000000000\",\"2002-09-01T00:00:00.000000000\",\"2002-10-01T00:00:00.000000000\",\"2002-11-01T00:00:00.000000000\",\"2002-12-01T00:00:00.000000000\",\"2003-01-01T00:00:00.000000000\",\"2003-02-01T00:00:00.000000000\",\"2003-03-01T00:00:00.000000000\",\"2003-04-01T00:00:00.000000000\",\"2003-05-01T00:00:00.000000000\",\"2003-06-01T00:00:00.000000000\",\"2003-07-01T00:00:00.000000000\",\"2003-08-01T00:00:00.000000000\",\"2003-09-01T00:00:00.000000000\",\"2003-10-01T00:00:00.000000000\",\"2003-11-01T00:00:00.000000000\",\"2003-12-01T00:00:00.000000000\",\"2004-01-01T00:00:00.000000000\",\"2004-02-01T00:00:00.000000000\",\"2004-03-01T00:00:00.000000000\",\"2004-04-01T00:00:00.000000000\",\"2004-05-01T00:00:00.000000000\",\"2004-06-01T00:00:00.000000000\",\"2004-07-01T00:00:00.000000000\",\"2004-08-01T00:00:00.000000000\",\"2004-09-01T00:00:00.000000000\",\"2004-10-01T00:00:00.000000000\",\"2004-11-01T00:00:00.000000000\",\"2004-12-01T00:00:00.000000000\",\"2005-01-01T00:00:00.000000000\",\"2005-02-01T00:00:00.000000000\",\"2005-03-01T00:00:00.000000000\",\"2005-04-01T00:00:00.000000000\",\"2005-05-01T00:00:00.000000000\",\"2005-06-01T00:00:00.000000000\",\"2005-07-01T00:00:00.000000000\",\"2005-08-01T00:00:00.000000000\",\"2005-09-01T00:00:00.000000000\",\"2005-10-01T00:00:00.000000000\",\"2005-11-01T00:00:00.000000000\",\"2005-12-01T00:00:00.000000000\",\"2006-01-01T00:00:00.000000000\",\"2006-02-01T00:00:00.000000000\",\"2006-03-01T00:00:00.000000000\",\"2006-04-01T00:00:00.000000000\",\"2006-05-01T00:00:00.000000000\",\"2006-06-01T00:00:00.000000000\",\"2006-07-01T00:00:00.000000000\",\"2006-08-01T00:00:00.000000000\",\"2006-09-01T00:00:00.000000000\",\"2006-10-01T00:00:00.000000000\",\"2006-11-01T00:00:00.000000000\",\"2006-12-01T00:00:00.000000000\",\"2007-01-01T00:00:00.000000000\",\"2007-02-01T00:00:00.000000000\",\"2007-03-01T00:00:00.000000000\",\"2007-04-01T00:00:00.000000000\",\"2007-05-01T00:00:00.000000000\",\"2007-06-01T00:00:00.000000000\",\"2007-07-01T00:00:00.000000000\",\"2007-08-01T00:00:00.000000000\",\"2007-09-01T00:00:00.000000000\",\"2007-10-01T00:00:00.000000000\",\"2007-11-01T00:00:00.000000000\",\"2007-12-01T00:00:00.000000000\",\"2008-01-01T00:00:00.000000000\",\"2008-02-01T00:00:00.000000000\",\"2008-03-01T00:00:00.000000000\",\"2008-04-01T00:00:00.000000000\",\"2008-05-01T00:00:00.000000000\",\"2008-06-01T00:00:00.000000000\",\"2008-07-01T00:00:00.000000000\",\"2008-08-01T00:00:00.000000000\",\"2008-09-01T00:00:00.000000000\",\"2008-10-01T00:00:00.000000000\",\"2008-11-01T00:00:00.000000000\",\"2008-12-01T00:00:00.000000000\",\"2009-01-01T00:00:00.000000000\",\"2009-02-01T00:00:00.000000000\",\"2009-03-01T00:00:00.000000000\",\"2009-04-01T00:00:00.000000000\",\"2009-05-01T00:00:00.000000000\",\"2009-06-01T00:00:00.000000000\",\"2009-07-01T00:00:00.000000000\",\"2009-08-01T00:00:00.000000000\",\"2009-09-01T00:00:00.000000000\",\"2009-10-01T00:00:00.000000000\",\"2009-11-01T00:00:00.000000000\",\"2009-12-01T00:00:00.000000000\",\"2010-01-01T00:00:00.000000000\",\"2010-02-01T00:00:00.000000000\",\"2010-03-01T00:00:00.000000000\",\"2010-04-01T00:00:00.000000000\",\"2010-05-01T00:00:00.000000000\",\"2010-06-01T00:00:00.000000000\",\"2010-07-01T00:00:00.000000000\",\"2010-08-01T00:00:00.000000000\",\"2010-09-01T00:00:00.000000000\",\"2010-10-01T00:00:00.000000000\",\"2010-11-01T00:00:00.000000000\",\"2010-12-01T00:00:00.000000000\",\"2011-01-01T00:00:00.000000000\",\"2011-02-01T00:00:00.000000000\",\"2011-03-01T00:00:00.000000000\",\"2011-04-01T00:00:00.000000000\",\"2011-05-01T00:00:00.000000000\",\"2011-06-01T00:00:00.000000000\",\"2011-07-01T00:00:00.000000000\",\"2011-08-01T00:00:00.000000000\",\"2011-09-01T00:00:00.000000000\",\"2011-10-01T00:00:00.000000000\",\"2011-11-01T00:00:00.000000000\",\"2011-12-01T00:00:00.000000000\",\"2012-01-01T00:00:00.000000000\",\"2012-02-01T00:00:00.000000000\",\"2012-03-01T00:00:00.000000000\",\"2012-04-01T00:00:00.000000000\",\"2012-05-01T00:00:00.000000000\",\"2012-06-01T00:00:00.000000000\",\"2012-07-01T00:00:00.000000000\",\"2012-08-01T00:00:00.000000000\",\"2012-09-01T00:00:00.000000000\",\"2012-10-01T00:00:00.000000000\",\"2012-11-01T00:00:00.000000000\",\"2012-12-01T00:00:00.000000000\",\"2013-01-01T00:00:00.000000000\",\"2013-02-01T00:00:00.000000000\",\"2013-03-01T00:00:00.000000000\",\"2013-04-01T00:00:00.000000000\",\"2013-05-01T00:00:00.000000000\",\"2013-06-01T00:00:00.000000000\",\"2013-07-01T00:00:00.000000000\",\"2013-08-01T00:00:00.000000000\",\"2013-09-01T00:00:00.000000000\",\"2013-10-01T00:00:00.000000000\",\"2013-11-01T00:00:00.000000000\",\"2013-12-01T00:00:00.000000000\",\"2014-01-01T00:00:00.000000000\",\"2014-02-01T00:00:00.000000000\",\"2014-03-01T00:00:00.000000000\",\"2014-04-01T00:00:00.000000000\",\"2014-05-01T00:00:00.000000000\",\"2014-06-01T00:00:00.000000000\",\"2014-07-01T00:00:00.000000000\",\"2014-08-01T00:00:00.000000000\",\"2014-09-01T00:00:00.000000000\",\"2014-10-01T00:00:00.000000000\",\"2014-11-01T00:00:00.000000000\",\"2014-12-01T00:00:00.000000000\",\"2015-01-01T00:00:00.000000000\",\"2015-02-01T00:00:00.000000000\",\"2015-03-01T00:00:00.000000000\",\"2015-04-01T00:00:00.000000000\",\"2015-05-01T00:00:00.000000000\",\"2015-06-01T00:00:00.000000000\",\"2015-07-01T00:00:00.000000000\",\"2015-08-01T00:00:00.000000000\",\"2015-09-01T00:00:00.000000000\",\"2015-10-01T00:00:00.000000000\",\"2015-11-01T00:00:00.000000000\",\"2015-12-01T00:00:00.000000000\",\"2016-01-01T00:00:00.000000000\",\"2016-02-01T00:00:00.000000000\",\"2016-03-01T00:00:00.000000000\",\"2016-04-01T00:00:00.000000000\",\"2016-05-01T00:00:00.000000000\",\"2016-06-01T00:00:00.000000000\",\"2016-07-01T00:00:00.000000000\",\"2016-08-01T00:00:00.000000000\",\"2016-09-01T00:00:00.000000000\",\"2016-10-01T00:00:00.000000000\",\"2016-11-01T00:00:00.000000000\",\"2016-12-01T00:00:00.000000000\",\"2017-01-01T00:00:00.000000000\",\"2017-02-01T00:00:00.000000000\",\"2017-03-01T00:00:00.000000000\",\"2017-04-01T00:00:00.000000000\",\"2017-05-01T00:00:00.000000000\",\"2017-06-01T00:00:00.000000000\",\"2017-07-01T00:00:00.000000000\",\"2017-08-01T00:00:00.000000000\",\"2017-09-01T00:00:00.000000000\",\"2017-10-01T00:00:00.000000000\",\"2017-11-01T00:00:00.000000000\",\"2017-12-01T00:00:00.000000000\",\"2018-01-01T00:00:00.000000000\",\"2018-02-01T00:00:00.000000000\",\"2018-03-01T00:00:00.000000000\",\"2018-04-01T00:00:00.000000000\",\"2018-05-01T00:00:00.000000000\",\"2018-06-01T00:00:00.000000000\",\"2018-07-01T00:00:00.000000000\",\"2018-08-01T00:00:00.000000000\",\"2018-09-01T00:00:00.000000000\",\"2018-10-01T00:00:00.000000000\",\"2018-11-01T00:00:00.000000000\",\"2018-12-01T00:00:00.000000000\",\"2019-01-01T00:00:00.000000000\",\"2019-02-01T00:00:00.000000000\",\"2019-03-01T00:00:00.000000000\",\"2019-04-01T00:00:00.000000000\",\"2019-05-01T00:00:00.000000000\",\"2019-06-01T00:00:00.000000000\",\"2019-07-01T00:00:00.000000000\",\"2019-08-01T00:00:00.000000000\",\"2019-09-01T00:00:00.000000000\",\"2019-10-01T00:00:00.000000000\",\"2019-11-01T00:00:00.000000000\",\"2019-12-01T00:00:00.000000000\",\"2020-01-01T00:00:00.000000000\",\"2020-02-01T00:00:00.000000000\",\"2020-03-01T00:00:00.000000000\",\"2020-04-01T00:00:00.000000000\",\"2020-05-01T00:00:00.000000000\",\"2020-06-01T00:00:00.000000000\",\"2020-07-01T00:00:00.000000000\",\"2020-08-01T00:00:00.000000000\",\"2020-09-01T00:00:00.000000000\",\"2020-10-01T00:00:00.000000000\",\"2020-11-01T00:00:00.000000000\",\"2020-12-01T00:00:00.000000000\",\"2021-01-01T00:00:00.000000000\",\"2021-02-01T00:00:00.000000000\",\"2021-03-01T00:00:00.000000000\",\"2021-04-01T00:00:00.000000000\",\"2021-05-01T00:00:00.000000000\",\"2021-06-01T00:00:00.000000000\",\"2021-07-01T00:00:00.000000000\",\"2021-08-01T00:00:00.000000000\",\"2021-09-01T00:00:00.000000000\",\"2021-10-01T00:00:00.000000000\",\"2021-11-01T00:00:00.000000000\",\"2021-12-01T00:00:00.000000000\",\"2022-01-01T00:00:00.000000000\",\"2022-02-01T00:00:00.000000000\",\"2022-03-01T00:00:00.000000000\",\"2022-04-01T00:00:00.000000000\",\"2022-05-01T00:00:00.000000000\",\"2022-06-01T00:00:00.000000000\",\"2022-07-01T00:00:00.000000000\",\"2022-08-01T00:00:00.000000000\",\"2022-09-01T00:00:00.000000000\",\"2022-10-01T00:00:00.000000000\",\"2022-11-01T00:00:00.000000000\",\"2022-12-01T00:00:00.000000000\",\"2023-01-01T00:00:00.000000000\",\"2023-02-01T00:00:00.000000000\",\"2023-03-01T00:00:00.000000000\",\"2023-04-01T00:00:00.000000000\",\"2023-05-01T00:00:00.000000000\",\"2023-06-01T00:00:00.000000000\",\"2023-07-01T00:00:00.000000000\",\"2023-08-01T00:00:00.000000000\",\"2023-09-01T00:00:00.000000000\",\"2023-10-01T00:00:00.000000000\",\"2023-11-01T00:00:00.000000000\",\"2023-12-01T00:00:00.000000000\",\"2024-01-01T00:00:00.000000000\",\"2024-02-01T00:00:00.000000000\",\"2024-03-01T00:00:00.000000000\",\"2024-04-01T00:00:00.000000000\",\"2024-05-01T00:00:00.000000000\",\"2024-06-01T00:00:00.000000000\",\"2024-07-01T00:00:00.000000000\",\"2024-08-01T00:00:00.000000000\",\"2024-09-01T00:00:00.000000000\",\"2024-10-01T00:00:00.000000000\",\"2024-11-01T00:00:00.000000000\",\"2024-12-01T00:00:00.000000000\",\"2025-01-01T00:00:00.000000000\",\"2025-02-01T00:00:00.000000000\",\"2025-03-01T00:00:00.000000000\",\"2025-04-01T00:00:00.000000000\",\"2025-05-01T00:00:00.000000000\",\"2025-06-01T00:00:00.000000000\",\"2025-07-01T00:00:00.000000000\"],\"y\":{\"dtype\":\"f8\",\"bdata\":\"ewxUcuvPFUBgVi20HQwcQNlUGnLuMyBARzSNDj8RI0DgEjSGAGUoQJYxLGoh5i9AM6wknRWOMUBcLRx+acUzQI7jOI7jADNAkY0siGo\\u002fKUAvi7dHHE8hQLeWxbofHAxA8GzUdzbqA0DtWIEw0g4TQJKH7OhfiSJAbBMluzZRJEBbv9O69TsoQHNBik8slzFAbTQbqtXeMkBz+latue0yQDNZceBFJTFAXXlAss6VLEDgc0uc+m0lQPKTLKy2pSFAWMkDk9G9HUDUpSPUUlYeQNejcD0KuyBAcUa7h61vJUCzuj+8ebsqQJwwv6vFbTFA66xEYMICMkAD7IEzMUAzQD4K16NwsTFAOtGhAEO+J0Ar3yWRRYwiQKrfc0uc+hVAEnt52r2PEkAwnn\\u002fXOl0VQCN0L0L3oiFAQ6Nf9XIBJEBlI1O9tu4nQOrknU7eaTFAvLOdqumGMUDAn3GdAHwyQNFjdpOf5DJAhUfKXOs6LkAHfzTt9ukpQPwciKCNxRxAR7XlKmlUF0BZR84E9sUTQEbvaPm0MxxATRNbgVGNJ0CJjBeR8SIlQCqQf1YZZy1ArRtMkc+6MkAF1TN28boyQMdxHMdx7DBAh6inPp1SKECPtJYJnYQlQJHlNj8aoh1AERERERGBEkBwUcL6FiUjQGCNifRA5RlAjyXijeRQJEAGVV5Q5YUnQI\\u002fC9ShcgTBANVqjNVojM0BpHo7m4agyQG7C\\u002fK4W9zJAV3zFV3zFLECBMVqyxnIjQK5H4XoU7htAWdOTgII1FkCWgZpfGageQJe8APIJQx5AiYiIiIgYH0BPCpI\\u002fr7IrQGp9U0QT\\u002fC9A2MPGocuOMkBuD1LX4XYyQPEzSvyMcjJACytYrHWeLUBL3uxcqg0iQHZSZQyLWhZAtfPw5bkJF0DBsM1O8Z4eQJsQlL2vySFAI3QvQvciJkAGgZVDi2wpQCvvsnY6fjBAHtqhHdohM0C9CD4F8s8zQBdrsRZrMTNARfFI+FZUK0Bj3Q+OSd4hQEGiFTYHUiRAq7Lu7F0eIEA7MNcOzDUcQBzHcRzHwR5A2S1tlEAiJkCamZmZmZkqQBQ6DBClODBAHl65ZXJRM0CLFvdKa+ozQB6F61G4GDFAAtsPsP0ALUC83PeHlV0nQAAAAAAAgBNAmpmZmZlRFUBHZIKgvtwcQJOtd+MLuyFAYJXvksgiI0Bbx5sTSjQrQEc+tAdw8jBAOJXNVXTTNEA6WRqYnNM0QImMF5HxojFAJPwht8apLkDdhXnl9K0nQOzOKU72nyVAIfBSjRgCGEC2PnjR6HQfQDT5skGTLyRA0U4S7SRRI0AasHUwUGwrQAvGsWAcizBA3+LxLR5fNEC0lM7QFXE0QBWrU7E6lTNA2f96GDRRLEDynFvRpl4hQHVTpo7eEBlAbN2cy3TxEUB\\u002fGmIKSRwWQM+Dv49P6SJAEUUUUUQRIkA4RP\\u002f0WlQnQPYMRKUjWzFA5iUNbXnJM0DK1qRsTVo0QF47LZDbizJA2d9cnv0tKEAM1PzKQM0fQM8j59O0vR1AG1+ccLTxDUDVRJVdNVEVQHC4Sm+4Sh9AVMYVOWVcJECw0xyv0xwsQN9cnv3NZS1ASJsNv+4aM0Bc3A2XGpIzQGbXrwJaxzBAD2vfsPb9J0BTGC6F4VIhQL7uda97XR5AUFSa+v5ECUAj3cCGHf4YQLVjBcJIOyBAlxJuOuxJIkDcovn9CrIoQBr\\u002fNMmgcTBAxEAMxECMM0Bb5ZEpJ+QzQArXo3A9Ci9A8Q6r0UM8KEDp1p1cpIgiQIKzA8bhLhZAno5KUnRwE0CQrHPlAckYQKxxTjnGGiJAC3OiQwEGIkDoHETFfc4qQHYVvtwQAzFAc\\u002fuDDJUdNEAfhetRuE40QFID1ik1YC9AQRzTQBzTLUBb41QUQ+wlQKOLLrroEhtABFjzzaLJFEDh2KVRIIIfQOmTPumT3iBA+Ke\\u002fjk66JEAhpFJtluMtQEUKxFKkQDFAQzpvMaTzM0B2Yid2Yqc0QMHSSQ4sPS9A6Wj\\u002f22uzLkBz1lbaeRUpQG7btm3btiRAXqoRQ+AlI0Bz9TFXH3MYQEk3H56MdCJA4zx0DC\\u002fOJkC+Wp\\u002f4PcQqQBGrRN53sTFA8UfQlCa+M0BqU5va1KYyQHx9WPWjVjBAC30zFWO\\u002fKUD2id9DLIwjQDp+Ho1RhSJAFIqoPhBQIEDHWlGTxeUgQCfXn70jFCNAbYf70BmDKUCXKU6XKU4sQLjpsCd1ajBA6AxW6AxWMkDLkPI9m1AzQNIWlr1ojjJAi2VoDOMYMEBss3oOZbknQOipUqE0OCFA853TScf6HUCHRBUh3q4iQDtSryP1OiJATY\\u002fAMqR8JEBfg8xeg8wqQBlX5JRxhTFAPCXIU4LgM0AvweUuwWU0QNwNM4a4XTJAsuQXS34RKECaxlK5KLQjQLq5rgleTxFAkCplJBusE0DpcasEHKgSQK+pbl6AliFAaZ9nTt0IJkDlq\\u002fWJ30MtQK+9p0hXQTFAXOACF7gANECFxviYN6EzQHMZzWU0FzFAsfYNa98gL0A6yYGlk9weQER3qt0QxB1ArRgo4Y0mEUAoVoXuViIcQNLx6WuLgyFAM3m2HbNhJEAQSNa58gAtQPLx8fHx8TFAmpmZmZlXM0Ahngazwo8zQGNgOcnGnzFA5DKeVKT4KUBZekgTY2siQK1J2ZqUDSFAix0HPsktIEDxPfObgzAfQF2kU+DNRSZAlb1sDstRJkAlaleidiUrQE79nlvi1DFArblNPoXYMkAepL36bU80QAJMfb41SzJA9sIMLVsvL0CKndiJndggQMRWtw7wuxtAVYT18BaFHEAEAU9NdPMaQGlkLWV+7yNA4fPbeTTLJUBsQN3hwwYqQA19MJAYrjFA8NppgdxeM0CzNSlbk\\u002fIyQF+XVD6MOzFAA1IV877pLEDXf4lPqwQlQG4vDYXhnSJAhSLP2iDFFkBCF3RBF3QZQETKOX7\\u002fSCRAnf6IBdwJJkClt5J+FlItQGcwwzv6KDNAn+tgRiOeM0BklhI2QIw1QM5Dx\\u002fDiHDJAW+LU77nlLUByZwm7+S0lQCucEHkLixxAxanfc0vcG0AII+1YgTAeQP2nUv2n0iBA9qbq6BbUI0BIO1YgjFQpQK5G\\u002fjFWvDJA2ClKzC9HNEDM5KK0uV80QHCp08OJ3zFAE4PAyqFFLEBX9aTQBiEgQDaU11BeIxhAno4cRXVeA0BOTk5OTk4HQAWwWgWw2iFAS3zrUptnJUDl5OTk5GQtQNybqqNb0DJAJCQkJCRkNECU11BeQxE0QEe15SppBDFAe8HVbeJMLUA18Ii5sQAhQBLkKUGeEhtA3GSFEyJvE0Clxy6H96AXQAd1UAd1ECJAfOSQoC2jKECEbycCG7UuQEPH8OI85DFAvGViTtaFNECzUCb1X0c0QOFSRPcEVTJAZsMkcSbPL0CAMlf1pNAnQL\\u002f03ho2KxdA+6RP+qRPEUCuXyQ43PohQBEgXlY3ux5ArWVCJ2GhJUBnJGqQjzQrQHg5BS+n4DBAdLVAhBmZM0ByGgbaz7kzQMqUdwR7SjJAHHLHHHLHK0CmsCyekxchQPe5DmY04hlART7rBlMkG0CezAN9i1siQMe3Fo++eiBANe5wCWYnJkC6zy4gNpUrQE1SrV1jfjFAMQMZ3zO\\u002fM0Cqgb1jagA0QKDRQKjwvDFAuODKr6LFK0C2wagXgJMcQNzpj1jAHRdAFgf46NnKF0BTgjwlyBMbQPaFpeRinyJAYbmnEZb7IkAbGkHAU5MrQBERERERWTJA6elmsSz9M0CxEzuxE7s0QFdJo9pyJTJACW4CJvfQLkCve93rXvckQPJbxS6YAR9AzczMzMxMHEBg9XKBKjQhQIuV4RtRYCJARs9hv1qDKEBXKG6F4lYqQM2NYQ8J6zBAxOCBoUEMNUCBlUOLbAc2QFDA\\u002fgTsTzJAW\\u002fwESnK0KEAAAAAAABQhQJgzVZ+GOSBA4XoUrkfhG0B\\u002fQjaaFC0ZQA2YxoBpjCFA9HeyWt44KkA599kFxGYvQNTwtylGDTJAgyhpFnYfNEBg7CkPMRc1QMoCygLKAjJAxGeZJOxhLUBWAkFWAkEkQGk6ReDjbBhAc1w3Ql4REkBTunwcJqUBQOltY3\\u002ffiR9AdLQY0ShqJEBTvCWP+GEtQOW0vimiiTJAbolTv+c+M0BBGGnHCoQ0QAd1UAd10DFARLuphkB0LECgIm7TTiYmQK8IsPU+PB1ACnpaG50gG0DzmhaX+gsWQBeSplScvSNA6f25VtlwJkDHcRzHcRwpQKJQdJxpEDBAllqplVqpM0At2IIt2JY0QKJEA7cIqDJAcT0K16NwLkCRjBPJOJEeQDLJQ3b0LxdAyI8fP358HkCc+j23xKkdQNtH9mcjvCBAUHvn9Rm0KEAAAAAAAAAsQH83j1B95jBAp6sh6qnPMkDXo3A9CjszQDsFcZlIajJAodGverlAL0CosO1xkNImQF4Is10IsxZAoUKFChWqEUBSnegzf8oXQNkmBwxaOiBArWzRyhYtKEBXwuqZO\\u002fgtQHrffsIsrzFAriY0GU9jNUDLt3zLt\\u002fw0QGXKO4I9BTFA8ZtG8ZtGLkB28HudOnIjQEZpc7\\u002f5LiBA\\u002fijvwkZgIEAUcrUuPCEfQJ56CIYV3hpASBGlouF7JUBY8EvpegUrQLsHOBbhXzFARhvR7ck2NUDkqn9AH1E1QL5OCok\\u002fGDJALBt8OxHYLkA7ubwIPgUjQJoiCvaADiBA2s2WKaJgEUAEjhQN8cchQCTuiDvijiFA044VCCNdJ0DDO+7NFcktQJqZmZmZmTNATsx3BacQNECDfjfod8M0QOV+1nM3ejFAv2YNcZ8wL0Dx5oQSDdwhQLn2YuD7KxdAmMKIXOD5F0DWvmHtG9YSQO\\u002fi5y5+7iFA\\u002ftVf\\u002fdWfJUCkJhhvZZ8pQK38hDgrvzBAVOOlm8QgMkAsABlCsik1QNcYBwLcvjNAF1cAvgMqLEAMO+\\u002f5hcMjQObjLrAKyhpA9W+EMnrbEkC1b1j7hvUXQAPFQ+98HiFAAS9Iyj\\u002f0I0B13mJI5y0tQEZZlEVZRDBAfzuPZtnJM0DzOeBayCU0QI5rLwa+PzJA45Zxy7hlK0DIQHp\\u002frlUkQIwlv1jySyFAwWd6zVYAGEB7vkTA1SEhQNOOFQgjPSNAJcPkFYXsJ0BmiQQLrX8uQHxuiVO\\u002fBzFA1Uqt1EqdNUA5VPnXD180QLLJJptsMjJAHvRj5I10KEA0IMJ5ab8mQHADhmo65h1AbnSCntbGFkBcmpVu+xciQOTiZRugTyFAw64AuddcKEBUMZ4ezFArQFCDQ75G6jBASu816b2mM0BQUyHa8Hk0QLBUe5MCKDJArI+5+pirLED5DLsC5F4eQNe7wKEQ\\u002fR9AiJYcf32nFUCrkdJ0ikAcQG6efEeGjSJAy7OIxY3rI0CwumYw\\u002figuQIyGCchoGDJAt4x6y6h3NUDBiDQ7Y9M0QGF1Mc5Q6DFAjZz+V5eIMEAEqU70mT8mQO5nPXejHyRAnPevGVVhF0DBimfgJfkZQGvpjs983CFAscGMhxFJKEDxNzJxvIAtQHJg6SQHFjNADVLsiTtlNUAm\\u002fSyktkA1QGE8gUr5BjJAh\\u002fxbetXmL0B9bV5PQDEkQJAfP378+BhAv+\\u002fE4ZQMHkAUhP7RbUwhQHMhaUrF2SNAoFdZnNFuJkD7JqZvYnoqQArXo3A9ijFA\\u002fMAP\\u002fMBPNEB7x9TA3vE1QO1dKeJH5DFA\\u002fXmVxRntLkAqDTn32QUpQCy0O8NK0hlAEKEgbBv2GkDFnSBOJqkcQMypkGnXZSNAkF0O70EbJkDOyk+Is\\u002fIoQOy6ruu67jJAtV1nLYliNEA=\"},\"type\":\"scatter\",\"xaxis\":\"x\",\"yaxis\":\"y\"},{\"hovertemplate\":\"%{x}\\u003cbr\\u003ePrecipitaci\\u00f3n: %{y:.1f} mm\\u003cextra\\u003e\\u003c\\u002fextra\\u003e\",\"marker\":{\"color\":\"#228B22\"},\"name\":\"Precipitaci\\u00f3n\",\"opacity\":0.7,\"x\":[\"1980-01-01T00:00:00.000000000\",\"1980-02-01T00:00:00.000000000\",\"1980-03-01T00:00:00.000000000\",\"1980-04-01T00:00:00.000000000\",\"1980-05-01T00:00:00.000000000\",\"1980-06-01T00:00:00.000000000\",\"1980-07-01T00:00:00.000000000\",\"1980-08-01T00:00:00.000000000\",\"1980-09-01T00:00:00.000000000\",\"1980-10-01T00:00:00.000000000\",\"1980-11-01T00:00:00.000000000\",\"1980-12-01T00:00:00.000000000\",\"1981-01-01T00:00:00.000000000\",\"1981-02-01T00:00:00.000000000\",\"1981-03-01T00:00:00.000000000\",\"1981-04-01T00:00:00.000000000\",\"1981-05-01T00:00:00.000000000\",\"1981-06-01T00:00:00.000000000\",\"1981-07-01T00:00:00.000000000\",\"1981-08-01T00:00:00.000000000\",\"1981-09-01T00:00:00.000000000\",\"1981-10-01T00:00:00.000000000\",\"1981-11-01T00:00:00.000000000\",\"1981-12-01T00:00:00.000000000\",\"1982-01-01T00:00:00.000000000\",\"1982-02-01T00:00:00.000000000\",\"1982-03-01T00:00:00.000000000\",\"1982-04-01T00:00:00.000000000\",\"1982-05-01T00:00:00.000000000\",\"1982-06-01T00:00:00.000000000\",\"1982-07-01T00:00:00.000000000\",\"1982-08-01T00:00:00.000000000\",\"1982-09-01T00:00:00.000000000\",\"1982-10-01T00:00:00.000000000\",\"1982-11-01T00:00:00.000000000\",\"1982-12-01T00:00:00.000000000\",\"1983-01-01T00:00:00.000000000\",\"1983-02-01T00:00:00.000000000\",\"1983-03-01T00:00:00.000000000\",\"1983-04-01T00:00:00.000000000\",\"1983-05-01T00:00:00.000000000\",\"1983-06-01T00:00:00.000000000\",\"1983-07-01T00:00:00.000000000\",\"1983-08-01T00:00:00.000000000\",\"1983-09-01T00:00:00.000000000\",\"1983-10-01T00:00:00.000000000\",\"1983-11-01T00:00:00.000000000\",\"1983-12-01T00:00:00.000000000\",\"1984-01-01T00:00:00.000000000\",\"1984-02-01T00:00:00.000000000\",\"1984-03-01T00:00:00.000000000\",\"1984-04-01T00:00:00.000000000\",\"1984-05-01T00:00:00.000000000\",\"1984-06-01T00:00:00.000000000\",\"1984-07-01T00:00:00.000000000\",\"1984-08-01T00:00:00.000000000\",\"1984-09-01T00:00:00.000000000\",\"1984-10-01T00:00:00.000000000\",\"1984-11-01T00:00:00.000000000\",\"1984-12-01T00:00:00.000000000\",\"1985-01-01T00:00:00.000000000\",\"1985-02-01T00:00:00.000000000\",\"1985-03-01T00:00:00.000000000\",\"1985-04-01T00:00:00.000000000\",\"1985-05-01T00:00:00.000000000\",\"1985-06-01T00:00:00.000000000\",\"1985-07-01T00:00:00.000000000\",\"1985-08-01T00:00:00.000000000\",\"1985-09-01T00:00:00.000000000\",\"1985-10-01T00:00:00.000000000\",\"1985-11-01T00:00:00.000000000\",\"1985-12-01T00:00:00.000000000\",\"1986-01-01T00:00:00.000000000\",\"1986-02-01T00:00:00.000000000\",\"1986-03-01T00:00:00.000000000\",\"1986-04-01T00:00:00.000000000\",\"1986-05-01T00:00:00.000000000\",\"1986-06-01T00:00:00.000000000\",\"1986-07-01T00:00:00.000000000\",\"1986-08-01T00:00:00.000000000\",\"1986-09-01T00:00:00.000000000\",\"1986-10-01T00:00:00.000000000\",\"1986-11-01T00:00:00.000000000\",\"1986-12-01T00:00:00.000000000\",\"1987-01-01T00:00:00.000000000\",\"1987-02-01T00:00:00.000000000\",\"1987-03-01T00:00:00.000000000\",\"1987-04-01T00:00:00.000000000\",\"1987-05-01T00:00:00.000000000\",\"1987-06-01T00:00:00.000000000\",\"1987-07-01T00:00:00.000000000\",\"1987-08-01T00:00:00.000000000\",\"1987-09-01T00:00:00.000000000\",\"1987-10-01T00:00:00.000000000\",\"1987-11-01T00:00:00.000000000\",\"1987-12-01T00:00:00.000000000\",\"1988-01-01T00:00:00.000000000\",\"1988-02-01T00:00:00.000000000\",\"1988-03-01T00:00:00.000000000\",\"1988-04-01T00:00:00.000000000\",\"1988-05-01T00:00:00.000000000\",\"1988-06-01T00:00:00.000000000\",\"1988-07-01T00:00:00.000000000\",\"1988-08-01T00:00:00.000000000\",\"1988-09-01T00:00:00.000000000\",\"1988-10-01T00:00:00.000000000\",\"1988-11-01T00:00:00.000000000\",\"1988-12-01T00:00:00.000000000\",\"1989-01-01T00:00:00.000000000\",\"1989-02-01T00:00:00.000000000\",\"1989-03-01T00:00:00.000000000\",\"1989-04-01T00:00:00.000000000\",\"1989-05-01T00:00:00.000000000\",\"1989-06-01T00:00:00.000000000\",\"1989-07-01T00:00:00.000000000\",\"1989-08-01T00:00:00.000000000\",\"1989-09-01T00:00:00.000000000\",\"1989-10-01T00:00:00.000000000\",\"1989-11-01T00:00:00.000000000\",\"1989-12-01T00:00:00.000000000\",\"1990-01-01T00:00:00.000000000\",\"1990-02-01T00:00:00.000000000\",\"1990-03-01T00:00:00.000000000\",\"1990-04-01T00:00:00.000000000\",\"1990-05-01T00:00:00.000000000\",\"1990-06-01T00:00:00.000000000\",\"1990-07-01T00:00:00.000000000\",\"1990-08-01T00:00:00.000000000\",\"1990-09-01T00:00:00.000000000\",\"1990-10-01T00:00:00.000000000\",\"1990-11-01T00:00:00.000000000\",\"1990-12-01T00:00:00.000000000\",\"1991-01-01T00:00:00.000000000\",\"1991-02-01T00:00:00.000000000\",\"1991-03-01T00:00:00.000000000\",\"1991-04-01T00:00:00.000000000\",\"1991-05-01T00:00:00.000000000\",\"1991-06-01T00:00:00.000000000\",\"1991-07-01T00:00:00.000000000\",\"1991-08-01T00:00:00.000000000\",\"1991-09-01T00:00:00.000000000\",\"1991-10-01T00:00:00.000000000\",\"1991-11-01T00:00:00.000000000\",\"1991-12-01T00:00:00.000000000\",\"1992-01-01T00:00:00.000000000\",\"1992-02-01T00:00:00.000000000\",\"1992-03-01T00:00:00.000000000\",\"1992-04-01T00:00:00.000000000\",\"1992-05-01T00:00:00.000000000\",\"1992-06-01T00:00:00.000000000\",\"1992-07-01T00:00:00.000000000\",\"1992-08-01T00:00:00.000000000\",\"1992-09-01T00:00:00.000000000\",\"1992-10-01T00:00:00.000000000\",\"1992-11-01T00:00:00.000000000\",\"1992-12-01T00:00:00.000000000\",\"1993-01-01T00:00:00.000000000\",\"1993-02-01T00:00:00.000000000\",\"1993-03-01T00:00:00.000000000\",\"1993-04-01T00:00:00.000000000\",\"1993-05-01T00:00:00.000000000\",\"1993-06-01T00:00:00.000000000\",\"1993-07-01T00:00:00.000000000\",\"1993-08-01T00:00:00.000000000\",\"1993-09-01T00:00:00.000000000\",\"1993-10-01T00:00:00.000000000\",\"1993-11-01T00:00:00.000000000\",\"1993-12-01T00:00:00.000000000\",\"1994-01-01T00:00:00.000000000\",\"1994-02-01T00:00:00.000000000\",\"1994-03-01T00:00:00.000000000\",\"1994-04-01T00:00:00.000000000\",\"1994-05-01T00:00:00.000000000\",\"1994-06-01T00:00:00.000000000\",\"1994-07-01T00:00:00.000000000\",\"1994-08-01T00:00:00.000000000\",\"1994-09-01T00:00:00.000000000\",\"1994-10-01T00:00:00.000000000\",\"1994-11-01T00:00:00.000000000\",\"1994-12-01T00:00:00.000000000\",\"1995-01-01T00:00:00.000000000\",\"1995-02-01T00:00:00.000000000\",\"1995-03-01T00:00:00.000000000\",\"1995-04-01T00:00:00.000000000\",\"1995-05-01T00:00:00.000000000\",\"1995-06-01T00:00:00.000000000\",\"1995-07-01T00:00:00.000000000\",\"1995-08-01T00:00:00.000000000\",\"1995-09-01T00:00:00.000000000\",\"1995-10-01T00:00:00.000000000\",\"1995-11-01T00:00:00.000000000\",\"1995-12-01T00:00:00.000000000\",\"1996-01-01T00:00:00.000000000\",\"1996-02-01T00:00:00.000000000\",\"1996-03-01T00:00:00.000000000\",\"1996-04-01T00:00:00.000000000\",\"1996-05-01T00:00:00.000000000\",\"1996-06-01T00:00:00.000000000\",\"1996-07-01T00:00:00.000000000\",\"1996-08-01T00:00:00.000000000\",\"1996-09-01T00:00:00.000000000\",\"1996-10-01T00:00:00.000000000\",\"1996-11-01T00:00:00.000000000\",\"1996-12-01T00:00:00.000000000\",\"1997-01-01T00:00:00.000000000\",\"1997-02-01T00:00:00.000000000\",\"1997-03-01T00:00:00.000000000\",\"1997-04-01T00:00:00.000000000\",\"1997-05-01T00:00:00.000000000\",\"1997-06-01T00:00:00.000000000\",\"1997-07-01T00:00:00.000000000\",\"1997-08-01T00:00:00.000000000\",\"1997-09-01T00:00:00.000000000\",\"1997-10-01T00:00:00.000000000\",\"1997-11-01T00:00:00.000000000\",\"1997-12-01T00:00:00.000000000\",\"1998-01-01T00:00:00.000000000\",\"1998-02-01T00:00:00.000000000\",\"1998-03-01T00:00:00.000000000\",\"1998-04-01T00:00:00.000000000\",\"1998-05-01T00:00:00.000000000\",\"1998-06-01T00:00:00.000000000\",\"1998-07-01T00:00:00.000000000\",\"1998-08-01T00:00:00.000000000\",\"1998-09-01T00:00:00.000000000\",\"1998-10-01T00:00:00.000000000\",\"1998-11-01T00:00:00.000000000\",\"1998-12-01T00:00:00.000000000\",\"1999-01-01T00:00:00.000000000\",\"1999-02-01T00:00:00.000000000\",\"1999-03-01T00:00:00.000000000\",\"1999-04-01T00:00:00.000000000\",\"1999-05-01T00:00:00.000000000\",\"1999-06-01T00:00:00.000000000\",\"1999-07-01T00:00:00.000000000\",\"1999-08-01T00:00:00.000000000\",\"1999-09-01T00:00:00.000000000\",\"1999-10-01T00:00:00.000000000\",\"1999-11-01T00:00:00.000000000\",\"1999-12-01T00:00:00.000000000\",\"2000-01-01T00:00:00.000000000\",\"2000-02-01T00:00:00.000000000\",\"2000-03-01T00:00:00.000000000\",\"2000-04-01T00:00:00.000000000\",\"2000-05-01T00:00:00.000000000\",\"2000-06-01T00:00:00.000000000\",\"2000-07-01T00:00:00.000000000\",\"2000-08-01T00:00:00.000000000\",\"2000-09-01T00:00:00.000000000\",\"2000-10-01T00:00:00.000000000\",\"2000-11-01T00:00:00.000000000\",\"2000-12-01T00:00:00.000000000\",\"2001-01-01T00:00:00.000000000\",\"2001-02-01T00:00:00.000000000\",\"2001-03-01T00:00:00.000000000\",\"2001-04-01T00:00:00.000000000\",\"2001-05-01T00:00:00.000000000\",\"2001-06-01T00:00:00.000000000\",\"2001-07-01T00:00:00.000000000\",\"2001-08-01T00:00:00.000000000\",\"2001-09-01T00:00:00.000000000\",\"2001-10-01T00:00:00.000000000\",\"2001-11-01T00:00:00.000000000\",\"2001-12-01T00:00:00.000000000\",\"2002-01-01T00:00:00.000000000\",\"2002-02-01T00:00:00.000000000\",\"2002-03-01T00:00:00.000000000\",\"2002-04-01T00:00:00.000000000\",\"2002-05-01T00:00:00.000000000\",\"2002-06-01T00:00:00.000000000\",\"2002-07-01T00:00:00.000000000\",\"2002-08-01T00:00:00.000000000\",\"2002-09-01T00:00:00.000000000\",\"2002-10-01T00:00:00.000000000\",\"2002-11-01T00:00:00.000000000\",\"2002-12-01T00:00:00.000000000\",\"2003-01-01T00:00:00.000000000\",\"2003-02-01T00:00:00.000000000\",\"2003-03-01T00:00:00.000000000\",\"2003-04-01T00:00:00.000000000\",\"2003-05-01T00:00:00.000000000\",\"2003-06-01T00:00:00.000000000\",\"2003-07-01T00:00:00.000000000\",\"2003-08-01T00:00:00.000000000\",\"2003-09-01T00:00:00.000000000\",\"2003-10-01T00:00:00.000000000\",\"2003-11-01T00:00:00.000000000\",\"2003-12-01T00:00:00.000000000\",\"2004-01-01T00:00:00.000000000\",\"2004-02-01T00:00:00.000000000\",\"2004-03-01T00:00:00.000000000\",\"2004-04-01T00:00:00.000000000\",\"2004-05-01T00:00:00.000000000\",\"2004-06-01T00:00:00.000000000\",\"2004-07-01T00:00:00.000000000\",\"2004-08-01T00:00:00.000000000\",\"2004-09-01T00:00:00.000000000\",\"2004-10-01T00:00:00.000000000\",\"2004-11-01T00:00:00.000000000\",\"2004-12-01T00:00:00.000000000\",\"2005-01-01T00:00:00.000000000\",\"2005-02-01T00:00:00.000000000\",\"2005-03-01T00:00:00.000000000\",\"2005-04-01T00:00:00.000000000\",\"2005-05-01T00:00:00.000000000\",\"2005-06-01T00:00:00.000000000\",\"2005-07-01T00:00:00.000000000\",\"2005-08-01T00:00:00.000000000\",\"2005-09-01T00:00:00.000000000\",\"2005-10-01T00:00:00.000000000\",\"2005-11-01T00:00:00.000000000\",\"2005-12-01T00:00:00.000000000\",\"2006-01-01T00:00:00.000000000\",\"2006-02-01T00:00:00.000000000\",\"2006-03-01T00:00:00.000000000\",\"2006-04-01T00:00:00.000000000\",\"2006-05-01T00:00:00.000000000\",\"2006-06-01T00:00:00.000000000\",\"2006-07-01T00:00:00.000000000\",\"2006-08-01T00:00:00.000000000\",\"2006-09-01T00:00:00.000000000\",\"2006-10-01T00:00:00.000000000\",\"2006-11-01T00:00:00.000000000\",\"2006-12-01T00:00:00.000000000\",\"2007-01-01T00:00:00.000000000\",\"2007-02-01T00:00:00.000000000\",\"2007-03-01T00:00:00.000000000\",\"2007-04-01T00:00:00.000000000\",\"2007-05-01T00:00:00.000000000\",\"2007-06-01T00:00:00.000000000\",\"2007-07-01T00:00:00.000000000\",\"2007-08-01T00:00:00.000000000\",\"2007-09-01T00:00:00.000000000\",\"2007-10-01T00:00:00.000000000\",\"2007-11-01T00:00:00.000000000\",\"2007-12-01T00:00:00.000000000\",\"2008-01-01T00:00:00.000000000\",\"2008-02-01T00:00:00.000000000\",\"2008-03-01T00:00:00.000000000\",\"2008-04-01T00:00:00.000000000\",\"2008-05-01T00:00:00.000000000\",\"2008-06-01T00:00:00.000000000\",\"2008-07-01T00:00:00.000000000\",\"2008-08-01T00:00:00.000000000\",\"2008-09-01T00:00:00.000000000\",\"2008-10-01T00:00:00.000000000\",\"2008-11-01T00:00:00.000000000\",\"2008-12-01T00:00:00.000000000\",\"2009-01-01T00:00:00.000000000\",\"2009-02-01T00:00:00.000000000\",\"2009-03-01T00:00:00.000000000\",\"2009-04-01T00:00:00.000000000\",\"2009-05-01T00:00:00.000000000\",\"2009-06-01T00:00:00.000000000\",\"2009-07-01T00:00:00.000000000\",\"2009-08-01T00:00:00.000000000\",\"2009-09-01T00:00:00.000000000\",\"2009-10-01T00:00:00.000000000\",\"2009-11-01T00:00:00.000000000\",\"2009-12-01T00:00:00.000000000\",\"2010-01-01T00:00:00.000000000\",\"2010-02-01T00:00:00.000000000\",\"2010-03-01T00:00:00.000000000\",\"2010-04-01T00:00:00.000000000\",\"2010-05-01T00:00:00.000000000\",\"2010-06-01T00:00:00.000000000\",\"2010-07-01T00:00:00.000000000\",\"2010-08-01T00:00:00.000000000\",\"2010-09-01T00:00:00.000000000\",\"2010-10-01T00:00:00.000000000\",\"2010-11-01T00:00:00.000000000\",\"2010-12-01T00:00:00.000000000\",\"2011-01-01T00:00:00.000000000\",\"2011-02-01T00:00:00.000000000\",\"2011-03-01T00:00:00.000000000\",\"2011-04-01T00:00:00.000000000\",\"2011-05-01T00:00:00.000000000\",\"2011-06-01T00:00:00.000000000\",\"2011-07-01T00:00:00.000000000\",\"2011-08-01T00:00:00.000000000\",\"2011-09-01T00:00:00.000000000\",\"2011-10-01T00:00:00.000000000\",\"2011-11-01T00:00:00.000000000\",\"2011-12-01T00:00:00.000000000\",\"2012-01-01T00:00:00.000000000\",\"2012-02-01T00:00:00.000000000\",\"2012-03-01T00:00:00.000000000\",\"2012-04-01T00:00:00.000000000\",\"2012-05-01T00:00:00.000000000\",\"2012-06-01T00:00:00.000000000\",\"2012-07-01T00:00:00.000000000\",\"2012-08-01T00:00:00.000000000\",\"2012-09-01T00:00:00.000000000\",\"2012-10-01T00:00:00.000000000\",\"2012-11-01T00:00:00.000000000\",\"2012-12-01T00:00:00.000000000\",\"2013-01-01T00:00:00.000000000\",\"2013-02-01T00:00:00.000000000\",\"2013-03-01T00:00:00.000000000\",\"2013-04-01T00:00:00.000000000\",\"2013-05-01T00:00:00.000000000\",\"2013-06-01T00:00:00.000000000\",\"2013-07-01T00:00:00.000000000\",\"2013-08-01T00:00:00.000000000\",\"2013-09-01T00:00:00.000000000\",\"2013-10-01T00:00:00.000000000\",\"2013-11-01T00:00:00.000000000\",\"2013-12-01T00:00:00.000000000\",\"2014-01-01T00:00:00.000000000\",\"2014-02-01T00:00:00.000000000\",\"2014-03-01T00:00:00.000000000\",\"2014-04-01T00:00:00.000000000\",\"2014-05-01T00:00:00.000000000\",\"2014-06-01T00:00:00.000000000\",\"2014-07-01T00:00:00.000000000\",\"2014-08-01T00:00:00.000000000\",\"2014-09-01T00:00:00.000000000\",\"2014-10-01T00:00:00.000000000\",\"2014-11-01T00:00:00.000000000\",\"2014-12-01T00:00:00.000000000\",\"2015-01-01T00:00:00.000000000\",\"2015-02-01T00:00:00.000000000\",\"2015-03-01T00:00:00.000000000\",\"2015-04-01T00:00:00.000000000\",\"2015-05-01T00:00:00.000000000\",\"2015-06-01T00:00:00.000000000\",\"2015-07-01T00:00:00.000000000\",\"2015-08-01T00:00:00.000000000\",\"2015-09-01T00:00:00.000000000\",\"2015-10-01T00:00:00.000000000\",\"2015-11-01T00:00:00.000000000\",\"2015-12-01T00:00:00.000000000\",\"2016-01-01T00:00:00.000000000\",\"2016-02-01T00:00:00.000000000\",\"2016-03-01T00:00:00.000000000\",\"2016-04-01T00:00:00.000000000\",\"2016-05-01T00:00:00.000000000\",\"2016-06-01T00:00:00.000000000\",\"2016-07-01T00:00:00.000000000\",\"2016-08-01T00:00:00.000000000\",\"2016-09-01T00:00:00.000000000\",\"2016-10-01T00:00:00.000000000\",\"2016-11-01T00:00:00.000000000\",\"2016-12-01T00:00:00.000000000\",\"2017-01-01T00:00:00.000000000\",\"2017-02-01T00:00:00.000000000\",\"2017-03-01T00:00:00.000000000\",\"2017-04-01T00:00:00.000000000\",\"2017-05-01T00:00:00.000000000\",\"2017-06-01T00:00:00.000000000\",\"2017-07-01T00:00:00.000000000\",\"2017-08-01T00:00:00.000000000\",\"2017-09-01T00:00:00.000000000\",\"2017-10-01T00:00:00.000000000\",\"2017-11-01T00:00:00.000000000\",\"2017-12-01T00:00:00.000000000\",\"2018-01-01T00:00:00.000000000\",\"2018-02-01T00:00:00.000000000\",\"2018-03-01T00:00:00.000000000\",\"2018-04-01T00:00:00.000000000\",\"2018-05-01T00:00:00.000000000\",\"2018-06-01T00:00:00.000000000\",\"2018-07-01T00:00:00.000000000\",\"2018-08-01T00:00:00.000000000\",\"2018-09-01T00:00:00.000000000\",\"2018-10-01T00:00:00.000000000\",\"2018-11-01T00:00:00.000000000\",\"2018-12-01T00:00:00.000000000\",\"2019-01-01T00:00:00.000000000\",\"2019-02-01T00:00:00.000000000\",\"2019-03-01T00:00:00.000000000\",\"2019-04-01T00:00:00.000000000\",\"2019-05-01T00:00:00.000000000\",\"2019-06-01T00:00:00.000000000\",\"2019-07-01T00:00:00.000000000\",\"2019-08-01T00:00:00.000000000\",\"2019-09-01T00:00:00.000000000\",\"2019-10-01T00:00:00.000000000\",\"2019-11-01T00:00:00.000000000\",\"2019-12-01T00:00:00.000000000\",\"2020-01-01T00:00:00.000000000\",\"2020-02-01T00:00:00.000000000\",\"2020-03-01T00:00:00.000000000\",\"2020-04-01T00:00:00.000000000\",\"2020-05-01T00:00:00.000000000\",\"2020-06-01T00:00:00.000000000\",\"2020-07-01T00:00:00.000000000\",\"2020-08-01T00:00:00.000000000\",\"2020-09-01T00:00:00.000000000\",\"2020-10-01T00:00:00.000000000\",\"2020-11-01T00:00:00.000000000\",\"2020-12-01T00:00:00.000000000\",\"2021-01-01T00:00:00.000000000\",\"2021-02-01T00:00:00.000000000\",\"2021-03-01T00:00:00.000000000\",\"2021-04-01T00:00:00.000000000\",\"2021-05-01T00:00:00.000000000\",\"2021-06-01T00:00:00.000000000\",\"2021-07-01T00:00:00.000000000\",\"2021-08-01T00:00:00.000000000\",\"2021-09-01T00:00:00.000000000\",\"2021-10-01T00:00:00.000000000\",\"2021-11-01T00:00:00.000000000\",\"2021-12-01T00:00:00.000000000\",\"2022-01-01T00:00:00.000000000\",\"2022-02-01T00:00:00.000000000\",\"2022-03-01T00:00:00.000000000\",\"2022-04-01T00:00:00.000000000\",\"2022-05-01T00:00:00.000000000\",\"2022-06-01T00:00:00.000000000\",\"2022-07-01T00:00:00.000000000\",\"2022-08-01T00:00:00.000000000\",\"2022-09-01T00:00:00.000000000\",\"2022-10-01T00:00:00.000000000\",\"2022-11-01T00:00:00.000000000\",\"2022-12-01T00:00:00.000000000\",\"2023-01-01T00:00:00.000000000\",\"2023-02-01T00:00:00.000000000\",\"2023-03-01T00:00:00.000000000\",\"2023-04-01T00:00:00.000000000\",\"2023-05-01T00:00:00.000000000\",\"2023-06-01T00:00:00.000000000\",\"2023-07-01T00:00:00.000000000\",\"2023-08-01T00:00:00.000000000\",\"2023-09-01T00:00:00.000000000\",\"2023-10-01T00:00:00.000000000\",\"2023-11-01T00:00:00.000000000\",\"2023-12-01T00:00:00.000000000\",\"2024-01-01T00:00:00.000000000\",\"2024-02-01T00:00:00.000000000\",\"2024-03-01T00:00:00.000000000\",\"2024-04-01T00:00:00.000000000\",\"2024-05-01T00:00:00.000000000\",\"2024-06-01T00:00:00.000000000\",\"2024-07-01T00:00:00.000000000\",\"2024-08-01T00:00:00.000000000\",\"2024-09-01T00:00:00.000000000\",\"2024-10-01T00:00:00.000000000\",\"2024-11-01T00:00:00.000000000\",\"2024-12-01T00:00:00.000000000\",\"2025-01-01T00:00:00.000000000\",\"2025-02-01T00:00:00.000000000\",\"2025-03-01T00:00:00.000000000\",\"2025-04-01T00:00:00.000000000\",\"2025-05-01T00:00:00.000000000\",\"2025-06-01T00:00:00.000000000\",\"2025-07-01T00:00:00.000000000\"],\"y\":{\"dtype\":\"f8\",\"bdata\":\"zczMzMxMd0AAAAAAAACAQJqZmZmZLYBAZmZmZma2ZUDNzMzMzISAQDMzMzMzs1FAMzMzMzMz0z8zMzMzM7MwQM3MzMzMvGlAmpmZmZnpd0CamZmZmYGPQAAAAAAAADNAAAAAAAAAHkBmZmZmZiZhQAAAAAAAqHBAZmZmZmbuhUBmZmZmZrZqQGZmZmZmplBAzczMzMzMGEDNzMzMzIxQQM3MzMzMDGVAmpmZmZkZVUCamZmZmZkRQGZmZmZmnpRAmpmZmZnBjECamZmZmRlyQM3MzMzMdHNAZmZmZmb2dUBmZmZmZsZXQDMzMzMzMyNAMzMzMzNzVkCamZmZmVlWQGZmZmZm5lxAAAAAAACAWUAzMzMzM++UQM3MzMzMXHVAZmZmZmZmAkDNzMzMzFRyQDMzMzMzc2VAAAAAAACQfkCamZmZmVlUQGZmZmZmZiZAAAAAAAAAAADNzMzMzIxhQJmZmZmZmSFAmZmZmZlpYUDNzMzMzE+jQDMzMzMzQ4xAmpmZmZnZX0CamZmZmZF+QGZmZmZmXoRAZmZmZmYed0BmZmZmZnKDQM3MzMzMnGFAAAAAAAAAAAAzMzMzMzMHQAAAAAAAgDVAzMzMzMzsZEDNzMzMzA6dQDMzMzMzM1tAMzMzMzNzkUDNzMzMzASFQM3MzMzMjFFAZmZmZmYugUAzMzMzM5txQAAAAAAAgF1AZmZmZmZm5j8AAAAAAAAAAGdmZmZmJkBAmpmZmZmZMUDNzMzMzPSHQJqZmZmZSYhAZmZmZma2dECamZmZmRmBQJqZmZmZaYBAzczMzMwUfEAAAAAAAMBTQAAAAAAAwF1AZmZmZmZmK0AAAAAAAAAAAAAAAAAAIGxAmpmZmZlVgkDNzMzMzPiDQGZmZmZmVmBAmpmZmZmDkEAAAAAAAHSFQGZmZmZmBlBAZmZmZmaOc0DNzMzMzMwjQAAAAAAAAClAAAAAAACgY0AzMzMzMxN1QDMzMzMzc1JAMzMzMzPPh0CamZmZmdmCQDMzMzMzF5hAZmZmZmZyiEBmZmZmZvZxQAAAAAAAwFNAzczMzMwsakCamZmZmel\\u002fQM3MzMzMDGhAmpmZmZmZDUAzMzMzMzPTPzMzMzMzs1lAmpmZmZmFjUDNzMzMzNSGQGZmZmZm5kFAzczMzMyEfkCamZmZme2BQJqZmZmZ2XFAMzMzMzMfhEAAAAAAAMBmQM3MzMzMTEpAAAAAAAAAAADNzMzMzMwaQGZmZmZmhnlAmpmZmZlhhUAzMzMzM7+iQAAAAAAAu6BAmpmZmZm5g0CamZmZmZnJP83MzMzMHG5AMzMzMzM\\u002fjUDNzMzMzCxSQAAAAAAAABRAZmZmZmZmNEDNzMzMzMwgQJqZmZmZ2VhAMzMzMzM7i0AAAAAAANB\\u002fQGdmZmZmVnxAAAAAAABAX0BmZmZmZm6RQDMzMzMz1ZBAzczMzMycbUCamZmZmZk5QDMzMzMz01FAzczMzMzMMkAAAAAAAAAcQGZmZmZmDoZAAAAAAACWlEAzMzMzM+N3QM3MzMzM7HJAZmZmZmYGXkDNzMzMzHCBQGZmZmZmxnJAAAAAAABMgUBmZmZmZtZgQJqZmZmZWYlAAAAAAAAAFkDMzMzMzMwpQJqZmZmZaWlAzczMzMz0kUBmZmZmZiZeQDMzMzMzc21AAAAAAAAYcEDNzMzMzPxpQGZmZmZm9nxAMzMzMzNDgEDNzMzMzMSGQM3MzMzMzEFAAAAAAAAAAABmZmZmZmYGQAAAAAAAgEhAmpmZmZlhjkCamZmZmUWIQDMzMzMz80RAMzMzMzNzfkDNzMzMzPSIQDMzMzMzszBAAAAAAABQc0AAAAAAAEB7QAAAAAAAAAhAAAAAAAAA8D\\u002fNzMzMzMwQQM3MzMzM3GJAmpmZmZkBdUAAAAAAADSGQM3MzMzMLGFAMzMzMzODc0CamZmZmbF5QJmZmZmZmWNAAAAAAACQY0BmZmZmZmYmQDMzMzMzY2JAmpmZmZmZMUAzMzMzMzM2QM3MzMzMzExAzczMzMxMN0AzMzMzM0+LQM3MzMzMJaFAzczMzMzvpkAAAAAAAKyAQGZmZmZmDoBAAAAAAAAYekAzMzMzM9+LQAAAAAAAQERAAAAAAAAAIUCamZmZmVlcQJqZmZmZdYBAMzMzMzOrc0CamZmZmRuVQAAAAAAA7q1AAAAAAADSmkCZmZmZmRkyQAAAAAAAAAAAmpmZmZmxeECamZmZmUF8QDMzMzMzy3NAAAAAAAAAEECZmZmZmdlMQDMzMzMzd4RAMzMzMzPLfUCamZmZmW+aQGZmZmZmjJ1AzczMzMyUhEBnZmZmZgKHQGZmZmZmpmdAMzMzMzMLdEBmZmZmZhaBQDMzMzMzc1JAmpmZmZmZyT8AAAAAAAAUQDMzMzMzq3tAzczMzMxMQEAzMzMzM5NfQDMzMzMzg39AAAAAAAAAfEAzMzMzM2NrQM3MzMzMHHtAMzMzMzPTY0CamZmZmVlgQGZmZmZm5jhAAAAAAABAQkAAAAAAAAAUQDMzMzMz43dAAAAAAACamUCZmZmZmbllQGZmZmZmBnRAzczMzMy8ckA0MzMzMzPjP83MzMzM\\u002fGRAzczMzMyMj0CamZmZmYGBQM3MzMzMzBhAmpmZmZmZyT8AAAAAAAAAAAAAAAAAAGRAAAAAAABsgkDNzMzMzIiBQDMzMzMziZdAmpmZmZnFkECamZmZmQlrQAAAAAAAFIxAmpmZmZkZSEAAAAAAAIB2QAAAAAAAACxAzczMzMzMFEDNzMzMzMwmQDMzMzMzc3pAAAAAAABwhECamZmZmcmFQM3MzMzMTINAzczMzMwkckCamZmZmVlKQM3MzMzMXI1AmpmZmZkRhECamZmZmRleQM3MzMzMDEVAAAAAAAAADEAzMzMzMzMZQAAAAAAAeH9AMzMzMzNjZ0BmZmZmZn6bQGZmZmZmcohAAAAAAADQfUCamZmZmR2DQGZmZmZmZntAZmZmZmZygUCamZmZmdlIQJmZmZmZmSRAmpmZmZmZ2T\\u002fNzMzMzMz0P2ZmZmZmpm1AMzMzMzOVlkCamZmZmVGMQJqZmZmZgZJAZmZmZmamWEAAAAAAAFyEQAAAAAAAEIhAZmZmZmbufECamZmZmfGDQAAAAAAAADJAmpmZmZmZLEAzMzMzM7MzQAAAAAAAgDlAMzMzMzNPgkCamZmZmZlgQM3MzMzMRHlAMzMzMzMzB0AzMzMzM4ODQDMzMzMzs3VAAAAAAABAWUCamZmZmWlhQDQzMzMzM\\u002fM\\u002fZmZmZmZm9j8AAAAAAAAAQM3MzMzMLFJAMzMzMzO7h0CamZmZmalwQAAAAAAA8HBAMzMzMzOjjkAAAAAAAJh+QGZmZmZm+oNAMzMzMzNTdECamZmZmdllQJqZmZmZqWFAMzMzMzMzF0AAAAAAAHBkQDMzMzMzE21AAAAAAABAjkCamZmZmT2MQGZmZmZmJnRAMzMzMzP7e0BmZmZmZlZ5QJqZmZmZ2WRAmpmZmZkxfkAzMzMzMweBQGdmZmZmZjVAmpmZmZmZuT8zMzMzM9NRQM3MzMzMhH5AMzMzMzNTd0AAAAAAABiEQAAAAAAAqHRAzczMzMxEeUAAAAAAAFh6QGZmZmZmhmFAZmZmZmaIkkAzMzMzMzt3QM3MzMzMzC1AZmZmZmYmQkAAAAAAAAAAAM3MzMzMFH1AZmZmZmaYkECamZmZmT2BQJqZmZmZoXtAmpmZmZnFgkAzMzMzM9uIQJqZmZmZSX1AzczMzMzMdEAzMzMzMzNIQDMzMzMzszhAAAAAAAAA+D9mZmZmZmYqQGZmZmZmDnNAAAAAAAB4ckDNzMzMzIRxQJqZmZmZfaNAAAAAAADEk0DNzMzMzO6eQM3MzMzM9IlAAAAAAAB4eUBmZmZmZlZmQDMzMzMzM25AmpmZmZmZBUCZmZmZmVlZQM3MzMzM3GNAAAAAAAA8gEAzMzMzM1uKQM3MzMzMqJlAAAAAAABQeUCamZmZmZmAQJqZmZmZAYFAzczMzMwog0AAAAAAAMB0QAAAAAAAgFxAAAAAAAAAAAAAAAAAAAASQJqZmZmZqWdAAAAAAACId0DNzMzMzDyIQJqZmZmZWVFAzczMzMx8akAzMzMzM3NAQGdmZmZmRmRAzczMzMzwgEDNzMzMzHR5QDMzMzMzM\\u002fM\\u002fAAAAAAAAAAAAAAAAAAAAAGZmZmZm1olAzczMzMwoj0CamZmZmUmZQAAAAAAAsHBAzczMzMy4gUAzMzMzM3uGQM3MzMzM8p5AMzMzMzMfgUAAAAAAAJBoQDQzMzMzMxlAzczMzMzM7D8AAAAAACBlQGZmZmZm1mVAMzMzMzNbeUDNzMzMzAxUQGZmZmZm2oRAzczMzMzQhkAzMzMzM7OIQM3MzMzMTG9AMzMzMzOjf0DNzMzMzAxfQJqZmZmZuVRAmpmZmZmZyT8AAAAAAAAAAGZmZmZmhoFAMzMzMzNPhEBmZmZmZjaZQM3MzMzMrHJAAAAAAACQgUDNzMzMzGxvQM3MzMzMSIJAZmZmZmaOekAzMzMzMzMyQM3MzMzMDElAAAAAAAAAGkCamZmZmZkvQDMzMzMzI2lAMzMzMzNjikAzMzMzM5N6QGZmZmZmFmRAzczMzMz8ekAAAAAAAGB3QJqZmZmZGW5AMzMzMzOjg0BmZmZmZpaRQDMzMzMzM9M\\u002fmZmZmZmZFUCamZmZmZkdQGZmZmZmZkhAzczMzMzgikCamZmZmQGQQJqZmZmZ4YpAMzMzMzOjZkAAAAAAAESEQAAAAAAAxIJAZ2ZmZmY2f0AAAAAAAJh1QDMzMzMzMxdAMzMzMzMzJ0AzMzMzMxNfQM3MzMzMzBpAAAAAAAAoekAAAAAAAHCEQDMzMzMzw3RAMzMzMzN7fkAAAAAAAHByQDMzMzMzUqBAAAAAAACQhkAzMzMzM\\u002fNqQDMzMzMzs0hAzczMzMzMI0AAAAAAAABIQM3MzMzM3GxAzczMzMyakEBmZmZmZoyRQJqZmZmZOVpAZmZmZmaGcUAAAAAAAGBXQJqZmZmZKWRAZmZmZmYag0CamZmZmZkNQJqZmZmZmQFAmpmZmZmZDUDNzMzMzMwmQM3MzMzMFHdAAAAAAACwZkDNzMzMzMSCQAAAAAAAHIdAzczMzMwohkCamZmZmZk1QGZmZmZmPopAZmZmZmZChEDNzMzMzAiBQJmZmZmZmUJAZmZmZmZmCkAzMzMzMzNQQDMzMzMzU1pAmpmZmZkxd0BmZmZmZoiQQAAAAAAAAHRAMzMzMzOnj0DNzMzMzLx8QDMzMzMzc2pAzczMzMxkdUAAAAAAAABmQDMzMzMzI2FAmZmZmZmZ2T9nZmZmZmb+P83MzMzM1HBAZmZmZmamZEAAAAAAAIhyQM3MzMzMWIhAZmZmZmZmSkAAAAAAAEBSQDMzMzMzVZdAzczMzMxwgkAAAAAAAMBbQDMzMzMzMxVAMzMzMzMz0z9mZmZmZmYzQJqZmZmZeVhAmpmZmZlpZ0CamZmZmZF0QDMzMzMzxZlAMzMzMzNzcECamZmZmWlnQGZmZmZmJmRAmpmZmZmZKkAAAAAAAIh8QM3MzMzMZHJAAAAAAAAAAAAAAAAAAADwP2ZmZmZm5nRAMzMzMzNzh0AAAAAAAIhwQM3MzMzMXGdAmpmZmZmBekCamZmZmdGIQAAAAAAAApdAmpmZmZnpYUAAAAAAAAAqQGZmZmZmpktAmpmZmZmZE0BmZmZmZmYlQAAAAAAAgEdAAAAAAABCnEAzMzMzMwN9QJmZmZmZaWJAmpmZmZlBh0AzMzMzM1twQJqZmZmZHqNAzczMzMzkdkBmZmZmZlZmQJqZmZmZWUFAAAAAAAAA8D8=\"},\"type\":\"bar\",\"xaxis\":\"x2\",\"yaxis\":\"y2\"},{\"hovertemplate\":\"%{x}\\u003cbr\\u003eTemp. Media: %{y:.1f}\\u00b0C\\u003cextra\\u003e\\u003c\\u002fextra\\u003e\",\"line\":{\"color\":\"#FF8C00\",\"width\":2},\"mode\":\"lines\",\"name\":\"Temp. Media\",\"x\":[\"1980-01-01T00:00:00.000000000\",\"1980-02-01T00:00:00.000000000\",\"1980-03-01T00:00:00.000000000\",\"1980-04-01T00:00:00.000000000\",\"1980-05-01T00:00:00.000000000\",\"1980-06-01T00:00:00.000000000\",\"1980-07-01T00:00:00.000000000\",\"1980-08-01T00:00:00.000000000\",\"1980-09-01T00:00:00.000000000\",\"1980-10-01T00:00:00.000000000\",\"1980-11-01T00:00:00.000000000\",\"1980-12-01T00:00:00.000000000\",\"1981-01-01T00:00:00.000000000\",\"1981-02-01T00:00:00.000000000\",\"1981-03-01T00:00:00.000000000\",\"1981-04-01T00:00:00.000000000\",\"1981-05-01T00:00:00.000000000\",\"1981-06-01T00:00:00.000000000\",\"1981-07-01T00:00:00.000000000\",\"1981-08-01T00:00:00.000000000\",\"1981-09-01T00:00:00.000000000\",\"1981-10-01T00:00:00.000000000\",\"1981-11-01T00:00:00.000000000\",\"1981-12-01T00:00:00.000000000\",\"1982-01-01T00:00:00.000000000\",\"1982-02-01T00:00:00.000000000\",\"1982-03-01T00:00:00.000000000\",\"1982-04-01T00:00:00.000000000\",\"1982-05-01T00:00:00.000000000\",\"1982-06-01T00:00:00.000000000\",\"1982-07-01T00:00:00.000000000\",\"1982-08-01T00:00:00.000000000\",\"1982-09-01T00:00:00.000000000\",\"1982-10-01T00:00:00.000000000\",\"1982-11-01T00:00:00.000000000\",\"1982-12-01T00:00:00.000000000\",\"1983-01-01T00:00:00.000000000\",\"1983-02-01T00:00:00.000000000\",\"1983-03-01T00:00:00.000000000\",\"1983-04-01T00:00:00.000000000\",\"1983-05-01T00:00:00.000000000\",\"1983-06-01T00:00:00.000000000\",\"1983-07-01T00:00:00.000000000\",\"1983-08-01T00:00:00.000000000\",\"1983-09-01T00:00:00.000000000\",\"1983-10-01T00:00:00.000000000\",\"1983-11-01T00:00:00.000000000\",\"1983-12-01T00:00:00.000000000\",\"1984-01-01T00:00:00.000000000\",\"1984-02-01T00:00:00.000000000\",\"1984-03-01T00:00:00.000000000\",\"1984-04-01T00:00:00.000000000\",\"1984-05-01T00:00:00.000000000\",\"1984-06-01T00:00:00.000000000\",\"1984-07-01T00:00:00.000000000\",\"1984-08-01T00:00:00.000000000\",\"1984-09-01T00:00:00.000000000\",\"1984-10-01T00:00:00.000000000\",\"1984-11-01T00:00:00.000000000\",\"1984-12-01T00:00:00.000000000\",\"1985-01-01T00:00:00.000000000\",\"1985-02-01T00:00:00.000000000\",\"1985-03-01T00:00:00.000000000\",\"1985-04-01T00:00:00.000000000\",\"1985-05-01T00:00:00.000000000\",\"1985-06-01T00:00:00.000000000\",\"1985-07-01T00:00:00.000000000\",\"1985-08-01T00:00:00.000000000\",\"1985-09-01T00:00:00.000000000\",\"1985-10-01T00:00:00.000000000\",\"1985-11-01T00:00:00.000000000\",\"1985-12-01T00:00:00.000000000\",\"1986-01-01T00:00:00.000000000\",\"1986-02-01T00:00:00.000000000\",\"1986-03-01T00:00:00.000000000\",\"1986-04-01T00:00:00.000000000\",\"1986-05-01T00:00:00.000000000\",\"1986-06-01T00:00:00.000000000\",\"1986-07-01T00:00:00.000000000\",\"1986-08-01T00:00:00.000000000\",\"1986-09-01T00:00:00.000000000\",\"1986-10-01T00:00:00.000000000\",\"1986-11-01T00:00:00.000000000\",\"1986-12-01T00:00:00.000000000\",\"1987-01-01T00:00:00.000000000\",\"1987-02-01T00:00:00.000000000\",\"1987-03-01T00:00:00.000000000\",\"1987-04-01T00:00:00.000000000\",\"1987-05-01T00:00:00.000000000\",\"1987-06-01T00:00:00.000000000\",\"1987-07-01T00:00:00.000000000\",\"1987-08-01T00:00:00.000000000\",\"1987-09-01T00:00:00.000000000\",\"1987-10-01T00:00:00.000000000\",\"1987-11-01T00:00:00.000000000\",\"1987-12-01T00:00:00.000000000\",\"1988-01-01T00:00:00.000000000\",\"1988-02-01T00:00:00.000000000\",\"1988-03-01T00:00:00.000000000\",\"1988-04-01T00:00:00.000000000\",\"1988-05-01T00:00:00.000000000\",\"1988-06-01T00:00:00.000000000\",\"1988-07-01T00:00:00.000000000\",\"1988-08-01T00:00:00.000000000\",\"1988-09-01T00:00:00.000000000\",\"1988-10-01T00:00:00.000000000\",\"1988-11-01T00:00:00.000000000\",\"1988-12-01T00:00:00.000000000\",\"1989-01-01T00:00:00.000000000\",\"1989-02-01T00:00:00.000000000\",\"1989-03-01T00:00:00.000000000\",\"1989-04-01T00:00:00.000000000\",\"1989-05-01T00:00:00.000000000\",\"1989-06-01T00:00:00.000000000\",\"1989-07-01T00:00:00.000000000\",\"1989-08-01T00:00:00.000000000\",\"1989-09-01T00:00:00.000000000\",\"1989-10-01T00:00:00.000000000\",\"1989-11-01T00:00:00.000000000\",\"1989-12-01T00:00:00.000000000\",\"1990-01-01T00:00:00.000000000\",\"1990-02-01T00:00:00.000000000\",\"1990-03-01T00:00:00.000000000\",\"1990-04-01T00:00:00.000000000\",\"1990-05-01T00:00:00.000000000\",\"1990-06-01T00:00:00.000000000\",\"1990-07-01T00:00:00.000000000\",\"1990-08-01T00:00:00.000000000\",\"1990-09-01T00:00:00.000000000\",\"1990-10-01T00:00:00.000000000\",\"1990-11-01T00:00:00.000000000\",\"1990-12-01T00:00:00.000000000\",\"1991-01-01T00:00:00.000000000\",\"1991-02-01T00:00:00.000000000\",\"1991-03-01T00:00:00.000000000\",\"1991-04-01T00:00:00.000000000\",\"1991-05-01T00:00:00.000000000\",\"1991-06-01T00:00:00.000000000\",\"1991-07-01T00:00:00.000000000\",\"1991-08-01T00:00:00.000000000\",\"1991-09-01T00:00:00.000000000\",\"1991-10-01T00:00:00.000000000\",\"1991-11-01T00:00:00.000000000\",\"1991-12-01T00:00:00.000000000\",\"1992-01-01T00:00:00.000000000\",\"1992-02-01T00:00:00.000000000\",\"1992-03-01T00:00:00.000000000\",\"1992-04-01T00:00:00.000000000\",\"1992-05-01T00:00:00.000000000\",\"1992-06-01T00:00:00.000000000\",\"1992-07-01T00:00:00.000000000\",\"1992-08-01T00:00:00.000000000\",\"1992-09-01T00:00:00.000000000\",\"1992-10-01T00:00:00.000000000\",\"1992-11-01T00:00:00.000000000\",\"1992-12-01T00:00:00.000000000\",\"1993-01-01T00:00:00.000000000\",\"1993-02-01T00:00:00.000000000\",\"1993-03-01T00:00:00.000000000\",\"1993-04-01T00:00:00.000000000\",\"1993-05-01T00:00:00.000000000\",\"1993-06-01T00:00:00.000000000\",\"1993-07-01T00:00:00.000000000\",\"1993-08-01T00:00:00.000000000\",\"1993-09-01T00:00:00.000000000\",\"1993-10-01T00:00:00.000000000\",\"1993-11-01T00:00:00.000000000\",\"1993-12-01T00:00:00.000000000\",\"1994-01-01T00:00:00.000000000\",\"1994-02-01T00:00:00.000000000\",\"1994-03-01T00:00:00.000000000\",\"1994-04-01T00:00:00.000000000\",\"1994-05-01T00:00:00.000000000\",\"1994-06-01T00:00:00.000000000\",\"1994-07-01T00:00:00.000000000\",\"1994-08-01T00:00:00.000000000\",\"1994-09-01T00:00:00.000000000\",\"1994-10-01T00:00:00.000000000\",\"1994-11-01T00:00:00.000000000\",\"1994-12-01T00:00:00.000000000\",\"1995-01-01T00:00:00.000000000\",\"1995-02-01T00:00:00.000000000\",\"1995-03-01T00:00:00.000000000\",\"1995-04-01T00:00:00.000000000\",\"1995-05-01T00:00:00.000000000\",\"1995-06-01T00:00:00.000000000\",\"1995-07-01T00:00:00.000000000\",\"1995-08-01T00:00:00.000000000\",\"1995-09-01T00:00:00.000000000\",\"1995-10-01T00:00:00.000000000\",\"1995-11-01T00:00:00.000000000\",\"1995-12-01T00:00:00.000000000\",\"1996-01-01T00:00:00.000000000\",\"1996-02-01T00:00:00.000000000\",\"1996-03-01T00:00:00.000000000\",\"1996-04-01T00:00:00.000000000\",\"1996-05-01T00:00:00.000000000\",\"1996-06-01T00:00:00.000000000\",\"1996-07-01T00:00:00.000000000\",\"1996-08-01T00:00:00.000000000\",\"1996-09-01T00:00:00.000000000\",\"1996-10-01T00:00:00.000000000\",\"1996-11-01T00:00:00.000000000\",\"1996-12-01T00:00:00.000000000\",\"1997-01-01T00:00:00.000000000\",\"1997-02-01T00:00:00.000000000\",\"1997-03-01T00:00:00.000000000\",\"1997-04-01T00:00:00.000000000\",\"1997-05-01T00:00:00.000000000\",\"1997-06-01T00:00:00.000000000\",\"1997-07-01T00:00:00.000000000\",\"1997-08-01T00:00:00.000000000\",\"1997-09-01T00:00:00.000000000\",\"1997-10-01T00:00:00.000000000\",\"1997-11-01T00:00:00.000000000\",\"1997-12-01T00:00:00.000000000\",\"1998-01-01T00:00:00.000000000\",\"1998-02-01T00:00:00.000000000\",\"1998-03-01T00:00:00.000000000\",\"1998-04-01T00:00:00.000000000\",\"1998-05-01T00:00:00.000000000\",\"1998-06-01T00:00:00.000000000\",\"1998-07-01T00:00:00.000000000\",\"1998-08-01T00:00:00.000000000\",\"1998-09-01T00:00:00.000000000\",\"1998-10-01T00:00:00.000000000\",\"1998-11-01T00:00:00.000000000\",\"1998-12-01T00:00:00.000000000\",\"1999-01-01T00:00:00.000000000\",\"1999-02-01T00:00:00.000000000\",\"1999-03-01T00:00:00.000000000\",\"1999-04-01T00:00:00.000000000\",\"1999-05-01T00:00:00.000000000\",\"1999-06-01T00:00:00.000000000\",\"1999-07-01T00:00:00.000000000\",\"1999-08-01T00:00:00.000000000\",\"1999-09-01T00:00:00.000000000\",\"1999-10-01T00:00:00.000000000\",\"1999-11-01T00:00:00.000000000\",\"1999-12-01T00:00:00.000000000\",\"2000-01-01T00:00:00.000000000\",\"2000-02-01T00:00:00.000000000\",\"2000-03-01T00:00:00.000000000\",\"2000-04-01T00:00:00.000000000\",\"2000-05-01T00:00:00.000000000\",\"2000-06-01T00:00:00.000000000\",\"2000-07-01T00:00:00.000000000\",\"2000-08-01T00:00:00.000000000\",\"2000-09-01T00:00:00.000000000\",\"2000-10-01T00:00:00.000000000\",\"2000-11-01T00:00:00.000000000\",\"2000-12-01T00:00:00.000000000\",\"2001-01-01T00:00:00.000000000\",\"2001-02-01T00:00:00.000000000\",\"2001-03-01T00:00:00.000000000\",\"2001-04-01T00:00:00.000000000\",\"2001-05-01T00:00:00.000000000\",\"2001-06-01T00:00:00.000000000\",\"2001-07-01T00:00:00.000000000\",\"2001-08-01T00:00:00.000000000\",\"2001-09-01T00:00:00.000000000\",\"2001-10-01T00:00:00.000000000\",\"2001-11-01T00:00:00.000000000\",\"2001-12-01T00:00:00.000000000\",\"2002-01-01T00:00:00.000000000\",\"2002-02-01T00:00:00.000000000\",\"2002-03-01T00:00:00.000000000\",\"2002-04-01T00:00:00.000000000\",\"2002-05-01T00:00:00.000000000\",\"2002-06-01T00:00:00.000000000\",\"2002-07-01T00:00:00.000000000\",\"2002-08-01T00:00:00.000000000\",\"2002-09-01T00:00:00.000000000\",\"2002-10-01T00:00:00.000000000\",\"2002-11-01T00:00:00.000000000\",\"2002-12-01T00:00:00.000000000\",\"2003-01-01T00:00:00.000000000\",\"2003-02-01T00:00:00.000000000\",\"2003-03-01T00:00:00.000000000\",\"2003-04-01T00:00:00.000000000\",\"2003-05-01T00:00:00.000000000\",\"2003-06-01T00:00:00.000000000\",\"2003-07-01T00:00:00.000000000\",\"2003-08-01T00:00:00.000000000\",\"2003-09-01T00:00:00.000000000\",\"2003-10-01T00:00:00.000000000\",\"2003-11-01T00:00:00.000000000\",\"2003-12-01T00:00:00.000000000\",\"2004-01-01T00:00:00.000000000\",\"2004-02-01T00:00:00.000000000\",\"2004-03-01T00:00:00.000000000\",\"2004-04-01T00:00:00.000000000\",\"2004-05-01T00:00:00.000000000\",\"2004-06-01T00:00:00.000000000\",\"2004-07-01T00:00:00.000000000\",\"2004-08-01T00:00:00.000000000\",\"2004-09-01T00:00:00.000000000\",\"2004-10-01T00:00:00.000000000\",\"2004-11-01T00:00:00.000000000\",\"2004-12-01T00:00:00.000000000\",\"2005-01-01T00:00:00.000000000\",\"2005-02-01T00:00:00.000000000\",\"2005-03-01T00:00:00.000000000\",\"2005-04-01T00:00:00.000000000\",\"2005-05-01T00:00:00.000000000\",\"2005-06-01T00:00:00.000000000\",\"2005-07-01T00:00:00.000000000\",\"2005-08-01T00:00:00.000000000\",\"2005-09-01T00:00:00.000000000\",\"2005-10-01T00:00:00.000000000\",\"2005-11-01T00:00:00.000000000\",\"2005-12-01T00:00:00.000000000\",\"2006-01-01T00:00:00.000000000\",\"2006-02-01T00:00:00.000000000\",\"2006-03-01T00:00:00.000000000\",\"2006-04-01T00:00:00.000000000\",\"2006-05-01T00:00:00.000000000\",\"2006-06-01T00:00:00.000000000\",\"2006-07-01T00:00:00.000000000\",\"2006-08-01T00:00:00.000000000\",\"2006-09-01T00:00:00.000000000\",\"2006-10-01T00:00:00.000000000\",\"2006-11-01T00:00:00.000000000\",\"2006-12-01T00:00:00.000000000\",\"2007-01-01T00:00:00.000000000\",\"2007-02-01T00:00:00.000000000\",\"2007-03-01T00:00:00.000000000\",\"2007-04-01T00:00:00.000000000\",\"2007-05-01T00:00:00.000000000\",\"2007-06-01T00:00:00.000000000\",\"2007-07-01T00:00:00.000000000\",\"2007-08-01T00:00:00.000000000\",\"2007-09-01T00:00:00.000000000\",\"2007-10-01T00:00:00.000000000\",\"2007-11-01T00:00:00.000000000\",\"2007-12-01T00:00:00.000000000\",\"2008-01-01T00:00:00.000000000\",\"2008-02-01T00:00:00.000000000\",\"2008-03-01T00:00:00.000000000\",\"2008-04-01T00:00:00.000000000\",\"2008-05-01T00:00:00.000000000\",\"2008-06-01T00:00:00.000000000\",\"2008-07-01T00:00:00.000000000\",\"2008-08-01T00:00:00.000000000\",\"2008-09-01T00:00:00.000000000\",\"2008-10-01T00:00:00.000000000\",\"2008-11-01T00:00:00.000000000\",\"2008-12-01T00:00:00.000000000\",\"2009-01-01T00:00:00.000000000\",\"2009-02-01T00:00:00.000000000\",\"2009-03-01T00:00:00.000000000\",\"2009-04-01T00:00:00.000000000\",\"2009-05-01T00:00:00.000000000\",\"2009-06-01T00:00:00.000000000\",\"2009-07-01T00:00:00.000000000\",\"2009-08-01T00:00:00.000000000\",\"2009-09-01T00:00:00.000000000\",\"2009-10-01T00:00:00.000000000\",\"2009-11-01T00:00:00.000000000\",\"2009-12-01T00:00:00.000000000\",\"2010-01-01T00:00:00.000000000\",\"2010-02-01T00:00:00.000000000\",\"2010-03-01T00:00:00.000000000\",\"2010-04-01T00:00:00.000000000\",\"2010-05-01T00:00:00.000000000\",\"2010-06-01T00:00:00.000000000\",\"2010-07-01T00:00:00.000000000\",\"2010-08-01T00:00:00.000000000\",\"2010-09-01T00:00:00.000000000\",\"2010-10-01T00:00:00.000000000\",\"2010-11-01T00:00:00.000000000\",\"2010-12-01T00:00:00.000000000\",\"2011-01-01T00:00:00.000000000\",\"2011-02-01T00:00:00.000000000\",\"2011-03-01T00:00:00.000000000\",\"2011-04-01T00:00:00.000000000\",\"2011-05-01T00:00:00.000000000\",\"2011-06-01T00:00:00.000000000\",\"2011-07-01T00:00:00.000000000\",\"2011-08-01T00:00:00.000000000\",\"2011-09-01T00:00:00.000000000\",\"2011-10-01T00:00:00.000000000\",\"2011-11-01T00:00:00.000000000\",\"2011-12-01T00:00:00.000000000\",\"2012-01-01T00:00:00.000000000\",\"2012-02-01T00:00:00.000000000\",\"2012-03-01T00:00:00.000000000\",\"2012-04-01T00:00:00.000000000\",\"2012-05-01T00:00:00.000000000\",\"2012-06-01T00:00:00.000000000\",\"2012-07-01T00:00:00.000000000\",\"2012-08-01T00:00:00.000000000\",\"2012-09-01T00:00:00.000000000\",\"2012-10-01T00:00:00.000000000\",\"2012-11-01T00:00:00.000000000\",\"2012-12-01T00:00:00.000000000\",\"2013-01-01T00:00:00.000000000\",\"2013-02-01T00:00:00.000000000\",\"2013-03-01T00:00:00.000000000\",\"2013-04-01T00:00:00.000000000\",\"2013-05-01T00:00:00.000000000\",\"2013-06-01T00:00:00.000000000\",\"2013-07-01T00:00:00.000000000\",\"2013-08-01T00:00:00.000000000\",\"2013-09-01T00:00:00.000000000\",\"2013-10-01T00:00:00.000000000\",\"2013-11-01T00:00:00.000000000\",\"2013-12-01T00:00:00.000000000\",\"2014-01-01T00:00:00.000000000\",\"2014-02-01T00:00:00.000000000\",\"2014-03-01T00:00:00.000000000\",\"2014-04-01T00:00:00.000000000\",\"2014-05-01T00:00:00.000000000\",\"2014-06-01T00:00:00.000000000\",\"2014-07-01T00:00:00.000000000\",\"2014-08-01T00:00:00.000000000\",\"2014-09-01T00:00:00.000000000\",\"2014-10-01T00:00:00.000000000\",\"2014-11-01T00:00:00.000000000\",\"2014-12-01T00:00:00.000000000\",\"2015-01-01T00:00:00.000000000\",\"2015-02-01T00:00:00.000000000\",\"2015-03-01T00:00:00.000000000\",\"2015-04-01T00:00:00.000000000\",\"2015-05-01T00:00:00.000000000\",\"2015-06-01T00:00:00.000000000\",\"2015-07-01T00:00:00.000000000\",\"2015-08-01T00:00:00.000000000\",\"2015-09-01T00:00:00.000000000\",\"2015-10-01T00:00:00.000000000\",\"2015-11-01T00:00:00.000000000\",\"2015-12-01T00:00:00.000000000\",\"2016-01-01T00:00:00.000000000\",\"2016-02-01T00:00:00.000000000\",\"2016-03-01T00:00:00.000000000\",\"2016-04-01T00:00:00.000000000\",\"2016-05-01T00:00:00.000000000\",\"2016-06-01T00:00:00.000000000\",\"2016-07-01T00:00:00.000000000\",\"2016-08-01T00:00:00.000000000\",\"2016-09-01T00:00:00.000000000\",\"2016-10-01T00:00:00.000000000\",\"2016-11-01T00:00:00.000000000\",\"2016-12-01T00:00:00.000000000\",\"2017-01-01T00:00:00.000000000\",\"2017-02-01T00:00:00.000000000\",\"2017-03-01T00:00:00.000000000\",\"2017-04-01T00:00:00.000000000\",\"2017-05-01T00:00:00.000000000\",\"2017-06-01T00:00:00.000000000\",\"2017-07-01T00:00:00.000000000\",\"2017-08-01T00:00:00.000000000\",\"2017-09-01T00:00:00.000000000\",\"2017-10-01T00:00:00.000000000\",\"2017-11-01T00:00:00.000000000\",\"2017-12-01T00:00:00.000000000\",\"2018-01-01T00:00:00.000000000\",\"2018-02-01T00:00:00.000000000\",\"2018-03-01T00:00:00.000000000\",\"2018-04-01T00:00:00.000000000\",\"2018-05-01T00:00:00.000000000\",\"2018-06-01T00:00:00.000000000\",\"2018-07-01T00:00:00.000000000\",\"2018-08-01T00:00:00.000000000\",\"2018-09-01T00:00:00.000000000\",\"2018-10-01T00:00:00.000000000\",\"2018-11-01T00:00:00.000000000\",\"2018-12-01T00:00:00.000000000\",\"2019-01-01T00:00:00.000000000\",\"2019-02-01T00:00:00.000000000\",\"2019-03-01T00:00:00.000000000\",\"2019-04-01T00:00:00.000000000\",\"2019-05-01T00:00:00.000000000\",\"2019-06-01T00:00:00.000000000\",\"2019-07-01T00:00:00.000000000\",\"2019-08-01T00:00:00.000000000\",\"2019-09-01T00:00:00.000000000\",\"2019-10-01T00:00:00.000000000\",\"2019-11-01T00:00:00.000000000\",\"2019-12-01T00:00:00.000000000\",\"2020-01-01T00:00:00.000000000\",\"2020-02-01T00:00:00.000000000\",\"2020-03-01T00:00:00.000000000\",\"2020-04-01T00:00:00.000000000\",\"2020-05-01T00:00:00.000000000\",\"2020-06-01T00:00:00.000000000\",\"2020-07-01T00:00:00.000000000\",\"2020-08-01T00:00:00.000000000\",\"2020-09-01T00:00:00.000000000\",\"2020-10-01T00:00:00.000000000\",\"2020-11-01T00:00:00.000000000\",\"2020-12-01T00:00:00.000000000\",\"2021-01-01T00:00:00.000000000\",\"2021-02-01T00:00:00.000000000\",\"2021-03-01T00:00:00.000000000\",\"2021-04-01T00:00:00.000000000\",\"2021-05-01T00:00:00.000000000\",\"2021-06-01T00:00:00.000000000\",\"2021-07-01T00:00:00.000000000\",\"2021-08-01T00:00:00.000000000\",\"2021-09-01T00:00:00.000000000\",\"2021-10-01T00:00:00.000000000\",\"2021-11-01T00:00:00.000000000\",\"2021-12-01T00:00:00.000000000\",\"2022-01-01T00:00:00.000000000\",\"2022-02-01T00:00:00.000000000\",\"2022-03-01T00:00:00.000000000\",\"2022-04-01T00:00:00.000000000\",\"2022-05-01T00:00:00.000000000\",\"2022-06-01T00:00:00.000000000\",\"2022-07-01T00:00:00.000000000\",\"2022-08-01T00:00:00.000000000\",\"2022-09-01T00:00:00.000000000\",\"2022-10-01T00:00:00.000000000\",\"2022-11-01T00:00:00.000000000\",\"2022-12-01T00:00:00.000000000\",\"2023-01-01T00:00:00.000000000\",\"2023-02-01T00:00:00.000000000\",\"2023-03-01T00:00:00.000000000\",\"2023-04-01T00:00:00.000000000\",\"2023-05-01T00:00:00.000000000\",\"2023-06-01T00:00:00.000000000\",\"2023-07-01T00:00:00.000000000\",\"2023-08-01T00:00:00.000000000\",\"2023-09-01T00:00:00.000000000\",\"2023-10-01T00:00:00.000000000\",\"2023-11-01T00:00:00.000000000\",\"2023-12-01T00:00:00.000000000\",\"2024-01-01T00:00:00.000000000\",\"2024-02-01T00:00:00.000000000\",\"2024-03-01T00:00:00.000000000\",\"2024-04-01T00:00:00.000000000\",\"2024-05-01T00:00:00.000000000\",\"2024-06-01T00:00:00.000000000\",\"2024-07-01T00:00:00.000000000\",\"2024-08-01T00:00:00.000000000\",\"2024-09-01T00:00:00.000000000\",\"2024-10-01T00:00:00.000000000\",\"2024-11-01T00:00:00.000000000\",\"2024-12-01T00:00:00.000000000\",\"2025-01-01T00:00:00.000000000\",\"2025-02-01T00:00:00.000000000\",\"2025-03-01T00:00:00.000000000\",\"2025-04-01T00:00:00.000000000\",\"2025-05-01T00:00:00.000000000\",\"2025-06-01T00:00:00.000000000\",\"2025-07-01T00:00:00.000000000\"],\"y\":{\"dtype\":\"f8\",\"bdata\":\"2MG5lqnQJECI6naobgcpQKUdKxBG4itAorE+NNbHL0CxK0DuNecxQKCN8LKTzzZAnu+nxksXOUBlLFvo6rs6QCpBnhLkaTlAp1H8plHcMkDv7u7u7nYrQNkysFn6zyJAKyMEiJdVI0DgIjnre8EnQLAEWq8EWi9A3z6c5G\\u002fVLUCWL8li\\u002fPUxQGguzOiZCzhAOGue0QTYOUBKFuOvfAk5QPUsTM\\u002fCnDdACHVQB3VsNED4D8XB3e8wQILLGEkn8ilA+vF6FzjUJ0BadxH2VYYoQFVVVVVV1S1ACWhULOUzMED+E7bDYqIzQML1KFyP+jdAO26h1AebOEBeaJPQhbY5QHoxbI+klzdA2v3s6RfmMUAwT7v3kdErQN7d3d3dZSRAfW\\u002fQkKoBJkA3xajhb9MlQPBymfguFy5AfTYMJs\\u002fnLkCAoYnU13sxQFjSy5+2sDdAUxguheHSN0Cl\\u002flZA6m84QGRRqcCStTlAUyu1UitVNUBGysDTrakwQF33MfHnGChAZIIH80TdJECO4ziO46glQIbfo8tbJihAOVxx5I\\u002fDMEAPEHfTXqMuQAlfM0x15TRAviSL8VceOkAaVtA1omE5QE09sLoYJzdAKvviUeuDMkAnnzk8d1stQL\\u002fFLaXZCyhAJgy+0xTYIkCN3XQaNSksQDF1uf1BBilA69f\\u002fSqs+MEChDuqgDlIxQAL2J2B\\u002fijZAW52o1YnaOUB1BtaQUuc5QEahPtBalDlAnC3uydkiNUCTKKa0XacsQOqMVwahySZAe\\u002fXq1avXJEDDgPfwgnEnQFbtWtsZvypAGmcBNp\\u002fRKUDQ4lDlX380QEGrLxW0+jVAcRd3cRf3OUAgsYA7\\u002fRk5QApreGf0EjhAfdoZdSHuM0BYa5BLgtMsQLOrjBAg3iVANmOQveqXJEC+eTXxrCgpQNPS0tLS0i1Avpz3rxmVMEANYrcMYvcyQIxJAv0+hjZAC1nIQhYyOUA4ZbtBsbU5QIk5rhshbzlAMr5nfnMQMkCGrZd8b5IrQK4IbV+vmStA\\u002f7Cyiwy5J0C3hs1KshUoQKrH3g3p6SxAPCyfqQd2MEDMzMzMzFwyQLWBThvoNDVAeylAd9hWOkBZgTDSjtE6QLmXHaGJOzhACxz+65aSM0BMqE5ptJMvQGyR87sf1iVA72Piz\\u002fFIJUA5sHSSA8soQIU3mjq\\u002fNi1ADZSGoWtXLUDLpVzKpaQzQNK4HI3LkTdAaYptsxfUO0C2ffRBt+o6QLvnkfNpWjdAffwjz7RiNECa\\u002fTfDrFkvQJGYWpbTaixAIY03beNgJUBFrToReocrQNa+Ye0bDi9AMDAwMDDwLUCQsinCg5szQIWxbTBcmDZAklGUfSgsO0AevK06ot46QJspZZ4A5DhAU2CH\\u002fFvaMkDXIEz2OjcrQN+w9g1r0yRAkujs+SBWI0B84wMuS6QkQPbw47xHqCtAzJbu2e0sLUDI2YY3cQEyQJQyxwAHvzdA\\u002fHSGn85wOkCcrK+BMyg7QDcZXClzUzhA4Lpx37oxMUA88w1KkbEqQDeB0hR6uCdAPnzkSRNYIkDAWfOMJoAmQPnx48ePnytAx1h9xlh9MEBO6fmNS1s0QKKz54NYtjNATtLiJC3uOUB3CBcyG0w6QH9fYnkxQjdA6k1vetPnMEBhZasLENYsQAursAqr8CdA1FKYhrc6I0D9EQu40x8nQO5\\u002fwT8l3ytA8qgW8qiWLUCRZRRZRpExQK7qFro5ijZAXkyLZ2pUOkDMRlA9Y8c5QFEHdVAH9TRA7hvWvmGdMEB42FauOdUqQDoBVHo76iVAKSg\\u002f5hv3I0DBT3iokWYnQC1Mz8L0HC5ALinzBd4SLkBFTJlXxNQyQCUHlk5ymDdA\\u002fUPf1gAvO0AcD04TOZw6QIZ03mJIxzVAvdALvdCLM0AmyFOCPJ0vQOobGa1uiydAbvHkFk9uJUDhyw0xIN0qQJHFCyGzlSxAZxLUR0zWMED8T6tZ7HI1QA3JUl6u6TZAFrKQhSzsOkB26p4YuPo6QLOWHSR7gzVAtz\\u002fIUNkxNUAHPP5wwAMxQG3Qftk7eStAOVvVim7hKUAEtP8pSY8lQKzA5sRU8StAtLgFiTrhMEDreYnKlMIyQNVn67cDbThAQu2QXloPOkB7M+XxO4E4QPw3pg5\\u002fRDVAvhk96LNkMkCjSYA138wsQPmP6Pet4yhALUqJGN+HJ0APGXvt8iMrQD\\u002f5kz\\u002f5EzBAa3glA4smMkDdKQztahYzQEI5vSCzejVAKNpq8BxpOECj6yUJLjg5QPEiWYVzMjhAxfb65U7iNECRtrDsRbMuQFxIWRHDTyhA\\u002fKcMMl0WJ0DtRwlc+1ErQHTAJLqx7S5A6wKEla2uLkC96gOG+08yQCHTZfunnDdAPdjW9O+YOkBQB3VQB7U6QGhnZ2dnJzdASnRj22QRMkC83kZ\\u002fKOQtQK0VeJL\\u002fACVA5yhazD2WJEAehetRuGYlQKehcwOC9itAX5LF+Cv\\u002fMECqqampqSk0QAS+Rx+zZTdAetBnyXiNOUBXtw7wu4k5QP3VX\\u002f3VHzZAP8qmCA9uM0DxlCBPCXYpQEfhehSulydA7nAfOmOwI0CMv\\u002fIlWSwrQJIkSZIkqS1AppizfemRLUCqgaTlMtgzQB0Zg46bMzhAX7oS\\u002fKUrOkC0YwXCSCM6QEQIbi5WHTdA\\u002f651ujTVMUCPQaEpP+QqQGqLIjg7oChAfuzHfuyHJ0AamZaHLREpQPC0bv1Oay9AaHTk1EgcMUCRG7mRGzkzQO0tzN7CrDhA9\\u002fb29vb2OEBY29xDoGs6QAjidyB+VzdANdJII410NEAo2P9k83QqQJ41Q91ZsyZABThrntFkJ0A24Ys24QspQGbNM5oAxy1ATFImWu8aMECy3JTWDMQyQKCA\\u002fQnYbzdA1KBtOgf0OUBdxCqR9704QM2BIU7PHDZAGEEPhRF0M0AGBRDD3SIuQK+hvIbyCipA2tvA6Sd8JEAP4UteAPklQBsaGhoa2i1A7XMdzGgEMECGpjvYb\\u002fU0QKO3Za2OaTlAoigTijKhOkBgag6hlAc8QJLmueuC6zdAhrfsnBTBMkD\\u002fGCselRstQB1t3qe45CZA9wNsP8A2J0AZVVPEhKgoQPiTK3Ht7ypAn+X8Wc6fLkBNjK17RpYxQAjzRP0bQTlAyfKXLH8JO0BWfkKclY86QKOQnSagGzhAv+eWOPVfM0BPLi+CT4EqQAXCSDtWwCRAxanfc0sUIUCalmmZlmkhQO+fv33yLitAj8L1KFxvMEDMzkkR5tY0QCRQtNXgOTlAYG5aeMu+OkBMxqXiT586QP7sKFe16zZA2erFsUmFM0DIYs+BS\\u002fIpQGeCxZi2oiVAirMPn2EXIkC7HN6DNnQkQCvAX3DXPCtAxfFFDzj\\u002fMEDEGT6c4aM0QNKotlwlVTdAtDZIsSeuOkBIO1YgjAg6QMLwTgUHgTdAVdH9uKpLNEB\\u002fzY5ahHwvQPAXr8aHryVA\\u002fZxLm3LaJECX8aGnAnMqQAltX68ZiSpAzHVF+i+uLkAoPNRIs9EyQBhnKPQdNjZA75ytEWq8OUBBGGnHCow5QH8rzpTdHjdA7IUj1f74MkA2ISh7X2MsQHFsUqHj5CZA6tzsacXIJ0DjvpbJIocrQAxEmJFpeSxASsXZh88QMUA7YUesCfoyQGLZRCbNejhAR1V0P66qOUAIc9PCW9Y5QNQYKXD3XTZAH3TJHnTJMkB66BhenDcpQKTbJeNScSRA7pR98aj1I0DoZPoqYWwnQIxs5\\u002fupkS1Ak0a15SrZLUDpc7dMzAk0QGnSpEmTJjhAtYFOG+hkOkAmv1jyixU7QHMw+91qQTdASwY7RYk5NUCSHrsc3gMwQDpNelFBgChApnOX64q0JUDoZPoqYawoQLVvWPuGVStANMm\\u002fYC2hMUCSdqxAGKkzQIcYll9nLzdAj0DRVoNnPEDYC0eq\\u002fXE8QOTHjx8\\u002fDjhAVQw7KqsuMkDsbHjUtDcqQPUzp8GdFyhAAAAAAACAJkDbwfDolA0oQLzvlzpLgStAaoimxOKAMkBnT+YeFBA1QNPS0tLSVjhArGG605EjOkCuk6hkASQ7QFBZ2P76dDhAXzz\\u002frnXKNEBZWVlZWdktQEg7ViCMbCdAw64Aude8JUDjTINgWdEiQI+9G9LTTSxAUPa+JgRVLkBXSaPack01QP6zTzV\\u002fozhAPuiSPejSOUBhkjiTZ9s6QCDcePuS5jZAtJ9zaVPuMkBUga7bCLYtQMQgsHJoEShAqCgxvxy3JkDDMAzDMAwlQL4FGrImEStAEJS9rwkhMEAKcVZ+QvwxQIh2Uw2BmDZAzSmL14x1OkDnDY0g4Mk7QPYEFCMyQThAFePpwQzVNECyyvtdIisrQD4Psfr4fidAzEDG98zvJ0C9A44UDXEnQK98g1um7itA9Emf9EkRMkA4NIKAp4Y0QJn+yWCOOTdAA2wlpJtNOUCYICxhiEk6QDo4Q\\u002fYQljdA34H4HYhvNUATsvVf4pMvQI6NjY2NjSVAIIy0YwWCJEDs0KBMeYclQKW\\u002faAFdeixAwOrlAlWIMUBZnYrVqeg1QMA4RithNThAZQls2k9WPEDqb2J9R\\u002fM6QNylH3k95TZAR2IsmMDvM0DMU1HmcwAwQPrDAY8\\u002fHCxAaPAaXRn3KUDxYJ6ofyMpQEQykefwRClAPJrcV2GuL0C3QnErFNcyQFEuao44AThAiEXKwNONO0B+E9M3MZ07QCJNjK17ljhAYrEhFhtCNEBh6yXfm6QrQLUdBkWd3ChAa3ON28WEI0C32AwlZ+opQCwQRtqxOixAXOLU77ktMUDh1PofWnI0QMU2flpsozlAeJPWqcczOkDrwiAD\\u002f+E6QIs14Io1oDdA0tpRtZQ4NkCAxALu9PctQL9h7RvWfiVACGix4F96JUCB5Z31tqMkQGNgOcnGnylAHZCbHYd+LkA7a0kUU7oxQN0zsvSQ5jVAGhNCXqLxN0BDGb0ta4U7QLfu5CJFTDlAubCPC\\u002fs4M0B6DvvVGuQrQPK+Qh8VSShAQ1PQKy9rJEA9lubTDacoQIDusK1cEy1AsAVbsAXbLUC8UIsUgEY0QCqgAiqg0jVA3lDBdNQcOUDORUizJRk6QDYdypyyuDdAuqZruqaDM0AHn+k1WwEsQAj6XKiYBitAK3S3EnHDJkC7ia4ZfyMuQKiDOqiD6i5AHmIksYS+MEBdpomtwGg1QAejY20JSjdA9Kn4jzbxPEBRF0xlxZM7QCO6PdnW2ThAP+bqY64eM0BtmnyQ2L0wQL7iK77iwyhAGmosSJWyJUDkLMDmMw4sQJqilClKWS5AVJx2h9yGMUBzgSo0+rU0QKAmGTT+aTdAqcskqh2QOkDkwWkihy87QDXMDo4gEjhA97Wxx4CENECjNVqjNcoqQBF0A0E3ECpALfWufq2NJkDe2PeInCArQP3N5dnfbCtAlq+OJeINL0D1Lnkw4Iw2QFcQkyuIiTlAFdtmL6h5PUD1qYt\\u002fRyQ8QEruFC2cQThAkbBJinnONkBljKQTebgwQEWxKnS3ki1AKDa0IgX7JkCs09ihQVkpQEobzWGrWzBAc08jLPc0NEAm6K5STNA0QCM3ciM3GjlASOF6FK6CPEAYvTrL1z89QAL\\u002fJPBPIjhAEM6EvRXmNUCrqqqqqvovQMsDknWuHChA87h6\\u002fY+eKkAOj5clg50sQPCND7gsMS5A\\u002f9LpA7S4MUCKV4IpLxw0QK211lprzTdA9XtuiVM\\u002fO0DKwNOt+aE8QFdqpVZqRTdAVeTK2hAvNECT5tZJVDIxQP3ysSsGpShASIM0SIMUKEDeYkjnLQYqQCUgo2ECsixAFCW7NlEyMEDGB\\u002fmtdYsxQHEGhJI7xThAOXwsu\\u002fGgN0A=\"},\"type\":\"scatter\",\"xaxis\":\"x3\",\"yaxis\":\"y3\"},{\"hovertemplate\":\"Tendencia: %{y:.1f}\\u00b0C\\u003cextra\\u003e\\u003c\\u002fextra\\u003e\",\"line\":{\"color\":\"red\",\"dash\":\"dash\",\"width\":3},\"mode\":\"lines\",\"name\":\"Tendencia\",\"x\":[\"1980-01-01T00:00:00.000000000\",\"1980-02-01T00:00:00.000000000\",\"1980-03-01T00:00:00.000000000\",\"1980-04-01T00:00:00.000000000\",\"1980-05-01T00:00:00.000000000\",\"1980-06-01T00:00:00.000000000\",\"1980-07-01T00:00:00.000000000\",\"1980-08-01T00:00:00.000000000\",\"1980-09-01T00:00:00.000000000\",\"1980-10-01T00:00:00.000000000\",\"1980-11-01T00:00:00.000000000\",\"1980-12-01T00:00:00.000000000\",\"1981-01-01T00:00:00.000000000\",\"1981-02-01T00:00:00.000000000\",\"1981-03-01T00:00:00.000000000\",\"1981-04-01T00:00:00.000000000\",\"1981-05-01T00:00:00.000000000\",\"1981-06-01T00:00:00.000000000\",\"1981-07-01T00:00:00.000000000\",\"1981-08-01T00:00:00.000000000\",\"1981-09-01T00:00:00.000000000\",\"1981-10-01T00:00:00.000000000\",\"1981-11-01T00:00:00.000000000\",\"1981-12-01T00:00:00.000000000\",\"1982-01-01T00:00:00.000000000\",\"1982-02-01T00:00:00.000000000\",\"1982-03-01T00:00:00.000000000\",\"1982-04-01T00:00:00.000000000\",\"1982-05-01T00:00:00.000000000\",\"1982-06-01T00:00:00.000000000\",\"1982-07-01T00:00:00.000000000\",\"1982-08-01T00:00:00.000000000\",\"1982-09-01T00:00:00.000000000\",\"1982-10-01T00:00:00.000000000\",\"1982-11-01T00:00:00.000000000\",\"1982-12-01T00:00:00.000000000\",\"1983-01-01T00:00:00.000000000\",\"1983-02-01T00:00:00.000000000\",\"1983-03-01T00:00:00.000000000\",\"1983-04-01T00:00:00.000000000\",\"1983-05-01T00:00:00.000000000\",\"1983-06-01T00:00:00.000000000\",\"1983-07-01T00:00:00.000000000\",\"1983-08-01T00:00:00.000000000\",\"1983-09-01T00:00:00.000000000\",\"1983-10-01T00:00:00.000000000\",\"1983-11-01T00:00:00.000000000\",\"1983-12-01T00:00:00.000000000\",\"1984-01-01T00:00:00.000000000\",\"1984-02-01T00:00:00.000000000\",\"1984-03-01T00:00:00.000000000\",\"1984-04-01T00:00:00.000000000\",\"1984-05-01T00:00:00.000000000\",\"1984-06-01T00:00:00.000000000\",\"1984-07-01T00:00:00.000000000\",\"1984-08-01T00:00:00.000000000\",\"1984-09-01T00:00:00.000000000\",\"1984-10-01T00:00:00.000000000\",\"1984-11-01T00:00:00.000000000\",\"1984-12-01T00:00:00.000000000\",\"1985-01-01T00:00:00.000000000\",\"1985-02-01T00:00:00.000000000\",\"1985-03-01T00:00:00.000000000\",\"1985-04-01T00:00:00.000000000\",\"1985-05-01T00:00:00.000000000\",\"1985-06-01T00:00:00.000000000\",\"1985-07-01T00:00:00.000000000\",\"1985-08-01T00:00:00.000000000\",\"1985-09-01T00:00:00.000000000\",\"1985-10-01T00:00:00.000000000\",\"1985-11-01T00:00:00.000000000\",\"1985-12-01T00:00:00.000000000\",\"1986-01-01T00:00:00.000000000\",\"1986-02-01T00:00:00.000000000\",\"1986-03-01T00:00:00.000000000\",\"1986-04-01T00:00:00.000000000\",\"1986-05-01T00:00:00.000000000\",\"1986-06-01T00:00:00.000000000\",\"1986-07-01T00:00:00.000000000\",\"1986-08-01T00:00:00.000000000\",\"1986-09-01T00:00:00.000000000\",\"1986-10-01T00:00:00.000000000\",\"1986-11-01T00:00:00.000000000\",\"1986-12-01T00:00:00.000000000\",\"1987-01-01T00:00:00.000000000\",\"1987-02-01T00:00:00.000000000\",\"1987-03-01T00:00:00.000000000\",\"1987-04-01T00:00:00.000000000\",\"1987-05-01T00:00:00.000000000\",\"1987-06-01T00:00:00.000000000\",\"1987-07-01T00:00:00.000000000\",\"1987-08-01T00:00:00.000000000\",\"1987-09-01T00:00:00.000000000\",\"1987-10-01T00:00:00.000000000\",\"1987-11-01T00:00:00.000000000\",\"1987-12-01T00:00:00.000000000\",\"1988-01-01T00:00:00.000000000\",\"1988-02-01T00:00:00.000000000\",\"1988-03-01T00:00:00.000000000\",\"1988-04-01T00:00:00.000000000\",\"1988-05-01T00:00:00.000000000\",\"1988-06-01T00:00:00.000000000\",\"1988-07-01T00:00:00.000000000\",\"1988-08-01T00:00:00.000000000\",\"1988-09-01T00:00:00.000000000\",\"1988-10-01T00:00:00.000000000\",\"1988-11-01T00:00:00.000000000\",\"1988-12-01T00:00:00.000000000\",\"1989-01-01T00:00:00.000000000\",\"1989-02-01T00:00:00.000000000\",\"1989-03-01T00:00:00.000000000\",\"1989-04-01T00:00:00.000000000\",\"1989-05-01T00:00:00.000000000\",\"1989-06-01T00:00:00.000000000\",\"1989-07-01T00:00:00.000000000\",\"1989-08-01T00:00:00.000000000\",\"1989-09-01T00:00:00.000000000\",\"1989-10-01T00:00:00.000000000\",\"1989-11-01T00:00:00.000000000\",\"1989-12-01T00:00:00.000000000\",\"1990-01-01T00:00:00.000000000\",\"1990-02-01T00:00:00.000000000\",\"1990-03-01T00:00:00.000000000\",\"1990-04-01T00:00:00.000000000\",\"1990-05-01T00:00:00.000000000\",\"1990-06-01T00:00:00.000000000\",\"1990-07-01T00:00:00.000000000\",\"1990-08-01T00:00:00.000000000\",\"1990-09-01T00:00:00.000000000\",\"1990-10-01T00:00:00.000000000\",\"1990-11-01T00:00:00.000000000\",\"1990-12-01T00:00:00.000000000\",\"1991-01-01T00:00:00.000000000\",\"1991-02-01T00:00:00.000000000\",\"1991-03-01T00:00:00.000000000\",\"1991-04-01T00:00:00.000000000\",\"1991-05-01T00:00:00.000000000\",\"1991-06-01T00:00:00.000000000\",\"1991-07-01T00:00:00.000000000\",\"1991-08-01T00:00:00.000000000\",\"1991-09-01T00:00:00.000000000\",\"1991-10-01T00:00:00.000000000\",\"1991-11-01T00:00:00.000000000\",\"1991-12-01T00:00:00.000000000\",\"1992-01-01T00:00:00.000000000\",\"1992-02-01T00:00:00.000000000\",\"1992-03-01T00:00:00.000000000\",\"1992-04-01T00:00:00.000000000\",\"1992-05-01T00:00:00.000000000\",\"1992-06-01T00:00:00.000000000\",\"1992-07-01T00:00:00.000000000\",\"1992-08-01T00:00:00.000000000\",\"1992-09-01T00:00:00.000000000\",\"1992-10-01T00:00:00.000000000\",\"1992-11-01T00:00:00.000000000\",\"1992-12-01T00:00:00.000000000\",\"1993-01-01T00:00:00.000000000\",\"1993-02-01T00:00:00.000000000\",\"1993-03-01T00:00:00.000000000\",\"1993-04-01T00:00:00.000000000\",\"1993-05-01T00:00:00.000000000\",\"1993-06-01T00:00:00.000000000\",\"1993-07-01T00:00:00.000000000\",\"1993-08-01T00:00:00.000000000\",\"1993-09-01T00:00:00.000000000\",\"1993-10-01T00:00:00.000000000\",\"1993-11-01T00:00:00.000000000\",\"1993-12-01T00:00:00.000000000\",\"1994-01-01T00:00:00.000000000\",\"1994-02-01T00:00:00.000000000\",\"1994-03-01T00:00:00.000000000\",\"1994-04-01T00:00:00.000000000\",\"1994-05-01T00:00:00.000000000\",\"1994-06-01T00:00:00.000000000\",\"1994-07-01T00:00:00.000000000\",\"1994-08-01T00:00:00.000000000\",\"1994-09-01T00:00:00.000000000\",\"1994-10-01T00:00:00.000000000\",\"1994-11-01T00:00:00.000000000\",\"1994-12-01T00:00:00.000000000\",\"1995-01-01T00:00:00.000000000\",\"1995-02-01T00:00:00.000000000\",\"1995-03-01T00:00:00.000000000\",\"1995-04-01T00:00:00.000000000\",\"1995-05-01T00:00:00.000000000\",\"1995-06-01T00:00:00.000000000\",\"1995-07-01T00:00:00.000000000\",\"1995-08-01T00:00:00.000000000\",\"1995-09-01T00:00:00.000000000\",\"1995-10-01T00:00:00.000000000\",\"1995-11-01T00:00:00.000000000\",\"1995-12-01T00:00:00.000000000\",\"1996-01-01T00:00:00.000000000\",\"1996-02-01T00:00:00.000000000\",\"1996-03-01T00:00:00.000000000\",\"1996-04-01T00:00:00.000000000\",\"1996-05-01T00:00:00.000000000\",\"1996-06-01T00:00:00.000000000\",\"1996-07-01T00:00:00.000000000\",\"1996-08-01T00:00:00.000000000\",\"1996-09-01T00:00:00.000000000\",\"1996-10-01T00:00:00.000000000\",\"1996-11-01T00:00:00.000000000\",\"1996-12-01T00:00:00.000000000\",\"1997-01-01T00:00:00.000000000\",\"1997-02-01T00:00:00.000000000\",\"1997-03-01T00:00:00.000000000\",\"1997-04-01T00:00:00.000000000\",\"1997-05-01T00:00:00.000000000\",\"1997-06-01T00:00:00.000000000\",\"1997-07-01T00:00:00.000000000\",\"1997-08-01T00:00:00.000000000\",\"1997-09-01T00:00:00.000000000\",\"1997-10-01T00:00:00.000000000\",\"1997-11-01T00:00:00.000000000\",\"1997-12-01T00:00:00.000000000\",\"1998-01-01T00:00:00.000000000\",\"1998-02-01T00:00:00.000000000\",\"1998-03-01T00:00:00.000000000\",\"1998-04-01T00:00:00.000000000\",\"1998-05-01T00:00:00.000000000\",\"1998-06-01T00:00:00.000000000\",\"1998-07-01T00:00:00.000000000\",\"1998-08-01T00:00:00.000000000\",\"1998-09-01T00:00:00.000000000\",\"1998-10-01T00:00:00.000000000\",\"1998-11-01T00:00:00.000000000\",\"1998-12-01T00:00:00.000000000\",\"1999-01-01T00:00:00.000000000\",\"1999-02-01T00:00:00.000000000\",\"1999-03-01T00:00:00.000000000\",\"1999-04-01T00:00:00.000000000\",\"1999-05-01T00:00:00.000000000\",\"1999-06-01T00:00:00.000000000\",\"1999-07-01T00:00:00.000000000\",\"1999-08-01T00:00:00.000000000\",\"1999-09-01T00:00:00.000000000\",\"1999-10-01T00:00:00.000000000\",\"1999-11-01T00:00:00.000000000\",\"1999-12-01T00:00:00.000000000\",\"2000-01-01T00:00:00.000000000\",\"2000-02-01T00:00:00.000000000\",\"2000-03-01T00:00:00.000000000\",\"2000-04-01T00:00:00.000000000\",\"2000-05-01T00:00:00.000000000\",\"2000-06-01T00:00:00.000000000\",\"2000-07-01T00:00:00.000000000\",\"2000-08-01T00:00:00.000000000\",\"2000-09-01T00:00:00.000000000\",\"2000-10-01T00:00:00.000000000\",\"2000-11-01T00:00:00.000000000\",\"2000-12-01T00:00:00.000000000\",\"2001-01-01T00:00:00.000000000\",\"2001-02-01T00:00:00.000000000\",\"2001-03-01T00:00:00.000000000\",\"2001-04-01T00:00:00.000000000\",\"2001-05-01T00:00:00.000000000\",\"2001-06-01T00:00:00.000000000\",\"2001-07-01T00:00:00.000000000\",\"2001-08-01T00:00:00.000000000\",\"2001-09-01T00:00:00.000000000\",\"2001-10-01T00:00:00.000000000\",\"2001-11-01T00:00:00.000000000\",\"2001-12-01T00:00:00.000000000\",\"2002-01-01T00:00:00.000000000\",\"2002-02-01T00:00:00.000000000\",\"2002-03-01T00:00:00.000000000\",\"2002-04-01T00:00:00.000000000\",\"2002-05-01T00:00:00.000000000\",\"2002-06-01T00:00:00.000000000\",\"2002-07-01T00:00:00.000000000\",\"2002-08-01T00:00:00.000000000\",\"2002-09-01T00:00:00.000000000\",\"2002-10-01T00:00:00.000000000\",\"2002-11-01T00:00:00.000000000\",\"2002-12-01T00:00:00.000000000\",\"2003-01-01T00:00:00.000000000\",\"2003-02-01T00:00:00.000000000\",\"2003-03-01T00:00:00.000000000\",\"2003-04-01T00:00:00.000000000\",\"2003-05-01T00:00:00.000000000\",\"2003-06-01T00:00:00.000000000\",\"2003-07-01T00:00:00.000000000\",\"2003-08-01T00:00:00.000000000\",\"2003-09-01T00:00:00.000000000\",\"2003-10-01T00:00:00.000000000\",\"2003-11-01T00:00:00.000000000\",\"2003-12-01T00:00:00.000000000\",\"2004-01-01T00:00:00.000000000\",\"2004-02-01T00:00:00.000000000\",\"2004-03-01T00:00:00.000000000\",\"2004-04-01T00:00:00.000000000\",\"2004-05-01T00:00:00.000000000\",\"2004-06-01T00:00:00.000000000\",\"2004-07-01T00:00:00.000000000\",\"2004-08-01T00:00:00.000000000\",\"2004-09-01T00:00:00.000000000\",\"2004-10-01T00:00:00.000000000\",\"2004-11-01T00:00:00.000000000\",\"2004-12-01T00:00:00.000000000\",\"2005-01-01T00:00:00.000000000\",\"2005-02-01T00:00:00.000000000\",\"2005-03-01T00:00:00.000000000\",\"2005-04-01T00:00:00.000000000\",\"2005-05-01T00:00:00.000000000\",\"2005-06-01T00:00:00.000000000\",\"2005-07-01T00:00:00.000000000\",\"2005-08-01T00:00:00.000000000\",\"2005-09-01T00:00:00.000000000\",\"2005-10-01T00:00:00.000000000\",\"2005-11-01T00:00:00.000000000\",\"2005-12-01T00:00:00.000000000\",\"2006-01-01T00:00:00.000000000\",\"2006-02-01T00:00:00.000000000\",\"2006-03-01T00:00:00.000000000\",\"2006-04-01T00:00:00.000000000\",\"2006-05-01T00:00:00.000000000\",\"2006-06-01T00:00:00.000000000\",\"2006-07-01T00:00:00.000000000\",\"2006-08-01T00:00:00.000000000\",\"2006-09-01T00:00:00.000000000\",\"2006-10-01T00:00:00.000000000\",\"2006-11-01T00:00:00.000000000\",\"2006-12-01T00:00:00.000000000\",\"2007-01-01T00:00:00.000000000\",\"2007-02-01T00:00:00.000000000\",\"2007-03-01T00:00:00.000000000\",\"2007-04-01T00:00:00.000000000\",\"2007-05-01T00:00:00.000000000\",\"2007-06-01T00:00:00.000000000\",\"2007-07-01T00:00:00.000000000\",\"2007-08-01T00:00:00.000000000\",\"2007-09-01T00:00:00.000000000\",\"2007-10-01T00:00:00.000000000\",\"2007-11-01T00:00:00.000000000\",\"2007-12-01T00:00:00.000000000\",\"2008-01-01T00:00:00.000000000\",\"2008-02-01T00:00:00.000000000\",\"2008-03-01T00:00:00.000000000\",\"2008-04-01T00:00:00.000000000\",\"2008-05-01T00:00:00.000000000\",\"2008-06-01T00:00:00.000000000\",\"2008-07-01T00:00:00.000000000\",\"2008-08-01T00:00:00.000000000\",\"2008-09-01T00:00:00.000000000\",\"2008-10-01T00:00:00.000000000\",\"2008-11-01T00:00:00.000000000\",\"2008-12-01T00:00:00.000000000\",\"2009-01-01T00:00:00.000000000\",\"2009-02-01T00:00:00.000000000\",\"2009-03-01T00:00:00.000000000\",\"2009-04-01T00:00:00.000000000\",\"2009-05-01T00:00:00.000000000\",\"2009-06-01T00:00:00.000000000\",\"2009-07-01T00:00:00.000000000\",\"2009-08-01T00:00:00.000000000\",\"2009-09-01T00:00:00.000000000\",\"2009-10-01T00:00:00.000000000\",\"2009-11-01T00:00:00.000000000\",\"2009-12-01T00:00:00.000000000\",\"2010-01-01T00:00:00.000000000\",\"2010-02-01T00:00:00.000000000\",\"2010-03-01T00:00:00.000000000\",\"2010-04-01T00:00:00.000000000\",\"2010-05-01T00:00:00.000000000\",\"2010-06-01T00:00:00.000000000\",\"2010-07-01T00:00:00.000000000\",\"2010-08-01T00:00:00.000000000\",\"2010-09-01T00:00:00.000000000\",\"2010-10-01T00:00:00.000000000\",\"2010-11-01T00:00:00.000000000\",\"2010-12-01T00:00:00.000000000\",\"2011-01-01T00:00:00.000000000\",\"2011-02-01T00:00:00.000000000\",\"2011-03-01T00:00:00.000000000\",\"2011-04-01T00:00:00.000000000\",\"2011-05-01T00:00:00.000000000\",\"2011-06-01T00:00:00.000000000\",\"2011-07-01T00:00:00.000000000\",\"2011-08-01T00:00:00.000000000\",\"2011-09-01T00:00:00.000000000\",\"2011-10-01T00:00:00.000000000\",\"2011-11-01T00:00:00.000000000\",\"2011-12-01T00:00:00.000000000\",\"2012-01-01T00:00:00.000000000\",\"2012-02-01T00:00:00.000000000\",\"2012-03-01T00:00:00.000000000\",\"2012-04-01T00:00:00.000000000\",\"2012-05-01T00:00:00.000000000\",\"2012-06-01T00:00:00.000000000\",\"2012-07-01T00:00:00.000000000\",\"2012-08-01T00:00:00.000000000\",\"2012-09-01T00:00:00.000000000\",\"2012-10-01T00:00:00.000000000\",\"2012-11-01T00:00:00.000000000\",\"2012-12-01T00:00:00.000000000\",\"2013-01-01T00:00:00.000000000\",\"2013-02-01T00:00:00.000000000\",\"2013-03-01T00:00:00.000000000\",\"2013-04-01T00:00:00.000000000\",\"2013-05-01T00:00:00.000000000\",\"2013-06-01T00:00:00.000000000\",\"2013-07-01T00:00:00.000000000\",\"2013-08-01T00:00:00.000000000\",\"2013-09-01T00:00:00.000000000\",\"2013-10-01T00:00:00.000000000\",\"2013-11-01T00:00:00.000000000\",\"2013-12-01T00:00:00.000000000\",\"2014-01-01T00:00:00.000000000\",\"2014-02-01T00:00:00.000000000\",\"2014-03-01T00:00:00.000000000\",\"2014-04-01T00:00:00.000000000\",\"2014-05-01T00:00:00.000000000\",\"2014-06-01T00:00:00.000000000\",\"2014-07-01T00:00:00.000000000\",\"2014-08-01T00:00:00.000000000\",\"2014-09-01T00:00:00.000000000\",\"2014-10-01T00:00:00.000000000\",\"2014-11-01T00:00:00.000000000\",\"2014-12-01T00:00:00.000000000\",\"2015-01-01T00:00:00.000000000\",\"2015-02-01T00:00:00.000000000\",\"2015-03-01T00:00:00.000000000\",\"2015-04-01T00:00:00.000000000\",\"2015-05-01T00:00:00.000000000\",\"2015-06-01T00:00:00.000000000\",\"2015-07-01T00:00:00.000000000\",\"2015-08-01T00:00:00.000000000\",\"2015-09-01T00:00:00.000000000\",\"2015-10-01T00:00:00.000000000\",\"2015-11-01T00:00:00.000000000\",\"2015-12-01T00:00:00.000000000\",\"2016-01-01T00:00:00.000000000\",\"2016-02-01T00:00:00.000000000\",\"2016-03-01T00:00:00.000000000\",\"2016-04-01T00:00:00.000000000\",\"2016-05-01T00:00:00.000000000\",\"2016-06-01T00:00:00.000000000\",\"2016-07-01T00:00:00.000000000\",\"2016-08-01T00:00:00.000000000\",\"2016-09-01T00:00:00.000000000\",\"2016-10-01T00:00:00.000000000\",\"2016-11-01T00:00:00.000000000\",\"2016-12-01T00:00:00.000000000\",\"2017-01-01T00:00:00.000000000\",\"2017-02-01T00:00:00.000000000\",\"2017-03-01T00:00:00.000000000\",\"2017-04-01T00:00:00.000000000\",\"2017-05-01T00:00:00.000000000\",\"2017-06-01T00:00:00.000000000\",\"2017-07-01T00:00:00.000000000\",\"2017-08-01T00:00:00.000000000\",\"2017-09-01T00:00:00.000000000\",\"2017-10-01T00:00:00.000000000\",\"2017-11-01T00:00:00.000000000\",\"2017-12-01T00:00:00.000000000\",\"2018-01-01T00:00:00.000000000\",\"2018-02-01T00:00:00.000000000\",\"2018-03-01T00:00:00.000000000\",\"2018-04-01T00:00:00.000000000\",\"2018-05-01T00:00:00.000000000\",\"2018-06-01T00:00:00.000000000\",\"2018-07-01T00:00:00.000000000\",\"2018-08-01T00:00:00.000000000\",\"2018-09-01T00:00:00.000000000\",\"2018-10-01T00:00:00.000000000\",\"2018-11-01T00:00:00.000000000\",\"2018-12-01T00:00:00.000000000\",\"2019-01-01T00:00:00.000000000\",\"2019-02-01T00:00:00.000000000\",\"2019-03-01T00:00:00.000000000\",\"2019-04-01T00:00:00.000000000\",\"2019-05-01T00:00:00.000000000\",\"2019-06-01T00:00:00.000000000\",\"2019-07-01T00:00:00.000000000\",\"2019-08-01T00:00:00.000000000\",\"2019-09-01T00:00:00.000000000\",\"2019-10-01T00:00:00.000000000\",\"2019-11-01T00:00:00.000000000\",\"2019-12-01T00:00:00.000000000\",\"2020-01-01T00:00:00.000000000\",\"2020-02-01T00:00:00.000000000\",\"2020-03-01T00:00:00.000000000\",\"2020-04-01T00:00:00.000000000\",\"2020-05-01T00:00:00.000000000\",\"2020-06-01T00:00:00.000000000\",\"2020-07-01T00:00:00.000000000\",\"2020-08-01T00:00:00.000000000\",\"2020-09-01T00:00:00.000000000\",\"2020-10-01T00:00:00.000000000\",\"2020-11-01T00:00:00.000000000\",\"2020-12-01T00:00:00.000000000\",\"2021-01-01T00:00:00.000000000\",\"2021-02-01T00:00:00.000000000\",\"2021-03-01T00:00:00.000000000\",\"2021-04-01T00:00:00.000000000\",\"2021-05-01T00:00:00.000000000\",\"2021-06-01T00:00:00.000000000\",\"2021-07-01T00:00:00.000000000\",\"2021-08-01T00:00:00.000000000\",\"2021-09-01T00:00:00.000000000\",\"2021-10-01T00:00:00.000000000\",\"2021-11-01T00:00:00.000000000\",\"2021-12-01T00:00:00.000000000\",\"2022-01-01T00:00:00.000000000\",\"2022-02-01T00:00:00.000000000\",\"2022-03-01T00:00:00.000000000\",\"2022-04-01T00:00:00.000000000\",\"2022-05-01T00:00:00.000000000\",\"2022-06-01T00:00:00.000000000\",\"2022-07-01T00:00:00.000000000\",\"2022-08-01T00:00:00.000000000\",\"2022-09-01T00:00:00.000000000\",\"2022-10-01T00:00:00.000000000\",\"2022-11-01T00:00:00.000000000\",\"2022-12-01T00:00:00.000000000\",\"2023-01-01T00:00:00.000000000\",\"2023-02-01T00:00:00.000000000\",\"2023-03-01T00:00:00.000000000\",\"2023-04-01T00:00:00.000000000\",\"2023-05-01T00:00:00.000000000\",\"2023-06-01T00:00:00.000000000\",\"2023-07-01T00:00:00.000000000\",\"2023-08-01T00:00:00.000000000\",\"2023-09-01T00:00:00.000000000\",\"2023-10-01T00:00:00.000000000\",\"2023-11-01T00:00:00.000000000\",\"2023-12-01T00:00:00.000000000\",\"2024-01-01T00:00:00.000000000\",\"2024-02-01T00:00:00.000000000\",\"2024-03-01T00:00:00.000000000\",\"2024-04-01T00:00:00.000000000\",\"2024-05-01T00:00:00.000000000\",\"2024-06-01T00:00:00.000000000\",\"2024-07-01T00:00:00.000000000\",\"2024-08-01T00:00:00.000000000\",\"2024-09-01T00:00:00.000000000\",\"2024-10-01T00:00:00.000000000\",\"2024-11-01T00:00:00.000000000\",\"2024-12-01T00:00:00.000000000\",\"2025-01-01T00:00:00.000000000\",\"2025-02-01T00:00:00.000000000\",\"2025-03-01T00:00:00.000000000\",\"2025-04-01T00:00:00.000000000\",\"2025-05-01T00:00:00.000000000\",\"2025-06-01T00:00:00.000000000\",\"2025-07-01T00:00:00.000000000\"],\"y\":{\"dtype\":\"f8\",\"bdata\":\"umix2VWdMUCbuEwg7p0xQHwI6GaGnjFAXViDrR6fMUA+qB70tp8xQCD4uTpPoDFAAUhVgeegMUDil\\u002fDHf6ExQMPniw4YojFApDcnVbCiMUCFh8KbSKMxQGbXXeLgozFARyf5KHmkMUAod5RvEaUxQAnHL7appTFA6xbL\\u002fEGmMUDMZmZD2qYxQK22AYpypzFAjgad0AqoMUBvVjgXo6gxQFCm0107qTFAMfZupNOpMUASRgrra6oxQPOVpTEEqzFA1eVAeJyrMUC2Ndy+NKwxQJeFdwXNrDFAeNUSTGWtMUBZJa6S\\u002fa0xQDp1SdmVrjFAG8XkHy6vMUD8FIBmxq8xQN1kG61esDFAv7S28\\u002fawMUCgBFI6j7ExQIFU7YAnsjFAYqSIx7+yMUBD9CMOWLMxQCREv1TwszFABZRam4i0MUDm4\\u002fXhILUxQMczkSi5tTFAqIMsb1G2MUCK08e16bYxQGsjY\\u002fyBtzFATHP+Qhq4MUAtw5mJsrgxQA4TNdBKuTFA72LQFuO5MUDQsmtde7oxQLECB6QTuzFAklKi6qu7MUB0oj0xRLwxQFXy2HfcvDFANkJ0vnS9MUAXkg8FDb4xQPjhqkulvjFA2TFGkj2\\u002fMUC6geHY1b8xQJvRfB9uwDFAfCEYZgbBMUBecbOsnsExQD\\u002fBTvM2wjFAIBHqOc\\u002fCMUABYYWAZ8MxQOKwIMf\\u002fwzFAwwC8DZjEMUCkUFdUMMUxQIWg8prIxTFAZvCN4WDGMUBHQCko+cYxQCmQxG6RxzFACuBftSnIMUDrL\\u002fv7wcgxQMx\\u002flkJayTFArc8xifLJMUCOH83PisoxQG9vaBYjyzFAUL8DXbvLMUAxD5+jU8wxQBNfOurrzDFA9K7VMITNMUDV\\u002fnB3HM4xQLZODL60zjFAl56nBE3PMUB47kJL5c8xQFk+3pF90DFAOo552BXRMUAb3hQfrtExQP0tsGVG0jFA3n1LrN7SMUC\\u002fzebydtMxQKAdgjkP1DFAgW0dgKfUMUBivbjGP9UxQEMNVA3Y1TFAJF3vU3DWMUAFrYqaCNcxQOb8JeGg1zFAyEzBJznYMUCpnFxu0dgxQIrs97Rp2TFAazyT+wHaMUBMjC5CmtoxQC3cyYgy2zFADixlz8rbMUDvewAWY9wxQNDLm1z73DFAshs3o5PdMUCTa9LpK94xQHS7bTDE3jFAVQsJd1zfMUA2W6S99N8xQBerPwSN4DFA+PraSiXhMUDZSnaRveExQLqaEdhV4jFAnOqsHu7iMUB9OkhlhuMxQF6K46se5DFAP9p+8rbkMUAgKho5T+UxQAF6tX\\u002fn5TFA4slQxn\\u002fmMUDDGewMGOcxQKRph1Ow5zFAhbkimkjoMUBnCb7g4OgxQEhZWSd56TFAKan0bRHqMUAK+Y+0qeoxQOtIK\\u002ftB6zFAzJjGQdrrMUCt6GGIcuwxQI44\\u002fc4K7TFAb4iYFaPtMUBR2DNcO+4xQDIoz6LT7jFAE3hq6WvvMUD0xwUwBPAxQNUXoXac8DFAtmc8vTTxMUCXt9cDzfExQHgHc0pl8jFAWVcOkf3yMUA7p6nXlfMxQBz3RB4u9DFA\\u002fUbgZMb0MUDelnurXvUxQL\\u002fmFvL29TFAoDayOI\\u002f2MUCBhk1\\u002fJ\\u002fcxQGLW6MW\\u002f9zFAQyaEDFj4MUAkdh9T8PgxQAbGupmI+TFA5xVW4CD6MUDIZfEmufoxQKm1jG1R+zFAigUotOn7MUBrVcP6gfwxQEylXkEa\\u002fTFALfX5h7L9MUAORZXOSv4xQPCUMBXj\\u002fjFA0eTLW3v\\u002fMUCyNGeiEwAyQJOEAumrADJAdNSdL0QBMkBVJDl23AEyQDZ01Lx0AjJAF8RvAw0DMkD4EwtKpQMyQNpjppA9BDJAu7NB19UEMkCcA90dbgUyQH1TeGQGBjJAXqMTq54GMkA\\u002f867xNgcyQCBDSjjPBzJAAZPlfmcIMkDi4oDF\\u002fwgyQMMyHAyYCTJApYK3UjAKMkCG0lKZyAoyQGci7t9gCzJASHKJJvkLMkApwiRtkQwyQAoSwLMpDTJA62Fb+sENMkDMsfZAWg4yQK0BkofyDjJAj1EtzooPMkBwocgUIxAyQFHxY1u7EDJAMkH\\u002foVMRMkATkZro6xEyQPTgNS+EEjJA1TDRdRwTMkC2gGy8tBMyQJfQBwNNFDJAeSCjSeUUMkBacD6QfRUyQDvA2dYVFjJAHBB1Ha4WMkD9XxBkRhcyQN6vq6reFzJAv\\u002f9G8XYYMkCgT+I3DxkyQIGffX6nGTJAYu8YxT8aMkBEP7QL2BoyQCWPT1JwGzJABt\\u002fqmAgcMkDnLobfoBwyQMh+ISY5HTJAqc68bNEdMkCKHlizaR4yQGtu8\\u002fkBHzJATL6OQJofMkAuDiqHMiAyQA9exc3KIDJA8K1gFGMhMkDR\\u002ffta+yEyQLJNl6GTIjJAk50y6CsjMkB07c0uxCMyQFU9aXVcJDJANo0EvPQkMkAY3Z8CjSUyQPksO0klJjJA2nzWj70mMkC7zHHWVScyQJwcDR3uJzJAfWyoY4YoMkBevEOqHikyQD8M3\\u002fC2KTJAIFx6N08qMkABrBV+5yoyQOP7sMR\\u002fKzJAxEtMCxgsMkClm+dRsCwyQIbrgphILTJAZzse3+AtMkBIi7kleS4yQCnbVGwRLzJACivwsqkvMkDreov5QTAyQM3KJkDaMDJArhrChnIxMkCPal3NCjIyQHC6+BOjMjJAUQqUWjszMkAyWi+h0zMyQBOqyudrNDJA9PllLgQ1MkDVSQF1nDUyQLaZnLs0NjJAmOk3As02MkB5OdNIZTcyQFqJbo\\u002f9NzJAO9kJ1pU4MkAcKaUcLjkyQP14QGPGOTJA3sjbqV46MkC\\u002fGHfw9joyQKBoEjePOzJAgritfSc8MkBjCEnEvzwyQERY5ApYPTJAJah\\u002fUfA9MkAG+BqYiD4yQOdHtt4gPzJAyJdRJbk\\u002fMkCp5+xrUUAyQIo3iLLpQDJAbIcj+YFBMkBN174\\u002fGkIyQC4nWoayQjJAD3f1zEpDMkDwxpAT40MyQNEWLFp7RDJAsmbHoBNFMkCTtmLnq0UyQHQG\\u002fi1ERjJAVlaZdNxGMkA3pjS7dEcyQBj2zwENSDJA+UVrSKVIMkDalQaPPUkyQLvlodXVSTJAnDU9HG5KMkB9hdhiBksyQF7Vc6meSzJAPyUP8DZMMkAhdao2z0wyQALFRX1nTTJA4xThw\\u002f9NMkDEZHwKmE4yQKW0F1EwTzJAhgSzl8hPMkBnVE7eYFAyQEik6ST5UDJAKfSEa5FRMkALRCCyKVIyQOyTu\\u002fjBUjJAzeNWP1pTMkCuM\\u002fKF8lMyQI+DjcyKVDJAcNMoEyNVMkBRI8RZu1UyQDJzX6BTVjJAE8P65utWMkD0EpYthFcyQNZiMXQcWDJAt7LMurRYMkCYAmgBTVkyQHlSA0jlWTJAWqKejn1aMkA78jnVFVsyQBxC1RuuWzJA\\u002fZFwYkZcMkDe4Qup3lwyQMAxp+92XTJAoYFCNg9eMkCC0d18p14yQGMhecM\\u002fXzJARHEUCthfMkAlwa9QcGAyQAYRS5cIYTJA52Dm3aBhMkDIsIEkOWIyQKoAHWvRYjJAi1C4sWljMkBsoFP4AWQyQE3w7j6aZDJALkCKhTJlMkAPkCXMymUyQPDfwBJjZjJA0S9cWftmMkCyf\\u002fefk2cyQJTPkuYraDJAdR8uLcRoMkBWb8lzXGkyQDe\\u002fZLr0aTJAGA8AAY1qMkD5XptHJWsyQNquNo69azJAu\\u002f7R1FVsMkCcTm0b7mwyQH2eCGKGbTJAX+6jqB5uMkBAPj\\u002fvtm4yQCGO2jVPbzJAAt51fOdvMkDjLRHDf3AyQMR9rAkYcTJApc1HULBxMkCGHeOWSHIyQGdtft3gcjJASb0ZJHlzMkAqDbVqEXQyQAtdULGpdDJA7Kzr90F1MkDN\\u002fIY+2nUyQK5MIoVydjJAj5y9ywp3MkBw7FgSo3cyQFE89Fg7eDJAMoyPn9N4MkAU3Crma3kyQPUrxiwEejJA1nthc5x6MkC3y\\u002fy5NHsyQJgbmADNezJAeWszR2V8MkBau86N\\u002fXwyQDsLatSVfTJAHFsFGy5+MkD+qqBhxn4yQN\\u002f6O6hefzJAwErX7vZ\\u002fMkChmnI1j4AyQILqDXwngTJAYzqpwr+BMkBEikQJWIIyQCXa30\\u002fwgjJABip7loiDMkDoeRbdIIQyQMnJsSO5hDJAqhlNalGFMkCLaeiw6YUyQGy5g\\u002feBhjJATQkfPhqHMkAuWbqEsocyQA+pVctKiDJA8PjwEeOIMkDSSIxYe4kyQLOYJ58TijJAlOjC5auKMkB1OF4sRIsyQFaI+XLcizJAN9iUuXSMMkAYKDAADY0yQPl3y0aljTJA2sdmjT2OMkC7FwLU1Y4yQJ1nnRpujzJAfrc4YQaQMkBfB9SnnpAyQEBXb+42kTJAIacKNc+RMkAC96V7Z5IyQONGQcL\\u002fkjJAxJbcCJiTMkCl5ndPMJQyQIc2E5bIlDJAaIau3GCVMkBJ1kkj+ZUyQCom5WmRljJAC3aAsCmXMkDsxRv3wZcyQM0Vtz1amDJArmVShPKYMkCPte3KipkyQHAFiREjmjJAUlUkWLuaMkAzpb+eU5syQBT1WuXrmzJA9UT2K4ScMkDWlJFyHJ0yQLfkLLm0nTJAmDTI\\u002f0yeMkB5hGNG5Z4yQFrU\\u002fox9nzJAPCSa0xWgMkAddDUarqAyQP7D0GBGoTJA3xNsp96hMkDAYwfudqIyQKGzojQPozJAggM+e6ejMkBjU9nBP6QyQESjdAjYpDJAJvMPT3ClMkAHQ6uVCKYyQOiSRtygpjJAyeLhIjmnMkCqMn1p0acyQIuCGLBpqDJAbNKz9gGpMkBNIk89mqkyQC5y6oMyqjJAEMKFysqqMkDxESERY6syQNJhvFf7qzJAs7FXnpOsMkCUAfPkK60yQHVRjivErTJAVqEpclyuMkA38cS49K4yQBhBYP+MrzJA+ZD7RSWwMkDb4JaMvbAyQLwwMtNVsTJAnYDNGe6xMkB+0GhghrIyQF8gBKceszJAQHCf7bazMkAhwDo0T7QyQAIQ1nrntDJA419xwX+1MkDErwwIGLYyQKb\\u002fp06wtjJAh09DlUi3MkBon97b4LcyQEnveSJ5uDJAKj8VaRG5MkALj7CvqbkyQOzeS\\u002fZBujJAzS7nPNq6MkCufoKDcrsyQJDOHcoKvDJAcR65EKO8MkBSblRXO70yQDO+753TvTJAFA6L5Gu+MkD1XSYrBL8yQNatwXGcvzJAt\\u002f1cuDTAMkCYTfj+zMAyQHqdk0VlwTJAW+0ujP3BMkA8PcrSlcIyQB2NZRkuwzJA\\u002ftwAYMbDMkDfLJymXsQyQMB8N+32xDJAoczSM4\\u002fFMkCCHG56J8YyQGRsCcG\\u002fxjJARbykB1jHMkAmDEBO8McyQAdc25SIyDJA6Kt22yDJMkDJ+xEiuckyQKpLrWhRyjJAi5tIr+nKMkBs6+P1gcsyQE47fzwazDJAL4sag7LMMkAQ27XJSs0yQPEqURDjzTJA0nrsVnvOMkCzyoedE88yQJQaI+SrzzJAdWq+KkTQMkBWullx3NAyQDcK9bd00TJAGVqQ\\u002fgzSMkD6qStFpdIyQNv5xos90zJAvEli0tXTMkCdmf0YbtQyQH7pmF8G1TJAXzk0pp7VMkBAic\\u002fsNtYyQCHZajPP1jJAAikGemfXMkDkeKHA\\u002f9cyQMXIPAeY2DJAphjYTTDZMkCHaHOUyNkyQGi4Dttg2jJASQiqIfnaMkAqWEVokdsyQAuo4K4p3DJA7Pd79cHcMkDORxc8Wt0yQK+XsoLy3TJAkOdNyYreMkBxN+kPI98yQFKHhFa73zJAM9cfnVPgMkAUJ7vj6+AyQPV2ViqE4TJA1sbxcBziMkA=\"},\"type\":\"scatter\",\"xaxis\":\"x3\",\"yaxis\":\"y3\"},{\"fill\":\"tozeroy\",\"hovertemplate\":\"%{x}\\u003cbr\\u003eGDD: %{y:.0f}\\u003cextra\\u003e\\u003c\\u002fextra\\u003e\",\"line\":{\"color\":\"#32CD32\",\"width\":2},\"mode\":\"lines\",\"name\":\"GDD Base 10\\u00b0C\",\"x\":[\"1980-01-01T00:00:00.000000000\",\"1980-02-01T00:00:00.000000000\",\"1980-03-01T00:00:00.000000000\",\"1980-04-01T00:00:00.000000000\",\"1980-05-01T00:00:00.000000000\",\"1980-06-01T00:00:00.000000000\",\"1980-07-01T00:00:00.000000000\",\"1980-08-01T00:00:00.000000000\",\"1980-09-01T00:00:00.000000000\",\"1980-10-01T00:00:00.000000000\",\"1980-11-01T00:00:00.000000000\",\"1980-12-01T00:00:00.000000000\",\"1981-01-01T00:00:00.000000000\",\"1981-02-01T00:00:00.000000000\",\"1981-03-01T00:00:00.000000000\",\"1981-04-01T00:00:00.000000000\",\"1981-05-01T00:00:00.000000000\",\"1981-06-01T00:00:00.000000000\",\"1981-07-01T00:00:00.000000000\",\"1981-08-01T00:00:00.000000000\",\"1981-09-01T00:00:00.000000000\",\"1981-10-01T00:00:00.000000000\",\"1981-11-01T00:00:00.000000000\",\"1981-12-01T00:00:00.000000000\",\"1982-01-01T00:00:00.000000000\",\"1982-02-01T00:00:00.000000000\",\"1982-03-01T00:00:00.000000000\",\"1982-04-01T00:00:00.000000000\",\"1982-05-01T00:00:00.000000000\",\"1982-06-01T00:00:00.000000000\",\"1982-07-01T00:00:00.000000000\",\"1982-08-01T00:00:00.000000000\",\"1982-09-01T00:00:00.000000000\",\"1982-10-01T00:00:00.000000000\",\"1982-11-01T00:00:00.000000000\",\"1982-12-01T00:00:00.000000000\",\"1983-01-01T00:00:00.000000000\",\"1983-02-01T00:00:00.000000000\",\"1983-03-01T00:00:00.000000000\",\"1983-04-01T00:00:00.000000000\",\"1983-05-01T00:00:00.000000000\",\"1983-06-01T00:00:00.000000000\",\"1983-07-01T00:00:00.000000000\",\"1983-08-01T00:00:00.000000000\",\"1983-09-01T00:00:00.000000000\",\"1983-10-01T00:00:00.000000000\",\"1983-11-01T00:00:00.000000000\",\"1983-12-01T00:00:00.000000000\",\"1984-01-01T00:00:00.000000000\",\"1984-02-01T00:00:00.000000000\",\"1984-03-01T00:00:00.000000000\",\"1984-04-01T00:00:00.000000000\",\"1984-05-01T00:00:00.000000000\",\"1984-06-01T00:00:00.000000000\",\"1984-07-01T00:00:00.000000000\",\"1984-08-01T00:00:00.000000000\",\"1984-09-01T00:00:00.000000000\",\"1984-10-01T00:00:00.000000000\",\"1984-11-01T00:00:00.000000000\",\"1984-12-01T00:00:00.000000000\",\"1985-01-01T00:00:00.000000000\",\"1985-02-01T00:00:00.000000000\",\"1985-03-01T00:00:00.000000000\",\"1985-04-01T00:00:00.000000000\",\"1985-05-01T00:00:00.000000000\",\"1985-06-01T00:00:00.000000000\",\"1985-07-01T00:00:00.000000000\",\"1985-08-01T00:00:00.000000000\",\"1985-09-01T00:00:00.000000000\",\"1985-10-01T00:00:00.000000000\",\"1985-11-01T00:00:00.000000000\",\"1985-12-01T00:00:00.000000000\",\"1986-01-01T00:00:00.000000000\",\"1986-02-01T00:00:00.000000000\",\"1986-03-01T00:00:00.000000000\",\"1986-04-01T00:00:00.000000000\",\"1986-05-01T00:00:00.000000000\",\"1986-06-01T00:00:00.000000000\",\"1986-07-01T00:00:00.000000000\",\"1986-08-01T00:00:00.000000000\",\"1986-09-01T00:00:00.000000000\",\"1986-10-01T00:00:00.000000000\",\"1986-11-01T00:00:00.000000000\",\"1986-12-01T00:00:00.000000000\",\"1987-01-01T00:00:00.000000000\",\"1987-02-01T00:00:00.000000000\",\"1987-03-01T00:00:00.000000000\",\"1987-04-01T00:00:00.000000000\",\"1987-05-01T00:00:00.000000000\",\"1987-06-01T00:00:00.000000000\",\"1987-07-01T00:00:00.000000000\",\"1987-08-01T00:00:00.000000000\",\"1987-09-01T00:00:00.000000000\",\"1987-10-01T00:00:00.000000000\",\"1987-11-01T00:00:00.000000000\",\"1987-12-01T00:00:00.000000000\",\"1988-01-01T00:00:00.000000000\",\"1988-02-01T00:00:00.000000000\",\"1988-03-01T00:00:00.000000000\",\"1988-04-01T00:00:00.000000000\",\"1988-05-01T00:00:00.000000000\",\"1988-06-01T00:00:00.000000000\",\"1988-07-01T00:00:00.000000000\",\"1988-08-01T00:00:00.000000000\",\"1988-09-01T00:00:00.000000000\",\"1988-10-01T00:00:00.000000000\",\"1988-11-01T00:00:00.000000000\",\"1988-12-01T00:00:00.000000000\",\"1989-01-01T00:00:00.000000000\",\"1989-02-01T00:00:00.000000000\",\"1989-03-01T00:00:00.000000000\",\"1989-04-01T00:00:00.000000000\",\"1989-05-01T00:00:00.000000000\",\"1989-06-01T00:00:00.000000000\",\"1989-07-01T00:00:00.000000000\",\"1989-08-01T00:00:00.000000000\",\"1989-09-01T00:00:00.000000000\",\"1989-10-01T00:00:00.000000000\",\"1989-11-01T00:00:00.000000000\",\"1989-12-01T00:00:00.000000000\",\"1990-01-01T00:00:00.000000000\",\"1990-02-01T00:00:00.000000000\",\"1990-03-01T00:00:00.000000000\",\"1990-04-01T00:00:00.000000000\",\"1990-05-01T00:00:00.000000000\",\"1990-06-01T00:00:00.000000000\",\"1990-07-01T00:00:00.000000000\",\"1990-08-01T00:00:00.000000000\",\"1990-09-01T00:00:00.000000000\",\"1990-10-01T00:00:00.000000000\",\"1990-11-01T00:00:00.000000000\",\"1990-12-01T00:00:00.000000000\",\"1991-01-01T00:00:00.000000000\",\"1991-02-01T00:00:00.000000000\",\"1991-03-01T00:00:00.000000000\",\"1991-04-01T00:00:00.000000000\",\"1991-05-01T00:00:00.000000000\",\"1991-06-01T00:00:00.000000000\",\"1991-07-01T00:00:00.000000000\",\"1991-08-01T00:00:00.000000000\",\"1991-09-01T00:00:00.000000000\",\"1991-10-01T00:00:00.000000000\",\"1991-11-01T00:00:00.000000000\",\"1991-12-01T00:00:00.000000000\",\"1992-01-01T00:00:00.000000000\",\"1992-02-01T00:00:00.000000000\",\"1992-03-01T00:00:00.000000000\",\"1992-04-01T00:00:00.000000000\",\"1992-05-01T00:00:00.000000000\",\"1992-06-01T00:00:00.000000000\",\"1992-07-01T00:00:00.000000000\",\"1992-08-01T00:00:00.000000000\",\"1992-09-01T00:00:00.000000000\",\"1992-10-01T00:00:00.000000000\",\"1992-11-01T00:00:00.000000000\",\"1992-12-01T00:00:00.000000000\",\"1993-01-01T00:00:00.000000000\",\"1993-02-01T00:00:00.000000000\",\"1993-03-01T00:00:00.000000000\",\"1993-04-01T00:00:00.000000000\",\"1993-05-01T00:00:00.000000000\",\"1993-06-01T00:00:00.000000000\",\"1993-07-01T00:00:00.000000000\",\"1993-08-01T00:00:00.000000000\",\"1993-09-01T00:00:00.000000000\",\"1993-10-01T00:00:00.000000000\",\"1993-11-01T00:00:00.000000000\",\"1993-12-01T00:00:00.000000000\",\"1994-01-01T00:00:00.000000000\",\"1994-02-01T00:00:00.000000000\",\"1994-03-01T00:00:00.000000000\",\"1994-04-01T00:00:00.000000000\",\"1994-05-01T00:00:00.000000000\",\"1994-06-01T00:00:00.000000000\",\"1994-07-01T00:00:00.000000000\",\"1994-08-01T00:00:00.000000000\",\"1994-09-01T00:00:00.000000000\",\"1994-10-01T00:00:00.000000000\",\"1994-11-01T00:00:00.000000000\",\"1994-12-01T00:00:00.000000000\",\"1995-01-01T00:00:00.000000000\",\"1995-02-01T00:00:00.000000000\",\"1995-03-01T00:00:00.000000000\",\"1995-04-01T00:00:00.000000000\",\"1995-05-01T00:00:00.000000000\",\"1995-06-01T00:00:00.000000000\",\"1995-07-01T00:00:00.000000000\",\"1995-08-01T00:00:00.000000000\",\"1995-09-01T00:00:00.000000000\",\"1995-10-01T00:00:00.000000000\",\"1995-11-01T00:00:00.000000000\",\"1995-12-01T00:00:00.000000000\",\"1996-01-01T00:00:00.000000000\",\"1996-02-01T00:00:00.000000000\",\"1996-03-01T00:00:00.000000000\",\"1996-04-01T00:00:00.000000000\",\"1996-05-01T00:00:00.000000000\",\"1996-06-01T00:00:00.000000000\",\"1996-07-01T00:00:00.000000000\",\"1996-08-01T00:00:00.000000000\",\"1996-09-01T00:00:00.000000000\",\"1996-10-01T00:00:00.000000000\",\"1996-11-01T00:00:00.000000000\",\"1996-12-01T00:00:00.000000000\",\"1997-01-01T00:00:00.000000000\",\"1997-02-01T00:00:00.000000000\",\"1997-03-01T00:00:00.000000000\",\"1997-04-01T00:00:00.000000000\",\"1997-05-01T00:00:00.000000000\",\"1997-06-01T00:00:00.000000000\",\"1997-07-01T00:00:00.000000000\",\"1997-08-01T00:00:00.000000000\",\"1997-09-01T00:00:00.000000000\",\"1997-10-01T00:00:00.000000000\",\"1997-11-01T00:00:00.000000000\",\"1997-12-01T00:00:00.000000000\",\"1998-01-01T00:00:00.000000000\",\"1998-02-01T00:00:00.000000000\",\"1998-03-01T00:00:00.000000000\",\"1998-04-01T00:00:00.000000000\",\"1998-05-01T00:00:00.000000000\",\"1998-06-01T00:00:00.000000000\",\"1998-07-01T00:00:00.000000000\",\"1998-08-01T00:00:00.000000000\",\"1998-09-01T00:00:00.000000000\",\"1998-10-01T00:00:00.000000000\",\"1998-11-01T00:00:00.000000000\",\"1998-12-01T00:00:00.000000000\",\"1999-01-01T00:00:00.000000000\",\"1999-02-01T00:00:00.000000000\",\"1999-03-01T00:00:00.000000000\",\"1999-04-01T00:00:00.000000000\",\"1999-05-01T00:00:00.000000000\",\"1999-06-01T00:00:00.000000000\",\"1999-07-01T00:00:00.000000000\",\"1999-08-01T00:00:00.000000000\",\"1999-09-01T00:00:00.000000000\",\"1999-10-01T00:00:00.000000000\",\"1999-11-01T00:00:00.000000000\",\"1999-12-01T00:00:00.000000000\",\"2000-01-01T00:00:00.000000000\",\"2000-02-01T00:00:00.000000000\",\"2000-03-01T00:00:00.000000000\",\"2000-04-01T00:00:00.000000000\",\"2000-05-01T00:00:00.000000000\",\"2000-06-01T00:00:00.000000000\",\"2000-07-01T00:00:00.000000000\",\"2000-08-01T00:00:00.000000000\",\"2000-09-01T00:00:00.000000000\",\"2000-10-01T00:00:00.000000000\",\"2000-11-01T00:00:00.000000000\",\"2000-12-01T00:00:00.000000000\",\"2001-01-01T00:00:00.000000000\",\"2001-02-01T00:00:00.000000000\",\"2001-03-01T00:00:00.000000000\",\"2001-04-01T00:00:00.000000000\",\"2001-05-01T00:00:00.000000000\",\"2001-06-01T00:00:00.000000000\",\"2001-07-01T00:00:00.000000000\",\"2001-08-01T00:00:00.000000000\",\"2001-09-01T00:00:00.000000000\",\"2001-10-01T00:00:00.000000000\",\"2001-11-01T00:00:00.000000000\",\"2001-12-01T00:00:00.000000000\",\"2002-01-01T00:00:00.000000000\",\"2002-02-01T00:00:00.000000000\",\"2002-03-01T00:00:00.000000000\",\"2002-04-01T00:00:00.000000000\",\"2002-05-01T00:00:00.000000000\",\"2002-06-01T00:00:00.000000000\",\"2002-07-01T00:00:00.000000000\",\"2002-08-01T00:00:00.000000000\",\"2002-09-01T00:00:00.000000000\",\"2002-10-01T00:00:00.000000000\",\"2002-11-01T00:00:00.000000000\",\"2002-12-01T00:00:00.000000000\",\"2003-01-01T00:00:00.000000000\",\"2003-02-01T00:00:00.000000000\",\"2003-03-01T00:00:00.000000000\",\"2003-04-01T00:00:00.000000000\",\"2003-05-01T00:00:00.000000000\",\"2003-06-01T00:00:00.000000000\",\"2003-07-01T00:00:00.000000000\",\"2003-08-01T00:00:00.000000000\",\"2003-09-01T00:00:00.000000000\",\"2003-10-01T00:00:00.000000000\",\"2003-11-01T00:00:00.000000000\",\"2003-12-01T00:00:00.000000000\",\"2004-01-01T00:00:00.000000000\",\"2004-02-01T00:00:00.000000000\",\"2004-03-01T00:00:00.000000000\",\"2004-04-01T00:00:00.000000000\",\"2004-05-01T00:00:00.000000000\",\"2004-06-01T00:00:00.000000000\",\"2004-07-01T00:00:00.000000000\",\"2004-08-01T00:00:00.000000000\",\"2004-09-01T00:00:00.000000000\",\"2004-10-01T00:00:00.000000000\",\"2004-11-01T00:00:00.000000000\",\"2004-12-01T00:00:00.000000000\",\"2005-01-01T00:00:00.000000000\",\"2005-02-01T00:00:00.000000000\",\"2005-03-01T00:00:00.000000000\",\"2005-04-01T00:00:00.000000000\",\"2005-05-01T00:00:00.000000000\",\"2005-06-01T00:00:00.000000000\",\"2005-07-01T00:00:00.000000000\",\"2005-08-01T00:00:00.000000000\",\"2005-09-01T00:00:00.000000000\",\"2005-10-01T00:00:00.000000000\",\"2005-11-01T00:00:00.000000000\",\"2005-12-01T00:00:00.000000000\",\"2006-01-01T00:00:00.000000000\",\"2006-02-01T00:00:00.000000000\",\"2006-03-01T00:00:00.000000000\",\"2006-04-01T00:00:00.000000000\",\"2006-05-01T00:00:00.000000000\",\"2006-06-01T00:00:00.000000000\",\"2006-07-01T00:00:00.000000000\",\"2006-08-01T00:00:00.000000000\",\"2006-09-01T00:00:00.000000000\",\"2006-10-01T00:00:00.000000000\",\"2006-11-01T00:00:00.000000000\",\"2006-12-01T00:00:00.000000000\",\"2007-01-01T00:00:00.000000000\",\"2007-02-01T00:00:00.000000000\",\"2007-03-01T00:00:00.000000000\",\"2007-04-01T00:00:00.000000000\",\"2007-05-01T00:00:00.000000000\",\"2007-06-01T00:00:00.000000000\",\"2007-07-01T00:00:00.000000000\",\"2007-08-01T00:00:00.000000000\",\"2007-09-01T00:00:00.000000000\",\"2007-10-01T00:00:00.000000000\",\"2007-11-01T00:00:00.000000000\",\"2007-12-01T00:00:00.000000000\",\"2008-01-01T00:00:00.000000000\",\"2008-02-01T00:00:00.000000000\",\"2008-03-01T00:00:00.000000000\",\"2008-04-01T00:00:00.000000000\",\"2008-05-01T00:00:00.000000000\",\"2008-06-01T00:00:00.000000000\",\"2008-07-01T00:00:00.000000000\",\"2008-08-01T00:00:00.000000000\",\"2008-09-01T00:00:00.000000000\",\"2008-10-01T00:00:00.000000000\",\"2008-11-01T00:00:00.000000000\",\"2008-12-01T00:00:00.000000000\",\"2009-01-01T00:00:00.000000000\",\"2009-02-01T00:00:00.000000000\",\"2009-03-01T00:00:00.000000000\",\"2009-04-01T00:00:00.000000000\",\"2009-05-01T00:00:00.000000000\",\"2009-06-01T00:00:00.000000000\",\"2009-07-01T00:00:00.000000000\",\"2009-08-01T00:00:00.000000000\",\"2009-09-01T00:00:00.000000000\",\"2009-10-01T00:00:00.000000000\",\"2009-11-01T00:00:00.000000000\",\"2009-12-01T00:00:00.000000000\",\"2010-01-01T00:00:00.000000000\",\"2010-02-01T00:00:00.000000000\",\"2010-03-01T00:00:00.000000000\",\"2010-04-01T00:00:00.000000000\",\"2010-05-01T00:00:00.000000000\",\"2010-06-01T00:00:00.000000000\",\"2010-07-01T00:00:00.000000000\",\"2010-08-01T00:00:00.000000000\",\"2010-09-01T00:00:00.000000000\",\"2010-10-01T00:00:00.000000000\",\"2010-11-01T00:00:00.000000000\",\"2010-12-01T00:00:00.000000000\",\"2011-01-01T00:00:00.000000000\",\"2011-02-01T00:00:00.000000000\",\"2011-03-01T00:00:00.000000000\",\"2011-04-01T00:00:00.000000000\",\"2011-05-01T00:00:00.000000000\",\"2011-06-01T00:00:00.000000000\",\"2011-07-01T00:00:00.000000000\",\"2011-08-01T00:00:00.000000000\",\"2011-09-01T00:00:00.000000000\",\"2011-10-01T00:00:00.000000000\",\"2011-11-01T00:00:00.000000000\",\"2011-12-01T00:00:00.000000000\",\"2012-01-01T00:00:00.000000000\",\"2012-02-01T00:00:00.000000000\",\"2012-03-01T00:00:00.000000000\",\"2012-04-01T00:00:00.000000000\",\"2012-05-01T00:00:00.000000000\",\"2012-06-01T00:00:00.000000000\",\"2012-07-01T00:00:00.000000000\",\"2012-08-01T00:00:00.000000000\",\"2012-09-01T00:00:00.000000000\",\"2012-10-01T00:00:00.000000000\",\"2012-11-01T00:00:00.000000000\",\"2012-12-01T00:00:00.000000000\",\"2013-01-01T00:00:00.000000000\",\"2013-02-01T00:00:00.000000000\",\"2013-03-01T00:00:00.000000000\",\"2013-04-01T00:00:00.000000000\",\"2013-05-01T00:00:00.000000000\",\"2013-06-01T00:00:00.000000000\",\"2013-07-01T00:00:00.000000000\",\"2013-08-01T00:00:00.000000000\",\"2013-09-01T00:00:00.000000000\",\"2013-10-01T00:00:00.000000000\",\"2013-11-01T00:00:00.000000000\",\"2013-12-01T00:00:00.000000000\",\"2014-01-01T00:00:00.000000000\",\"2014-02-01T00:00:00.000000000\",\"2014-03-01T00:00:00.000000000\",\"2014-04-01T00:00:00.000000000\",\"2014-05-01T00:00:00.000000000\",\"2014-06-01T00:00:00.000000000\",\"2014-07-01T00:00:00.000000000\",\"2014-08-01T00:00:00.000000000\",\"2014-09-01T00:00:00.000000000\",\"2014-10-01T00:00:00.000000000\",\"2014-11-01T00:00:00.000000000\",\"2014-12-01T00:00:00.000000000\",\"2015-01-01T00:00:00.000000000\",\"2015-02-01T00:00:00.000000000\",\"2015-03-01T00:00:00.000000000\",\"2015-04-01T00:00:00.000000000\",\"2015-05-01T00:00:00.000000000\",\"2015-06-01T00:00:00.000000000\",\"2015-07-01T00:00:00.000000000\",\"2015-08-01T00:00:00.000000000\",\"2015-09-01T00:00:00.000000000\",\"2015-10-01T00:00:00.000000000\",\"2015-11-01T00:00:00.000000000\",\"2015-12-01T00:00:00.000000000\",\"2016-01-01T00:00:00.000000000\",\"2016-02-01T00:00:00.000000000\",\"2016-03-01T00:00:00.000000000\",\"2016-04-01T00:00:00.000000000\",\"2016-05-01T00:00:00.000000000\",\"2016-06-01T00:00:00.000000000\",\"2016-07-01T00:00:00.000000000\",\"2016-08-01T00:00:00.000000000\",\"2016-09-01T00:00:00.000000000\",\"2016-10-01T00:00:00.000000000\",\"2016-11-01T00:00:00.000000000\",\"2016-12-01T00:00:00.000000000\",\"2017-01-01T00:00:00.000000000\",\"2017-02-01T00:00:00.000000000\",\"2017-03-01T00:00:00.000000000\",\"2017-04-01T00:00:00.000000000\",\"2017-05-01T00:00:00.000000000\",\"2017-06-01T00:00:00.000000000\",\"2017-07-01T00:00:00.000000000\",\"2017-08-01T00:00:00.000000000\",\"2017-09-01T00:00:00.000000000\",\"2017-10-01T00:00:00.000000000\",\"2017-11-01T00:00:00.000000000\",\"2017-12-01T00:00:00.000000000\",\"2018-01-01T00:00:00.000000000\",\"2018-02-01T00:00:00.000000000\",\"2018-03-01T00:00:00.000000000\",\"2018-04-01T00:00:00.000000000\",\"2018-05-01T00:00:00.000000000\",\"2018-06-01T00:00:00.000000000\",\"2018-07-01T00:00:00.000000000\",\"2018-08-01T00:00:00.000000000\",\"2018-09-01T00:00:00.000000000\",\"2018-10-01T00:00:00.000000000\",\"2018-11-01T00:00:00.000000000\",\"2018-12-01T00:00:00.000000000\",\"2019-01-01T00:00:00.000000000\",\"2019-02-01T00:00:00.000000000\",\"2019-03-01T00:00:00.000000000\",\"2019-04-01T00:00:00.000000000\",\"2019-05-01T00:00:00.000000000\",\"2019-06-01T00:00:00.000000000\",\"2019-07-01T00:00:00.000000000\",\"2019-08-01T00:00:00.000000000\",\"2019-09-01T00:00:00.000000000\",\"2019-10-01T00:00:00.000000000\",\"2019-11-01T00:00:00.000000000\",\"2019-12-01T00:00:00.000000000\",\"2020-01-01T00:00:00.000000000\",\"2020-02-01T00:00:00.000000000\",\"2020-03-01T00:00:00.000000000\",\"2020-04-01T00:00:00.000000000\",\"2020-05-01T00:00:00.000000000\",\"2020-06-01T00:00:00.000000000\",\"2020-07-01T00:00:00.000000000\",\"2020-08-01T00:00:00.000000000\",\"2020-09-01T00:00:00.000000000\",\"2020-10-01T00:00:00.000000000\",\"2020-11-01T00:00:00.000000000\",\"2020-12-01T00:00:00.000000000\",\"2021-01-01T00:00:00.000000000\",\"2021-02-01T00:00:00.000000000\",\"2021-03-01T00:00:00.000000000\",\"2021-04-01T00:00:00.000000000\",\"2021-05-01T00:00:00.000000000\",\"2021-06-01T00:00:00.000000000\",\"2021-07-01T00:00:00.000000000\",\"2021-08-01T00:00:00.000000000\",\"2021-09-01T00:00:00.000000000\",\"2021-10-01T00:00:00.000000000\",\"2021-11-01T00:00:00.000000000\",\"2021-12-01T00:00:00.000000000\",\"2022-01-01T00:00:00.000000000\",\"2022-02-01T00:00:00.000000000\",\"2022-03-01T00:00:00.000000000\",\"2022-04-01T00:00:00.000000000\",\"2022-05-01T00:00:00.000000000\",\"2022-06-01T00:00:00.000000000\",\"2022-07-01T00:00:00.000000000\",\"2022-08-01T00:00:00.000000000\",\"2022-09-01T00:00:00.000000000\",\"2022-10-01T00:00:00.000000000\",\"2022-11-01T00:00:00.000000000\",\"2022-12-01T00:00:00.000000000\",\"2023-01-01T00:00:00.000000000\",\"2023-02-01T00:00:00.000000000\",\"2023-03-01T00:00:00.000000000\",\"2023-04-01T00:00:00.000000000\",\"2023-05-01T00:00:00.000000000\",\"2023-06-01T00:00:00.000000000\",\"2023-07-01T00:00:00.000000000\",\"2023-08-01T00:00:00.000000000\",\"2023-09-01T00:00:00.000000000\",\"2023-10-01T00:00:00.000000000\",\"2023-11-01T00:00:00.000000000\",\"2023-12-01T00:00:00.000000000\",\"2024-01-01T00:00:00.000000000\",\"2024-02-01T00:00:00.000000000\",\"2024-03-01T00:00:00.000000000\",\"2024-04-01T00:00:00.000000000\",\"2024-05-01T00:00:00.000000000\",\"2024-06-01T00:00:00.000000000\",\"2024-07-01T00:00:00.000000000\",\"2024-08-01T00:00:00.000000000\",\"2024-09-01T00:00:00.000000000\",\"2024-10-01T00:00:00.000000000\",\"2024-11-01T00:00:00.000000000\",\"2024-12-01T00:00:00.000000000\",\"2025-01-01T00:00:00.000000000\",\"2025-02-01T00:00:00.000000000\",\"2025-03-01T00:00:00.000000000\",\"2025-04-01T00:00:00.000000000\",\"2025-05-01T00:00:00.000000000\",\"2025-06-01T00:00:00.000000000\",\"2025-07-01T00:00:00.000000000\"],\"y\":{\"dtype\":\"f8\",\"bdata\":\"zczMzEzypECamZmZGRmpQDMzMzOzvK5AAAAAAMAZsUAzMzMz886zQDMzMzMzIrlAzczMzEw7vEAzMzMz80G+QJqZmZnZUrxAmpmZmVlZtUDNzMzMzKWsQM3MzMzMH6NAMzMzMzMnpECamZmZmXSnQM3MzMzMirFAZmZmZqbisUAzMzMzs4a2QAAAAAAAzL1AMzMzM3N\\u002fwECamZmZmey\\u002fQJqZmZnZ+LxAmpmZmVl+uUBmZmZmZlyzQM3MzMzMvq1AzczMzEzGqkCamZmZGVCqQAAAAAAARLJAMzMzM3OWskBmZmZmZpq4QDMzMzMzubxAZmZmZuZZv0CamZmZ2VzAQDMzMzOz27xAMzMzMzMMtkDNzMzMzDywQJqZmZkZJqhAMzMzMzNqqkDNzMzMTBanQJqZmZlZmrJAzczMzAx2skAzMzMzcwa0QAAAAADA1LtAZmZmZuZmvkAzMzMzMwm\\u002fQJqZmZlZwb9AMzMzM3PYukAAAAAAwNKzQM3MzMxMqKxAzczMzEwbpkAAAAAAAB6mQM3MzMxMvKpAzczMzMwitECamZmZ2eeyQAAAAAAAPbdAZmZmZiauwEAAAAAAALe\\u002fQGZmZmbmcLlAMzMzMzMBtUBmZmZmZoavQM3MzMxMYKhAmpmZmZmIo0DNzMzMTH2rQJqZmZmZSKhAzczMzAx5s0AzMzMzs2u1QDMzMzNzmbtAzczMzIyNwEAzMzMzczLAQAAAAACAZb9AZmZmZiaqukAAAAAAwI6wQDMzMzOz4KpAAAAAAACCpUCamZmZma+jQDMzMzMz56xAmpmZmRkrq0AAAAAAwGG3QAAAAAAAxLdAAAAAAICfukDNzMzMDN67QAAAAABA3rlAmpmZmdlntkCamZmZmWOuQJqZmZkZFadAZmZmZuYkpUDNzMzMTG+oQAAAAAAAobBAZmZmZqbVsUAzMzMzs3m1QJqZmZmZd7hAAAAAAAAWukDNzMzMDD+9QJqZmZnZArtAmpmZmZlUtEBmZmZmZketQDMzMzOzGa5AzczMzEygqUDNzMzMTFioQDMzMzMzb69AzczMzIzBsUBmZmZmpuO0QM3MzMzMT7VAMzMzMzNHv0CamZmZ2ai+QM3MzMwMrb1AmpmZmRmUt0AzMzMz80+yQAAAAAAAQahAMzMzMzMIqUAzMzMzs8yqQAAAAACApbFAZmZmZqY\\u002fsUCamZmZGXi4QM3MzMzM6rxAmpmZmZmowUAzMzMzk5DBQDMzMzMzNr5AMzMzM\\u002fOAukBmZmZm5pqzQGZmZmZm57FAzczMzMy5qkAzMzMzs2mvQDMzMzOz+bNAAAAAAICNskDNzMzMTD26QGZmZmbmm71AmpmZmRnXwUDNzMzMzPzBQM3MzMzM475AMzMzM\\u002fOvuEBmZmZm5uWwQM3MzMxM66lAzczMzEwJqEBmZmZmZgqnQJqZmZlZvbFAMzMzM\\u002fNqskAAAAAAAJW3QAAAAACAO71AAAAAAMC+wECamZmZORDBQM3MzMyMV75AmpmZmVmVtkBmZmZmJqSwQDMzMzOzeK5AzczMzEw+p0AzMzMzM0CrQAAAAABARLJAzczMzMyZtUAzMzMz8\\u002fm7QGZmZmYm4LlAzczMzAwdwkCamZmZWTvCQM3MzMwM9L5AAAAAAEDdtkAAAAAAwGWyQDMzMzMzMq9AmpmZmZlQqEBmZmZmZnqrQAAAAABAjrJAzczMzIw8s0BmZmZmZuG3QJqZmZmZs71AZmZmZga2wUCamZmZWVy\\u002fQJqZmZmZMbpAmpmZmVnJskAzMzMzM6euQJqZmZmZ+6lAzczMzEx6p0AzMzMzM1WpQM3MzMyMArJAzczMzAzusUAAAAAAwJy3QJqZmZnZXL5AmpmZmZm3wkDNzMzMrE7CQGZmZmbmPrxAzczMzMxeukCamZmZGVy0QJqZmZmZya5AzczMzMwQrEAAAAAAQDiwQM3MzMyMvrJAzczMzMxXtUCamZmZGY69QM3MzMwMY75AAAAAAMChwkCamZmZOZLCQM3MzMxMSbxAmpmZmRlmvECamZmZGcW1QGZmZmZmQrJAmpmZmdlNsUCamZmZGV6qQJqZmZmZZLJAzczMzAymtUBmZmZmJh25QJqZmZk5YcBAmpmZmfnpwUAAAAAAIKrAQDMzMzNz8rtAZmZmZmaYuEAzMzMzc6KyQDMzMzMzaLBAmpmZmZlcrkCamZmZmSewQGZmZmZmcLVAZmZmZub7t0AzMzMzs5O5QGZmZmYmZrxAzczMzIzTwEAzMzMzE2rAQAAAAADgQ8BAzczMzIxtvEDNzMzMjJ6zQJqZmZkZo69AmpmZmRlTrUAAAAAAgF6wQDMzMzNzn7RAAAAAAMCps0CamZmZWcC4QJqZmZnZcb9AAAAAACBZwkAzMzMzs0bCQDMzMzPz5L5AzczMzMxVuEAAAAAAwEmzQJqZmZmZqapAzczMzEznqEBmZmZmZkCoQGZmZmZmDbJAZmZmZuY+tUCamZmZGbm6QDMzMzOzyLxAZmZmZgZcwUCamZmZ2QHAQGZmZmam9rxAMzMzMzP9uUCamZmZWSGwQM3MzMxMXa5AmpmZmZmJqEAzMzMzc7ewQAAAAAAAJ7JAzczMzIxksUAzMzMzc+G4QM3MzMxMdbxAZmZmZmaqwEBmZmZm5tm9QGZmZmbm0LtAAAAAAAAHtkAzMzMzMzavQM3MzMzMV61AZmZmZmZCrECamZmZmamrQM3MzMyMerNAmpmZmVm0tEBmZmZmZg+4QDMzMzOzhL5AAAAAAADUv0DNzMzMDMjAQJqZmZkZoLxAAAAAAEDquUCamZmZGXCvQM3MzMxMa6tAAAAAAIBqrEAzMzMzM4yrQGZmZmYmcrJAzczMzEw8s0DNzMzMjD+3QM3MzMxMv7xAzczMzAySwEDNzMzMTIi\\u002fQM3MzMzM97pAMzMzM7NvuEAzMzMzM+qxQAAAAAAAjaxAAAAAAACipkBmZmZmZrSlQJqZmZlZpbBAZmZmZiaKsUAAAAAAQBe4QDMzMzOzm7xAMzMzMzMJv0AzMzMzE1DAQGZmZmYmrrpAzczMzExctUAAAAAAAHOvQAAAAACA5KhAmpmZmRm5qUBmZmZm5qqpQJqZmZmZGa5AMzMzM7OasEDNzMzMzPSzQM3MzMxMbLxAAAAAAICHv0AAAAAAwMC+QM3MzMwMz7pAMzMzM\\u002fPRtUBmZmZmZg2sQM3MzMzMWqZAAAAAAABMokAAAAAAAKSgQAAAAACAOK5AAAAAAIAWskDNzMzMjN63QJqZmZmZS7xAzczMzIz5vkDNzMzMDLq+QM3MzMxMmrlAzczMzMwQtkAAAAAAgMmrQGZmZmZmtadAzczMzMzjokCamZmZmQykQDMzMzMzXq5AmpmZmRlvskAzMzMzc8i3QDMzMzNz0rlAmpmZmdnLvkBmZmZmJrq9QDMzMzOzSLpAZmZmZib9tkAAAAAAgO6wQM3MzMxMi6ZAzczMzExDpkDNzMzMTMmpQAAAAAAA4axAzczMzEwFsEAzMzMzMxe1QGZmZmYmXLhAMzMzM\\u002fOpvUDNzMzMTCa9QM3MzMwM1rlAmpmZmZmNtUBmZmZm5oKuQDMzMzOz5KhAMzMzMzP0qUAAAAAAgJ6sQJqZmZmZv69AMzMzM7PTskCamZmZ2Y61QM3MzMyM37pAmpmZmVljvUBmZmZm5uG9QAAAAADA9LhAzczMzMxCtUDNzMzMTNiqQGZmZmbmHaZAzczMzMyMpUAAAAAAAO6mQJqZmZlZJ7BAzczMzIwZsEAAAAAAwNS2QAAAAAAAaLpAAAAAAEDCvUAAAAAAQJG+QGZmZmYm6LlAZmZmZqbHt0AzMzMzM06wQM3MzMzMdKpAMzMzMzMPpkAzMzMzM0WoQGZmZmbmeq5AAAAAAEBss0AAAAAAQMa0QDMzMzOzyrZAmpmZmZmLvUCamZmZ2XTAQAAAAABATLpAMzMzM\\u002fNjskCamZmZGUKpQAAAAAAAY6dAAAAAAIB2p0BmZmZm5pGmQGZmZmbmmKtAAAAAAIDCs0BmZmZm5lW2QAAAAABAzLhAmpmZmRnBvUCamZmZWQW+QM3MzMyMX7hAMzMzM\\u002fO3tEAAAAAAgL2rQGZmZmbmcKlAzczMzEwhp0CamZmZGfCiQGZmZmbmuK5AZmZmZiZhsEDNzMzMjHm3QJqZmZnZ3rpAmpmZmRmsvUBmZmZmZs6+QM3MzMzMJrlAZmZmZiYntUAAAAAAgEivQGZmZmZm3KlAzczMzExbqEAAAAAAAFCkQM3MzMxMq61AMzMzMzN+sUAAAAAAgG+0QDMzMzPzobhAzczMzAxVvkBmZmZmJpq\\u002fQJqZmZmZQLpAAAAAAIBRt0AzMzMzM7WsQM3MzMxMG6lAMzMzM7MiqkAAAAAAAPOmQJqZmZmZfa5AMzMzM3Mzs0CamZmZ2Qi3QGZmZmamWblAAAAAAECTvEAzMzMzU3LAQJqZmZkZw7xAZmZmZuYuukCamZmZ2V6yQJqZmZmZq6hAZmZmZmb6pUAAAAAAgLymQGZmZmYm6bBAmpmZmVmJtECamZmZGcq6QJqZmZlZSL1AAAAAAKB1wUCamZmZ+V7AQDMzMzOzbbpAAAAAAIDkt0DNzMzMjDmyQJqZmZmZRLBAMzMzM7NsrkCamZmZmR2rQJqZmZmZ6K1AmpmZmVnIskAAAAAAQP+2QM3MzMyMNL1AAAAAAMDNwEDNzMzMLB3AQM3MzMwMYbxAzczMzAxSt0BmZmZmZlmtQAAAAACAKqpAAAAAAAA2pEDNzMzMzLCpQDMzMzOzJa9AzczMzEw2s0CamZmZmRS4QGZmZmYm+LxAAAAAAIBrvkDNzMzMjHG\\u002fQAAAAACAC7tAZmZmZmYHukCamZmZWSuwQGZmZmZmdadAmpmZmRnkp0BmZmZm5tWkQJqZmZmZEa1AmpmZmVlrsUAzMzMzc8e0QGZmZmZmJblAZmZmZqZOvUCamZmZWRS\\u002fQM3MzMyMzb1AAAAAAAARtkBmZmZmZlStQAAAAACAYKpAzczMzEz5pUDNzMzMzD6oQDMzMzPztbBAZmZmZualsECamZmZ2QS4QDMzMzOzYLlAZmZmZiY8vkDNzMzMjH2+QM3MzMwMErtAMzMzM3OQtkCamZmZma2uQGZmZmZm3q9AMzMzM7PYqkAzMzMzszOxQGZmZmbm+bJAMzMzM3Mgs0CamZmZWZe5QJqZmZkZbbtAMzMzM1NIwkDNzMzMzN7AQGZmZmYm6L1AzczMzIxbt0BmZmZmJgCzQJqZmZkZ4a1AmpmZmZmLqUAzMzMzM7itQM3MzMyMRbJAzczMzAyYtEDNzMzMDHy4QJqZmZmZ8b1AzczMzIzswUCamZmZ+bfCQAAAAACALr9AmpmZmdmFu0CamZmZmUmwQGZmZmbmELBAAAAAAIBXrECamZmZmdSuQDMzMzNzFbFAZmZmZiYaskAAAAAAAHS8QAAAAADAiL9AMzMzMxO+wkAzMzMz8+rBQAAAAACA47xAZmZmZuZXu0BmZmZmJoezQJqZmZlZ07FAmpmZmZn2qkBmZmZm5i2rQJqZmZmZCbRAAAAAAADvt0AAAAAAAOy4QDMzMzPzX71AzczMzKwxwUBmZmZmpvzBQM3MzMyMA7xAmpmZmRmIukAAAAAAwESyQM3MzMxM\\u002fqtAzczMzExBr0AzMzMzM0uvQJqZmZlZZrFAzczMzIyCtEBmZmZm5qm3QAAAAADAnLtAMzMzM\\u002fOOwEAAAAAAgHzBQJqZmZmZJLtAMzMzMzMhuEDNzMzMzJmyQGZmZmbmJ6tAAAAAAADpqkAAAAAAADerQM3MzMxMY69AzczMzMwZqECamZmZGbCoQAAAAAAAh61AZmZmZmaRlUA=\"},\"type\":\"scatter\",\"xaxis\":\"x4\",\"yaxis\":\"y4\"},{\"hovertemplate\":\"%{x}\\u003cbr\\u003ePrecipitaci\\u00f3n Anual: %{y:.0f} mm\\u003cextra\\u003e\\u003c\\u002fextra\\u003e\",\"marker\":{\"color\":\"#4169E1\"},\"name\":\"Precipitaci\\u00f3n Anual\",\"opacity\":0.6,\"x\":{\"dtype\":\"i4\",\"bdata\":\"vAcAAL0HAAC+BwAAvwcAAMAHAADBBwAAwgcAAMMHAADEBwAAxQcAAMYHAADHBwAAyAcAAMkHAADKBwAAywcAAMwHAADNBwAAzgcAAM8HAADQBwAA0QcAANIHAADTBwAA1AcAANUHAADWBwAA1wcAANgHAADZBwAA2gcAANsHAADcBwAA3QcAAN4HAADfBwAA4AcAAOEHAADiBwAA4wcAAOQHAADlBwAA5gcAAOcHAADoBwAA6QcAAA==\"},\"y\":{\"dtype\":\"f8\",\"bdata\":\"mpmZmZnArUAAAAAAAMWnQDMzMzMzr69AmpmZmZlpskAzMzMzs9GxQAAAAACAM7FAmpmZmZl8rEAzMzMzs\\u002fG1QAAAAAAATq5AAAAAAIC6vkDNzMzMzA+uQMzMzMzMCbVAmpmZmRltsEAAAAAAALCvQDMzMzMzfapAZmZmZmYgsUBmZmZmJmvGQM3MzMzM+r1AzczMzMxorEAzMzMzMwevQGZmZmZm\\u002fbJAAAAAAACbs0CamZmZmdG0QDMzMzMzILdAZmZmZmbbrUAzMzMzMzqkQAAAAACA4rRAZmZmZmYPr0AzMzMzM+izQM3MzMzMHLZAMzMzMzPrv0CamZmZmeWuQGZmZmbmyrNAMzMzM7OLtUAAAAAAgOe1QM3MzMzMsqtAMzMzMzPntUAzMzMzM+itQMzMzMxMJrlAzczMzMzkp0AzMzMzs3OyQDMzMzMzGK5AzczMzMwAskAAAAAAAMKmQAAAAAAACbVAzczMzMyDr0A=\"},\"type\":\"bar\",\"xaxis\":\"x5\",\"yaxis\":\"y5\"}],                        {\"template\":{\"data\":{\"histogram2dcontour\":[{\"type\":\"histogram2dcontour\",\"colorbar\":{\"outlinewidth\":0,\"ticks\":\"\"},\"colorscale\":[[0.0,\"#0d0887\"],[0.1111111111111111,\"#46039f\"],[0.2222222222222222,\"#7201a8\"],[0.3333333333333333,\"#9c179e\"],[0.4444444444444444,\"#bd3786\"],[0.5555555555555556,\"#d8576b\"],[0.6666666666666666,\"#ed7953\"],[0.7777777777777778,\"#fb9f3a\"],[0.8888888888888888,\"#fdca26\"],[1.0,\"#f0f921\"]]}],\"choropleth\":[{\"type\":\"choropleth\",\"colorbar\":{\"outlinewidth\":0,\"ticks\":\"\"}}],\"histogram2d\":[{\"type\":\"histogram2d\",\"colorbar\":{\"outlinewidth\":0,\"ticks\":\"\"},\"colorscale\":[[0.0,\"#0d0887\"],[0.1111111111111111,\"#46039f\"],[0.2222222222222222,\"#7201a8\"],[0.3333333333333333,\"#9c179e\"],[0.4444444444444444,\"#bd3786\"],[0.5555555555555556,\"#d8576b\"],[0.6666666666666666,\"#ed7953\"],[0.7777777777777778,\"#fb9f3a\"],[0.8888888888888888,\"#fdca26\"],[1.0,\"#f0f921\"]]}],\"heatmap\":[{\"type\":\"heatmap\",\"colorbar\":{\"outlinewidth\":0,\"ticks\":\"\"},\"colorscale\":[[0.0,\"#0d0887\"],[0.1111111111111111,\"#46039f\"],[0.2222222222222222,\"#7201a8\"],[0.3333333333333333,\"#9c179e\"],[0.4444444444444444,\"#bd3786\"],[0.5555555555555556,\"#d8576b\"],[0.6666666666666666,\"#ed7953\"],[0.7777777777777778,\"#fb9f3a\"],[0.8888888888888888,\"#fdca26\"],[1.0,\"#f0f921\"]]}],\"contourcarpet\":[{\"type\":\"contourcarpet\",\"colorbar\":{\"outlinewidth\":0,\"ticks\":\"\"}}],\"contour\":[{\"type\":\"contour\",\"colorbar\":{\"outlinewidth\":0,\"ticks\":\"\"},\"colorscale\":[[0.0,\"#0d0887\"],[0.1111111111111111,\"#46039f\"],[0.2222222222222222,\"#7201a8\"],[0.3333333333333333,\"#9c179e\"],[0.4444444444444444,\"#bd3786\"],[0.5555555555555556,\"#d8576b\"],[0.6666666666666666,\"#ed7953\"],[0.7777777777777778,\"#fb9f3a\"],[0.8888888888888888,\"#fdca26\"],[1.0,\"#f0f921\"]]}],\"surface\":[{\"type\":\"surface\",\"colorbar\":{\"outlinewidth\":0,\"ticks\":\"\"},\"colorscale\":[[0.0,\"#0d0887\"],[0.1111111111111111,\"#46039f\"],[0.2222222222222222,\"#7201a8\"],[0.3333333333333333,\"#9c179e\"],[0.4444444444444444,\"#bd3786\"],[0.5555555555555556,\"#d8576b\"],[0.6666666666666666,\"#ed7953\"],[0.7777777777777778,\"#fb9f3a\"],[0.8888888888888888,\"#fdca26\"],[1.0,\"#f0f921\"]]}],\"mesh3d\":[{\"type\":\"mesh3d\",\"colorbar\":{\"outlinewidth\":0,\"ticks\":\"\"}}],\"scatter\":[{\"fillpattern\":{\"fillmode\":\"overlay\",\"size\":10,\"solidity\":0.2},\"type\":\"scatter\"}],\"parcoords\":[{\"type\":\"parcoords\",\"line\":{\"colorbar\":{\"outlinewidth\":0,\"ticks\":\"\"}}}],\"scatterpolargl\":[{\"type\":\"scatterpolargl\",\"marker\":{\"colorbar\":{\"outlinewidth\":0,\"ticks\":\"\"}}}],\"bar\":[{\"error_x\":{\"color\":\"#2a3f5f\"},\"error_y\":{\"color\":\"#2a3f5f\"},\"marker\":{\"line\":{\"color\":\"#E5ECF6\",\"width\":0.5},\"pattern\":{\"fillmode\":\"overlay\",\"size\":10,\"solidity\":0.2}},\"type\":\"bar\"}],\"scattergeo\":[{\"type\":\"scattergeo\",\"marker\":{\"colorbar\":{\"outlinewidth\":0,\"ticks\":\"\"}}}],\"scatterpolar\":[{\"type\":\"scatterpolar\",\"marker\":{\"colorbar\":{\"outlinewidth\":0,\"ticks\":\"\"}}}],\"histogram\":[{\"marker\":{\"pattern\":{\"fillmode\":\"overlay\",\"size\":10,\"solidity\":0.2}},\"type\":\"histogram\"}],\"scattergl\":[{\"type\":\"scattergl\",\"marker\":{\"colorbar\":{\"outlinewidth\":0,\"ticks\":\"\"}}}],\"scatter3d\":[{\"type\":\"scatter3d\",\"line\":{\"colorbar\":{\"outlinewidth\":0,\"ticks\":\"\"}},\"marker\":{\"colorbar\":{\"outlinewidth\":0,\"ticks\":\"\"}}}],\"scattermap\":[{\"type\":\"scattermap\",\"marker\":{\"colorbar\":{\"outlinewidth\":0,\"ticks\":\"\"}}}],\"scattermapbox\":[{\"type\":\"scattermapbox\",\"marker\":{\"colorbar\":{\"outlinewidth\":0,\"ticks\":\"\"}}}],\"scatterternary\":[{\"type\":\"scatterternary\",\"marker\":{\"colorbar\":{\"outlinewidth\":0,\"ticks\":\"\"}}}],\"scattercarpet\":[{\"type\":\"scattercarpet\",\"marker\":{\"colorbar\":{\"outlinewidth\":0,\"ticks\":\"\"}}}],\"carpet\":[{\"aaxis\":{\"endlinecolor\":\"#2a3f5f\",\"gridcolor\":\"white\",\"linecolor\":\"white\",\"minorgridcolor\":\"white\",\"startlinecolor\":\"#2a3f5f\"},\"baxis\":{\"endlinecolor\":\"#2a3f5f\",\"gridcolor\":\"white\",\"linecolor\":\"white\",\"minorgridcolor\":\"white\",\"startlinecolor\":\"#2a3f5f\"},\"type\":\"carpet\"}],\"table\":[{\"cells\":{\"fill\":{\"color\":\"#EBF0F8\"},\"line\":{\"color\":\"white\"}},\"header\":{\"fill\":{\"color\":\"#C8D4E3\"},\"line\":{\"color\":\"white\"}},\"type\":\"table\"}],\"barpolar\":[{\"marker\":{\"line\":{\"color\":\"#E5ECF6\",\"width\":0.5},\"pattern\":{\"fillmode\":\"overlay\",\"size\":10,\"solidity\":0.2}},\"type\":\"barpolar\"}],\"pie\":[{\"automargin\":true,\"type\":\"pie\"}]},\"layout\":{\"autotypenumbers\":\"strict\",\"colorway\":[\"#636efa\",\"#EF553B\",\"#00cc96\",\"#ab63fa\",\"#FFA15A\",\"#19d3f3\",\"#FF6692\",\"#B6E880\",\"#FF97FF\",\"#FECB52\"],\"font\":{\"color\":\"#2a3f5f\"},\"hovermode\":\"closest\",\"hoverlabel\":{\"align\":\"left\"},\"paper_bgcolor\":\"white\",\"plot_bgcolor\":\"#E5ECF6\",\"polar\":{\"bgcolor\":\"#E5ECF6\",\"angularaxis\":{\"gridcolor\":\"white\",\"linecolor\":\"white\",\"ticks\":\"\"},\"radialaxis\":{\"gridcolor\":\"white\",\"linecolor\":\"white\",\"ticks\":\"\"}},\"ternary\":{\"bgcolor\":\"#E5ECF6\",\"aaxis\":{\"gridcolor\":\"white\",\"linecolor\":\"white\",\"ticks\":\"\"},\"baxis\":{\"gridcolor\":\"white\",\"linecolor\":\"white\",\"ticks\":\"\"},\"caxis\":{\"gridcolor\":\"white\",\"linecolor\":\"white\",\"ticks\":\"\"}},\"coloraxis\":{\"colorbar\":{\"outlinewidth\":0,\"ticks\":\"\"}},\"colorscale\":{\"sequential\":[[0.0,\"#0d0887\"],[0.1111111111111111,\"#46039f\"],[0.2222222222222222,\"#7201a8\"],[0.3333333333333333,\"#9c179e\"],[0.4444444444444444,\"#bd3786\"],[0.5555555555555556,\"#d8576b\"],[0.6666666666666666,\"#ed7953\"],[0.7777777777777778,\"#fb9f3a\"],[0.8888888888888888,\"#fdca26\"],[1.0,\"#f0f921\"]],\"sequentialminus\":[[0.0,\"#0d0887\"],[0.1111111111111111,\"#46039f\"],[0.2222222222222222,\"#7201a8\"],[0.3333333333333333,\"#9c179e\"],[0.4444444444444444,\"#bd3786\"],[0.5555555555555556,\"#d8576b\"],[0.6666666666666666,\"#ed7953\"],[0.7777777777777778,\"#fb9f3a\"],[0.8888888888888888,\"#fdca26\"],[1.0,\"#f0f921\"]],\"diverging\":[[0,\"#8e0152\"],[0.1,\"#c51b7d\"],[0.2,\"#de77ae\"],[0.3,\"#f1b6da\"],[0.4,\"#fde0ef\"],[0.5,\"#f7f7f7\"],[0.6,\"#e6f5d0\"],[0.7,\"#b8e186\"],[0.8,\"#7fbc41\"],[0.9,\"#4d9221\"],[1,\"#276419\"]]},\"xaxis\":{\"gridcolor\":\"white\",\"linecolor\":\"white\",\"ticks\":\"\",\"title\":{\"standoff\":15},\"zerolinecolor\":\"white\",\"automargin\":true,\"zerolinewidth\":2},\"yaxis\":{\"gridcolor\":\"white\",\"linecolor\":\"white\",\"ticks\":\"\",\"title\":{\"standoff\":15},\"zerolinecolor\":\"white\",\"automargin\":true,\"zerolinewidth\":2},\"scene\":{\"xaxis\":{\"backgroundcolor\":\"#E5ECF6\",\"gridcolor\":\"white\",\"linecolor\":\"white\",\"showbackground\":true,\"ticks\":\"\",\"zerolinecolor\":\"white\",\"gridwidth\":2},\"yaxis\":{\"backgroundcolor\":\"#E5ECF6\",\"gridcolor\":\"white\",\"linecolor\":\"white\",\"showbackground\":true,\"ticks\":\"\",\"zerolinecolor\":\"white\",\"gridwidth\":2},\"zaxis\":{\"backgroundcolor\":\"#E5ECF6\",\"gridcolor\":\"white\",\"linecolor\":\"white\",\"showbackground\":true,\"ticks\":\"\",\"zerolinecolor\":\"white\",\"gridwidth\":2}},\"shapedefaults\":{\"line\":{\"color\":\"#2a3f5f\"}},\"annotationdefaults\":{\"arrowcolor\":\"#2a3f5f\",\"arrowhead\":0,\"arrowwidth\":1},\"geo\":{\"bgcolor\":\"white\",\"landcolor\":\"#E5ECF6\",\"subunitcolor\":\"white\",\"showland\":true,\"showlakes\":true,\"lakecolor\":\"white\"},\"title\":{\"x\":0.05},\"mapbox\":{\"style\":\"light\"}}},\"xaxis\":{\"anchor\":\"y\",\"domain\":[0.0,0.45]},\"yaxis\":{\"anchor\":\"x\",\"domain\":[0.72,1.0],\"title\":{\"text\":\"Temperatura (\\u00b0C)\"}},\"xaxis2\":{\"anchor\":\"y2\",\"domain\":[0.55,1.0]},\"yaxis2\":{\"anchor\":\"x2\",\"domain\":[0.72,1.0],\"title\":{\"text\":\"Precipitaci\\u00f3n (mm)\"}},\"xaxis3\":{\"anchor\":\"y3\",\"domain\":[0.0,0.45]},\"yaxis3\":{\"anchor\":\"x3\",\"domain\":[0.36,0.6399999999999999],\"title\":{\"text\":\"Temperatura (\\u00b0C)\"}},\"xaxis4\":{\"anchor\":\"y4\",\"domain\":[0.55,1.0]},\"yaxis4\":{\"anchor\":\"x4\",\"domain\":[0.36,0.6399999999999999],\"title\":{\"text\":\"Grados D\\u00eda\"}},\"xaxis5\":{\"anchor\":\"y5\",\"domain\":[0.0,1.0],\"title\":{\"text\":\"A\\u00f1o\"}},\"yaxis5\":{\"anchor\":\"x5\",\"domain\":[0.0,0.27999999999999997],\"title\":{\"text\":\"Precipitaci\\u00f3n (mm)\"}},\"annotations\":[{\"font\":{\"size\":16},\"showarrow\":false,\"text\":\"Temperaturas M\\u00e1ximas y M\\u00ednimas\",\"x\":0.225,\"xanchor\":\"center\",\"xref\":\"paper\",\"y\":1.0,\"yanchor\":\"bottom\",\"yref\":\"paper\"},{\"font\":{\"size\":16},\"showarrow\":false,\"text\":\"Precipitaci\\u00f3n Mensual\",\"x\":0.775,\"xanchor\":\"center\",\"xref\":\"paper\",\"y\":1.0,\"yanchor\":\"bottom\",\"yref\":\"paper\"},{\"font\":{\"size\":16},\"showarrow\":false,\"text\":\"Temperatura Media\",\"x\":0.225,\"xanchor\":\"center\",\"xref\":\"paper\",\"y\":0.6399999999999999,\"yanchor\":\"bottom\",\"yref\":\"paper\"},{\"font\":{\"size\":16},\"showarrow\":false,\"text\":\"Grados D\\u00eda de Crecimiento\",\"x\":0.775,\"xanchor\":\"center\",\"xref\":\"paper\",\"y\":0.6399999999999999,\"yanchor\":\"bottom\",\"yref\":\"paper\"},{\"font\":{\"size\":16},\"showarrow\":false,\"text\":\"An\\u00e1lisis Anual de Precipitaci\\u00f3n\",\"x\":0.5,\"xanchor\":\"center\",\"xref\":\"paper\",\"y\":0.27999999999999997,\"yanchor\":\"bottom\",\"yref\":\"paper\"}],\"title\":{\"font\":{\"size\":20,\"color\":\"#228B22\"},\"text\":\"\\ud83d\\udcc8 An\\u00e1lisis Temporal del Clima en Andaluc\\u00eda (1980-2024)\",\"x\":0.5},\"height\":800,\"showlegend\":true,\"hovermode\":\"x unified\"},                        {\"responsive\": true}                    ).then(function(){\n",
       "                            \n",
       "var gd = document.getElementById('5e397200-4cc0-462c-8ade-db3523f240e2');\n",
       "var x = new MutationObserver(function (mutations, observer) {{\n",
       "        var display = window.getComputedStyle(gd).display;\n",
       "        if (!display || display === 'none') {{\n",
       "            console.log([gd, 'removed!']);\n",
       "            Plotly.purge(gd);\n",
       "            observer.disconnect();\n",
       "        }}\n",
       "}});\n",
       "\n",
       "// Listen for the removal of the full notebook cells\n",
       "var notebookContainer = gd.closest('#notebook-container');\n",
       "if (notebookContainer) {{\n",
       "    x.observe(notebookContainer, {childList: true});\n",
       "}}\n",
       "\n",
       "// Listen for the clearing of the current output cell\n",
       "var outputEl = gd.closest('.output');\n",
       "if (outputEl) {{\n",
       "    x.observe(outputEl, {childList: true});\n",
       "}}\n",
       "\n",
       "                        })                };            </script>        </div>"
      ]
     },
     "metadata": {},
     "output_type": "display_data"
    },
    {
     "name": "stdout",
     "output_type": "stream",
     "text": [
      "✅ Análisis temporal completado\n"
     ]
    }
   ],
   "source": [
    "### 4.2 Análisis Temporal Interactivo\n",
    "\n",
    "print(\"📅 Creando análisis temporal interactivo...\")\n",
    "\n",
    "# Preparar datos mensuales agregados\n",
    "datos_mensuales = andalucia_df.groupby(['AÑO', 'MES']).agg({\n",
    "    'TMAX': 'mean',\n",
    "    'TMIN': 'mean',\n",
    "    'TEMP_MEDIA': 'mean',\n",
    "    'PRCP': 'sum',\n",
    "    'GDD_BASE10': 'sum'\n",
    "}).reset_index()\n",
    "\n",
    "# Crear fecha para el eje x (corregido)\n",
    "datos_mensuales['FECHA'] = pd.to_datetime(dict(year=datos_mensuales['AÑO'], \n",
    "                                              month=datos_mensuales['MES'], \n",
    "                                              day=1))\n",
    "\n",
    "# Filtrar datos desde 1980 para mejor visualización\n",
    "datos_mensuales = datos_mensuales[datos_mensuales['AÑO'] >= 1980]\n",
    "\n",
    "# Crear subplots interactivos\n",
    "fig_temporal = make_subplots(\n",
    "    rows=3, cols=2,\n",
    "    subplot_titles=('Temperaturas Máximas y Mínimas', 'Precipitación Mensual',\n",
    "                   'Temperatura Media', 'Grados Día de Crecimiento',\n",
    "                   'Análisis Anual de Precipitación', ''),\n",
    "    specs=[[{\"secondary_y\": False}, {\"secondary_y\": False}],\n",
    "           [{\"secondary_y\": False}, {\"secondary_y\": False}],\n",
    "           [{\"colspan\": 2}, None]],\n",
    "    vertical_spacing=0.08,\n",
    "    horizontal_spacing=0.1\n",
    ")\n",
    "\n",
    "# 1. Temperaturas máximas y mínimas\n",
    "fig_temporal.add_trace(\n",
    "    go.Scatter(x=datos_mensuales['FECHA'], y=datos_mensuales['TMAX'],\n",
    "              mode='lines', name='Temp. Máxima',\n",
    "              line=dict(color=COLORS_ANDALUCIA['warning'], width=2),\n",
    "              hovertemplate='%{x}<br>Temp. Máx: %{y:.1f}°C<extra></extra>'),\n",
    "    row=1, col=1\n",
    ")\n",
    "\n",
    "fig_temporal.add_trace(\n",
    "    go.Scatter(x=datos_mensuales['FECHA'], y=datos_mensuales['TMIN'],\n",
    "              mode='lines', name='Temp. Mínima',\n",
    "              line=dict(color=COLORS_ANDALUCIA['info'], width=2),\n",
    "              hovertemplate='%{x}<br>Temp. Mín: %{y:.1f}°C<extra></extra>'),\n",
    "    row=1, col=1\n",
    ")\n",
    "\n",
    "# 2. Precipitación mensual\n",
    "fig_temporal.add_trace(\n",
    "    go.Bar(x=datos_mensuales['FECHA'], y=datos_mensuales['PRCP'],\n",
    "           name='Precipitación',\n",
    "           marker_color=COLORS_ANDALUCIA['primary'],\n",
    "           opacity=0.7,\n",
    "           hovertemplate='%{x}<br>Precipitación: %{y:.1f} mm<extra></extra>'),\n",
    "    row=1, col=2\n",
    ")\n",
    "\n",
    "# 3. Temperatura media con tendencia\n",
    "fig_temporal.add_trace(\n",
    "    go.Scatter(x=datos_mensuales['FECHA'], y=datos_mensuales['TEMP_MEDIA'],\n",
    "              mode='lines', name='Temp. Media',\n",
    "              line=dict(color=COLORS_ANDALUCIA['secondary'], width=2),\n",
    "              hovertemplate='%{x}<br>Temp. Media: %{y:.1f}°C<extra></extra>'),\n",
    "    row=2, col=1\n",
    ")\n",
    "\n",
    "# Añadir línea de tendencia\n",
    "if len(datos_mensuales) > 1:\n",
    "    z = np.polyfit(range(len(datos_mensuales)), datos_mensuales['TEMP_MEDIA'], 1)\n",
    "    p = np.poly1d(z)\n",
    "    fig_temporal.add_trace(\n",
    "        go.Scatter(x=datos_mensuales['FECHA'], y=p(range(len(datos_mensuales))),\n",
    "                  mode='lines', name='Tendencia',\n",
    "                  line=dict(color='red', width=3, dash='dash'),\n",
    "                  hovertemplate='Tendencia: %{y:.1f}°C<extra></extra>'),\n",
    "        row=2, col=1\n",
    "    )\n",
    "\n",
    "# 4. Grados día de crecimiento\n",
    "fig_temporal.add_trace(\n",
    "    go.Scatter(x=datos_mensuales['FECHA'], y=datos_mensuales['GDD_BASE10'],\n",
    "              mode='lines', name='GDD Base 10°C',\n",
    "              line=dict(color=COLORS_ANDALUCIA['success'], width=2),\n",
    "              fill='tozeroy',\n",
    "              hovertemplate='%{x}<br>GDD: %{y:.0f}<extra></extra>'),\n",
    "    row=2, col=2\n",
    ")\n",
    "\n",
    "# 5. Análisis anual de precipitación\n",
    "datos_anuales = datos_mensuales.groupby('AÑO').agg({\n",
    "    'PRCP': 'sum',\n",
    "    'TEMP_MEDIA': 'mean',\n",
    "    'TMAX': 'mean',\n",
    "    'TMIN': 'mean'\n",
    "}).reset_index()\n",
    "\n",
    "fig_temporal.add_trace(\n",
    "    go.Bar(x=datos_anuales['AÑO'], y=datos_anuales['PRCP'],\n",
    "           name='Precipitación Anual',\n",
    "           marker_color=COLORS_ANDALUCIA['accent'],\n",
    "           opacity=0.6,\n",
    "           hovertemplate='%{x}<br>Precipitación Anual: %{y:.0f} mm<extra></extra>'),\n",
    "    row=3, col=1\n",
    ")\n",
    "\n",
    "# Configurar layout\n",
    "fig_temporal.update_layout(\n",
    "    title={\n",
    "        'text': \"📈 Análisis Temporal del Clima en Andalucía (1980-2024)\",\n",
    "        'x': 0.5,\n",
    "        'font': {'size': 20, 'color': COLORS_ANDALUCIA['primary']}\n",
    "    },\n",
    "    height=800,\n",
    "    showlegend=True,\n",
    "    hovermode='x unified'\n",
    ")\n",
    "\n",
    "# Actualizar ejes\n",
    "fig_temporal.update_xaxes(title_text=\"Año\", row=3, col=1)\n",
    "fig_temporal.update_yaxes(title_text=\"Temperatura (°C)\", row=1, col=1)\n",
    "fig_temporal.update_yaxes(title_text=\"Precipitación (mm)\", row=1, col=2)\n",
    "fig_temporal.update_yaxes(title_text=\"Temperatura (°C)\", row=2, col=1)\n",
    "fig_temporal.update_yaxes(title_text=\"Grados Día\", row=2, col=2)\n",
    "fig_temporal.update_yaxes(title_text=\"Precipitación (mm)\", row=3, col=1)\n",
    "\n",
    "fig_temporal.show()\n",
    "\n",
    "print(\"✅ Análisis temporal completado\")"
   ]
  },
  {
   "cell_type": "markdown",
   "id": "831e56df",
   "metadata": {},
   "source": [
    "## 5. 🌾 Análisis Agroclimático Específico\n",
    "\n",
    "Analizamos el clima desde la perspectiva agrícola, incluyendo índices específicos para diferentes cultivos."
   ]
  },
  {
   "cell_type": "code",
   "execution_count": 11,
   "id": "1dd21504",
   "metadata": {},
   "outputs": [
    {
     "name": "stdout",
     "output_type": "stream",
     "text": [
      "🌱 Calculando índices agroclimáticos para cultivos andaluces...\n",
      "📊 Evaluando idoneidad por cultivo y provincia...\n",
      "\n",
      "🌿 Analizando Olivo...\n",
      "\n",
      "🌿 Analizando Trigo...\n",
      "\n",
      "🌿 Analizando Girasol...\n",
      "\n",
      "🌿 Analizando Citricos...\n",
      "\n",
      "🌿 Analizando Almendro...\n",
      "\n",
      "📈 Creando visualización de idoneidad por cultivos...\n"
     ]
    },
    {
     "data": {
      "application/vnd.plotly.v1+json": {
       "config": {
        "plotlyServerURL": "https://plot.ly"
       },
       "data": [
        {
         "hovertemplate": "Olivo<br>Provincia: %{x}<br>Idoneidad: %{y:.1f}%<extra></extra>",
         "marker": {
          "color": "#2E8B57"
         },
         "name": "Olivo",
         "opacity": 0.8,
         "type": "bar",
         "x": [
          "Almería",
          "Cádiz",
          "Córdoba",
          "Granada",
          "Huelva",
          "Jaén",
          "Málaga"
         ],
         "y": {
          "bdata": "PPSbrUN/U0Bg1vtlvV9SQBQUFBQUlFdApdxj1w/vVUDLZX38HrBWQC8ZjIcL6FVAS7FoWQU3VEA=",
          "dtype": "f8"
         }
        },
        {
         "hovertemplate": "Trigo<br>Provincia: %{x}<br>Idoneidad: %{y:.1f}%<extra></extra>",
         "marker": {
          "color": "#DAA520"
         },
         "name": "Trigo",
         "opacity": 0.8,
         "type": "bar",
         "x": [
          "Almería",
          "Cádiz",
          "Córdoba",
          "Granada",
          "Huelva",
          "Jaén",
          "Málaga"
         ],
         "y": {
          "bdata": "7NBvtg59VEBBUwg0hUBSQLW0tLS0dFdAJ2/yJm+YVEALYnIFMcVWQLc/yFDZcVZAMpEeqJxVVEA=",
          "dtype": "f8"
         }
        },
        {
         "hovertemplate": "Girasol<br>Provincia: %{x}<br>Idoneidad: %{y:.1f}%<extra></extra>",
         "marker": {
          "color": "#FF6347"
         },
         "name": "Girasol",
         "opacity": 0.8,
         "type": "bar",
         "x": [
          "Almería",
          "Cádiz",
          "Córdoba",
          "Granada",
          "Huelva",
          "Jaén",
          "Málaga"
         ],
         "y": {
          "bdata": "pHiBTIoXT0ARaAqBphBNQJeWlpaWVlNACk6LX6NbUUCQDl9scgBTQIepy+0PClJA6gixTStuUUA=",
          "dtype": "f8"
         }
        },
        {
         "hovertemplate": "Citricos<br>Provincia: %{x}<br>Idoneidad: %{y:.1f}%<extra></extra>",
         "marker": {
          "color": "#4169E1"
         },
         "name": "Citricos",
         "opacity": 0.8,
         "type": "bar",
         "x": [
          "Almería",
          "Cádiz",
          "Córdoba",
          "Granada",
          "Huelva",
          "Jaén",
          "Málaga"
         ],
         "y": {
          "bdata": "9+fNEE45U0DjFWvNKwBUQBgdeql+PlZAh6UPcjyQVkBS1bQygaxUQOb9b1yjDFRAlbhh4D6aU0A=",
          "dtype": "f8"
         }
        },
        {
         "hovertemplate": "Almendro<br>Provincia: %{x}<br>Idoneidad: %{y:.1f}%<extra></extra>",
         "marker": {
          "color": "#8B4513"
         },
         "name": "Almendro",
         "opacity": 0.8,
         "type": "bar",
         "x": [
          "Almería",
          "Cádiz",
          "Córdoba",
          "Granada",
          "Huelva",
          "Jaén",
          "Málaga"
         ],
         "y": {
          "bdata": "rkO/2Tq0VEBVVVVVVVVTQJKljhDbtFdAXD8iiMOMVEDAbo+1DBJXQOmii65SMldAZ38FZ38PVkA=",
          "dtype": "f8"
         }
        }
       ],
       "layout": {
        "barmode": "group",
        "height": 500,
        "showlegend": true,
        "template": {
         "data": {
          "bar": [
           {
            "error_x": {
             "color": "#2a3f5f"
            },
            "error_y": {
             "color": "#2a3f5f"
            },
            "marker": {
             "line": {
              "color": "#E5ECF6",
              "width": 0.5
             },
             "pattern": {
              "fillmode": "overlay",
              "size": 10,
              "solidity": 0.2
             }
            },
            "type": "bar"
           }
          ],
          "barpolar": [
           {
            "marker": {
             "line": {
              "color": "#E5ECF6",
              "width": 0.5
             },
             "pattern": {
              "fillmode": "overlay",
              "size": 10,
              "solidity": 0.2
             }
            },
            "type": "barpolar"
           }
          ],
          "carpet": [
           {
            "aaxis": {
             "endlinecolor": "#2a3f5f",
             "gridcolor": "white",
             "linecolor": "white",
             "minorgridcolor": "white",
             "startlinecolor": "#2a3f5f"
            },
            "baxis": {
             "endlinecolor": "#2a3f5f",
             "gridcolor": "white",
             "linecolor": "white",
             "minorgridcolor": "white",
             "startlinecolor": "#2a3f5f"
            },
            "type": "carpet"
           }
          ],
          "choropleth": [
           {
            "colorbar": {
             "outlinewidth": 0,
             "ticks": ""
            },
            "type": "choropleth"
           }
          ],
          "contour": [
           {
            "colorbar": {
             "outlinewidth": 0,
             "ticks": ""
            },
            "colorscale": [
             [
              0,
              "#0d0887"
             ],
             [
              0.1111111111111111,
              "#46039f"
             ],
             [
              0.2222222222222222,
              "#7201a8"
             ],
             [
              0.3333333333333333,
              "#9c179e"
             ],
             [
              0.4444444444444444,
              "#bd3786"
             ],
             [
              0.5555555555555556,
              "#d8576b"
             ],
             [
              0.6666666666666666,
              "#ed7953"
             ],
             [
              0.7777777777777778,
              "#fb9f3a"
             ],
             [
              0.8888888888888888,
              "#fdca26"
             ],
             [
              1,
              "#f0f921"
             ]
            ],
            "type": "contour"
           }
          ],
          "contourcarpet": [
           {
            "colorbar": {
             "outlinewidth": 0,
             "ticks": ""
            },
            "type": "contourcarpet"
           }
          ],
          "heatmap": [
           {
            "colorbar": {
             "outlinewidth": 0,
             "ticks": ""
            },
            "colorscale": [
             [
              0,
              "#0d0887"
             ],
             [
              0.1111111111111111,
              "#46039f"
             ],
             [
              0.2222222222222222,
              "#7201a8"
             ],
             [
              0.3333333333333333,
              "#9c179e"
             ],
             [
              0.4444444444444444,
              "#bd3786"
             ],
             [
              0.5555555555555556,
              "#d8576b"
             ],
             [
              0.6666666666666666,
              "#ed7953"
             ],
             [
              0.7777777777777778,
              "#fb9f3a"
             ],
             [
              0.8888888888888888,
              "#fdca26"
             ],
             [
              1,
              "#f0f921"
             ]
            ],
            "type": "heatmap"
           }
          ],
          "histogram": [
           {
            "marker": {
             "pattern": {
              "fillmode": "overlay",
              "size": 10,
              "solidity": 0.2
             }
            },
            "type": "histogram"
           }
          ],
          "histogram2d": [
           {
            "colorbar": {
             "outlinewidth": 0,
             "ticks": ""
            },
            "colorscale": [
             [
              0,
              "#0d0887"
             ],
             [
              0.1111111111111111,
              "#46039f"
             ],
             [
              0.2222222222222222,
              "#7201a8"
             ],
             [
              0.3333333333333333,
              "#9c179e"
             ],
             [
              0.4444444444444444,
              "#bd3786"
             ],
             [
              0.5555555555555556,
              "#d8576b"
             ],
             [
              0.6666666666666666,
              "#ed7953"
             ],
             [
              0.7777777777777778,
              "#fb9f3a"
             ],
             [
              0.8888888888888888,
              "#fdca26"
             ],
             [
              1,
              "#f0f921"
             ]
            ],
            "type": "histogram2d"
           }
          ],
          "histogram2dcontour": [
           {
            "colorbar": {
             "outlinewidth": 0,
             "ticks": ""
            },
            "colorscale": [
             [
              0,
              "#0d0887"
             ],
             [
              0.1111111111111111,
              "#46039f"
             ],
             [
              0.2222222222222222,
              "#7201a8"
             ],
             [
              0.3333333333333333,
              "#9c179e"
             ],
             [
              0.4444444444444444,
              "#bd3786"
             ],
             [
              0.5555555555555556,
              "#d8576b"
             ],
             [
              0.6666666666666666,
              "#ed7953"
             ],
             [
              0.7777777777777778,
              "#fb9f3a"
             ],
             [
              0.8888888888888888,
              "#fdca26"
             ],
             [
              1,
              "#f0f921"
             ]
            ],
            "type": "histogram2dcontour"
           }
          ],
          "mesh3d": [
           {
            "colorbar": {
             "outlinewidth": 0,
             "ticks": ""
            },
            "type": "mesh3d"
           }
          ],
          "parcoords": [
           {
            "line": {
             "colorbar": {
              "outlinewidth": 0,
              "ticks": ""
             }
            },
            "type": "parcoords"
           }
          ],
          "pie": [
           {
            "automargin": true,
            "type": "pie"
           }
          ],
          "scatter": [
           {
            "fillpattern": {
             "fillmode": "overlay",
             "size": 10,
             "solidity": 0.2
            },
            "type": "scatter"
           }
          ],
          "scatter3d": [
           {
            "line": {
             "colorbar": {
              "outlinewidth": 0,
              "ticks": ""
             }
            },
            "marker": {
             "colorbar": {
              "outlinewidth": 0,
              "ticks": ""
             }
            },
            "type": "scatter3d"
           }
          ],
          "scattercarpet": [
           {
            "marker": {
             "colorbar": {
              "outlinewidth": 0,
              "ticks": ""
             }
            },
            "type": "scattercarpet"
           }
          ],
          "scattergeo": [
           {
            "marker": {
             "colorbar": {
              "outlinewidth": 0,
              "ticks": ""
             }
            },
            "type": "scattergeo"
           }
          ],
          "scattergl": [
           {
            "marker": {
             "colorbar": {
              "outlinewidth": 0,
              "ticks": ""
             }
            },
            "type": "scattergl"
           }
          ],
          "scattermap": [
           {
            "marker": {
             "colorbar": {
              "outlinewidth": 0,
              "ticks": ""
             }
            },
            "type": "scattermap"
           }
          ],
          "scattermapbox": [
           {
            "marker": {
             "colorbar": {
              "outlinewidth": 0,
              "ticks": ""
             }
            },
            "type": "scattermapbox"
           }
          ],
          "scatterpolar": [
           {
            "marker": {
             "colorbar": {
              "outlinewidth": 0,
              "ticks": ""
             }
            },
            "type": "scatterpolar"
           }
          ],
          "scatterpolargl": [
           {
            "marker": {
             "colorbar": {
              "outlinewidth": 0,
              "ticks": ""
             }
            },
            "type": "scatterpolargl"
           }
          ],
          "scatterternary": [
           {
            "marker": {
             "colorbar": {
              "outlinewidth": 0,
              "ticks": ""
             }
            },
            "type": "scatterternary"
           }
          ],
          "surface": [
           {
            "colorbar": {
             "outlinewidth": 0,
             "ticks": ""
            },
            "colorscale": [
             [
              0,
              "#0d0887"
             ],
             [
              0.1111111111111111,
              "#46039f"
             ],
             [
              0.2222222222222222,
              "#7201a8"
             ],
             [
              0.3333333333333333,
              "#9c179e"
             ],
             [
              0.4444444444444444,
              "#bd3786"
             ],
             [
              0.5555555555555556,
              "#d8576b"
             ],
             [
              0.6666666666666666,
              "#ed7953"
             ],
             [
              0.7777777777777778,
              "#fb9f3a"
             ],
             [
              0.8888888888888888,
              "#fdca26"
             ],
             [
              1,
              "#f0f921"
             ]
            ],
            "type": "surface"
           }
          ],
          "table": [
           {
            "cells": {
             "fill": {
              "color": "#EBF0F8"
             },
             "line": {
              "color": "white"
             }
            },
            "header": {
             "fill": {
              "color": "#C8D4E3"
             },
             "line": {
              "color": "white"
             }
            },
            "type": "table"
           }
          ]
         },
         "layout": {
          "annotationdefaults": {
           "arrowcolor": "#2a3f5f",
           "arrowhead": 0,
           "arrowwidth": 1
          },
          "autotypenumbers": "strict",
          "coloraxis": {
           "colorbar": {
            "outlinewidth": 0,
            "ticks": ""
           }
          },
          "colorscale": {
           "diverging": [
            [
             0,
             "#8e0152"
            ],
            [
             0.1,
             "#c51b7d"
            ],
            [
             0.2,
             "#de77ae"
            ],
            [
             0.3,
             "#f1b6da"
            ],
            [
             0.4,
             "#fde0ef"
            ],
            [
             0.5,
             "#f7f7f7"
            ],
            [
             0.6,
             "#e6f5d0"
            ],
            [
             0.7,
             "#b8e186"
            ],
            [
             0.8,
             "#7fbc41"
            ],
            [
             0.9,
             "#4d9221"
            ],
            [
             1,
             "#276419"
            ]
           ],
           "sequential": [
            [
             0,
             "#0d0887"
            ],
            [
             0.1111111111111111,
             "#46039f"
            ],
            [
             0.2222222222222222,
             "#7201a8"
            ],
            [
             0.3333333333333333,
             "#9c179e"
            ],
            [
             0.4444444444444444,
             "#bd3786"
            ],
            [
             0.5555555555555556,
             "#d8576b"
            ],
            [
             0.6666666666666666,
             "#ed7953"
            ],
            [
             0.7777777777777778,
             "#fb9f3a"
            ],
            [
             0.8888888888888888,
             "#fdca26"
            ],
            [
             1,
             "#f0f921"
            ]
           ],
           "sequentialminus": [
            [
             0,
             "#0d0887"
            ],
            [
             0.1111111111111111,
             "#46039f"
            ],
            [
             0.2222222222222222,
             "#7201a8"
            ],
            [
             0.3333333333333333,
             "#9c179e"
            ],
            [
             0.4444444444444444,
             "#bd3786"
            ],
            [
             0.5555555555555556,
             "#d8576b"
            ],
            [
             0.6666666666666666,
             "#ed7953"
            ],
            [
             0.7777777777777778,
             "#fb9f3a"
            ],
            [
             0.8888888888888888,
             "#fdca26"
            ],
            [
             1,
             "#f0f921"
            ]
           ]
          },
          "colorway": [
           "#636efa",
           "#EF553B",
           "#00cc96",
           "#ab63fa",
           "#FFA15A",
           "#19d3f3",
           "#FF6692",
           "#B6E880",
           "#FF97FF",
           "#FECB52"
          ],
          "font": {
           "color": "#2a3f5f"
          },
          "geo": {
           "bgcolor": "white",
           "lakecolor": "white",
           "landcolor": "#E5ECF6",
           "showlakes": true,
           "showland": true,
           "subunitcolor": "white"
          },
          "hoverlabel": {
           "align": "left"
          },
          "hovermode": "closest",
          "mapbox": {
           "style": "light"
          },
          "paper_bgcolor": "white",
          "plot_bgcolor": "#E5ECF6",
          "polar": {
           "angularaxis": {
            "gridcolor": "white",
            "linecolor": "white",
            "ticks": ""
           },
           "bgcolor": "#E5ECF6",
           "radialaxis": {
            "gridcolor": "white",
            "linecolor": "white",
            "ticks": ""
           }
          },
          "scene": {
           "xaxis": {
            "backgroundcolor": "#E5ECF6",
            "gridcolor": "white",
            "gridwidth": 2,
            "linecolor": "white",
            "showbackground": true,
            "ticks": "",
            "zerolinecolor": "white"
           },
           "yaxis": {
            "backgroundcolor": "#E5ECF6",
            "gridcolor": "white",
            "gridwidth": 2,
            "linecolor": "white",
            "showbackground": true,
            "ticks": "",
            "zerolinecolor": "white"
           },
           "zaxis": {
            "backgroundcolor": "#E5ECF6",
            "gridcolor": "white",
            "gridwidth": 2,
            "linecolor": "white",
            "showbackground": true,
            "ticks": "",
            "zerolinecolor": "white"
           }
          },
          "shapedefaults": {
           "line": {
            "color": "#2a3f5f"
           }
          },
          "ternary": {
           "aaxis": {
            "gridcolor": "white",
            "linecolor": "white",
            "ticks": ""
           },
           "baxis": {
            "gridcolor": "white",
            "linecolor": "white",
            "ticks": ""
           },
           "bgcolor": "#E5ECF6",
           "caxis": {
            "gridcolor": "white",
            "linecolor": "white",
            "ticks": ""
           }
          },
          "title": {
           "x": 0.05
          },
          "xaxis": {
           "automargin": true,
           "gridcolor": "white",
           "linecolor": "white",
           "ticks": "",
           "title": {
            "standoff": 15
           },
           "zerolinecolor": "white",
           "zerolinewidth": 2
          },
          "yaxis": {
           "automargin": true,
           "gridcolor": "white",
           "linecolor": "white",
           "ticks": "",
           "title": {
            "standoff": 15
           },
           "zerolinecolor": "white",
           "zerolinewidth": 2
          }
         }
        },
        "title": {
         "font": {
          "color": "#228B22",
          "size": 18
         },
         "text": "🌾 Idoneidad Climática por Cultivo y Provincia",
         "x": 0.5
        },
        "xaxis": {
         "title": {
          "text": "Provincia"
         }
        },
        "yaxis": {
         "range": [
          0,
          100
         ],
         "title": {
          "text": "Índice de Idoneidad (%)"
         }
        }
       }
      },
      "text/html": [
       "<div>            <script src=\"https://cdnjs.cloudflare.com/ajax/libs/mathjax/2.7.5/MathJax.js?config=TeX-AMS-MML_SVG\"></script><script type=\"text/javascript\">if (window.MathJax && window.MathJax.Hub && window.MathJax.Hub.Config) {window.MathJax.Hub.Config({SVG: {font: \"STIX-Web\"}});}</script>                <script type=\"text/javascript\">window.PlotlyConfig = {MathJaxConfig: 'local'};</script>\n",
       "        <script charset=\"utf-8\" src=\"https://cdn.plot.ly/plotly-3.0.1.min.js\"></script>                <div id=\"1002437d-1307-4ceb-bad0-5cb007292220\" class=\"plotly-graph-div\" style=\"height:500px; width:100%;\"></div>            <script type=\"text/javascript\">                window.PLOTLYENV=window.PLOTLYENV || {};                                if (document.getElementById(\"1002437d-1307-4ceb-bad0-5cb007292220\")) {                    Plotly.newPlot(                        \"1002437d-1307-4ceb-bad0-5cb007292220\",                        [{\"hovertemplate\":\"Olivo\\u003cbr\\u003eProvincia: %{x}\\u003cbr\\u003eIdoneidad: %{y:.1f}%\\u003cextra\\u003e\\u003c\\u002fextra\\u003e\",\"marker\":{\"color\":\"#2E8B57\"},\"name\":\"Olivo\",\"opacity\":0.8,\"x\":[\"Almer\\u00eda\",\"C\\u00e1diz\",\"C\\u00f3rdoba\",\"Granada\",\"Huelva\",\"Ja\\u00e9n\",\"M\\u00e1laga\"],\"y\":{\"dtype\":\"f8\",\"bdata\":\"PPSbrUN\\u002fU0Bg1vtlvV9SQBQUFBQUlFdApdxj1w\\u002fvVUDLZX38HrBWQC8ZjIcL6FVAS7FoWQU3VEA=\"},\"type\":\"bar\"},{\"hovertemplate\":\"Trigo\\u003cbr\\u003eProvincia: %{x}\\u003cbr\\u003eIdoneidad: %{y:.1f}%\\u003cextra\\u003e\\u003c\\u002fextra\\u003e\",\"marker\":{\"color\":\"#DAA520\"},\"name\":\"Trigo\",\"opacity\":0.8,\"x\":[\"Almer\\u00eda\",\"C\\u00e1diz\",\"C\\u00f3rdoba\",\"Granada\",\"Huelva\",\"Ja\\u00e9n\",\"M\\u00e1laga\"],\"y\":{\"dtype\":\"f8\",\"bdata\":\"7NBvtg59VEBBUwg0hUBSQLW0tLS0dFdAJ2\\u002fyJm+YVEALYnIFMcVWQLc\\u002fyFDZcVZAMpEeqJxVVEA=\"},\"type\":\"bar\"},{\"hovertemplate\":\"Girasol\\u003cbr\\u003eProvincia: %{x}\\u003cbr\\u003eIdoneidad: %{y:.1f}%\\u003cextra\\u003e\\u003c\\u002fextra\\u003e\",\"marker\":{\"color\":\"#FF6347\"},\"name\":\"Girasol\",\"opacity\":0.8,\"x\":[\"Almer\\u00eda\",\"C\\u00e1diz\",\"C\\u00f3rdoba\",\"Granada\",\"Huelva\",\"Ja\\u00e9n\",\"M\\u00e1laga\"],\"y\":{\"dtype\":\"f8\",\"bdata\":\"pHiBTIoXT0ARaAqBphBNQJeWlpaWVlNACk6LX6NbUUCQDl9scgBTQIepy+0PClJA6gixTStuUUA=\"},\"type\":\"bar\"},{\"hovertemplate\":\"Citricos\\u003cbr\\u003eProvincia: %{x}\\u003cbr\\u003eIdoneidad: %{y:.1f}%\\u003cextra\\u003e\\u003c\\u002fextra\\u003e\",\"marker\":{\"color\":\"#4169E1\"},\"name\":\"Citricos\",\"opacity\":0.8,\"x\":[\"Almer\\u00eda\",\"C\\u00e1diz\",\"C\\u00f3rdoba\",\"Granada\",\"Huelva\",\"Ja\\u00e9n\",\"M\\u00e1laga\"],\"y\":{\"dtype\":\"f8\",\"bdata\":\"9+fNEE45U0DjFWvNKwBUQBgdeql+PlZAh6UPcjyQVkBS1bQygaxUQOb9b1yjDFRAlbhh4D6aU0A=\"},\"type\":\"bar\"},{\"hovertemplate\":\"Almendro\\u003cbr\\u003eProvincia: %{x}\\u003cbr\\u003eIdoneidad: %{y:.1f}%\\u003cextra\\u003e\\u003c\\u002fextra\\u003e\",\"marker\":{\"color\":\"#8B4513\"},\"name\":\"Almendro\",\"opacity\":0.8,\"x\":[\"Almer\\u00eda\",\"C\\u00e1diz\",\"C\\u00f3rdoba\",\"Granada\",\"Huelva\",\"Ja\\u00e9n\",\"M\\u00e1laga\"],\"y\":{\"dtype\":\"f8\",\"bdata\":\"rkO\\u002f2Tq0VEBVVVVVVVVTQJKljhDbtFdAXD8iiMOMVEDAbo+1DBJXQOmii65SMldAZ38FZ38PVkA=\"},\"type\":\"bar\"}],                        {\"template\":{\"data\":{\"histogram2dcontour\":[{\"type\":\"histogram2dcontour\",\"colorbar\":{\"outlinewidth\":0,\"ticks\":\"\"},\"colorscale\":[[0.0,\"#0d0887\"],[0.1111111111111111,\"#46039f\"],[0.2222222222222222,\"#7201a8\"],[0.3333333333333333,\"#9c179e\"],[0.4444444444444444,\"#bd3786\"],[0.5555555555555556,\"#d8576b\"],[0.6666666666666666,\"#ed7953\"],[0.7777777777777778,\"#fb9f3a\"],[0.8888888888888888,\"#fdca26\"],[1.0,\"#f0f921\"]]}],\"choropleth\":[{\"type\":\"choropleth\",\"colorbar\":{\"outlinewidth\":0,\"ticks\":\"\"}}],\"histogram2d\":[{\"type\":\"histogram2d\",\"colorbar\":{\"outlinewidth\":0,\"ticks\":\"\"},\"colorscale\":[[0.0,\"#0d0887\"],[0.1111111111111111,\"#46039f\"],[0.2222222222222222,\"#7201a8\"],[0.3333333333333333,\"#9c179e\"],[0.4444444444444444,\"#bd3786\"],[0.5555555555555556,\"#d8576b\"],[0.6666666666666666,\"#ed7953\"],[0.7777777777777778,\"#fb9f3a\"],[0.8888888888888888,\"#fdca26\"],[1.0,\"#f0f921\"]]}],\"heatmap\":[{\"type\":\"heatmap\",\"colorbar\":{\"outlinewidth\":0,\"ticks\":\"\"},\"colorscale\":[[0.0,\"#0d0887\"],[0.1111111111111111,\"#46039f\"],[0.2222222222222222,\"#7201a8\"],[0.3333333333333333,\"#9c179e\"],[0.4444444444444444,\"#bd3786\"],[0.5555555555555556,\"#d8576b\"],[0.6666666666666666,\"#ed7953\"],[0.7777777777777778,\"#fb9f3a\"],[0.8888888888888888,\"#fdca26\"],[1.0,\"#f0f921\"]]}],\"contourcarpet\":[{\"type\":\"contourcarpet\",\"colorbar\":{\"outlinewidth\":0,\"ticks\":\"\"}}],\"contour\":[{\"type\":\"contour\",\"colorbar\":{\"outlinewidth\":0,\"ticks\":\"\"},\"colorscale\":[[0.0,\"#0d0887\"],[0.1111111111111111,\"#46039f\"],[0.2222222222222222,\"#7201a8\"],[0.3333333333333333,\"#9c179e\"],[0.4444444444444444,\"#bd3786\"],[0.5555555555555556,\"#d8576b\"],[0.6666666666666666,\"#ed7953\"],[0.7777777777777778,\"#fb9f3a\"],[0.8888888888888888,\"#fdca26\"],[1.0,\"#f0f921\"]]}],\"surface\":[{\"type\":\"surface\",\"colorbar\":{\"outlinewidth\":0,\"ticks\":\"\"},\"colorscale\":[[0.0,\"#0d0887\"],[0.1111111111111111,\"#46039f\"],[0.2222222222222222,\"#7201a8\"],[0.3333333333333333,\"#9c179e\"],[0.4444444444444444,\"#bd3786\"],[0.5555555555555556,\"#d8576b\"],[0.6666666666666666,\"#ed7953\"],[0.7777777777777778,\"#fb9f3a\"],[0.8888888888888888,\"#fdca26\"],[1.0,\"#f0f921\"]]}],\"mesh3d\":[{\"type\":\"mesh3d\",\"colorbar\":{\"outlinewidth\":0,\"ticks\":\"\"}}],\"scatter\":[{\"fillpattern\":{\"fillmode\":\"overlay\",\"size\":10,\"solidity\":0.2},\"type\":\"scatter\"}],\"parcoords\":[{\"type\":\"parcoords\",\"line\":{\"colorbar\":{\"outlinewidth\":0,\"ticks\":\"\"}}}],\"scatterpolargl\":[{\"type\":\"scatterpolargl\",\"marker\":{\"colorbar\":{\"outlinewidth\":0,\"ticks\":\"\"}}}],\"bar\":[{\"error_x\":{\"color\":\"#2a3f5f\"},\"error_y\":{\"color\":\"#2a3f5f\"},\"marker\":{\"line\":{\"color\":\"#E5ECF6\",\"width\":0.5},\"pattern\":{\"fillmode\":\"overlay\",\"size\":10,\"solidity\":0.2}},\"type\":\"bar\"}],\"scattergeo\":[{\"type\":\"scattergeo\",\"marker\":{\"colorbar\":{\"outlinewidth\":0,\"ticks\":\"\"}}}],\"scatterpolar\":[{\"type\":\"scatterpolar\",\"marker\":{\"colorbar\":{\"outlinewidth\":0,\"ticks\":\"\"}}}],\"histogram\":[{\"marker\":{\"pattern\":{\"fillmode\":\"overlay\",\"size\":10,\"solidity\":0.2}},\"type\":\"histogram\"}],\"scattergl\":[{\"type\":\"scattergl\",\"marker\":{\"colorbar\":{\"outlinewidth\":0,\"ticks\":\"\"}}}],\"scatter3d\":[{\"type\":\"scatter3d\",\"line\":{\"colorbar\":{\"outlinewidth\":0,\"ticks\":\"\"}},\"marker\":{\"colorbar\":{\"outlinewidth\":0,\"ticks\":\"\"}}}],\"scattermap\":[{\"type\":\"scattermap\",\"marker\":{\"colorbar\":{\"outlinewidth\":0,\"ticks\":\"\"}}}],\"scattermapbox\":[{\"type\":\"scattermapbox\",\"marker\":{\"colorbar\":{\"outlinewidth\":0,\"ticks\":\"\"}}}],\"scatterternary\":[{\"type\":\"scatterternary\",\"marker\":{\"colorbar\":{\"outlinewidth\":0,\"ticks\":\"\"}}}],\"scattercarpet\":[{\"type\":\"scattercarpet\",\"marker\":{\"colorbar\":{\"outlinewidth\":0,\"ticks\":\"\"}}}],\"carpet\":[{\"aaxis\":{\"endlinecolor\":\"#2a3f5f\",\"gridcolor\":\"white\",\"linecolor\":\"white\",\"minorgridcolor\":\"white\",\"startlinecolor\":\"#2a3f5f\"},\"baxis\":{\"endlinecolor\":\"#2a3f5f\",\"gridcolor\":\"white\",\"linecolor\":\"white\",\"minorgridcolor\":\"white\",\"startlinecolor\":\"#2a3f5f\"},\"type\":\"carpet\"}],\"table\":[{\"cells\":{\"fill\":{\"color\":\"#EBF0F8\"},\"line\":{\"color\":\"white\"}},\"header\":{\"fill\":{\"color\":\"#C8D4E3\"},\"line\":{\"color\":\"white\"}},\"type\":\"table\"}],\"barpolar\":[{\"marker\":{\"line\":{\"color\":\"#E5ECF6\",\"width\":0.5},\"pattern\":{\"fillmode\":\"overlay\",\"size\":10,\"solidity\":0.2}},\"type\":\"barpolar\"}],\"pie\":[{\"automargin\":true,\"type\":\"pie\"}]},\"layout\":{\"autotypenumbers\":\"strict\",\"colorway\":[\"#636efa\",\"#EF553B\",\"#00cc96\",\"#ab63fa\",\"#FFA15A\",\"#19d3f3\",\"#FF6692\",\"#B6E880\",\"#FF97FF\",\"#FECB52\"],\"font\":{\"color\":\"#2a3f5f\"},\"hovermode\":\"closest\",\"hoverlabel\":{\"align\":\"left\"},\"paper_bgcolor\":\"white\",\"plot_bgcolor\":\"#E5ECF6\",\"polar\":{\"bgcolor\":\"#E5ECF6\",\"angularaxis\":{\"gridcolor\":\"white\",\"linecolor\":\"white\",\"ticks\":\"\"},\"radialaxis\":{\"gridcolor\":\"white\",\"linecolor\":\"white\",\"ticks\":\"\"}},\"ternary\":{\"bgcolor\":\"#E5ECF6\",\"aaxis\":{\"gridcolor\":\"white\",\"linecolor\":\"white\",\"ticks\":\"\"},\"baxis\":{\"gridcolor\":\"white\",\"linecolor\":\"white\",\"ticks\":\"\"},\"caxis\":{\"gridcolor\":\"white\",\"linecolor\":\"white\",\"ticks\":\"\"}},\"coloraxis\":{\"colorbar\":{\"outlinewidth\":0,\"ticks\":\"\"}},\"colorscale\":{\"sequential\":[[0.0,\"#0d0887\"],[0.1111111111111111,\"#46039f\"],[0.2222222222222222,\"#7201a8\"],[0.3333333333333333,\"#9c179e\"],[0.4444444444444444,\"#bd3786\"],[0.5555555555555556,\"#d8576b\"],[0.6666666666666666,\"#ed7953\"],[0.7777777777777778,\"#fb9f3a\"],[0.8888888888888888,\"#fdca26\"],[1.0,\"#f0f921\"]],\"sequentialminus\":[[0.0,\"#0d0887\"],[0.1111111111111111,\"#46039f\"],[0.2222222222222222,\"#7201a8\"],[0.3333333333333333,\"#9c179e\"],[0.4444444444444444,\"#bd3786\"],[0.5555555555555556,\"#d8576b\"],[0.6666666666666666,\"#ed7953\"],[0.7777777777777778,\"#fb9f3a\"],[0.8888888888888888,\"#fdca26\"],[1.0,\"#f0f921\"]],\"diverging\":[[0,\"#8e0152\"],[0.1,\"#c51b7d\"],[0.2,\"#de77ae\"],[0.3,\"#f1b6da\"],[0.4,\"#fde0ef\"],[0.5,\"#f7f7f7\"],[0.6,\"#e6f5d0\"],[0.7,\"#b8e186\"],[0.8,\"#7fbc41\"],[0.9,\"#4d9221\"],[1,\"#276419\"]]},\"xaxis\":{\"gridcolor\":\"white\",\"linecolor\":\"white\",\"ticks\":\"\",\"title\":{\"standoff\":15},\"zerolinecolor\":\"white\",\"automargin\":true,\"zerolinewidth\":2},\"yaxis\":{\"gridcolor\":\"white\",\"linecolor\":\"white\",\"ticks\":\"\",\"title\":{\"standoff\":15},\"zerolinecolor\":\"white\",\"automargin\":true,\"zerolinewidth\":2},\"scene\":{\"xaxis\":{\"backgroundcolor\":\"#E5ECF6\",\"gridcolor\":\"white\",\"linecolor\":\"white\",\"showbackground\":true,\"ticks\":\"\",\"zerolinecolor\":\"white\",\"gridwidth\":2},\"yaxis\":{\"backgroundcolor\":\"#E5ECF6\",\"gridcolor\":\"white\",\"linecolor\":\"white\",\"showbackground\":true,\"ticks\":\"\",\"zerolinecolor\":\"white\",\"gridwidth\":2},\"zaxis\":{\"backgroundcolor\":\"#E5ECF6\",\"gridcolor\":\"white\",\"linecolor\":\"white\",\"showbackground\":true,\"ticks\":\"\",\"zerolinecolor\":\"white\",\"gridwidth\":2}},\"shapedefaults\":{\"line\":{\"color\":\"#2a3f5f\"}},\"annotationdefaults\":{\"arrowcolor\":\"#2a3f5f\",\"arrowhead\":0,\"arrowwidth\":1},\"geo\":{\"bgcolor\":\"white\",\"landcolor\":\"#E5ECF6\",\"subunitcolor\":\"white\",\"showland\":true,\"showlakes\":true,\"lakecolor\":\"white\"},\"title\":{\"x\":0.05},\"mapbox\":{\"style\":\"light\"}}},\"title\":{\"font\":{\"size\":18,\"color\":\"#228B22\"},\"text\":\"\\ud83c\\udf3e Idoneidad Clim\\u00e1tica por Cultivo y Provincia\",\"x\":0.5},\"yaxis\":{\"title\":{\"text\":\"\\u00cdndice de Idoneidad (%)\"},\"range\":[0,100]},\"xaxis\":{\"title\":{\"text\":\"Provincia\"}},\"barmode\":\"group\",\"height\":500,\"showlegend\":true},                        {\"responsive\": true}                    ).then(function(){\n",
       "                            \n",
       "var gd = document.getElementById('1002437d-1307-4ceb-bad0-5cb007292220');\n",
       "var x = new MutationObserver(function (mutations, observer) {{\n",
       "        var display = window.getComputedStyle(gd).display;\n",
       "        if (!display || display === 'none') {{\n",
       "            console.log([gd, 'removed!']);\n",
       "            Plotly.purge(gd);\n",
       "            observer.disconnect();\n",
       "        }}\n",
       "}});\n",
       "\n",
       "// Listen for the removal of the full notebook cells\n",
       "var notebookContainer = gd.closest('#notebook-container');\n",
       "if (notebookContainer) {{\n",
       "    x.observe(notebookContainer, {childList: true});\n",
       "}}\n",
       "\n",
       "// Listen for the clearing of the current output cell\n",
       "var outputEl = gd.closest('.output');\n",
       "if (outputEl) {{\n",
       "    x.observe(outputEl, {childList: true});\n",
       "}}\n",
       "\n",
       "                        })                };            </script>        </div>"
      ]
     },
     "metadata": {},
     "output_type": "display_data"
    },
    {
     "name": "stdout",
     "output_type": "stream",
     "text": [
      "\n",
      "📋 Resumen de Idoneidad Climática:\n"
     ]
    },
    {
     "data": {
      "text/html": [
       "<div>\n",
       "<style scoped>\n",
       "    .dataframe tbody tr th:only-of-type {\n",
       "        vertical-align: middle;\n",
       "    }\n",
       "\n",
       "    .dataframe tbody tr th {\n",
       "        vertical-align: top;\n",
       "    }\n",
       "\n",
       "    .dataframe thead th {\n",
       "        text-align: right;\n",
       "    }\n",
       "</style>\n",
       "<table border=\"1\" class=\"dataframe\">\n",
       "  <thead>\n",
       "    <tr style=\"text-align: right;\">\n",
       "      <th></th>\n",
       "      <th>Olivo</th>\n",
       "      <th>Trigo</th>\n",
       "      <th>Girasol</th>\n",
       "      <th>Citricos</th>\n",
       "      <th>Almendro</th>\n",
       "    </tr>\n",
       "    <tr>\n",
       "      <th>PROVINCIA</th>\n",
       "      <th></th>\n",
       "      <th></th>\n",
       "      <th></th>\n",
       "      <th></th>\n",
       "      <th></th>\n",
       "    </tr>\n",
       "  </thead>\n",
       "  <tbody>\n",
       "    <tr>\n",
       "      <th>Almería</th>\n",
       "      <td>78.0</td>\n",
       "      <td>82.0</td>\n",
       "      <td>62.2</td>\n",
       "      <td>76.9</td>\n",
       "      <td>82.8</td>\n",
       "    </tr>\n",
       "    <tr>\n",
       "      <th>Cádiz</th>\n",
       "      <td>73.5</td>\n",
       "      <td>73.0</td>\n",
       "      <td>58.1</td>\n",
       "      <td>80.0</td>\n",
       "      <td>77.3</td>\n",
       "    </tr>\n",
       "    <tr>\n",
       "      <th>Córdoba</th>\n",
       "      <td>94.3</td>\n",
       "      <td>93.8</td>\n",
       "      <td>77.4</td>\n",
       "      <td>89.0</td>\n",
       "      <td>94.8</td>\n",
       "    </tr>\n",
       "    <tr>\n",
       "      <th>Granada</th>\n",
       "      <td>87.7</td>\n",
       "      <td>82.4</td>\n",
       "      <td>69.4</td>\n",
       "      <td>90.3</td>\n",
       "      <td>82.2</td>\n",
       "    </tr>\n",
       "    <tr>\n",
       "      <th>Huelva</th>\n",
       "      <td>90.8</td>\n",
       "      <td>91.1</td>\n",
       "      <td>76.0</td>\n",
       "      <td>82.7</td>\n",
       "      <td>92.3</td>\n",
       "    </tr>\n",
       "    <tr>\n",
       "      <th>Jaén</th>\n",
       "      <td>87.6</td>\n",
       "      <td>89.8</td>\n",
       "      <td>72.2</td>\n",
       "      <td>80.2</td>\n",
       "      <td>92.8</td>\n",
       "    </tr>\n",
       "    <tr>\n",
       "      <th>Málaga</th>\n",
       "      <td>80.9</td>\n",
       "      <td>81.3</td>\n",
       "      <td>69.7</td>\n",
       "      <td>78.4</td>\n",
       "      <td>88.2</td>\n",
       "    </tr>\n",
       "  </tbody>\n",
       "</table>\n",
       "</div>"
      ],
      "text/plain": [
       "           Olivo  Trigo  Girasol  Citricos  Almendro\n",
       "PROVINCIA                                           \n",
       "Almería     78.0   82.0     62.2      76.9      82.8\n",
       "Cádiz       73.5   73.0     58.1      80.0      77.3\n",
       "Córdoba     94.3   93.8     77.4      89.0      94.8\n",
       "Granada     87.7   82.4     69.4      90.3      82.2\n",
       "Huelva      90.8   91.1     76.0      82.7      92.3\n",
       "Jaén        87.6   89.8     72.2      80.2      92.8\n",
       "Málaga      80.9   81.3     69.7      78.4      88.2"
      ]
     },
     "metadata": {},
     "output_type": "display_data"
    }
   ],
   "source": [
    "### 5.1 Índices Agroclimáticos y Cultivos Típicos\n",
    "\n",
    "print(\"🌱 Calculando índices agroclimáticos para cultivos andaluces...\")\n",
    "\n",
    "# Definir cultivos típicos de Andalucía y sus requerimientos\n",
    "cultivos_andalucia = {\n",
    "    'Olivo': {\n",
    "        'temp_optima_min': 15, 'temp_optima_max': 25,\n",
    "        'temp_critica_min': -7, 'temp_critica_max': 40,\n",
    "        'precipitacion_anual': [400, 800],\n",
    "        'gdd_base': 10, 'gdd_requerido': 1500,\n",
    "        'estacion_crecimiento': ['Primavera', 'Verano', 'Otoño']\n",
    "    },\n",
    "    'Trigo': {\n",
    "        'temp_optima_min': 10, 'temp_optima_max': 20,\n",
    "        'temp_critica_min': -5, 'temp_critica_max': 35,\n",
    "        'precipitacion_anual': [300, 600],\n",
    "        'gdd_base': 5, 'gdd_requerido': 1200,\n",
    "        'estacion_crecimiento': ['Invierno', 'Primavera']\n",
    "    },\n",
    "    'Girasol': {\n",
    "        'temp_optima_min': 20, 'temp_optima_max': 30,\n",
    "        'temp_critica_min': 5, 'temp_critica_max': 40,\n",
    "        'precipitacion_anual': [400, 700],\n",
    "        'gdd_base': 10, 'gdd_requerido': 1800,\n",
    "        'estacion_crecimiento': ['Primavera', 'Verano']\n",
    "    },\n",
    "    'Citricos': {\n",
    "        'temp_optima_min': 15, 'temp_optima_max': 30,\n",
    "        'temp_critica_min': -2, 'temp_critica_max': 40,\n",
    "        'precipitacion_anual': [600, 1200],\n",
    "        'gdd_base': 12, 'gdd_requerido': 2000,\n",
    "        'estacion_crecimiento': ['Primavera', 'Verano', 'Otoño']\n",
    "    },\n",
    "    'Almendro': {\n",
    "        'temp_optima_min': 15, 'temp_optima_max': 25,\n",
    "        'temp_critica_min': -8, 'temp_critica_max': 40,\n",
    "        'precipitacion_anual': [300, 600],\n",
    "        'gdd_base': 8, 'gdd_requerido': 1600,\n",
    "        'estacion_crecimiento': ['Primavera', 'Verano']\n",
    "    }\n",
    "}\n",
    "\n",
    "# Calcular índices adicionales\n",
    "andalucia_df['HELADAS'] = (andalucia_df['TMIN'] <= 0).astype(int)\n",
    "andalucia_df['DIAS_CALOR'] = (andalucia_df['TMAX'] >= 30).astype(int)\n",
    "andalucia_df['DIAS_EXTREMO_CALOR'] = (andalucia_df['TMAX'] >= 35).astype(int)\n",
    "andalucia_df['DIAS_LLUVIA'] = (andalucia_df['PRCP'] > 1.0).astype(int)\n",
    "\n",
    "# Análisis por cultivo y provincia\n",
    "print(\"📊 Evaluando idoneidad por cultivo y provincia...\")\n",
    "\n",
    "resultados_cultivos = {}\n",
    "datos_anuales_prov = andalucia_df.groupby(['AÑO', 'PROVINCIA']).agg({\n",
    "    'TEMP_MEDIA': 'mean',\n",
    "    'TMAX': 'mean',\n",
    "    'TMIN': 'mean',\n",
    "    'PRCP': 'sum',\n",
    "    'GDD_BASE10': 'sum',\n",
    "    'GDD_BASE5': 'sum',\n",
    "    'HELADAS': 'sum',\n",
    "    'DIAS_CALOR': 'sum',\n",
    "    'DIAS_EXTREMO_CALOR': 'sum',\n",
    "    'DIAS_LLUVIA': 'sum'\n",
    "}).reset_index()\n",
    "\n",
    "for cultivo, reqs in cultivos_andalucia.items():\n",
    "    print(f\"\\n🌿 Analizando {cultivo}...\")\n",
    "    \n",
    "    # Calcular GDD específico para el cultivo\n",
    "    gdd_col = f'GDD_{cultivo}'\n",
    "    if reqs['gdd_base'] == 10:\n",
    "        datos_anuales_prov[gdd_col] = datos_anuales_prov['GDD_BASE10']\n",
    "    elif reqs['gdd_base'] == 5:\n",
    "        datos_anuales_prov[gdd_col] = datos_anuales_prov['GDD_BASE5']\n",
    "    else:\n",
    "        # Calcular GDD personalizado (simplificado)\n",
    "        datos_anuales_prov[gdd_col] = np.maximum(0, datos_anuales_prov['TEMP_MEDIA'] - reqs['gdd_base']) * 365\n",
    "    \n",
    "    # Evaluar idoneidad\n",
    "    idoneidad = datos_anuales_prov.copy()\n",
    "    \n",
    "    # Puntuación de temperatura (0-100)\n",
    "    temp_score = np.where(\n",
    "        (idoneidad['TEMP_MEDIA'] >= reqs['temp_optima_min']) & \n",
    "        (idoneidad['TEMP_MEDIA'] <= reqs['temp_optima_max']), 100,\n",
    "        np.where(\n",
    "            (idoneidad['TEMP_MEDIA'] >= reqs['temp_critica_min']) & \n",
    "            (idoneidad['TEMP_MEDIA'] <= reqs['temp_critica_max']), 50, 0\n",
    "        )\n",
    "    )\n",
    "    \n",
    "    # Puntuación de precipitación (0-100)\n",
    "    prcp_score = np.where(\n",
    "        (idoneidad['PRCP'] >= reqs['precipitacion_anual'][0]) & \n",
    "        (idoneidad['PRCP'] <= reqs['precipitacion_anual'][1]), 100,\n",
    "        np.where(\n",
    "            (idoneidad['PRCP'] >= reqs['precipitacion_anual'][0] * 0.7) & \n",
    "            (idoneidad['PRCP'] <= reqs['precipitacion_anual'][1] * 1.3), 70, 30\n",
    "        )\n",
    "    )\n",
    "    \n",
    "    # Puntuación de GDD (0-100)\n",
    "    gdd_score = np.where(\n",
    "        idoneidad[gdd_col] >= reqs['gdd_requerido'], 100,\n",
    "        (idoneidad[gdd_col] / reqs['gdd_requerido']) * 100\n",
    "    )\n",
    "    \n",
    "    # Puntuación total\n",
    "    idoneidad[f'Score_{cultivo}'] = (temp_score + prcp_score + gdd_score) / 3\n",
    "    \n",
    "    resultados_cultivos[cultivo] = idoneidad.groupby('PROVINCIA')[f'Score_{cultivo}'].mean()\n",
    "\n",
    "# Crear visualización de idoneidad por cultivos\n",
    "print(\"\\n📈 Creando visualización de idoneidad por cultivos...\")\n",
    "\n",
    "fig_cultivos = go.Figure()\n",
    "\n",
    "provincias = list(resultados_cultivos['Olivo'].index)\n",
    "x_pos = np.arange(len(provincias))\n",
    "\n",
    "colors_cultivos = ['#2E8B57', '#DAA520', '#FF6347', '#4169E1', '#8B4513']\n",
    "\n",
    "for i, (cultivo, scores) in enumerate(resultados_cultivos.items()):\n",
    "    fig_cultivos.add_trace(go.Bar(\n",
    "        x=provincias,\n",
    "        y=scores.values,\n",
    "        name=cultivo,\n",
    "        marker_color=colors_cultivos[i % len(colors_cultivos)],\n",
    "        opacity=0.8,\n",
    "        hovertemplate=f'{cultivo}<br>Provincia: %{{x}}<br>Idoneidad: %{{y:.1f}}%<extra></extra>'\n",
    "    ))\n",
    "\n",
    "fig_cultivos.update_layout(\n",
    "    title={\n",
    "        'text': \"🌾 Idoneidad Climática por Cultivo y Provincia\",\n",
    "        'x': 0.5,\n",
    "        'font': {'size': 18, 'color': COLORS_ANDALUCIA['primary']}\n",
    "    },\n",
    "    xaxis_title=\"Provincia\",\n",
    "    yaxis_title=\"Índice de Idoneidad (%)\",\n",
    "    barmode='group',\n",
    "    height=500,\n",
    "    showlegend=True,\n",
    "    yaxis=dict(range=[0, 100])\n",
    ")\n",
    "\n",
    "fig_cultivos.show()\n",
    "\n",
    "# Resumen estadístico\n",
    "print(\"\\n📋 Resumen de Idoneidad Climática:\")\n",
    "resumen_df = pd.DataFrame(resultados_cultivos).round(1)\n",
    "display(resumen_df)"
   ]
  },
  {
   "cell_type": "code",
   "execution_count": 12,
   "id": "c1d396ab",
   "metadata": {},
   "outputs": [
    {
     "name": "stdout",
     "output_type": "stream",
     "text": [
      "⚠️ Analizando eventos extremos y riesgos para la agricultura...\n"
     ]
    },
    {
     "data": {
      "application/vnd.plotly.v1+json": {
       "config": {
        "plotlyServerURL": "https://plot.ly"
       },
       "data": [
        {
         "hovertemplate": "Almería<br>%{x}<br>Días: %{y}<extra></extra>",
         "line": {
          "width": 2
         },
         "marker": {
          "size": 4
         },
         "mode": "lines+markers",
         "name": "Almería - Calor",
         "type": "scatter",
         "x": {
          "bdata": "xgcAAMcHAADIBwAAyQcAAMoHAADLBwAAzAcAAM0HAADOBwAAzwcAANAHAADRBwAA0gcAANMHAADUBwAA1QcAANYHAADXBwAA2AcAANkHAADaBwAA2wcAANwHAADdBwAA3gcAAN8HAADgBwAA4QcAAOIHAADjBwAA5AcAAOUHAADmBwAA5wcAAOgHAADpBwAA",
          "dtype": "i4"
         },
         "xaxis": "x",
         "y": {
          "bdata": "DBIMBAsLAQYUBwUHBBMLBQcFBAsMBQcOBAsNDQ8LFQcZDBAA",
          "dtype": "i1"
         },
         "yaxis": "y"
        },
        {
         "hovertemplate": "Cádiz<br>%{x}<br>Días: %{y}<extra></extra>",
         "line": {
          "width": 2
         },
         "marker": {
          "size": 4
         },
         "mode": "lines+markers",
         "name": "Cádiz - Calor",
         "type": "scatter",
         "x": {
          "bdata": "xgcAAMcHAADIBwAAyQcAAMoHAADLBwAAzAcAAM0HAADOBwAAzwcAANAHAADRBwAA0gcAANMHAADUBwAA1QcAANYHAADXBwAA2AcAANkHAADaBwAA2wcAANwHAADdBwAA3gcAAN8HAADgBwAA4QcAAOIHAADjBwAA5AcAAOUHAADmBwAA5wcAAOgHAADpBwAA",
          "dtype": "i4"
         },
         "xaxis": "x",
         "y": {
          "bdata": "iACgAHYAUAB8AGEAQwA8AHAAZQByAFkAQQB1AIMAegCNAFEAZgCBAIwAfQCDAIIASQB+AJUAngBtAF4AhQBoAJYAoABzAA8A",
          "dtype": "i2"
         },
         "yaxis": "y"
        },
        {
         "hovertemplate": "Córdoba<br>%{x}<br>Días: %{y}<extra></extra>",
         "line": {
          "width": 2
         },
         "marker": {
          "size": 4
         },
         "mode": "lines+markers",
         "name": "Córdoba - Calor",
         "type": "scatter",
         "x": {
          "bdata": "xgcAAMcHAADIBwAAyQcAAMoHAADLBwAAzAcAAM0HAADOBwAAzwcAANAHAADRBwAA0gcAANMHAADUBwAA1QcAANYHAADXBwAA2AcAANkHAADaBwAA2wcAANwHAADdBwAA3gcAAN8HAADgBwAA4QcAAOIHAADjBwAA5AcAAOUHAADmBwAA5wcAAOgHAADpBwAA",
          "dtype": "i4"
         },
         "xaxis": "x",
         "y": {
          "bdata": "QEQ2OE87NiY8QE1BMkVNSE00QU1EPVhHPU5QX0hEUEZQWkYI",
          "dtype": "i1"
         },
         "yaxis": "y"
        },
        {
         "hovertemplate": "Granada<br>%{x}<br>Días: %{y}<extra></extra>",
         "line": {
          "width": 2
         },
         "marker": {
          "size": 4
         },
         "mode": "lines+markers",
         "name": "Granada - Calor",
         "type": "scatter",
         "x": {
          "bdata": "xgcAAMcHAADIBwAAyQcAAMoHAADLBwAAzAcAAM0HAADOBwAAzwcAANAHAADRBwAA0gcAANMHAADUBwAA1QcAANYHAADXBwAA2AcAANkHAADaBwAA2wcAANwHAADdBwAA3gcAAN8HAADgBwAA4QcAAOIHAADjBwAA5AcAAOUHAADmBwAA5wcAAOgHAADpBwAA",
          "dtype": "i4"
         },
         "xaxis": "x",
         "y": {
          "bdata": "NEIpL0QrHhU8Pjw5JT8qOUIrMzspR0M7UE5iWUJITkxbWFMG",
          "dtype": "i1"
         },
         "yaxis": "y"
        },
        {
         "hovertemplate": "Huelva<br>%{x}<br>Días: %{y}<extra></extra>",
         "line": {
          "width": 2
         },
         "marker": {
          "size": 4
         },
         "mode": "lines+markers",
         "name": "Huelva - Calor",
         "type": "scatter",
         "x": {
          "bdata": "xgcAAMcHAADIBwAAyQcAAMoHAADLBwAAzAcAAM0HAADOBwAAzwcAANAHAADRBwAA3gcAAN8HAADgBwAA4QcAAOIHAADjBwAA5AcAAOUHAADmBwAA5wcAAOgHAADpBwAA",
          "dtype": "i4"
         },
         "xaxis": "x",
         "y": {
          "bdata": "EwAYDhISCgQUCgAACCAjAAIAHRMbJBEK",
          "dtype": "i1"
         },
         "yaxis": "y"
        },
        {
         "hovertemplate": "Jaén<br>%{x}<br>Días: %{y}<extra></extra>",
         "line": {
          "width": 2
         },
         "marker": {
          "size": 4
         },
         "mode": "lines+markers",
         "name": "Jaén - Calor",
         "type": "scatter",
         "x": {
          "bdata": "xgcAAMcHAADIBwAAyQcAAMoHAADLBwAAzAcAAM0HAADOBwAAzwcAANAHAADRBwAA0gcAANMHAADUBwAA1QcAANYHAADXBwAA2AcAANkHAADaBwAA2wcAANwHAADdBwAA3gcAAN8HAADgBwAA4QcAAOIHAADjBwAA5AcAAOUHAADmBwAA5wcAAOgHAADpBwAA",
          "dtype": "i4"
         },
         "xaxis": "x",
         "y": {
          "bdata": "HCgaDygTCQgeFBURDCQXHyQTECYkEC0gFTM6OBkjNCFCPDUA",
          "dtype": "i1"
         },
         "yaxis": "y"
        },
        {
         "hovertemplate": "Málaga<br>%{x}<br>Días: %{y}<extra></extra>",
         "line": {
          "width": 2
         },
         "marker": {
          "size": 4
         },
         "mode": "lines+markers",
         "name": "Málaga - Calor",
         "type": "scatter",
         "x": {
          "bdata": "xgcAAMcHAADIBwAAyQcAAMoHAADLBwAAzAcAAM0HAADOBwAAzwcAANAHAADRBwAA0gcAANMHAADUBwAA1QcAANYHAADXBwAA2AcAANkHAADaBwAA2wcAANwHAADdBwAA3gcAAN8HAADgBwAA4QcAAOIHAADjBwAA5AcAAOUHAADmBwAA5wcAAOgHAADpBwAA",
          "dtype": "i4"
         },
         "xaxis": "x",
         "y": {
          "bdata": "GiEgGiwgERUoECMsFy80Lw0FEBo5IhYfCwkKBAUEMitFLhwO",
          "dtype": "i1"
         },
         "yaxis": "y"
        },
        {
         "hovertemplate": "Almería<br>%{x}<br>Días: %{y}<extra></extra>",
         "line": {
          "width": 2
         },
         "marker": {
          "size": 4
         },
         "mode": "lines+markers",
         "name": "Almería - Heladas",
         "showlegend": false,
         "type": "scatter",
         "x": {
          "bdata": "xgcAAMcHAADIBwAAyQcAAMoHAADLBwAAzAcAAM0HAADOBwAAzwcAANAHAADRBwAA0gcAANMHAADUBwAA1QcAANYHAADXBwAA2AcAANkHAADaBwAA2wcAANwHAADdBwAA3gcAAN8HAADgBwAA4QcAAOIHAADjBwAA5AcAAOUHAADmBwAA5wcAAOgHAADpBwAA",
          "dtype": "i4"
         },
         "xaxis": "x2",
         "y": {
          "bdata": "AAAAAAAAAAAAAAAAAAAAAAAAAAAAAAAAAAAAAAAAAAAAAAAA",
          "dtype": "i1"
         },
         "yaxis": "y2"
        },
        {
         "hovertemplate": "Cádiz<br>%{x}<br>Días: %{y}<extra></extra>",
         "line": {
          "width": 2
         },
         "marker": {
          "size": 4
         },
         "mode": "lines+markers",
         "name": "Cádiz - Heladas",
         "showlegend": false,
         "type": "scatter",
         "x": {
          "bdata": "xgcAAMcHAADIBwAAyQcAAMoHAADLBwAAzAcAAM0HAADOBwAAzwcAANAHAADRBwAA0gcAANMHAADUBwAA1QcAANYHAADXBwAA2AcAANkHAADaBwAA2wcAANwHAADdBwAA3gcAAN8HAADgBwAA4QcAAOIHAADjBwAA5AcAAOUHAADmBwAA5wcAAOgHAADpBwAA",
          "dtype": "i4"
         },
         "xaxis": "x2",
         "y": {
          "bdata": "AQoUEhgLAwELBgMAAAEDGgQHBA0AABkEAgMCDQsKBBICDgAC",
          "dtype": "i1"
         },
         "yaxis": "y2"
        },
        {
         "hovertemplate": "Córdoba<br>%{x}<br>Días: %{y}<extra></extra>",
         "line": {
          "width": 2
         },
         "marker": {
          "size": 4
         },
         "mode": "lines+markers",
         "name": "Córdoba - Heladas",
         "showlegend": false,
         "type": "scatter",
         "x": {
          "bdata": "xgcAAMcHAADIBwAAyQcAAMoHAADLBwAAzAcAAM0HAADOBwAAzwcAANAHAADRBwAA0gcAANMHAADUBwAA1QcAANYHAADXBwAA2AcAANkHAADaBwAA2wcAANwHAADdBwAA3gcAAN8HAADgBwAA4QcAAOIHAADjBwAA5AcAAOUHAADmBwAA5wcAAOgHAADpBwAA",
          "dtype": "i4"
         },
         "xaxis": "x2",
         "y": {
          "bdata": "ChAbHxMMBAAPEQgDAQoMKAUFBggCBBoNAxUEEAwQBRAHIAkI",
          "dtype": "i1"
         },
         "yaxis": "y2"
        },
        {
         "hovertemplate": "Granada<br>%{x}<br>Días: %{y}<extra></extra>",
         "line": {
          "width": 2
         },
         "marker": {
          "size": 4
         },
         "mode": "lines+markers",
         "name": "Granada - Heladas",
         "showlegend": false,
         "type": "scatter",
         "x": {
          "bdata": "xgcAAMcHAADIBwAAyQcAAMoHAADLBwAAzAcAAM0HAADOBwAAzwcAANAHAADRBwAA0gcAANMHAADUBwAA1QcAANYHAADXBwAA2AcAANkHAADaBwAA2wcAANwHAADdBwAA3gcAAN8HAADgBwAA4QcAAOIHAADjBwAA5AcAAOUHAADmBwAA5wcAAOgHAADpBwAA",
          "dtype": "i4"
         },
         "xaxis": "x2",
         "y": {
          "bdata": "L0RBSSgfEwozQCchGB4vVjhFNi8nKE4/LDwmNS9BIi42NCIZ",
          "dtype": "i1"
         },
         "yaxis": "y2"
        },
        {
         "hovertemplate": "Huelva<br>%{x}<br>Días: %{y}<extra></extra>",
         "line": {
          "width": 2
         },
         "marker": {
          "size": 4
         },
         "mode": "lines+markers",
         "name": "Huelva - Heladas",
         "showlegend": false,
         "type": "scatter",
         "x": {
          "bdata": "xgcAAMcHAADIBwAAyQcAAMoHAADLBwAAzAcAAM0HAADOBwAAzwcAANAHAADRBwAA3gcAAN8HAADgBwAA4QcAAOIHAADjBwAA5AcAAOUHAADmBwAA5wcAAOgHAADpBwAA",
          "dtype": "i4"
         },
         "xaxis": "x2",
         "y": {
          "bdata": "AAAGAgQBAQABAAAAAAAAAAAAAAEAAAAA",
          "dtype": "i1"
         },
         "yaxis": "y2"
        },
        {
         "hovertemplate": "Jaén<br>%{x}<br>Días: %{y}<extra></extra>",
         "line": {
          "width": 2
         },
         "marker": {
          "size": 4
         },
         "mode": "lines+markers",
         "name": "Jaén - Heladas",
         "showlegend": false,
         "type": "scatter",
         "x": {
          "bdata": "xgcAAMcHAADIBwAAyQcAAMoHAADLBwAAzAcAAM0HAADOBwAAzwcAANAHAADRBwAA0gcAANMHAADUBwAA1QcAANYHAADXBwAA2AcAANkHAADaBwAA2wcAANwHAADdBwAA3gcAAN8HAADgBwAA4QcAAOIHAADjBwAA5AcAAOUHAADmBwAA5wcAAOgHAADpBwAA",
          "dtype": "i4"
         },
         "xaxis": "x2",
         "y": {
          "bdata": "AQMDAgYDAgEBBgACAAgCCQMDAAYKAQsCAQICAQIDAgQABwAB",
          "dtype": "i1"
         },
         "yaxis": "y2"
        },
        {
         "hovertemplate": "Málaga<br>%{x}<br>Días: %{y}<extra></extra>",
         "line": {
          "width": 2
         },
         "marker": {
          "size": 4
         },
         "mode": "lines+markers",
         "name": "Málaga - Heladas",
         "showlegend": false,
         "type": "scatter",
         "x": {
          "bdata": "xgcAAMcHAADIBwAAyQcAAMoHAADLBwAAzAcAAM0HAADOBwAAzwcAANAHAADRBwAA0gcAANMHAADUBwAA1QcAANYHAADXBwAA2AcAANkHAADaBwAA2wcAANwHAADdBwAA3gcAAN8HAADgBwAA4QcAAOIHAADjBwAA5AcAAOUHAADmBwAA5wcAAOgHAADpBwAA",
          "dtype": "i4"
         },
         "xaxis": "x2",
         "y": {
          "bdata": "Ag4MDAkHAgAFAgEAAAcJGQUEAgIAAQIAAAEAAQEBAAAAAAAA",
          "dtype": "i1"
         },
         "yaxis": "y2"
        },
        {
         "hovertemplate": "Almería<br>%{x}<br>Días: %{y}<extra></extra>",
         "line": {
          "width": 2
         },
         "marker": {
          "size": 4
         },
         "mode": "lines+markers",
         "name": "Almería - Lluvia",
         "showlegend": false,
         "type": "scatter",
         "x": {
          "bdata": "xgcAAMcHAADIBwAAyQcAAMoHAADLBwAAzAcAAM0HAADOBwAAzwcAANAHAADRBwAA0gcAANMHAADUBwAA1QcAANYHAADXBwAA2AcAANkHAADaBwAA2wcAANwHAADdBwAA3gcAAN8HAADgBwAA4QcAAOIHAADjBwAA5AcAAOUHAADmBwAA5wcAAOgHAADpBwAA",
          "dtype": "i4"
         },
         "xaxis": "x3",
         "y": {
          "bdata": "AgEDAwQBAgMBAgQBAwEDAQMDAgIGAAEAAAQEBAACAAMFAgAA",
          "dtype": "i1"
         },
         "yaxis": "y3"
        },
        {
         "hovertemplate": "Cádiz<br>%{x}<br>Días: %{y}<extra></extra>",
         "line": {
          "width": 2
         },
         "marker": {
          "size": 4
         },
         "mode": "lines+markers",
         "name": "Cádiz - Lluvia",
         "showlegend": false,
         "type": "scatter",
         "x": {
          "bdata": "xgcAAMcHAADIBwAAyQcAAMoHAADLBwAAzAcAAM0HAADOBwAAzwcAANAHAADRBwAA0gcAANMHAADUBwAA1QcAANYHAADXBwAA2AcAANkHAADaBwAA2wcAANwHAADdBwAA3gcAAN8HAADgBwAA4QcAAOIHAADjBwAA5AcAAOUHAADmBwAA5wcAAOgHAADpBwAA",
          "dtype": "i4"
         },
         "xaxis": "x3",
         "y": {
          "bdata": "HigdFRUlZDMUGSAgJiYLDSMbHCk0FxoaIRQdECYGIxMcDCIW",
          "dtype": "i1"
         },
         "yaxis": "y3"
        },
        {
         "hovertemplate": "Córdoba<br>%{x}<br>Días: %{y}<extra></extra>",
         "line": {
          "width": 2
         },
         "marker": {
          "size": 4
         },
         "mode": "lines+markers",
         "name": "Córdoba - Lluvia",
         "showlegend": false,
         "type": "scatter",
         "x": {
          "bdata": "xgcAAMcHAADIBwAAyQcAAMoHAADLBwAAzAcAAM0HAADOBwAAzwcAANAHAADRBwAA0gcAANMHAADUBwAA1QcAANYHAADXBwAA2AcAANkHAADaBwAA2wcAANwHAADdBwAA3gcAAN8HAADgBwAA4QcAAOIHAADjBwAA5AcAAOUHAADmBwAA5wcAAOgHAADpBwAA",
          "dtype": "i4"
         },
         "xaxis": "x3",
         "y": {
          "bdata": "BwwJBQIHEhAEBgUJBwoHBwYFBwwVBAYHCQMKBAcFBAQJAwsH",
          "dtype": "i1"
         },
         "yaxis": "y3"
        },
        {
         "hovertemplate": "Granada<br>%{x}<br>Días: %{y}<extra></extra>",
         "line": {
          "width": 2
         },
         "marker": {
          "size": 4
         },
         "mode": "lines+markers",
         "name": "Granada - Lluvia",
         "showlegend": false,
         "type": "scatter",
         "x": {
          "bdata": "xgcAAMcHAADIBwAAyQcAAMoHAADLBwAAzAcAAM0HAADOBwAAzwcAANAHAADRBwAA0gcAANMHAADUBwAA1QcAANYHAADXBwAA2AcAANkHAADaBwAA2wcAANwHAADdBwAA3gcAAN8HAADgBwAA4QcAAOIHAADjBwAA5AcAAOUHAADmBwAA5wcAAOgHAADpBwAA",
          "dtype": "i4"
         },
         "xaxis": "x3",
         "y": {
          "bdata": "CAkICAQHHBMHBwYOCA4OBQgGBA4XCxMTBwcLDAsECAYLBAoH",
          "dtype": "i1"
         },
         "yaxis": "y3"
        },
        {
         "hovertemplate": "Huelva<br>%{x}<br>Días: %{y}<extra></extra>",
         "line": {
          "width": 2
         },
         "marker": {
          "size": 4
         },
         "mode": "lines+markers",
         "name": "Huelva - Lluvia",
         "showlegend": false,
         "type": "scatter",
         "x": {
          "bdata": "xgcAAMcHAADIBwAAyQcAAMoHAADLBwAAzAcAAM0HAADOBwAAzwcAANAHAADRBwAA3gcAAN8HAADgBwAA4QcAAOIHAADjBwAA5AcAAOUHAADmBwAA5wcAAOgHAADpBwAA",
          "dtype": "i4"
         },
         "xaxis": "x3",
         "y": {
          "bdata": "AgMBAwAFCAQBBgAABwMHCgQCBQICBAUE",
          "dtype": "i1"
         },
         "yaxis": "y3"
        },
        {
         "hovertemplate": "Jaén<br>%{x}<br>Días: %{y}<extra></extra>",
         "line": {
          "width": 2
         },
         "marker": {
          "size": 4
         },
         "mode": "lines+markers",
         "name": "Jaén - Lluvia",
         "showlegend": false,
         "type": "scatter",
         "x": {
          "bdata": "xgcAAMcHAADIBwAAyQcAAMoHAADLBwAAzAcAAM0HAADOBwAAzwcAANAHAADRBwAA0gcAANMHAADUBwAA1QcAANYHAADXBwAA2AcAANkHAADaBwAA2wcAANwHAADdBwAA3gcAAN8HAADgBwAA4QcAAOIHAADjBwAA5AcAAOUHAADmBwAA5wcAAOgHAADpBwAA",
          "dtype": "i4"
         },
         "xaxis": "x3",
         "y": {
          "bdata": "AwcFAQMACgoBBgUJBAYCBAQDCgkLAwgMBQIEBAkGAgECAQYE",
          "dtype": "i1"
         },
         "yaxis": "y3"
        },
        {
         "hovertemplate": "Málaga<br>%{x}<br>Días: %{y}<extra></extra>",
         "line": {
          "width": 2
         },
         "marker": {
          "size": 4
         },
         "mode": "lines+markers",
         "name": "Málaga - Lluvia",
         "showlegend": false,
         "type": "scatter",
         "x": {
          "bdata": "xgcAAMcHAADIBwAAyQcAAMoHAADLBwAAzAcAAM0HAADOBwAAzwcAANAHAADRBwAA0gcAANMHAADUBwAA1QcAANYHAADXBwAA2AcAANkHAADaBwAA2wcAANwHAADdBwAA3gcAAN8HAADgBwAA4QcAAOIHAADjBwAA5AcAAOUHAADmBwAA5wcAAOgHAADpBwAA",
          "dtype": "i4"
         },
         "xaxis": "x3",
         "y": {
          "bdata": "AQQFAQQEDwkEBAMFBAQEBAkEBwkHBAMGDAEGBAgDAgMFAgUE",
          "dtype": "i1"
         },
         "yaxis": "y3"
        },
        {
         "line": {
          "color": "red",
          "width": 3
         },
         "marker": {
          "size": 6
         },
         "mode": "lines+markers",
         "name": "Olas de Calor",
         "type": "scatter",
         "x": {
          "bdata": "xgcAAMcHAADIBwAAyQcAAMoHAADLBwAAzAcAAM0HAADOBwAAzwcAANAHAADRBwAA0gcAANMHAADUBwAA1QcAANYHAADXBwAA2AcAANkHAADaBwAA2wcAANwHAADdBwAA3gcAAN8HAADgBwAA4QcAAOIHAADjBwAA5AcAAOUHAADmBwAA5wcAAOgHAADpBwAA",
          "dtype": "i4"
         },
         "xaxis": "x4",
         "y": {
          "bdata": "JUmSJEkSSEAAAAAAAIBLQNu2bdu27UVAkiRJkiRJQUDbtm3btm1LQNu2bdu27UNAt23btm3bOkAlSZIkSZI2QNu2bdu2bUhAAAAAAAAARECSJEmSJElGQNu2bdu27UNAVVVVVVXVP0AAAAAAAEBNQAAAAAAAAExAVVVVVVXVS0BVVVVVVVVMQFVVVVVVFUFAq6qqqqoqRUBVVVVVVVVMQAAAAAAAgE1AAAAAAAAASkAAAAAAAABOQFVVVVVVFUxA27Zt27ZtQkAAAAAAAIBLQEmSJEmSpE9ASZIkSZKkTUAAAAAAAABFQJIkSZIkSURASZIkSZKkT0BJkiRJkiRJQEmSJEmSJFJAJUmSJEmSUUCSJEmSJElLQJIkSZIkSR5A",
          "dtype": "f8"
         },
         "yaxis": "y4"
        },
        {
         "line": {
          "color": "blue",
          "width": 3
         },
         "marker": {
          "size": 6
         },
         "mode": "lines+markers",
         "name": "Heladas",
         "type": "scatter",
         "x": {
          "bdata": "xgcAAMcHAADIBwAAyQcAAMoHAADLBwAAzAcAAM0HAADOBwAAzwcAANAHAADRBwAA0gcAANMHAADUBwAA1QcAANYHAADXBwAA2AcAANkHAADaBwAA2wcAANwHAADdBwAA3gcAAN8HAADgBwAA4QcAAOIHAADjBwAA5AcAAOUHAADmBwAA5wcAAOgHAADpBwAA",
          "dtype": "i4"
         },
         "xaxis": "x4",
         "y": {
          "bdata": "27Zt27ZtIUBu27Zt27YvQAAAAAAAADNAbtu2bdu2M0BJkiRJkiQtQCVJkiRJkiJAbtu2bdu2EUDbtm3btm37PwAAAAAAAChASZIkSZIkK0BJkiRJkiQdQG7btm3bthVAq6qqqqqqEECrqqqqqqoiQFVVVVVVVShAAAAAAAAAP0BVVVVVVVUoQFVVVVVVVS1AAAAAAAAAJkBVVVVVVVUpQAAAAAAAACFAq6qqqqqqHkCrqqqqqqo3QFVVVVVVVStAJUmSJEmSHEC3bdu2bdsoQJIkSZIkSRpAAAAAAAAAKEC3bdu2bdskQEmSJEmSJCtAbtu2bdu2GUCSJEmSJEkoQAAAAAAAACJAAAAAAAAALkAlSZIkSZIYQCVJkiRJkhRA",
          "dtype": "f8"
         },
         "yaxis": "y4"
        },
        {
         "line": {
          "color": "green",
          "width": 3
         },
         "marker": {
          "size": 6
         },
         "mode": "lines+markers",
         "name": "Lluvia Intensa",
         "type": "scatter",
         "x": {
          "bdata": "xgcAAMcHAADIBwAAyQcAAMoHAADLBwAAzAcAAM0HAADOBwAAzwcAANAHAADRBwAA0gcAANMHAADUBwAA1QcAANYHAADXBwAA2AcAANkHAADaBwAA2wcAANwHAADdBwAA3gcAAN8HAADgBwAA4QcAAOIHAADjBwAA5AcAAOUHAADmBwAA5wcAAOgHAADpBwAA",
          "dtype": "i4"
         },
         "xaxis": "x4",
         "y": {
          "bdata": "kiRJkiRJHkBu27Zt27YlQEmSJEmSJCFAAAAAAAAAGEBu27Zt27YVQNu2bdu2bSFAt23btm3bOUAAAAAAAAAwQG7btm3bthVAAAAAAAAAIEDbtm3btm0fQAAAAAAAACRAVVVVVVVVJUBVVVVVVVUoQFVVVVVVVRtAq6qqqqqqFkCrqqqqqqolQAAAAAAAACBAVVVVVVVVI0AAAAAAAAAtQAAAAAAAADRAAAAAAAAAHkAAAAAAAAAlQFVVVVVVVSdAt23btm3bJEC3bdu2bdsWQJIkSZIkSSRAt23btm3bHkAAAAAAAAAmQAAAAAAAABBAAAAAAAAAIEBu27Zt27YVQG7btm3btiFAAAAAAAAAEECSJEmSJEkkQNu2bdu2bRtA",
          "dtype": "f8"
         },
         "yaxis": "y4"
        }
       ],
       "layout": {
        "annotations": [
         {
          "font": {
           "size": 16
          },
          "showarrow": false,
          "text": "Días con Olas de Calor (≥35°C)",
          "x": 0.225,
          "xanchor": "center",
          "xref": "paper",
          "y": 1,
          "yanchor": "bottom",
          "yref": "paper"
         },
         {
          "font": {
           "size": 16
          },
          "showarrow": false,
          "text": "Días con Heladas (≤0°C)",
          "x": 0.775,
          "xanchor": "center",
          "xref": "paper",
          "y": 1,
          "yanchor": "bottom",
          "yref": "paper"
         },
         {
          "font": {
           "size": 16
          },
          "showarrow": false,
          "text": "Días con Lluvia Intensa (≥20mm)",
          "x": 0.225,
          "xanchor": "center",
          "xref": "paper",
          "y": 0.44,
          "yanchor": "bottom",
          "yref": "paper"
         },
         {
          "font": {
           "size": 16
          },
          "showarrow": false,
          "text": "Tendencias de Eventos Extremos",
          "x": 0.775,
          "xanchor": "center",
          "xref": "paper",
          "y": 0.44,
          "yanchor": "bottom",
          "yref": "paper"
         }
        ],
        "height": 700,
        "showlegend": true,
        "template": {
         "data": {
          "bar": [
           {
            "error_x": {
             "color": "#2a3f5f"
            },
            "error_y": {
             "color": "#2a3f5f"
            },
            "marker": {
             "line": {
              "color": "#E5ECF6",
              "width": 0.5
             },
             "pattern": {
              "fillmode": "overlay",
              "size": 10,
              "solidity": 0.2
             }
            },
            "type": "bar"
           }
          ],
          "barpolar": [
           {
            "marker": {
             "line": {
              "color": "#E5ECF6",
              "width": 0.5
             },
             "pattern": {
              "fillmode": "overlay",
              "size": 10,
              "solidity": 0.2
             }
            },
            "type": "barpolar"
           }
          ],
          "carpet": [
           {
            "aaxis": {
             "endlinecolor": "#2a3f5f",
             "gridcolor": "white",
             "linecolor": "white",
             "minorgridcolor": "white",
             "startlinecolor": "#2a3f5f"
            },
            "baxis": {
             "endlinecolor": "#2a3f5f",
             "gridcolor": "white",
             "linecolor": "white",
             "minorgridcolor": "white",
             "startlinecolor": "#2a3f5f"
            },
            "type": "carpet"
           }
          ],
          "choropleth": [
           {
            "colorbar": {
             "outlinewidth": 0,
             "ticks": ""
            },
            "type": "choropleth"
           }
          ],
          "contour": [
           {
            "colorbar": {
             "outlinewidth": 0,
             "ticks": ""
            },
            "colorscale": [
             [
              0,
              "#0d0887"
             ],
             [
              0.1111111111111111,
              "#46039f"
             ],
             [
              0.2222222222222222,
              "#7201a8"
             ],
             [
              0.3333333333333333,
              "#9c179e"
             ],
             [
              0.4444444444444444,
              "#bd3786"
             ],
             [
              0.5555555555555556,
              "#d8576b"
             ],
             [
              0.6666666666666666,
              "#ed7953"
             ],
             [
              0.7777777777777778,
              "#fb9f3a"
             ],
             [
              0.8888888888888888,
              "#fdca26"
             ],
             [
              1,
              "#f0f921"
             ]
            ],
            "type": "contour"
           }
          ],
          "contourcarpet": [
           {
            "colorbar": {
             "outlinewidth": 0,
             "ticks": ""
            },
            "type": "contourcarpet"
           }
          ],
          "heatmap": [
           {
            "colorbar": {
             "outlinewidth": 0,
             "ticks": ""
            },
            "colorscale": [
             [
              0,
              "#0d0887"
             ],
             [
              0.1111111111111111,
              "#46039f"
             ],
             [
              0.2222222222222222,
              "#7201a8"
             ],
             [
              0.3333333333333333,
              "#9c179e"
             ],
             [
              0.4444444444444444,
              "#bd3786"
             ],
             [
              0.5555555555555556,
              "#d8576b"
             ],
             [
              0.6666666666666666,
              "#ed7953"
             ],
             [
              0.7777777777777778,
              "#fb9f3a"
             ],
             [
              0.8888888888888888,
              "#fdca26"
             ],
             [
              1,
              "#f0f921"
             ]
            ],
            "type": "heatmap"
           }
          ],
          "histogram": [
           {
            "marker": {
             "pattern": {
              "fillmode": "overlay",
              "size": 10,
              "solidity": 0.2
             }
            },
            "type": "histogram"
           }
          ],
          "histogram2d": [
           {
            "colorbar": {
             "outlinewidth": 0,
             "ticks": ""
            },
            "colorscale": [
             [
              0,
              "#0d0887"
             ],
             [
              0.1111111111111111,
              "#46039f"
             ],
             [
              0.2222222222222222,
              "#7201a8"
             ],
             [
              0.3333333333333333,
              "#9c179e"
             ],
             [
              0.4444444444444444,
              "#bd3786"
             ],
             [
              0.5555555555555556,
              "#d8576b"
             ],
             [
              0.6666666666666666,
              "#ed7953"
             ],
             [
              0.7777777777777778,
              "#fb9f3a"
             ],
             [
              0.8888888888888888,
              "#fdca26"
             ],
             [
              1,
              "#f0f921"
             ]
            ],
            "type": "histogram2d"
           }
          ],
          "histogram2dcontour": [
           {
            "colorbar": {
             "outlinewidth": 0,
             "ticks": ""
            },
            "colorscale": [
             [
              0,
              "#0d0887"
             ],
             [
              0.1111111111111111,
              "#46039f"
             ],
             [
              0.2222222222222222,
              "#7201a8"
             ],
             [
              0.3333333333333333,
              "#9c179e"
             ],
             [
              0.4444444444444444,
              "#bd3786"
             ],
             [
              0.5555555555555556,
              "#d8576b"
             ],
             [
              0.6666666666666666,
              "#ed7953"
             ],
             [
              0.7777777777777778,
              "#fb9f3a"
             ],
             [
              0.8888888888888888,
              "#fdca26"
             ],
             [
              1,
              "#f0f921"
             ]
            ],
            "type": "histogram2dcontour"
           }
          ],
          "mesh3d": [
           {
            "colorbar": {
             "outlinewidth": 0,
             "ticks": ""
            },
            "type": "mesh3d"
           }
          ],
          "parcoords": [
           {
            "line": {
             "colorbar": {
              "outlinewidth": 0,
              "ticks": ""
             }
            },
            "type": "parcoords"
           }
          ],
          "pie": [
           {
            "automargin": true,
            "type": "pie"
           }
          ],
          "scatter": [
           {
            "fillpattern": {
             "fillmode": "overlay",
             "size": 10,
             "solidity": 0.2
            },
            "type": "scatter"
           }
          ],
          "scatter3d": [
           {
            "line": {
             "colorbar": {
              "outlinewidth": 0,
              "ticks": ""
             }
            },
            "marker": {
             "colorbar": {
              "outlinewidth": 0,
              "ticks": ""
             }
            },
            "type": "scatter3d"
           }
          ],
          "scattercarpet": [
           {
            "marker": {
             "colorbar": {
              "outlinewidth": 0,
              "ticks": ""
             }
            },
            "type": "scattercarpet"
           }
          ],
          "scattergeo": [
           {
            "marker": {
             "colorbar": {
              "outlinewidth": 0,
              "ticks": ""
             }
            },
            "type": "scattergeo"
           }
          ],
          "scattergl": [
           {
            "marker": {
             "colorbar": {
              "outlinewidth": 0,
              "ticks": ""
             }
            },
            "type": "scattergl"
           }
          ],
          "scattermap": [
           {
            "marker": {
             "colorbar": {
              "outlinewidth": 0,
              "ticks": ""
             }
            },
            "type": "scattermap"
           }
          ],
          "scattermapbox": [
           {
            "marker": {
             "colorbar": {
              "outlinewidth": 0,
              "ticks": ""
             }
            },
            "type": "scattermapbox"
           }
          ],
          "scatterpolar": [
           {
            "marker": {
             "colorbar": {
              "outlinewidth": 0,
              "ticks": ""
             }
            },
            "type": "scatterpolar"
           }
          ],
          "scatterpolargl": [
           {
            "marker": {
             "colorbar": {
              "outlinewidth": 0,
              "ticks": ""
             }
            },
            "type": "scatterpolargl"
           }
          ],
          "scatterternary": [
           {
            "marker": {
             "colorbar": {
              "outlinewidth": 0,
              "ticks": ""
             }
            },
            "type": "scatterternary"
           }
          ],
          "surface": [
           {
            "colorbar": {
             "outlinewidth": 0,
             "ticks": ""
            },
            "colorscale": [
             [
              0,
              "#0d0887"
             ],
             [
              0.1111111111111111,
              "#46039f"
             ],
             [
              0.2222222222222222,
              "#7201a8"
             ],
             [
              0.3333333333333333,
              "#9c179e"
             ],
             [
              0.4444444444444444,
              "#bd3786"
             ],
             [
              0.5555555555555556,
              "#d8576b"
             ],
             [
              0.6666666666666666,
              "#ed7953"
             ],
             [
              0.7777777777777778,
              "#fb9f3a"
             ],
             [
              0.8888888888888888,
              "#fdca26"
             ],
             [
              1,
              "#f0f921"
             ]
            ],
            "type": "surface"
           }
          ],
          "table": [
           {
            "cells": {
             "fill": {
              "color": "#EBF0F8"
             },
             "line": {
              "color": "white"
             }
            },
            "header": {
             "fill": {
              "color": "#C8D4E3"
             },
             "line": {
              "color": "white"
             }
            },
            "type": "table"
           }
          ]
         },
         "layout": {
          "annotationdefaults": {
           "arrowcolor": "#2a3f5f",
           "arrowhead": 0,
           "arrowwidth": 1
          },
          "autotypenumbers": "strict",
          "coloraxis": {
           "colorbar": {
            "outlinewidth": 0,
            "ticks": ""
           }
          },
          "colorscale": {
           "diverging": [
            [
             0,
             "#8e0152"
            ],
            [
             0.1,
             "#c51b7d"
            ],
            [
             0.2,
             "#de77ae"
            ],
            [
             0.3,
             "#f1b6da"
            ],
            [
             0.4,
             "#fde0ef"
            ],
            [
             0.5,
             "#f7f7f7"
            ],
            [
             0.6,
             "#e6f5d0"
            ],
            [
             0.7,
             "#b8e186"
            ],
            [
             0.8,
             "#7fbc41"
            ],
            [
             0.9,
             "#4d9221"
            ],
            [
             1,
             "#276419"
            ]
           ],
           "sequential": [
            [
             0,
             "#0d0887"
            ],
            [
             0.1111111111111111,
             "#46039f"
            ],
            [
             0.2222222222222222,
             "#7201a8"
            ],
            [
             0.3333333333333333,
             "#9c179e"
            ],
            [
             0.4444444444444444,
             "#bd3786"
            ],
            [
             0.5555555555555556,
             "#d8576b"
            ],
            [
             0.6666666666666666,
             "#ed7953"
            ],
            [
             0.7777777777777778,
             "#fb9f3a"
            ],
            [
             0.8888888888888888,
             "#fdca26"
            ],
            [
             1,
             "#f0f921"
            ]
           ],
           "sequentialminus": [
            [
             0,
             "#0d0887"
            ],
            [
             0.1111111111111111,
             "#46039f"
            ],
            [
             0.2222222222222222,
             "#7201a8"
            ],
            [
             0.3333333333333333,
             "#9c179e"
            ],
            [
             0.4444444444444444,
             "#bd3786"
            ],
            [
             0.5555555555555556,
             "#d8576b"
            ],
            [
             0.6666666666666666,
             "#ed7953"
            ],
            [
             0.7777777777777778,
             "#fb9f3a"
            ],
            [
             0.8888888888888888,
             "#fdca26"
            ],
            [
             1,
             "#f0f921"
            ]
           ]
          },
          "colorway": [
           "#636efa",
           "#EF553B",
           "#00cc96",
           "#ab63fa",
           "#FFA15A",
           "#19d3f3",
           "#FF6692",
           "#B6E880",
           "#FF97FF",
           "#FECB52"
          ],
          "font": {
           "color": "#2a3f5f"
          },
          "geo": {
           "bgcolor": "white",
           "lakecolor": "white",
           "landcolor": "#E5ECF6",
           "showlakes": true,
           "showland": true,
           "subunitcolor": "white"
          },
          "hoverlabel": {
           "align": "left"
          },
          "hovermode": "closest",
          "mapbox": {
           "style": "light"
          },
          "paper_bgcolor": "white",
          "plot_bgcolor": "#E5ECF6",
          "polar": {
           "angularaxis": {
            "gridcolor": "white",
            "linecolor": "white",
            "ticks": ""
           },
           "bgcolor": "#E5ECF6",
           "radialaxis": {
            "gridcolor": "white",
            "linecolor": "white",
            "ticks": ""
           }
          },
          "scene": {
           "xaxis": {
            "backgroundcolor": "#E5ECF6",
            "gridcolor": "white",
            "gridwidth": 2,
            "linecolor": "white",
            "showbackground": true,
            "ticks": "",
            "zerolinecolor": "white"
           },
           "yaxis": {
            "backgroundcolor": "#E5ECF6",
            "gridcolor": "white",
            "gridwidth": 2,
            "linecolor": "white",
            "showbackground": true,
            "ticks": "",
            "zerolinecolor": "white"
           },
           "zaxis": {
            "backgroundcolor": "#E5ECF6",
            "gridcolor": "white",
            "gridwidth": 2,
            "linecolor": "white",
            "showbackground": true,
            "ticks": "",
            "zerolinecolor": "white"
           }
          },
          "shapedefaults": {
           "line": {
            "color": "#2a3f5f"
           }
          },
          "ternary": {
           "aaxis": {
            "gridcolor": "white",
            "linecolor": "white",
            "ticks": ""
           },
           "baxis": {
            "gridcolor": "white",
            "linecolor": "white",
            "ticks": ""
           },
           "bgcolor": "#E5ECF6",
           "caxis": {
            "gridcolor": "white",
            "linecolor": "white",
            "ticks": ""
           }
          },
          "title": {
           "x": 0.05
          },
          "xaxis": {
           "automargin": true,
           "gridcolor": "white",
           "linecolor": "white",
           "ticks": "",
           "title": {
            "standoff": 15
           },
           "zerolinecolor": "white",
           "zerolinewidth": 2
          },
          "yaxis": {
           "automargin": true,
           "gridcolor": "white",
           "linecolor": "white",
           "ticks": "",
           "title": {
            "standoff": 15
           },
           "zerolinecolor": "white",
           "zerolinewidth": 2
          }
         }
        },
        "title": {
         "font": {
          "color": "#DC143C",
          "size": 18
         },
         "text": "⚠️ Análisis de Eventos Extremos en Andalucía (1990-2024)",
         "x": 0.5
        },
        "xaxis": {
         "anchor": "y",
         "domain": [
          0,
          0.45
         ],
         "title": {
          "text": "Año"
         }
        },
        "xaxis2": {
         "anchor": "y2",
         "domain": [
          0.55,
          1
         ],
         "title": {
          "text": "Año"
         }
        },
        "xaxis3": {
         "anchor": "y3",
         "domain": [
          0,
          0.45
         ],
         "title": {
          "text": "Año"
         }
        },
        "xaxis4": {
         "anchor": "y4",
         "domain": [
          0.55,
          1
         ],
         "title": {
          "text": "Año"
         }
        },
        "yaxis": {
         "anchor": "x",
         "domain": [
          0.56,
          1
         ],
         "title": {
          "text": "Días por año"
         }
        },
        "yaxis2": {
         "anchor": "x2",
         "domain": [
          0.56,
          1
         ],
         "title": {
          "text": "Días por año"
         }
        },
        "yaxis3": {
         "anchor": "x3",
         "domain": [
          0,
          0.44
         ],
         "title": {
          "text": "Días por año"
         }
        },
        "yaxis4": {
         "anchor": "x4",
         "domain": [
          0,
          0.44
         ],
         "title": {
          "text": "Días por año"
         }
        }
       }
      },
      "text/html": [
       "<div>            <script src=\"https://cdnjs.cloudflare.com/ajax/libs/mathjax/2.7.5/MathJax.js?config=TeX-AMS-MML_SVG\"></script><script type=\"text/javascript\">if (window.MathJax && window.MathJax.Hub && window.MathJax.Hub.Config) {window.MathJax.Hub.Config({SVG: {font: \"STIX-Web\"}});}</script>                <script type=\"text/javascript\">window.PlotlyConfig = {MathJaxConfig: 'local'};</script>\n",
       "        <script charset=\"utf-8\" src=\"https://cdn.plot.ly/plotly-3.0.1.min.js\"></script>                <div id=\"be593d2f-a7c0-4b5e-8db1-f082ac297668\" class=\"plotly-graph-div\" style=\"height:700px; width:100%;\"></div>            <script type=\"text/javascript\">                window.PLOTLYENV=window.PLOTLYENV || {};                                if (document.getElementById(\"be593d2f-a7c0-4b5e-8db1-f082ac297668\")) {                    Plotly.newPlot(                        \"be593d2f-a7c0-4b5e-8db1-f082ac297668\",                        [{\"hovertemplate\":\"Almer\\u00eda\\u003cbr\\u003e%{x}\\u003cbr\\u003eD\\u00edas: %{y}\\u003cextra\\u003e\\u003c\\u002fextra\\u003e\",\"line\":{\"width\":2},\"marker\":{\"size\":4},\"mode\":\"lines+markers\",\"name\":\"Almer\\u00eda - Calor\",\"x\":{\"dtype\":\"i4\",\"bdata\":\"xgcAAMcHAADIBwAAyQcAAMoHAADLBwAAzAcAAM0HAADOBwAAzwcAANAHAADRBwAA0gcAANMHAADUBwAA1QcAANYHAADXBwAA2AcAANkHAADaBwAA2wcAANwHAADdBwAA3gcAAN8HAADgBwAA4QcAAOIHAADjBwAA5AcAAOUHAADmBwAA5wcAAOgHAADpBwAA\"},\"y\":{\"dtype\":\"i1\",\"bdata\":\"DBIMBAsLAQYUBwUHBBMLBQcFBAsMBQcOBAsNDQ8LFQcZDBAA\"},\"type\":\"scatter\",\"xaxis\":\"x\",\"yaxis\":\"y\"},{\"hovertemplate\":\"C\\u00e1diz\\u003cbr\\u003e%{x}\\u003cbr\\u003eD\\u00edas: %{y}\\u003cextra\\u003e\\u003c\\u002fextra\\u003e\",\"line\":{\"width\":2},\"marker\":{\"size\":4},\"mode\":\"lines+markers\",\"name\":\"C\\u00e1diz - Calor\",\"x\":{\"dtype\":\"i4\",\"bdata\":\"xgcAAMcHAADIBwAAyQcAAMoHAADLBwAAzAcAAM0HAADOBwAAzwcAANAHAADRBwAA0gcAANMHAADUBwAA1QcAANYHAADXBwAA2AcAANkHAADaBwAA2wcAANwHAADdBwAA3gcAAN8HAADgBwAA4QcAAOIHAADjBwAA5AcAAOUHAADmBwAA5wcAAOgHAADpBwAA\"},\"y\":{\"dtype\":\"i2\",\"bdata\":\"iACgAHYAUAB8AGEAQwA8AHAAZQByAFkAQQB1AIMAegCNAFEAZgCBAIwAfQCDAIIASQB+AJUAngBtAF4AhQBoAJYAoABzAA8A\"},\"type\":\"scatter\",\"xaxis\":\"x\",\"yaxis\":\"y\"},{\"hovertemplate\":\"C\\u00f3rdoba\\u003cbr\\u003e%{x}\\u003cbr\\u003eD\\u00edas: %{y}\\u003cextra\\u003e\\u003c\\u002fextra\\u003e\",\"line\":{\"width\":2},\"marker\":{\"size\":4},\"mode\":\"lines+markers\",\"name\":\"C\\u00f3rdoba - Calor\",\"x\":{\"dtype\":\"i4\",\"bdata\":\"xgcAAMcHAADIBwAAyQcAAMoHAADLBwAAzAcAAM0HAADOBwAAzwcAANAHAADRBwAA0gcAANMHAADUBwAA1QcAANYHAADXBwAA2AcAANkHAADaBwAA2wcAANwHAADdBwAA3gcAAN8HAADgBwAA4QcAAOIHAADjBwAA5AcAAOUHAADmBwAA5wcAAOgHAADpBwAA\"},\"y\":{\"dtype\":\"i1\",\"bdata\":\"QEQ2OE87NiY8QE1BMkVNSE00QU1EPVhHPU5QX0hEUEZQWkYI\"},\"type\":\"scatter\",\"xaxis\":\"x\",\"yaxis\":\"y\"},{\"hovertemplate\":\"Granada\\u003cbr\\u003e%{x}\\u003cbr\\u003eD\\u00edas: %{y}\\u003cextra\\u003e\\u003c\\u002fextra\\u003e\",\"line\":{\"width\":2},\"marker\":{\"size\":4},\"mode\":\"lines+markers\",\"name\":\"Granada - Calor\",\"x\":{\"dtype\":\"i4\",\"bdata\":\"xgcAAMcHAADIBwAAyQcAAMoHAADLBwAAzAcAAM0HAADOBwAAzwcAANAHAADRBwAA0gcAANMHAADUBwAA1QcAANYHAADXBwAA2AcAANkHAADaBwAA2wcAANwHAADdBwAA3gcAAN8HAADgBwAA4QcAAOIHAADjBwAA5AcAAOUHAADmBwAA5wcAAOgHAADpBwAA\"},\"y\":{\"dtype\":\"i1\",\"bdata\":\"NEIpL0QrHhU8Pjw5JT8qOUIrMzspR0M7UE5iWUJITkxbWFMG\"},\"type\":\"scatter\",\"xaxis\":\"x\",\"yaxis\":\"y\"},{\"hovertemplate\":\"Huelva\\u003cbr\\u003e%{x}\\u003cbr\\u003eD\\u00edas: %{y}\\u003cextra\\u003e\\u003c\\u002fextra\\u003e\",\"line\":{\"width\":2},\"marker\":{\"size\":4},\"mode\":\"lines+markers\",\"name\":\"Huelva - Calor\",\"x\":{\"dtype\":\"i4\",\"bdata\":\"xgcAAMcHAADIBwAAyQcAAMoHAADLBwAAzAcAAM0HAADOBwAAzwcAANAHAADRBwAA3gcAAN8HAADgBwAA4QcAAOIHAADjBwAA5AcAAOUHAADmBwAA5wcAAOgHAADpBwAA\"},\"y\":{\"dtype\":\"i1\",\"bdata\":\"EwAYDhISCgQUCgAACCAjAAIAHRMbJBEK\"},\"type\":\"scatter\",\"xaxis\":\"x\",\"yaxis\":\"y\"},{\"hovertemplate\":\"Ja\\u00e9n\\u003cbr\\u003e%{x}\\u003cbr\\u003eD\\u00edas: %{y}\\u003cextra\\u003e\\u003c\\u002fextra\\u003e\",\"line\":{\"width\":2},\"marker\":{\"size\":4},\"mode\":\"lines+markers\",\"name\":\"Ja\\u00e9n - Calor\",\"x\":{\"dtype\":\"i4\",\"bdata\":\"xgcAAMcHAADIBwAAyQcAAMoHAADLBwAAzAcAAM0HAADOBwAAzwcAANAHAADRBwAA0gcAANMHAADUBwAA1QcAANYHAADXBwAA2AcAANkHAADaBwAA2wcAANwHAADdBwAA3gcAAN8HAADgBwAA4QcAAOIHAADjBwAA5AcAAOUHAADmBwAA5wcAAOgHAADpBwAA\"},\"y\":{\"dtype\":\"i1\",\"bdata\":\"HCgaDygTCQgeFBURDCQXHyQTECYkEC0gFTM6OBkjNCFCPDUA\"},\"type\":\"scatter\",\"xaxis\":\"x\",\"yaxis\":\"y\"},{\"hovertemplate\":\"M\\u00e1laga\\u003cbr\\u003e%{x}\\u003cbr\\u003eD\\u00edas: %{y}\\u003cextra\\u003e\\u003c\\u002fextra\\u003e\",\"line\":{\"width\":2},\"marker\":{\"size\":4},\"mode\":\"lines+markers\",\"name\":\"M\\u00e1laga - Calor\",\"x\":{\"dtype\":\"i4\",\"bdata\":\"xgcAAMcHAADIBwAAyQcAAMoHAADLBwAAzAcAAM0HAADOBwAAzwcAANAHAADRBwAA0gcAANMHAADUBwAA1QcAANYHAADXBwAA2AcAANkHAADaBwAA2wcAANwHAADdBwAA3gcAAN8HAADgBwAA4QcAAOIHAADjBwAA5AcAAOUHAADmBwAA5wcAAOgHAADpBwAA\"},\"y\":{\"dtype\":\"i1\",\"bdata\":\"GiEgGiwgERUoECMsFy80Lw0FEBo5IhYfCwkKBAUEMitFLhwO\"},\"type\":\"scatter\",\"xaxis\":\"x\",\"yaxis\":\"y\"},{\"hovertemplate\":\"Almer\\u00eda\\u003cbr\\u003e%{x}\\u003cbr\\u003eD\\u00edas: %{y}\\u003cextra\\u003e\\u003c\\u002fextra\\u003e\",\"line\":{\"width\":2},\"marker\":{\"size\":4},\"mode\":\"lines+markers\",\"name\":\"Almer\\u00eda - Heladas\",\"showlegend\":false,\"x\":{\"dtype\":\"i4\",\"bdata\":\"xgcAAMcHAADIBwAAyQcAAMoHAADLBwAAzAcAAM0HAADOBwAAzwcAANAHAADRBwAA0gcAANMHAADUBwAA1QcAANYHAADXBwAA2AcAANkHAADaBwAA2wcAANwHAADdBwAA3gcAAN8HAADgBwAA4QcAAOIHAADjBwAA5AcAAOUHAADmBwAA5wcAAOgHAADpBwAA\"},\"y\":{\"dtype\":\"i1\",\"bdata\":\"AAAAAAAAAAAAAAAAAAAAAAAAAAAAAAAAAAAAAAAAAAAAAAAA\"},\"type\":\"scatter\",\"xaxis\":\"x2\",\"yaxis\":\"y2\"},{\"hovertemplate\":\"C\\u00e1diz\\u003cbr\\u003e%{x}\\u003cbr\\u003eD\\u00edas: %{y}\\u003cextra\\u003e\\u003c\\u002fextra\\u003e\",\"line\":{\"width\":2},\"marker\":{\"size\":4},\"mode\":\"lines+markers\",\"name\":\"C\\u00e1diz - Heladas\",\"showlegend\":false,\"x\":{\"dtype\":\"i4\",\"bdata\":\"xgcAAMcHAADIBwAAyQcAAMoHAADLBwAAzAcAAM0HAADOBwAAzwcAANAHAADRBwAA0gcAANMHAADUBwAA1QcAANYHAADXBwAA2AcAANkHAADaBwAA2wcAANwHAADdBwAA3gcAAN8HAADgBwAA4QcAAOIHAADjBwAA5AcAAOUHAADmBwAA5wcAAOgHAADpBwAA\"},\"y\":{\"dtype\":\"i1\",\"bdata\":\"AQoUEhgLAwELBgMAAAEDGgQHBA0AABkEAgMCDQsKBBICDgAC\"},\"type\":\"scatter\",\"xaxis\":\"x2\",\"yaxis\":\"y2\"},{\"hovertemplate\":\"C\\u00f3rdoba\\u003cbr\\u003e%{x}\\u003cbr\\u003eD\\u00edas: %{y}\\u003cextra\\u003e\\u003c\\u002fextra\\u003e\",\"line\":{\"width\":2},\"marker\":{\"size\":4},\"mode\":\"lines+markers\",\"name\":\"C\\u00f3rdoba - Heladas\",\"showlegend\":false,\"x\":{\"dtype\":\"i4\",\"bdata\":\"xgcAAMcHAADIBwAAyQcAAMoHAADLBwAAzAcAAM0HAADOBwAAzwcAANAHAADRBwAA0gcAANMHAADUBwAA1QcAANYHAADXBwAA2AcAANkHAADaBwAA2wcAANwHAADdBwAA3gcAAN8HAADgBwAA4QcAAOIHAADjBwAA5AcAAOUHAADmBwAA5wcAAOgHAADpBwAA\"},\"y\":{\"dtype\":\"i1\",\"bdata\":\"ChAbHxMMBAAPEQgDAQoMKAUFBggCBBoNAxUEEAwQBRAHIAkI\"},\"type\":\"scatter\",\"xaxis\":\"x2\",\"yaxis\":\"y2\"},{\"hovertemplate\":\"Granada\\u003cbr\\u003e%{x}\\u003cbr\\u003eD\\u00edas: %{y}\\u003cextra\\u003e\\u003c\\u002fextra\\u003e\",\"line\":{\"width\":2},\"marker\":{\"size\":4},\"mode\":\"lines+markers\",\"name\":\"Granada - Heladas\",\"showlegend\":false,\"x\":{\"dtype\":\"i4\",\"bdata\":\"xgcAAMcHAADIBwAAyQcAAMoHAADLBwAAzAcAAM0HAADOBwAAzwcAANAHAADRBwAA0gcAANMHAADUBwAA1QcAANYHAADXBwAA2AcAANkHAADaBwAA2wcAANwHAADdBwAA3gcAAN8HAADgBwAA4QcAAOIHAADjBwAA5AcAAOUHAADmBwAA5wcAAOgHAADpBwAA\"},\"y\":{\"dtype\":\"i1\",\"bdata\":\"L0RBSSgfEwozQCchGB4vVjhFNi8nKE4\\u002fLDwmNS9BIi42NCIZ\"},\"type\":\"scatter\",\"xaxis\":\"x2\",\"yaxis\":\"y2\"},{\"hovertemplate\":\"Huelva\\u003cbr\\u003e%{x}\\u003cbr\\u003eD\\u00edas: %{y}\\u003cextra\\u003e\\u003c\\u002fextra\\u003e\",\"line\":{\"width\":2},\"marker\":{\"size\":4},\"mode\":\"lines+markers\",\"name\":\"Huelva - Heladas\",\"showlegend\":false,\"x\":{\"dtype\":\"i4\",\"bdata\":\"xgcAAMcHAADIBwAAyQcAAMoHAADLBwAAzAcAAM0HAADOBwAAzwcAANAHAADRBwAA3gcAAN8HAADgBwAA4QcAAOIHAADjBwAA5AcAAOUHAADmBwAA5wcAAOgHAADpBwAA\"},\"y\":{\"dtype\":\"i1\",\"bdata\":\"AAAGAgQBAQABAAAAAAAAAAAAAAEAAAAA\"},\"type\":\"scatter\",\"xaxis\":\"x2\",\"yaxis\":\"y2\"},{\"hovertemplate\":\"Ja\\u00e9n\\u003cbr\\u003e%{x}\\u003cbr\\u003eD\\u00edas: %{y}\\u003cextra\\u003e\\u003c\\u002fextra\\u003e\",\"line\":{\"width\":2},\"marker\":{\"size\":4},\"mode\":\"lines+markers\",\"name\":\"Ja\\u00e9n - Heladas\",\"showlegend\":false,\"x\":{\"dtype\":\"i4\",\"bdata\":\"xgcAAMcHAADIBwAAyQcAAMoHAADLBwAAzAcAAM0HAADOBwAAzwcAANAHAADRBwAA0gcAANMHAADUBwAA1QcAANYHAADXBwAA2AcAANkHAADaBwAA2wcAANwHAADdBwAA3gcAAN8HAADgBwAA4QcAAOIHAADjBwAA5AcAAOUHAADmBwAA5wcAAOgHAADpBwAA\"},\"y\":{\"dtype\":\"i1\",\"bdata\":\"AQMDAgYDAgEBBgACAAgCCQMDAAYKAQsCAQICAQIDAgQABwAB\"},\"type\":\"scatter\",\"xaxis\":\"x2\",\"yaxis\":\"y2\"},{\"hovertemplate\":\"M\\u00e1laga\\u003cbr\\u003e%{x}\\u003cbr\\u003eD\\u00edas: %{y}\\u003cextra\\u003e\\u003c\\u002fextra\\u003e\",\"line\":{\"width\":2},\"marker\":{\"size\":4},\"mode\":\"lines+markers\",\"name\":\"M\\u00e1laga - Heladas\",\"showlegend\":false,\"x\":{\"dtype\":\"i4\",\"bdata\":\"xgcAAMcHAADIBwAAyQcAAMoHAADLBwAAzAcAAM0HAADOBwAAzwcAANAHAADRBwAA0gcAANMHAADUBwAA1QcAANYHAADXBwAA2AcAANkHAADaBwAA2wcAANwHAADdBwAA3gcAAN8HAADgBwAA4QcAAOIHAADjBwAA5AcAAOUHAADmBwAA5wcAAOgHAADpBwAA\"},\"y\":{\"dtype\":\"i1\",\"bdata\":\"Ag4MDAkHAgAFAgEAAAcJGQUEAgIAAQIAAAEAAQEBAAAAAAAA\"},\"type\":\"scatter\",\"xaxis\":\"x2\",\"yaxis\":\"y2\"},{\"hovertemplate\":\"Almer\\u00eda\\u003cbr\\u003e%{x}\\u003cbr\\u003eD\\u00edas: %{y}\\u003cextra\\u003e\\u003c\\u002fextra\\u003e\",\"line\":{\"width\":2},\"marker\":{\"size\":4},\"mode\":\"lines+markers\",\"name\":\"Almer\\u00eda - Lluvia\",\"showlegend\":false,\"x\":{\"dtype\":\"i4\",\"bdata\":\"xgcAAMcHAADIBwAAyQcAAMoHAADLBwAAzAcAAM0HAADOBwAAzwcAANAHAADRBwAA0gcAANMHAADUBwAA1QcAANYHAADXBwAA2AcAANkHAADaBwAA2wcAANwHAADdBwAA3gcAAN8HAADgBwAA4QcAAOIHAADjBwAA5AcAAOUHAADmBwAA5wcAAOgHAADpBwAA\"},\"y\":{\"dtype\":\"i1\",\"bdata\":\"AgEDAwQBAgMBAgQBAwEDAQMDAgIGAAEAAAQEBAACAAMFAgAA\"},\"type\":\"scatter\",\"xaxis\":\"x3\",\"yaxis\":\"y3\"},{\"hovertemplate\":\"C\\u00e1diz\\u003cbr\\u003e%{x}\\u003cbr\\u003eD\\u00edas: %{y}\\u003cextra\\u003e\\u003c\\u002fextra\\u003e\",\"line\":{\"width\":2},\"marker\":{\"size\":4},\"mode\":\"lines+markers\",\"name\":\"C\\u00e1diz - Lluvia\",\"showlegend\":false,\"x\":{\"dtype\":\"i4\",\"bdata\":\"xgcAAMcHAADIBwAAyQcAAMoHAADLBwAAzAcAAM0HAADOBwAAzwcAANAHAADRBwAA0gcAANMHAADUBwAA1QcAANYHAADXBwAA2AcAANkHAADaBwAA2wcAANwHAADdBwAA3gcAAN8HAADgBwAA4QcAAOIHAADjBwAA5AcAAOUHAADmBwAA5wcAAOgHAADpBwAA\"},\"y\":{\"dtype\":\"i1\",\"bdata\":\"HigdFRUlZDMUGSAgJiYLDSMbHCk0FxoaIRQdECYGIxMcDCIW\"},\"type\":\"scatter\",\"xaxis\":\"x3\",\"yaxis\":\"y3\"},{\"hovertemplate\":\"C\\u00f3rdoba\\u003cbr\\u003e%{x}\\u003cbr\\u003eD\\u00edas: %{y}\\u003cextra\\u003e\\u003c\\u002fextra\\u003e\",\"line\":{\"width\":2},\"marker\":{\"size\":4},\"mode\":\"lines+markers\",\"name\":\"C\\u00f3rdoba - Lluvia\",\"showlegend\":false,\"x\":{\"dtype\":\"i4\",\"bdata\":\"xgcAAMcHAADIBwAAyQcAAMoHAADLBwAAzAcAAM0HAADOBwAAzwcAANAHAADRBwAA0gcAANMHAADUBwAA1QcAANYHAADXBwAA2AcAANkHAADaBwAA2wcAANwHAADdBwAA3gcAAN8HAADgBwAA4QcAAOIHAADjBwAA5AcAAOUHAADmBwAA5wcAAOgHAADpBwAA\"},\"y\":{\"dtype\":\"i1\",\"bdata\":\"BwwJBQIHEhAEBgUJBwoHBwYFBwwVBAYHCQMKBAcFBAQJAwsH\"},\"type\":\"scatter\",\"xaxis\":\"x3\",\"yaxis\":\"y3\"},{\"hovertemplate\":\"Granada\\u003cbr\\u003e%{x}\\u003cbr\\u003eD\\u00edas: %{y}\\u003cextra\\u003e\\u003c\\u002fextra\\u003e\",\"line\":{\"width\":2},\"marker\":{\"size\":4},\"mode\":\"lines+markers\",\"name\":\"Granada - Lluvia\",\"showlegend\":false,\"x\":{\"dtype\":\"i4\",\"bdata\":\"xgcAAMcHAADIBwAAyQcAAMoHAADLBwAAzAcAAM0HAADOBwAAzwcAANAHAADRBwAA0gcAANMHAADUBwAA1QcAANYHAADXBwAA2AcAANkHAADaBwAA2wcAANwHAADdBwAA3gcAAN8HAADgBwAA4QcAAOIHAADjBwAA5AcAAOUHAADmBwAA5wcAAOgHAADpBwAA\"},\"y\":{\"dtype\":\"i1\",\"bdata\":\"CAkICAQHHBMHBwYOCA4OBQgGBA4XCxMTBwcLDAsECAYLBAoH\"},\"type\":\"scatter\",\"xaxis\":\"x3\",\"yaxis\":\"y3\"},{\"hovertemplate\":\"Huelva\\u003cbr\\u003e%{x}\\u003cbr\\u003eD\\u00edas: %{y}\\u003cextra\\u003e\\u003c\\u002fextra\\u003e\",\"line\":{\"width\":2},\"marker\":{\"size\":4},\"mode\":\"lines+markers\",\"name\":\"Huelva - Lluvia\",\"showlegend\":false,\"x\":{\"dtype\":\"i4\",\"bdata\":\"xgcAAMcHAADIBwAAyQcAAMoHAADLBwAAzAcAAM0HAADOBwAAzwcAANAHAADRBwAA3gcAAN8HAADgBwAA4QcAAOIHAADjBwAA5AcAAOUHAADmBwAA5wcAAOgHAADpBwAA\"},\"y\":{\"dtype\":\"i1\",\"bdata\":\"AgMBAwAFCAQBBgAABwMHCgQCBQICBAUE\"},\"type\":\"scatter\",\"xaxis\":\"x3\",\"yaxis\":\"y3\"},{\"hovertemplate\":\"Ja\\u00e9n\\u003cbr\\u003e%{x}\\u003cbr\\u003eD\\u00edas: %{y}\\u003cextra\\u003e\\u003c\\u002fextra\\u003e\",\"line\":{\"width\":2},\"marker\":{\"size\":4},\"mode\":\"lines+markers\",\"name\":\"Ja\\u00e9n - Lluvia\",\"showlegend\":false,\"x\":{\"dtype\":\"i4\",\"bdata\":\"xgcAAMcHAADIBwAAyQcAAMoHAADLBwAAzAcAAM0HAADOBwAAzwcAANAHAADRBwAA0gcAANMHAADUBwAA1QcAANYHAADXBwAA2AcAANkHAADaBwAA2wcAANwHAADdBwAA3gcAAN8HAADgBwAA4QcAAOIHAADjBwAA5AcAAOUHAADmBwAA5wcAAOgHAADpBwAA\"},\"y\":{\"dtype\":\"i1\",\"bdata\":\"AwcFAQMACgoBBgUJBAYCBAQDCgkLAwgMBQIEBAkGAgECAQYE\"},\"type\":\"scatter\",\"xaxis\":\"x3\",\"yaxis\":\"y3\"},{\"hovertemplate\":\"M\\u00e1laga\\u003cbr\\u003e%{x}\\u003cbr\\u003eD\\u00edas: %{y}\\u003cextra\\u003e\\u003c\\u002fextra\\u003e\",\"line\":{\"width\":2},\"marker\":{\"size\":4},\"mode\":\"lines+markers\",\"name\":\"M\\u00e1laga - Lluvia\",\"showlegend\":false,\"x\":{\"dtype\":\"i4\",\"bdata\":\"xgcAAMcHAADIBwAAyQcAAMoHAADLBwAAzAcAAM0HAADOBwAAzwcAANAHAADRBwAA0gcAANMHAADUBwAA1QcAANYHAADXBwAA2AcAANkHAADaBwAA2wcAANwHAADdBwAA3gcAAN8HAADgBwAA4QcAAOIHAADjBwAA5AcAAOUHAADmBwAA5wcAAOgHAADpBwAA\"},\"y\":{\"dtype\":\"i1\",\"bdata\":\"AQQFAQQEDwkEBAMFBAQEBAkEBwkHBAMGDAEGBAgDAgMFAgUE\"},\"type\":\"scatter\",\"xaxis\":\"x3\",\"yaxis\":\"y3\"},{\"line\":{\"color\":\"red\",\"width\":3},\"marker\":{\"size\":6},\"mode\":\"lines+markers\",\"name\":\"Olas de Calor\",\"x\":{\"dtype\":\"i4\",\"bdata\":\"xgcAAMcHAADIBwAAyQcAAMoHAADLBwAAzAcAAM0HAADOBwAAzwcAANAHAADRBwAA0gcAANMHAADUBwAA1QcAANYHAADXBwAA2AcAANkHAADaBwAA2wcAANwHAADdBwAA3gcAAN8HAADgBwAA4QcAAOIHAADjBwAA5AcAAOUHAADmBwAA5wcAAOgHAADpBwAA\"},\"y\":{\"dtype\":\"f8\",\"bdata\":\"JUmSJEkSSEAAAAAAAIBLQNu2bdu27UVAkiRJkiRJQUDbtm3btm1LQNu2bdu27UNAt23btm3bOkAlSZIkSZI2QNu2bdu2bUhAAAAAAAAARECSJEmSJElGQNu2bdu27UNAVVVVVVXVP0AAAAAAAEBNQAAAAAAAAExAVVVVVVXVS0BVVVVVVVVMQFVVVVVVFUFAq6qqqqoqRUBVVVVVVVVMQAAAAAAAgE1AAAAAAAAASkAAAAAAAABOQFVVVVVVFUxA27Zt27ZtQkAAAAAAAIBLQEmSJEmSpE9ASZIkSZKkTUAAAAAAAABFQJIkSZIkSURASZIkSZKkT0BJkiRJkiRJQEmSJEmSJFJAJUmSJEmSUUCSJEmSJElLQJIkSZIkSR5A\"},\"type\":\"scatter\",\"xaxis\":\"x4\",\"yaxis\":\"y4\"},{\"line\":{\"color\":\"blue\",\"width\":3},\"marker\":{\"size\":6},\"mode\":\"lines+markers\",\"name\":\"Heladas\",\"x\":{\"dtype\":\"i4\",\"bdata\":\"xgcAAMcHAADIBwAAyQcAAMoHAADLBwAAzAcAAM0HAADOBwAAzwcAANAHAADRBwAA0gcAANMHAADUBwAA1QcAANYHAADXBwAA2AcAANkHAADaBwAA2wcAANwHAADdBwAA3gcAAN8HAADgBwAA4QcAAOIHAADjBwAA5AcAAOUHAADmBwAA5wcAAOgHAADpBwAA\"},\"y\":{\"dtype\":\"f8\",\"bdata\":\"27Zt27ZtIUBu27Zt27YvQAAAAAAAADNAbtu2bdu2M0BJkiRJkiQtQCVJkiRJkiJAbtu2bdu2EUDbtm3btm37PwAAAAAAAChASZIkSZIkK0BJkiRJkiQdQG7btm3bthVAq6qqqqqqEECrqqqqqqoiQFVVVVVVVShAAAAAAAAAP0BVVVVVVVUoQFVVVVVVVS1AAAAAAAAAJkBVVVVVVVUpQAAAAAAAACFAq6qqqqqqHkCrqqqqqqo3QFVVVVVVVStAJUmSJEmSHEC3bdu2bdsoQJIkSZIkSRpAAAAAAAAAKEC3bdu2bdskQEmSJEmSJCtAbtu2bdu2GUCSJEmSJEkoQAAAAAAAACJAAAAAAAAALkAlSZIkSZIYQCVJkiRJkhRA\"},\"type\":\"scatter\",\"xaxis\":\"x4\",\"yaxis\":\"y4\"},{\"line\":{\"color\":\"green\",\"width\":3},\"marker\":{\"size\":6},\"mode\":\"lines+markers\",\"name\":\"Lluvia Intensa\",\"x\":{\"dtype\":\"i4\",\"bdata\":\"xgcAAMcHAADIBwAAyQcAAMoHAADLBwAAzAcAAM0HAADOBwAAzwcAANAHAADRBwAA0gcAANMHAADUBwAA1QcAANYHAADXBwAA2AcAANkHAADaBwAA2wcAANwHAADdBwAA3gcAAN8HAADgBwAA4QcAAOIHAADjBwAA5AcAAOUHAADmBwAA5wcAAOgHAADpBwAA\"},\"y\":{\"dtype\":\"f8\",\"bdata\":\"kiRJkiRJHkBu27Zt27YlQEmSJEmSJCFAAAAAAAAAGEBu27Zt27YVQNu2bdu2bSFAt23btm3bOUAAAAAAAAAwQG7btm3bthVAAAAAAAAAIEDbtm3btm0fQAAAAAAAACRAVVVVVVVVJUBVVVVVVVUoQFVVVVVVVRtAq6qqqqqqFkCrqqqqqqolQAAAAAAAACBAVVVVVVVVI0AAAAAAAAAtQAAAAAAAADRAAAAAAAAAHkAAAAAAAAAlQFVVVVVVVSdAt23btm3bJEC3bdu2bdsWQJIkSZIkSSRAt23btm3bHkAAAAAAAAAmQAAAAAAAABBAAAAAAAAAIEBu27Zt27YVQG7btm3btiFAAAAAAAAAEECSJEmSJEkkQNu2bdu2bRtA\"},\"type\":\"scatter\",\"xaxis\":\"x4\",\"yaxis\":\"y4\"}],                        {\"template\":{\"data\":{\"histogram2dcontour\":[{\"type\":\"histogram2dcontour\",\"colorbar\":{\"outlinewidth\":0,\"ticks\":\"\"},\"colorscale\":[[0.0,\"#0d0887\"],[0.1111111111111111,\"#46039f\"],[0.2222222222222222,\"#7201a8\"],[0.3333333333333333,\"#9c179e\"],[0.4444444444444444,\"#bd3786\"],[0.5555555555555556,\"#d8576b\"],[0.6666666666666666,\"#ed7953\"],[0.7777777777777778,\"#fb9f3a\"],[0.8888888888888888,\"#fdca26\"],[1.0,\"#f0f921\"]]}],\"choropleth\":[{\"type\":\"choropleth\",\"colorbar\":{\"outlinewidth\":0,\"ticks\":\"\"}}],\"histogram2d\":[{\"type\":\"histogram2d\",\"colorbar\":{\"outlinewidth\":0,\"ticks\":\"\"},\"colorscale\":[[0.0,\"#0d0887\"],[0.1111111111111111,\"#46039f\"],[0.2222222222222222,\"#7201a8\"],[0.3333333333333333,\"#9c179e\"],[0.4444444444444444,\"#bd3786\"],[0.5555555555555556,\"#d8576b\"],[0.6666666666666666,\"#ed7953\"],[0.7777777777777778,\"#fb9f3a\"],[0.8888888888888888,\"#fdca26\"],[1.0,\"#f0f921\"]]}],\"heatmap\":[{\"type\":\"heatmap\",\"colorbar\":{\"outlinewidth\":0,\"ticks\":\"\"},\"colorscale\":[[0.0,\"#0d0887\"],[0.1111111111111111,\"#46039f\"],[0.2222222222222222,\"#7201a8\"],[0.3333333333333333,\"#9c179e\"],[0.4444444444444444,\"#bd3786\"],[0.5555555555555556,\"#d8576b\"],[0.6666666666666666,\"#ed7953\"],[0.7777777777777778,\"#fb9f3a\"],[0.8888888888888888,\"#fdca26\"],[1.0,\"#f0f921\"]]}],\"contourcarpet\":[{\"type\":\"contourcarpet\",\"colorbar\":{\"outlinewidth\":0,\"ticks\":\"\"}}],\"contour\":[{\"type\":\"contour\",\"colorbar\":{\"outlinewidth\":0,\"ticks\":\"\"},\"colorscale\":[[0.0,\"#0d0887\"],[0.1111111111111111,\"#46039f\"],[0.2222222222222222,\"#7201a8\"],[0.3333333333333333,\"#9c179e\"],[0.4444444444444444,\"#bd3786\"],[0.5555555555555556,\"#d8576b\"],[0.6666666666666666,\"#ed7953\"],[0.7777777777777778,\"#fb9f3a\"],[0.8888888888888888,\"#fdca26\"],[1.0,\"#f0f921\"]]}],\"surface\":[{\"type\":\"surface\",\"colorbar\":{\"outlinewidth\":0,\"ticks\":\"\"},\"colorscale\":[[0.0,\"#0d0887\"],[0.1111111111111111,\"#46039f\"],[0.2222222222222222,\"#7201a8\"],[0.3333333333333333,\"#9c179e\"],[0.4444444444444444,\"#bd3786\"],[0.5555555555555556,\"#d8576b\"],[0.6666666666666666,\"#ed7953\"],[0.7777777777777778,\"#fb9f3a\"],[0.8888888888888888,\"#fdca26\"],[1.0,\"#f0f921\"]]}],\"mesh3d\":[{\"type\":\"mesh3d\",\"colorbar\":{\"outlinewidth\":0,\"ticks\":\"\"}}],\"scatter\":[{\"fillpattern\":{\"fillmode\":\"overlay\",\"size\":10,\"solidity\":0.2},\"type\":\"scatter\"}],\"parcoords\":[{\"type\":\"parcoords\",\"line\":{\"colorbar\":{\"outlinewidth\":0,\"ticks\":\"\"}}}],\"scatterpolargl\":[{\"type\":\"scatterpolargl\",\"marker\":{\"colorbar\":{\"outlinewidth\":0,\"ticks\":\"\"}}}],\"bar\":[{\"error_x\":{\"color\":\"#2a3f5f\"},\"error_y\":{\"color\":\"#2a3f5f\"},\"marker\":{\"line\":{\"color\":\"#E5ECF6\",\"width\":0.5},\"pattern\":{\"fillmode\":\"overlay\",\"size\":10,\"solidity\":0.2}},\"type\":\"bar\"}],\"scattergeo\":[{\"type\":\"scattergeo\",\"marker\":{\"colorbar\":{\"outlinewidth\":0,\"ticks\":\"\"}}}],\"scatterpolar\":[{\"type\":\"scatterpolar\",\"marker\":{\"colorbar\":{\"outlinewidth\":0,\"ticks\":\"\"}}}],\"histogram\":[{\"marker\":{\"pattern\":{\"fillmode\":\"overlay\",\"size\":10,\"solidity\":0.2}},\"type\":\"histogram\"}],\"scattergl\":[{\"type\":\"scattergl\",\"marker\":{\"colorbar\":{\"outlinewidth\":0,\"ticks\":\"\"}}}],\"scatter3d\":[{\"type\":\"scatter3d\",\"line\":{\"colorbar\":{\"outlinewidth\":0,\"ticks\":\"\"}},\"marker\":{\"colorbar\":{\"outlinewidth\":0,\"ticks\":\"\"}}}],\"scattermap\":[{\"type\":\"scattermap\",\"marker\":{\"colorbar\":{\"outlinewidth\":0,\"ticks\":\"\"}}}],\"scattermapbox\":[{\"type\":\"scattermapbox\",\"marker\":{\"colorbar\":{\"outlinewidth\":0,\"ticks\":\"\"}}}],\"scatterternary\":[{\"type\":\"scatterternary\",\"marker\":{\"colorbar\":{\"outlinewidth\":0,\"ticks\":\"\"}}}],\"scattercarpet\":[{\"type\":\"scattercarpet\",\"marker\":{\"colorbar\":{\"outlinewidth\":0,\"ticks\":\"\"}}}],\"carpet\":[{\"aaxis\":{\"endlinecolor\":\"#2a3f5f\",\"gridcolor\":\"white\",\"linecolor\":\"white\",\"minorgridcolor\":\"white\",\"startlinecolor\":\"#2a3f5f\"},\"baxis\":{\"endlinecolor\":\"#2a3f5f\",\"gridcolor\":\"white\",\"linecolor\":\"white\",\"minorgridcolor\":\"white\",\"startlinecolor\":\"#2a3f5f\"},\"type\":\"carpet\"}],\"table\":[{\"cells\":{\"fill\":{\"color\":\"#EBF0F8\"},\"line\":{\"color\":\"white\"}},\"header\":{\"fill\":{\"color\":\"#C8D4E3\"},\"line\":{\"color\":\"white\"}},\"type\":\"table\"}],\"barpolar\":[{\"marker\":{\"line\":{\"color\":\"#E5ECF6\",\"width\":0.5},\"pattern\":{\"fillmode\":\"overlay\",\"size\":10,\"solidity\":0.2}},\"type\":\"barpolar\"}],\"pie\":[{\"automargin\":true,\"type\":\"pie\"}]},\"layout\":{\"autotypenumbers\":\"strict\",\"colorway\":[\"#636efa\",\"#EF553B\",\"#00cc96\",\"#ab63fa\",\"#FFA15A\",\"#19d3f3\",\"#FF6692\",\"#B6E880\",\"#FF97FF\",\"#FECB52\"],\"font\":{\"color\":\"#2a3f5f\"},\"hovermode\":\"closest\",\"hoverlabel\":{\"align\":\"left\"},\"paper_bgcolor\":\"white\",\"plot_bgcolor\":\"#E5ECF6\",\"polar\":{\"bgcolor\":\"#E5ECF6\",\"angularaxis\":{\"gridcolor\":\"white\",\"linecolor\":\"white\",\"ticks\":\"\"},\"radialaxis\":{\"gridcolor\":\"white\",\"linecolor\":\"white\",\"ticks\":\"\"}},\"ternary\":{\"bgcolor\":\"#E5ECF6\",\"aaxis\":{\"gridcolor\":\"white\",\"linecolor\":\"white\",\"ticks\":\"\"},\"baxis\":{\"gridcolor\":\"white\",\"linecolor\":\"white\",\"ticks\":\"\"},\"caxis\":{\"gridcolor\":\"white\",\"linecolor\":\"white\",\"ticks\":\"\"}},\"coloraxis\":{\"colorbar\":{\"outlinewidth\":0,\"ticks\":\"\"}},\"colorscale\":{\"sequential\":[[0.0,\"#0d0887\"],[0.1111111111111111,\"#46039f\"],[0.2222222222222222,\"#7201a8\"],[0.3333333333333333,\"#9c179e\"],[0.4444444444444444,\"#bd3786\"],[0.5555555555555556,\"#d8576b\"],[0.6666666666666666,\"#ed7953\"],[0.7777777777777778,\"#fb9f3a\"],[0.8888888888888888,\"#fdca26\"],[1.0,\"#f0f921\"]],\"sequentialminus\":[[0.0,\"#0d0887\"],[0.1111111111111111,\"#46039f\"],[0.2222222222222222,\"#7201a8\"],[0.3333333333333333,\"#9c179e\"],[0.4444444444444444,\"#bd3786\"],[0.5555555555555556,\"#d8576b\"],[0.6666666666666666,\"#ed7953\"],[0.7777777777777778,\"#fb9f3a\"],[0.8888888888888888,\"#fdca26\"],[1.0,\"#f0f921\"]],\"diverging\":[[0,\"#8e0152\"],[0.1,\"#c51b7d\"],[0.2,\"#de77ae\"],[0.3,\"#f1b6da\"],[0.4,\"#fde0ef\"],[0.5,\"#f7f7f7\"],[0.6,\"#e6f5d0\"],[0.7,\"#b8e186\"],[0.8,\"#7fbc41\"],[0.9,\"#4d9221\"],[1,\"#276419\"]]},\"xaxis\":{\"gridcolor\":\"white\",\"linecolor\":\"white\",\"ticks\":\"\",\"title\":{\"standoff\":15},\"zerolinecolor\":\"white\",\"automargin\":true,\"zerolinewidth\":2},\"yaxis\":{\"gridcolor\":\"white\",\"linecolor\":\"white\",\"ticks\":\"\",\"title\":{\"standoff\":15},\"zerolinecolor\":\"white\",\"automargin\":true,\"zerolinewidth\":2},\"scene\":{\"xaxis\":{\"backgroundcolor\":\"#E5ECF6\",\"gridcolor\":\"white\",\"linecolor\":\"white\",\"showbackground\":true,\"ticks\":\"\",\"zerolinecolor\":\"white\",\"gridwidth\":2},\"yaxis\":{\"backgroundcolor\":\"#E5ECF6\",\"gridcolor\":\"white\",\"linecolor\":\"white\",\"showbackground\":true,\"ticks\":\"\",\"zerolinecolor\":\"white\",\"gridwidth\":2},\"zaxis\":{\"backgroundcolor\":\"#E5ECF6\",\"gridcolor\":\"white\",\"linecolor\":\"white\",\"showbackground\":true,\"ticks\":\"\",\"zerolinecolor\":\"white\",\"gridwidth\":2}},\"shapedefaults\":{\"line\":{\"color\":\"#2a3f5f\"}},\"annotationdefaults\":{\"arrowcolor\":\"#2a3f5f\",\"arrowhead\":0,\"arrowwidth\":1},\"geo\":{\"bgcolor\":\"white\",\"landcolor\":\"#E5ECF6\",\"subunitcolor\":\"white\",\"showland\":true,\"showlakes\":true,\"lakecolor\":\"white\"},\"title\":{\"x\":0.05},\"mapbox\":{\"style\":\"light\"}}},\"xaxis\":{\"anchor\":\"y\",\"domain\":[0.0,0.45],\"title\":{\"text\":\"A\\u00f1o\"}},\"yaxis\":{\"anchor\":\"x\",\"domain\":[0.56,1.0],\"title\":{\"text\":\"D\\u00edas por a\\u00f1o\"}},\"xaxis2\":{\"anchor\":\"y2\",\"domain\":[0.55,1.0],\"title\":{\"text\":\"A\\u00f1o\"}},\"yaxis2\":{\"anchor\":\"x2\",\"domain\":[0.56,1.0],\"title\":{\"text\":\"D\\u00edas por a\\u00f1o\"}},\"xaxis3\":{\"anchor\":\"y3\",\"domain\":[0.0,0.45],\"title\":{\"text\":\"A\\u00f1o\"}},\"yaxis3\":{\"anchor\":\"x3\",\"domain\":[0.0,0.44],\"title\":{\"text\":\"D\\u00edas por a\\u00f1o\"}},\"xaxis4\":{\"anchor\":\"y4\",\"domain\":[0.55,1.0],\"title\":{\"text\":\"A\\u00f1o\"}},\"yaxis4\":{\"anchor\":\"x4\",\"domain\":[0.0,0.44],\"title\":{\"text\":\"D\\u00edas por a\\u00f1o\"}},\"annotations\":[{\"font\":{\"size\":16},\"showarrow\":false,\"text\":\"D\\u00edas con Olas de Calor (\\u226535\\u00b0C)\",\"x\":0.225,\"xanchor\":\"center\",\"xref\":\"paper\",\"y\":1.0,\"yanchor\":\"bottom\",\"yref\":\"paper\"},{\"font\":{\"size\":16},\"showarrow\":false,\"text\":\"D\\u00edas con Heladas (\\u22640\\u00b0C)\",\"x\":0.775,\"xanchor\":\"center\",\"xref\":\"paper\",\"y\":1.0,\"yanchor\":\"bottom\",\"yref\":\"paper\"},{\"font\":{\"size\":16},\"showarrow\":false,\"text\":\"D\\u00edas con Lluvia Intensa (\\u226520mm)\",\"x\":0.225,\"xanchor\":\"center\",\"xref\":\"paper\",\"y\":0.44,\"yanchor\":\"bottom\",\"yref\":\"paper\"},{\"font\":{\"size\":16},\"showarrow\":false,\"text\":\"Tendencias de Eventos Extremos\",\"x\":0.775,\"xanchor\":\"center\",\"xref\":\"paper\",\"y\":0.44,\"yanchor\":\"bottom\",\"yref\":\"paper\"}],\"title\":{\"font\":{\"size\":18,\"color\":\"#DC143C\"},\"text\":\"\\u26a0\\ufe0f An\\u00e1lisis de Eventos Extremos en Andaluc\\u00eda (1990-2024)\",\"x\":0.5},\"height\":700,\"showlegend\":true},                        {\"responsive\": true}                    ).then(function(){\n",
       "                            \n",
       "var gd = document.getElementById('be593d2f-a7c0-4b5e-8db1-f082ac297668');\n",
       "var x = new MutationObserver(function (mutations, observer) {{\n",
       "        var display = window.getComputedStyle(gd).display;\n",
       "        if (!display || display === 'none') {{\n",
       "            console.log([gd, 'removed!']);\n",
       "            Plotly.purge(gd);\n",
       "            observer.disconnect();\n",
       "        }}\n",
       "}});\n",
       "\n",
       "// Listen for the removal of the full notebook cells\n",
       "var notebookContainer = gd.closest('#notebook-container');\n",
       "if (notebookContainer) {{\n",
       "    x.observe(notebookContainer, {childList: true});\n",
       "}}\n",
       "\n",
       "// Listen for the clearing of the current output cell\n",
       "var outputEl = gd.closest('.output');\n",
       "if (outputEl) {{\n",
       "    x.observe(outputEl, {childList: true});\n",
       "}}\n",
       "\n",
       "                        })                };            </script>        </div>"
      ]
     },
     "metadata": {},
     "output_type": "display_data"
    },
    {
     "name": "stdout",
     "output_type": "stream",
     "text": [
      "\n",
      "📊 Estadísticas de Riesgo por Provincia (1990-2024):\n"
     ]
    },
    {
     "data": {
      "text/html": [
       "<div>\n",
       "<style scoped>\n",
       "    .dataframe tbody tr th:only-of-type {\n",
       "        vertical-align: middle;\n",
       "    }\n",
       "\n",
       "    .dataframe tbody tr th {\n",
       "        vertical-align: top;\n",
       "    }\n",
       "\n",
       "    .dataframe thead th {\n",
       "        text-align: right;\n",
       "    }\n",
       "</style>\n",
       "<table border=\"1\" class=\"dataframe\">\n",
       "  <thead>\n",
       "    <tr style=\"text-align: right;\">\n",
       "      <th></th>\n",
       "      <th>EVENTO_OLA_CALOR_mean</th>\n",
       "      <th>EVENTO_OLA_CALOR_max</th>\n",
       "      <th>EVENTO_OLA_CALOR_std</th>\n",
       "      <th>EVENTO_HELADA_mean</th>\n",
       "      <th>EVENTO_HELADA_max</th>\n",
       "      <th>EVENTO_HELADA_std</th>\n",
       "      <th>EVENTO_LLUVIA_INTENSA_mean</th>\n",
       "      <th>EVENTO_LLUVIA_INTENSA_max</th>\n",
       "      <th>EVENTO_LLUVIA_INTENSA_std</th>\n",
       "      <th>EVENTO_CALOR_EXTREMO_mean</th>\n",
       "      <th>EVENTO_CALOR_EXTREMO_max</th>\n",
       "      <th>EVENTO_CALOR_EXTREMO_std</th>\n",
       "    </tr>\n",
       "    <tr>\n",
       "      <th>PROVINCIA</th>\n",
       "      <th></th>\n",
       "      <th></th>\n",
       "      <th></th>\n",
       "      <th></th>\n",
       "      <th></th>\n",
       "      <th></th>\n",
       "      <th></th>\n",
       "      <th></th>\n",
       "      <th></th>\n",
       "      <th></th>\n",
       "      <th></th>\n",
       "      <th></th>\n",
       "    </tr>\n",
       "  </thead>\n",
       "  <tbody>\n",
       "    <tr>\n",
       "      <th>Almería</th>\n",
       "      <td>10.2</td>\n",
       "      <td>25</td>\n",
       "      <td>5.8</td>\n",
       "      <td>0.0</td>\n",
       "      <td>0</td>\n",
       "      <td>0.0</td>\n",
       "      <td>2.1</td>\n",
       "      <td>6</td>\n",
       "      <td>1.6</td>\n",
       "      <td>0.3</td>\n",
       "      <td>3</td>\n",
       "      <td>0.7</td>\n",
       "    </tr>\n",
       "    <tr>\n",
       "      <th>Cádiz</th>\n",
       "      <td>112.7</td>\n",
       "      <td>160</td>\n",
       "      <td>31.8</td>\n",
       "      <td>7.7</td>\n",
       "      <td>26</td>\n",
       "      <td>7.8</td>\n",
       "      <td>30.2</td>\n",
       "      <td>100</td>\n",
       "      <td>15.8</td>\n",
       "      <td>14.9</td>\n",
       "      <td>41</td>\n",
       "      <td>9.8</td>\n",
       "    </tr>\n",
       "    <tr>\n",
       "      <th>Córdoba</th>\n",
       "      <td>67.1</td>\n",
       "      <td>95</td>\n",
       "      <td>15.6</td>\n",
       "      <td>12.3</td>\n",
       "      <td>40</td>\n",
       "      <td>9.5</td>\n",
       "      <td>7.6</td>\n",
       "      <td>21</td>\n",
       "      <td>4.2</td>\n",
       "      <td>16.2</td>\n",
       "      <td>37</td>\n",
       "      <td>8.7</td>\n",
       "    </tr>\n",
       "    <tr>\n",
       "      <th>Granada</th>\n",
       "      <td>60.2</td>\n",
       "      <td>98</td>\n",
       "      <td>20.1</td>\n",
       "      <td>47.9</td>\n",
       "      <td>86</td>\n",
       "      <td>17.1</td>\n",
       "      <td>10.2</td>\n",
       "      <td>28</td>\n",
       "      <td>5.6</td>\n",
       "      <td>7.1</td>\n",
       "      <td>30</td>\n",
       "      <td>8.3</td>\n",
       "    </tr>\n",
       "    <tr>\n",
       "      <th>Huelva</th>\n",
       "      <td>14.7</td>\n",
       "      <td>36</td>\n",
       "      <td>11.7</td>\n",
       "      <td>0.7</td>\n",
       "      <td>6</td>\n",
       "      <td>1.5</td>\n",
       "      <td>3.7</td>\n",
       "      <td>10</td>\n",
       "      <td>2.6</td>\n",
       "      <td>1.1</td>\n",
       "      <td>6</td>\n",
       "      <td>1.6</td>\n",
       "    </tr>\n",
       "    <tr>\n",
       "      <th>Jaén</th>\n",
       "      <td>31.2</td>\n",
       "      <td>66</td>\n",
       "      <td>16.2</td>\n",
       "      <td>3.1</td>\n",
       "      <td>11</td>\n",
       "      <td>2.9</td>\n",
       "      <td>5.1</td>\n",
       "      <td>12</td>\n",
       "      <td>3.3</td>\n",
       "      <td>2.1</td>\n",
       "      <td>13</td>\n",
       "      <td>3.2</td>\n",
       "    </tr>\n",
       "    <tr>\n",
       "      <th>Málaga</th>\n",
       "      <td>28.7</td>\n",
       "      <td>69</td>\n",
       "      <td>16.7</td>\n",
       "      <td>3.5</td>\n",
       "      <td>25</td>\n",
       "      <td>5.4</td>\n",
       "      <td>5.0</td>\n",
       "      <td>15</td>\n",
       "      <td>3.0</td>\n",
       "      <td>5.4</td>\n",
       "      <td>31</td>\n",
       "      <td>6.5</td>\n",
       "    </tr>\n",
       "  </tbody>\n",
       "</table>\n",
       "</div>"
      ],
      "text/plain": [
       "           EVENTO_OLA_CALOR_mean  EVENTO_OLA_CALOR_max  EVENTO_OLA_CALOR_std  \\\n",
       "PROVINCIA                                                                      \n",
       "Almería                     10.2                    25                   5.8   \n",
       "Cádiz                      112.7                   160                  31.8   \n",
       "Córdoba                     67.1                    95                  15.6   \n",
       "Granada                     60.2                    98                  20.1   \n",
       "Huelva                      14.7                    36                  11.7   \n",
       "Jaén                        31.2                    66                  16.2   \n",
       "Málaga                      28.7                    69                  16.7   \n",
       "\n",
       "           EVENTO_HELADA_mean  EVENTO_HELADA_max  EVENTO_HELADA_std  \\\n",
       "PROVINCIA                                                             \n",
       "Almería                   0.0                  0                0.0   \n",
       "Cádiz                     7.7                 26                7.8   \n",
       "Córdoba                  12.3                 40                9.5   \n",
       "Granada                  47.9                 86               17.1   \n",
       "Huelva                    0.7                  6                1.5   \n",
       "Jaén                      3.1                 11                2.9   \n",
       "Málaga                    3.5                 25                5.4   \n",
       "\n",
       "           EVENTO_LLUVIA_INTENSA_mean  EVENTO_LLUVIA_INTENSA_max  \\\n",
       "PROVINCIA                                                          \n",
       "Almería                           2.1                          6   \n",
       "Cádiz                            30.2                        100   \n",
       "Córdoba                           7.6                         21   \n",
       "Granada                          10.2                         28   \n",
       "Huelva                            3.7                         10   \n",
       "Jaén                              5.1                         12   \n",
       "Málaga                            5.0                         15   \n",
       "\n",
       "           EVENTO_LLUVIA_INTENSA_std  EVENTO_CALOR_EXTREMO_mean  \\\n",
       "PROVINCIA                                                         \n",
       "Almería                          1.6                        0.3   \n",
       "Cádiz                           15.8                       14.9   \n",
       "Córdoba                          4.2                       16.2   \n",
       "Granada                          5.6                        7.1   \n",
       "Huelva                           2.6                        1.1   \n",
       "Jaén                             3.3                        2.1   \n",
       "Málaga                           3.0                        5.4   \n",
       "\n",
       "           EVENTO_CALOR_EXTREMO_max  EVENTO_CALOR_EXTREMO_std  \n",
       "PROVINCIA                                                      \n",
       "Almería                           3                       0.7  \n",
       "Cádiz                            41                       9.8  \n",
       "Córdoba                          37                       8.7  \n",
       "Granada                          30                       8.3  \n",
       "Huelva                            6                       1.6  \n",
       "Jaén                             13                       3.2  \n",
       "Málaga                           31                       6.5  "
      ]
     },
     "metadata": {},
     "output_type": "display_data"
    }
   ],
   "source": [
    "### 5.2 Análisis de Eventos Extremos y Riesgos Agrícolas\n",
    "\n",
    "print(\"⚠️ Analizando eventos extremos y riesgos para la agricultura...\")\n",
    "\n",
    "# Definir umbrales de eventos extremos\n",
    "umbrales_extremos = {\n",
    "    'ola_calor': 35,        # Temperatura máxima ≥ 35°C\n",
    "    'calor_extremo': 40,    # Temperatura máxima ≥ 40°C\n",
    "    'helada': 0,            # Temperatura mínima ≤ 0°C\n",
    "    'helada_severa': -5,    # Temperatura mínima ≤ -5°C\n",
    "    'sequia_diaria': 1,     # Días sin precipitación significativa\n",
    "    'lluvia_intensa': 20,   # Precipitación diaria ≥ 20mm\n",
    "    'lluvia_extrema': 50    # Precipitación diaria ≥ 50mm\n",
    "}\n",
    "\n",
    "# Calcular eventos extremos\n",
    "andalucia_df['EVENTO_OLA_CALOR'] = (andalucia_df['TMAX'] >= umbrales_extremos['ola_calor']).astype(int)\n",
    "andalucia_df['EVENTO_CALOR_EXTREMO'] = (andalucia_df['TMAX'] >= umbrales_extremos['calor_extremo']).astype(int)\n",
    "andalucia_df['EVENTO_HELADA'] = (andalucia_df['TMIN'] <= umbrales_extremos['helada']).astype(int)\n",
    "andalucia_df['EVENTO_HELADA_SEVERA'] = (andalucia_df['TMIN'] <= umbrales_extremos['helada_severa']).astype(int)\n",
    "andalucia_df['EVENTO_SEQUIA'] = (andalucia_df['PRCP'] <= umbrales_extremos['sequia_diaria']).astype(int)\n",
    "andalucia_df['EVENTO_LLUVIA_INTENSA'] = (andalucia_df['PRCP'] >= umbrales_extremos['lluvia_intensa']).astype(int)\n",
    "andalucia_df['EVENTO_LLUVIA_EXTREMA'] = (andalucia_df['PRCP'] >= umbrales_extremos['lluvia_extrema']).astype(int)\n",
    "\n",
    "# Análisis anual de eventos extremos\n",
    "eventos_anuales = andalucia_df.groupby(['AÑO', 'PROVINCIA']).agg({\n",
    "    'EVENTO_OLA_CALOR': 'sum',\n",
    "    'EVENTO_CALOR_EXTREMO': 'sum',\n",
    "    'EVENTO_HELADA': 'sum',\n",
    "    'EVENTO_HELADA_SEVERA': 'sum',\n",
    "    'EVENTO_SEQUIA': 'sum',\n",
    "    'EVENTO_LLUVIA_INTENSA': 'sum',\n",
    "    'EVENTO_LLUVIA_EXTREMA': 'sum'\n",
    "}).reset_index()\n",
    "\n",
    "# Filtrar desde 1990 para análisis de tendencias\n",
    "eventos_recientes = eventos_anuales[eventos_anuales['AÑO'] >= 1990]\n",
    "\n",
    "# Crear visualización de eventos extremos\n",
    "fig_eventos = make_subplots(\n",
    "    rows=2, cols=2,\n",
    "    subplot_titles=('Días con Olas de Calor (≥35°C)', 'Días con Heladas (≤0°C)',\n",
    "                   'Días con Lluvia Intensa (≥20mm)', 'Tendencias de Eventos Extremos'),\n",
    "    vertical_spacing=0.12,\n",
    "    horizontal_spacing=0.1\n",
    ")\n",
    "\n",
    "# 1. Olas de calor por provincia\n",
    "for provincia in eventos_recientes['PROVINCIA'].unique():\n",
    "    data_prov = eventos_recientes[eventos_recientes['PROVINCIA'] == provincia]\n",
    "    fig_eventos.add_trace(\n",
    "        go.Scatter(x=data_prov['AÑO'], y=data_prov['EVENTO_OLA_CALOR'],\n",
    "                  mode='lines+markers', name=f'{provincia} - Calor',\n",
    "                  line=dict(width=2), marker=dict(size=4),\n",
    "                  hovertemplate=f'{provincia}<br>%{{x}}<br>Días: %{{y}}<extra></extra>'),\n",
    "        row=1, col=1\n",
    "    )\n",
    "\n",
    "# 2. Heladas por provincia\n",
    "for provincia in eventos_recientes['PROVINCIA'].unique():\n",
    "    data_prov = eventos_recientes[eventos_recientes['PROVINCIA'] == provincia]\n",
    "    fig_eventos.add_trace(\n",
    "        go.Scatter(x=data_prov['AÑO'], y=data_prov['EVENTO_HELADA'],\n",
    "                  mode='lines+markers', name=f'{provincia} - Heladas',\n",
    "                  line=dict(width=2), marker=dict(size=4),\n",
    "                  hovertemplate=f'{provincia}<br>%{{x}}<br>Días: %{{y}}<extra></extra>',\n",
    "                  showlegend=False),\n",
    "        row=1, col=2\n",
    "    )\n",
    "\n",
    "# 3. Lluvia intensa\n",
    "for provincia in eventos_recientes['PROVINCIA'].unique():\n",
    "    data_prov = eventos_recientes[eventos_recientes['PROVINCIA'] == provincia]\n",
    "    fig_eventos.add_trace(\n",
    "        go.Scatter(x=data_prov['AÑO'], y=data_prov['EVENTO_LLUVIA_INTENSA'],\n",
    "                  mode='lines+markers', name=f'{provincia} - Lluvia',\n",
    "                  line=dict(width=2), marker=dict(size=4),\n",
    "                  hovertemplate=f'{provincia}<br>%{{x}}<br>Días: %{{y}}<extra></extra>',\n",
    "                  showlegend=False),\n",
    "        row=2, col=1\n",
    "    )\n",
    "\n",
    "# 4. Tendencias agregadas de Andalucía\n",
    "eventos_andalucia = eventos_recientes.groupby('AÑO').agg({\n",
    "    'EVENTO_OLA_CALOR': 'mean',\n",
    "    'EVENTO_HELADA': 'mean',\n",
    "    'EVENTO_LLUVIA_INTENSA': 'mean',\n",
    "    'EVENTO_CALOR_EXTREMO': 'mean'\n",
    "}).reset_index()\n",
    "\n",
    "fig_eventos.add_trace(\n",
    "    go.Scatter(x=eventos_andalucia['AÑO'], y=eventos_andalucia['EVENTO_OLA_CALOR'],\n",
    "              mode='lines+markers', name='Olas de Calor',\n",
    "              line=dict(color='red', width=3), marker=dict(size=6)),\n",
    "    row=2, col=2\n",
    ")\n",
    "\n",
    "fig_eventos.add_trace(\n",
    "    go.Scatter(x=eventos_andalucia['AÑO'], y=eventos_andalucia['EVENTO_HELADA'],\n",
    "              mode='lines+markers', name='Heladas',\n",
    "              line=dict(color='blue', width=3), marker=dict(size=6)),\n",
    "    row=2, col=2\n",
    ")\n",
    "\n",
    "fig_eventos.add_trace(\n",
    "    go.Scatter(x=eventos_andalucia['AÑO'], y=eventos_andalucia['EVENTO_LLUVIA_INTENSA'],\n",
    "              mode='lines+markers', name='Lluvia Intensa',\n",
    "              line=dict(color='green', width=3), marker=dict(size=6)),\n",
    "    row=2, col=2\n",
    ")\n",
    "\n",
    "fig_eventos.update_layout(\n",
    "    title={\n",
    "        'text': \"⚠️ Análisis de Eventos Extremos en Andalucía (1990-2024)\",\n",
    "        'x': 0.5,\n",
    "        'font': {'size': 18, 'color': COLORS_ANDALUCIA['warning']}\n",
    "    },\n",
    "    height=700,\n",
    "    showlegend=True\n",
    ")\n",
    "\n",
    "# Actualizar ejes\n",
    "fig_eventos.update_xaxes(title_text=\"Año\")\n",
    "fig_eventos.update_yaxes(title_text=\"Días por año\")\n",
    "\n",
    "fig_eventos.show()\n",
    "\n",
    "# Estadísticas de riesgo por provincia\n",
    "print(\"\\n📊 Estadísticas de Riesgo por Provincia (1990-2024):\")\n",
    "riesgo_provincia = eventos_recientes.groupby('PROVINCIA').agg({\n",
    "    'EVENTO_OLA_CALOR': ['mean', 'max', 'std'],\n",
    "    'EVENTO_HELADA': ['mean', 'max', 'std'],\n",
    "    'EVENTO_LLUVIA_INTENSA': ['mean', 'max', 'std'],\n",
    "    'EVENTO_CALOR_EXTREMO': ['mean', 'max', 'std']\n",
    "}).round(1)\n",
    "\n",
    "riesgo_provincia.columns = ['_'.join(col).strip() for col in riesgo_provincia.columns.values]\n",
    "display(riesgo_provincia)"
   ]
  },
  {
   "cell_type": "markdown",
   "id": "974e6942",
   "metadata": {},
   "source": [
    "## 6. 🗺️ Zonificación Agroclimática de Andalucía\n",
    "\n",
    "Clasificamos las zonas de Andalucía según su aptitud climática para diferentes tipos de agricultura."
   ]
  },
  {
   "cell_type": "code",
   "execution_count": 13,
   "id": "e308dd91",
   "metadata": {},
   "outputs": [
    {
     "name": "stdout",
     "output_type": "stream",
     "text": [
      "🗺️ Realizando zonificación agroclimática de Andalucía...\n"
     ]
    },
    {
     "data": {
      "application/vnd.plotly.v1+json": {
       "config": {
        "plotlyServerURL": "https://plot.ly"
       },
       "data": [
        {
         "hovertemplate": "Zona Atlántica<br>Provincia: %{text}<br>Temp: %{x:.1f}°C<br>Precipitación: %{y:.1f}mm<extra></extra>",
         "marker": {
          "color": "#4169E1",
          "size": 15
         },
         "mode": "markers+text",
         "name": "Zona Atlántica",
         "text": [
          "Almería"
         ],
         "textposition": "top center",
         "type": "scatter",
         "x": {
          "bdata": "lwXP6XoAM0A=",
          "dtype": "f8"
         },
         "xaxis": "x",
         "y": {
          "bdata": "rx4iahUL4j8=",
          "dtype": "f8"
         },
         "yaxis": "y"
        },
        {
         "hovertemplate": "Zona Mediterránea<br>Provincia: %{text}<br>Temp: %{x:.1f}°C<br>Precipitación: %{y:.1f}mm<extra></extra>",
         "marker": {
          "color": "#228B22",
          "size": 15
         },
         "mode": "markers+text",
         "name": "Zona Mediterránea",
         "text": [
          "Cádiz",
          "Granada",
          "Huelva",
          "Jaén",
          "Málaga"
         ],
         "textposition": "top center",
         "type": "scatter",
         "x": {
          "bdata": "lU+BtjFaMkCp83KPmUQxQIxF/cpJKTJAeWgT4kCCMUBkB6QCEa4yQA==",
          "dtype": "f8"
         },
         "xaxis": "x",
         "y": {
          "bdata": "Qwr2Rml2+T+Rj2xSQn/2P2H1O7rnHvc/YAQEYDJt9T+oUYUSLkb7Pw==",
          "dtype": "f8"
         },
         "yaxis": "y"
        },
        {
         "hovertemplate": "Zona Continental<br>Provincia: %{text}<br>Temp: %{x:.1f}°C<br>Precipitación: %{y:.1f}mm<extra></extra>",
         "marker": {
          "color": "#8B4513",
          "size": 15
         },
         "mode": "markers+text",
         "name": "Zona Continental",
         "text": [
          "Córdoba"
         ],
         "textposition": "top center",
         "type": "scatter",
         "x": {
          "bdata": "PzlxYc0XMkA=",
          "dtype": "f8"
         },
         "xaxis": "x",
         "y": {
          "bdata": "4MmVZXk8+j8=",
          "dtype": "f8"
         },
         "yaxis": "y"
        },
        {
         "hovertemplate": "Zona Atlántica<br>Provincia: %{text}<br>GDD: %{x:.0f}<br>Amplitud: %{y:.1f}°C<extra></extra>",
         "marker": {
          "color": "#4169E1",
          "size": 15
         },
         "mode": "markers+text",
         "name": "Zona Atlántica",
         "showlegend": false,
         "text": [
          "Almería"
         ],
         "textposition": "top center",
         "type": "scatter",
         "x": {
          "bdata": "lwXP6XoAMkA=",
          "dtype": "f8"
         },
         "xaxis": "x2",
         "y": {
          "bdata": "uAuJOtQfIUA=",
          "dtype": "f8"
         },
         "yaxis": "y2"
        },
        {
         "hovertemplate": "Zona Mediterránea<br>Provincia: %{text}<br>GDD: %{x:.0f}<br>Amplitud: %{y:.1f}°C<extra></extra>",
         "marker": {
          "color": "#228B22",
          "size": 15
         },
         "mode": "markers+text",
         "name": "Zona Mediterránea",
         "showlegend": false,
         "text": [
          "Cádiz",
          "Granada",
          "Huelva",
          "Jaén",
          "Málaga"
         ],
         "textposition": "top center",
         "type": "scatter",
         "x": {
          "bdata": "ETqBfjRaMUAdkWalVkUwQCe8pzZOKTFAynkXeHuCMECJSuojrbExQA==",
          "dtype": "f8"
         },
         "xaxis": "x2",
         "y": {
          "bdata": "WCrm0urqJEAiO8L+1e4mQChUwNWuaCZA3r/tP+r8IkAe4DtaAFsqQA==",
          "dtype": "f8"
         },
         "yaxis": "y2"
        },
        {
         "hovertemplate": "Zona Continental<br>Provincia: %{text}<br>GDD: %{x:.0f}<br>Amplitud: %{y:.1f}°C<extra></extra>",
         "marker": {
          "color": "#8B4513",
          "size": 15
         },
         "mode": "markers+text",
         "name": "Zona Continental",
         "showlegend": false,
         "text": [
          "Córdoba"
         ],
         "textposition": "top center",
         "type": "scatter",
         "x": {
          "bdata": "Ol3orIsYMUA=",
          "dtype": "f8"
         },
         "xaxis": "x2",
         "y": {
          "bdata": "qtzlPlQ7LEA=",
          "dtype": "f8"
         },
         "yaxis": "y2"
        },
        {
         "name": "Olas de Calor",
         "opacity": 0.8,
         "type": "bar",
         "x": [
          "Zona Atlántica",
          "Zona Continental",
          "Zona Mediterránea"
         ],
         "xaxis": "x3",
         "y": {
          "bdata": "sVPf1seilT/pQACJfy/GP3cvkJenfrE/",
          "dtype": "f8"
         },
         "yaxis": "y3"
        },
        {
         "name": "Heladas",
         "opacity": 0.8,
         "type": "bar",
         "x": [
          "Zona Atlántica",
          "Zona Continental",
          "Zona Mediterránea"
         ],
         "xaxis": "x3",
         "y": {
          "bdata": "AAAAAAAAAAAEnKKMgFOkPwLxINfIvIw/",
          "dtype": "f8"
         },
         "yaxis": "y3"
        },
        {
         "name": "Lluvia Intensa",
         "opacity": 0.8,
         "type": "bar",
         "x": [
          "Zona Atlántica",
          "Zona Continental",
          "Zona Mediterránea"
         ],
         "xaxis": "x3",
         "y": {
          "bdata": "MQVhlizOdj8fx5w9Cw+WP3aNejfSLpA/",
          "dtype": "f8"
         },
         "yaxis": "y3"
        }
       ],
       "layout": {
        "annotations": [
         {
          "font": {
           "size": 16
          },
          "showarrow": false,
          "text": "Clasificación por Temperatura y Precipitación",
          "x": 0.225,
          "xanchor": "center",
          "xref": "paper",
          "y": 1,
          "yanchor": "bottom",
          "yref": "paper"
         },
         {
          "font": {
           "size": 16
          },
          "showarrow": false,
          "text": "Grados Día vs Amplitud Térmica",
          "x": 0.775,
          "xanchor": "center",
          "xref": "paper",
          "y": 1,
          "yanchor": "bottom",
          "yref": "paper"
         },
         {
          "font": {
           "size": 16
          },
          "showarrow": false,
          "text": "Riesgos Climáticos por Zona",
          "x": 0.225,
          "xanchor": "center",
          "xref": "paper",
          "y": 0.425,
          "yanchor": "bottom",
          "yref": "paper"
         },
         {
          "font": {
           "size": 16
          },
          "showarrow": false,
          "text": "Recomendaciones por Zona",
          "x": 0.775,
          "xanchor": "center",
          "xref": "paper",
          "y": 0.425,
          "yanchor": "bottom",
          "yref": "paper"
         }
        ],
        "height": 800,
        "showlegend": true,
        "template": {
         "data": {
          "bar": [
           {
            "error_x": {
             "color": "#2a3f5f"
            },
            "error_y": {
             "color": "#2a3f5f"
            },
            "marker": {
             "line": {
              "color": "#E5ECF6",
              "width": 0.5
             },
             "pattern": {
              "fillmode": "overlay",
              "size": 10,
              "solidity": 0.2
             }
            },
            "type": "bar"
           }
          ],
          "barpolar": [
           {
            "marker": {
             "line": {
              "color": "#E5ECF6",
              "width": 0.5
             },
             "pattern": {
              "fillmode": "overlay",
              "size": 10,
              "solidity": 0.2
             }
            },
            "type": "barpolar"
           }
          ],
          "carpet": [
           {
            "aaxis": {
             "endlinecolor": "#2a3f5f",
             "gridcolor": "white",
             "linecolor": "white",
             "minorgridcolor": "white",
             "startlinecolor": "#2a3f5f"
            },
            "baxis": {
             "endlinecolor": "#2a3f5f",
             "gridcolor": "white",
             "linecolor": "white",
             "minorgridcolor": "white",
             "startlinecolor": "#2a3f5f"
            },
            "type": "carpet"
           }
          ],
          "choropleth": [
           {
            "colorbar": {
             "outlinewidth": 0,
             "ticks": ""
            },
            "type": "choropleth"
           }
          ],
          "contour": [
           {
            "colorbar": {
             "outlinewidth": 0,
             "ticks": ""
            },
            "colorscale": [
             [
              0,
              "#0d0887"
             ],
             [
              0.1111111111111111,
              "#46039f"
             ],
             [
              0.2222222222222222,
              "#7201a8"
             ],
             [
              0.3333333333333333,
              "#9c179e"
             ],
             [
              0.4444444444444444,
              "#bd3786"
             ],
             [
              0.5555555555555556,
              "#d8576b"
             ],
             [
              0.6666666666666666,
              "#ed7953"
             ],
             [
              0.7777777777777778,
              "#fb9f3a"
             ],
             [
              0.8888888888888888,
              "#fdca26"
             ],
             [
              1,
              "#f0f921"
             ]
            ],
            "type": "contour"
           }
          ],
          "contourcarpet": [
           {
            "colorbar": {
             "outlinewidth": 0,
             "ticks": ""
            },
            "type": "contourcarpet"
           }
          ],
          "heatmap": [
           {
            "colorbar": {
             "outlinewidth": 0,
             "ticks": ""
            },
            "colorscale": [
             [
              0,
              "#0d0887"
             ],
             [
              0.1111111111111111,
              "#46039f"
             ],
             [
              0.2222222222222222,
              "#7201a8"
             ],
             [
              0.3333333333333333,
              "#9c179e"
             ],
             [
              0.4444444444444444,
              "#bd3786"
             ],
             [
              0.5555555555555556,
              "#d8576b"
             ],
             [
              0.6666666666666666,
              "#ed7953"
             ],
             [
              0.7777777777777778,
              "#fb9f3a"
             ],
             [
              0.8888888888888888,
              "#fdca26"
             ],
             [
              1,
              "#f0f921"
             ]
            ],
            "type": "heatmap"
           }
          ],
          "histogram": [
           {
            "marker": {
             "pattern": {
              "fillmode": "overlay",
              "size": 10,
              "solidity": 0.2
             }
            },
            "type": "histogram"
           }
          ],
          "histogram2d": [
           {
            "colorbar": {
             "outlinewidth": 0,
             "ticks": ""
            },
            "colorscale": [
             [
              0,
              "#0d0887"
             ],
             [
              0.1111111111111111,
              "#46039f"
             ],
             [
              0.2222222222222222,
              "#7201a8"
             ],
             [
              0.3333333333333333,
              "#9c179e"
             ],
             [
              0.4444444444444444,
              "#bd3786"
             ],
             [
              0.5555555555555556,
              "#d8576b"
             ],
             [
              0.6666666666666666,
              "#ed7953"
             ],
             [
              0.7777777777777778,
              "#fb9f3a"
             ],
             [
              0.8888888888888888,
              "#fdca26"
             ],
             [
              1,
              "#f0f921"
             ]
            ],
            "type": "histogram2d"
           }
          ],
          "histogram2dcontour": [
           {
            "colorbar": {
             "outlinewidth": 0,
             "ticks": ""
            },
            "colorscale": [
             [
              0,
              "#0d0887"
             ],
             [
              0.1111111111111111,
              "#46039f"
             ],
             [
              0.2222222222222222,
              "#7201a8"
             ],
             [
              0.3333333333333333,
              "#9c179e"
             ],
             [
              0.4444444444444444,
              "#bd3786"
             ],
             [
              0.5555555555555556,
              "#d8576b"
             ],
             [
              0.6666666666666666,
              "#ed7953"
             ],
             [
              0.7777777777777778,
              "#fb9f3a"
             ],
             [
              0.8888888888888888,
              "#fdca26"
             ],
             [
              1,
              "#f0f921"
             ]
            ],
            "type": "histogram2dcontour"
           }
          ],
          "mesh3d": [
           {
            "colorbar": {
             "outlinewidth": 0,
             "ticks": ""
            },
            "type": "mesh3d"
           }
          ],
          "parcoords": [
           {
            "line": {
             "colorbar": {
              "outlinewidth": 0,
              "ticks": ""
             }
            },
            "type": "parcoords"
           }
          ],
          "pie": [
           {
            "automargin": true,
            "type": "pie"
           }
          ],
          "scatter": [
           {
            "fillpattern": {
             "fillmode": "overlay",
             "size": 10,
             "solidity": 0.2
            },
            "type": "scatter"
           }
          ],
          "scatter3d": [
           {
            "line": {
             "colorbar": {
              "outlinewidth": 0,
              "ticks": ""
             }
            },
            "marker": {
             "colorbar": {
              "outlinewidth": 0,
              "ticks": ""
             }
            },
            "type": "scatter3d"
           }
          ],
          "scattercarpet": [
           {
            "marker": {
             "colorbar": {
              "outlinewidth": 0,
              "ticks": ""
             }
            },
            "type": "scattercarpet"
           }
          ],
          "scattergeo": [
           {
            "marker": {
             "colorbar": {
              "outlinewidth": 0,
              "ticks": ""
             }
            },
            "type": "scattergeo"
           }
          ],
          "scattergl": [
           {
            "marker": {
             "colorbar": {
              "outlinewidth": 0,
              "ticks": ""
             }
            },
            "type": "scattergl"
           }
          ],
          "scattermap": [
           {
            "marker": {
             "colorbar": {
              "outlinewidth": 0,
              "ticks": ""
             }
            },
            "type": "scattermap"
           }
          ],
          "scattermapbox": [
           {
            "marker": {
             "colorbar": {
              "outlinewidth": 0,
              "ticks": ""
             }
            },
            "type": "scattermapbox"
           }
          ],
          "scatterpolar": [
           {
            "marker": {
             "colorbar": {
              "outlinewidth": 0,
              "ticks": ""
             }
            },
            "type": "scatterpolar"
           }
          ],
          "scatterpolargl": [
           {
            "marker": {
             "colorbar": {
              "outlinewidth": 0,
              "ticks": ""
             }
            },
            "type": "scatterpolargl"
           }
          ],
          "scatterternary": [
           {
            "marker": {
             "colorbar": {
              "outlinewidth": 0,
              "ticks": ""
             }
            },
            "type": "scatterternary"
           }
          ],
          "surface": [
           {
            "colorbar": {
             "outlinewidth": 0,
             "ticks": ""
            },
            "colorscale": [
             [
              0,
              "#0d0887"
             ],
             [
              0.1111111111111111,
              "#46039f"
             ],
             [
              0.2222222222222222,
              "#7201a8"
             ],
             [
              0.3333333333333333,
              "#9c179e"
             ],
             [
              0.4444444444444444,
              "#bd3786"
             ],
             [
              0.5555555555555556,
              "#d8576b"
             ],
             [
              0.6666666666666666,
              "#ed7953"
             ],
             [
              0.7777777777777778,
              "#fb9f3a"
             ],
             [
              0.8888888888888888,
              "#fdca26"
             ],
             [
              1,
              "#f0f921"
             ]
            ],
            "type": "surface"
           }
          ],
          "table": [
           {
            "cells": {
             "fill": {
              "color": "#EBF0F8"
             },
             "line": {
              "color": "white"
             }
            },
            "header": {
             "fill": {
              "color": "#C8D4E3"
             },
             "line": {
              "color": "white"
             }
            },
            "type": "table"
           }
          ]
         },
         "layout": {
          "annotationdefaults": {
           "arrowcolor": "#2a3f5f",
           "arrowhead": 0,
           "arrowwidth": 1
          },
          "autotypenumbers": "strict",
          "coloraxis": {
           "colorbar": {
            "outlinewidth": 0,
            "ticks": ""
           }
          },
          "colorscale": {
           "diverging": [
            [
             0,
             "#8e0152"
            ],
            [
             0.1,
             "#c51b7d"
            ],
            [
             0.2,
             "#de77ae"
            ],
            [
             0.3,
             "#f1b6da"
            ],
            [
             0.4,
             "#fde0ef"
            ],
            [
             0.5,
             "#f7f7f7"
            ],
            [
             0.6,
             "#e6f5d0"
            ],
            [
             0.7,
             "#b8e186"
            ],
            [
             0.8,
             "#7fbc41"
            ],
            [
             0.9,
             "#4d9221"
            ],
            [
             1,
             "#276419"
            ]
           ],
           "sequential": [
            [
             0,
             "#0d0887"
            ],
            [
             0.1111111111111111,
             "#46039f"
            ],
            [
             0.2222222222222222,
             "#7201a8"
            ],
            [
             0.3333333333333333,
             "#9c179e"
            ],
            [
             0.4444444444444444,
             "#bd3786"
            ],
            [
             0.5555555555555556,
             "#d8576b"
            ],
            [
             0.6666666666666666,
             "#ed7953"
            ],
            [
             0.7777777777777778,
             "#fb9f3a"
            ],
            [
             0.8888888888888888,
             "#fdca26"
            ],
            [
             1,
             "#f0f921"
            ]
           ],
           "sequentialminus": [
            [
             0,
             "#0d0887"
            ],
            [
             0.1111111111111111,
             "#46039f"
            ],
            [
             0.2222222222222222,
             "#7201a8"
            ],
            [
             0.3333333333333333,
             "#9c179e"
            ],
            [
             0.4444444444444444,
             "#bd3786"
            ],
            [
             0.5555555555555556,
             "#d8576b"
            ],
            [
             0.6666666666666666,
             "#ed7953"
            ],
            [
             0.7777777777777778,
             "#fb9f3a"
            ],
            [
             0.8888888888888888,
             "#fdca26"
            ],
            [
             1,
             "#f0f921"
            ]
           ]
          },
          "colorway": [
           "#636efa",
           "#EF553B",
           "#00cc96",
           "#ab63fa",
           "#FFA15A",
           "#19d3f3",
           "#FF6692",
           "#B6E880",
           "#FF97FF",
           "#FECB52"
          ],
          "font": {
           "color": "#2a3f5f"
          },
          "geo": {
           "bgcolor": "white",
           "lakecolor": "white",
           "landcolor": "#E5ECF6",
           "showlakes": true,
           "showland": true,
           "subunitcolor": "white"
          },
          "hoverlabel": {
           "align": "left"
          },
          "hovermode": "closest",
          "mapbox": {
           "style": "light"
          },
          "paper_bgcolor": "white",
          "plot_bgcolor": "#E5ECF6",
          "polar": {
           "angularaxis": {
            "gridcolor": "white",
            "linecolor": "white",
            "ticks": ""
           },
           "bgcolor": "#E5ECF6",
           "radialaxis": {
            "gridcolor": "white",
            "linecolor": "white",
            "ticks": ""
           }
          },
          "scene": {
           "xaxis": {
            "backgroundcolor": "#E5ECF6",
            "gridcolor": "white",
            "gridwidth": 2,
            "linecolor": "white",
            "showbackground": true,
            "ticks": "",
            "zerolinecolor": "white"
           },
           "yaxis": {
            "backgroundcolor": "#E5ECF6",
            "gridcolor": "white",
            "gridwidth": 2,
            "linecolor": "white",
            "showbackground": true,
            "ticks": "",
            "zerolinecolor": "white"
           },
           "zaxis": {
            "backgroundcolor": "#E5ECF6",
            "gridcolor": "white",
            "gridwidth": 2,
            "linecolor": "white",
            "showbackground": true,
            "ticks": "",
            "zerolinecolor": "white"
           }
          },
          "shapedefaults": {
           "line": {
            "color": "#2a3f5f"
           }
          },
          "ternary": {
           "aaxis": {
            "gridcolor": "white",
            "linecolor": "white",
            "ticks": ""
           },
           "baxis": {
            "gridcolor": "white",
            "linecolor": "white",
            "ticks": ""
           },
           "bgcolor": "#E5ECF6",
           "caxis": {
            "gridcolor": "white",
            "linecolor": "white",
            "ticks": ""
           }
          },
          "title": {
           "x": 0.05
          },
          "xaxis": {
           "automargin": true,
           "gridcolor": "white",
           "linecolor": "white",
           "ticks": "",
           "title": {
            "standoff": 15
           },
           "zerolinecolor": "white",
           "zerolinewidth": 2
          },
          "yaxis": {
           "automargin": true,
           "gridcolor": "white",
           "linecolor": "white",
           "ticks": "",
           "title": {
            "standoff": 15
           },
           "zerolinecolor": "white",
           "zerolinewidth": 2
          }
         }
        },
        "title": {
         "font": {
          "color": "#228B22",
          "size": 18
         },
         "text": "🗺️ Zonificación Agroclimática de Andalucía",
         "x": 0.5
        },
        "xaxis": {
         "anchor": "y",
         "domain": [
          0,
          0.45
         ],
         "title": {
          "text": "Temperatura Media (°C)"
         }
        },
        "xaxis2": {
         "anchor": "y2",
         "domain": [
          0.55,
          1
         ],
         "title": {
          "text": "Grados Día (Base 10°C)"
         }
        },
        "xaxis3": {
         "anchor": "y3",
         "domain": [
          0,
          0.45
         ],
         "title": {
          "text": "Zona Climática"
         }
        },
        "yaxis": {
         "anchor": "x",
         "domain": [
          0.575,
          1
         ],
         "title": {
          "text": "Precipitación Media (mm)"
         }
        },
        "yaxis2": {
         "anchor": "x2",
         "domain": [
          0.575,
          1
         ],
         "title": {
          "text": "Amplitud Térmica (°C)"
         }
        },
        "yaxis3": {
         "anchor": "x3",
         "domain": [
          0,
          0.425
         ],
         "title": {
          "text": "Días por año"
         }
        }
       }
      },
      "text/html": [
       "<div>            <script src=\"https://cdnjs.cloudflare.com/ajax/libs/mathjax/2.7.5/MathJax.js?config=TeX-AMS-MML_SVG\"></script><script type=\"text/javascript\">if (window.MathJax && window.MathJax.Hub && window.MathJax.Hub.Config) {window.MathJax.Hub.Config({SVG: {font: \"STIX-Web\"}});}</script>                <script type=\"text/javascript\">window.PlotlyConfig = {MathJaxConfig: 'local'};</script>\n",
       "        <script charset=\"utf-8\" src=\"https://cdn.plot.ly/plotly-3.0.1.min.js\"></script>                <div id=\"6c772a64-f7b7-496a-94c7-c0576bdb2094\" class=\"plotly-graph-div\" style=\"height:800px; width:100%;\"></div>            <script type=\"text/javascript\">                window.PLOTLYENV=window.PLOTLYENV || {};                                if (document.getElementById(\"6c772a64-f7b7-496a-94c7-c0576bdb2094\")) {                    Plotly.newPlot(                        \"6c772a64-f7b7-496a-94c7-c0576bdb2094\",                        [{\"hovertemplate\":\"Zona Atl\\u00e1ntica\\u003cbr\\u003eProvincia: %{text}\\u003cbr\\u003eTemp: %{x:.1f}\\u00b0C\\u003cbr\\u003ePrecipitaci\\u00f3n: %{y:.1f}mm\\u003cextra\\u003e\\u003c\\u002fextra\\u003e\",\"marker\":{\"color\":\"#4169E1\",\"size\":15},\"mode\":\"markers+text\",\"name\":\"Zona Atl\\u00e1ntica\",\"text\":[\"Almer\\u00eda\"],\"textposition\":\"top center\",\"x\":{\"dtype\":\"f8\",\"bdata\":\"lwXP6XoAM0A=\"},\"y\":{\"dtype\":\"f8\",\"bdata\":\"rx4iahUL4j8=\"},\"type\":\"scatter\",\"xaxis\":\"x\",\"yaxis\":\"y\"},{\"hovertemplate\":\"Zona Mediterr\\u00e1nea\\u003cbr\\u003eProvincia: %{text}\\u003cbr\\u003eTemp: %{x:.1f}\\u00b0C\\u003cbr\\u003ePrecipitaci\\u00f3n: %{y:.1f}mm\\u003cextra\\u003e\\u003c\\u002fextra\\u003e\",\"marker\":{\"color\":\"#228B22\",\"size\":15},\"mode\":\"markers+text\",\"name\":\"Zona Mediterr\\u00e1nea\",\"text\":[\"C\\u00e1diz\",\"Granada\",\"Huelva\",\"Ja\\u00e9n\",\"M\\u00e1laga\"],\"textposition\":\"top center\",\"x\":{\"dtype\":\"f8\",\"bdata\":\"lU+BtjFaMkCp83KPmUQxQIxF\\u002fcpJKTJAeWgT4kCCMUBkB6QCEa4yQA==\"},\"y\":{\"dtype\":\"f8\",\"bdata\":\"Qwr2Rml2+T+Rj2xSQn\\u002f2P2H1O7rnHvc\\u002fYAQEYDJt9T+oUYUSLkb7Pw==\"},\"type\":\"scatter\",\"xaxis\":\"x\",\"yaxis\":\"y\"},{\"hovertemplate\":\"Zona Continental\\u003cbr\\u003eProvincia: %{text}\\u003cbr\\u003eTemp: %{x:.1f}\\u00b0C\\u003cbr\\u003ePrecipitaci\\u00f3n: %{y:.1f}mm\\u003cextra\\u003e\\u003c\\u002fextra\\u003e\",\"marker\":{\"color\":\"#8B4513\",\"size\":15},\"mode\":\"markers+text\",\"name\":\"Zona Continental\",\"text\":[\"C\\u00f3rdoba\"],\"textposition\":\"top center\",\"x\":{\"dtype\":\"f8\",\"bdata\":\"PzlxYc0XMkA=\"},\"y\":{\"dtype\":\"f8\",\"bdata\":\"4MmVZXk8+j8=\"},\"type\":\"scatter\",\"xaxis\":\"x\",\"yaxis\":\"y\"},{\"hovertemplate\":\"Zona Atl\\u00e1ntica\\u003cbr\\u003eProvincia: %{text}\\u003cbr\\u003eGDD: %{x:.0f}\\u003cbr\\u003eAmplitud: %{y:.1f}\\u00b0C\\u003cextra\\u003e\\u003c\\u002fextra\\u003e\",\"marker\":{\"color\":\"#4169E1\",\"size\":15},\"mode\":\"markers+text\",\"name\":\"Zona Atl\\u00e1ntica\",\"showlegend\":false,\"text\":[\"Almer\\u00eda\"],\"textposition\":\"top center\",\"x\":{\"dtype\":\"f8\",\"bdata\":\"lwXP6XoAMkA=\"},\"y\":{\"dtype\":\"f8\",\"bdata\":\"uAuJOtQfIUA=\"},\"type\":\"scatter\",\"xaxis\":\"x2\",\"yaxis\":\"y2\"},{\"hovertemplate\":\"Zona Mediterr\\u00e1nea\\u003cbr\\u003eProvincia: %{text}\\u003cbr\\u003eGDD: %{x:.0f}\\u003cbr\\u003eAmplitud: %{y:.1f}\\u00b0C\\u003cextra\\u003e\\u003c\\u002fextra\\u003e\",\"marker\":{\"color\":\"#228B22\",\"size\":15},\"mode\":\"markers+text\",\"name\":\"Zona Mediterr\\u00e1nea\",\"showlegend\":false,\"text\":[\"C\\u00e1diz\",\"Granada\",\"Huelva\",\"Ja\\u00e9n\",\"M\\u00e1laga\"],\"textposition\":\"top center\",\"x\":{\"dtype\":\"f8\",\"bdata\":\"ETqBfjRaMUAdkWalVkUwQCe8pzZOKTFAynkXeHuCMECJSuojrbExQA==\"},\"y\":{\"dtype\":\"f8\",\"bdata\":\"WCrm0urqJEAiO8L+1e4mQChUwNWuaCZA3r\\u002ftP+r8IkAe4DtaAFsqQA==\"},\"type\":\"scatter\",\"xaxis\":\"x2\",\"yaxis\":\"y2\"},{\"hovertemplate\":\"Zona Continental\\u003cbr\\u003eProvincia: %{text}\\u003cbr\\u003eGDD: %{x:.0f}\\u003cbr\\u003eAmplitud: %{y:.1f}\\u00b0C\\u003cextra\\u003e\\u003c\\u002fextra\\u003e\",\"marker\":{\"color\":\"#8B4513\",\"size\":15},\"mode\":\"markers+text\",\"name\":\"Zona Continental\",\"showlegend\":false,\"text\":[\"C\\u00f3rdoba\"],\"textposition\":\"top center\",\"x\":{\"dtype\":\"f8\",\"bdata\":\"Ol3orIsYMUA=\"},\"y\":{\"dtype\":\"f8\",\"bdata\":\"qtzlPlQ7LEA=\"},\"type\":\"scatter\",\"xaxis\":\"x2\",\"yaxis\":\"y2\"},{\"name\":\"Olas de Calor\",\"opacity\":0.8,\"x\":[\"Zona Atl\\u00e1ntica\",\"Zona Continental\",\"Zona Mediterr\\u00e1nea\"],\"y\":{\"dtype\":\"f8\",\"bdata\":\"sVPf1seilT\\u002fpQACJfy\\u002fGP3cvkJenfrE\\u002f\"},\"type\":\"bar\",\"xaxis\":\"x3\",\"yaxis\":\"y3\"},{\"name\":\"Heladas\",\"opacity\":0.8,\"x\":[\"Zona Atl\\u00e1ntica\",\"Zona Continental\",\"Zona Mediterr\\u00e1nea\"],\"y\":{\"dtype\":\"f8\",\"bdata\":\"AAAAAAAAAAAEnKKMgFOkPwLxINfIvIw\\u002f\"},\"type\":\"bar\",\"xaxis\":\"x3\",\"yaxis\":\"y3\"},{\"name\":\"Lluvia Intensa\",\"opacity\":0.8,\"x\":[\"Zona Atl\\u00e1ntica\",\"Zona Continental\",\"Zona Mediterr\\u00e1nea\"],\"y\":{\"dtype\":\"f8\",\"bdata\":\"MQVhlizOdj8fx5w9Cw+WP3aNejfSLpA\\u002f\"},\"type\":\"bar\",\"xaxis\":\"x3\",\"yaxis\":\"y3\"}],                        {\"template\":{\"data\":{\"histogram2dcontour\":[{\"type\":\"histogram2dcontour\",\"colorbar\":{\"outlinewidth\":0,\"ticks\":\"\"},\"colorscale\":[[0.0,\"#0d0887\"],[0.1111111111111111,\"#46039f\"],[0.2222222222222222,\"#7201a8\"],[0.3333333333333333,\"#9c179e\"],[0.4444444444444444,\"#bd3786\"],[0.5555555555555556,\"#d8576b\"],[0.6666666666666666,\"#ed7953\"],[0.7777777777777778,\"#fb9f3a\"],[0.8888888888888888,\"#fdca26\"],[1.0,\"#f0f921\"]]}],\"choropleth\":[{\"type\":\"choropleth\",\"colorbar\":{\"outlinewidth\":0,\"ticks\":\"\"}}],\"histogram2d\":[{\"type\":\"histogram2d\",\"colorbar\":{\"outlinewidth\":0,\"ticks\":\"\"},\"colorscale\":[[0.0,\"#0d0887\"],[0.1111111111111111,\"#46039f\"],[0.2222222222222222,\"#7201a8\"],[0.3333333333333333,\"#9c179e\"],[0.4444444444444444,\"#bd3786\"],[0.5555555555555556,\"#d8576b\"],[0.6666666666666666,\"#ed7953\"],[0.7777777777777778,\"#fb9f3a\"],[0.8888888888888888,\"#fdca26\"],[1.0,\"#f0f921\"]]}],\"heatmap\":[{\"type\":\"heatmap\",\"colorbar\":{\"outlinewidth\":0,\"ticks\":\"\"},\"colorscale\":[[0.0,\"#0d0887\"],[0.1111111111111111,\"#46039f\"],[0.2222222222222222,\"#7201a8\"],[0.3333333333333333,\"#9c179e\"],[0.4444444444444444,\"#bd3786\"],[0.5555555555555556,\"#d8576b\"],[0.6666666666666666,\"#ed7953\"],[0.7777777777777778,\"#fb9f3a\"],[0.8888888888888888,\"#fdca26\"],[1.0,\"#f0f921\"]]}],\"contourcarpet\":[{\"type\":\"contourcarpet\",\"colorbar\":{\"outlinewidth\":0,\"ticks\":\"\"}}],\"contour\":[{\"type\":\"contour\",\"colorbar\":{\"outlinewidth\":0,\"ticks\":\"\"},\"colorscale\":[[0.0,\"#0d0887\"],[0.1111111111111111,\"#46039f\"],[0.2222222222222222,\"#7201a8\"],[0.3333333333333333,\"#9c179e\"],[0.4444444444444444,\"#bd3786\"],[0.5555555555555556,\"#d8576b\"],[0.6666666666666666,\"#ed7953\"],[0.7777777777777778,\"#fb9f3a\"],[0.8888888888888888,\"#fdca26\"],[1.0,\"#f0f921\"]]}],\"surface\":[{\"type\":\"surface\",\"colorbar\":{\"outlinewidth\":0,\"ticks\":\"\"},\"colorscale\":[[0.0,\"#0d0887\"],[0.1111111111111111,\"#46039f\"],[0.2222222222222222,\"#7201a8\"],[0.3333333333333333,\"#9c179e\"],[0.4444444444444444,\"#bd3786\"],[0.5555555555555556,\"#d8576b\"],[0.6666666666666666,\"#ed7953\"],[0.7777777777777778,\"#fb9f3a\"],[0.8888888888888888,\"#fdca26\"],[1.0,\"#f0f921\"]]}],\"mesh3d\":[{\"type\":\"mesh3d\",\"colorbar\":{\"outlinewidth\":0,\"ticks\":\"\"}}],\"scatter\":[{\"fillpattern\":{\"fillmode\":\"overlay\",\"size\":10,\"solidity\":0.2},\"type\":\"scatter\"}],\"parcoords\":[{\"type\":\"parcoords\",\"line\":{\"colorbar\":{\"outlinewidth\":0,\"ticks\":\"\"}}}],\"scatterpolargl\":[{\"type\":\"scatterpolargl\",\"marker\":{\"colorbar\":{\"outlinewidth\":0,\"ticks\":\"\"}}}],\"bar\":[{\"error_x\":{\"color\":\"#2a3f5f\"},\"error_y\":{\"color\":\"#2a3f5f\"},\"marker\":{\"line\":{\"color\":\"#E5ECF6\",\"width\":0.5},\"pattern\":{\"fillmode\":\"overlay\",\"size\":10,\"solidity\":0.2}},\"type\":\"bar\"}],\"scattergeo\":[{\"type\":\"scattergeo\",\"marker\":{\"colorbar\":{\"outlinewidth\":0,\"ticks\":\"\"}}}],\"scatterpolar\":[{\"type\":\"scatterpolar\",\"marker\":{\"colorbar\":{\"outlinewidth\":0,\"ticks\":\"\"}}}],\"histogram\":[{\"marker\":{\"pattern\":{\"fillmode\":\"overlay\",\"size\":10,\"solidity\":0.2}},\"type\":\"histogram\"}],\"scattergl\":[{\"type\":\"scattergl\",\"marker\":{\"colorbar\":{\"outlinewidth\":0,\"ticks\":\"\"}}}],\"scatter3d\":[{\"type\":\"scatter3d\",\"line\":{\"colorbar\":{\"outlinewidth\":0,\"ticks\":\"\"}},\"marker\":{\"colorbar\":{\"outlinewidth\":0,\"ticks\":\"\"}}}],\"scattermap\":[{\"type\":\"scattermap\",\"marker\":{\"colorbar\":{\"outlinewidth\":0,\"ticks\":\"\"}}}],\"scattermapbox\":[{\"type\":\"scattermapbox\",\"marker\":{\"colorbar\":{\"outlinewidth\":0,\"ticks\":\"\"}}}],\"scatterternary\":[{\"type\":\"scatterternary\",\"marker\":{\"colorbar\":{\"outlinewidth\":0,\"ticks\":\"\"}}}],\"scattercarpet\":[{\"type\":\"scattercarpet\",\"marker\":{\"colorbar\":{\"outlinewidth\":0,\"ticks\":\"\"}}}],\"carpet\":[{\"aaxis\":{\"endlinecolor\":\"#2a3f5f\",\"gridcolor\":\"white\",\"linecolor\":\"white\",\"minorgridcolor\":\"white\",\"startlinecolor\":\"#2a3f5f\"},\"baxis\":{\"endlinecolor\":\"#2a3f5f\",\"gridcolor\":\"white\",\"linecolor\":\"white\",\"minorgridcolor\":\"white\",\"startlinecolor\":\"#2a3f5f\"},\"type\":\"carpet\"}],\"table\":[{\"cells\":{\"fill\":{\"color\":\"#EBF0F8\"},\"line\":{\"color\":\"white\"}},\"header\":{\"fill\":{\"color\":\"#C8D4E3\"},\"line\":{\"color\":\"white\"}},\"type\":\"table\"}],\"barpolar\":[{\"marker\":{\"line\":{\"color\":\"#E5ECF6\",\"width\":0.5},\"pattern\":{\"fillmode\":\"overlay\",\"size\":10,\"solidity\":0.2}},\"type\":\"barpolar\"}],\"pie\":[{\"automargin\":true,\"type\":\"pie\"}]},\"layout\":{\"autotypenumbers\":\"strict\",\"colorway\":[\"#636efa\",\"#EF553B\",\"#00cc96\",\"#ab63fa\",\"#FFA15A\",\"#19d3f3\",\"#FF6692\",\"#B6E880\",\"#FF97FF\",\"#FECB52\"],\"font\":{\"color\":\"#2a3f5f\"},\"hovermode\":\"closest\",\"hoverlabel\":{\"align\":\"left\"},\"paper_bgcolor\":\"white\",\"plot_bgcolor\":\"#E5ECF6\",\"polar\":{\"bgcolor\":\"#E5ECF6\",\"angularaxis\":{\"gridcolor\":\"white\",\"linecolor\":\"white\",\"ticks\":\"\"},\"radialaxis\":{\"gridcolor\":\"white\",\"linecolor\":\"white\",\"ticks\":\"\"}},\"ternary\":{\"bgcolor\":\"#E5ECF6\",\"aaxis\":{\"gridcolor\":\"white\",\"linecolor\":\"white\",\"ticks\":\"\"},\"baxis\":{\"gridcolor\":\"white\",\"linecolor\":\"white\",\"ticks\":\"\"},\"caxis\":{\"gridcolor\":\"white\",\"linecolor\":\"white\",\"ticks\":\"\"}},\"coloraxis\":{\"colorbar\":{\"outlinewidth\":0,\"ticks\":\"\"}},\"colorscale\":{\"sequential\":[[0.0,\"#0d0887\"],[0.1111111111111111,\"#46039f\"],[0.2222222222222222,\"#7201a8\"],[0.3333333333333333,\"#9c179e\"],[0.4444444444444444,\"#bd3786\"],[0.5555555555555556,\"#d8576b\"],[0.6666666666666666,\"#ed7953\"],[0.7777777777777778,\"#fb9f3a\"],[0.8888888888888888,\"#fdca26\"],[1.0,\"#f0f921\"]],\"sequentialminus\":[[0.0,\"#0d0887\"],[0.1111111111111111,\"#46039f\"],[0.2222222222222222,\"#7201a8\"],[0.3333333333333333,\"#9c179e\"],[0.4444444444444444,\"#bd3786\"],[0.5555555555555556,\"#d8576b\"],[0.6666666666666666,\"#ed7953\"],[0.7777777777777778,\"#fb9f3a\"],[0.8888888888888888,\"#fdca26\"],[1.0,\"#f0f921\"]],\"diverging\":[[0,\"#8e0152\"],[0.1,\"#c51b7d\"],[0.2,\"#de77ae\"],[0.3,\"#f1b6da\"],[0.4,\"#fde0ef\"],[0.5,\"#f7f7f7\"],[0.6,\"#e6f5d0\"],[0.7,\"#b8e186\"],[0.8,\"#7fbc41\"],[0.9,\"#4d9221\"],[1,\"#276419\"]]},\"xaxis\":{\"gridcolor\":\"white\",\"linecolor\":\"white\",\"ticks\":\"\",\"title\":{\"standoff\":15},\"zerolinecolor\":\"white\",\"automargin\":true,\"zerolinewidth\":2},\"yaxis\":{\"gridcolor\":\"white\",\"linecolor\":\"white\",\"ticks\":\"\",\"title\":{\"standoff\":15},\"zerolinecolor\":\"white\",\"automargin\":true,\"zerolinewidth\":2},\"scene\":{\"xaxis\":{\"backgroundcolor\":\"#E5ECF6\",\"gridcolor\":\"white\",\"linecolor\":\"white\",\"showbackground\":true,\"ticks\":\"\",\"zerolinecolor\":\"white\",\"gridwidth\":2},\"yaxis\":{\"backgroundcolor\":\"#E5ECF6\",\"gridcolor\":\"white\",\"linecolor\":\"white\",\"showbackground\":true,\"ticks\":\"\",\"zerolinecolor\":\"white\",\"gridwidth\":2},\"zaxis\":{\"backgroundcolor\":\"#E5ECF6\",\"gridcolor\":\"white\",\"linecolor\":\"white\",\"showbackground\":true,\"ticks\":\"\",\"zerolinecolor\":\"white\",\"gridwidth\":2}},\"shapedefaults\":{\"line\":{\"color\":\"#2a3f5f\"}},\"annotationdefaults\":{\"arrowcolor\":\"#2a3f5f\",\"arrowhead\":0,\"arrowwidth\":1},\"geo\":{\"bgcolor\":\"white\",\"landcolor\":\"#E5ECF6\",\"subunitcolor\":\"white\",\"showland\":true,\"showlakes\":true,\"lakecolor\":\"white\"},\"title\":{\"x\":0.05},\"mapbox\":{\"style\":\"light\"}}},\"xaxis\":{\"anchor\":\"y\",\"domain\":[0.0,0.45],\"title\":{\"text\":\"Temperatura Media (\\u00b0C)\"}},\"yaxis\":{\"anchor\":\"x\",\"domain\":[0.575,1.0],\"title\":{\"text\":\"Precipitaci\\u00f3n Media (mm)\"}},\"xaxis2\":{\"anchor\":\"y2\",\"domain\":[0.55,1.0],\"title\":{\"text\":\"Grados D\\u00eda (Base 10\\u00b0C)\"}},\"yaxis2\":{\"anchor\":\"x2\",\"domain\":[0.575,1.0],\"title\":{\"text\":\"Amplitud T\\u00e9rmica (\\u00b0C)\"}},\"xaxis3\":{\"anchor\":\"y3\",\"domain\":[0.0,0.45],\"title\":{\"text\":\"Zona Clim\\u00e1tica\"}},\"yaxis3\":{\"anchor\":\"x3\",\"domain\":[0.0,0.425],\"title\":{\"text\":\"D\\u00edas por a\\u00f1o\"}},\"annotations\":[{\"font\":{\"size\":16},\"showarrow\":false,\"text\":\"Clasificaci\\u00f3n por Temperatura y Precipitaci\\u00f3n\",\"x\":0.225,\"xanchor\":\"center\",\"xref\":\"paper\",\"y\":1.0,\"yanchor\":\"bottom\",\"yref\":\"paper\"},{\"font\":{\"size\":16},\"showarrow\":false,\"text\":\"Grados D\\u00eda vs Amplitud T\\u00e9rmica\",\"x\":0.775,\"xanchor\":\"center\",\"xref\":\"paper\",\"y\":1.0,\"yanchor\":\"bottom\",\"yref\":\"paper\"},{\"font\":{\"size\":16},\"showarrow\":false,\"text\":\"Riesgos Clim\\u00e1ticos por Zona\",\"x\":0.225,\"xanchor\":\"center\",\"xref\":\"paper\",\"y\":0.425,\"yanchor\":\"bottom\",\"yref\":\"paper\"},{\"font\":{\"size\":16},\"showarrow\":false,\"text\":\"Recomendaciones por Zona\",\"x\":0.775,\"xanchor\":\"center\",\"xref\":\"paper\",\"y\":0.425,\"yanchor\":\"bottom\",\"yref\":\"paper\"}],\"title\":{\"font\":{\"size\":18,\"color\":\"#228B22\"},\"text\":\"\\ud83d\\uddfa\\ufe0f Zonificaci\\u00f3n Agroclim\\u00e1tica de Andaluc\\u00eda\",\"x\":0.5},\"height\":800,\"showlegend\":true},                        {\"responsive\": true}                    ).then(function(){\n",
       "                            \n",
       "var gd = document.getElementById('6c772a64-f7b7-496a-94c7-c0576bdb2094');\n",
       "var x = new MutationObserver(function (mutations, observer) {{\n",
       "        var display = window.getComputedStyle(gd).display;\n",
       "        if (!display || display === 'none') {{\n",
       "            console.log([gd, 'removed!']);\n",
       "            Plotly.purge(gd);\n",
       "            observer.disconnect();\n",
       "        }}\n",
       "}});\n",
       "\n",
       "// Listen for the removal of the full notebook cells\n",
       "var notebookContainer = gd.closest('#notebook-container');\n",
       "if (notebookContainer) {{\n",
       "    x.observe(notebookContainer, {childList: true});\n",
       "}}\n",
       "\n",
       "// Listen for the clearing of the current output cell\n",
       "var outputEl = gd.closest('.output');\n",
       "if (outputEl) {{\n",
       "    x.observe(outputEl, {childList: true});\n",
       "}}\n",
       "\n",
       "                        })                };            </script>        </div>"
      ]
     },
     "metadata": {},
     "output_type": "display_data"
    },
    {
     "name": "stdout",
     "output_type": "stream",
     "text": [
      "\n",
      "📋 Clasificación Agroclimática por Provincia:\n"
     ]
    },
    {
     "data": {
      "text/html": [
       "<div>\n",
       "<style scoped>\n",
       "    .dataframe tbody tr th:only-of-type {\n",
       "        vertical-align: middle;\n",
       "    }\n",
       "\n",
       "    .dataframe tbody tr th {\n",
       "        vertical-align: top;\n",
       "    }\n",
       "\n",
       "    .dataframe thead th {\n",
       "        text-align: right;\n",
       "    }\n",
       "</style>\n",
       "<table border=\"1\" class=\"dataframe\">\n",
       "  <thead>\n",
       "    <tr style=\"text-align: right;\">\n",
       "      <th></th>\n",
       "      <th>Provincia</th>\n",
       "      <th>Zona Climática</th>\n",
       "      <th>Temp Media (°C)</th>\n",
       "      <th>Precipitación (mm)</th>\n",
       "      <th>GDD Base 10°C</th>\n",
       "      <th>Días Calor/año</th>\n",
       "      <th>Días Helada/año</th>\n",
       "    </tr>\n",
       "  </thead>\n",
       "  <tbody>\n",
       "    <tr>\n",
       "      <th>0</th>\n",
       "      <td>Almería</td>\n",
       "      <td>Zona Atlántica</td>\n",
       "      <td>19.0</td>\n",
       "      <td>0.6</td>\n",
       "      <td>18.0</td>\n",
       "      <td>0.0</td>\n",
       "      <td>0.0</td>\n",
       "    </tr>\n",
       "    <tr>\n",
       "      <th>1</th>\n",
       "      <td>Cádiz</td>\n",
       "      <td>Zona Mediterránea</td>\n",
       "      <td>18.4</td>\n",
       "      <td>1.6</td>\n",
       "      <td>17.4</td>\n",
       "      <td>0.1</td>\n",
       "      <td>0.0</td>\n",
       "    </tr>\n",
       "    <tr>\n",
       "      <th>2</th>\n",
       "      <td>Córdoba</td>\n",
       "      <td>Zona Continental</td>\n",
       "      <td>18.1</td>\n",
       "      <td>1.6</td>\n",
       "      <td>17.1</td>\n",
       "      <td>0.2</td>\n",
       "      <td>0.0</td>\n",
       "    </tr>\n",
       "    <tr>\n",
       "      <th>3</th>\n",
       "      <td>Granada</td>\n",
       "      <td>Zona Mediterránea</td>\n",
       "      <td>17.3</td>\n",
       "      <td>1.4</td>\n",
       "      <td>16.3</td>\n",
       "      <td>0.1</td>\n",
       "      <td>0.0</td>\n",
       "    </tr>\n",
       "    <tr>\n",
       "      <th>4</th>\n",
       "      <td>Huelva</td>\n",
       "      <td>Zona Mediterránea</td>\n",
       "      <td>18.2</td>\n",
       "      <td>1.4</td>\n",
       "      <td>17.2</td>\n",
       "      <td>0.0</td>\n",
       "      <td>0.0</td>\n",
       "    </tr>\n",
       "    <tr>\n",
       "      <th>5</th>\n",
       "      <td>Jaén</td>\n",
       "      <td>Zona Mediterránea</td>\n",
       "      <td>17.5</td>\n",
       "      <td>1.3</td>\n",
       "      <td>16.5</td>\n",
       "      <td>0.1</td>\n",
       "      <td>0.0</td>\n",
       "    </tr>\n",
       "    <tr>\n",
       "      <th>6</th>\n",
       "      <td>Málaga</td>\n",
       "      <td>Zona Mediterránea</td>\n",
       "      <td>18.7</td>\n",
       "      <td>1.7</td>\n",
       "      <td>17.7</td>\n",
       "      <td>0.1</td>\n",
       "      <td>0.0</td>\n",
       "    </tr>\n",
       "  </tbody>\n",
       "</table>\n",
       "</div>"
      ],
      "text/plain": [
       "  Provincia     Zona Climática  Temp Media (°C)  Precipitación (mm)  \\\n",
       "0   Almería     Zona Atlántica             19.0                 0.6   \n",
       "1     Cádiz  Zona Mediterránea             18.4                 1.6   \n",
       "2   Córdoba   Zona Continental             18.1                 1.6   \n",
       "3   Granada  Zona Mediterránea             17.3                 1.4   \n",
       "4    Huelva  Zona Mediterránea             18.2                 1.4   \n",
       "5      Jaén  Zona Mediterránea             17.5                 1.3   \n",
       "6    Málaga  Zona Mediterránea             18.7                 1.7   \n",
       "\n",
       "   GDD Base 10°C  Días Calor/año  Días Helada/año  \n",
       "0           18.0             0.0              0.0  \n",
       "1           17.4             0.1              0.0  \n",
       "2           17.1             0.2              0.0  \n",
       "3           16.3             0.1              0.0  \n",
       "4           17.2             0.0              0.0  \n",
       "5           16.5             0.1              0.0  \n",
       "6           17.7             0.1              0.0  "
      ]
     },
     "metadata": {},
     "output_type": "display_data"
    },
    {
     "name": "stdout",
     "output_type": "stream",
     "text": [
      "\n",
      "🌱 Recomendaciones de Cultivos por Zona:\n",
      "\n",
      "• Zona Continental:\n",
      "  Provincias: Córdoba\n",
      "  Cultivos recomendados: Olivos, Almendros, Cereales de invierno\n",
      "  Características: Temp 18.1°C, Precipitación 1.6mm\n",
      "  Riesgos: 0 días calor/año, 0 días helada/año\n",
      "\n",
      "• Zona Mediterránea:\n",
      "  Provincias: Cádiz, Granada, Huelva, Jaén, Málaga\n",
      "  Cultivos recomendados: Cítricos, Olivos, Hortalizas\n",
      "  Características: Temp 18.0°C, Precipitación 1.5mm\n",
      "  Riesgos: 0 días calor/año, 0 días helada/año\n",
      "\n",
      "• Zona Atlántica:\n",
      "  Provincias: Almería\n",
      "  Cultivos recomendados: Cereales, Girasol, Ganadería\n",
      "  Características: Temp 19.0°C, Precipitación 0.6mm\n",
      "  Riesgos: 0 días calor/año, 0 días helada/año\n"
     ]
    }
   ],
   "source": [
    "### 6.1 Clasificación Agroclimática\n",
    "\n",
    "print(\"🗺️ Realizando zonificación agroclimática de Andalucía...\")\n",
    "\n",
    "# Preparar datos para clustering\n",
    "datos_clima_prov = andalucia_df.groupby('PROVINCIA').agg({\n",
    "    'TEMP_MEDIA': 'mean',\n",
    "    'TMAX': 'mean',\n",
    "    'TMIN': 'mean',\n",
    "    'PRCP': 'mean',\n",
    "    'AMPLITUD_TERMICA': 'mean',\n",
    "    'GDD_BASE10': 'mean',\n",
    "    'EVENTO_OLA_CALOR': 'mean',\n",
    "    'EVENTO_HELADA': 'mean',\n",
    "    'EVENTO_LLUVIA_INTENSA': 'mean'\n",
    "}).reset_index()\n",
    "\n",
    "# Normalizar datos para clustering\n",
    "scaler = StandardScaler()\n",
    "features_clima = ['TEMP_MEDIA', 'PRCP', 'AMPLITUD_TERMICA', 'GDD_BASE10', \n",
    "                 'EVENTO_OLA_CALOR', 'EVENTO_HELADA']\n",
    "datos_norm = scaler.fit_transform(datos_clima_prov[features_clima])\n",
    "\n",
    "# Realizar clustering K-means\n",
    "kmeans = KMeans(n_clusters=3, random_state=42)\n",
    "datos_clima_prov['ZONA_CLIMATICA'] = kmeans.fit_predict(datos_norm)\n",
    "\n",
    "# Definir nombres de zonas\n",
    "zonas_nombres = {\n",
    "    0: 'Zona Continental',\n",
    "    1: 'Zona Mediterránea', \n",
    "    2: 'Zona Atlántica'\n",
    "}\n",
    "\n",
    "datos_clima_prov['ZONA_NOMBRE'] = datos_clima_prov['ZONA_CLIMATICA'].map(zonas_nombres)\n",
    "\n",
    "# Crear visualización de zonificación\n",
    "fig_zonas = make_subplots(\n",
    "    rows=2, cols=2,\n",
    "    subplot_titles=('Clasificación por Temperatura y Precipitación',\n",
    "                   'Grados Día vs Amplitud Térmica',\n",
    "                   'Riesgos Climáticos por Zona',\n",
    "                   'Recomendaciones por Zona'),\n",
    "    specs=[[{\"type\": \"scatter\"}, {\"type\": \"scatter\"}],\n",
    "           [{\"type\": \"bar\"}, {\"type\": \"table\"}]],\n",
    "    vertical_spacing=0.15,\n",
    "    horizontal_spacing=0.1\n",
    ")\n",
    "\n",
    "# Colores por zona\n",
    "colores_zonas = {\n",
    "    'Zona Continental': '#8B4513',\n",
    "    'Zona Mediterránea': '#228B22', \n",
    "    'Zona Atlántica': '#4169E1'\n",
    "}\n",
    "\n",
    "# 1. Temperatura vs Precipitación\n",
    "for zona in datos_clima_prov['ZONA_NOMBRE'].unique():\n",
    "    data_zona = datos_clima_prov[datos_clima_prov['ZONA_NOMBRE'] == zona]\n",
    "    fig_zonas.add_trace(\n",
    "        go.Scatter(x=data_zona['TEMP_MEDIA'], y=data_zona['PRCP'],\n",
    "                  mode='markers+text',\n",
    "                  marker=dict(size=15, color=colores_zonas[zona]),\n",
    "                  text=data_zona['PROVINCIA'],\n",
    "                  textposition=\"top center\",\n",
    "                  name=zona,\n",
    "                  hovertemplate=f'{zona}<br>Provincia: %{{text}}<br>Temp: %{{x:.1f}}°C<br>Precipitación: %{{y:.1f}}mm<extra></extra>'),\n",
    "        row=1, col=1\n",
    "    )\n",
    "\n",
    "# 2. GDD vs Amplitud Térmica\n",
    "for zona in datos_clima_prov['ZONA_NOMBRE'].unique():\n",
    "    data_zona = datos_clima_prov[datos_clima_prov['ZONA_NOMBRE'] == zona]\n",
    "    fig_zonas.add_trace(\n",
    "        go.Scatter(x=data_zona['GDD_BASE10'], y=data_zona['AMPLITUD_TERMICA'],\n",
    "                  mode='markers+text',\n",
    "                  marker=dict(size=15, color=colores_zonas[zona]),\n",
    "                  text=data_zona['PROVINCIA'],\n",
    "                  textposition=\"top center\",\n",
    "                  name=zona,\n",
    "                  showlegend=False,\n",
    "                  hovertemplate=f'{zona}<br>Provincia: %{{text}}<br>GDD: %{{x:.0f}}<br>Amplitud: %{{y:.1f}}°C<extra></extra>'),\n",
    "        row=1, col=2\n",
    "    )\n",
    "\n",
    "# 3. Riesgos por zona\n",
    "riesgos_zona = datos_clima_prov.groupby('ZONA_NOMBRE').agg({\n",
    "    'EVENTO_OLA_CALOR': 'mean',\n",
    "    'EVENTO_HELADA': 'mean',\n",
    "    'EVENTO_LLUVIA_INTENSA': 'mean'\n",
    "}).reset_index()\n",
    "\n",
    "eventos = ['EVENTO_OLA_CALOR', 'EVENTO_HELADA', 'EVENTO_LLUVIA_INTENSA']\n",
    "nombres_eventos = ['Olas de Calor', 'Heladas', 'Lluvia Intensa']\n",
    "\n",
    "for i, evento in enumerate(eventos):\n",
    "    fig_zonas.add_trace(\n",
    "        go.Bar(x=riesgos_zona['ZONA_NOMBRE'], y=riesgos_zona[evento],\n",
    "              name=nombres_eventos[i],\n",
    "              opacity=0.8),\n",
    "        row=2, col=1\n",
    "    )\n",
    "\n",
    "# 4. Tabla de recomendaciones (como texto)\n",
    "recomendaciones = {\n",
    "    'Zona Continental': 'Olivos, Almendros, Cereales de invierno',\n",
    "    'Zona Mediterránea': 'Cítricos, Olivos, Hortalizas',\n",
    "    'Zona Atlántica': 'Cereales, Girasol, Ganadería'\n",
    "}\n",
    "\n",
    "# Actualizar layout\n",
    "fig_zonas.update_layout(\n",
    "    title={\n",
    "        'text': \"🗺️ Zonificación Agroclimática de Andalucía\",\n",
    "        'x': 0.5,\n",
    "        'font': {'size': 18, 'color': COLORS_ANDALUCIA['primary']}\n",
    "    },\n",
    "    height=800,\n",
    "    showlegend=True\n",
    ")\n",
    "\n",
    "# Actualizar ejes\n",
    "fig_zonas.update_xaxes(title_text=\"Temperatura Media (°C)\", row=1, col=1)\n",
    "fig_zonas.update_yaxes(title_text=\"Precipitación Media (mm)\", row=1, col=1)\n",
    "fig_zonas.update_xaxes(title_text=\"Grados Día (Base 10°C)\", row=1, col=2)\n",
    "fig_zonas.update_yaxes(title_text=\"Amplitud Térmica (°C)\", row=1, col=2)\n",
    "fig_zonas.update_xaxes(title_text=\"Zona Climática\", row=2, col=1)\n",
    "fig_zonas.update_yaxes(title_text=\"Días por año\", row=2, col=1)\n",
    "\n",
    "fig_zonas.show()\n",
    "\n",
    "# Mostrar clasificación detallada\n",
    "print(\"\\n📋 Clasificación Agroclimática por Provincia:\")\n",
    "clasificacion_df = datos_clima_prov[['PROVINCIA', 'ZONA_NOMBRE', 'TEMP_MEDIA', 'PRCP', \n",
    "                                   'GDD_BASE10', 'EVENTO_OLA_CALOR', 'EVENTO_HELADA']].round(1)\n",
    "clasificacion_df.columns = ['Provincia', 'Zona Climática', 'Temp Media (°C)', \n",
    "                           'Precipitación (mm)', 'GDD Base 10°C', 'Días Calor/año', 'Días Helada/año']\n",
    "display(clasificacion_df)\n",
    "\n",
    "# Recomendaciones por zona\n",
    "print(\"\\n🌱 Recomendaciones de Cultivos por Zona:\")\n",
    "for zona, cultivos in recomendaciones.items():\n",
    "    provincias = datos_clima_prov[datos_clima_prov['ZONA_NOMBRE'] == zona]['PROVINCIA'].tolist()\n",
    "    print(f\"\\n• {zona}:\")\n",
    "    print(f\"  Provincias: {', '.join(provincias)}\")\n",
    "    print(f\"  Cultivos recomendados: {cultivos}\")\n",
    "    \n",
    "    # Características de la zona\n",
    "    zona_data = datos_clima_prov[datos_clima_prov['ZONA_NOMBRE'] == zona]\n",
    "    temp_media = zona_data['TEMP_MEDIA'].mean()\n",
    "    prcp_media = zona_data['PRCP'].mean()\n",
    "    riesgo_calor = zona_data['EVENTO_OLA_CALOR'].mean()\n",
    "    riesgo_helada = zona_data['EVENTO_HELADA'].mean()\n",
    "    \n",
    "    print(f\"  Características: Temp {temp_media:.1f}°C, Precipitación {prcp_media:.1f}mm\")\n",
    "    print(f\"  Riesgos: {riesgo_calor:.0f} días calor/año, {riesgo_helada:.0f} días helada/año\")"
   ]
  },
  {
   "cell_type": "markdown",
   "id": "b205da99",
   "metadata": {},
   "source": [
    "## 7. 📋 Conclusiones y Recomendaciones\n",
    "\n",
    "### 🎯 Principales Hallazgos\n",
    "\n",
    "<div style=\"background-color: #e8f5e8; padding: 20px; border-radius: 10px; border-left: 5px solid #28a745;\">\n",
    "\n",
    "#### **Caracterización Climática:**\n",
    "- **Temperatura media**: Andalucía presenta temperaturas medias entre 17-19°C\n",
    "- **Precipitación**: Patrón mediterráneo con precipitaciones concentradas en otoño-invierno\n",
    "- **Variabilidad espacial**: Gradiente este-oeste con mayor aridez hacia Almería\n",
    "\n",
    "#### **Zonificación Agroclimática:**\n",
    "1. **Zona Continental** (Córdoba): Ideal para cereales de invierno y cultivos tradicionales\n",
    "2. **Zona Mediterránea** (Cádiz, Granada, Huelva, Jaén, Málaga): Óptima para olivicultura y cítricos\n",
    "3. **Zona Atlántica** (Almería): Especializada en agricultura intensiva bajo cubierta\n",
    "\n",
    "#### **Idoneidad por Cultivos:**\n",
    "- **Olivo**: Excelente adaptación en todas las provincias (>73% idoneidad)\n",
    "- **Almendro**: Muy alta idoneidad, especialmente en Córdoba (94.8%)\n",
    "- **Cítricos**: Mejor rendimiento en Granada (90.3%) y Córdoba (89.0%)\n",
    "- **Trigo**: Condiciones favorables en interior (Córdoba: 93.8%)\n",
    "- **Girasol**: Moderada idoneidad, mejor en zonas continentales\n",
    "\n",
    "</div>\n",
    "\n",
    "### ⚠️ Riesgos Climáticos Identificados\n",
    "\n",
    "<div style=\"background-color: #fff3cd; padding: 20px; border-radius: 10px; border-left: 5px solid #ffc107;\">\n",
    "\n",
    "#### **Eventos Extremos por Provincia:**\n",
    "- **Cádiz**: Mayor exposición a olas de calor (113 días/año promedio)\n",
    "- **Granada**: Riesgo significativo de heladas (48 días/año)\n",
    "- **Córdoba**: Calor extremo frecuente (16 días >40°C/año)\n",
    "- **Almería**: Menor riesgo de eventos extremos\n",
    "\n",
    "#### **Tendencias Observadas:**\n",
    "- Incremento en la frecuencia de olas de calor\n",
    "- Variabilidad creciente en precipitaciones\n",
    "- Adaptación necesaria de cultivos tradicionales\n",
    "\n",
    "</div>\n",
    "\n",
    "### 🚀 Recomendaciones Estratégicas\n",
    "\n",
    "<div style=\"background-color: #d1ecf1; padding: 20px; border-radius: 10px; border-left: 5px solid #17a2b8;\">\n",
    "\n",
    "#### **Para Agricultores:**\n",
    "1. **Diversificación de cultivos** según zonificación climática\n",
    "2. **Sistemas de riego eficientes** para gestión de sequías\n",
    "3. **Protección contra heladas** en zonas de interior\n",
    "4. **Calendario agrícola** adaptado a patrones estacionales\n",
    "\n",
    "#### **Para Planificadores:**\n",
    "1. **Zonificación territorial** basada en aptitud climática\n",
    "2. **Infraestructura de riego** en zonas de mayor estrés hídrico\n",
    "3. **Sistemas de alerta temprana** para eventos extremos\n",
    "4. **Investigación en variedades** resistentes al cambio climático\n",
    "\n",
    "#### **Para Investigación:**\n",
    "1. **Monitoreo continuo** de tendencias climáticas\n",
    "2. **Desarrollo de índices** agroclimáticos específicos\n",
    "3. **Modelos predictivos** para planificación agrícola\n",
    "4. **Evaluación de sostenibilidad** de sistemas productivos\n",
    "\n",
    "</div>\n",
    "\n",
    "---\n",
    "\n",
    "### 📊 Resumen Ejecutivo\n",
    "\n",
    "Andalucía presenta **tres zonas agroclimáticas diferenciadas** con potencial específico para diferentes cultivos. La región muestra **alta idoneidad para cultivos mediterráneos tradicionales** como olivo y almendro, pero requiere **adaptación estratégica** para enfrentar los riesgos climáticos crecientes.\n",
    "\n",
    "**La zonificación propuesta permite optimizar la productividad agrícola** mediante la selección de cultivos adaptados a las condiciones locales, mientras que **las estrategias de mitigación de riesgos** aseguran la sostenibilidad a largo plazo del sector agrario andaluz."
   ]
  },
  {
   "cell_type": "code",
   "execution_count": 14,
   "id": "a05d9adb",
   "metadata": {},
   "outputs": [
    {
     "name": "stdout",
     "output_type": "stream",
     "text": [
      "📊 RESUMEN EJECUTIVO - EDA CLIMÁTICO ANDALUCÍA\n",
      "============================================================\n",
      "\n",
      "📈 COBERTURA DE DATOS:\n",
      "   • Período analizado: 1920 - 2025\n",
      "   • Total de registros: 304,970\n",
      "   • Estaciones meteorológicas: 14\n",
      "   • Provincias cubiertas: 7\n",
      "\n",
      "🌡️ CARACTERÍSTICAS CLIMÁTICAS:\n",
      "   • Temperatura media regional: 18.1°C\n",
      "   • Rango térmico: -14.2°C a 47.2°C\n",
      "   • Precipitación media anual: 3729 mm\n",
      "   • Grados día promedio (base 10°C): 17\n",
      "\n",
      "⚠️ RIESGOS CLIMÁTICOS (promedio anual):\n",
      "   • Días con olas de calor: 204\n",
      "   • Días con heladas: 49\n",
      "   • Días con lluvia intensa: 49\n",
      "\n",
      "🌾 IDONEIDAD AGRÍCOLA (promedio regional):\n",
      "   • Olivo: 84.7% (máximo en Córdoba: 94.3%)\n",
      "   • Trigo: 84.8% (máximo en Córdoba: 93.8%)\n",
      "   • Girasol: 69.3% (máximo en Córdoba: 77.4%)\n",
      "   • Citricos: 82.5% (máximo en Granada: 90.3%)\n",
      "   • Almendro: 87.2% (máximo en Córdoba: 94.8%)\n",
      "\n",
      "✅ CALIDAD DEL ANÁLISIS:\n",
      "   • Cobertura de datos de temperatura: 91.0%\n",
      "   • Cobertura de datos de precipitación: 89.5%\n",
      "   • Zonas climáticas identificadas: 3\n",
      "   • Cultivos evaluados: 5\n",
      "\n",
      "🎯 IMPACTO POTENCIAL:\n",
      "   • Superficie agrícola optimizable: ~87,268 km² (Andalucía)\n",
      "   • Sectores beneficiados: Agricultura, Planificación territorial, Investigación\n",
      "   • Aplicabilidad: Inmediata para toma de decisiones agrícolas\n",
      "\n",
      "============================================================\n",
      "📋 EDA COMPLETADO CON ÉXITO\n",
      "🔗 Resultados disponibles para implementación inmediata\n",
      "📧 Recomendaciones listas para stakeholders\n"
     ]
    }
   ],
   "source": [
    "### 7.1 Métricas Clave del Análisis\n",
    "\n",
    "print(\"📊 RESUMEN EJECUTIVO - EDA CLIMÁTICO ANDALUCÍA\")\n",
    "print(\"=\" * 60)\n",
    "\n",
    "# Métricas generales del dataset\n",
    "print(f\"\\n📈 COBERTURA DE DATOS:\")\n",
    "print(f\"   • Período analizado: {andalucia_df['AÑO'].min()} - {andalucia_df['AÑO'].max()}\")\n",
    "print(f\"   • Total de registros: {len(andalucia_df):,}\")\n",
    "print(f\"   • Estaciones meteorológicas: {andalucia_df['STATION'].nunique()}\")\n",
    "print(f\"   • Provincias cubiertas: {andalucia_df['PROVINCIA'].nunique()}\")\n",
    "\n",
    "# Métricas climáticas clave\n",
    "print(f\"\\n🌡️ CARACTERÍSTICAS CLIMÁTICAS:\")\n",
    "print(f\"   • Temperatura media regional: {andalucia_df['TEMP_MEDIA'].mean():.1f}°C\")\n",
    "print(f\"   • Rango térmico: {andalucia_df['TMIN'].min():.1f}°C a {andalucia_df['TMAX'].max():.1f}°C\")\n",
    "print(f\"   • Precipitación media anual: {andalucia_df.groupby('AÑO')['PRCP'].sum().mean():.0f} mm\")\n",
    "print(f\"   • Grados día promedio (base 10°C): {andalucia_df['GDD_BASE10'].mean():.0f}\")\n",
    "\n",
    "# Métricas de eventos extremos\n",
    "eventos_totales = andalucia_df.groupby('AÑO').agg({\n",
    "    'EVENTO_OLA_CALOR': 'sum',\n",
    "    'EVENTO_HELADA': 'sum',\n",
    "    'EVENTO_LLUVIA_INTENSA': 'sum'\n",
    "}).mean()\n",
    "\n",
    "print(f\"\\n⚠️ RIESGOS CLIMÁTICOS (promedio anual):\")\n",
    "print(f\"   • Días con olas de calor: {eventos_totales['EVENTO_OLA_CALOR']:.0f}\")\n",
    "print(f\"   • Días con heladas: {eventos_totales['EVENTO_HELADA']:.0f}\")\n",
    "print(f\"   • Días con lluvia intensa: {eventos_totales['EVENTO_LLUVIA_INTENSA']:.0f}\")\n",
    "\n",
    "# Métricas de idoneidad agrícola\n",
    "print(f\"\\n🌾 IDONEIDAD AGRÍCOLA (promedio regional):\")\n",
    "for cultivo, scores in resultados_cultivos.items():\n",
    "    promedio = scores.mean()\n",
    "    provincia_mejor = scores.idxmax()\n",
    "    score_mejor = scores.max()\n",
    "    print(f\"   • {cultivo}: {promedio:.1f}% (máximo en {provincia_mejor}: {score_mejor:.1f}%)\")\n",
    "\n",
    "# Calidad del análisis\n",
    "cobertura_temp = (andalucia_df['TMAX'].notna().sum() / len(andalucia_df)) * 100\n",
    "cobertura_prcp = (andalucia_df['PRCP'].notna().sum() / len(andalucia_df)) * 100\n",
    "\n",
    "print(f\"\\n✅ CALIDAD DEL ANÁLISIS:\")\n",
    "print(f\"   • Cobertura de datos de temperatura: {cobertura_temp:.1f}%\")\n",
    "print(f\"   • Cobertura de datos de precipitación: {cobertura_prcp:.1f}%\")\n",
    "print(f\"   • Zonas climáticas identificadas: 3\")\n",
    "print(f\"   • Cultivos evaluados: 5\")\n",
    "\n",
    "print(f\"\\n🎯 IMPACTO POTENCIAL:\")\n",
    "print(f\"   • Superficie agrícola optimizable: ~87,268 km² (Andalucía)\")\n",
    "print(f\"   • Sectores beneficiados: Agricultura, Planificación territorial, Investigación\")\n",
    "print(f\"   • Aplicabilidad: Inmediata para toma de decisiones agrícolas\")\n",
    "\n",
    "print(\"\\n\" + \"=\"*60)\n",
    "print(\"📋 EDA COMPLETADO CON ÉXITO\")\n",
    "print(\"🔗 Resultados disponibles para implementación inmediata\")\n",
    "print(\"📧 Recomendaciones listas para stakeholders\")"
   ]
  }
 ],
 "metadata": {
  "kernelspec": {
   "display_name": "Python 3",
   "language": "python",
   "name": "python3"
  },
  "language_info": {
   "codemirror_mode": {
    "name": "ipython",
    "version": 3
   },
   "file_extension": ".py",
   "mimetype": "text/x-python",
   "name": "python",
   "nbconvert_exporter": "python",
   "pygments_lexer": "ipython3",
   "version": "3.12.10"
  }
 },
 "nbformat": 4,
 "nbformat_minor": 5
}
